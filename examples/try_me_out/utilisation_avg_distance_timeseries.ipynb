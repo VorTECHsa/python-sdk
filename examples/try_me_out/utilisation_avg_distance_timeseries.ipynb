{
 "cells": [
  {
   "cell_type": "markdown",
   "metadata": {},
   "source": [
    "### Try out the VortexaSDK"
   ]
  },
  {
   "cell_type": "markdown",
   "metadata": {},
   "source": [
    "First let's import our requirements"
   ]
  },
  {
   "cell_type": "code",
   "execution_count": null,
   "metadata": {
    "execution": {
     "iopub.execute_input": "2021-07-12T13:46:20.907741Z",
     "iopub.status.busy": "2021-07-12T13:46:20.906753Z",
     "iopub.status.idle": "2021-07-12T13:46:21.377023Z",
     "shell.execute_reply": "2021-07-12T13:46:21.377446Z"
    },
    "tags": []
   },
   "outputs": [],
   "source": [
    "from datetime import datetime\n",
    "import vortexasdk as v"
   ]
  },
  {
   "cell_type": "markdown",
   "metadata": {},
   "source": [
    "Average distance traveled per day, by laden vessels between Middle East and China, in nautical miles."
   ]
  },
  {
   "cell_type": "markdown",
   "metadata": {},
   "source": [
    "You'll need to enter your Vortexa API key when prompted."
   ]
  },
  {
   "cell_type": "code",
   "execution_count": null,
   "metadata": {
    "execution": {
     "iopub.execute_input": "2021-07-12T13:46:21.382341Z",
     "iopub.status.busy": "2021-07-12T13:46:21.381651Z",
     "iopub.status.idle": "2021-07-12T13:46:23.715127Z",
     "shell.execute_reply": "2021-07-12T13:46:23.715698Z"
    },
    "tags": []
   },
   "outputs": [],
   "source": [
    "df = v.FleetUtilisationAvgDistanceTimeseries().search(\n",
    "    filter_vessel_status=\"vessel_status_laden_known\",\n",
    "    filter_time_min=datetime(2021, 1, 11),\n",
    "    filter_time_max=datetime(2021, 1, 18),\n",
    "    filter_origins=\"80aa9e4f3014c3d96559c8e642157edbb2b684ea0144ed76cd20b3af75110877\",\n",
    "    filter_destinations=\"934c47f36c16a58d68ef5e007e62a23f5f036ee3f3d1f5f85a48c572b90ad8b2\",\n",
    "    timeseries_property=\"quantity\",\n",
    "    timeseries_frequency=\"day\",\n",
    "    timeseries_unit=\"nmi\"\n",
    ").to_df()"
   ]
  },
  {
   "cell_type": "code",
   "execution_count": null,
   "metadata": {
    "execution": {
     "iopub.execute_input": "2021-07-12T13:46:23.726032Z",
     "iopub.status.busy": "2021-07-12T13:46:23.725142Z",
     "iopub.status.idle": "2021-07-12T13:46:23.737215Z",
     "shell.execute_reply": "2021-07-12T13:46:23.737777Z"
    },
    "tags": []
   },
   "outputs": [],
   "source": [
    "df.head()"
   ]
  },
  {
   "cell_type": "markdown",
   "metadata": {},
   "source": [
    "That's it! You've successfully loaded data using the Vortexa SDK. Check out https://vortechsa.github.io/python-sdk/ for more examples"
   ]
  }
 ],
 "metadata": {
  "interpreter": {
   "hash": "d0a480ee27f8d5367d468be4cf8e618aff62fff37975ed624adc4f23b43958cc"
  },
  "kernelspec": {
   "display_name": "Python 3.7.6 64-bit ('base': conda)",
   "name": "python3"
  },
  "language_info": {
   "codemirror_mode": {
    "name": "ipython",
    "version": 3
   },
   "file_extension": ".py",
   "mimetype": "text/x-python",
   "name": "python",
   "nbconvert_exporter": "python",
   "pygments_lexer": "ipython3",
   "version": "3.7.6"
  }
 },
 "nbformat": 4,
 "nbformat_minor": 4
}
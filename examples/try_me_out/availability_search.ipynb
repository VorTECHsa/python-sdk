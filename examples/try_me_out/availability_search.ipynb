{
 "cells": [
  {
   "cell_type": "markdown",
   "metadata": {},
   "source": [
    "### Try out the VortexaSDK"
   ]
  },
  {
   "cell_type": "markdown",
   "metadata": {},
   "source": [
    "First let's import our requirements"
   ]
  },
  {
   "cell_type": "code",
   "execution_count": null,
   "metadata": {
    "execution": {
     "iopub.execute_input": "2021-07-12T13:17:52.209147Z",
     "iopub.status.busy": "2021-07-12T13:17:52.208226Z",
     "iopub.status.idle": "2021-07-12T13:17:52.721015Z",
     "shell.execute_reply": "2021-07-12T13:17:52.721444Z"
    },
    "tags": []
   },
   "outputs": [],
   "source": [
    "import vortexasdk as v"
   ]
  },
  {
   "cell_type": "markdown",
   "metadata": {},
   "source": [
    "Now let's look at the top 25 available vessels arriving at Rotterdam port in the next 35 days."
   ]
  },
  {
   "cell_type": "markdown",
   "metadata": {},
   "source": [
    "You'll need to enter your Vortexa API key when prompted."
   ]
  },
  {
   "cell_type": "code",
   "execution_count": null,
   "metadata": {
    "execution": {
     "iopub.execute_input": "2021-07-12T13:17:52.725793Z",
     "iopub.status.busy": "2021-07-12T13:17:52.725123Z",
     "iopub.status.idle": "2021-07-12T13:18:24.158451Z",
     "shell.execute_reply": "2021-07-12T13:18:24.159091Z"
    },
    "tags": []
   },
   "outputs": [],
   "source": [
    "df = v.VesselAvailabilitySearch().search(\n",
    "    filter_port='1b79e18416d358d7e07b978abcab3f17e2ca75085a6d70ce1811cf4eaeaea886',\n",
    "    filter_days_to_arrival={\"min\": 1,\"max\": 5},\n",
    "    order='days_to_arrival',\n",
    "    order_direction=\"asc\"\n",
    ").to_df()"
   ]
  },
  {
   "cell_type": "code",
   "execution_count": null,
   "metadata": {
    "execution": {
     "iopub.execute_input": "2021-07-12T13:18:24.171120Z",
     "iopub.status.busy": "2021-07-12T13:18:24.170428Z",
     "iopub.status.idle": "2021-07-12T13:18:24.190420Z",
     "shell.execute_reply": "2021-07-12T13:18:24.190918Z"
    },
    "tags": []
   },
   "outputs": [],
   "source": [
    "df.head(25)"
   ]
  },
  {
   "cell_type": "markdown",
   "metadata": {},
   "source": [
    "That's it! You've successfully loaded data using the Vortexa SDK. Check out https://vortechsa.github.io/python-sdk/ for more examples"
   ]
  }
 ],
 "metadata": {
  "kernelspec": {
   "display_name": "Python 3",
   "language": "python",
   "name": "python3"
  },
  "language_info": {
   "codemirror_mode": {
    "name": "ipython",
    "version": 3
   },
   "file_extension": ".py",
   "mimetype": "text/x-python",
   "name": "python",
   "nbconvert_exporter": "python",
   "pygments_lexer": "ipython3",
   "version": "3.7.6"
  }
 },
 "nbformat": 4,
 "nbformat_minor": 4
}

{
 "cells": [
  {
   "cell_type": "markdown",
   "metadata": {},
   "source": [
    "### Try out the VortexaSDK"
   ]
  },
  {
   "cell_type": "markdown",
   "metadata": {},
   "source": [
    "First let's import our requirements"
   ]
  },
  {
   "cell_type": "code",
   "execution_count": null,
   "metadata": {
    "execution": {
     "iopub.execute_input": "2021-07-12T13:41:45.905037Z",
     "iopub.status.busy": "2021-07-12T13:41:45.904248Z",
     "iopub.status.idle": "2021-07-12T13:41:46.391525Z",
     "shell.execute_reply": "2021-07-12T13:41:46.391934Z"
    },
    "tags": []
   },
   "outputs": [],
   "source": [
    "from datetime import datetime\n",
    "import vortexasdk as v"
   ]
  },
  {
   "cell_type": "markdown",
   "metadata": {},
   "source": [
    "Ton days supply (ballast) of vessels originating from the Middle East by daily frequency over the last 7 days, by `origin_country` breakdown."
   ]
  },
  {
   "cell_type": "markdown",
   "metadata": {},
   "source": [
    "You'll need to enter your Vortexa API key when prompted."
   ]
  },
  {
   "cell_type": "code",
   "execution_count": null,
   "metadata": {
    "execution": {
     "iopub.execute_input": "2021-07-12T13:41:46.396537Z",
     "iopub.status.busy": "2021-07-12T13:41:46.395676Z",
     "iopub.status.idle": "2021-07-12T13:41:53.694096Z",
     "shell.execute_reply": "2021-07-12T13:41:53.694478Z"
    },
    "tags": []
   },
   "outputs": [],
   "source": [
    "df = v.FleetUtilisationCapacityTimeseries().search(\n",
    "    filter_vessel_status=\"vessel_status_ballast\",\n",
    "    filter_time_min=datetime(2021, 1, 11),\n",
    "    filter_time_max=datetime(2021, 1, 18),\n",
    "    timeseries_frequency=\"day\",\n",
    "    filter_origins=\"80aa9e4f3014c3d96559c8e642157edbb2b684ea0144ed76cd20b3af75110877\",\n",
    "    timeseries_property=\"origin_country\"\n",
    ").to_df()"
   ]
  },
  {
   "cell_type": "code",
   "execution_count": null,
   "metadata": {
    "execution": {
     "iopub.execute_input": "2021-07-12T13:41:53.703616Z",
     "iopub.status.busy": "2021-07-12T13:41:53.702979Z",
     "iopub.status.idle": "2021-07-12T13:41:53.711912Z",
     "shell.execute_reply": "2021-07-12T13:41:53.712312Z"
    },
    "tags": []
   },
   "outputs": [],
   "source": [
    "df.head()"
   ]
  },
  {
   "cell_type": "markdown",
   "metadata": {},
   "source": [
    "That's it! You've successfully loaded data using the Vortexa SDK. Check out https://vortechsa.github.io/python-sdk/ for more examples"
   ]
  }
 ],
 "metadata": {
  "interpreter": {
   "hash": "d0a480ee27f8d5367d468be4cf8e618aff62fff37975ed624adc4f23b43958cc"
  },
  "kernelspec": {
   "display_name": "Python 3.7.6 64-bit ('base': conda)",
   "name": "python3"
  },
  "language_info": {
   "codemirror_mode": {
    "name": "ipython",
    "version": 3
   },
   "file_extension": ".py",
   "mimetype": "text/x-python",
   "name": "python",
   "nbconvert_exporter": "python",
   "pygments_lexer": "ipython3",
   "version": "3.7.6"
  }
 },
 "nbformat": 4,
 "nbformat_minor": 4
}

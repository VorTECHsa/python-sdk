{
 "cells": [
  {
   "cell_type": "markdown",
   "metadata": {},
   "source": [
    "### Try out the VortexaSDK"
   ]
  },
  {
   "cell_type": "markdown",
   "metadata": {},
   "source": [
    "First let's import our requirements"
   ]
  },
  {
   "cell_type": "code",
   "execution_count": null,
   "metadata": {
    "execution": {
     "iopub.execute_input": "2021-07-12T13:46:20.907741Z",
     "iopub.status.busy": "2021-07-12T13:46:20.906753Z",
     "iopub.status.idle": "2021-07-12T13:46:21.377023Z",
     "shell.execute_reply": "2021-07-12T13:46:21.377446Z"
    },
    "tags": []
   },
   "outputs": [],
   "source": [
    "from datetime import datetime\n",
    "import vortexasdk as v"
   ]
  },
  {
   "cell_type": "markdown",
   "metadata": {},
   "source": [
    "Average daily WS rate for the TD3C route between 1st and 15th November 2021."
   ]
  },
  {
   "cell_type": "markdown",
   "metadata": {},
   "source": [
    "You'll need to enter your Vortexa API key when prompted."
   ]
  },
  {
   "cell_type": "code",
   "execution_count": null,
   "metadata": {
    "execution": {
     "iopub.execute_input": "2021-07-12T13:46:21.382341Z",
     "iopub.status.busy": "2021-07-12T13:46:21.381651Z",
     "iopub.status.idle": "2021-07-12T13:46:23.715127Z",
     "shell.execute_reply": "2021-07-12T13:46:23.715698Z"
    },
    "tags": []
   },
   "outputs": [],
   "source": [
    "df = v.FreightPricingTimeseries().search(\n",
    "    routes=[\"TD3C\"],\n",
    "    time_min=datetime(2021, 11, 1),\n",
    "    time_max=datetime(2021, 11, 15),\n",
    "    breakdown_frequency=\"day\",\n",
    "    breakdown_property=\"rate\"\n",
    ").to_df()"
   ]
  },
  {
   "cell_type": "code",
   "execution_count": null,
   "metadata": {
    "execution": {
     "iopub.execute_input": "2021-07-12T13:46:23.726032Z",
     "iopub.status.busy": "2021-07-12T13:46:23.725142Z",
     "iopub.status.idle": "2021-07-12T13:46:23.737215Z",
     "shell.execute_reply": "2021-07-12T13:46:23.737777Z"
    },
    "tags": []
   },
   "outputs": [],
   "source": [
    "df.head()"
   ]
  },
  {
   "cell_type": "markdown",
   "metadata": {},
   "source": [
    "That's it! You've successfully loaded data using the Vortexa SDK. Check out https://vortechsa.github.io/python-sdk/ for more examples"
   ]
  }
 ],
 "metadata": {
  "interpreter": {
   "hash": "d0a480ee27f8d5367d468be4cf8e618aff62fff37975ed624adc4f23b43958cc"
  },
  "kernelspec": {
   "display_name": "Python 3.7.6 64-bit ('base': conda)",
   "name": "python3"
  },
  "language_info": {
   "codemirror_mode": {
    "name": "ipython",
    "version": 3
   },
   "file_extension": ".py",
   "mimetype": "text/x-python",
   "name": "python",
   "nbconvert_exporter": "python",
   "pygments_lexer": "ipython3",
   "version": "3.7.6"
  }
 },
 "nbformat": 4,
 "nbformat_minor": 4
}

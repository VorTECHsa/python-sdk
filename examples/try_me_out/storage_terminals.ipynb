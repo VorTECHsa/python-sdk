{
 "cells": [
  {
   "cell_type": "markdown",
   "metadata": {},
   "source": [
    "### Try out the Vortexa SDK"
   ]
  },
  {
   "cell_type": "markdown",
   "metadata": {},
   "source": [
    "First, let's import our requirements"
   ]
  },
  {
   "cell_type": "code",
   "execution_count": null,
   "metadata": {
    "execution": {
     "iopub.execute_input": "2021-09-10T10:44:20.222873Z",
     "iopub.status.busy": "2021-09-10T10:44:20.222051Z",
     "iopub.status.idle": "2021-09-10T10:44:20.698988Z",
     "shell.execute_reply": "2021-09-10T10:44:20.699487Z"
    }
   },
   "outputs": [],
   "source": [
    "from datetime import datetime\n",
    "from vortexasdk import StorageTerminals"
   ]
  },
  {
   "cell_type": "markdown",
   "metadata": {},
   "source": [
    "You'll need to enter your Vortexa API key when prompted"
   ]
  },
  {
   "cell_type": "code",
   "execution_count": null,
   "metadata": {
    "execution": {
     "iopub.execute_input": "2021-09-10T10:44:20.704842Z",
     "iopub.status.busy": "2021-09-10T10:44:20.703661Z",
     "iopub.status.idle": "2021-09-10T10:44:22.844051Z",
     "shell.execute_reply": "2021-09-10T10:44:22.844421Z"
    }
   },
   "outputs": [],
   "source": [
    "df = StorageTerminals().load_all().to_df()\n",
    "df.head()"
   ]
  },
  {
   "cell_type": "markdown",
   "metadata": {},
   "source": [
    "\n",
    "\n",
    "That's it! You've successfully loaded data using the Vortexa SDK and should see a list of results. Check out https://vortechsa.github.io/python-sdk/ for more examples"
   ]
  }
 ],
 "metadata": {
  "language_info": {
   "codemirror_mode": {
    "name": "ipython",
    "version": 3
   },
   "file_extension": ".py",
   "mimetype": "text/x-python",
   "name": "python",
   "nbconvert_exporter": "python",
   "pygments_lexer": "ipython3",
   "version": "3.8.11"
  }
 },
 "nbformat": 4,
 "nbformat_minor": 2
}

{
 "cells": [
  {
   "cell_type": "markdown",
   "metadata": {},
   "source": [
    "# Module 7\n",
    "\n",
    "## Video 31: Floating Storage\n",
    "**Python for the Energy Industry**\n",
    "\n",
    "One use of the CargoTimeSeries endpoint is to study how floating storage levels change over time. We start with our usual setup:\n",
    "\n",
    "[Cargo Time Series documentation.](https://vortechsa.github.io/python-sdk/endpoints/cargo_timeseries/)\n"
   ]
  },
  {
   "cell_type": "code",
   "execution_count": 1,
   "metadata": {},
   "outputs": [],
   "source": [
    "# initial imports\n",
    "import pandas as pd\n",
    "import numpy as np\n",
    "from datetime import datetime\n",
    "from dateutil.relativedelta import relativedelta\n",
    "import vortexasdk as v\n",
    "\n",
    "# The cargo unit for the time series (barrels)\n",
    "TS_UNIT = 'b'\n",
    "\n",
    "# The granularity of the time series\n",
    "TS_FREQ = 'day'\n",
    "\n",
    "# datetimes to access last 7 weeks of data\n",
    "now = datetime.utcnow()\n",
    "seven_weeks_ago = now - relativedelta(weeks=7)"
   ]
  },
  {
   "cell_type": "markdown",
   "metadata": {},
   "source": [
    "Let's look at how global levels of floating storage of crude have varied over the last 7 weeks. There will be enough data to look at variation on a daily basis. We also add a requirement to only include floating storage that lasted longer than 14 days."
   ]
  },
  {
   "cell_type": "code",
   "execution_count": 2,
   "metadata": {},
   "outputs": [],
   "source": [
    "# Find crude ID\n",
    "crude = [p.id for p in v.Products().search('crude').to_list() if p.name=='Crude']\n",
    "assert len(crude) == 1\n",
    "\n",
    "search_result = v.CargoTimeSeries().search(\n",
    "    timeseries_frequency=TS_FREQ,\n",
    "    timeseries_unit=TS_UNIT,\n",
    "    filter_products=crude,\n",
    "    filter_time_min=seven_weeks_ago,\n",
    "    filter_time_max=now,\n",
    "    # Filter for cargo in floating storage\n",
    "    filter_activity=\"storing_state\",\n",
    "    # Only get floating storage that lasted longer than 21 days\n",
    "    timeseries_activity_time_span_min=1000 * 60 * 60 * 24 * 14,\n",
    ")\n",
    "\n",
    "df_floating_storage = search_result.to_df()\n",
    "\n",
    "df_floating_storage = df_floating_storage.rename(columns = {'key': 'date', 'value': 'barrels'})"
   ]
  },
  {
   "cell_type": "code",
   "execution_count": 3,
   "metadata": {},
   "outputs": [
    {
     "data": {
      "text/html": [
       "<div>\n",
       "<style scoped>\n",
       "    .dataframe tbody tr th:only-of-type {\n",
       "        vertical-align: middle;\n",
       "    }\n",
       "\n",
       "    .dataframe tbody tr th {\n",
       "        vertical-align: top;\n",
       "    }\n",
       "\n",
       "    .dataframe thead th {\n",
       "        text-align: right;\n",
       "    }\n",
       "</style>\n",
       "<table border=\"1\" class=\"dataframe\">\n",
       "  <thead>\n",
       "    <tr style=\"text-align: right;\">\n",
       "      <th></th>\n",
       "      <th>date</th>\n",
       "      <th>barrels</th>\n",
       "      <th>count</th>\n",
       "    </tr>\n",
       "  </thead>\n",
       "  <tbody>\n",
       "    <tr>\n",
       "      <th>0</th>\n",
       "      <td>2020-10-23 00:00:00+00:00</td>\n",
       "      <td>53304491</td>\n",
       "      <td>91</td>\n",
       "    </tr>\n",
       "    <tr>\n",
       "      <th>1</th>\n",
       "      <td>2020-10-24 00:00:00+00:00</td>\n",
       "      <td>55202620</td>\n",
       "      <td>93</td>\n",
       "    </tr>\n",
       "    <tr>\n",
       "      <th>2</th>\n",
       "      <td>2020-10-25 00:00:00+00:00</td>\n",
       "      <td>57537192</td>\n",
       "      <td>96</td>\n",
       "    </tr>\n",
       "    <tr>\n",
       "      <th>3</th>\n",
       "      <td>2020-10-26 00:00:00+00:00</td>\n",
       "      <td>61365496</td>\n",
       "      <td>99</td>\n",
       "    </tr>\n",
       "    <tr>\n",
       "      <th>4</th>\n",
       "      <td>2020-10-27 00:00:00+00:00</td>\n",
       "      <td>66680069</td>\n",
       "      <td>111</td>\n",
       "    </tr>\n",
       "  </tbody>\n",
       "</table>\n",
       "</div>"
      ],
      "text/plain": [
       "                       date   barrels  count\n",
       "0 2020-10-23 00:00:00+00:00  53304491     91\n",
       "1 2020-10-24 00:00:00+00:00  55202620     93\n",
       "2 2020-10-25 00:00:00+00:00  57537192     96\n",
       "3 2020-10-26 00:00:00+00:00  61365496     99\n",
       "4 2020-10-27 00:00:00+00:00  66680069    111"
      ]
     },
     "execution_count": 3,
     "metadata": {},
     "output_type": "execute_result"
    }
   ],
   "source": [
    "df_floating_storage.head()"
   ]
  },
  {
   "cell_type": "markdown",
   "metadata": {},
   "source": [
    "We can make a plot of how the total quantity in barrels varies over time:"
   ]
  },
  {
   "cell_type": "code",
   "execution_count": 4,
   "metadata": {},
   "outputs": [
    {
     "data": {
      "text/plain": [
       "Text(0, 0.5, 'floating storage (barrels)')"
      ]
     },
     "execution_count": 4,
     "metadata": {},
     "output_type": "execute_result"
    },
    {
     "data": {
      "image/png": "[encoded data removed]",
      "text/plain": [
       "<Figure size 576x288 with 1 Axes>"
      ]
     },
     "metadata": {
      "needs_background": "light"
     },
     "output_type": "display_data"
    }
   ],
   "source": [
    "ax = df_floating_storage.plot(x='date',y='barrels',legend=False,figsize=(8,4))\n",
    "ax.set_ylabel('floating storage (barrels)')"
   ]
  },
  {
   "cell_type": "markdown",
   "metadata": {},
   "source": [
    "Let's say we now want to compare the time variation of floating storage of each category of crude. To do this, we can loop over each category and do a separate search that filters on that category only.\n",
    "\n",
    "To start, we get the IDs of each category of crude:"
   ]
  },
  {
   "cell_type": "code",
   "execution_count": 5,
   "metadata": {},
   "outputs": [],
   "source": [
    "medium_sour = [p.id for p in v.Products().search('medium-sour').to_list() if p.name=='Medium-Sour']\n",
    "light_sour = [p.id for p in v.Products().search('light-sour').to_list() if p.name=='Light-Sour']\n",
    "heavy_sour = [p.id for p in v.Products().search('heavy-sour').to_list() if p.name=='Heavy-Sour']\n",
    "medium_sweet = [p.id for p in v.Products().search('medium-sweet').to_list() if p.name=='Medium-Sweet']\n",
    "light_sweet = [p.id for p in v.Products().search('light-sweet').to_list() if p.name=='Light-Sweet']\n",
    "heavy_sweet = [p.id for p in v.Products().search('heavy-sweet').to_list() if p.name=='Heavy-Sweet']\n",
    "\n",
    "assert len(medium_sour) == 1\n",
    "assert len(light_sour) == 1\n",
    "assert len(heavy_sour) == 1\n",
    "assert len(medium_sweet) == 1\n",
    "assert len(light_sweet) == 1\n",
    "assert len(heavy_sweet) == 1"
   ]
  },
  {
   "cell_type": "markdown",
   "metadata": {},
   "source": [
    "To make these more convenient to work with, we make a dictionary for the ID of each category:"
   ]
  },
  {
   "cell_type": "code",
   "execution_count": 6,
   "metadata": {},
   "outputs": [],
   "source": [
    "crude_dict = {\n",
    "    'medium-sour': medium_sour[0],\n",
    "    'light-sour': light_sour[0],\n",
    "    'heavy-sour': heavy_sour[0],\n",
    "    'medium-sweet': medium_sweet[0],\n",
    "    'light-sweet': light_sweet[0],\n",
    "    'heavy-sweet': heavy_sweet[0],\n",
    "}"
   ]
  },
  {
   "cell_type": "markdown",
   "metadata": {},
   "source": [
    "We then do a loop over the categories in the dictionary. For each search, we produce a DataFrame, and then add the `values` column to our `df_floating_storage` DataFrame. "
   ]
  },
  {
   "cell_type": "code",
   "execution_count": 7,
   "metadata": {},
   "outputs": [],
   "source": [
    "for category in crude_dict:\n",
    "    search_result = v.CargoTimeSeries().search(\n",
    "        timeseries_frequency=TS_FREQ,\n",
    "        timeseries_unit=TS_UNIT,\n",
    "        # filter only on one category of crude\n",
    "        filter_products=crude_dict[category],\n",
    "        filter_time_min=seven_weeks_ago,\n",
    "        filter_time_max=now,\n",
    "        # Filter for cargo in floating storage\n",
    "        filter_activity=\"storing_state\",\n",
    "        # Only get floating storage that lasted longer than 21 days\n",
    "        timeseries_activity_time_span_min=1000 * 60 * 60 * 24 * 14,\n",
    "    )\n",
    "\n",
    "    df_cat = search_result.to_df()\n",
    "    df_floating_storage[category] = df_cat['value']"
   ]
  },
  {
   "cell_type": "code",
   "execution_count": 8,
   "metadata": {},
   "outputs": [
    {
     "data": {
      "text/html": [
       "<div>\n",
       "<style scoped>\n",
       "    .dataframe tbody tr th:only-of-type {\n",
       "        vertical-align: middle;\n",
       "    }\n",
       "\n",
       "    .dataframe tbody tr th {\n",
       "        vertical-align: top;\n",
       "    }\n",
       "\n",
       "    .dataframe thead th {\n",
       "        text-align: right;\n",
       "    }\n",
       "</style>\n",
       "<table border=\"1\" class=\"dataframe\">\n",
       "  <thead>\n",
       "    <tr style=\"text-align: right;\">\n",
       "      <th></th>\n",
       "      <th>date</th>\n",
       "      <th>barrels</th>\n",
       "      <th>count</th>\n",
       "      <th>medium-sour</th>\n",
       "      <th>light-sour</th>\n",
       "      <th>heavy-sour</th>\n",
       "      <th>medium-sweet</th>\n",
       "      <th>light-sweet</th>\n",
       "      <th>heavy-sweet</th>\n",
       "    </tr>\n",
       "  </thead>\n",
       "  <tbody>\n",
       "    <tr>\n",
       "      <th>0</th>\n",
       "      <td>2020-10-23 00:00:00+00:00</td>\n",
       "      <td>53304491</td>\n",
       "      <td>91</td>\n",
       "      <td>14332532</td>\n",
       "      <td>4601011</td>\n",
       "      <td>7293267</td>\n",
       "      <td>8883040</td>\n",
       "      <td>3490263</td>\n",
       "      <td>2882745</td>\n",
       "    </tr>\n",
       "    <tr>\n",
       "      <th>1</th>\n",
       "      <td>2020-10-24 00:00:00+00:00</td>\n",
       "      <td>55202620</td>\n",
       "      <td>93</td>\n",
       "      <td>16219906</td>\n",
       "      <td>4601011</td>\n",
       "      <td>7293267</td>\n",
       "      <td>8883040</td>\n",
       "      <td>3490263</td>\n",
       "      <td>2882745</td>\n",
       "    </tr>\n",
       "    <tr>\n",
       "      <th>2</th>\n",
       "      <td>2020-10-25 00:00:00+00:00</td>\n",
       "      <td>57537192</td>\n",
       "      <td>96</td>\n",
       "      <td>18554478</td>\n",
       "      <td>4601011</td>\n",
       "      <td>7293267</td>\n",
       "      <td>8883040</td>\n",
       "      <td>3490263</td>\n",
       "      <td>2882745</td>\n",
       "    </tr>\n",
       "    <tr>\n",
       "      <th>3</th>\n",
       "      <td>2020-10-26 00:00:00+00:00</td>\n",
       "      <td>61365496</td>\n",
       "      <td>99</td>\n",
       "      <td>19194792</td>\n",
       "      <td>5177106</td>\n",
       "      <td>7293267</td>\n",
       "      <td>9206921</td>\n",
       "      <td>2582243</td>\n",
       "      <td>3778060</td>\n",
       "    </tr>\n",
       "    <tr>\n",
       "      <th>4</th>\n",
       "      <td>2020-10-27 00:00:00+00:00</td>\n",
       "      <td>66680069</td>\n",
       "      <td>111</td>\n",
       "      <td>21153328</td>\n",
       "      <td>5177106</td>\n",
       "      <td>7044890</td>\n",
       "      <td>11727554</td>\n",
       "      <td>3848509</td>\n",
       "      <td>3778060</td>\n",
       "    </tr>\n",
       "  </tbody>\n",
       "</table>\n",
       "</div>"
      ],
      "text/plain": [
       "                       date   barrels  count  medium-sour  light-sour  \\\n",
       "0 2020-10-23 00:00:00+00:00  53304491     91     14332532     4601011   \n",
       "1 2020-10-24 00:00:00+00:00  55202620     93     16219906     4601011   \n",
       "2 2020-10-25 00:00:00+00:00  57537192     96     18554478     4601011   \n",
       "3 2020-10-26 00:00:00+00:00  61365496     99     19194792     5177106   \n",
       "4 2020-10-27 00:00:00+00:00  66680069    111     21153328     5177106   \n",
       "\n",
       "   heavy-sour  medium-sweet  light-sweet  heavy-sweet  \n",
       "0     7293267       8883040      3490263      2882745  \n",
       "1     7293267       8883040      3490263      2882745  \n",
       "2     7293267       8883040      3490263      2882745  \n",
       "3     7293267       9206921      2582243      3778060  \n",
       "4     7044890      11727554      3848509      3778060  "
      ]
     },
     "execution_count": 8,
     "metadata": {},
     "output_type": "execute_result"
    }
   ],
   "source": [
    "df_floating_storage.head()"
   ]
  },
  {
   "cell_type": "markdown",
   "metadata": {},
   "source": [
    "We now have the data we need to make a plot comparing each of these categories:"
   ]
  },
  {
   "cell_type": "code",
   "execution_count": 9,
   "metadata": {
    "scrolled": true
   },
   "outputs": [
    {
     "data": {
      "text/plain": [
       "Text(0, 0.5, 'floating storage (barrels)')"
      ]
     },
     "execution_count": 9,
     "metadata": {},
     "output_type": "execute_result"
    },
    {
     "data": {
      "image/png": "[encoded data removed]",
      "text/plain": [
       "<Figure size 576x288 with 1 Axes>"
      ]
     },
     "metadata": {
      "needs_background": "light"
     },
     "output_type": "display_data"
    }
   ],
   "source": [
    "ax = df_floating_storage.plot(x='date',y=list(crude_dict.keys()),figsize=(8,4))\n",
    "ax.set_ylabel('floating storage (barrels)')"
   ]
  },
  {
   "cell_type": "markdown",
   "metadata": {},
   "source": [
    "### Exercise\n",
    "\n",
    "Compare and plot the floating storage of crude in different geographic regions over the last 7 weeks."
   ]
  },
  {
   "cell_type": "code",
   "execution_count": null,
   "metadata": {},
   "outputs": [],
   "source": []
  }
 ],
 "metadata": {
  "kernelspec": {
   "display_name": "Python 3",
   "language": "python",
   "name": "python3"
  },
  "language_info": {
   "codemirror_mode": {
    "name": "ipython",
    "version": 3
   },
   "file_extension": ".py",
   "mimetype": "text/x-python",
   "name": "python",
   "nbconvert_exporter": "python",
   "pygments_lexer": "ipython3",
   "version": "3.7.9"
  }
 },
 "nbformat": 4,
 "nbformat_minor": 4
}

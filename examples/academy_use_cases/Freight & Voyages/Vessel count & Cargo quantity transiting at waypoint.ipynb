{
 "cells": [
  {
   "cell_type": "markdown",
   "id": "99d342b2",
   "metadata": {},
   "source": [
    "## Vessels Count & Cargo Quantity transiting waypoint\n",
    "\n",
    "This notebook aims to provide vessels transiting list at certain waypoint/polygons with the uses of VoyageSearchEnriched endpoint. It provides the information such as entry date, exit date of the waypoint, vessel info, cargo info etc. With this dataset, we can then look at:\n",
    "\n",
    "1. How many vessels transiting the waypoint (Suez Canal, Cape of Good Hope etc) in each day.\n",
    "2. What are the cargoes that are transiting the waypoint in each day & its quantity.\n",
    "\n",
    "Mainly this is for the cases of the red sea incident recently. \n",
    "For **Bab-el-mandeb**, below is the filter for VoyageSearchEnriched:\n",
    "\n",
    "1. Northbound\n",
    "- origin: EoS excl Red Sea\n",
    "- dest: anywhere\n",
    "- location: bab-el-mandeb\n",
    "\n",
    "2. Southbound\n",
    "- origin: WoS + red sea\n",
    "- dest: anywhere\n",
    "- location: bab-el-mandeb\n",
    "\n",
    "For **Suez Canal**, below is the filter for VoyageSearchEnriched. Well here is the interesting bit. Depending on what the client wants to see.\n",
    "\n",
    "If they want to see all the Suez transits then you would have to use:\n",
    "\n",
    "1. Northbound - EoS - anywhere\n",
    "\n",
    "2. Southbound - WoS - anywhere\n",
    "\n",
    "If they want to see all the Suez transits that are “affected” from Yemen attacks then should be:\n",
    "1. Northbound - Origin= EoS,excl. Red Sea, Dest=Anywhere\n",
    "\n",
    "2. Southbound - Origin= WoS, Dest=Anywhere, excl. Red Sea\n",
    "\n",
    "\n",
    "### Example\n",
    "\n",
    "In this notebook, we will query all vessels that transit through Cape, regardless of its direction."
   ]
  },
  {
   "cell_type": "markdown",
   "id": "0826b10c",
   "metadata": {},
   "source": [
    "## Import Libraries"
   ]
  },
  {
   "cell_type": "code",
   "execution_count": 7,
   "id": "dc52cdb3",
   "metadata": {},
   "outputs": [],
   "source": [
    "import vortexasdk as v\n",
    "from datetime import datetime,timedelta,date\n",
    "import pandas as pd\n",
    "import plotly.express as px"
   ]
  },
  {
   "cell_type": "markdown",
   "id": "7a8f495a",
   "metadata": {},
   "source": [
    "## Extracting ids"
   ]
  },
  {
   "cell_type": "code",
   "execution_count": 8,
   "id": "e506e24f",
   "metadata": {},
   "outputs": [
    {
     "data": {
      "text/plain": [
       "['d10056e8bf4109ebf0370c511953f046ff75552b3dc6ed788fcb4d5ea6b71d3f',\n",
       " '5637a23e1ec27f7598abfe0166b014a65eeb7561cf46f6770e460dca65f15f71',\n",
       " 'c9a1a65ac7d63fe1ed1fe115e5c4c5919482bbc669f3c8c7e963945523874755']"
      ]
     },
     "execution_count": 8,
     "metadata": {},
     "output_type": "execute_result"
    }
   ],
   "source": [
    "eos = [p.id for p in v.Geographies().search('East of Suez').to_list() if p.layer==['alternative_region']]\n",
    "wos = [p.id for p in v.Geographies().search('West of Suez').to_list() if p.layer==['alternative_region']]\n",
    "red_sea = [p.id for p in v.Geographies().search('Red Sea').to_list() if p.layer==['shipping_region']]\n",
    "bab_el_mandeb= [p.id for p in v.Geographies().search('bab-el-mandeb').to_list() if p.layer==['waypoint']]\n",
    "panama= [p.id for p in v.Geographies().search('Panama Canal').to_list() if p.layer==['waypoint']]\n",
    "suez= [p.id for p in v.Geographies().search('Suez Canal').to_list() if p.layer==['waypoint']]\n",
    "cape= [p.id for p in v.Geographies().search('Cape of Good Hope').to_list() if p.layer==['waypoint']]\n",
    "india= [p.id for p in v.Geographies().search('India').to_list() if p.layer==['country']]\n",
    "cape"
   ]
  },
  {
   "cell_type": "code",
   "execution_count": 9,
   "id": "5f5954b1",
   "metadata": {},
   "outputs": [],
   "source": [
    "cpp = [p.id for p in v.Products().search('Clean Petroleum Products').to_list() if p.name=='Clean Petroleum Products']\n",
    "dpp = [p.id for p in v.Products().search('Dirty Petroleum Products').to_list() if p.name=='Dirty Petroleum Products']\n",
    "crude = [p.id for p in v.Products().search('Crude/Condensates').to_list() if p.name=='Crude/Condensates']\n",
    "diesel = [p.id for p in v.Products().search('Diesel/Gasoil').to_list() if p.name=='Diesel/Gasoil']\n",
    "gasoline = [p.id for p in v.Products().search('Gasoline/Blending Components').to_list() if p.name=='Gasoline/Blending Components']\n",
    "jet = [p.id for p in v.Products().search('Jet/Kero').to_list() if p.name=='Jet/Kero']\n",
    "lng = [p.id for p in v.Products().search('LNG').to_list() if p.name=='LNG']\n",
    "lpg = [p.id for p in v.Products().search('LPG+').to_list() if p.name=='LPG+']"
   ]
  },
  {
   "cell_type": "code",
   "execution_count": 10,
   "id": "67606bd4",
   "metadata": {},
   "outputs": [],
   "source": [
    "other_cpp = [p.id for p in v.Products().search('Other Clean Products').to_list() if p.name=='Other Clean Products']\n",
    "cond = [p.id for p in v.Products().search('Condensates').to_list() if p.name=='Condensates']\n",
    "biodiesel = [p.id for p in v.Products().search('Biodiesel').to_list() if p.name=='Biodiesel']\n",
    "\n",
    "assert len(other_cpp)==1\n",
    "assert len(cond)==1\n",
    "assert len(biodiesel)==1"
   ]
  },
  {
   "cell_type": "markdown",
   "id": "dd0b21bc",
   "metadata": {},
   "source": [
    "## Search Enriched Calculation (change filter)"
   ]
  },
  {
   "cell_type": "code",
   "execution_count": 12,
   "id": "83895795",
   "metadata": {},
   "outputs": [
    {
     "name": "stdout",
     "output_type": "stream",
     "text": [
      "2024-09-17 16:26:45,096 vortexasdk.client — ERROR — Could not decode response\n"
     ]
    }
   ],
   "source": [
    "test = v.VoyagesSearchEnriched().search(\n",
    "    time_min = datetime(2023,11,1),\n",
    "    time_max = datetime.today(),\n",
    "    vessels = 'oil',\n",
    "    locations = cape,\n",
    "    unit = 't',\n",
    ").to_list()"
   ]
  },
  {
   "cell_type": "code",
   "execution_count": 13,
   "id": "404da0e3",
   "metadata": {},
   "outputs": [],
   "source": [
    "cargo_events = pd.DataFrame(i.__dict__ for i in test[0].events)\n",
    "cargo_events = cargo_events[cargo_events['event_type']=='cargo']"
   ]
  },
  {
   "cell_type": "markdown",
   "id": "5ac4c4c2",
   "metadata": {},
   "source": [
    "## Pre-processing function"
   ]
  },
  {
   "cell_type": "code",
   "execution_count": 17,
   "id": "4225041a",
   "metadata": {},
   "outputs": [],
   "source": [
    "def extract_element_from_list(l1):\n",
    "    if l1 == None:\n",
    "        return None\n",
    "    if len(l1)>0:\n",
    "        return l1[0]\n",
    "    else:\n",
    "        return None\n",
    "def calculating_visiting_time(list_of_voyage,location_id):\n",
    "    voyage_rows = []\n",
    "    idx = 0\n",
    "    for voyage in list_of_voyage:\n",
    "        cargo_events = pd.DataFrame(i.__dict__ for i in voyage.events)\n",
    "        cargo_events = cargo_events[cargo_events['event_type']=='cargo']\n",
    "        cargo_movement_id = cargo_events['cargo_movement_id'].unique()\n",
    "        cargo_events['end_timestamp'].fillna((datetime.now()+timedelta(days = 1)).strftime(\"%Y-%m-%dT%H:%M:%S.%fZ\"), inplace = True)\n",
    "        \n",
    "        if len(voyage.latest_product_details) == 0:\n",
    "            latest_product_details = 'None'\n",
    "        else: \n",
    "            latest_product_details = [i.label for i in voyage.latest_product_details[0] if i.layer == 'group'][0]\n",
    "        record_row = {}\n",
    "        for event in voyage.events:\n",
    "            if event.event_type == 'visit' and event.location_id == location_id:\n",
    "                record_row = {\n",
    "                  'voyage_id': voyage.voyage_id,\n",
    "                  'vessel_id': voyage.vessel.id,\n",
    "                  'vessel name': voyage.vessel.name,\n",
    "                  'vessel_imo': voyage.vessel.imo,\n",
    "                  'vessel_class': voyage.vessel.vessel_class,\n",
    "                  'cargo_movement_id': cargo_movement_id,\n",
    "                  'entry_timestamp': event.start_timestamp,\n",
    "                  'exit_timestamp': event.end_timestamp,\n",
    "                  'location': event.location_details[0].label,\n",
    "                    'voyage_status':voyage.voyage_status,\n",
    "                    'latest_products_details':latest_product_details\n",
    "                }\n",
    "                if record_row['exit_timestamp'] == None:\n",
    "                    record_row['exit_timestamp'] = datetime.now().strftime(\"%Y-%m-%dT%H:%M:%S.%fZ\")\n",
    "                    print(f\"{record_row['vessel name']} in canal\")\n",
    "                filtered_cargo_event = cargo_events[(cargo_events['start_timestamp'] < record_row['entry_timestamp'])\n",
    "                                                   &(cargo_events['end_timestamp'] > record_row['exit_timestamp'])].reset_index(drop = True)\n",
    "                if 'quantity_barrels' not in filtered_cargo_event.columns:\n",
    "                    cargo_type = 'None'\n",
    "                    #cargo_category = 'None'\n",
    "                    quantity_sum = 0\n",
    "                elif len(filtered_cargo_event)==0:\n",
    "                    cargo_type = 'None'\n",
    "                    cargo_category = 'None'\n",
    "                    quantity_sum = 0\n",
    "                else:\n",
    "                    object_list = filtered_cargo_event.loc[0,'product_details']\n",
    "                    cargo_type = [obj.label for obj in object_list if obj.layer =='group'][0]\n",
    "                    #cargo_category = [obj.label for obj in object_list if obj.layer =='category'][0]\n",
    "                    \n",
    "                    # To-change unit - quantity_barrels, quantity_tonnes\n",
    "                    quantity_sum = filtered_cargo_event['quantity_barrels'].sum()\n",
    "                \n",
    "                # cargo origin\n",
    "                if len(filtered_cargo_event)>0:\n",
    "                    object_list = filtered_cargo_event.loc[0,'cargo_origin_details']\n",
    "                    origin_port = [obj.label for obj in object_list if obj.layer =='port']\n",
    "                    origin_country = [obj.label for obj in object_list if obj.layer =='country']\n",
    "\n",
    "                    # cargo dest\n",
    "                    object_list = filtered_cargo_event.loc[0,'cargo_destination_details']\n",
    "                    dest_port = [obj.label for obj in object_list if obj.layer =='port']\n",
    "                    dest_country = [obj.label for obj in object_list if obj.layer =='country']\n",
    "                else:\n",
    "                    origin_port,origin_country,dest_port,dest_country = None,None,None,None\n",
    "                \n",
    "                record_row['origin_port'] = extract_element_from_list(origin_port)\n",
    "                record_row['origin_country'] = extract_element_from_list(origin_country)\n",
    "                record_row['dest_port'] = extract_element_from_list(dest_port)\n",
    "                record_row['dest_country'] = extract_element_from_list(dest_country)\n",
    "                record_row['quantity'] = quantity_sum\n",
    "                record_row['product'] = cargo_type\n",
    "                #record_row['category'] = cargo_category\n",
    "                voyage_rows.append(record_row)\n",
    "        idx+=1\n",
    "    voyage_df = pd.DataFrame(voyage_rows)\n",
    "    return voyage_df"
   ]
  },
  {
   "cell_type": "markdown",
   "id": "a67b8195",
   "metadata": {},
   "source": [
    "## Output"
   ]
  },
  {
   "cell_type": "code",
   "execution_count": 18,
   "id": "c4b2f970",
   "metadata": {},
   "outputs": [
    {
     "name": "stderr",
     "output_type": "stream",
     "text": [
      "C:\\Users\\OuiWeinJien\\AppData\\Local\\Temp\\ipykernel_22748\\1819525906.py:15: FutureWarning: A value is trying to be set on a copy of a DataFrame or Series through chained assignment using an inplace method.\n",
      "The behavior will change in pandas 3.0. This inplace method will never work because the intermediate object on which we are setting values always behaves as a copy.\n",
      "\n",
      "For example, when doing 'df[col].method(value, inplace=True)', try using 'df.method({col: value}, inplace=True)' or df[col] = df[col].method(value) instead, to perform the operation inplace on the original object.\n",
      "\n",
      "\n",
      "  cargo_events['end_timestamp'].fillna((datetime.now()+timedelta(days = 1)).strftime(\"%Y-%m-%dT%H:%M:%S.%fZ\"), inplace = True)\n"
     ]
    },
    {
     "name": "stdout",
     "output_type": "stream",
     "text": [
      "TORM EVOLVE in canal\n",
      "SFL LION in canal\n"
     ]
    }
   ],
   "source": [
    "result_df = calculating_visiting_time(test,cape[0][:16])"
   ]
  },
  {
   "cell_type": "markdown",
   "id": "95fa47d6",
   "metadata": {},
   "source": [
    "The above dataframe is the vessel list that passthrough the waypoint (Cape of Good Hope in this case). It's also provided the entry & exit timestamp of the waypoint, so you can have the flexibility to group the time axis. "
   ]
  },
  {
   "cell_type": "markdown",
   "id": "e19100ff",
   "metadata": {},
   "source": [
    "## Further processing & plotting"
   ]
  },
  {
   "cell_type": "code",
   "execution_count": 19,
   "id": "433b3078",
   "metadata": {},
   "outputs": [],
   "source": [
    "result_df['entry_timestamp'] = pd.to_datetime(result_df['entry_timestamp'])\n",
    "result_df['exit_timestamp'] = pd.to_datetime(result_df['exit_timestamp'])\n",
    "\n",
    "result_df['duration'] = result_df['exit_timestamp'] - result_df['entry_timestamp']\n",
    "result_df.sort_values('entry_timestamp',ascending = False)\n",
    "\n",
    "#Filter (optional)\n",
    "result_df = result_df[result_df['entry_timestamp']>='2023-11-01'].reset_index(drop = True)"
   ]
  },
  {
   "cell_type": "code",
   "execution_count": 20,
   "id": "b816ca06",
   "metadata": {},
   "outputs": [],
   "source": [
    "time_series_df = result_df.groupby([pd.Grouper(key = 'entry_timestamp', freq = '1W'),'voyage_status']).agg({'voyage_id':'count'}).reset_index()"
   ]
  },
  {
   "cell_type": "code",
   "execution_count": 21,
   "id": "2ec0b05a",
   "metadata": {
    "scrolled": true
   },
   "outputs": [
    {
     "data": {
      "application/vnd.plotly.v1+json": {
       "config": {
        "plotlyServerURL": "https://plot.ly"
       },
       "data": [
        {
         "alignmentgroup": "True",
         "hovertemplate": "voyage_status=ballast<br>entry_timestamp=%{x}<br>voyage_id=%{y}<extra></extra>",
         "legendgroup": "ballast",
         "marker": {
          "color": "#636efa",
          "pattern": {
           "shape": ""
          }
         },
         "name": "ballast",
         "offsetgroup": "ballast",
         "orientation": "v",
         "showlegend": true,
         "textposition": "auto",
         "type": "bar",
         "x": [
          "2023-11-05T00:00:00+00:00",
          "2023-11-12T00:00:00+00:00",
          "2023-11-19T00:00:00+00:00",
          "2023-11-26T00:00:00+00:00",
          "2023-12-03T00:00:00+00:00",
          "2023-12-10T00:00:00+00:00",
          "2023-12-17T00:00:00+00:00",
          "2023-12-24T00:00:00+00:00",
          "2023-12-31T00:00:00+00:00",
          "2024-01-07T00:00:00+00:00",
          "2024-01-14T00:00:00+00:00",
          "2024-01-21T00:00:00+00:00",
          "2024-01-28T00:00:00+00:00",
          "2024-02-04T00:00:00+00:00",
          "2024-02-11T00:00:00+00:00",
          "2024-02-18T00:00:00+00:00",
          "2024-02-25T00:00:00+00:00",
          "2024-03-03T00:00:00+00:00",
          "2024-03-10T00:00:00+00:00",
          "2024-03-17T00:00:00+00:00",
          "2024-03-24T00:00:00+00:00",
          "2024-03-31T00:00:00+00:00",
          "2024-04-07T00:00:00+00:00",
          "2024-04-14T00:00:00+00:00",
          "2024-04-21T00:00:00+00:00",
          "2024-04-28T00:00:00+00:00",
          "2024-05-05T00:00:00+00:00",
          "2024-05-12T00:00:00+00:00",
          "2024-05-19T00:00:00+00:00",
          "2024-05-26T00:00:00+00:00",
          "2024-06-02T00:00:00+00:00",
          "2024-06-09T00:00:00+00:00",
          "2024-06-16T00:00:00+00:00",
          "2024-06-23T00:00:00+00:00",
          "2024-06-30T00:00:00+00:00",
          "2024-07-07T00:00:00+00:00",
          "2024-07-14T00:00:00+00:00",
          "2024-07-21T00:00:00+00:00",
          "2024-07-28T00:00:00+00:00",
          "2024-08-04T00:00:00+00:00",
          "2024-08-11T00:00:00+00:00",
          "2024-08-18T00:00:00+00:00",
          "2024-08-25T00:00:00+00:00",
          "2024-09-01T00:00:00+00:00",
          "2024-09-08T00:00:00+00:00",
          "2024-09-15T00:00:00+00:00"
         ],
         "xaxis": "x",
         "y": [
          6,
          7,
          12,
          10,
          9,
          7,
          5,
          7,
          7,
          8,
          4,
          3,
          11,
          8,
          15,
          8,
          10,
          10,
          10,
          7,
          4,
          7,
          5,
          7,
          11,
          8,
          13,
          6,
          5,
          14,
          11,
          12,
          7,
          14,
          2,
          7,
          12,
          6,
          9,
          10,
          4,
          6,
          5,
          5,
          5,
          6
         ],
         "yaxis": "y"
        },
        {
         "alignmentgroup": "True",
         "hovertemplate": "voyage_status=laden<br>entry_timestamp=%{x}<br>voyage_id=%{y}<extra></extra>",
         "legendgroup": "laden",
         "marker": {
          "color": "#EF553B",
          "pattern": {
           "shape": ""
          }
         },
         "name": "laden",
         "offsetgroup": "laden",
         "orientation": "v",
         "showlegend": true,
         "textposition": "auto",
         "type": "bar",
         "x": [
          "2023-11-05T00:00:00+00:00",
          "2023-11-12T00:00:00+00:00",
          "2023-11-19T00:00:00+00:00",
          "2023-11-26T00:00:00+00:00",
          "2023-12-03T00:00:00+00:00",
          "2023-12-10T00:00:00+00:00",
          "2023-12-17T00:00:00+00:00",
          "2023-12-24T00:00:00+00:00",
          "2023-12-31T00:00:00+00:00",
          "2024-01-07T00:00:00+00:00",
          "2024-01-14T00:00:00+00:00",
          "2024-01-21T00:00:00+00:00",
          "2024-01-28T00:00:00+00:00",
          "2024-02-04T00:00:00+00:00",
          "2024-02-11T00:00:00+00:00",
          "2024-02-18T00:00:00+00:00",
          "2024-02-25T00:00:00+00:00",
          "2024-03-03T00:00:00+00:00",
          "2024-03-10T00:00:00+00:00",
          "2024-03-17T00:00:00+00:00",
          "2024-03-24T00:00:00+00:00",
          "2024-03-31T00:00:00+00:00",
          "2024-04-07T00:00:00+00:00",
          "2024-04-14T00:00:00+00:00",
          "2024-04-21T00:00:00+00:00",
          "2024-04-28T00:00:00+00:00",
          "2024-05-05T00:00:00+00:00",
          "2024-05-12T00:00:00+00:00",
          "2024-05-19T00:00:00+00:00",
          "2024-05-26T00:00:00+00:00",
          "2024-06-02T00:00:00+00:00",
          "2024-06-09T00:00:00+00:00",
          "2024-06-16T00:00:00+00:00",
          "2024-06-23T00:00:00+00:00",
          "2024-06-30T00:00:00+00:00",
          "2024-07-07T00:00:00+00:00",
          "2024-07-14T00:00:00+00:00",
          "2024-07-21T00:00:00+00:00",
          "2024-07-28T00:00:00+00:00",
          "2024-08-04T00:00:00+00:00",
          "2024-08-11T00:00:00+00:00",
          "2024-08-18T00:00:00+00:00",
          "2024-08-25T00:00:00+00:00",
          "2024-09-01T00:00:00+00:00",
          "2024-09-08T00:00:00+00:00",
          "2024-09-15T00:00:00+00:00",
          "2024-09-22T00:00:00+00:00"
         ],
         "xaxis": "x",
         "y": [
          6,
          14,
          13,
          8,
          8,
          14,
          20,
          15,
          14,
          18,
          19,
          18,
          20,
          27,
          36,
          37,
          27,
          26,
          38,
          31,
          29,
          28,
          26,
          31,
          38,
          30,
          25,
          25,
          39,
          23,
          29,
          26,
          35,
          32,
          26,
          14,
          30,
          29,
          20,
          28,
          18,
          30,
          27,
          23,
          17,
          27,
          5
         ],
         "yaxis": "y"
        }
       ],
       "layout": {
        "barmode": "relative",
        "legend": {
         "title": {
          "text": "voyage_status"
         },
         "tracegroupgap": 0
        },
        "template": {
         "data": {
          "bar": [
           {
            "error_x": {
             "color": "#2a3f5f"
            },
            "error_y": {
             "color": "#2a3f5f"
            },
            "marker": {
             "line": {
              "color": "#E5ECF6",
              "width": 0.5
             },
             "pattern": {
              "fillmode": "overlay",
              "size": 10,
              "solidity": 0.2
             }
            },
            "type": "bar"
           }
          ],
          "barpolar": [
           {
            "marker": {
             "line": {
              "color": "#E5ECF6",
              "width": 0.5
             },
             "pattern": {
              "fillmode": "overlay",
              "size": 10,
              "solidity": 0.2
             }
            },
            "type": "barpolar"
           }
          ],
          "carpet": [
           {
            "aaxis": {
             "endlinecolor": "#2a3f5f",
             "gridcolor": "white",
             "linecolor": "white",
             "minorgridcolor": "white",
             "startlinecolor": "#2a3f5f"
            },
            "baxis": {
             "endlinecolor": "#2a3f5f",
             "gridcolor": "white",
             "linecolor": "white",
             "minorgridcolor": "white",
             "startlinecolor": "#2a3f5f"
            },
            "type": "carpet"
           }
          ],
          "choropleth": [
           {
            "colorbar": {
             "outlinewidth": 0,
             "ticks": ""
            },
            "type": "choropleth"
           }
          ],
          "contour": [
           {
            "colorbar": {
             "outlinewidth": 0,
             "ticks": ""
            },
            "colorscale": [
             [
              0,
              "#0d0887"
             ],
             [
              0.1111111111111111,
              "#46039f"
             ],
             [
              0.2222222222222222,
              "#7201a8"
             ],
             [
              0.3333333333333333,
              "#9c179e"
             ],
             [
              0.4444444444444444,
              "#bd3786"
             ],
             [
              0.5555555555555556,
              "#d8576b"
             ],
             [
              0.6666666666666666,
              "#ed7953"
             ],
             [
              0.7777777777777778,
              "#fb9f3a"
             ],
             [
              0.8888888888888888,
              "#fdca26"
             ],
             [
              1,
              "#f0f921"
             ]
            ],
            "type": "contour"
           }
          ],
          "contourcarpet": [
           {
            "colorbar": {
             "outlinewidth": 0,
             "ticks": ""
            },
            "type": "contourcarpet"
           }
          ],
          "heatmap": [
           {
            "colorbar": {
             "outlinewidth": 0,
             "ticks": ""
            },
            "colorscale": [
             [
              0,
              "#0d0887"
             ],
             [
              0.1111111111111111,
              "#46039f"
             ],
             [
              0.2222222222222222,
              "#7201a8"
             ],
             [
              0.3333333333333333,
              "#9c179e"
             ],
             [
              0.4444444444444444,
              "#bd3786"
             ],
             [
              0.5555555555555556,
              "#d8576b"
             ],
             [
              0.6666666666666666,
              "#ed7953"
             ],
             [
              0.7777777777777778,
              "#fb9f3a"
             ],
             [
              0.8888888888888888,
              "#fdca26"
             ],
             [
              1,
              "#f0f921"
             ]
            ],
            "type": "heatmap"
           }
          ],
          "heatmapgl": [
           {
            "colorbar": {
             "outlinewidth": 0,
             "ticks": ""
            },
            "colorscale": [
             [
              0,
              "#0d0887"
             ],
             [
              0.1111111111111111,
              "#46039f"
             ],
             [
              0.2222222222222222,
              "#7201a8"
             ],
             [
              0.3333333333333333,
              "#9c179e"
             ],
             [
              0.4444444444444444,
              "#bd3786"
             ],
             [
              0.5555555555555556,
              "#d8576b"
             ],
             [
              0.6666666666666666,
              "#ed7953"
             ],
             [
              0.7777777777777778,
              "#fb9f3a"
             ],
             [
              0.8888888888888888,
              "#fdca26"
             ],
             [
              1,
              "#f0f921"
             ]
            ],
            "type": "heatmapgl"
           }
          ],
          "histogram": [
           {
            "marker": {
             "pattern": {
              "fillmode": "overlay",
              "size": 10,
              "solidity": 0.2
             }
            },
            "type": "histogram"
           }
          ],
          "histogram2d": [
           {
            "colorbar": {
             "outlinewidth": 0,
             "ticks": ""
            },
            "colorscale": [
             [
              0,
              "#0d0887"
             ],
             [
              0.1111111111111111,
              "#46039f"
             ],
             [
              0.2222222222222222,
              "#7201a8"
             ],
             [
              0.3333333333333333,
              "#9c179e"
             ],
             [
              0.4444444444444444,
              "#bd3786"
             ],
             [
              0.5555555555555556,
              "#d8576b"
             ],
             [
              0.6666666666666666,
              "#ed7953"
             ],
             [
              0.7777777777777778,
              "#fb9f3a"
             ],
             [
              0.8888888888888888,
              "#fdca26"
             ],
             [
              1,
              "#f0f921"
             ]
            ],
            "type": "histogram2d"
           }
          ],
          "histogram2dcontour": [
           {
            "colorbar": {
             "outlinewidth": 0,
             "ticks": ""
            },
            "colorscale": [
             [
              0,
              "#0d0887"
             ],
             [
              0.1111111111111111,
              "#46039f"
             ],
             [
              0.2222222222222222,
              "#7201a8"
             ],
             [
              0.3333333333333333,
              "#9c179e"
             ],
             [
              0.4444444444444444,
              "#bd3786"
             ],
             [
              0.5555555555555556,
              "#d8576b"
             ],
             [
              0.6666666666666666,
              "#ed7953"
             ],
             [
              0.7777777777777778,
              "#fb9f3a"
             ],
             [
              0.8888888888888888,
              "#fdca26"
             ],
             [
              1,
              "#f0f921"
             ]
            ],
            "type": "histogram2dcontour"
           }
          ],
          "mesh3d": [
           {
            "colorbar": {
             "outlinewidth": 0,
             "ticks": ""
            },
            "type": "mesh3d"
           }
          ],
          "parcoords": [
           {
            "line": {
             "colorbar": {
              "outlinewidth": 0,
              "ticks": ""
             }
            },
            "type": "parcoords"
           }
          ],
          "pie": [
           {
            "automargin": true,
            "type": "pie"
           }
          ],
          "scatter": [
           {
            "fillpattern": {
             "fillmode": "overlay",
             "size": 10,
             "solidity": 0.2
            },
            "type": "scatter"
           }
          ],
          "scatter3d": [
           {
            "line": {
             "colorbar": {
              "outlinewidth": 0,
              "ticks": ""
             }
            },
            "marker": {
             "colorbar": {
              "outlinewidth": 0,
              "ticks": ""
             }
            },
            "type": "scatter3d"
           }
          ],
          "scattercarpet": [
           {
            "marker": {
             "colorbar": {
              "outlinewidth": 0,
              "ticks": ""
             }
            },
            "type": "scattercarpet"
           }
          ],
          "scattergeo": [
           {
            "marker": {
             "colorbar": {
              "outlinewidth": 0,
              "ticks": ""
             }
            },
            "type": "scattergeo"
           }
          ],
          "scattergl": [
           {
            "marker": {
             "colorbar": {
              "outlinewidth": 0,
              "ticks": ""
             }
            },
            "type": "scattergl"
           }
          ],
          "scattermapbox": [
           {
            "marker": {
             "colorbar": {
              "outlinewidth": 0,
              "ticks": ""
             }
            },
            "type": "scattermapbox"
           }
          ],
          "scatterpolar": [
           {
            "marker": {
             "colorbar": {
              "outlinewidth": 0,
              "ticks": ""
             }
            },
            "type": "scatterpolar"
           }
          ],
          "scatterpolargl": [
           {
            "marker": {
             "colorbar": {
              "outlinewidth": 0,
              "ticks": ""
             }
            },
            "type": "scatterpolargl"
           }
          ],
          "scatterternary": [
           {
            "marker": {
             "colorbar": {
              "outlinewidth": 0,
              "ticks": ""
             }
            },
            "type": "scatterternary"
           }
          ],
          "surface": [
           {
            "colorbar": {
             "outlinewidth": 0,
             "ticks": ""
            },
            "colorscale": [
             [
              0,
              "#0d0887"
             ],
             [
              0.1111111111111111,
              "#46039f"
             ],
             [
              0.2222222222222222,
              "#7201a8"
             ],
             [
              0.3333333333333333,
              "#9c179e"
             ],
             [
              0.4444444444444444,
              "#bd3786"
             ],
             [
              0.5555555555555556,
              "#d8576b"
             ],
             [
              0.6666666666666666,
              "#ed7953"
             ],
             [
              0.7777777777777778,
              "#fb9f3a"
             ],
             [
              0.8888888888888888,
              "#fdca26"
             ],
             [
              1,
              "#f0f921"
             ]
            ],
            "type": "surface"
           }
          ],
          "table": [
           {
            "cells": {
             "fill": {
              "color": "#EBF0F8"
             },
             "line": {
              "color": "white"
             }
            },
            "header": {
             "fill": {
              "color": "#C8D4E3"
             },
             "line": {
              "color": "white"
             }
            },
            "type": "table"
           }
          ]
         },
         "layout": {
          "annotationdefaults": {
           "arrowcolor": "#2a3f5f",
           "arrowhead": 0,
           "arrowwidth": 1
          },
          "autotypenumbers": "strict",
          "coloraxis": {
           "colorbar": {
            "outlinewidth": 0,
            "ticks": ""
           }
          },
          "colorscale": {
           "diverging": [
            [
             0,
             "#8e0152"
            ],
            [
             0.1,
             "#c51b7d"
            ],
            [
             0.2,
             "#de77ae"
            ],
            [
             0.3,
             "#f1b6da"
            ],
            [
             0.4,
             "#fde0ef"
            ],
            [
             0.5,
             "#f7f7f7"
            ],
            [
             0.6,
             "#e6f5d0"
            ],
            [
             0.7,
             "#b8e186"
            ],
            [
             0.8,
             "#7fbc41"
            ],
            [
             0.9,
             "#4d9221"
            ],
            [
             1,
             "#276419"
            ]
           ],
           "sequential": [
            [
             0,
             "#0d0887"
            ],
            [
             0.1111111111111111,
             "#46039f"
            ],
            [
             0.2222222222222222,
             "#7201a8"
            ],
            [
             0.3333333333333333,
             "#9c179e"
            ],
            [
             0.4444444444444444,
             "#bd3786"
            ],
            [
             0.5555555555555556,
             "#d8576b"
            ],
            [
             0.6666666666666666,
             "#ed7953"
            ],
            [
             0.7777777777777778,
             "#fb9f3a"
            ],
            [
             0.8888888888888888,
             "#fdca26"
            ],
            [
             1,
             "#f0f921"
            ]
           ],
           "sequentialminus": [
            [
             0,
             "#0d0887"
            ],
            [
             0.1111111111111111,
             "#46039f"
            ],
            [
             0.2222222222222222,
             "#7201a8"
            ],
            [
             0.3333333333333333,
             "#9c179e"
            ],
            [
             0.4444444444444444,
             "#bd3786"
            ],
            [
             0.5555555555555556,
             "#d8576b"
            ],
            [
             0.6666666666666666,
             "#ed7953"
            ],
            [
             0.7777777777777778,
             "#fb9f3a"
            ],
            [
             0.8888888888888888,
             "#fdca26"
            ],
            [
             1,
             "#f0f921"
            ]
           ]
          },
          "colorway": [
           "#636efa",
           "#EF553B",
           "#00cc96",
           "#ab63fa",
           "#FFA15A",
           "#19d3f3",
           "#FF6692",
           "#B6E880",
           "#FF97FF",
           "#FECB52"
          ],
          "font": {
           "color": "#2a3f5f"
          },
          "geo": {
           "bgcolor": "white",
           "lakecolor": "white",
           "landcolor": "#E5ECF6",
           "showlakes": true,
           "showland": true,
           "subunitcolor": "white"
          },
          "hoverlabel": {
           "align": "left"
          },
          "hovermode": "closest",
          "mapbox": {
           "style": "light"
          },
          "paper_bgcolor": "white",
          "plot_bgcolor": "#E5ECF6",
          "polar": {
           "angularaxis": {
            "gridcolor": "white",
            "linecolor": "white",
            "ticks": ""
           },
           "bgcolor": "#E5ECF6",
           "radialaxis": {
            "gridcolor": "white",
            "linecolor": "white",
            "ticks": ""
           }
          },
          "scene": {
           "xaxis": {
            "backgroundcolor": "#E5ECF6",
            "gridcolor": "white",
            "gridwidth": 2,
            "linecolor": "white",
            "showbackground": true,
            "ticks": "",
            "zerolinecolor": "white"
           },
           "yaxis": {
            "backgroundcolor": "#E5ECF6",
            "gridcolor": "white",
            "gridwidth": 2,
            "linecolor": "white",
            "showbackground": true,
            "ticks": "",
            "zerolinecolor": "white"
           },
           "zaxis": {
            "backgroundcolor": "#E5ECF6",
            "gridcolor": "white",
            "gridwidth": 2,
            "linecolor": "white",
            "showbackground": true,
            "ticks": "",
            "zerolinecolor": "white"
           }
          },
          "shapedefaults": {
           "line": {
            "color": "#2a3f5f"
           }
          },
          "ternary": {
           "aaxis": {
            "gridcolor": "white",
            "linecolor": "white",
            "ticks": ""
           },
           "baxis": {
            "gridcolor": "white",
            "linecolor": "white",
            "ticks": ""
           },
           "bgcolor": "#E5ECF6",
           "caxis": {
            "gridcolor": "white",
            "linecolor": "white",
            "ticks": ""
           }
          },
          "title": {
           "x": 0.05
          },
          "xaxis": {
           "automargin": true,
           "gridcolor": "white",
           "linecolor": "white",
           "ticks": "",
           "title": {
            "standoff": 15
           },
           "zerolinecolor": "white",
           "zerolinewidth": 2
          },
          "yaxis": {
           "automargin": true,
           "gridcolor": "white",
           "linecolor": "white",
           "ticks": "",
           "title": {
            "standoff": 15
           },
           "zerolinecolor": "white",
           "zerolinewidth": 2
          }
         }
        },
        "title": {
         "text": "Number of vessels passing through Bab-el-Mandeb"
        },
        "xaxis": {
         "anchor": "y",
         "domain": [
          0,
          1
         ],
         "title": {
          "text": "entry_timestamp"
         }
        },
        "yaxis": {
         "anchor": "x",
         "domain": [
          0,
          1
         ],
         "title": {
          "text": "voyage_id"
         }
        }
       }
      }
     },
     "metadata": {},
     "output_type": "display_data"
    }
   ],
   "source": [
    "px.bar(time_series_df,x = 'entry_timestamp', y = 'voyage_id', color = 'voyage_status', title = 'Number of vessels passing through Bab-el-Mandeb')"
   ]
  },
  {
   "cell_type": "code",
   "execution_count": 22,
   "id": "0b768393",
   "metadata": {},
   "outputs": [],
   "source": [
    "cargo_quantity_df =  result_df.groupby([pd.Grouper(key = 'entry_timestamp', freq = '1D'),'product']).agg({'quantity':'sum'}).reset_index()"
   ]
  },
  {
   "cell_type": "code",
   "execution_count": 23,
   "id": "dc75eaca",
   "metadata": {
    "scrolled": true
   },
   "outputs": [
    {
     "data": {
      "application/vnd.plotly.v1+json": {
       "config": {
        "plotlyServerURL": "https://plot.ly"
       },
       "data": [
        {
         "alignmentgroup": "True",
         "hovertemplate": "product=Crude/Condensates<br>entry_timestamp=%{x}<br>quantity=%{y}<extra></extra>",
         "legendgroup": "Crude/Condensates",
         "marker": {
          "color": "#636efa",
          "pattern": {
           "shape": ""
          }
         },
         "name": "Crude/Condensates",
         "offsetgroup": "Crude/Condensates",
         "orientation": "v",
         "showlegend": true,
         "textposition": "auto",
         "type": "bar",
         "x": [
          "2023-11-01T00:00:00+00:00",
          "2023-11-02T00:00:00+00:00",
          "2023-11-03T00:00:00+00:00",
          "2023-11-05T00:00:00+00:00",
          "2023-11-07T00:00:00+00:00",
          "2023-11-08T00:00:00+00:00",
          "2023-11-10T00:00:00+00:00",
          "2023-11-11T00:00:00+00:00",
          "2023-11-12T00:00:00+00:00",
          "2023-11-13T00:00:00+00:00",
          "2023-11-16T00:00:00+00:00",
          "2023-11-18T00:00:00+00:00",
          "2023-11-19T00:00:00+00:00",
          "2023-11-21T00:00:00+00:00",
          "2023-11-22T00:00:00+00:00",
          "2023-11-23T00:00:00+00:00",
          "2023-11-25T00:00:00+00:00",
          "2023-11-27T00:00:00+00:00",
          "2023-11-30T00:00:00+00:00",
          "2023-12-03T00:00:00+00:00",
          "2023-12-05T00:00:00+00:00",
          "2023-12-06T00:00:00+00:00",
          "2023-12-07T00:00:00+00:00",
          "2023-12-08T00:00:00+00:00",
          "2023-12-09T00:00:00+00:00",
          "2023-12-11T00:00:00+00:00",
          "2023-12-12T00:00:00+00:00",
          "2023-12-13T00:00:00+00:00",
          "2023-12-16T00:00:00+00:00",
          "2023-12-17T00:00:00+00:00",
          "2023-12-19T00:00:00+00:00",
          "2023-12-20T00:00:00+00:00",
          "2023-12-21T00:00:00+00:00",
          "2023-12-22T00:00:00+00:00",
          "2023-12-23T00:00:00+00:00",
          "2023-12-24T00:00:00+00:00",
          "2023-12-25T00:00:00+00:00",
          "2023-12-28T00:00:00+00:00",
          "2023-12-29T00:00:00+00:00",
          "2023-12-30T00:00:00+00:00",
          "2023-12-31T00:00:00+00:00",
          "2024-01-01T00:00:00+00:00",
          "2024-01-02T00:00:00+00:00",
          "2024-01-03T00:00:00+00:00",
          "2024-01-05T00:00:00+00:00",
          "2024-01-06T00:00:00+00:00",
          "2024-01-07T00:00:00+00:00",
          "2024-01-08T00:00:00+00:00",
          "2024-01-09T00:00:00+00:00",
          "2024-01-10T00:00:00+00:00",
          "2024-01-11T00:00:00+00:00",
          "2024-01-14T00:00:00+00:00",
          "2024-01-15T00:00:00+00:00",
          "2024-01-16T00:00:00+00:00",
          "2024-01-19T00:00:00+00:00",
          "2024-01-21T00:00:00+00:00",
          "2024-01-22T00:00:00+00:00",
          "2024-01-23T00:00:00+00:00",
          "2024-01-31T00:00:00+00:00",
          "2024-02-02T00:00:00+00:00",
          "2024-02-03T00:00:00+00:00",
          "2024-02-04T00:00:00+00:00",
          "2024-02-05T00:00:00+00:00",
          "2024-02-07T00:00:00+00:00",
          "2024-02-08T00:00:00+00:00",
          "2024-02-09T00:00:00+00:00",
          "2024-02-10T00:00:00+00:00",
          "2024-02-14T00:00:00+00:00",
          "2024-02-15T00:00:00+00:00",
          "2024-02-16T00:00:00+00:00",
          "2024-02-17T00:00:00+00:00",
          "2024-02-18T00:00:00+00:00",
          "2024-02-19T00:00:00+00:00",
          "2024-02-21T00:00:00+00:00",
          "2024-02-22T00:00:00+00:00",
          "2024-02-24T00:00:00+00:00",
          "2024-02-26T00:00:00+00:00",
          "2024-02-28T00:00:00+00:00",
          "2024-02-29T00:00:00+00:00",
          "2024-03-01T00:00:00+00:00",
          "2024-03-02T00:00:00+00:00",
          "2024-03-03T00:00:00+00:00",
          "2024-03-04T00:00:00+00:00",
          "2024-03-05T00:00:00+00:00",
          "2024-03-09T00:00:00+00:00",
          "2024-03-10T00:00:00+00:00",
          "2024-03-11T00:00:00+00:00",
          "2024-03-12T00:00:00+00:00",
          "2024-03-13T00:00:00+00:00",
          "2024-03-15T00:00:00+00:00",
          "2024-03-16T00:00:00+00:00",
          "2024-03-17T00:00:00+00:00",
          "2024-03-18T00:00:00+00:00",
          "2024-03-19T00:00:00+00:00",
          "2024-03-20T00:00:00+00:00",
          "2024-03-21T00:00:00+00:00",
          "2024-03-24T00:00:00+00:00",
          "2024-03-26T00:00:00+00:00",
          "2024-03-27T00:00:00+00:00",
          "2024-03-30T00:00:00+00:00",
          "2024-04-01T00:00:00+00:00",
          "2024-04-02T00:00:00+00:00",
          "2024-04-04T00:00:00+00:00",
          "2024-04-05T00:00:00+00:00",
          "2024-04-09T00:00:00+00:00",
          "2024-04-10T00:00:00+00:00",
          "2024-04-11T00:00:00+00:00",
          "2024-04-14T00:00:00+00:00",
          "2024-04-15T00:00:00+00:00",
          "2024-04-16T00:00:00+00:00",
          "2024-04-19T00:00:00+00:00",
          "2024-04-20T00:00:00+00:00",
          "2024-04-23T00:00:00+00:00",
          "2024-04-24T00:00:00+00:00",
          "2024-04-25T00:00:00+00:00",
          "2024-04-27T00:00:00+00:00",
          "2024-04-30T00:00:00+00:00",
          "2024-05-02T00:00:00+00:00",
          "2024-05-04T00:00:00+00:00",
          "2024-05-07T00:00:00+00:00",
          "2024-05-08T00:00:00+00:00",
          "2024-05-09T00:00:00+00:00",
          "2024-05-10T00:00:00+00:00",
          "2024-05-12T00:00:00+00:00",
          "2024-05-13T00:00:00+00:00",
          "2024-05-14T00:00:00+00:00",
          "2024-05-15T00:00:00+00:00",
          "2024-05-16T00:00:00+00:00",
          "2024-05-17T00:00:00+00:00",
          "2024-05-18T00:00:00+00:00",
          "2024-05-20T00:00:00+00:00",
          "2024-05-21T00:00:00+00:00",
          "2024-05-23T00:00:00+00:00",
          "2024-05-25T00:00:00+00:00",
          "2024-05-26T00:00:00+00:00",
          "2024-05-27T00:00:00+00:00",
          "2024-05-28T00:00:00+00:00",
          "2024-05-29T00:00:00+00:00",
          "2024-05-30T00:00:00+00:00",
          "2024-05-31T00:00:00+00:00",
          "2024-06-01T00:00:00+00:00",
          "2024-06-02T00:00:00+00:00",
          "2024-06-03T00:00:00+00:00",
          "2024-06-04T00:00:00+00:00",
          "2024-06-06T00:00:00+00:00",
          "2024-06-08T00:00:00+00:00",
          "2024-06-09T00:00:00+00:00",
          "2024-06-10T00:00:00+00:00",
          "2024-06-11T00:00:00+00:00",
          "2024-06-12T00:00:00+00:00",
          "2024-06-13T00:00:00+00:00",
          "2024-06-14T00:00:00+00:00",
          "2024-06-15T00:00:00+00:00",
          "2024-06-16T00:00:00+00:00",
          "2024-06-17T00:00:00+00:00",
          "2024-06-19T00:00:00+00:00",
          "2024-06-20T00:00:00+00:00",
          "2024-06-21T00:00:00+00:00",
          "2024-06-23T00:00:00+00:00",
          "2024-06-25T00:00:00+00:00",
          "2024-06-26T00:00:00+00:00",
          "2024-06-28T00:00:00+00:00",
          "2024-06-29T00:00:00+00:00",
          "2024-06-30T00:00:00+00:00",
          "2024-07-09T00:00:00+00:00",
          "2024-07-11T00:00:00+00:00",
          "2024-07-13T00:00:00+00:00",
          "2024-07-14T00:00:00+00:00",
          "2024-07-15T00:00:00+00:00",
          "2024-07-16T00:00:00+00:00",
          "2024-07-17T00:00:00+00:00",
          "2024-07-19T00:00:00+00:00",
          "2024-07-20T00:00:00+00:00",
          "2024-07-21T00:00:00+00:00",
          "2024-07-22T00:00:00+00:00",
          "2024-07-23T00:00:00+00:00",
          "2024-07-24T00:00:00+00:00",
          "2024-07-25T00:00:00+00:00",
          "2024-07-26T00:00:00+00:00",
          "2024-07-27T00:00:00+00:00",
          "2024-07-29T00:00:00+00:00",
          "2024-07-31T00:00:00+00:00",
          "2024-08-01T00:00:00+00:00",
          "2024-08-07T00:00:00+00:00",
          "2024-08-10T00:00:00+00:00",
          "2024-08-11T00:00:00+00:00",
          "2024-08-12T00:00:00+00:00",
          "2024-08-14T00:00:00+00:00",
          "2024-08-15T00:00:00+00:00",
          "2024-08-16T00:00:00+00:00",
          "2024-08-18T00:00:00+00:00",
          "2024-08-20T00:00:00+00:00",
          "2024-08-21T00:00:00+00:00",
          "2024-08-23T00:00:00+00:00",
          "2024-08-26T00:00:00+00:00",
          "2024-08-27T00:00:00+00:00",
          "2024-08-29T00:00:00+00:00",
          "2024-08-30T00:00:00+00:00",
          "2024-08-31T00:00:00+00:00",
          "2024-09-01T00:00:00+00:00",
          "2024-09-04T00:00:00+00:00",
          "2024-09-08T00:00:00+00:00",
          "2024-09-10T00:00:00+00:00",
          "2024-09-13T00:00:00+00:00",
          "2024-09-16T00:00:00+00:00"
         ],
         "xaxis": "x",
         "y": [
          1855163,
          979337,
          2101533,
          1381050,
          2021257,
          2487233,
          4036574,
          1002032,
          1866019,
          1872379,
          2002126,
          2579795,
          1971576,
          1988317,
          3408732,
          1817193,
          1832645,
          917476,
          2008010,
          948599,
          1630178,
          2002300,
          3698786,
          4380606,
          2098561,
          3562517,
          6997486,
          1360699,
          3471435,
          1875345,
          1754399,
          2093041,
          3884051,
          1794231,
          2481063,
          1897359,
          99474,
          3843889,
          4772835,
          3999287,
          1952620,
          785764,
          5941046,
          1930147,
          621046,
          2095023,
          2026577,
          1589971,
          5993390,
          1931906,
          1631770,
          560172,
          639582,
          3747624,
          2139326,
          1956553,
          4308601,
          4176463,
          3101324,
          3981870,
          1788851,
          1908747,
          4098548,
          1418063,
          4195882,
          1932963,
          845377,
          855737,
          3122343,
          720006,
          813786,
          3065938,
          2789959,
          3892603,
          3600917,
          977065,
          2141601,
          4746745,
          2366562,
          3990821,
          1953532,
          1766110,
          5809172,
          3141586,
          1020618,
          3522317,
          1763263,
          4611128,
          3788353,
          1021896,
          1746374,
          2034818,
          3996445,
          5257487,
          1848444,
          5884259,
          2135171,
          3697643,
          3588914,
          2092528,
          2046407,
          894612,
          8970315,
          2034236,
          3039363,
          2468853,
          3951463,
          3264747,
          926123,
          2731036,
          8122767,
          1914467,
          940648,
          2916672,
          1839602,
          3557549,
          3677583,
          3321012,
          629351,
          491965,
          1322077,
          1016157,
          2332241,
          2941540,
          5561524,
          572909,
          963020,
          3479222,
          1687462,
          3781833,
          2017223,
          5878214,
          1830347,
          4853470,
          454514,
          1911494,
          2435600,
          1997683,
          4158231,
          5094361,
          957827,
          1560070,
          4073699,
          6760486,
          691927,
          612319,
          2117646,
          1918763,
          2117075,
          1137250,
          1943054,
          2130416,
          1020642,
          143512,
          2569140,
          1975015,
          4100103,
          5058806,
          873069,
          2878520,
          3466133,
          1888661,
          1769541,
          2106303,
          688130,
          3114897,
          1035089,
          963209,
          1357709,
          1735887,
          3014760,
          1983850,
          5098697,
          1945760,
          429214,
          1900017,
          1821653,
          2104229,
          2255437,
          4046252,
          957573,
          2116879,
          4166999,
          2322201,
          915222,
          5943057,
          4637003,
          4014794,
          3513341,
          2982423,
          2152772,
          6105365,
          2512447,
          847258,
          919512,
          1773063,
          801845,
          5041097,
          3603708,
          1119111,
          3341540,
          2981348,
          1058556,
          4154960,
          2008576
         ],
         "yaxis": "y"
        },
        {
         "alignmentgroup": "True",
         "hovertemplate": "product=None<br>entry_timestamp=%{x}<br>quantity=%{y}<extra></extra>",
         "legendgroup": "None",
         "marker": {
          "color": "#EF553B",
          "pattern": {
           "shape": ""
          }
         },
         "name": "None",
         "offsetgroup": "None",
         "orientation": "v",
         "showlegend": true,
         "textposition": "auto",
         "type": "bar",
         "x": [
          "2023-11-01T00:00:00+00:00",
          "2023-11-03T00:00:00+00:00",
          "2023-11-05T00:00:00+00:00",
          "2023-11-08T00:00:00+00:00",
          "2023-11-09T00:00:00+00:00",
          "2023-11-10T00:00:00+00:00",
          "2023-11-13T00:00:00+00:00",
          "2023-11-14T00:00:00+00:00",
          "2023-11-15T00:00:00+00:00",
          "2023-11-16T00:00:00+00:00",
          "2023-11-17T00:00:00+00:00",
          "2023-11-18T00:00:00+00:00",
          "2023-11-19T00:00:00+00:00",
          "2023-11-20T00:00:00+00:00",
          "2023-11-22T00:00:00+00:00",
          "2023-11-23T00:00:00+00:00",
          "2023-11-24T00:00:00+00:00",
          "2023-11-25T00:00:00+00:00",
          "2023-11-26T00:00:00+00:00",
          "2023-11-27T00:00:00+00:00",
          "2023-11-28T00:00:00+00:00",
          "2023-11-29T00:00:00+00:00",
          "2023-12-01T00:00:00+00:00",
          "2023-12-03T00:00:00+00:00",
          "2023-12-04T00:00:00+00:00",
          "2023-12-05T00:00:00+00:00",
          "2023-12-09T00:00:00+00:00",
          "2023-12-11T00:00:00+00:00",
          "2023-12-12T00:00:00+00:00",
          "2023-12-13T00:00:00+00:00",
          "2023-12-15T00:00:00+00:00",
          "2023-12-16T00:00:00+00:00",
          "2023-12-18T00:00:00+00:00",
          "2023-12-19T00:00:00+00:00",
          "2023-12-21T00:00:00+00:00",
          "2023-12-25T00:00:00+00:00",
          "2023-12-28T00:00:00+00:00",
          "2023-12-29T00:00:00+00:00",
          "2023-12-30T00:00:00+00:00",
          "2024-01-01T00:00:00+00:00",
          "2024-01-02T00:00:00+00:00",
          "2024-01-04T00:00:00+00:00",
          "2024-01-06T00:00:00+00:00",
          "2024-01-10T00:00:00+00:00",
          "2024-01-11T00:00:00+00:00",
          "2024-01-13T00:00:00+00:00",
          "2024-01-20T00:00:00+00:00",
          "2024-01-21T00:00:00+00:00",
          "2024-01-22T00:00:00+00:00",
          "2024-01-23T00:00:00+00:00",
          "2024-01-24T00:00:00+00:00",
          "2024-01-26T00:00:00+00:00",
          "2024-01-27T00:00:00+00:00",
          "2024-01-28T00:00:00+00:00",
          "2024-01-29T00:00:00+00:00",
          "2024-01-30T00:00:00+00:00",
          "2024-02-01T00:00:00+00:00",
          "2024-02-04T00:00:00+00:00",
          "2024-02-05T00:00:00+00:00",
          "2024-02-06T00:00:00+00:00",
          "2024-02-07T00:00:00+00:00",
          "2024-02-08T00:00:00+00:00",
          "2024-02-09T00:00:00+00:00",
          "2024-02-10T00:00:00+00:00",
          "2024-02-11T00:00:00+00:00",
          "2024-02-13T00:00:00+00:00",
          "2024-02-14T00:00:00+00:00",
          "2024-02-15T00:00:00+00:00",
          "2024-02-16T00:00:00+00:00",
          "2024-02-17T00:00:00+00:00",
          "2024-02-18T00:00:00+00:00",
          "2024-02-19T00:00:00+00:00",
          "2024-02-20T00:00:00+00:00",
          "2024-02-21T00:00:00+00:00",
          "2024-02-22T00:00:00+00:00",
          "2024-02-23T00:00:00+00:00",
          "2024-02-26T00:00:00+00:00",
          "2024-02-27T00:00:00+00:00",
          "2024-02-28T00:00:00+00:00",
          "2024-02-29T00:00:00+00:00",
          "2024-03-01T00:00:00+00:00",
          "2024-03-04T00:00:00+00:00",
          "2024-03-08T00:00:00+00:00",
          "2024-03-09T00:00:00+00:00",
          "2024-03-10T00:00:00+00:00",
          "2024-03-11T00:00:00+00:00",
          "2024-03-12T00:00:00+00:00",
          "2024-03-13T00:00:00+00:00",
          "2024-03-14T00:00:00+00:00",
          "2024-03-16T00:00:00+00:00",
          "2024-03-17T00:00:00+00:00",
          "2024-03-18T00:00:00+00:00",
          "2024-03-19T00:00:00+00:00",
          "2024-03-23T00:00:00+00:00",
          "2024-03-25T00:00:00+00:00",
          "2024-03-26T00:00:00+00:00",
          "2024-03-29T00:00:00+00:00",
          "2024-03-30T00:00:00+00:00",
          "2024-03-31T00:00:00+00:00",
          "2024-04-02T00:00:00+00:00",
          "2024-04-04T00:00:00+00:00",
          "2024-04-05T00:00:00+00:00",
          "2024-04-07T00:00:00+00:00",
          "2024-04-09T00:00:00+00:00",
          "2024-04-10T00:00:00+00:00",
          "2024-04-11T00:00:00+00:00",
          "2024-04-13T00:00:00+00:00",
          "2024-04-15T00:00:00+00:00",
          "2024-04-16T00:00:00+00:00",
          "2024-04-17T00:00:00+00:00",
          "2024-04-18T00:00:00+00:00",
          "2024-04-19T00:00:00+00:00",
          "2024-04-21T00:00:00+00:00",
          "2024-04-22T00:00:00+00:00",
          "2024-04-23T00:00:00+00:00",
          "2024-04-25T00:00:00+00:00",
          "2024-04-26T00:00:00+00:00",
          "2024-04-28T00:00:00+00:00",
          "2024-04-29T00:00:00+00:00",
          "2024-04-30T00:00:00+00:00",
          "2024-05-01T00:00:00+00:00",
          "2024-05-02T00:00:00+00:00",
          "2024-05-03T00:00:00+00:00",
          "2024-05-04T00:00:00+00:00",
          "2024-05-05T00:00:00+00:00",
          "2024-05-06T00:00:00+00:00",
          "2024-05-07T00:00:00+00:00",
          "2024-05-08T00:00:00+00:00",
          "2024-05-10T00:00:00+00:00",
          "2024-05-12T00:00:00+00:00",
          "2024-05-15T00:00:00+00:00",
          "2024-05-18T00:00:00+00:00",
          "2024-05-19T00:00:00+00:00",
          "2024-05-21T00:00:00+00:00",
          "2024-05-22T00:00:00+00:00",
          "2024-05-23T00:00:00+00:00",
          "2024-05-24T00:00:00+00:00",
          "2024-05-25T00:00:00+00:00",
          "2024-05-26T00:00:00+00:00",
          "2024-05-27T00:00:00+00:00",
          "2024-05-28T00:00:00+00:00",
          "2024-05-29T00:00:00+00:00",
          "2024-05-30T00:00:00+00:00",
          "2024-05-31T00:00:00+00:00",
          "2024-06-02T00:00:00+00:00",
          "2024-06-03T00:00:00+00:00",
          "2024-06-04T00:00:00+00:00",
          "2024-06-05T00:00:00+00:00",
          "2024-06-06T00:00:00+00:00",
          "2024-06-07T00:00:00+00:00",
          "2024-06-08T00:00:00+00:00",
          "2024-06-09T00:00:00+00:00",
          "2024-06-10T00:00:00+00:00",
          "2024-06-11T00:00:00+00:00",
          "2024-06-12T00:00:00+00:00",
          "2024-06-13T00:00:00+00:00",
          "2024-06-17T00:00:00+00:00",
          "2024-06-18T00:00:00+00:00",
          "2024-06-19T00:00:00+00:00",
          "2024-06-20T00:00:00+00:00",
          "2024-06-21T00:00:00+00:00",
          "2024-06-22T00:00:00+00:00",
          "2024-06-23T00:00:00+00:00",
          "2024-06-28T00:00:00+00:00",
          "2024-06-30T00:00:00+00:00",
          "2024-07-01T00:00:00+00:00",
          "2024-07-03T00:00:00+00:00",
          "2024-07-04T00:00:00+00:00",
          "2024-07-05T00:00:00+00:00",
          "2024-07-08T00:00:00+00:00",
          "2024-07-09T00:00:00+00:00",
          "2024-07-10T00:00:00+00:00",
          "2024-07-11T00:00:00+00:00",
          "2024-07-12T00:00:00+00:00",
          "2024-07-13T00:00:00+00:00",
          "2024-07-14T00:00:00+00:00",
          "2024-07-15T00:00:00+00:00",
          "2024-07-16T00:00:00+00:00",
          "2024-07-17T00:00:00+00:00",
          "2024-07-19T00:00:00+00:00",
          "2024-07-21T00:00:00+00:00",
          "2024-07-22T00:00:00+00:00",
          "2024-07-23T00:00:00+00:00",
          "2024-07-24T00:00:00+00:00",
          "2024-07-26T00:00:00+00:00",
          "2024-07-27T00:00:00+00:00",
          "2024-07-31T00:00:00+00:00",
          "2024-08-01T00:00:00+00:00",
          "2024-08-02T00:00:00+00:00",
          "2024-08-03T00:00:00+00:00",
          "2024-08-05T00:00:00+00:00",
          "2024-08-07T00:00:00+00:00",
          "2024-08-10T00:00:00+00:00",
          "2024-08-11T00:00:00+00:00",
          "2024-08-14T00:00:00+00:00",
          "2024-08-16T00:00:00+00:00",
          "2024-08-17T00:00:00+00:00",
          "2024-08-18T00:00:00+00:00",
          "2024-08-19T00:00:00+00:00",
          "2024-08-21T00:00:00+00:00",
          "2024-08-22T00:00:00+00:00",
          "2024-08-24T00:00:00+00:00",
          "2024-08-25T00:00:00+00:00",
          "2024-08-26T00:00:00+00:00",
          "2024-08-27T00:00:00+00:00",
          "2024-08-30T00:00:00+00:00",
          "2024-08-31T00:00:00+00:00",
          "2024-09-04T00:00:00+00:00",
          "2024-09-05T00:00:00+00:00",
          "2024-09-06T00:00:00+00:00",
          "2024-09-08T00:00:00+00:00",
          "2024-09-09T00:00:00+00:00",
          "2024-09-10T00:00:00+00:00",
          "2024-09-12T00:00:00+00:00",
          "2024-09-15T00:00:00+00:00"
         ],
         "xaxis": "x",
         "y": [
          0,
          0,
          0,
          0,
          0,
          0,
          0,
          0,
          0,
          0,
          0,
          0,
          0,
          0,
          0,
          0,
          0,
          0,
          0,
          0,
          0,
          0,
          0,
          0,
          0,
          0,
          0,
          0,
          0,
          0,
          0,
          0,
          0,
          0,
          0,
          0,
          0,
          0,
          0,
          0,
          0,
          0,
          0,
          0,
          0,
          0,
          0,
          0,
          0,
          0,
          0,
          0,
          0,
          0,
          0,
          0,
          0,
          0,
          0,
          0,
          0,
          0,
          0,
          0,
          0,
          0,
          0,
          0,
          0,
          0,
          0,
          0,
          0,
          0,
          0,
          0,
          0,
          0,
          0,
          0,
          0,
          0,
          0,
          0,
          0,
          0,
          0,
          0,
          0,
          0,
          0,
          0,
          0,
          0,
          0,
          0,
          0,
          0,
          0,
          0,
          0,
          0,
          0,
          0,
          0,
          0,
          0,
          0,
          0,
          0,
          0,
          0,
          0,
          0,
          0,
          0,
          0,
          0,
          0,
          0,
          0,
          0,
          0,
          0,
          0,
          0,
          0,
          0,
          0,
          0,
          0,
          0,
          0,
          0,
          0,
          0,
          0,
          0,
          0,
          0,
          0,
          0,
          0,
          0,
          0,
          0,
          0,
          0,
          0,
          0,
          0,
          0,
          0,
          0,
          0,
          0,
          0,
          0,
          0,
          0,
          0,
          0,
          0,
          0,
          0,
          0,
          0,
          0,
          0,
          0,
          0,
          0,
          0,
          0,
          0,
          0,
          0,
          0,
          0,
          0,
          0,
          0,
          0,
          0,
          0,
          0,
          0,
          0,
          0,
          0,
          0,
          0,
          0,
          0,
          0,
          0,
          0,
          0,
          0,
          0,
          0,
          0,
          0,
          0,
          0,
          0,
          0,
          0,
          0,
          0,
          0,
          0,
          0,
          0,
          0
         ],
         "yaxis": "y"
        },
        {
         "alignmentgroup": "True",
         "hovertemplate": "product=Clean Petroleum Products<br>entry_timestamp=%{x}<br>quantity=%{y}<extra></extra>",
         "legendgroup": "Clean Petroleum Products",
         "marker": {
          "color": "#00cc96",
          "pattern": {
           "shape": ""
          }
         },
         "name": "Clean Petroleum Products",
         "offsetgroup": "Clean Petroleum Products",
         "orientation": "v",
         "showlegend": true,
         "textposition": "auto",
         "type": "bar",
         "x": [
          "2023-11-07T00:00:00+00:00",
          "2023-11-09T00:00:00+00:00",
          "2023-11-10T00:00:00+00:00",
          "2023-11-13T00:00:00+00:00",
          "2023-11-14T00:00:00+00:00",
          "2023-11-16T00:00:00+00:00",
          "2023-11-17T00:00:00+00:00",
          "2023-11-18T00:00:00+00:00",
          "2023-11-24T00:00:00+00:00",
          "2023-11-25T00:00:00+00:00",
          "2023-11-28T00:00:00+00:00",
          "2023-11-29T00:00:00+00:00",
          "2023-11-30T00:00:00+00:00",
          "2023-12-05T00:00:00+00:00",
          "2023-12-07T00:00:00+00:00",
          "2023-12-08T00:00:00+00:00",
          "2023-12-09T00:00:00+00:00",
          "2023-12-11T00:00:00+00:00",
          "2023-12-13T00:00:00+00:00",
          "2023-12-14T00:00:00+00:00",
          "2023-12-15T00:00:00+00:00",
          "2023-12-16T00:00:00+00:00",
          "2023-12-17T00:00:00+00:00",
          "2023-12-18T00:00:00+00:00",
          "2023-12-19T00:00:00+00:00",
          "2023-12-21T00:00:00+00:00",
          "2023-12-24T00:00:00+00:00",
          "2023-12-25T00:00:00+00:00",
          "2023-12-29T00:00:00+00:00",
          "2023-12-30T00:00:00+00:00",
          "2024-01-02T00:00:00+00:00",
          "2024-01-04T00:00:00+00:00",
          "2024-01-05T00:00:00+00:00",
          "2024-01-06T00:00:00+00:00",
          "2024-01-07T00:00:00+00:00",
          "2024-01-09T00:00:00+00:00",
          "2024-01-10T00:00:00+00:00",
          "2024-01-11T00:00:00+00:00",
          "2024-01-12T00:00:00+00:00",
          "2024-01-13T00:00:00+00:00",
          "2024-01-15T00:00:00+00:00",
          "2024-01-18T00:00:00+00:00",
          "2024-01-19T00:00:00+00:00",
          "2024-01-20T00:00:00+00:00",
          "2024-01-22T00:00:00+00:00",
          "2024-01-23T00:00:00+00:00",
          "2024-01-24T00:00:00+00:00",
          "2024-01-26T00:00:00+00:00",
          "2024-01-27T00:00:00+00:00",
          "2024-01-28T00:00:00+00:00",
          "2024-01-29T00:00:00+00:00",
          "2024-01-30T00:00:00+00:00",
          "2024-01-31T00:00:00+00:00",
          "2024-02-01T00:00:00+00:00",
          "2024-02-02T00:00:00+00:00",
          "2024-02-03T00:00:00+00:00",
          "2024-02-05T00:00:00+00:00",
          "2024-02-06T00:00:00+00:00",
          "2024-02-07T00:00:00+00:00",
          "2024-02-08T00:00:00+00:00",
          "2024-02-09T00:00:00+00:00",
          "2024-02-10T00:00:00+00:00",
          "2024-02-11T00:00:00+00:00",
          "2024-02-12T00:00:00+00:00",
          "2024-02-13T00:00:00+00:00",
          "2024-02-14T00:00:00+00:00",
          "2024-02-15T00:00:00+00:00",
          "2024-02-17T00:00:00+00:00",
          "2024-02-18T00:00:00+00:00",
          "2024-02-19T00:00:00+00:00",
          "2024-02-20T00:00:00+00:00",
          "2024-02-21T00:00:00+00:00",
          "2024-02-22T00:00:00+00:00",
          "2024-02-23T00:00:00+00:00",
          "2024-02-24T00:00:00+00:00",
          "2024-02-25T00:00:00+00:00",
          "2024-02-26T00:00:00+00:00",
          "2024-02-27T00:00:00+00:00",
          "2024-02-28T00:00:00+00:00",
          "2024-02-29T00:00:00+00:00",
          "2024-03-01T00:00:00+00:00",
          "2024-03-02T00:00:00+00:00",
          "2024-03-03T00:00:00+00:00",
          "2024-03-04T00:00:00+00:00",
          "2024-03-05T00:00:00+00:00",
          "2024-03-06T00:00:00+00:00",
          "2024-03-07T00:00:00+00:00",
          "2024-03-08T00:00:00+00:00",
          "2024-03-09T00:00:00+00:00",
          "2024-03-10T00:00:00+00:00",
          "2024-03-11T00:00:00+00:00",
          "2024-03-12T00:00:00+00:00",
          "2024-03-13T00:00:00+00:00",
          "2024-03-14T00:00:00+00:00",
          "2024-03-15T00:00:00+00:00",
          "2024-03-16T00:00:00+00:00",
          "2024-03-17T00:00:00+00:00",
          "2024-03-18T00:00:00+00:00",
          "2024-03-19T00:00:00+00:00",
          "2024-03-20T00:00:00+00:00",
          "2024-03-21T00:00:00+00:00",
          "2024-03-23T00:00:00+00:00",
          "2024-03-24T00:00:00+00:00",
          "2024-03-25T00:00:00+00:00",
          "2024-03-26T00:00:00+00:00",
          "2024-03-27T00:00:00+00:00",
          "2024-03-28T00:00:00+00:00",
          "2024-03-29T00:00:00+00:00",
          "2024-03-30T00:00:00+00:00",
          "2024-03-31T00:00:00+00:00",
          "2024-04-01T00:00:00+00:00",
          "2024-04-02T00:00:00+00:00",
          "2024-04-03T00:00:00+00:00",
          "2024-04-04T00:00:00+00:00",
          "2024-04-05T00:00:00+00:00",
          "2024-04-06T00:00:00+00:00",
          "2024-04-07T00:00:00+00:00",
          "2024-04-08T00:00:00+00:00",
          "2024-04-09T00:00:00+00:00",
          "2024-04-10T00:00:00+00:00",
          "2024-04-11T00:00:00+00:00",
          "2024-04-12T00:00:00+00:00",
          "2024-04-13T00:00:00+00:00",
          "2024-04-14T00:00:00+00:00",
          "2024-04-15T00:00:00+00:00",
          "2024-04-16T00:00:00+00:00",
          "2024-04-17T00:00:00+00:00",
          "2024-04-18T00:00:00+00:00",
          "2024-04-19T00:00:00+00:00",
          "2024-04-20T00:00:00+00:00",
          "2024-04-21T00:00:00+00:00",
          "2024-04-22T00:00:00+00:00",
          "2024-04-23T00:00:00+00:00",
          "2024-04-24T00:00:00+00:00",
          "2024-04-25T00:00:00+00:00",
          "2024-04-26T00:00:00+00:00",
          "2024-04-27T00:00:00+00:00",
          "2024-04-28T00:00:00+00:00",
          "2024-04-29T00:00:00+00:00",
          "2024-05-01T00:00:00+00:00",
          "2024-05-02T00:00:00+00:00",
          "2024-05-03T00:00:00+00:00",
          "2024-05-04T00:00:00+00:00",
          "2024-05-05T00:00:00+00:00",
          "2024-05-06T00:00:00+00:00",
          "2024-05-07T00:00:00+00:00",
          "2024-05-08T00:00:00+00:00",
          "2024-05-09T00:00:00+00:00",
          "2024-05-10T00:00:00+00:00",
          "2024-05-11T00:00:00+00:00",
          "2024-05-13T00:00:00+00:00",
          "2024-05-14T00:00:00+00:00",
          "2024-05-15T00:00:00+00:00",
          "2024-05-16T00:00:00+00:00",
          "2024-05-17T00:00:00+00:00",
          "2024-05-18T00:00:00+00:00",
          "2024-05-19T00:00:00+00:00",
          "2024-05-20T00:00:00+00:00",
          "2024-05-22T00:00:00+00:00",
          "2024-05-23T00:00:00+00:00",
          "2024-05-24T00:00:00+00:00",
          "2024-05-25T00:00:00+00:00",
          "2024-05-28T00:00:00+00:00",
          "2024-05-30T00:00:00+00:00",
          "2024-05-31T00:00:00+00:00",
          "2024-06-01T00:00:00+00:00",
          "2024-06-02T00:00:00+00:00",
          "2024-06-03T00:00:00+00:00",
          "2024-06-04T00:00:00+00:00",
          "2024-06-05T00:00:00+00:00",
          "2024-06-07T00:00:00+00:00",
          "2024-06-08T00:00:00+00:00",
          "2024-06-09T00:00:00+00:00",
          "2024-06-10T00:00:00+00:00",
          "2024-06-11T00:00:00+00:00",
          "2024-06-12T00:00:00+00:00",
          "2024-06-13T00:00:00+00:00",
          "2024-06-14T00:00:00+00:00",
          "2024-06-15T00:00:00+00:00",
          "2024-06-16T00:00:00+00:00",
          "2024-06-17T00:00:00+00:00",
          "2024-06-18T00:00:00+00:00",
          "2024-06-19T00:00:00+00:00",
          "2024-06-20T00:00:00+00:00",
          "2024-06-21T00:00:00+00:00",
          "2024-06-22T00:00:00+00:00",
          "2024-06-23T00:00:00+00:00",
          "2024-06-24T00:00:00+00:00",
          "2024-06-25T00:00:00+00:00",
          "2024-06-26T00:00:00+00:00",
          "2024-06-28T00:00:00+00:00",
          "2024-06-29T00:00:00+00:00",
          "2024-06-30T00:00:00+00:00",
          "2024-07-01T00:00:00+00:00",
          "2024-07-02T00:00:00+00:00",
          "2024-07-03T00:00:00+00:00",
          "2024-07-04T00:00:00+00:00",
          "2024-07-05T00:00:00+00:00",
          "2024-07-06T00:00:00+00:00",
          "2024-07-08T00:00:00+00:00",
          "2024-07-09T00:00:00+00:00",
          "2024-07-11T00:00:00+00:00",
          "2024-07-12T00:00:00+00:00",
          "2024-07-13T00:00:00+00:00",
          "2024-07-14T00:00:00+00:00",
          "2024-07-15T00:00:00+00:00",
          "2024-07-16T00:00:00+00:00",
          "2024-07-17T00:00:00+00:00",
          "2024-07-18T00:00:00+00:00",
          "2024-07-19T00:00:00+00:00",
          "2024-07-20T00:00:00+00:00",
          "2024-07-21T00:00:00+00:00",
          "2024-07-22T00:00:00+00:00",
          "2024-07-23T00:00:00+00:00",
          "2024-07-24T00:00:00+00:00",
          "2024-07-25T00:00:00+00:00",
          "2024-07-26T00:00:00+00:00",
          "2024-07-28T00:00:00+00:00",
          "2024-07-29T00:00:00+00:00",
          "2024-07-30T00:00:00+00:00",
          "2024-07-31T00:00:00+00:00",
          "2024-08-01T00:00:00+00:00",
          "2024-08-02T00:00:00+00:00",
          "2024-08-03T00:00:00+00:00",
          "2024-08-04T00:00:00+00:00",
          "2024-08-05T00:00:00+00:00",
          "2024-08-06T00:00:00+00:00",
          "2024-08-07T00:00:00+00:00",
          "2024-08-08T00:00:00+00:00",
          "2024-08-10T00:00:00+00:00",
          "2024-08-11T00:00:00+00:00",
          "2024-08-12T00:00:00+00:00",
          "2024-08-14T00:00:00+00:00",
          "2024-08-15T00:00:00+00:00",
          "2024-08-16T00:00:00+00:00",
          "2024-08-17T00:00:00+00:00",
          "2024-08-18T00:00:00+00:00",
          "2024-08-19T00:00:00+00:00",
          "2024-08-20T00:00:00+00:00",
          "2024-08-21T00:00:00+00:00",
          "2024-08-22T00:00:00+00:00",
          "2024-08-23T00:00:00+00:00",
          "2024-08-24T00:00:00+00:00",
          "2024-08-25T00:00:00+00:00",
          "2024-08-26T00:00:00+00:00",
          "2024-08-27T00:00:00+00:00",
          "2024-08-28T00:00:00+00:00",
          "2024-08-30T00:00:00+00:00",
          "2024-08-31T00:00:00+00:00",
          "2024-09-01T00:00:00+00:00",
          "2024-09-02T00:00:00+00:00",
          "2024-09-03T00:00:00+00:00",
          "2024-09-04T00:00:00+00:00",
          "2024-09-05T00:00:00+00:00",
          "2024-09-06T00:00:00+00:00",
          "2024-09-08T00:00:00+00:00",
          "2024-09-09T00:00:00+00:00",
          "2024-09-10T00:00:00+00:00",
          "2024-09-11T00:00:00+00:00",
          "2024-09-12T00:00:00+00:00",
          "2024-09-14T00:00:00+00:00",
          "2024-09-15T00:00:00+00:00",
          "2024-09-16T00:00:00+00:00"
         ],
         "xaxis": "x",
         "y": [
          213262,
          736664,
          498665,
          29171,
          274102,
          616848,
          837037,
          521921,
          301244,
          519421,
          275391,
          242464,
          921788,
          254095,
          275391,
          383106,
          21107,
          120824,
          303266,
          303126,
          204018,
          315149,
          350034,
          515359,
          62259,
          218013,
          157417,
          338186,
          63547,
          167529,
          1656935,
          373450,
          67739,
          181250,
          305209,
          385308,
          173179,
          398818,
          1137756,
          263769,
          1050982,
          1291133,
          194627,
          214119,
          423712,
          91559,
          303209,
          661641,
          847256,
          1102308,
          3089806,
          133215,
          1054146,
          643119,
          193301,
          1587472,
          1755717,
          2118611,
          1286910,
          1717249,
          1186490,
          244670,
          295283,
          566512,
          142238,
          648971,
          3836800,
          2586849,
          1684593,
          1021087,
          162297,
          1328303,
          17658,
          769375,
          778866,
          203453,
          112407,
          1015220,
          821597,
          376535,
          917149,
          202181,
          204033,
          632775,
          2270162,
          1981350,
          426624,
          1209273,
          1558640,
          1857077,
          592980,
          1393856,
          681399,
          164021,
          443300,
          795085,
          425270,
          1677329,
          776316,
          1809239,
          832721,
          319662,
          1132329,
          1111099,
          1291629,
          263816,
          1111766,
          817580,
          1756978,
          2258516,
          1099280,
          138462,
          794159,
          1494875,
          775527,
          1022453,
          2841049,
          3517966,
          785056,
          2811694,
          156233,
          96304,
          316586,
          310314,
          2245294,
          1136094,
          2458991,
          818639,
          1719551,
          629628,
          1620305,
          978844,
          1171117,
          499589,
          1265344,
          1518075,
          115711,
          947901,
          573351,
          786372,
          450395,
          505335,
          1424839,
          2058693,
          1465755,
          138607,
          138957,
          1074783,
          430974,
          300620,
          1114457,
          639225,
          3315036,
          818661,
          897030,
          897849,
          1498032,
          1260045,
          1619090,
          803679,
          767721,
          1116693,
          709099,
          1603496,
          2159801,
          492232,
          155944,
          824697,
          513439,
          652039,
          697617,
          229442,
          466009,
          1994506,
          2340575,
          2082485,
          211306,
          1055158,
          1064288,
          1132804,
          826725,
          1393807,
          545383,
          1736776,
          748945,
          939939,
          322672,
          1602105,
          980938,
          1871288,
          1440347,
          884691,
          262076,
          549414,
          1017244,
          104327,
          833529,
          92035,
          1681042,
          257889,
          126023,
          3071819,
          6207180,
          329420,
          247676,
          1015301,
          1301378,
          540105,
          322205,
          338674,
          1186425,
          981217,
          105570,
          340898,
          1235237,
          1805922,
          1515509,
          1323177,
          1101453,
          593487,
          776385,
          2502350,
          72340,
          2888471,
          929227,
          128424,
          193989,
          1046937,
          608151,
          862770,
          140293,
          2304276,
          1613410,
          1474329,
          936736,
          1786710,
          1108595,
          1127304,
          656287,
          1667643,
          202939,
          1763135,
          167213,
          1561692,
          775528,
          240648,
          272553,
          548692,
          1718250,
          383445,
          710635,
          1825327,
          666303,
          26827,
          340819,
          460012,
          3953884,
          1502436,
          1211722,
          1941858,
          459450,
          1433429,
          1535507
         ],
         "yaxis": "y"
        },
        {
         "alignmentgroup": "True",
         "hovertemplate": "product=Dirty Petroleum Products<br>entry_timestamp=%{x}<br>quantity=%{y}<extra></extra>",
         "legendgroup": "Dirty Petroleum Products",
         "marker": {
          "color": "#ab63fa",
          "pattern": {
           "shape": ""
          }
         },
         "name": "Dirty Petroleum Products",
         "offsetgroup": "Dirty Petroleum Products",
         "orientation": "v",
         "showlegend": true,
         "textposition": "auto",
         "type": "bar",
         "x": [
          "2023-12-03T00:00:00+00:00",
          "2023-12-12T00:00:00+00:00",
          "2023-12-18T00:00:00+00:00",
          "2023-12-28T00:00:00+00:00",
          "2023-12-31T00:00:00+00:00",
          "2024-01-02T00:00:00+00:00",
          "2024-01-03T00:00:00+00:00",
          "2024-01-05T00:00:00+00:00",
          "2024-01-08T00:00:00+00:00",
          "2024-01-13T00:00:00+00:00",
          "2024-01-19T00:00:00+00:00",
          "2024-01-20T00:00:00+00:00",
          "2024-01-24T00:00:00+00:00",
          "2024-01-26T00:00:00+00:00",
          "2024-02-06T00:00:00+00:00",
          "2024-02-10T00:00:00+00:00",
          "2024-02-17T00:00:00+00:00",
          "2024-02-22T00:00:00+00:00",
          "2024-02-24T00:00:00+00:00",
          "2024-02-26T00:00:00+00:00",
          "2024-02-27T00:00:00+00:00",
          "2024-02-28T00:00:00+00:00",
          "2024-03-09T00:00:00+00:00",
          "2024-03-10T00:00:00+00:00",
          "2024-03-13T00:00:00+00:00",
          "2024-03-19T00:00:00+00:00",
          "2024-03-22T00:00:00+00:00",
          "2024-03-31T00:00:00+00:00",
          "2024-04-04T00:00:00+00:00",
          "2024-04-08T00:00:00+00:00",
          "2024-04-11T00:00:00+00:00",
          "2024-04-23T00:00:00+00:00",
          "2024-04-25T00:00:00+00:00",
          "2024-04-26T00:00:00+00:00",
          "2024-04-28T00:00:00+00:00",
          "2024-04-29T00:00:00+00:00",
          "2024-05-03T00:00:00+00:00",
          "2024-05-06T00:00:00+00:00",
          "2024-05-08T00:00:00+00:00",
          "2024-05-13T00:00:00+00:00",
          "2024-05-14T00:00:00+00:00",
          "2024-05-18T00:00:00+00:00",
          "2024-05-21T00:00:00+00:00",
          "2024-05-29T00:00:00+00:00",
          "2024-06-02T00:00:00+00:00",
          "2024-06-06T00:00:00+00:00",
          "2024-06-16T00:00:00+00:00",
          "2024-06-22T00:00:00+00:00",
          "2024-07-02T00:00:00+00:00",
          "2024-07-04T00:00:00+00:00",
          "2024-07-10T00:00:00+00:00",
          "2024-07-12T00:00:00+00:00",
          "2024-08-03T00:00:00+00:00",
          "2024-08-04T00:00:00+00:00",
          "2024-08-06T00:00:00+00:00",
          "2024-08-11T00:00:00+00:00",
          "2024-08-12T00:00:00+00:00",
          "2024-08-13T00:00:00+00:00",
          "2024-08-24T00:00:00+00:00",
          "2024-08-25T00:00:00+00:00",
          "2024-08-27T00:00:00+00:00",
          "2024-09-15T00:00:00+00:00"
         ],
         "xaxis": "x",
         "y": [
          711930,
          983582,
          654896,
          640353,
          975779,
          925090,
          621985,
          967114,
          54283,
          695870,
          241921,
          990483,
          430116,
          970657,
          945761,
          817045,
          1643194,
          66127,
          960032,
          642856,
          1510256,
          262531,
          443918,
          558727,
          694206,
          663217,
          454765,
          232826,
          269589,
          173640,
          845346,
          574039,
          610873,
          643260,
          685449,
          685290,
          209330,
          1882516,
          555570,
          854186,
          652542,
          542240,
          243987,
          713784,
          699356,
          668698,
          968392,
          844788,
          1056247,
          927783,
          669072,
          341470,
          217147,
          613748,
          738927,
          423801,
          43426,
          43426,
          685524,
          843695,
          640642,
          2655939
         ],
         "yaxis": "y"
        }
       ],
       "layout": {
        "barmode": "relative",
        "legend": {
         "title": {
          "text": "product"
         },
         "tracegroupgap": 0
        },
        "template": {
         "data": {
          "bar": [
           {
            "error_x": {
             "color": "#2a3f5f"
            },
            "error_y": {
             "color": "#2a3f5f"
            },
            "marker": {
             "line": {
              "color": "#E5ECF6",
              "width": 0.5
             },
             "pattern": {
              "fillmode": "overlay",
              "size": 10,
              "solidity": 0.2
             }
            },
            "type": "bar"
           }
          ],
          "barpolar": [
           {
            "marker": {
             "line": {
              "color": "#E5ECF6",
              "width": 0.5
             },
             "pattern": {
              "fillmode": "overlay",
              "size": 10,
              "solidity": 0.2
             }
            },
            "type": "barpolar"
           }
          ],
          "carpet": [
           {
            "aaxis": {
             "endlinecolor": "#2a3f5f",
             "gridcolor": "white",
             "linecolor": "white",
             "minorgridcolor": "white",
             "startlinecolor": "#2a3f5f"
            },
            "baxis": {
             "endlinecolor": "#2a3f5f",
             "gridcolor": "white",
             "linecolor": "white",
             "minorgridcolor": "white",
             "startlinecolor": "#2a3f5f"
            },
            "type": "carpet"
           }
          ],
          "choropleth": [
           {
            "colorbar": {
             "outlinewidth": 0,
             "ticks": ""
            },
            "type": "choropleth"
           }
          ],
          "contour": [
           {
            "colorbar": {
             "outlinewidth": 0,
             "ticks": ""
            },
            "colorscale": [
             [
              0,
              "#0d0887"
             ],
             [
              0.1111111111111111,
              "#46039f"
             ],
             [
              0.2222222222222222,
              "#7201a8"
             ],
             [
              0.3333333333333333,
              "#9c179e"
             ],
             [
              0.4444444444444444,
              "#bd3786"
             ],
             [
              0.5555555555555556,
              "#d8576b"
             ],
             [
              0.6666666666666666,
              "#ed7953"
             ],
             [
              0.7777777777777778,
              "#fb9f3a"
             ],
             [
              0.8888888888888888,
              "#fdca26"
             ],
             [
              1,
              "#f0f921"
             ]
            ],
            "type": "contour"
           }
          ],
          "contourcarpet": [
           {
            "colorbar": {
             "outlinewidth": 0,
             "ticks": ""
            },
            "type": "contourcarpet"
           }
          ],
          "heatmap": [
           {
            "colorbar": {
             "outlinewidth": 0,
             "ticks": ""
            },
            "colorscale": [
             [
              0,
              "#0d0887"
             ],
             [
              0.1111111111111111,
              "#46039f"
             ],
             [
              0.2222222222222222,
              "#7201a8"
             ],
             [
              0.3333333333333333,
              "#9c179e"
             ],
             [
              0.4444444444444444,
              "#bd3786"
             ],
             [
              0.5555555555555556,
              "#d8576b"
             ],
             [
              0.6666666666666666,
              "#ed7953"
             ],
             [
              0.7777777777777778,
              "#fb9f3a"
             ],
             [
              0.8888888888888888,
              "#fdca26"
             ],
             [
              1,
              "#f0f921"
             ]
            ],
            "type": "heatmap"
           }
          ],
          "heatmapgl": [
           {
            "colorbar": {
             "outlinewidth": 0,
             "ticks": ""
            },
            "colorscale": [
             [
              0,
              "#0d0887"
             ],
             [
              0.1111111111111111,
              "#46039f"
             ],
             [
              0.2222222222222222,
              "#7201a8"
             ],
             [
              0.3333333333333333,
              "#9c179e"
             ],
             [
              0.4444444444444444,
              "#bd3786"
             ],
             [
              0.5555555555555556,
              "#d8576b"
             ],
             [
              0.6666666666666666,
              "#ed7953"
             ],
             [
              0.7777777777777778,
              "#fb9f3a"
             ],
             [
              0.8888888888888888,
              "#fdca26"
             ],
             [
              1,
              "#f0f921"
             ]
            ],
            "type": "heatmapgl"
           }
          ],
          "histogram": [
           {
            "marker": {
             "pattern": {
              "fillmode": "overlay",
              "size": 10,
              "solidity": 0.2
             }
            },
            "type": "histogram"
           }
          ],
          "histogram2d": [
           {
            "colorbar": {
             "outlinewidth": 0,
             "ticks": ""
            },
            "colorscale": [
             [
              0,
              "#0d0887"
             ],
             [
              0.1111111111111111,
              "#46039f"
             ],
             [
              0.2222222222222222,
              "#7201a8"
             ],
             [
              0.3333333333333333,
              "#9c179e"
             ],
             [
              0.4444444444444444,
              "#bd3786"
             ],
             [
              0.5555555555555556,
              "#d8576b"
             ],
             [
              0.6666666666666666,
              "#ed7953"
             ],
             [
              0.7777777777777778,
              "#fb9f3a"
             ],
             [
              0.8888888888888888,
              "#fdca26"
             ],
             [
              1,
              "#f0f921"
             ]
            ],
            "type": "histogram2d"
           }
          ],
          "histogram2dcontour": [
           {
            "colorbar": {
             "outlinewidth": 0,
             "ticks": ""
            },
            "colorscale": [
             [
              0,
              "#0d0887"
             ],
             [
              0.1111111111111111,
              "#46039f"
             ],
             [
              0.2222222222222222,
              "#7201a8"
             ],
             [
              0.3333333333333333,
              "#9c179e"
             ],
             [
              0.4444444444444444,
              "#bd3786"
             ],
             [
              0.5555555555555556,
              "#d8576b"
             ],
             [
              0.6666666666666666,
              "#ed7953"
             ],
             [
              0.7777777777777778,
              "#fb9f3a"
             ],
             [
              0.8888888888888888,
              "#fdca26"
             ],
             [
              1,
              "#f0f921"
             ]
            ],
            "type": "histogram2dcontour"
           }
          ],
          "mesh3d": [
           {
            "colorbar": {
             "outlinewidth": 0,
             "ticks": ""
            },
            "type": "mesh3d"
           }
          ],
          "parcoords": [
           {
            "line": {
             "colorbar": {
              "outlinewidth": 0,
              "ticks": ""
             }
            },
            "type": "parcoords"
           }
          ],
          "pie": [
           {
            "automargin": true,
            "type": "pie"
           }
          ],
          "scatter": [
           {
            "fillpattern": {
             "fillmode": "overlay",
             "size": 10,
             "solidity": 0.2
            },
            "type": "scatter"
           }
          ],
          "scatter3d": [
           {
            "line": {
             "colorbar": {
              "outlinewidth": 0,
              "ticks": ""
             }
            },
            "marker": {
             "colorbar": {
              "outlinewidth": 0,
              "ticks": ""
             }
            },
            "type": "scatter3d"
           }
          ],
          "scattercarpet": [
           {
            "marker": {
             "colorbar": {
              "outlinewidth": 0,
              "ticks": ""
             }
            },
            "type": "scattercarpet"
           }
          ],
          "scattergeo": [
           {
            "marker": {
             "colorbar": {
              "outlinewidth": 0,
              "ticks": ""
             }
            },
            "type": "scattergeo"
           }
          ],
          "scattergl": [
           {
            "marker": {
             "colorbar": {
              "outlinewidth": 0,
              "ticks": ""
             }
            },
            "type": "scattergl"
           }
          ],
          "scattermapbox": [
           {
            "marker": {
             "colorbar": {
              "outlinewidth": 0,
              "ticks": ""
             }
            },
            "type": "scattermapbox"
           }
          ],
          "scatterpolar": [
           {
            "marker": {
             "colorbar": {
              "outlinewidth": 0,
              "ticks": ""
             }
            },
            "type": "scatterpolar"
           }
          ],
          "scatterpolargl": [
           {
            "marker": {
             "colorbar": {
              "outlinewidth": 0,
              "ticks": ""
             }
            },
            "type": "scatterpolargl"
           }
          ],
          "scatterternary": [
           {
            "marker": {
             "colorbar": {
              "outlinewidth": 0,
              "ticks": ""
             }
            },
            "type": "scatterternary"
           }
          ],
          "surface": [
           {
            "colorbar": {
             "outlinewidth": 0,
             "ticks": ""
            },
            "colorscale": [
             [
              0,
              "#0d0887"
             ],
             [
              0.1111111111111111,
              "#46039f"
             ],
             [
              0.2222222222222222,
              "#7201a8"
             ],
             [
              0.3333333333333333,
              "#9c179e"
             ],
             [
              0.4444444444444444,
              "#bd3786"
             ],
             [
              0.5555555555555556,
              "#d8576b"
             ],
             [
              0.6666666666666666,
              "#ed7953"
             ],
             [
              0.7777777777777778,
              "#fb9f3a"
             ],
             [
              0.8888888888888888,
              "#fdca26"
             ],
             [
              1,
              "#f0f921"
             ]
            ],
            "type": "surface"
           }
          ],
          "table": [
           {
            "cells": {
             "fill": {
              "color": "#EBF0F8"
             },
             "line": {
              "color": "white"
             }
            },
            "header": {
             "fill": {
              "color": "#C8D4E3"
             },
             "line": {
              "color": "white"
             }
            },
            "type": "table"
           }
          ]
         },
         "layout": {
          "annotationdefaults": {
           "arrowcolor": "#2a3f5f",
           "arrowhead": 0,
           "arrowwidth": 1
          },
          "autotypenumbers": "strict",
          "coloraxis": {
           "colorbar": {
            "outlinewidth": 0,
            "ticks": ""
           }
          },
          "colorscale": {
           "diverging": [
            [
             0,
             "#8e0152"
            ],
            [
             0.1,
             "#c51b7d"
            ],
            [
             0.2,
             "#de77ae"
            ],
            [
             0.3,
             "#f1b6da"
            ],
            [
             0.4,
             "#fde0ef"
            ],
            [
             0.5,
             "#f7f7f7"
            ],
            [
             0.6,
             "#e6f5d0"
            ],
            [
             0.7,
             "#b8e186"
            ],
            [
             0.8,
             "#7fbc41"
            ],
            [
             0.9,
             "#4d9221"
            ],
            [
             1,
             "#276419"
            ]
           ],
           "sequential": [
            [
             0,
             "#0d0887"
            ],
            [
             0.1111111111111111,
             "#46039f"
            ],
            [
             0.2222222222222222,
             "#7201a8"
            ],
            [
             0.3333333333333333,
             "#9c179e"
            ],
            [
             0.4444444444444444,
             "#bd3786"
            ],
            [
             0.5555555555555556,
             "#d8576b"
            ],
            [
             0.6666666666666666,
             "#ed7953"
            ],
            [
             0.7777777777777778,
             "#fb9f3a"
            ],
            [
             0.8888888888888888,
             "#fdca26"
            ],
            [
             1,
             "#f0f921"
            ]
           ],
           "sequentialminus": [
            [
             0,
             "#0d0887"
            ],
            [
             0.1111111111111111,
             "#46039f"
            ],
            [
             0.2222222222222222,
             "#7201a8"
            ],
            [
             0.3333333333333333,
             "#9c179e"
            ],
            [
             0.4444444444444444,
             "#bd3786"
            ],
            [
             0.5555555555555556,
             "#d8576b"
            ],
            [
             0.6666666666666666,
             "#ed7953"
            ],
            [
             0.7777777777777778,
             "#fb9f3a"
            ],
            [
             0.8888888888888888,
             "#fdca26"
            ],
            [
             1,
             "#f0f921"
            ]
           ]
          },
          "colorway": [
           "#636efa",
           "#EF553B",
           "#00cc96",
           "#ab63fa",
           "#FFA15A",
           "#19d3f3",
           "#FF6692",
           "#B6E880",
           "#FF97FF",
           "#FECB52"
          ],
          "font": {
           "color": "#2a3f5f"
          },
          "geo": {
           "bgcolor": "white",
           "lakecolor": "white",
           "landcolor": "#E5ECF6",
           "showlakes": true,
           "showland": true,
           "subunitcolor": "white"
          },
          "hoverlabel": {
           "align": "left"
          },
          "hovermode": "closest",
          "mapbox": {
           "style": "light"
          },
          "paper_bgcolor": "white",
          "plot_bgcolor": "#E5ECF6",
          "polar": {
           "angularaxis": {
            "gridcolor": "white",
            "linecolor": "white",
            "ticks": ""
           },
           "bgcolor": "#E5ECF6",
           "radialaxis": {
            "gridcolor": "white",
            "linecolor": "white",
            "ticks": ""
           }
          },
          "scene": {
           "xaxis": {
            "backgroundcolor": "#E5ECF6",
            "gridcolor": "white",
            "gridwidth": 2,
            "linecolor": "white",
            "showbackground": true,
            "ticks": "",
            "zerolinecolor": "white"
           },
           "yaxis": {
            "backgroundcolor": "#E5ECF6",
            "gridcolor": "white",
            "gridwidth": 2,
            "linecolor": "white",
            "showbackground": true,
            "ticks": "",
            "zerolinecolor": "white"
           },
           "zaxis": {
            "backgroundcolor": "#E5ECF6",
            "gridcolor": "white",
            "gridwidth": 2,
            "linecolor": "white",
            "showbackground": true,
            "ticks": "",
            "zerolinecolor": "white"
           }
          },
          "shapedefaults": {
           "line": {
            "color": "#2a3f5f"
           }
          },
          "ternary": {
           "aaxis": {
            "gridcolor": "white",
            "linecolor": "white",
            "ticks": ""
           },
           "baxis": {
            "gridcolor": "white",
            "linecolor": "white",
            "ticks": ""
           },
           "bgcolor": "#E5ECF6",
           "caxis": {
            "gridcolor": "white",
            "linecolor": "white",
            "ticks": ""
           }
          },
          "title": {
           "x": 0.05
          },
          "xaxis": {
           "automargin": true,
           "gridcolor": "white",
           "linecolor": "white",
           "ticks": "",
           "title": {
            "standoff": 15
           },
           "zerolinecolor": "white",
           "zerolinewidth": 2
          },
          "yaxis": {
           "automargin": true,
           "gridcolor": "white",
           "linecolor": "white",
           "ticks": "",
           "title": {
            "standoff": 15
           },
           "zerolinecolor": "white",
           "zerolinewidth": 2
          }
         }
        },
        "title": {
         "text": "Cargo quantity passing through Bab-el-Mandeb"
        },
        "xaxis": {
         "anchor": "y",
         "domain": [
          0,
          1
         ],
         "title": {
          "text": "entry_timestamp"
         }
        },
        "yaxis": {
         "anchor": "x",
         "domain": [
          0,
          1
         ],
         "title": {
          "text": "quantity"
         }
        }
       }
      }
     },
     "metadata": {},
     "output_type": "display_data"
    }
   ],
   "source": [
    "px.bar(cargo_quantity_df,x = 'entry_timestamp', y = 'quantity', color = 'product', title = 'Cargo quantity passing through Bab-el-Mandeb')"
   ]
  },
  {
   "cell_type": "markdown",
   "id": "ccf6a7ff",
   "metadata": {},
   "source": [
    "## Save"
   ]
  },
  {
   "cell_type": "code",
   "execution_count": 37,
   "id": "8f542a78",
   "metadata": {},
   "outputs": [],
   "source": [
    "title = 'Vessels at Bab-el-mandeb'\n",
    "result_df.to_csv(f'{title}_transiting_list.csv')\n",
    "cargo_quantity_df.to_csv(f'{title}_time_series.csv')\n",
    "time_series_df.to_csv(f'{title}_count_time_series.csv')"
   ]
  },
  {
   "cell_type": "code",
   "execution_count": null,
   "id": "e5e7a8b6",
   "metadata": {},
   "outputs": [],
   "source": []
  }
 ],
 "metadata": {
  "kernelspec": {
   "display_name": "Python 3 (ipykernel)",
   "language": "python",
   "name": "python3"
  },
  "language_info": {
   "codemirror_mode": {
    "name": "ipython",
    "version": 3
   },
   "file_extension": ".py",
   "mimetype": "text/x-python",
   "name": "python",
   "nbconvert_exporter": "python",
   "pygments_lexer": "ipython3",
   "version": "3.10.9"
  }
 },
 "nbformat": 4,
 "nbformat_minor": 5
}

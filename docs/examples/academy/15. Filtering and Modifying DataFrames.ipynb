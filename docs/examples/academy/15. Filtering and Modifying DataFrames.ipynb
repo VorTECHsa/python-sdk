{
 "cells": [
  {
   "cell_type": "markdown",
   "metadata": {},
   "source": [
    "# Module 3\n",
    "\n",
    "## Video 15: Filtering and Modifying DataFrames\n",
    "\n",
    "**Python for the Energy Industry**\n",
    "\n",
    "## Filtering DataFrames\n",
    "\n",
    "A DataFrame can be filtered on a condition in a similar way to filtering numpy arrays. We will use the OPEC data example again:\n"
   ]
  },
  {
   "cell_type": "code",
   "execution_count": null,
   "metadata": {},
   "outputs": [],
   "source": [
    "import pandas as pd\n",
    "import numpy as np\n",
    "\n",
    "OPEC_df = pd.DataFrame(\n",
    "    {\n",
    "        \"Country\": [\n",
    "            \"Algeria\",\n",
    "            \"Angola\",\n",
    "            \"Equatorial Guinea\",\n",
    "            \"Gabon\",\n",
    "            \"Iran\",\n",
    "            \"Iraq\",\n",
    "            \"Kuwait\",\n",
    "            \"Libya\",\n",
    "            \"Nigeria\",\n",
    "            \"Republic of the Congo\",\n",
    "            \"Saudi Arabia\",\n",
    "            \"UAE\",\n",
    "            \"Venezuela\",\n",
    "        ],\n",
    "        \"Region\": [\n",
    "            \"North Africa\",\n",
    "            \"Southern Africa\",\n",
    "            \"Central Africa\",\n",
    "            \"Central Africa\",\n",
    "            \"Middle East\",\n",
    "            \"Middle East\",\n",
    "            \"Middle East\",\n",
    "            \"North Africa\",\n",
    "            \"West Africa\",\n",
    "            \"Central Africa\",\n",
    "            \"Middle East\",\n",
    "            \"Middle East\",\n",
    "            \"South America\",\n",
    "        ],\n",
    "        \"Population\": [\n",
    "            42228408,\n",
    "            30809787,\n",
    "            1308975,\n",
    "            2119275,\n",
    "            81800188,\n",
    "            38433600,\n",
    "            4137312,\n",
    "            6678559,\n",
    "            195874685,\n",
    "            5125821,\n",
    "            33702756,\n",
    "            9630959,\n",
    "            28887118,\n",
    "        ],\n",
    "        \"Oil Production\": [\n",
    "            1348361,\n",
    "            1769615,\n",
    "            np.nan,\n",
    "            210820,\n",
    "            3990956,\n",
    "            4451516,\n",
    "            2923825,\n",
    "            384686,\n",
    "            1999885,\n",
    "            260000,\n",
    "            10460710,\n",
    "            3106077,\n",
    "            2276967,\n",
    "        ],\n",
    "        \"Proven Reserves\": [\n",
    "            12.2e9,\n",
    "            8.423e9,\n",
    "            np.nan,\n",
    "            2e9,\n",
    "            157.53e9,\n",
    "            143.069e9,\n",
    "            101.5e9,\n",
    "            48.363e9,\n",
    "            37.07e9,\n",
    "            1.6e9,\n",
    "            266.578e9,\n",
    "            97.8e9,\n",
    "            299.953e9,\n",
    "        ],\n",
    "    }\n",
    ")"
   ]
  },
  {
   "cell_type": "markdown",
   "metadata": {},
   "source": [
    "We can do boolean operations on a column of a DataFrame to obtain an array of boolean values. This boolean array can be used to filter a DataFrame - all entries corresponding to a False value are dropped from the DataFrame.\n"
   ]
  },
  {
   "cell_type": "code",
   "execution_count": null,
   "metadata": {},
   "outputs": [],
   "source": [
    "# Get Middle Eastern countries data only\n",
    "is_ME = OPEC_df[\"Region\"] == \"Middle East\"\n",
    "OPEC_df[is_ME]"
   ]
  },
  {
   "cell_type": "markdown",
   "metadata": {},
   "source": [
    "Let's say we want to filter using some other condition (e.g. countries with production over 2M bbl/day):\n"
   ]
  },
  {
   "cell_type": "code",
   "execution_count": null,
   "metadata": {},
   "outputs": [],
   "source": [
    "prod_over_2M = OPEC_df[\"Oil Production\"] > 2e6\n",
    "OPEC_df[prod_over_2M]"
   ]
  },
  {
   "cell_type": "markdown",
   "metadata": {},
   "source": [
    "The logical_and function we saw before can be used to filter on multiple conditions.\n"
   ]
  },
  {
   "cell_type": "code",
   "execution_count": null,
   "metadata": {},
   "outputs": [],
   "source": [
    "OPEC_df[np.logical_and(is_ME, prod_over_2M)]"
   ]
  },
  {
   "cell_type": "markdown",
   "metadata": {},
   "source": [
    "## Modifying DataFrames\n",
    "\n",
    "### Adding to DataFrames\n",
    "\n",
    "We can use the 'concat' function to add new rows to the DataFrame. The new rows are dictionaries with keys corresponding to the column names.\n"
   ]
  },
  {
   "cell_type": "code",
   "execution_count": null,
   "metadata": {},
   "outputs": [],
   "source": [
    "# Include countries with lapsed OPEC membership\n",
    "\n",
    "OPEC_df = pd.concat(\n",
    "    [\n",
    "        OPEC_df,\n",
    "        pd.DataFrame(\n",
    "            [\n",
    "                {\n",
    "                    \"Country\": \"Ecuador\",\n",
    "                    \"Region\": \"South America\",\n",
    "                    \"Population\": 17084358,\n",
    "                    \"Oil Production\": 548421,\n",
    "                    \"Proven Reserves\": 8.273e9,\n",
    "                },\n",
    "                {\n",
    "                    \"Country\": \"Indonesia\",\n",
    "                    \"Region\": \"Southeast Asia\",\n",
    "                    \"Population\": 267670543,\n",
    "                    \"Oil Production\": 833667,\n",
    "                    \"Proven Reserves\": 3.6925e9,\n",
    "                },\n",
    "                {\n",
    "                    \"Country\": \"Qatar\",\n",
    "                    \"Region\": \"Middle East\",\n",
    "                    \"Population\": 2781682,\n",
    "                    \"Oil Production\": 1522902,\n",
    "                    \"Proven Reserves\": 25.244e9,\n",
    "                },\n",
    "            ]\n",
    "        ),\n",
    "    ],\n",
    "    ignore_index=True,\n",
    ")\n",
    "\n",
    "\n",
    "OPEC_df"
   ]
  },
  {
   "cell_type": "markdown",
   "metadata": {},
   "source": [
    "New columns in a DataFrame can be created by setting a column of that name to a list/array of the right length:\n"
   ]
  },
  {
   "cell_type": "code",
   "execution_count": null,
   "metadata": {},
   "outputs": [],
   "source": [
    "OPEC_df[\"Membership Active\"] = [True] * 13 + [False] * 3\n",
    "OPEC_df"
   ]
  },
  {
   "cell_type": "markdown",
   "metadata": {},
   "source": [
    "New columns can also be created from operations on existing columns:\n"
   ]
  },
  {
   "cell_type": "code",
   "execution_count": null,
   "metadata": {},
   "outputs": [],
   "source": [
    "OPEC_df[\"Production per cap\"] = (\n",
    "    OPEC_df[\"Oil Production\"] / OPEC_df[\"Population\"]\n",
    ")\n",
    "OPEC_df"
   ]
  },
  {
   "cell_type": "markdown",
   "metadata": {},
   "source": [
    "### Sorting DataFrames\n",
    "\n",
    "We can sort a DataFrame by the values in a given column:\n"
   ]
  },
  {
   "cell_type": "code",
   "execution_count": null,
   "metadata": {},
   "outputs": [],
   "source": [
    "OPEC_df.sort_values(by=\"Oil Production\", ascending=False)"
   ]
  },
  {
   "cell_type": "markdown",
   "metadata": {},
   "source": [
    "### Grouping\n",
    "\n",
    "We can also group entries by a common property. In this dataset, Region is the natural grouping. We have to specify what operation is applied to numeric data, e.g. adding or averaging the values for a given group.\n"
   ]
  },
  {
   "cell_type": "code",
   "execution_count": null,
   "metadata": {},
   "outputs": [],
   "source": [
    "OPEC_df.groupby(\"Region\").sum()"
   ]
  },
  {
   "cell_type": "code",
   "execution_count": null,
   "metadata": {},
   "outputs": [],
   "source": [
    "OPEC_df.groupby(\"Region\").mean(numeric_only=True)"
   ]
  },
  {
   "cell_type": "markdown",
   "metadata": {},
   "source": [
    "### Exercise\n",
    "\n",
    "Add to the DataFrame a column for proven reserves per capita. Output:\n",
    "\n",
    "- The DataFrame in descending order by proven reserves per capita\n",
    "- The average value of proven reserves per capita for each region\n"
   ]
  },
  {
   "cell_type": "code",
   "execution_count": null,
   "metadata": {},
   "outputs": [],
   "source": []
  }
 ],
 "metadata": {
  "kernelspec": {
   "display_name": "Python 3 (ipykernel)",
   "language": "python",
   "name": "python3"
  },
  "language_info": {
   "codemirror_mode": {
    "name": "ipython",
    "version": 3
   },
   "file_extension": ".py",
   "mimetype": "text/x-python",
   "name": "python",
   "nbconvert_exporter": "python",
   "pygments_lexer": "ipython3",
   "version": "3.11.4"
  }
 },
 "nbformat": 4,
 "nbformat_minor": 4
}

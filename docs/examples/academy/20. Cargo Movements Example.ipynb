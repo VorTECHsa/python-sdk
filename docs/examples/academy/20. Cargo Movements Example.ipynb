{
 "cells": [
  {
   "cell_type": "markdown",
   "metadata": {},
   "source": [
    "# Module 4\n",
    "\n",
    "## Video 20: Cargo Movements Example\n",
    "**Python for the Energy Industry**"
   ]
  },
  {
   "cell_type": "markdown",
   "metadata": {},
   "source": [
    "In this lesson, we'll consider another example of querying the SDK, having a look at Cargo Movements. To start with, we will search for all cargos that are currently being loaded. We specify the start and end times using a `datetime` object - this will be discussed in more detail in the next module.\n",
    "\n",
    "Documentation for the Cargo Movements endpoint can be [found here.](https://vortechsa.github.io/python-sdk/endpoints/cargo_movements/)"
   ]
  },
  {
   "cell_type": "code",
   "execution_count": null,
   "metadata": {},
   "outputs": [],
   "source": [
    "import vortexasdk as v\n",
    "from datetime import datetime\n",
    "now = datetime.utcnow()"
   ]
  },
  {
   "cell_type": "code",
   "execution_count": 1,
   "metadata": {},
   "outputs": [
    {
     "name": "stdout",
     "output_type": "stream",
     "text": [
      "2020-12-10 15:12:17,839 vortexasdk.client — WARNING — You are using vortexasdk version 0.26.0, however version 0.27.1 is available.\n",
      "You should consider upgrading via the 'pip install vortexasdk --upgrade' command.\n"
     ]
    },
    {
     "name": "stderr",
     "output_type": "stream",
     "text": [
      "Loading from API: 1000it [00:01, 680.07it/s]             \n"
     ]
    }
   ],
   "source": [
    "cm_query = v.CargoMovements().search(\n",
    "    filter_activity=\"loading_state\",\n",
    "    filter_time_min=now,\n",
    "    filter_time_max=now)"
   ]
  },
  {
   "cell_type": "code",
   "execution_count": 2,
   "metadata": {},
   "outputs": [
    {
     "data": {
      "text/plain": [
       "780"
      ]
     },
     "execution_count": 2,
     "metadata": {},
     "output_type": "execute_result"
    }
   ],
   "source": [
    "# How many cargo movements do we get?\n",
    "len(cm_query)"
   ]
  },
  {
   "cell_type": "code",
   "execution_count": 3,
   "metadata": {},
   "outputs": [
    {
     "data": {
      "text/plain": [
       "{'cargo_movement_id': '002fb0cdde927e8758bfdc001d016388002fb0cdde927e8758bfdc001d016388',\n",
       " 'quantity': 26102,\n",
       " 'status': 'unloaded_state',\n",
       " 'vessels': [{'id': 'bd959e52a27d98d327ccdcdbc543ee325aafd6eaa9a1752e1d0e9f4e7b353bd8',\n",
       "   'mmsi': 319498000,\n",
       "   'imo': 9102095,\n",
       "   'name': 'STOLT CREATIVITY',\n",
       "   'dwt': 37271,\n",
       "   'cubic_capacity': 39808,\n",
       "   'vessel_class': 'handysize',\n",
       "   'corporate_entities': [{'id': 'afd995e6928b97fa3799141cec71ed674f739528dd14af15be3791b02f287699',\n",
       "     'label': 'Stolt Tankers',\n",
       "     'layer': 'commercial_owner',\n",
       "     'probability': 1,\n",
       "     'source': 'external'}],\n",
       "   'start_timestamp': '2020-10-30T23:42:06+0000',\n",
       "   'end_timestamp': '2020-11-08T01:47:40+0000',\n",
       "   'fixture_fulfilled': False,\n",
       "   'voyage_id': '9e307b22b8ab351b2a471d168b1ccbda3cc6fe8f6bc41173b8f2794e24efdda3',\n",
       "   'tags': [{'tag': 'vessel_coated_tag'}],\n",
       "   'status': 'vessel_status_laden_known',\n",
       "   'year': 1997,\n",
       "   'scrubber': [],\n",
       "   'flag': [{'tag': 'vessel_flag_tag',\n",
       "     'flag': 'KY',\n",
       "     'flag_country': '9d95bba7023609ee9e3da95b119f27d8f0a7c2412c1c773010f6bd5b8cea0d94'}]}],\n",
       " 'product': [{'id': 'b68cbb746f8b9098c50e2ba36bcad83001a53bd362e9031fb49085d02c36659c',\n",
       "   'layer': 'group',\n",
       "   'probability': 1,\n",
       "   'source': 'model',\n",
       "   'label': 'Clean Petroleum Products'},\n",
       "  {'id': 'cbb5acffa542aad31d26712a8cdfd9884301aa7658ac95c40f86ddb31bc29d9b',\n",
       "   'layer': 'group_product',\n",
       "   'probability': 1,\n",
       "   'source': 'model',\n",
       "   'label': 'Other Clean Products'},\n",
       "  {'id': '903edb3eea47052490c39ce71ce473d6d02ce1f8f1b4076ffbc938d6f5a2afef',\n",
       "   'layer': 'category',\n",
       "   'probability': 1,\n",
       "   'source': 'model',\n",
       "   'label': 'Chemicals'}],\n",
       " 'events': [{'event_type': 'cargo_port_load_event',\n",
       "   'location': [{'id': '3267ef2a83a749052c87e981f1bb12c6396acf590b4b1cd3316cf8f8c5aeb7bc',\n",
       "     'layer': 'country',\n",
       "     'label': 'Malaysia',\n",
       "     'source': 'model',\n",
       "     'probability': 1},\n",
       "    {'id': '7f9850477464b75334a237f353b2ac0ca57a1cc1b87b0d4a8731f126ff873247',\n",
       "     'layer': 'port',\n",
       "     'label': 'Bintulu (Tanjong Kidurong) [MY]',\n",
       "     'source': 'model',\n",
       "     'probability': 1},\n",
       "    {'id': 'e6955a2c59dc90833986fe0894cf6718dddaa7816bb51bc955cdd3eb4470e554',\n",
       "     'layer': 'region',\n",
       "     'label': 'Asia',\n",
       "     'source': 'model',\n",
       "     'probability': 1},\n",
       "    {'id': '07ac020aa082d5d116f829ef28a40e9876c0644aeb4f0480202c1a86bb8adf7f',\n",
       "     'layer': 'shipping_region',\n",
       "     'label': 'Far East',\n",
       "     'source': 'model',\n",
       "     'probability': 1},\n",
       "    {'id': 'a2ca5cb23cfc99e5b355a1b928d16e30cbcdfed1c9ff01ba39b5d4c53ffc1ef3',\n",
       "     'layer': 'shipping_region',\n",
       "     'label': 'Southeast Asia',\n",
       "     'source': 'model',\n",
       "     'probability': 1},\n",
       "    {'id': '956b03529510459d298c4e537d23c6fbb22ffd8414af933b3475310c661f337a',\n",
       "     'layer': 'trading_block',\n",
       "     'label': 'Non-OPEC',\n",
       "     'source': 'model',\n",
       "     'probability': 1},\n",
       "    {'id': 'a2ca5cb23cfc99e5b355a1b928d16e30cbcdfed1c9ff01ba39b5d4c53ffc1ef3',\n",
       "     'layer': 'trading_region',\n",
       "     'label': 'Southeast Asia',\n",
       "     'source': 'model',\n",
       "     'probability': 1},\n",
       "    {'id': '3267ef2a83a749052c87e981f1bb12c6396acf590b4b1cd3316cf8f8c5aeb7bc',\n",
       "     'layer': 'trading_subregion',\n",
       "     'label': 'Malaysia',\n",
       "     'source': 'model',\n",
       "     'probability': 1},\n",
       "    {'id': 'ebdb39bc6943ad1b3edac1834c106add337b2cfb69fbcdfc81856a2dca3afd23',\n",
       "     'layer': 'terminal',\n",
       "     'label': 'PST Petronas Shell Terminal, Bintulu',\n",
       "     'source': 'model',\n",
       "     'probability': 1}],\n",
       "   'probability': 1,\n",
       "   'pos': [113.07517683177093, 3.2597980837294065],\n",
       "   'start_timestamp': '2020-10-30T23:42:06+0000',\n",
       "   'end_timestamp': '2020-11-01T05:15:10+0000'},\n",
       "  {'event_type': 'cargo_port_unload_event',\n",
       "   'location': [{'id': 'b15970adfcd316d11d698d13de23e2291a60e1fb05070feab30957c6645e576e',\n",
       "     'layer': 'country',\n",
       "     'label': 'Taiwan',\n",
       "     'source': 'model',\n",
       "     'probability': 1},\n",
       "    {'id': '4468e532e13fb72058fa338b7507ca6df048d0e5b61f7adb5caf95112d3e693a',\n",
       "     'layer': 'port',\n",
       "     'label': 'Kaohsiung [TW]',\n",
       "     'source': 'model',\n",
       "     'probability': 1},\n",
       "    {'id': 'e6955a2c59dc90833986fe0894cf6718dddaa7816bb51bc955cdd3eb4470e554',\n",
       "     'layer': 'region',\n",
       "     'label': 'Asia',\n",
       "     'source': 'model',\n",
       "     'probability': 1},\n",
       "    {'id': '07ac020aa082d5d116f829ef28a40e9876c0644aeb4f0480202c1a86bb8adf7f',\n",
       "     'layer': 'shipping_region',\n",
       "     'label': 'Far East',\n",
       "     'source': 'model',\n",
       "     'probability': 1},\n",
       "    {'id': '2b394b41a7ff9e48b40b4ba8e6a6b045340261dfc02133d04af13fe754a71a48',\n",
       "     'layer': 'shipping_region',\n",
       "     'label': 'East Asia',\n",
       "     'source': 'model',\n",
       "     'probability': 1},\n",
       "    {'id': '2b394b41a7ff9e48b40b4ba8e6a6b045340261dfc02133d04af13fe754a71a48',\n",
       "     'layer': 'trading_region',\n",
       "     'label': 'East Asia',\n",
       "     'source': 'model',\n",
       "     'probability': 1},\n",
       "    {'id': 'b15970adfcd316d11d698d13de23e2291a60e1fb05070feab30957c6645e576e',\n",
       "     'layer': 'trading_subregion',\n",
       "     'label': 'Taiwan',\n",
       "     'source': 'model',\n",
       "     'probability': 1},\n",
       "    {'id': '1d8064b092ea94ad4b410c430eb56a2b6731667a579f2bf9e3a97143f11769e3',\n",
       "     'layer': 'terminal',\n",
       "     'label': 'Formosa Plastics',\n",
       "     'source': 'model',\n",
       "     'probability': 1}],\n",
       "   'probability': 1,\n",
       "   'pos': [120.29713749728465, 22.597328046059573],\n",
       "   'start_timestamp': '2020-11-07T07:07:51+0000',\n",
       "   'end_timestamp': '2020-11-08T01:47:40+0000'}],\n",
       " 'parent_ids': [{'id': '1d347628f0d562fe3dfb83c99af907781d347628f0d562fe3dfb83c99af90778',\n",
       "   'splinter_timestamp': '2020-11-08T06:52:17+0000'}]}"
      ]
     },
     "execution_count": 3,
     "metadata": {},
     "output_type": "execute_result"
    }
   ],
   "source": [
    "# What does a single cargo movement look like?\n",
    "cm_query[0]"
   ]
  },
  {
   "cell_type": "markdown",
   "metadata": {},
   "source": [
    "Let's choose what bit of information we would like to put in a DataFrame. We'll go with:\n",
    "- Load and unload port locations\n",
    "- Product group label\n",
    "- Vessel name and type\n",
    "- Coordinates\n",
    "\n",
    "Notice how some of this information is 'nested', i.e. the value associated with a key might itself be a dictionary or a list. See below how we specify the column names to access this information."
   ]
  },
  {
   "cell_type": "code",
   "execution_count": 4,
   "metadata": {},
   "outputs": [],
   "source": [
    "cm_df = cm_query.to_df(columns=['events.cargo_port_load_event.0.location.port.label',\n",
    "                               'events.cargo_port_unload_event.0.location.port.label',\n",
    "                               'product.group.label',\n",
    "                               'quantity',\n",
    "                               'vessels.0.name',\n",
    "                               'vessels.0.vessel_class',\n",
    "                               'events.cargo_port_load_event.0.pos.0',\n",
    "                               'events.cargo_port_load_event.0.pos.1'])"
   ]
  },
  {
   "cell_type": "markdown",
   "metadata": {},
   "source": [
    "These column names are quite long and will make our DataFrame harder to read, so we can use a dictionary to relabel them."
   ]
  },
  {
   "cell_type": "code",
   "execution_count": 5,
   "metadata": {},
   "outputs": [],
   "source": [
    "relabel = {'events.cargo_port_load_event.0.location.port.label':'load_port',\n",
    "           'events.cargo_port_unload_event.0.location.port.label':'unload_port',\n",
    "           'product.group.label':'product_group',\n",
    "           'vessels.0.name':'vessel_name',\n",
    "           'vessels.0.vessel_class':'vessel_class',\n",
    "           'events.cargo_port_load_event.0.pos.0':'load_X',\n",
    "           'events.cargo_port_load_event.0.pos.1':'load_Y'}\n",
    "\n",
    "cm_df = cm_df.rename(relabel,axis=1)"
   ]
  },
  {
   "cell_type": "code",
   "execution_count": 6,
   "metadata": {},
   "outputs": [
    {
     "data": {
      "text/html": [
       "<div>\n",
       "<style scoped>\n",
       "    .dataframe tbody tr th:only-of-type {\n",
       "        vertical-align: middle;\n",
       "    }\n",
       "\n",
       "    .dataframe tbody tr th {\n",
       "        vertical-align: top;\n",
       "    }\n",
       "\n",
       "    .dataframe thead th {\n",
       "        text-align: right;\n",
       "    }\n",
       "</style>\n",
       "<table border=\"1\" class=\"dataframe\">\n",
       "  <thead>\n",
       "    <tr style=\"text-align: right;\">\n",
       "      <th></th>\n",
       "      <th>load_port</th>\n",
       "      <th>unload_port</th>\n",
       "      <th>product_group</th>\n",
       "      <th>quantity</th>\n",
       "      <th>vessel_name</th>\n",
       "      <th>vessel_class</th>\n",
       "      <th>load_X</th>\n",
       "      <th>load_Y</th>\n",
       "    </tr>\n",
       "  </thead>\n",
       "  <tbody>\n",
       "    <tr>\n",
       "      <th>0</th>\n",
       "      <td>Bintulu (Tanjong Kidurong) [MY]</td>\n",
       "      <td>Kaohsiung [TW]</td>\n",
       "      <td>Clean Petroleum Products</td>\n",
       "      <td>26102</td>\n",
       "      <td>STOLT CREATIVITY</td>\n",
       "      <td>handysize</td>\n",
       "      <td>113.075177</td>\n",
       "      <td>3.259798</td>\n",
       "    </tr>\n",
       "    <tr>\n",
       "      <th>1</th>\n",
       "      <td>Mesaieed [QA]</td>\n",
       "      <td>Singapore [SG]</td>\n",
       "      <td>Clean Petroleum Products</td>\n",
       "      <td>64621</td>\n",
       "      <td>MARITIME ROSEMARY</td>\n",
       "      <td>handymax</td>\n",
       "      <td>51.577603</td>\n",
       "      <td>24.930121</td>\n",
       "    </tr>\n",
       "    <tr>\n",
       "      <th>2</th>\n",
       "      <td>Dalian [CN]</td>\n",
       "      <td>Jiangyin, Fuzhou [CN]</td>\n",
       "      <td>Clean Petroleum Products</td>\n",
       "      <td>523896</td>\n",
       "      <td>QI LIN ZUO</td>\n",
       "      <td>panamax</td>\n",
       "      <td>121.280508</td>\n",
       "      <td>39.578469</td>\n",
       "    </tr>\n",
       "  </tbody>\n",
       "</table>\n",
       "</div>"
      ],
      "text/plain": [
       "                         load_port            unload_port  \\\n",
       "0  Bintulu (Tanjong Kidurong) [MY]         Kaohsiung [TW]   \n",
       "1                    Mesaieed [QA]         Singapore [SG]   \n",
       "2                      Dalian [CN]  Jiangyin, Fuzhou [CN]   \n",
       "\n",
       "              product_group  quantity        vessel_name vessel_class  \\\n",
       "0  Clean Petroleum Products     26102   STOLT CREATIVITY    handysize   \n",
       "1  Clean Petroleum Products     64621  MARITIME ROSEMARY     handymax   \n",
       "2  Clean Petroleum Products    523896         QI LIN ZUO      panamax   \n",
       "\n",
       "       load_X     load_Y  \n",
       "0  113.075177   3.259798  \n",
       "1   51.577603  24.930121  \n",
       "2  121.280508  39.578469  "
      ]
     },
     "execution_count": 6,
     "metadata": {},
     "output_type": "execute_result"
    }
   ],
   "source": [
    "# Let's take a peek at the data\n",
    "cm_df.head(3)"
   ]
  },
  {
   "cell_type": "markdown",
   "metadata": {},
   "source": [
    "Now that we've got our data in a DataFrame, we can visualise it with plots. Histograms are convenient for working with numerical data:"
   ]
  },
  {
   "cell_type": "code",
   "execution_count": 7,
   "metadata": {},
   "outputs": [
    {
     "data": {
      "text/plain": [
       "array([[<AxesSubplot:title={'center':'quantity'}>]], dtype=object)"
      ]
     },
     "execution_count": 7,
     "metadata": {},
     "output_type": "execute_result"
    },
    {
     "data": {
      "image/png": "[encoded data removed]",
      "text/plain": [
       "<Figure size 432x288 with 1 Axes>"
      ]
     },
     "metadata": {
      "needs_background": "light"
     },
     "output_type": "display_data"
    }
   ],
   "source": [
    "# Histogram of quantity\n",
    "cm_df.hist(column='quantity')"
   ]
  },
  {
   "cell_type": "markdown",
   "metadata": {},
   "source": [
    "There are a couple of ways we can try to make this data easier to visualise. Firstly, we note that the number of bins is relatively small, so we can increase it:"
   ]
  },
  {
   "cell_type": "code",
   "execution_count": 8,
   "metadata": {
    "scrolled": true
   },
   "outputs": [
    {
     "data": {
      "text/plain": [
       "array([[<AxesSubplot:title={'center':'quantity'}>]], dtype=object)"
      ]
     },
     "execution_count": 8,
     "metadata": {},
     "output_type": "execute_result"
    },
    {
     "data": {
      "image/png": "[encoded data removed]",
      "text/plain": [
       "<Figure size 432x288 with 1 Axes>"
      ]
     },
     "metadata": {
      "needs_background": "light"
     },
     "output_type": "display_data"
    }
   ],
   "source": [
    "cm_df.hist(column='quantity',bins=100)"
   ]
  },
  {
   "cell_type": "markdown",
   "metadata": {},
   "source": [
    "This doesn't help much, as the data is still very skewed. Another thing we can try is to plot the logarithm of quantity instead of quantity:"
   ]
  },
  {
   "cell_type": "code",
   "execution_count": 9,
   "metadata": {},
   "outputs": [
    {
     "data": {
      "text/plain": [
       "array([[<AxesSubplot:title={'center':'log quantity'}>]], dtype=object)"
      ]
     },
     "execution_count": 9,
     "metadata": {},
     "output_type": "execute_result"
    },
    {
     "data": {
      "image/png": "[encoded data removed]",
      "text/plain": [
       "<Figure size 432x288 with 1 Axes>"
      ]
     },
     "metadata": {
      "needs_background": "light"
     },
     "output_type": "display_data"
    }
   ],
   "source": [
    "import numpy as np\n",
    "cm_df['log quantity'] = np.log10(cm_df['quantity'])\n",
    "cm_df.hist(column='log quantity')"
   ]
  },
  {
   "cell_type": "markdown",
   "metadata": {},
   "source": [
    "This is a fair bit easier to interpret - we can see that quantity broadly varies from 10k bbl to 1M bbl, with a mode around 100k bbl. We can see from this plot that the distribution of quantity appears to be approximately log-normal.\n",
    "\n",
    "Let's try a different example - what if we were interested in the composition of vessel classes in these cargo movements?"
   ]
  },
  {
   "cell_type": "code",
   "execution_count": 10,
   "metadata": {},
   "outputs": [
    {
     "data": {
      "text/html": [
       "<div>\n",
       "<style scoped>\n",
       "    .dataframe tbody tr th:only-of-type {\n",
       "        vertical-align: middle;\n",
       "    }\n",
       "\n",
       "    .dataframe tbody tr th {\n",
       "        vertical-align: top;\n",
       "    }\n",
       "\n",
       "    .dataframe thead th {\n",
       "        text-align: right;\n",
       "    }\n",
       "</style>\n",
       "<table border=\"1\" class=\"dataframe\">\n",
       "  <thead>\n",
       "    <tr style=\"text-align: right;\">\n",
       "      <th></th>\n",
       "      <th>load_port</th>\n",
       "      <th>unload_port</th>\n",
       "      <th>product_group</th>\n",
       "      <th>quantity</th>\n",
       "      <th>vessel_name</th>\n",
       "      <th>load_X</th>\n",
       "      <th>load_Y</th>\n",
       "      <th>log quantity</th>\n",
       "    </tr>\n",
       "    <tr>\n",
       "      <th>vessel_class</th>\n",
       "      <th></th>\n",
       "      <th></th>\n",
       "      <th></th>\n",
       "      <th></th>\n",
       "      <th></th>\n",
       "      <th></th>\n",
       "      <th></th>\n",
       "      <th></th>\n",
       "    </tr>\n",
       "  </thead>\n",
       "  <tbody>\n",
       "    <tr>\n",
       "      <th>aframax</th>\n",
       "      <td>48</td>\n",
       "      <td>44</td>\n",
       "      <td>48</td>\n",
       "      <td>48</td>\n",
       "      <td>48</td>\n",
       "      <td>48</td>\n",
       "      <td>48</td>\n",
       "      <td>48</td>\n",
       "    </tr>\n",
       "    <tr>\n",
       "      <th>general_purpose</th>\n",
       "      <td>160</td>\n",
       "      <td>157</td>\n",
       "      <td>161</td>\n",
       "      <td>161</td>\n",
       "      <td>161</td>\n",
       "      <td>161</td>\n",
       "      <td>161</td>\n",
       "      <td>161</td>\n",
       "    </tr>\n",
       "    <tr>\n",
       "      <th>handymax</th>\n",
       "      <td>150</td>\n",
       "      <td>141</td>\n",
       "      <td>151</td>\n",
       "      <td>151</td>\n",
       "      <td>151</td>\n",
       "      <td>151</td>\n",
       "      <td>151</td>\n",
       "      <td>151</td>\n",
       "    </tr>\n",
       "    <tr>\n",
       "      <th>handysize</th>\n",
       "      <td>101</td>\n",
       "      <td>95</td>\n",
       "      <td>102</td>\n",
       "      <td>102</td>\n",
       "      <td>102</td>\n",
       "      <td>101</td>\n",
       "      <td>101</td>\n",
       "      <td>102</td>\n",
       "    </tr>\n",
       "    <tr>\n",
       "      <th>lgc</th>\n",
       "      <td>5</td>\n",
       "      <td>5</td>\n",
       "      <td>5</td>\n",
       "      <td>5</td>\n",
       "      <td>5</td>\n",
       "      <td>5</td>\n",
       "      <td>5</td>\n",
       "      <td>5</td>\n",
       "    </tr>\n",
       "    <tr>\n",
       "      <th>mgc</th>\n",
       "      <td>4</td>\n",
       "      <td>4</td>\n",
       "      <td>6</td>\n",
       "      <td>6</td>\n",
       "      <td>6</td>\n",
       "      <td>6</td>\n",
       "      <td>6</td>\n",
       "      <td>6</td>\n",
       "    </tr>\n",
       "    <tr>\n",
       "      <th>panamax</th>\n",
       "      <td>27</td>\n",
       "      <td>26</td>\n",
       "      <td>27</td>\n",
       "      <td>27</td>\n",
       "      <td>27</td>\n",
       "      <td>27</td>\n",
       "      <td>27</td>\n",
       "      <td>27</td>\n",
       "    </tr>\n",
       "    <tr>\n",
       "      <th>sgc</th>\n",
       "      <td>47</td>\n",
       "      <td>50</td>\n",
       "      <td>50</td>\n",
       "      <td>50</td>\n",
       "      <td>50</td>\n",
       "      <td>50</td>\n",
       "      <td>50</td>\n",
       "      <td>50</td>\n",
       "    </tr>\n",
       "    <tr>\n",
       "      <th>suezmax</th>\n",
       "      <td>29</td>\n",
       "      <td>27</td>\n",
       "      <td>29</td>\n",
       "      <td>29</td>\n",
       "      <td>29</td>\n",
       "      <td>29</td>\n",
       "      <td>29</td>\n",
       "      <td>29</td>\n",
       "    </tr>\n",
       "    <tr>\n",
       "      <th>tiny_tanker</th>\n",
       "      <td>144</td>\n",
       "      <td>135</td>\n",
       "      <td>145</td>\n",
       "      <td>145</td>\n",
       "      <td>145</td>\n",
       "      <td>145</td>\n",
       "      <td>145</td>\n",
       "      <td>145</td>\n",
       "    </tr>\n",
       "    <tr>\n",
       "      <th>vlcc_plus</th>\n",
       "      <td>35</td>\n",
       "      <td>35</td>\n",
       "      <td>36</td>\n",
       "      <td>36</td>\n",
       "      <td>36</td>\n",
       "      <td>35</td>\n",
       "      <td>35</td>\n",
       "      <td>36</td>\n",
       "    </tr>\n",
       "    <tr>\n",
       "      <th>vlgc</th>\n",
       "      <td>19</td>\n",
       "      <td>17</td>\n",
       "      <td>20</td>\n",
       "      <td>20</td>\n",
       "      <td>20</td>\n",
       "      <td>20</td>\n",
       "      <td>20</td>\n",
       "      <td>20</td>\n",
       "    </tr>\n",
       "  </tbody>\n",
       "</table>\n",
       "</div>"
      ],
      "text/plain": [
       "                 load_port  unload_port  product_group  quantity  vessel_name  \\\n",
       "vessel_class                                                                    \n",
       "aframax                 48           44             48        48           48   \n",
       "general_purpose        160          157            161       161          161   \n",
       "handymax               150          141            151       151          151   \n",
       "handysize              101           95            102       102          102   \n",
       "lgc                      5            5              5         5            5   \n",
       "mgc                      4            4              6         6            6   \n",
       "panamax                 27           26             27        27           27   \n",
       "sgc                     47           50             50        50           50   \n",
       "suezmax                 29           27             29        29           29   \n",
       "tiny_tanker            144          135            145       145          145   \n",
       "vlcc_plus               35           35             36        36           36   \n",
       "vlgc                    19           17             20        20           20   \n",
       "\n",
       "                 load_X  load_Y  log quantity  \n",
       "vessel_class                                   \n",
       "aframax              48      48            48  \n",
       "general_purpose     161     161           161  \n",
       "handymax            151     151           151  \n",
       "handysize           101     101           102  \n",
       "lgc                   5       5             5  \n",
       "mgc                   6       6             6  \n",
       "panamax              27      27            27  \n",
       "sgc                  50      50            50  \n",
       "suezmax              29      29            29  \n",
       "tiny_tanker         145     145           145  \n",
       "vlcc_plus            35      35            36  \n",
       "vlgc                 20      20            20  "
      ]
     },
     "execution_count": 10,
     "metadata": {},
     "output_type": "execute_result"
    }
   ],
   "source": [
    "# Start by grouping by vessel class and counting\n",
    "cm_df_classes = cm_df.groupby('vessel_class').count()\n",
    "cm_df_classes"
   ]
  },
  {
   "cell_type": "markdown",
   "metadata": {},
   "source": [
    "Because we are using `.count()`, columns have the same values except where data is missing. We want to pick one column with no data missing (say, vessel_name) to use for a pie chart.\n",
    "\n",
    "We also note that the number of vessels in classes lgc and mgc are very small, so we shall ignore these."
   ]
  },
  {
   "cell_type": "code",
   "execution_count": 11,
   "metadata": {},
   "outputs": [
    {
     "data": {
      "text/plain": [
       "<AxesSubplot:>"
      ]
     },
     "execution_count": 11,
     "metadata": {},
     "output_type": "execute_result"
    },
    {
     "data": {
      "image/png": "[encoded data removed]",
      "text/plain": [
       "<Figure size 432x288 with 1 Axes>"
      ]
     },
     "metadata": {},
     "output_type": "display_data"
    }
   ],
   "source": [
    "# Drop vessel classes with fewer than 10 vessels (so just lgc and mgc)\n",
    "cm_df_classes = cm_df_classes[cm_df_classes['vessel_name'] >= 10]\n",
    "\n",
    "# Plot pie chart\n",
    "cm_df_classes.plot.pie(y='vessel_name', legend=False, ylabel='')"
   ]
  },
  {
   "cell_type": "markdown",
   "metadata": {},
   "source": [
    "### Exercise\n",
    "\n",
    "Make a scatter plot of the X and Y coordinates. Does this look how you would expect?"
   ]
  },
  {
   "cell_type": "code",
   "execution_count": null,
   "metadata": {},
   "outputs": [],
   "source": []
  }
 ],
 "metadata": {
  "kernelspec": {
   "display_name": "Python 3",
   "language": "python",
   "name": "python3"
  },
  "language_info": {
   "codemirror_mode": {
    "name": "ipython",
    "version": 3
   },
   "file_extension": ".py",
   "mimetype": "text/x-python",
   "name": "python",
   "nbconvert_exporter": "python",
   "pygments_lexer": "ipython3",
   "version": "3.7.9"
  }
 },
 "nbformat": 4,
 "nbformat_minor": 4
}

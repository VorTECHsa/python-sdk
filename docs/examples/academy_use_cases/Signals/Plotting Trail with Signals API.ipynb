{
 "cells": [
  {
   "cell_type": "markdown",
   "metadata": {},
   "source": [
    "## Plotting Vessel Trail with Signals API\n",
    "\n",
    "This notebook will mainly cover how to extract signals data from Signals API and how to visualize them in a map using plotly library.\n",
    "\n",
    "The example used in this notebook is LNG Exports out of Russia Arctic LNG 2 Plant terminal."
   ]
  },
  {
   "cell_type": "markdown",
   "metadata": {},
   "source": [
    "### Import Library"
   ]
  },
  {
   "cell_type": "code",
   "execution_count": 1,
   "metadata": {},
   "outputs": [
    {
     "name": "stderr",
     "output_type": "stream",
     "text": [
      "c:\\Users\\OuiWeinJien\\anaconda3\\lib\\site-packages\\pandas\\core\\arrays\\masked.py:60: UserWarning: Pandas requires version '1.3.6' or newer of 'bottleneck' (version '1.3.5' currently installed).\n",
      "  from pandas.core import (\n"
     ]
    }
   ],
   "source": [
    "import pandas as pd\n",
    "from datetime import datetime\n",
    "import numpy as np\n",
    "import vortexasdk as v\n",
    "import requests\n",
    "import os\n",
    "import plotly.express as px"
   ]
  },
  {
   "cell_type": "code",
   "execution_count": 2,
   "metadata": {},
   "outputs": [
    {
     "name": "stdout",
     "output_type": "stream",
     "text": [
      "2024-09-17 15:13:57,286 vortexasdk.client — WARNING — You are using vortexasdk version 0.73.0, however version 0.73.1 is available.\n",
      "You should consider upgrading via the 'pip install vortexasdk --upgrade' command.\n"
     ]
    }
   ],
   "source": [
    "lng = [p.id for p in v.Products().search('LNG').to_list() if p.name=='LNG']\n",
    "\n",
    "russia_arctic=[p.id for p in v.Geographies().search('Arctic LNG 2 Plant').to_list()]"
   ]
  },
  {
   "cell_type": "markdown",
   "metadata": {},
   "source": [
    "### Extract Cargo Movements data"
   ]
  },
  {
   "cell_type": "code",
   "execution_count": 3,
   "metadata": {},
   "outputs": [],
   "source": [
    "cm_df = v.CargoMovements().search(\n",
    "    filter_activity='loading_end',\n",
    "    filter_products=lng,\n",
    "    filter_origins=russia_arctic,\n",
    "    filter_time_min=datetime(2024, 1, 1),\n",
    "    filter_time_max=datetime.today()\n",
    ").to_df(columns = 'all')"
   ]
  },
  {
   "cell_type": "code",
   "execution_count": 4,
   "metadata": {},
   "outputs": [
    {
     "data": {
      "text/html": [
       "<div>\n",
       "<style scoped>\n",
       "    .dataframe tbody tr th:only-of-type {\n",
       "        vertical-align: middle;\n",
       "    }\n",
       "\n",
       "    .dataframe tbody tr th {\n",
       "        vertical-align: top;\n",
       "    }\n",
       "\n",
       "    .dataframe thead th {\n",
       "        text-align: right;\n",
       "    }\n",
       "</style>\n",
       "<table border=\"1\" class=\"dataframe\">\n",
       "  <thead>\n",
       "    <tr style=\"text-align: right;\">\n",
       "      <th></th>\n",
       "      <th>cargo_movement_id</th>\n",
       "      <th>quantity</th>\n",
       "      <th>status</th>\n",
       "      <th>vessels.0.dwt</th>\n",
       "      <th>vessels.0.fixture_id</th>\n",
       "      <th>vessels.0.flag.0.flag</th>\n",
       "      <th>vessels.0.flag.0.flag_country</th>\n",
       "      <th>vessels.0.flag.0.tag</th>\n",
       "      <th>vessels.0.mmsi</th>\n",
       "      <th>vessels.0.start_timestamp</th>\n",
       "      <th>...</th>\n",
       "      <th>events.cargo_waypoint_event.8.start_timestamp</th>\n",
       "      <th>events.cargo_waypoint_event.8.probability</th>\n",
       "      <th>events.cargo_waypoint_event.8.vessel_id</th>\n",
       "      <th>events.cargo_waypoint_event.8.location.waypoint.probability</th>\n",
       "      <th>events.cargo_waypoint_event.8.location.waypoint.id</th>\n",
       "      <th>events.cargo_waypoint_event.8.location.waypoint.label</th>\n",
       "      <th>events.cargo_waypoint_event.8.location.waypoint.source</th>\n",
       "      <th>events.cargo_waypoint_event.8.location.waypoint.layer</th>\n",
       "      <th>parent_ids.0.splinter_timestamp</th>\n",
       "      <th>parent_ids.0.id</th>\n",
       "    </tr>\n",
       "  </thead>\n",
       "  <tbody>\n",
       "    <tr>\n",
       "      <th>0</th>\n",
       "      <td>a9486b756c4994b3fccbe9b66bec144ea9486b756c4994...</td>\n",
       "      <td>433936</td>\n",
       "      <td>transiting_state</td>\n",
       "      <td>77410</td>\n",
       "      <td></td>\n",
       "      <td>PW</td>\n",
       "      <td>479de61e68a1f232b16498c726ae6afb6de766da18472e...</td>\n",
       "      <td>vessel_flag_tag</td>\n",
       "      <td>511101456</td>\n",
       "      <td>2024-09-04 00:00:00+00:00</td>\n",
       "      <td>...</td>\n",
       "      <td>NaT</td>\n",
       "      <td></td>\n",
       "      <td></td>\n",
       "      <td></td>\n",
       "      <td></td>\n",
       "      <td></td>\n",
       "      <td></td>\n",
       "      <td></td>\n",
       "      <td>NaT</td>\n",
       "      <td></td>\n",
       "    </tr>\n",
       "    <tr>\n",
       "      <th>1</th>\n",
       "      <td>ad225abb9cf80f7a32e4eca229e1ca59ad225abb9cf80f...</td>\n",
       "      <td>833796</td>\n",
       "      <td>transiting_state</td>\n",
       "      <td>79866</td>\n",
       "      <td></td>\n",
       "      <td>PW</td>\n",
       "      <td>479de61e68a1f232b16498c726ae6afb6de766da18472e...</td>\n",
       "      <td>vessel_flag_tag</td>\n",
       "      <td>511101428</td>\n",
       "      <td>2024-08-07 00:00:00+00:00</td>\n",
       "      <td>...</td>\n",
       "      <td>NaT</td>\n",
       "      <td></td>\n",
       "      <td></td>\n",
       "      <td></td>\n",
       "      <td></td>\n",
       "      <td></td>\n",
       "      <td></td>\n",
       "      <td></td>\n",
       "      <td>NaT</td>\n",
       "      <td></td>\n",
       "    </tr>\n",
       "    <tr>\n",
       "      <th>2</th>\n",
       "      <td>c38b5ca7177a343a613fb60de51a1179c38b5ca7177a34...</td>\n",
       "      <td>433936</td>\n",
       "      <td>transiting_state</td>\n",
       "      <td>77410</td>\n",
       "      <td></td>\n",
       "      <td>PW</td>\n",
       "      <td>479de61e68a1f232b16498c726ae6afb6de766da18472e...</td>\n",
       "      <td>vessel_flag_tag</td>\n",
       "      <td>511101456</td>\n",
       "      <td>2024-08-23 08:00:00+00:00</td>\n",
       "      <td>...</td>\n",
       "      <td>NaT</td>\n",
       "      <td></td>\n",
       "      <td></td>\n",
       "      <td></td>\n",
       "      <td></td>\n",
       "      <td></td>\n",
       "      <td></td>\n",
       "      <td></td>\n",
       "      <td>NaT</td>\n",
       "      <td></td>\n",
       "    </tr>\n",
       "    <tr>\n",
       "      <th>3</th>\n",
       "      <td>c920f7d026d99a8424b9346e59531810c920f7d026d99a...</td>\n",
       "      <td>190805</td>\n",
       "      <td>transiting_state</td>\n",
       "      <td>77712</td>\n",
       "      <td></td>\n",
       "      <td>PW</td>\n",
       "      <td>479de61e68a1f232b16498c726ae6afb6de766da18472e...</td>\n",
       "      <td>vessel_flag_tag</td>\n",
       "      <td>511101396</td>\n",
       "      <td>2024-08-01 00:00:00+00:00</td>\n",
       "      <td>...</td>\n",
       "      <td>NaT</td>\n",
       "      <td></td>\n",
       "      <td></td>\n",
       "      <td></td>\n",
       "      <td></td>\n",
       "      <td></td>\n",
       "      <td></td>\n",
       "      <td></td>\n",
       "      <td>NaT</td>\n",
       "      <td></td>\n",
       "    </tr>\n",
       "    <tr>\n",
       "      <th>4</th>\n",
       "      <td>fb8b2b93e566c43dfed56a5410bbc8e7fb8b2b93e566c4...</td>\n",
       "      <td>676890</td>\n",
       "      <td>transiting_state</td>\n",
       "      <td>77712</td>\n",
       "      <td></td>\n",
       "      <td>PW</td>\n",
       "      <td>479de61e68a1f232b16498c726ae6afb6de766da18472e...</td>\n",
       "      <td>vessel_flag_tag</td>\n",
       "      <td>511101396</td>\n",
       "      <td>2024-08-01 00:00:00+00:00</td>\n",
       "      <td>...</td>\n",
       "      <td>2024-09-16 09:49:32+00:00</td>\n",
       "      <td>1.0</td>\n",
       "      <td>3bc8490a0c382976f8746101508e709cb3f69d2a0efc5b...</td>\n",
       "      <td>1.0</td>\n",
       "      <td>703a4af533b42e86a0473f6b464ad2da1bb04cf899a167...</td>\n",
       "      <td>Cape Finisterre</td>\n",
       "      <td>model</td>\n",
       "      <td>waypoint</td>\n",
       "      <td>2024-09-11 19:06:06+00:00</td>\n",
       "      <td>c920f7d026d99a8424b9346e59531810c920f7d026d99a...</td>\n",
       "    </tr>\n",
       "  </tbody>\n",
       "</table>\n",
       "<p>5 rows × 529 columns</p>\n",
       "</div>"
      ],
      "text/plain": [
       "                                   cargo_movement_id  quantity  \\\n",
       "0  a9486b756c4994b3fccbe9b66bec144ea9486b756c4994...    433936   \n",
       "1  ad225abb9cf80f7a32e4eca229e1ca59ad225abb9cf80f...    833796   \n",
       "2  c38b5ca7177a343a613fb60de51a1179c38b5ca7177a34...    433936   \n",
       "3  c920f7d026d99a8424b9346e59531810c920f7d026d99a...    190805   \n",
       "4  fb8b2b93e566c43dfed56a5410bbc8e7fb8b2b93e566c4...    676890   \n",
       "\n",
       "             status  vessels.0.dwt vessels.0.fixture_id vessels.0.flag.0.flag  \\\n",
       "0  transiting_state          77410                                         PW   \n",
       "1  transiting_state          79866                                         PW   \n",
       "2  transiting_state          77410                                         PW   \n",
       "3  transiting_state          77712                                         PW   \n",
       "4  transiting_state          77712                                         PW   \n",
       "\n",
       "                       vessels.0.flag.0.flag_country vessels.0.flag.0.tag  \\\n",
       "0  479de61e68a1f232b16498c726ae6afb6de766da18472e...      vessel_flag_tag   \n",
       "1  479de61e68a1f232b16498c726ae6afb6de766da18472e...      vessel_flag_tag   \n",
       "2  479de61e68a1f232b16498c726ae6afb6de766da18472e...      vessel_flag_tag   \n",
       "3  479de61e68a1f232b16498c726ae6afb6de766da18472e...      vessel_flag_tag   \n",
       "4  479de61e68a1f232b16498c726ae6afb6de766da18472e...      vessel_flag_tag   \n",
       "\n",
       "   vessels.0.mmsi vessels.0.start_timestamp  ...  \\\n",
       "0       511101456 2024-09-04 00:00:00+00:00  ...   \n",
       "1       511101428 2024-08-07 00:00:00+00:00  ...   \n",
       "2       511101456 2024-08-23 08:00:00+00:00  ...   \n",
       "3       511101396 2024-08-01 00:00:00+00:00  ...   \n",
       "4       511101396 2024-08-01 00:00:00+00:00  ...   \n",
       "\n",
       "  events.cargo_waypoint_event.8.start_timestamp  \\\n",
       "0                                           NaT   \n",
       "1                                           NaT   \n",
       "2                                           NaT   \n",
       "3                                           NaT   \n",
       "4                     2024-09-16 09:49:32+00:00   \n",
       "\n",
       "   events.cargo_waypoint_event.8.probability  \\\n",
       "0                                              \n",
       "1                                              \n",
       "2                                              \n",
       "3                                              \n",
       "4                                        1.0   \n",
       "\n",
       "             events.cargo_waypoint_event.8.vessel_id  \\\n",
       "0                                                      \n",
       "1                                                      \n",
       "2                                                      \n",
       "3                                                      \n",
       "4  3bc8490a0c382976f8746101508e709cb3f69d2a0efc5b...   \n",
       "\n",
       "   events.cargo_waypoint_event.8.location.waypoint.probability  \\\n",
       "0                                                                \n",
       "1                                                                \n",
       "2                                                                \n",
       "3                                                                \n",
       "4                                                1.0             \n",
       "\n",
       "   events.cargo_waypoint_event.8.location.waypoint.id  \\\n",
       "0                                                       \n",
       "1                                                       \n",
       "2                                                       \n",
       "3                                                       \n",
       "4  703a4af533b42e86a0473f6b464ad2da1bb04cf899a167...    \n",
       "\n",
       "  events.cargo_waypoint_event.8.location.waypoint.label  \\\n",
       "0                                                         \n",
       "1                                                         \n",
       "2                                                         \n",
       "3                                                         \n",
       "4                                    Cape Finisterre      \n",
       "\n",
       "  events.cargo_waypoint_event.8.location.waypoint.source  \\\n",
       "0                                                          \n",
       "1                                                          \n",
       "2                                                          \n",
       "3                                                          \n",
       "4                                              model       \n",
       "\n",
       "  events.cargo_waypoint_event.8.location.waypoint.layer  \\\n",
       "0                                                         \n",
       "1                                                         \n",
       "2                                                         \n",
       "3                                                         \n",
       "4                                           waypoint      \n",
       "\n",
       "   parent_ids.0.splinter_timestamp  \\\n",
       "0                              NaT   \n",
       "1                              NaT   \n",
       "2                              NaT   \n",
       "3                              NaT   \n",
       "4        2024-09-11 19:06:06+00:00   \n",
       "\n",
       "                                     parent_ids.0.id  \n",
       "0                                                     \n",
       "1                                                     \n",
       "2                                                     \n",
       "3                                                     \n",
       "4  c920f7d026d99a8424b9346e59531810c920f7d026d99a...  \n",
       "\n",
       "[5 rows x 529 columns]"
      ]
     },
     "execution_count": 4,
     "metadata": {},
     "output_type": "execute_result"
    }
   ],
   "source": [
    "cm_df.head(5)"
   ]
  },
  {
   "cell_type": "code",
   "execution_count": 93,
   "metadata": {},
   "outputs": [
    {
     "data": {
      "text/html": [
       "<div>\n",
       "<style scoped>\n",
       "    .dataframe tbody tr th:only-of-type {\n",
       "        vertical-align: middle;\n",
       "    }\n",
       "\n",
       "    .dataframe tbody tr th {\n",
       "        vertical-align: top;\n",
       "    }\n",
       "\n",
       "    .dataframe thead th {\n",
       "        text-align: right;\n",
       "    }\n",
       "</style>\n",
       "<table border=\"1\" class=\"dataframe\">\n",
       "  <thead>\n",
       "    <tr style=\"text-align: right;\">\n",
       "      <th></th>\n",
       "      <th>vessels.0.name</th>\n",
       "      <th>vessels.0.imo</th>\n",
       "      <th>vessels.0.id</th>\n",
       "      <th>vessels.1.name</th>\n",
       "      <th>vessels.1.imo</th>\n",
       "      <th>vessels.1.start_timestamp</th>\n",
       "    </tr>\n",
       "  </thead>\n",
       "  <tbody>\n",
       "    <tr>\n",
       "      <th>0</th>\n",
       "      <td>EVEREST ENERGY</td>\n",
       "      <td>9243148</td>\n",
       "      <td>fe16241b4f45168faa94269633b52a4336b0c9d6e4c76b...</td>\n",
       "      <td></td>\n",
       "      <td></td>\n",
       "      <td>NaT</td>\n",
       "    </tr>\n",
       "    <tr>\n",
       "      <th>1</th>\n",
       "      <td>ASYA ENERGY</td>\n",
       "      <td>9216298</td>\n",
       "      <td>79138d1707099e3ed42779a5249bdf12343e0acdc53d85...</td>\n",
       "      <td></td>\n",
       "      <td></td>\n",
       "      <td>NaT</td>\n",
       "    </tr>\n",
       "    <tr>\n",
       "      <th>2</th>\n",
       "      <td>EVEREST ENERGY</td>\n",
       "      <td>9243148</td>\n",
       "      <td>fe16241b4f45168faa94269633b52a4336b0c9d6e4c76b...</td>\n",
       "      <td></td>\n",
       "      <td></td>\n",
       "      <td>NaT</td>\n",
       "    </tr>\n",
       "    <tr>\n",
       "      <th>3</th>\n",
       "      <td>PIONEER</td>\n",
       "      <td>9256602</td>\n",
       "      <td>72674aadb46c52864d2fa32ef49361f6873fd11c69574c...</td>\n",
       "      <td></td>\n",
       "      <td></td>\n",
       "      <td>NaT</td>\n",
       "    </tr>\n",
       "    <tr>\n",
       "      <th>4</th>\n",
       "      <td>PIONEER</td>\n",
       "      <td>9256602</td>\n",
       "      <td>72674aadb46c52864d2fa32ef49361f6873fd11c69574c...</td>\n",
       "      <td>NEW ENERGY</td>\n",
       "      <td>9324277.0</td>\n",
       "      <td>2024-08-22 00:00:00+00:00</td>\n",
       "    </tr>\n",
       "  </tbody>\n",
       "</table>\n",
       "</div>"
      ],
      "text/plain": [
       "   vessels.0.name  vessels.0.imo  \\\n",
       "0  EVEREST ENERGY        9243148   \n",
       "1     ASYA ENERGY        9216298   \n",
       "2  EVEREST ENERGY        9243148   \n",
       "3         PIONEER        9256602   \n",
       "4         PIONEER        9256602   \n",
       "\n",
       "                                        vessels.0.id vessels.1.name  \\\n",
       "0  fe16241b4f45168faa94269633b52a4336b0c9d6e4c76b...                  \n",
       "1  79138d1707099e3ed42779a5249bdf12343e0acdc53d85...                  \n",
       "2  fe16241b4f45168faa94269633b52a4336b0c9d6e4c76b...                  \n",
       "3  72674aadb46c52864d2fa32ef49361f6873fd11c69574c...                  \n",
       "4  72674aadb46c52864d2fa32ef49361f6873fd11c69574c...     NEW ENERGY   \n",
       "\n",
       "  vessels.1.imo vessels.1.start_timestamp  \n",
       "0                                     NaT  \n",
       "1                                     NaT  \n",
       "2                                     NaT  \n",
       "3                                     NaT  \n",
       "4     9324277.0 2024-08-22 00:00:00+00:00  "
      ]
     },
     "execution_count": 93,
     "metadata": {},
     "output_type": "execute_result"
    }
   ],
   "source": [
    "cm_df[['vessels.0.name','vessels.0.imo','vessels.0.id','vessels.1.name','vessels.1.imo','vessels.1.start_timestamp']]"
   ]
  },
  {
   "cell_type": "code",
   "execution_count": 5,
   "metadata": {},
   "outputs": [],
   "source": [
    "vessels_dict = {'fe16241b4f45168f': 'EVEREST ENERGY',\n",
    " '79138d1707099e3e': 'ASYA ENERGY',\n",
    " '72674aadb46c5286': 'PIONEER',\n",
    " '3bc8490a0c382976': 'NEW ENERGY'}"
   ]
  },
  {
   "cell_type": "code",
   "execution_count": 8,
   "metadata": {},
   "outputs": [],
   "source": [
    "all_list = ['9243148', '9216298', '9243148', '9256602', '9256602', '9324277']\n",
    "\n",
    "api_key = os.environ['VORTEXA_API_KEY']\n",
    "\n",
    "start_timestamp = pd.to_datetime(min(min(cm_df['vessels.0.start_timestamp'].values),min(cm_df['vessels.1.start_timestamp'].values))) - pd.Timedelta('10d')\n",
    "end_timestamp = datetime.now()\n",
    "interval = '6h' # \"5m\",\"10m\",\"15m\",\"1h\",\"3h\",\"6h\",\"1d\",\"3d\",\"7d\""
   ]
  },
  {
   "cell_type": "markdown",
   "metadata": {},
   "source": [
    "### Extract data from Signals API"
   ]
  },
  {
   "cell_type": "code",
   "execution_count": 9,
   "metadata": {},
   "outputs": [],
   "source": [
    "def extract_vessel_positions(list_of_vessels, start_timestamp, end_timestamp, interval):\n",
    "    URL = \"https://api.vortexa.com/v6/signals/vessel-positions\"\n",
    "    start_timestamp_iso = start_timestamp.isoformat()\n",
    "    end_timestamp_iso = end_timestamp.isoformat()\n",
    "    ## Make API calls\n",
    "    PARAMS = {\n",
    "        'apikey':api_key,\n",
    "        'time_min':start_timestamp_iso,\n",
    "        'time_max': end_timestamp_iso,\n",
    "        'interval': interval,\n",
    "        'vessel_id': list_of_vessels\n",
    "    }\n",
    "    r = requests.get(url = URL, params = PARAMS)\n",
    "    data = r.json()\n",
    "    data = pd.DataFrame(data['data'])\n",
    "    \n",
    "    # Post-processing\n",
    "    data['vessel_name'] = data['vessel_id'].map(vessels_dict)\n",
    "    data.drop_duplicates(subset=['vessel_id','timestamp'],inplace=True)\n",
    "    data = data.sort_values(by=['timestamp'],ascending=True)\n",
    "    return data\n",
    "\n",
    "# Plot animation with gradient color on timestamp\n",
    "def plot_trail(final_data, save_path=None):\n",
    "    fig = px.scatter_mapbox(\n",
    "        final_data, \n",
    "        lat=\"lat\", \n",
    "        lon=\"lon\", \n",
    "        color='vessel_id', \n",
    "        size_max=15, \n",
    "        zoom=10, \n",
    "        animation_frame=\"timestamp\", \n",
    "        color_continuous_scale=px.colors.sequential.Viridis,\n",
    "        text='vessel_name'  # Add vessel names as labels\n",
    "    )\n",
    "    \n",
    "    # Update layout to show the text as labels on the map\n",
    "    fig.update_traces(marker=dict(size=10), textposition=\"top right\")\n",
    "    \n",
    "    fig.update_layout(mapbox_style=\"open-street-map\")\n",
    "    fig.update_layout(margin={\"r\":0,\"t\":0,\"l\":0,\"b\":0})\n",
    "\n",
    "    # Show the plot\n",
    "    fig.show()\n",
    "    \n",
    "    # Save the plot as an HTML file if a save path is provided\n",
    "    if save_path:\n",
    "        fig.write_html(save_path)\n"
   ]
  },
  {
   "cell_type": "code",
   "execution_count": 10,
   "metadata": {},
   "outputs": [
    {
     "data": {
      "text/html": [
       "<div>\n",
       "<style scoped>\n",
       "    .dataframe tbody tr th:only-of-type {\n",
       "        vertical-align: middle;\n",
       "    }\n",
       "\n",
       "    .dataframe tbody tr th {\n",
       "        vertical-align: top;\n",
       "    }\n",
       "\n",
       "    .dataframe thead th {\n",
       "        text-align: right;\n",
       "    }\n",
       "</style>\n",
       "<table border=\"1\" class=\"dataframe\">\n",
       "  <thead>\n",
       "    <tr style=\"text-align: right;\">\n",
       "      <th></th>\n",
       "      <th>lat</th>\n",
       "      <th>lon</th>\n",
       "      <th>vessel_id</th>\n",
       "      <th>timestamp</th>\n",
       "      <th>heading</th>\n",
       "      <th>speed</th>\n",
       "      <th>vessel_name</th>\n",
       "    </tr>\n",
       "  </thead>\n",
       "  <tbody>\n",
       "    <tr>\n",
       "      <th>0</th>\n",
       "      <td>36.508051</td>\n",
       "      <td>-6.617987</td>\n",
       "      <td>3bc8490a0c382976</td>\n",
       "      <td>2024-07-22T00:00:00.000Z</td>\n",
       "      <td>323.0</td>\n",
       "      <td>0.0</td>\n",
       "      <td>NEW ENERGY</td>\n",
       "    </tr>\n",
       "    <tr>\n",
       "      <th>400</th>\n",
       "      <td>36.125384</td>\n",
       "      <td>-6.286485</td>\n",
       "      <td>79138d1707099e3e</td>\n",
       "      <td>2024-07-22T00:00:00.000Z</td>\n",
       "      <td>119.0</td>\n",
       "      <td>0.0</td>\n",
       "      <td>ASYA ENERGY</td>\n",
       "    </tr>\n",
       "    <tr>\n",
       "      <th>626</th>\n",
       "      <td>24.108015</td>\n",
       "      <td>58.110195</td>\n",
       "      <td>fe16241b4f45168f</td>\n",
       "      <td>2024-07-22T00:00:00.000Z</td>\n",
       "      <td>112.5</td>\n",
       "      <td>16.4</td>\n",
       "      <td>EVEREST ENERGY</td>\n",
       "    </tr>\n",
       "    <tr>\n",
       "      <th>170</th>\n",
       "      <td>72.063506</td>\n",
       "      <td>22.505845</td>\n",
       "      <td>72674aadb46c5286</td>\n",
       "      <td>2024-07-22T00:00:00.000Z</td>\n",
       "      <td>72.4</td>\n",
       "      <td>8.2</td>\n",
       "      <td>PIONEER</td>\n",
       "    </tr>\n",
       "    <tr>\n",
       "      <th>1</th>\n",
       "      <td>36.510765</td>\n",
       "      <td>-6.614753</td>\n",
       "      <td>3bc8490a0c382976</td>\n",
       "      <td>2024-07-22T06:00:00.000Z</td>\n",
       "      <td>92.0</td>\n",
       "      <td>0.0</td>\n",
       "      <td>NEW ENERGY</td>\n",
       "    </tr>\n",
       "    <tr>\n",
       "      <th>...</th>\n",
       "      <td>...</td>\n",
       "      <td>...</td>\n",
       "      <td>...</td>\n",
       "      <td>...</td>\n",
       "      <td>...</td>\n",
       "      <td>...</td>\n",
       "      <td>...</td>\n",
       "    </tr>\n",
       "    <tr>\n",
       "      <th>841</th>\n",
       "      <td>56.911525</td>\n",
       "      <td>166.064280</td>\n",
       "      <td>fe16241b4f45168f</td>\n",
       "      <td>2024-09-17T06:00:00.000Z</td>\n",
       "      <td>231.9</td>\n",
       "      <td>11.1</td>\n",
       "      <td>EVEREST ENERGY</td>\n",
       "    </tr>\n",
       "    <tr>\n",
       "      <th>843</th>\n",
       "      <td>31.603944</td>\n",
       "      <td>32.302289</td>\n",
       "      <td>72674aadb46c5286</td>\n",
       "      <td>2024-09-17T07:07:59.000Z</td>\n",
       "      <td>41.9</td>\n",
       "      <td>0.0</td>\n",
       "      <td>PIONEER</td>\n",
       "    </tr>\n",
       "    <tr>\n",
       "      <th>842</th>\n",
       "      <td>47.111453</td>\n",
       "      <td>-11.049882</td>\n",
       "      <td>3bc8490a0c382976</td>\n",
       "      <td>2024-09-17T07:10:04.000Z</td>\n",
       "      <td>0.0</td>\n",
       "      <td>12.0</td>\n",
       "      <td>NEW ENERGY</td>\n",
       "    </tr>\n",
       "    <tr>\n",
       "      <th>845</th>\n",
       "      <td>56.911525</td>\n",
       "      <td>166.064280</td>\n",
       "      <td>fe16241b4f45168f</td>\n",
       "      <td>2024-09-17T07:12:01.000Z</td>\n",
       "      <td>231.9</td>\n",
       "      <td>11.1</td>\n",
       "      <td>EVEREST ENERGY</td>\n",
       "    </tr>\n",
       "    <tr>\n",
       "      <th>844</th>\n",
       "      <td>76.308124</td>\n",
       "      <td>87.467347</td>\n",
       "      <td>79138d1707099e3e</td>\n",
       "      <td>2024-09-17T07:12:26.000Z</td>\n",
       "      <td>55.0</td>\n",
       "      <td>10.0</td>\n",
       "      <td>ASYA ENERGY</td>\n",
       "    </tr>\n",
       "  </tbody>\n",
       "</table>\n",
       "<p>845 rows × 7 columns</p>\n",
       "</div>"
      ],
      "text/plain": [
       "           lat         lon         vessel_id                 timestamp  \\\n",
       "0    36.508051   -6.617987  3bc8490a0c382976  2024-07-22T00:00:00.000Z   \n",
       "400  36.125384   -6.286485  79138d1707099e3e  2024-07-22T00:00:00.000Z   \n",
       "626  24.108015   58.110195  fe16241b4f45168f  2024-07-22T00:00:00.000Z   \n",
       "170  72.063506   22.505845  72674aadb46c5286  2024-07-22T00:00:00.000Z   \n",
       "1    36.510765   -6.614753  3bc8490a0c382976  2024-07-22T06:00:00.000Z   \n",
       "..         ...         ...               ...                       ...   \n",
       "841  56.911525  166.064280  fe16241b4f45168f  2024-09-17T06:00:00.000Z   \n",
       "843  31.603944   32.302289  72674aadb46c5286  2024-09-17T07:07:59.000Z   \n",
       "842  47.111453  -11.049882  3bc8490a0c382976  2024-09-17T07:10:04.000Z   \n",
       "845  56.911525  166.064280  fe16241b4f45168f  2024-09-17T07:12:01.000Z   \n",
       "844  76.308124   87.467347  79138d1707099e3e  2024-09-17T07:12:26.000Z   \n",
       "\n",
       "     heading  speed     vessel_name  \n",
       "0      323.0    0.0      NEW ENERGY  \n",
       "400    119.0    0.0     ASYA ENERGY  \n",
       "626    112.5   16.4  EVEREST ENERGY  \n",
       "170     72.4    8.2         PIONEER  \n",
       "1       92.0    0.0      NEW ENERGY  \n",
       "..       ...    ...             ...  \n",
       "841    231.9   11.1  EVEREST ENERGY  \n",
       "843     41.9    0.0         PIONEER  \n",
       "842      0.0   12.0      NEW ENERGY  \n",
       "845    231.9   11.1  EVEREST ENERGY  \n",
       "844     55.0   10.0     ASYA ENERGY  \n",
       "\n",
       "[845 rows x 7 columns]"
      ]
     },
     "execution_count": 10,
     "metadata": {},
     "output_type": "execute_result"
    }
   ],
   "source": [
    "data = extract_vessel_positions(all_list, start_timestamp, end_timestamp, interval)\n",
    "data"
   ]
  },
  {
   "cell_type": "code",
   "execution_count": 11,
   "metadata": {},
   "outputs": [
    {
     "data": {
      "application/vnd.plotly.v1+json": {
       "config": {
        "plotlyServerURL": "https://plot.ly"
       },
       "data": [
        {
         "hovertemplate": "vessel_id=3bc8490a0c382976<br>timestamp=2024-07-22T00:00:00.000Z<br>vessel_name=%{text}<br>lat=%{lat}<br>lon=%{lon}<extra></extra>",
         "lat": [
          36.50805138
         ],
         "legendgroup": "3bc8490a0c382976",
         "lon": [
          -6.6179867
         ],
         "marker": {
          "color": "#636efa",
          "size": 10
         },
         "mode": "markers+text",
         "name": "3bc8490a0c382976",
         "showlegend": true,
         "subplot": "mapbox",
         "text": [
          "NEW ENERGY"
         ],
         "textposition": "top right",
         "type": "scattermapbox"
        },
        {
         "hovertemplate": "vessel_id=79138d1707099e3e<br>timestamp=2024-07-22T00:00:00.000Z<br>vessel_name=%{text}<br>lat=%{lat}<br>lon=%{lon}<extra></extra>",
         "lat": [
          36.12538448
         ],
         "legendgroup": "79138d1707099e3e",
         "lon": [
          -6.28648531
         ],
         "marker": {
          "color": "#EF553B",
          "size": 10
         },
         "mode": "markers+text",
         "name": "79138d1707099e3e",
         "showlegend": true,
         "subplot": "mapbox",
         "text": [
          "ASYA ENERGY"
         ],
         "textposition": "top right",
         "type": "scattermapbox"
        },
        {
         "hovertemplate": "vessel_id=fe16241b4f45168f<br>timestamp=2024-07-22T00:00:00.000Z<br>vessel_name=%{text}<br>lat=%{lat}<br>lon=%{lon}<extra></extra>",
         "lat": [
          24.1080152
         ],
         "legendgroup": "fe16241b4f45168f",
         "lon": [
          58.11019532
         ],
         "marker": {
          "color": "#00cc96",
          "size": 10
         },
         "mode": "markers+text",
         "name": "fe16241b4f45168f",
         "showlegend": true,
         "subplot": "mapbox",
         "text": [
          "EVEREST ENERGY"
         ],
         "textposition": "top right",
         "type": "scattermapbox"
        },
        {
         "hovertemplate": "vessel_id=72674aadb46c5286<br>timestamp=2024-07-22T00:00:00.000Z<br>vessel_name=%{text}<br>lat=%{lat}<br>lon=%{lon}<extra></extra>",
         "lat": [
          72.06350642
         ],
         "legendgroup": "72674aadb46c5286",
         "lon": [
          22.50584512
         ],
         "marker": {
          "color": "#ab63fa",
          "size": 10
         },
         "mode": "markers+text",
         "name": "72674aadb46c5286",
         "showlegend": true,
         "subplot": "mapbox",
         "text": [
          "PIONEER"
         ],
         "textposition": "top right",
         "type": "scattermapbox"
        }
       ],
       "frames": [
        {
         "data": [
          {
           "hovertemplate": "vessel_id=3bc8490a0c382976<br>timestamp=2024-07-22T00:00:00.000Z<br>vessel_name=%{text}<br>lat=%{lat}<br>lon=%{lon}<extra></extra>",
           "lat": [
            36.50805138
           ],
           "legendgroup": "3bc8490a0c382976",
           "lon": [
            -6.6179867
           ],
           "marker": {
            "color": "#636efa"
           },
           "mode": "markers+text",
           "name": "3bc8490a0c382976",
           "showlegend": true,
           "subplot": "mapbox",
           "text": [
            "NEW ENERGY"
           ],
           "type": "scattermapbox"
          },
          {
           "hovertemplate": "vessel_id=79138d1707099e3e<br>timestamp=2024-07-22T00:00:00.000Z<br>vessel_name=%{text}<br>lat=%{lat}<br>lon=%{lon}<extra></extra>",
           "lat": [
            36.12538448
           ],
           "legendgroup": "79138d1707099e3e",
           "lon": [
            -6.28648531
           ],
           "marker": {
            "color": "#EF553B"
           },
           "mode": "markers+text",
           "name": "79138d1707099e3e",
           "showlegend": true,
           "subplot": "mapbox",
           "text": [
            "ASYA ENERGY"
           ],
           "type": "scattermapbox"
          },
          {
           "hovertemplate": "vessel_id=fe16241b4f45168f<br>timestamp=2024-07-22T00:00:00.000Z<br>vessel_name=%{text}<br>lat=%{lat}<br>lon=%{lon}<extra></extra>",
           "lat": [
            24.1080152
           ],
           "legendgroup": "fe16241b4f45168f",
           "lon": [
            58.11019532
           ],
           "marker": {
            "color": "#00cc96"
           },
           "mode": "markers+text",
           "name": "fe16241b4f45168f",
           "showlegend": true,
           "subplot": "mapbox",
           "text": [
            "EVEREST ENERGY"
           ],
           "type": "scattermapbox"
          },
          {
           "hovertemplate": "vessel_id=72674aadb46c5286<br>timestamp=2024-07-22T00:00:00.000Z<br>vessel_name=%{text}<br>lat=%{lat}<br>lon=%{lon}<extra></extra>",
           "lat": [
            72.06350642
           ],
           "legendgroup": "72674aadb46c5286",
           "lon": [
            22.50584512
           ],
           "marker": {
            "color": "#ab63fa"
           },
           "mode": "markers+text",
           "name": "72674aadb46c5286",
           "showlegend": true,
           "subplot": "mapbox",
           "text": [
            "PIONEER"
           ],
           "type": "scattermapbox"
          }
         ],
         "name": "2024-07-22T00:00:00.000Z"
        },
        {
         "data": [
          {
           "hovertemplate": "vessel_id=3bc8490a0c382976<br>timestamp=2024-07-22T06:00:00.000Z<br>vessel_name=%{text}<br>lat=%{lat}<br>lon=%{lon}<extra></extra>",
           "lat": [
            36.51076533
           ],
           "legendgroup": "3bc8490a0c382976",
           "lon": [
            -6.61475261
           ],
           "marker": {
            "color": "#636efa"
           },
           "mode": "markers+text",
           "name": "3bc8490a0c382976",
           "showlegend": true,
           "subplot": "mapbox",
           "text": [
            "NEW ENERGY"
           ],
           "type": "scattermapbox"
          },
          {
           "hovertemplate": "vessel_id=79138d1707099e3e<br>timestamp=2024-07-22T06:00:00.000Z<br>vessel_name=%{text}<br>lat=%{lat}<br>lon=%{lon}<extra></extra>",
           "lat": [
            36.12538448
           ],
           "legendgroup": "79138d1707099e3e",
           "lon": [
            -6.28648491
           ],
           "marker": {
            "color": "#EF553B"
           },
           "mode": "markers+text",
           "name": "79138d1707099e3e",
           "showlegend": true,
           "subplot": "mapbox",
           "text": [
            "ASYA ENERGY"
           ],
           "type": "scattermapbox"
          },
          {
           "hovertemplate": "vessel_id=fe16241b4f45168f<br>timestamp=2024-07-22T06:00:00.000Z<br>vessel_name=%{text}<br>lat=%{lat}<br>lon=%{lon}<extra></extra>",
           "lat": [
            23.27483264
           ],
           "legendgroup": "fe16241b4f45168f",
           "lon": [
            59.60205598
           ],
           "marker": {
            "color": "#00cc96"
           },
           "mode": "markers+text",
           "name": "fe16241b4f45168f",
           "showlegend": true,
           "subplot": "mapbox",
           "text": [
            "EVEREST ENERGY"
           ],
           "type": "scattermapbox"
          },
          {
           "hovertemplate": "vessel_id=72674aadb46c5286<br>timestamp=2024-07-22T06:00:00.000Z<br>vessel_name=%{text}<br>lat=%{lat}<br>lon=%{lon}<extra></extra>",
           "lat": [
            72.34575719
           ],
           "legendgroup": "72674aadb46c5286",
           "lon": [
            24.41160774
           ],
           "marker": {
            "color": "#ab63fa"
           },
           "mode": "markers+text",
           "name": "72674aadb46c5286",
           "showlegend": true,
           "subplot": "mapbox",
           "text": [
            "PIONEER"
           ],
           "type": "scattermapbox"
          }
         ],
         "name": "2024-07-22T06:00:00.000Z"
        },
        {
         "data": [
          {
           "hovertemplate": "vessel_id=3bc8490a0c382976<br>timestamp=2024-07-22T12:00:00.000Z<br>vessel_name=%{text}<br>lat=%{lat}<br>lon=%{lon}<extra></extra>",
           "lat": [
            36.50805138
           ],
           "legendgroup": "3bc8490a0c382976",
           "lon": [
            -6.61792045
           ],
           "marker": {
            "color": "#636efa"
           },
           "mode": "markers+text",
           "name": "3bc8490a0c382976",
           "showlegend": true,
           "subplot": "mapbox",
           "text": [
            "NEW ENERGY"
           ],
           "type": "scattermapbox"
          },
          {
           "hovertemplate": "vessel_id=79138d1707099e3e<br>timestamp=2024-07-22T12:00:00.000Z<br>vessel_name=%{text}<br>lat=%{lat}<br>lon=%{lon}<extra></extra>",
           "lat": [
            36.09281708
           ],
           "legendgroup": "79138d1707099e3e",
           "lon": [
            -6.36108314
           ],
           "marker": {
            "color": "#EF553B"
           },
           "mode": "markers+text",
           "name": "79138d1707099e3e",
           "showlegend": true,
           "subplot": "mapbox",
           "text": [
            "ASYA ENERGY"
           ],
           "type": "scattermapbox"
          },
          {
           "hovertemplate": "vessel_id=fe16241b4f45168f<br>timestamp=2024-07-22T12:00:00.000Z<br>vessel_name=%{text}<br>lat=%{lat}<br>lon=%{lon}<extra></extra>",
           "lat": [
            22.11597612
           ],
           "legendgroup": "fe16241b4f45168f",
           "lon": [
            60.16866936
           ],
           "marker": {
            "color": "#00cc96"
           },
           "mode": "markers+text",
           "name": "fe16241b4f45168f",
           "showlegend": true,
           "subplot": "mapbox",
           "text": [
            "EVEREST ENERGY"
           ],
           "type": "scattermapbox"
          },
          {
           "hovertemplate": "vessel_id=72674aadb46c5286<br>timestamp=2024-07-22T12:00:00.000Z<br>vessel_name=%{text}<br>lat=%{lat}<br>lon=%{lon}<extra></extra>",
           "lat": [
            72.59272661
           ],
           "legendgroup": "72674aadb46c5286",
           "lon": [
            26.50027399
           ],
           "marker": {
            "color": "#ab63fa"
           },
           "mode": "markers+text",
           "name": "72674aadb46c5286",
           "showlegend": true,
           "subplot": "mapbox",
           "text": [
            "PIONEER"
           ],
           "type": "scattermapbox"
          }
         ],
         "name": "2024-07-22T12:00:00.000Z"
        },
        {
         "data": [
          {
           "hovertemplate": "vessel_id=3bc8490a0c382976<br>timestamp=2024-07-22T18:00:00.000Z<br>vessel_name=%{text}<br>lat=%{lat}<br>lon=%{lon}<extra></extra>",
           "lat": [
            36.51076533
           ],
           "legendgroup": "3bc8490a0c382976",
           "lon": [
            -6.61828055
           ],
           "marker": {
            "color": "#636efa"
           },
           "mode": "markers+text",
           "name": "3bc8490a0c382976",
           "showlegend": true,
           "subplot": "mapbox",
           "text": [
            "NEW ENERGY"
           ],
           "type": "scattermapbox"
          },
          {
           "hovertemplate": "vessel_id=79138d1707099e3e<br>timestamp=2024-07-22T18:00:00.000Z<br>vessel_name=%{text}<br>lat=%{lat}<br>lon=%{lon}<extra></extra>",
           "lat": [
            35.89469875
           ],
           "legendgroup": "79138d1707099e3e",
           "lon": [
            -5.99010634
           ],
           "marker": {
            "color": "#EF553B"
           },
           "mode": "markers+text",
           "name": "79138d1707099e3e",
           "showlegend": true,
           "subplot": "mapbox",
           "text": [
            "ASYA ENERGY"
           ],
           "type": "scattermapbox"
          },
          {
           "hovertemplate": "vessel_id=fe16241b4f45168f<br>timestamp=2024-07-22T18:00:00.000Z<br>vessel_name=%{text}<br>lat=%{lat}<br>lon=%{lon}<extra></extra>",
           "lat": [
            20.9136964
           ],
           "legendgroup": "fe16241b4f45168f",
           "lon": [
            59.8159628
           ],
           "marker": {
            "color": "#00cc96"
           },
           "mode": "markers+text",
           "name": "fe16241b4f45168f",
           "showlegend": true,
           "subplot": "mapbox",
           "text": [
            "EVEREST ENERGY"
           ],
           "type": "scattermapbox"
          },
          {
           "hovertemplate": "vessel_id=72674aadb46c5286<br>timestamp=2024-07-22T18:00:00.000Z<br>vessel_name=%{text}<br>lat=%{lat}<br>lon=%{lon}<extra></extra>",
           "lat": [
            73.14637235
           ],
           "legendgroup": "72674aadb46c5286",
           "lon": [
            29.8604915
           ],
           "marker": {
            "color": "#ab63fa"
           },
           "mode": "markers+text",
           "name": "72674aadb46c5286",
           "showlegend": true,
           "subplot": "mapbox",
           "text": [
            "PIONEER"
           ],
           "type": "scattermapbox"
          }
         ],
         "name": "2024-07-22T18:00:00.000Z"
        },
        {
         "data": [
          {
           "hovertemplate": "vessel_id=3bc8490a0c382976<br>timestamp=2024-07-23T00:00:00.000Z<br>vessel_name=%{text}<br>lat=%{lat}<br>lon=%{lon}<extra></extra>",
           "lat": [
            36.51076533
           ],
           "legendgroup": "3bc8490a0c382976",
           "lon": [
            -6.61810498
           ],
           "marker": {
            "color": "#636efa"
           },
           "mode": "markers+text",
           "name": "3bc8490a0c382976",
           "showlegend": true,
           "subplot": "mapbox",
           "text": [
            "NEW ENERGY"
           ],
           "type": "scattermapbox"
          },
          {
           "hovertemplate": "vessel_id=79138d1707099e3e<br>timestamp=2024-07-23T00:00:00.000Z<br>vessel_name=%{text}<br>lat=%{lat}<br>lon=%{lon}<extra></extra>",
           "lat": [
            35.97340329
           ],
           "legendgroup": "79138d1707099e3e",
           "lon": [
            -5.38912376
           ],
           "marker": {
            "color": "#EF553B"
           },
           "mode": "markers+text",
           "name": "79138d1707099e3e",
           "showlegend": true,
           "subplot": "mapbox",
           "text": [
            "ASYA ENERGY"
           ],
           "type": "scattermapbox"
          },
          {
           "hovertemplate": "vessel_id=fe16241b4f45168f<br>timestamp=2024-07-23T00:00:00.000Z<br>vessel_name=%{text}<br>lat=%{lat}<br>lon=%{lon}<extra></extra>",
           "lat": [
            19.76026778
           ],
           "legendgroup": "fe16241b4f45168f",
           "lon": [
            59.29334072
           ],
           "marker": {
            "color": "#00cc96"
           },
           "mode": "markers+text",
           "name": "fe16241b4f45168f",
           "showlegend": true,
           "subplot": "mapbox",
           "text": [
            "EVEREST ENERGY"
           ],
           "type": "scattermapbox"
          },
          {
           "hovertemplate": "vessel_id=72674aadb46c5286<br>timestamp=2024-07-23T00:00:00.000Z<br>vessel_name=%{text}<br>lat=%{lat}<br>lon=%{lon}<extra></extra>",
           "lat": [
            73.70001809
           ],
           "legendgroup": "72674aadb46c5286",
           "lon": [
            33.53585803
           ],
           "marker": {
            "color": "#ab63fa"
           },
           "mode": "markers+text",
           "name": "72674aadb46c5286",
           "showlegend": true,
           "subplot": "mapbox",
           "text": [
            "PIONEER"
           ],
           "type": "scattermapbox"
          }
         ],
         "name": "2024-07-23T00:00:00.000Z"
        },
        {
         "data": [
          {
           "hovertemplate": "vessel_id=3bc8490a0c382976<br>timestamp=2024-07-23T06:00:00.000Z<br>vessel_name=%{text}<br>lat=%{lat}<br>lon=%{lon}<extra></extra>",
           "lat": [
            36.51076533
           ],
           "legendgroup": "3bc8490a0c382976",
           "lon": [
            -6.61488037
           ],
           "marker": {
            "color": "#636efa"
           },
           "mode": "markers+text",
           "name": "3bc8490a0c382976",
           "showlegend": true,
           "subplot": "mapbox",
           "text": [
            "NEW ENERGY"
           ],
           "type": "scattermapbox"
          },
          {
           "hovertemplate": "vessel_id=79138d1707099e3e<br>timestamp=2024-07-23T06:00:00.000Z<br>vessel_name=%{text}<br>lat=%{lat}<br>lon=%{lon}<extra></extra>",
           "lat": [
            36.23937036
           ],
           "legendgroup": "79138d1707099e3e",
           "lon": [
            -5.00357521
           ],
           "marker": {
            "color": "#EF553B"
           },
           "mode": "markers+text",
           "name": "79138d1707099e3e",
           "showlegend": true,
           "subplot": "mapbox",
           "text": [
            "ASYA ENERGY"
           ],
           "type": "scattermapbox"
          },
          {
           "hovertemplate": "vessel_id=fe16241b4f45168f<br>timestamp=2024-07-23T06:00:00.000Z<br>vessel_name=%{text}<br>lat=%{lat}<br>lon=%{lon}<extra></extra>",
           "lat": [
            18.79952958
           ],
           "legendgroup": "fe16241b4f45168f",
           "lon": [
            58.54196634
           ],
           "marker": {
            "color": "#00cc96"
           },
           "mode": "markers+text",
           "name": "fe16241b4f45168f",
           "showlegend": true,
           "subplot": "mapbox",
           "text": [
            "EVEREST ENERGY"
           ],
           "type": "scattermapbox"
          },
          {
           "hovertemplate": "vessel_id=72674aadb46c5286<br>timestamp=2024-07-23T06:00:00.000Z<br>vessel_name=%{text}<br>lat=%{lat}<br>lon=%{lon}<extra></extra>",
           "lat": [
            74.10711055
           ],
           "legendgroup": "72674aadb46c5286",
           "lon": [
            36.6983909
           ],
           "marker": {
            "color": "#ab63fa"
           },
           "mode": "markers+text",
           "name": "72674aadb46c5286",
           "showlegend": true,
           "subplot": "mapbox",
           "text": [
            "PIONEER"
           ],
           "type": "scattermapbox"
          }
         ],
         "name": "2024-07-23T06:00:00.000Z"
        },
        {
         "data": [
          {
           "hovertemplate": "vessel_id=3bc8490a0c382976<br>timestamp=2024-07-23T12:00:00.000Z<br>vessel_name=%{text}<br>lat=%{lat}<br>lon=%{lon}<extra></extra>",
           "lat": [
            36.51076533
           ],
           "legendgroup": "3bc8490a0c382976",
           "lon": [
            -6.61811267
           ],
           "marker": {
            "color": "#636efa"
           },
           "mode": "markers+text",
           "name": "3bc8490a0c382976",
           "showlegend": true,
           "subplot": "mapbox",
           "text": [
            "NEW ENERGY"
           ],
           "type": "scattermapbox"
          },
          {
           "hovertemplate": "vessel_id=79138d1707099e3e<br>timestamp=2024-07-23T12:00:00.000Z<br>vessel_name=%{text}<br>lat=%{lat}<br>lon=%{lon}<extra></extra>",
           "lat": [
            36.10095893
           ],
           "legendgroup": "79138d1707099e3e",
           "lon": [
            -5.21639775
           ],
           "marker": {
            "color": "#EF553B"
           },
           "mode": "markers+text",
           "name": "79138d1707099e3e",
           "showlegend": true,
           "subplot": "mapbox",
           "text": [
            "ASYA ENERGY"
           ],
           "type": "scattermapbox"
          },
          {
           "hovertemplate": "vessel_id=fe16241b4f45168f<br>timestamp=2024-07-23T12:00:00.000Z<br>vessel_name=%{text}<br>lat=%{lat}<br>lon=%{lon}<extra></extra>",
           "lat": [
            17.96363307
           ],
           "legendgroup": "fe16241b4f45168f",
           "lon": [
            57.57390888
           ],
           "marker": {
            "color": "#00cc96"
           },
           "mode": "markers+text",
           "name": "fe16241b4f45168f",
           "showlegend": true,
           "subplot": "mapbox",
           "text": [
            "EVEREST ENERGY"
           ],
           "type": "scattermapbox"
          },
          {
           "hovertemplate": "vessel_id=72674aadb46c5286<br>timestamp=2024-07-23T12:00:00.000Z<br>vessel_name=%{text}<br>lat=%{lat}<br>lon=%{lon}<extra></extra>",
           "lat": [
            73.90356432
           ],
           "legendgroup": "72674aadb46c5286",
           "lon": [
            36.17657704
           ],
           "marker": {
            "color": "#ab63fa"
           },
           "mode": "markers+text",
           "name": "72674aadb46c5286",
           "showlegend": true,
           "subplot": "mapbox",
           "text": [
            "PIONEER"
           ],
           "type": "scattermapbox"
          }
         ],
         "name": "2024-07-23T12:00:00.000Z"
        },
        {
         "data": [
          {
           "hovertemplate": "vessel_id=3bc8490a0c382976<br>timestamp=2024-07-23T18:00:00.000Z<br>vessel_name=%{text}<br>lat=%{lat}<br>lon=%{lon}<extra></extra>",
           "lat": [
            36.51076533
           ],
           "legendgroup": "3bc8490a0c382976",
           "lon": [
            -6.61485886
           ],
           "marker": {
            "color": "#636efa"
           },
           "mode": "markers+text",
           "name": "3bc8490a0c382976",
           "showlegend": true,
           "subplot": "mapbox",
           "text": [
            "NEW ENERGY"
           ],
           "type": "scattermapbox"
          },
          {
           "hovertemplate": "vessel_id=79138d1707099e3e<br>timestamp=2024-07-23T18:00:00.000Z<br>vessel_name=%{text}<br>lat=%{lat}<br>lon=%{lon}<extra></extra>",
           "lat": [
            36.08738918
           ],
           "legendgroup": "79138d1707099e3e",
           "lon": [
            -5.4001832
           ],
           "marker": {
            "color": "#EF553B"
           },
           "mode": "markers+text",
           "name": "79138d1707099e3e",
           "showlegend": true,
           "subplot": "mapbox",
           "text": [
            "ASYA ENERGY"
           ],
           "type": "scattermapbox"
          },
          {
           "hovertemplate": "vessel_id=fe16241b4f45168f<br>timestamp=2024-07-23T18:00:00.000Z<br>vessel_name=%{text}<br>lat=%{lat}<br>lon=%{lon}<extra></extra>",
           "lat": [
            17.07345757
           ],
           "legendgroup": "fe16241b4f45168f",
           "lon": [
            56.60526955
           ],
           "marker": {
            "color": "#00cc96"
           },
           "mode": "markers+text",
           "name": "fe16241b4f45168f",
           "showlegend": true,
           "subplot": "mapbox",
           "text": [
            "EVEREST ENERGY"
           ],
           "type": "scattermapbox"
          },
          {
           "hovertemplate": "vessel_id=72674aadb46c5286<br>timestamp=2024-07-23T18:00:00.000Z<br>vessel_name=%{text}<br>lat=%{lat}<br>lon=%{lon}<extra></extra>",
           "lat": [
            73.86014113
           ],
           "legendgroup": "72674aadb46c5286",
           "lon": [
            35.55656911
           ],
           "marker": {
            "color": "#ab63fa"
           },
           "mode": "markers+text",
           "name": "72674aadb46c5286",
           "showlegend": true,
           "subplot": "mapbox",
           "text": [
            "PIONEER"
           ],
           "type": "scattermapbox"
          }
         ],
         "name": "2024-07-23T18:00:00.000Z"
        },
        {
         "data": [
          {
           "hovertemplate": "vessel_id=3bc8490a0c382976<br>timestamp=2024-07-24T00:00:00.000Z<br>vessel_name=%{text}<br>lat=%{lat}<br>lon=%{lon}<extra></extra>",
           "lat": [
            36.50533743
           ],
           "legendgroup": "3bc8490a0c382976",
           "lon": [
            -6.61784422
           ],
           "marker": {
            "color": "#636efa"
           },
           "mode": "markers+text",
           "name": "3bc8490a0c382976",
           "showlegend": true,
           "subplot": "mapbox",
           "text": [
            "NEW ENERGY"
           ],
           "type": "scattermapbox"
          },
          {
           "hovertemplate": "vessel_id=79138d1707099e3e<br>timestamp=2024-07-24T00:00:00.000Z<br>vessel_name=%{text}<br>lat=%{lat}<br>lon=%{lon}<extra></extra>",
           "lat": [
            36.08738918
           ],
           "legendgroup": "79138d1707099e3e",
           "lon": [
            -5.40362562
           ],
           "marker": {
            "color": "#EF553B"
           },
           "mode": "markers+text",
           "name": "79138d1707099e3e",
           "showlegend": true,
           "subplot": "mapbox",
           "text": [
            "ASYA ENERGY"
           ],
           "type": "scattermapbox"
          },
          {
           "hovertemplate": "vessel_id=fe16241b4f45168f<br>timestamp=2024-07-24T00:00:00.000Z<br>vessel_name=%{text}<br>lat=%{lat}<br>lon=%{lon}<extra></extra>",
           "lat": [
            16.19685182
           ],
           "legendgroup": "fe16241b4f45168f",
           "lon": [
            55.5646664
           ],
           "marker": {
            "color": "#00cc96"
           },
           "mode": "markers+text",
           "name": "fe16241b4f45168f",
           "showlegend": true,
           "subplot": "mapbox",
           "text": [
            "EVEREST ENERGY"
           ],
           "type": "scattermapbox"
          },
          {
           "hovertemplate": "vessel_id=72674aadb46c5286<br>timestamp=2024-07-24T00:00:00.000Z<br>vessel_name=%{text}<br>lat=%{lat}<br>lon=%{lon}<extra></extra>",
           "lat": [
            73.88185272
           ],
           "legendgroup": "72674aadb46c5286",
           "lon": [
            35.1607465
           ],
           "marker": {
            "color": "#ab63fa"
           },
           "mode": "markers+text",
           "name": "72674aadb46c5286",
           "showlegend": true,
           "subplot": "mapbox",
           "text": [
            "PIONEER"
           ],
           "type": "scattermapbox"
          }
         ],
         "name": "2024-07-24T00:00:00.000Z"
        },
        {
         "data": [
          {
           "hovertemplate": "vessel_id=3bc8490a0c382976<br>timestamp=2024-07-24T06:00:00.000Z<br>vessel_name=%{text}<br>lat=%{lat}<br>lon=%{lon}<extra></extra>",
           "lat": [
            36.51076533
           ],
           "legendgroup": "3bc8490a0c382976",
           "lon": [
            -6.61811951
           ],
           "marker": {
            "color": "#636efa"
           },
           "mode": "markers+text",
           "name": "3bc8490a0c382976",
           "showlegend": true,
           "subplot": "mapbox",
           "text": [
            "NEW ENERGY"
           ],
           "type": "scattermapbox"
          },
          {
           "hovertemplate": "vessel_id=79138d1707099e3e<br>timestamp=2024-07-24T06:00:00.000Z<br>vessel_name=%{text}<br>lat=%{lat}<br>lon=%{lon}<extra></extra>",
           "lat": [
            35.96526144
           ],
           "legendgroup": "79138d1707099e3e",
           "lon": [
            -5.9216138
           ],
           "marker": {
            "color": "#EF553B"
           },
           "mode": "markers+text",
           "name": "79138d1707099e3e",
           "showlegend": true,
           "subplot": "mapbox",
           "text": [
            "ASYA ENERGY"
           ],
           "type": "scattermapbox"
          },
          {
           "hovertemplate": "vessel_id=fe16241b4f45168f<br>timestamp=2024-07-24T06:00:00.000Z<br>vessel_name=%{text}<br>lat=%{lat}<br>lon=%{lon}<extra></extra>",
           "lat": [
            15.36095531
           ],
           "legendgroup": "fe16241b4f45168f",
           "lon": [
            54.48856312
           ],
           "marker": {
            "color": "#00cc96"
           },
           "mode": "markers+text",
           "name": "fe16241b4f45168f",
           "showlegend": true,
           "subplot": "mapbox",
           "text": [
            "EVEREST ENERGY"
           ],
           "type": "scattermapbox"
          },
          {
           "hovertemplate": "vessel_id=72674aadb46c5286<br>timestamp=2024-07-24T06:00:00.000Z<br>vessel_name=%{text}<br>lat=%{lat}<br>lon=%{lon}<extra></extra>",
           "lat": [
            73.86014113
           ],
           "legendgroup": "72674aadb46c5286",
           "lon": [
            35.65419835
           ],
           "marker": {
            "color": "#ab63fa"
           },
           "mode": "markers+text",
           "name": "72674aadb46c5286",
           "showlegend": true,
           "subplot": "mapbox",
           "text": [
            "PIONEER"
           ],
           "type": "scattermapbox"
          }
         ],
         "name": "2024-07-24T06:00:00.000Z"
        },
        {
         "data": [
          {
           "hovertemplate": "vessel_id=3bc8490a0c382976<br>timestamp=2024-07-24T12:00:00.000Z<br>vessel_name=%{text}<br>lat=%{lat}<br>lon=%{lon}<extra></extra>",
           "lat": [
            36.51076533
           ],
           "legendgroup": "3bc8490a0c382976",
           "lon": [
            -6.61487197
           ],
           "marker": {
            "color": "#636efa"
           },
           "mode": "markers+text",
           "name": "3bc8490a0c382976",
           "showlegend": true,
           "subplot": "mapbox",
           "text": [
            "NEW ENERGY"
           ],
           "type": "scattermapbox"
          },
          {
           "hovertemplate": "vessel_id=79138d1707099e3e<br>timestamp=2024-07-24T12:00:00.000Z<br>vessel_name=%{text}<br>lat=%{lat}<br>lon=%{lon}<extra></extra>",
           "lat": [
            36.03039624
           ],
           "legendgroup": "79138d1707099e3e",
           "lon": [
            -7.46360058
           ],
           "marker": {
            "color": "#EF553B"
           },
           "mode": "markers+text",
           "name": "79138d1707099e3e",
           "showlegend": true,
           "subplot": "mapbox",
           "text": [
            "ASYA ENERGY"
           ],
           "type": "scattermapbox"
          },
          {
           "hovertemplate": "vessel_id=fe16241b4f45168f<br>timestamp=2024-07-24T12:00:00.000Z<br>vessel_name=%{text}<br>lat=%{lat}<br>lon=%{lon}<extra></extra>",
           "lat": [
            14.61190519
           ],
           "legendgroup": "fe16241b4f45168f",
           "lon": [
            53.33597921
           ],
           "marker": {
            "color": "#00cc96"
           },
           "mode": "markers+text",
           "name": "fe16241b4f45168f",
           "showlegend": true,
           "subplot": "mapbox",
           "text": [
            "EVEREST ENERGY"
           ],
           "type": "scattermapbox"
          },
          {
           "hovertemplate": "vessel_id=72674aadb46c5286<br>timestamp=2024-07-24T12:00:00.000Z<br>vessel_name=%{text}<br>lat=%{lat}<br>lon=%{lon}<extra></extra>",
           "lat": [
            73.91713407
           ],
           "legendgroup": "72674aadb46c5286",
           "lon": [
            35.10053273
           ],
           "marker": {
            "color": "#ab63fa"
           },
           "mode": "markers+text",
           "name": "72674aadb46c5286",
           "showlegend": true,
           "subplot": "mapbox",
           "text": [
            "PIONEER"
           ],
           "type": "scattermapbox"
          }
         ],
         "name": "2024-07-24T12:00:00.000Z"
        },
        {
         "data": [
          {
           "hovertemplate": "vessel_id=3bc8490a0c382976<br>timestamp=2024-07-24T18:00:00.000Z<br>vessel_name=%{text}<br>lat=%{lat}<br>lon=%{lon}<extra></extra>",
           "lat": [
            36.50805138
           ],
           "legendgroup": "3bc8490a0c382976",
           "lon": [
            -6.61469037
           ],
           "marker": {
            "color": "#636efa"
           },
           "mode": "markers+text",
           "name": "3bc8490a0c382976",
           "showlegend": true,
           "subplot": "mapbox",
           "text": [
            "NEW ENERGY"
           ],
           "type": "scattermapbox"
          },
          {
           "hovertemplate": "vessel_id=79138d1707099e3e<br>timestamp=2024-07-24T18:00:00.000Z<br>vessel_name=%{text}<br>lat=%{lat}<br>lon=%{lon}<extra></extra>",
           "lat": [
            36.27736566
           ],
           "legendgroup": "79138d1707099e3e",
           "lon": [
            -8.85069542
           ],
           "marker": {
            "color": "#EF553B"
           },
           "mode": "markers+text",
           "name": "79138d1707099e3e",
           "showlegend": true,
           "subplot": "mapbox",
           "text": [
            "ASYA ENERGY"
           ],
           "type": "scattermapbox"
          },
          {
           "hovertemplate": "vessel_id=fe16241b4f45168f<br>timestamp=2024-07-24T18:00:00.000Z<br>vessel_name=%{text}<br>lat=%{lat}<br>lon=%{lon}<extra></extra>",
           "lat": [
            14.10711055
           ],
           "legendgroup": "fe16241b4f45168f",
           "lon": [
            51.98222273
           ],
           "marker": {
            "color": "#00cc96"
           },
           "mode": "markers+text",
           "name": "fe16241b4f45168f",
           "showlegend": true,
           "subplot": "mapbox",
           "text": [
            "EVEREST ENERGY"
           ],
           "type": "scattermapbox"
          },
          {
           "hovertemplate": "vessel_id=72674aadb46c5286<br>timestamp=2024-07-24T18:00:00.000Z<br>vessel_name=%{text}<br>lat=%{lat}<br>lon=%{lon}<extra></extra>",
           "lat": [
            74.0935408
           ],
           "legendgroup": "72674aadb46c5286",
           "lon": [
            35.51732066
           ],
           "marker": {
            "color": "#ab63fa"
           },
           "mode": "markers+text",
           "name": "72674aadb46c5286",
           "showlegend": true,
           "subplot": "mapbox",
           "text": [
            "PIONEER"
           ],
           "type": "scattermapbox"
          }
         ],
         "name": "2024-07-24T18:00:00.000Z"
        },
        {
         "data": [
          {
           "hovertemplate": "vessel_id=3bc8490a0c382976<br>timestamp=2024-07-25T00:00:00.000Z<br>vessel_name=%{text}<br>lat=%{lat}<br>lon=%{lon}<extra></extra>",
           "lat": [
            36.50805138
           ],
           "legendgroup": "3bc8490a0c382976",
           "lon": [
            -6.61792372
           ],
           "marker": {
            "color": "#636efa"
           },
           "mode": "markers+text",
           "name": "3bc8490a0c382976",
           "showlegend": true,
           "subplot": "mapbox",
           "text": [
            "NEW ENERGY"
           ],
           "type": "scattermapbox"
          },
          {
           "hovertemplate": "vessel_id=79138d1707099e3e<br>timestamp=2024-07-25T00:00:00.000Z<br>vessel_name=%{text}<br>lat=%{lat}<br>lon=%{lon}<extra></extra>",
           "lat": [
            36.90971594
           ],
           "legendgroup": "79138d1707099e3e",
           "lon": [
            -9.85346461
           ],
           "marker": {
            "color": "#EF553B"
           },
           "mode": "markers+text",
           "name": "79138d1707099e3e",
           "showlegend": true,
           "subplot": "mapbox",
           "text": [
            "ASYA ENERGY"
           ],
           "type": "scattermapbox"
          },
          {
           "hovertemplate": "vessel_id=fe16241b4f45168f<br>timestamp=2024-07-25T00:00:00.000Z<br>vessel_name=%{text}<br>lat=%{lat}<br>lon=%{lon}<extra></extra>",
           "lat": [
            13.71630179
           ],
           "legendgroup": "fe16241b4f45168f",
           "lon": [
            50.67079123
           ],
           "marker": {
            "color": "#00cc96"
           },
           "mode": "markers+text",
           "name": "fe16241b4f45168f",
           "showlegend": true,
           "subplot": "mapbox",
           "text": [
            "EVEREST ENERGY"
           ],
           "type": "scattermapbox"
          },
          {
           "hovertemplate": "vessel_id=72674aadb46c5286<br>timestamp=2024-07-25T00:00:00.000Z<br>vessel_name=%{text}<br>lat=%{lat}<br>lon=%{lon}<extra></extra>",
           "lat": [
            74.13696399
           ],
           "legendgroup": "72674aadb46c5286",
           "lon": [
            36.14009012
           ],
           "marker": {
            "color": "#ab63fa"
           },
           "mode": "markers+text",
           "name": "72674aadb46c5286",
           "showlegend": true,
           "subplot": "mapbox",
           "text": [
            "PIONEER"
           ],
           "type": "scattermapbox"
          }
         ],
         "name": "2024-07-25T00:00:00.000Z"
        },
        {
         "data": [
          {
           "hovertemplate": "vessel_id=3bc8490a0c382976<br>timestamp=2024-07-25T06:00:00.000Z<br>vessel_name=%{text}<br>lat=%{lat}<br>lon=%{lon}<extra></extra>",
           "lat": [
            36.51076533
           ],
           "legendgroup": "3bc8490a0c382976",
           "lon": [
            -6.61475261
           ],
           "marker": {
            "color": "#636efa"
           },
           "mode": "markers+text",
           "name": "3bc8490a0c382976",
           "showlegend": true,
           "subplot": "mapbox",
           "text": [
            "NEW ENERGY"
           ],
           "type": "scattermapbox"
          },
          {
           "hovertemplate": "vessel_id=79138d1707099e3e<br>timestamp=2024-07-25T06:00:00.000Z<br>vessel_name=%{text}<br>lat=%{lat}<br>lon=%{lon}<extra></extra>",
           "lat": [
            37.95187263
           ],
           "legendgroup": "79138d1707099e3e",
           "lon": [
            -10.28758565
           ],
           "marker": {
            "color": "#EF553B"
           },
           "mode": "markers+text",
           "name": "79138d1707099e3e",
           "showlegend": true,
           "subplot": "mapbox",
           "text": [
            "ASYA ENERGY"
           ],
           "type": "scattermapbox"
          },
          {
           "hovertemplate": "vessel_id=fe16241b4f45168f<br>timestamp=2024-07-25T06:00:00.000Z<br>vessel_name=%{text}<br>lat=%{lat}<br>lon=%{lon}<extra></extra>",
           "lat": [
            13.27392799
           ],
           "legendgroup": "fe16241b4f45168f",
           "lon": [
            49.18003152
           ],
           "marker": {
            "color": "#00cc96"
           },
           "mode": "markers+text",
           "name": "fe16241b4f45168f",
           "showlegend": true,
           "subplot": "mapbox",
           "text": [
            "EVEREST ENERGY"
           ],
           "type": "scattermapbox"
          },
          {
           "hovertemplate": "vessel_id=72674aadb46c5286<br>timestamp=2024-07-25T06:00:00.000Z<br>vessel_name=%{text}<br>lat=%{lat}<br>lon=%{lon}<extra></extra>",
           "lat": [
            74.15596164
           ],
           "legendgroup": "72674aadb46c5286",
           "lon": [
            36.52293971
           ],
           "marker": {
            "color": "#ab63fa"
           },
           "mode": "markers+text",
           "name": "72674aadb46c5286",
           "showlegend": true,
           "subplot": "mapbox",
           "text": [
            "PIONEER"
           ],
           "type": "scattermapbox"
          }
         ],
         "name": "2024-07-25T06:00:00.000Z"
        },
        {
         "data": [
          {
           "hovertemplate": "vessel_id=3bc8490a0c382976<br>timestamp=2024-07-25T12:00:00.000Z<br>vessel_name=%{text}<br>lat=%{lat}<br>lon=%{lon}<extra></extra>",
           "lat": [
            36.51076533
           ],
           "legendgroup": "3bc8490a0c382976",
           "lon": [
            -6.61479819
           ],
           "marker": {
            "color": "#636efa"
           },
           "mode": "markers+text",
           "name": "3bc8490a0c382976",
           "showlegend": true,
           "subplot": "mapbox",
           "text": [
            "NEW ENERGY"
           ],
           "type": "scattermapbox"
          },
          {
           "hovertemplate": "vessel_id=79138d1707099e3e<br>timestamp=2024-07-25T12:00:00.000Z<br>vessel_name=%{text}<br>lat=%{lat}<br>lon=%{lon}<extra></extra>",
           "lat": [
            39.01845486
           ],
           "legendgroup": "79138d1707099e3e",
           "lon": [
            -10.36769949
           ],
           "marker": {
            "color": "#EF553B"
           },
           "mode": "markers+text",
           "name": "79138d1707099e3e",
           "showlegend": true,
           "subplot": "mapbox",
           "text": [
            "ASYA ENERGY"
           ],
           "type": "scattermapbox"
          },
          {
           "hovertemplate": "vessel_id=fe16241b4f45168f<br>timestamp=2024-07-25T12:00:00.000Z<br>vessel_name=%{text}<br>lat=%{lat}<br>lon=%{lon}<extra></extra>",
           "lat": [
            12.81255654
           ],
           "legendgroup": "fe16241b4f45168f",
           "lon": [
            47.74964732
           ],
           "marker": {
            "color": "#00cc96"
           },
           "mode": "markers+text",
           "name": "fe16241b4f45168f",
           "showlegend": true,
           "subplot": "mapbox",
           "text": [
            "EVEREST ENERGY"
           ],
           "type": "scattermapbox"
          },
          {
           "hovertemplate": "vessel_id=72674aadb46c5286<br>timestamp=2024-07-25T12:00:00.000Z<br>vessel_name=%{text}<br>lat=%{lat}<br>lon=%{lon}<extra></extra>",
           "lat": [
            73.91713407
           ],
           "legendgroup": "72674aadb46c5286",
           "lon": [
            36.27025748
           ],
           "marker": {
            "color": "#ab63fa"
           },
           "mode": "markers+text",
           "name": "72674aadb46c5286",
           "showlegend": true,
           "subplot": "mapbox",
           "text": [
            "PIONEER"
           ],
           "type": "scattermapbox"
          }
         ],
         "name": "2024-07-25T12:00:00.000Z"
        },
        {
         "data": [
          {
           "hovertemplate": "vessel_id=3bc8490a0c382976<br>timestamp=2024-07-25T18:00:00.000Z<br>vessel_name=%{text}<br>lat=%{lat}<br>lon=%{lon}<extra></extra>",
           "lat": [
            36.51076533
           ],
           "legendgroup": "3bc8490a0c382976",
           "lon": [
            -6.61475261
           ],
           "marker": {
            "color": "#636efa"
           },
           "mode": "markers+text",
           "name": "3bc8490a0c382976",
           "showlegend": true,
           "subplot": "mapbox",
           "text": [
            "NEW ENERGY"
           ],
           "type": "scattermapbox"
          },
          {
           "hovertemplate": "vessel_id=79138d1707099e3e<br>timestamp=2024-07-25T18:00:00.000Z<br>vessel_name=%{text}<br>lat=%{lat}<br>lon=%{lon}<extra></extra>",
           "lat": [
            40.05518364
           ],
           "legendgroup": "79138d1707099e3e",
           "lon": [
            -10.42092802
           ],
           "marker": {
            "color": "#EF553B"
           },
           "mode": "markers+text",
           "name": "79138d1707099e3e",
           "showlegend": true,
           "subplot": "mapbox",
           "text": [
            "ASYA ENERGY"
           ],
           "type": "scattermapbox"
          },
          {
           "hovertemplate": "vessel_id=fe16241b4f45168f<br>timestamp=2024-07-25T18:00:00.000Z<br>vessel_name=%{text}<br>lat=%{lat}<br>lon=%{lon}<extra></extra>",
           "lat": [
            12.41631988
           ],
           "legendgroup": "fe16241b4f45168f",
           "lon": [
            46.40569064
           ],
           "marker": {
            "color": "#00cc96"
           },
           "mode": "markers+text",
           "name": "fe16241b4f45168f",
           "showlegend": true,
           "subplot": "mapbox",
           "text": [
            "EVEREST ENERGY"
           ],
           "type": "scattermapbox"
          },
          {
           "hovertemplate": "vessel_id=72674aadb46c5286<br>timestamp=2024-07-25T18:00:00.000Z<br>vessel_name=%{text}<br>lat=%{lat}<br>lon=%{lon}<extra></extra>",
           "lat": [
            73.86285508
           ],
           "legendgroup": "72674aadb46c5286",
           "lon": [
            35.81760576
           ],
           "marker": {
            "color": "#ab63fa"
           },
           "mode": "markers+text",
           "name": "72674aadb46c5286",
           "showlegend": true,
           "subplot": "mapbox",
           "text": [
            "PIONEER"
           ],
           "type": "scattermapbox"
          }
         ],
         "name": "2024-07-25T18:00:00.000Z"
        },
        {
         "data": [
          {
           "hovertemplate": "vessel_id=3bc8490a0c382976<br>timestamp=2024-07-26T00:00:00.000Z<br>vessel_name=%{text}<br>lat=%{lat}<br>lon=%{lon}<extra></extra>",
           "lat": [
            36.50533743
           ],
           "legendgroup": "3bc8490a0c382976",
           "lon": [
            -6.61446777
           ],
           "marker": {
            "color": "#636efa"
           },
           "mode": "markers+text",
           "name": "3bc8490a0c382976",
           "showlegend": true,
           "subplot": "mapbox",
           "text": [
            "NEW ENERGY"
           ],
           "type": "scattermapbox"
          },
          {
           "hovertemplate": "vessel_id=79138d1707099e3e<br>timestamp=2024-07-26T00:00:00.000Z<br>vessel_name=%{text}<br>lat=%{lat}<br>lon=%{lon}<extra></extra>",
           "lat": [
            41.15704722
           ],
           "legendgroup": "79138d1707099e3e",
           "lon": [
            -10.49299053
           ],
           "marker": {
            "color": "#EF553B"
           },
           "mode": "markers+text",
           "name": "79138d1707099e3e",
           "showlegend": true,
           "subplot": "mapbox",
           "text": [
            "ASYA ENERGY"
           ],
           "type": "scattermapbox"
          },
          {
           "hovertemplate": "vessel_id=fe16241b4f45168f<br>timestamp=2024-07-26T00:00:00.000Z<br>vessel_name=%{text}<br>lat=%{lat}<br>lon=%{lon}<extra></extra>",
           "lat": [
            11.98751583
           ],
           "legendgroup": "fe16241b4f45168f",
           "lon": [
            44.99326863
           ],
           "marker": {
            "color": "#00cc96"
           },
           "mode": "markers+text",
           "name": "fe16241b4f45168f",
           "showlegend": true,
           "subplot": "mapbox",
           "text": [
            "EVEREST ENERGY"
           ],
           "type": "scattermapbox"
          },
          {
           "hovertemplate": "vessel_id=72674aadb46c5286<br>timestamp=2024-07-26T00:00:00.000Z<br>vessel_name=%{text}<br>lat=%{lat}<br>lon=%{lon}<extra></extra>",
           "lat": [
            73.85742718
           ],
           "legendgroup": "72674aadb46c5286",
           "lon": [
            35.32435241
           ],
           "marker": {
            "color": "#ab63fa"
           },
           "mode": "markers+text",
           "name": "72674aadb46c5286",
           "showlegend": true,
           "subplot": "mapbox",
           "text": [
            "PIONEER"
           ],
           "type": "scattermapbox"
          }
         ],
         "name": "2024-07-26T00:00:00.000Z"
        },
        {
         "data": [
          {
           "hovertemplate": "vessel_id=3bc8490a0c382976<br>timestamp=2024-07-26T06:00:00.000Z<br>vessel_name=%{text}<br>lat=%{lat}<br>lon=%{lon}<extra></extra>",
           "lat": [
            36.50805138
           ],
           "legendgroup": "3bc8490a0c382976",
           "lon": [
            -6.61800309
           ],
           "marker": {
            "color": "#636efa"
           },
           "mode": "markers+text",
           "name": "3bc8490a0c382976",
           "showlegend": true,
           "subplot": "mapbox",
           "text": [
            "NEW ENERGY"
           ],
           "type": "scattermapbox"
          },
          {
           "hovertemplate": "vessel_id=79138d1707099e3e<br>timestamp=2024-07-26T06:00:00.000Z<br>vessel_name=%{text}<br>lat=%{lat}<br>lon=%{lon}<extra></extra>",
           "lat": [
            42.29419215
           ],
           "legendgroup": "79138d1707099e3e",
           "lon": [
            -10.566828
           ],
           "marker": {
            "color": "#EF553B"
           },
           "mode": "markers+text",
           "name": "79138d1707099e3e",
           "showlegend": true,
           "subplot": "mapbox",
           "text": [
            "ASYA ENERGY"
           ],
           "type": "scattermapbox"
          },
          {
           "hovertemplate": "vessel_id=fe16241b4f45168f<br>timestamp=2024-07-26T06:00:00.000Z<br>vessel_name=%{text}<br>lat=%{lat}<br>lon=%{lon}<extra></extra>",
           "lat": [
            12.55473132
           ],
           "legendgroup": "fe16241b4f45168f",
           "lon": [
            43.50261824
           ],
           "marker": {
            "color": "#00cc96"
           },
           "mode": "markers+text",
           "name": "fe16241b4f45168f",
           "showlegend": true,
           "subplot": "mapbox",
           "text": [
            "EVEREST ENERGY"
           ],
           "type": "scattermapbox"
          },
          {
           "hovertemplate": "vessel_id=72674aadb46c5286<br>timestamp=2024-07-26T06:00:00.000Z<br>vessel_name=%{text}<br>lat=%{lat}<br>lon=%{lon}<extra></extra>",
           "lat": [
            74.06911525
           ],
           "legendgroup": "72674aadb46c5286",
           "lon": [
            35.42991126
           ],
           "marker": {
            "color": "#ab63fa"
           },
           "mode": "markers+text",
           "name": "72674aadb46c5286",
           "showlegend": true,
           "subplot": "mapbox",
           "text": [
            "PIONEER"
           ],
           "type": "scattermapbox"
          }
         ],
         "name": "2024-07-26T06:00:00.000Z"
        },
        {
         "data": [
          {
           "hovertemplate": "vessel_id=3bc8490a0c382976<br>timestamp=2024-07-26T12:00:00.000Z<br>vessel_name=%{text}<br>lat=%{lat}<br>lon=%{lon}<extra></extra>",
           "lat": [
            36.41306314
           ],
           "legendgroup": "3bc8490a0c382976",
           "lon": [
            -6.58283221
           ],
           "marker": {
            "color": "#636efa"
           },
           "mode": "markers+text",
           "name": "3bc8490a0c382976",
           "showlegend": true,
           "subplot": "mapbox",
           "text": [
            "NEW ENERGY"
           ],
           "type": "scattermapbox"
          },
          {
           "hovertemplate": "vessel_id=79138d1707099e3e<br>timestamp=2024-07-26T12:00:00.000Z<br>vessel_name=%{text}<br>lat=%{lat}<br>lon=%{lon}<extra></extra>",
           "lat": [
            43.44219287
           ],
           "legendgroup": "79138d1707099e3e",
           "lon": [
            -10.63788565
           ],
           "marker": {
            "color": "#EF553B"
           },
           "mode": "markers+text",
           "name": "79138d1707099e3e",
           "showlegend": true,
           "subplot": "mapbox",
           "text": [
            "ASYA ENERGY"
           ],
           "type": "scattermapbox"
          },
          {
           "hovertemplate": "vessel_id=fe16241b4f45168f<br>timestamp=2024-07-26T12:00:00.000Z<br>vessel_name=%{text}<br>lat=%{lat}<br>lon=%{lon}<extra></extra>",
           "lat": [
            13.67016465
           ],
           "legendgroup": "fe16241b4f45168f",
           "lon": [
            42.60270618
           ],
           "marker": {
            "color": "#00cc96"
           },
           "mode": "markers+text",
           "name": "fe16241b4f45168f",
           "showlegend": true,
           "subplot": "mapbox",
           "text": [
            "EVEREST ENERGY"
           ],
           "type": "scattermapbox"
          },
          {
           "hovertemplate": "vessel_id=72674aadb46c5286<br>timestamp=2024-07-26T12:00:00.000Z<br>vessel_name=%{text}<br>lat=%{lat}<br>lon=%{lon}<extra></extra>",
           "lat": [
            74.15324769
           ],
           "legendgroup": "72674aadb46c5286",
           "lon": [
            36.15491243
           ],
           "marker": {
            "color": "#ab63fa"
           },
           "mode": "markers+text",
           "name": "72674aadb46c5286",
           "showlegend": true,
           "subplot": "mapbox",
           "text": [
            "PIONEER"
           ],
           "type": "scattermapbox"
          }
         ],
         "name": "2024-07-26T12:00:00.000Z"
        },
        {
         "data": [
          {
           "hovertemplate": "vessel_id=3bc8490a0c382976<br>timestamp=2024-07-26T18:00:00.000Z<br>vessel_name=%{text}<br>lat=%{lat}<br>lon=%{lon}<extra></extra>",
           "lat": [
            35.9408359
           ],
           "legendgroup": "3bc8490a0c382976",
           "lon": [
            -5.51762475
           ],
           "marker": {
            "color": "#636efa"
           },
           "mode": "markers+text",
           "name": "3bc8490a0c382976",
           "showlegend": true,
           "subplot": "mapbox",
           "text": [
            "NEW ENERGY"
           ],
           "type": "scattermapbox"
          },
          {
           "hovertemplate": "vessel_id=79138d1707099e3e<br>timestamp=2024-07-26T18:00:00.000Z<br>vessel_name=%{text}<br>lat=%{lat}<br>lon=%{lon}<extra></extra>",
           "lat": [
            44.59833544
           ],
           "legendgroup": "79138d1707099e3e",
           "lon": [
            -10.71765668
           ],
           "marker": {
            "color": "#EF553B"
           },
           "mode": "markers+text",
           "name": "79138d1707099e3e",
           "showlegend": true,
           "subplot": "mapbox",
           "text": [
            "ASYA ENERGY"
           ],
           "type": "scattermapbox"
          },
          {
           "hovertemplate": "vessel_id=fe16241b4f45168f<br>timestamp=2024-07-26T18:00:00.000Z<br>vessel_name=%{text}<br>lat=%{lat}<br>lon=%{lon}<extra></extra>",
           "lat": [
            15.10584404
           ],
           "legendgroup": "fe16241b4f45168f",
           "lon": [
            41.84593756
           ],
           "marker": {
            "color": "#00cc96"
           },
           "mode": "markers+text",
           "name": "fe16241b4f45168f",
           "showlegend": true,
           "subplot": "mapbox",
           "text": [
            "EVEREST ENERGY"
           ],
           "type": "scattermapbox"
          },
          {
           "hovertemplate": "vessel_id=72674aadb46c5286<br>timestamp=2024-07-26T18:00:00.000Z<br>vessel_name=%{text}<br>lat=%{lat}<br>lon=%{lon}<extra></extra>",
           "lat": [
            74.15867559
           ],
           "legendgroup": "72674aadb46c5286",
           "lon": [
            36.57680593
           ],
           "marker": {
            "color": "#ab63fa"
           },
           "mode": "markers+text",
           "name": "72674aadb46c5286",
           "showlegend": true,
           "subplot": "mapbox",
           "text": [
            "PIONEER"
           ],
           "type": "scattermapbox"
          }
         ],
         "name": "2024-07-26T18:00:00.000Z"
        },
        {
         "data": [
          {
           "hovertemplate": "vessel_id=3bc8490a0c382976<br>timestamp=2024-07-27T00:00:00.000Z<br>vessel_name=%{text}<br>lat=%{lat}<br>lon=%{lon}<extra></extra>",
           "lat": [
            36.09281708
           ],
           "legendgroup": "3bc8490a0c382976",
           "lon": [
            -3.71461796
           ],
           "marker": {
            "color": "#636efa"
           },
           "mode": "markers+text",
           "name": "3bc8490a0c382976",
           "showlegend": true,
           "subplot": "mapbox",
           "text": [
            "NEW ENERGY"
           ],
           "type": "scattermapbox"
          },
          {
           "hovertemplate": "vessel_id=79138d1707099e3e<br>timestamp=2024-07-27T00:00:00.000Z<br>vessel_name=%{text}<br>lat=%{lat}<br>lon=%{lon}<extra></extra>",
           "lat": [
            45.76533382
           ],
           "legendgroup": "79138d1707099e3e",
           "lon": [
            -10.78417031
           ],
           "marker": {
            "color": "#EF553B"
           },
           "mode": "markers+text",
           "name": "79138d1707099e3e",
           "showlegend": true,
           "subplot": "mapbox",
           "text": [
            "ASYA ENERGY"
           ],
           "type": "scattermapbox"
          },
          {
           "hovertemplate": "vessel_id=fe16241b4f45168f<br>timestamp=2024-07-27T00:00:00.000Z<br>vessel_name=%{text}<br>lat=%{lat}<br>lon=%{lon}<extra></extra>",
           "lat": [
            16.52795368
           ],
           "legendgroup": "fe16241b4f45168f",
           "lon": [
            40.94667958
           ],
           "marker": {
            "color": "#00cc96"
           },
           "mode": "markers+text",
           "name": "fe16241b4f45168f",
           "showlegend": true,
           "subplot": "mapbox",
           "text": [
            "EVEREST ENERGY"
           ],
           "type": "scattermapbox"
          },
          {
           "hovertemplate": "vessel_id=72674aadb46c5286<br>timestamp=2024-07-27T00:00:00.000Z<br>vessel_name=%{text}<br>lat=%{lat}<br>lon=%{lon}<extra></extra>",
           "lat": [
            73.96598516
           ],
           "legendgroup": "72674aadb46c5286",
           "lon": [
            36.45502975
           ],
           "marker": {
            "color": "#ab63fa"
           },
           "mode": "markers+text",
           "name": "72674aadb46c5286",
           "showlegend": true,
           "subplot": "mapbox",
           "text": [
            "PIONEER"
           ],
           "type": "scattermapbox"
          }
         ],
         "name": "2024-07-27T00:00:00.000Z"
        },
        {
         "data": [
          {
           "hovertemplate": "vessel_id=3bc8490a0c382976<br>timestamp=2024-07-27T06:00:00.000Z<br>vessel_name=%{text}<br>lat=%{lat}<br>lon=%{lon}<extra></extra>",
           "lat": [
            36.24208431
           ],
           "legendgroup": "3bc8490a0c382976",
           "lon": [
            -2.1199113
           ],
           "marker": {
            "color": "#636efa"
           },
           "mode": "markers+text",
           "name": "3bc8490a0c382976",
           "showlegend": true,
           "subplot": "mapbox",
           "text": [
            "NEW ENERGY"
           ],
           "type": "scattermapbox"
          },
          {
           "hovertemplate": "vessel_id=79138d1707099e3e<br>timestamp=2024-07-27T06:00:00.000Z<br>vessel_name=%{text}<br>lat=%{lat}<br>lon=%{lon}<extra></extra>",
           "lat": [
            46.89162294
           ],
           "legendgroup": "79138d1707099e3e",
           "lon": [
            -10.85770563
           ],
           "marker": {
            "color": "#EF553B"
           },
           "mode": "markers+text",
           "name": "79138d1707099e3e",
           "showlegend": true,
           "subplot": "mapbox",
           "text": [
            "ASYA ENERGY"
           ],
           "type": "scattermapbox"
          },
          {
           "hovertemplate": "vessel_id=fe16241b4f45168f<br>timestamp=2024-07-27T06:00:00.000Z<br>vessel_name=%{text}<br>lat=%{lat}<br>lon=%{lon}<extra></extra>",
           "lat": [
            17.19558531
           ],
           "legendgroup": "fe16241b4f45168f",
           "lon": [
            39.92933202
           ],
           "marker": {
            "color": "#00cc96"
           },
           "mode": "markers+text",
           "name": "fe16241b4f45168f",
           "showlegend": true,
           "subplot": "mapbox",
           "text": [
            "EVEREST ENERGY"
           ],
           "type": "scattermapbox"
          },
          {
           "hovertemplate": "vessel_id=72674aadb46c5286<br>timestamp=2024-07-27T06:00:00.000Z<br>vessel_name=%{text}<br>lat=%{lat}<br>lon=%{lon}<extra></extra>",
           "lat": [
            73.86014113
           ],
           "legendgroup": "72674aadb46c5286",
           "lon": [
            35.64751698
           ],
           "marker": {
            "color": "#ab63fa"
           },
           "mode": "markers+text",
           "name": "72674aadb46c5286",
           "showlegend": true,
           "subplot": "mapbox",
           "text": [
            "PIONEER"
           ],
           "type": "scattermapbox"
          }
         ],
         "name": "2024-07-27T06:00:00.000Z"
        },
        {
         "data": [
          {
           "hovertemplate": "vessel_id=3bc8490a0c382976<br>timestamp=2024-07-27T12:00:00.000Z<br>vessel_name=%{text}<br>lat=%{lat}<br>lon=%{lon}<extra></extra>",
           "lat": [
            36.61118147
           ],
           "legendgroup": "3bc8490a0c382976",
           "lon": [
            -0.54773423
           ],
           "marker": {
            "color": "#636efa"
           },
           "mode": "markers+text",
           "name": "3bc8490a0c382976",
           "showlegend": true,
           "subplot": "mapbox",
           "text": [
            "NEW ENERGY"
           ],
           "type": "scattermapbox"
          },
          {
           "hovertemplate": "vessel_id=79138d1707099e3e<br>timestamp=2024-07-27T12:00:00.000Z<br>vessel_name=%{text}<br>lat=%{lat}<br>lon=%{lon}<extra></extra>",
           "lat": [
            48.05862131
           ],
           "legendgroup": "79138d1707099e3e",
           "lon": [
            -10.9350009
           ],
           "marker": {
            "color": "#EF553B"
           },
           "mode": "markers+text",
           "name": "79138d1707099e3e",
           "showlegend": true,
           "subplot": "mapbox",
           "text": [
            "ASYA ENERGY"
           ],
           "type": "scattermapbox"
          },
          {
           "hovertemplate": "vessel_id=fe16241b4f45168f<br>timestamp=2024-07-27T12:00:00.000Z<br>vessel_name=%{text}<br>lat=%{lat}<br>lon=%{lon}<extra></extra>",
           "lat": [
            18.41686267
           ],
           "legendgroup": "fe16241b4f45168f",
           "lon": [
            39.97213726
           ],
           "marker": {
            "color": "#00cc96"
           },
           "mode": "markers+text",
           "name": "fe16241b4f45168f",
           "showlegend": true,
           "subplot": "mapbox",
           "text": [
            "EVEREST ENERGY"
           ],
           "type": "scattermapbox"
          },
          {
           "hovertemplate": "vessel_id=72674aadb46c5286<br>timestamp=2024-07-27T12:00:00.000Z<br>vessel_name=%{text}<br>lat=%{lat}<br>lon=%{lon}<extra></extra>",
           "lat": [
            73.90627827
           ],
           "legendgroup": "72674aadb46c5286",
           "lon": [
            35.12853397
           ],
           "marker": {
            "color": "#ab63fa"
           },
           "mode": "markers+text",
           "name": "72674aadb46c5286",
           "showlegend": true,
           "subplot": "mapbox",
           "text": [
            "PIONEER"
           ],
           "type": "scattermapbox"
          }
         ],
         "name": "2024-07-27T12:00:00.000Z"
        },
        {
         "data": [
          {
           "hovertemplate": "vessel_id=3bc8490a0c382976<br>timestamp=2024-07-27T18:00:00.000Z<br>vessel_name=%{text}<br>lat=%{lat}<br>lon=%{lon}<extra></extra>",
           "lat": [
            36.98570653
           ],
           "legendgroup": "3bc8490a0c382976",
           "lon": [
            0.99548918
           ],
           "marker": {
            "color": "#636efa"
           },
           "mode": "markers+text",
           "name": "3bc8490a0c382976",
           "showlegend": true,
           "subplot": "mapbox",
           "text": [
            "NEW ENERGY"
           ],
           "type": "scattermapbox"
          },
          {
           "hovertemplate": "vessel_id=79138d1707099e3e<br>timestamp=2024-07-27T18:00:00.000Z<br>vessel_name=%{text}<br>lat=%{lat}<br>lon=%{lon}<extra></extra>",
           "lat": [
            49.15505699
           ],
           "legendgroup": "79138d1707099e3e",
           "lon": [
            -11.04228613
           ],
           "marker": {
            "color": "#EF553B"
           },
           "mode": "markers+text",
           "name": "79138d1707099e3e",
           "showlegend": true,
           "subplot": "mapbox",
           "text": [
            "ASYA ENERGY"
           ],
           "type": "scattermapbox"
          },
          {
           "hovertemplate": "vessel_id=fe16241b4f45168f<br>timestamp=2024-07-27T18:00:00.000Z<br>vessel_name=%{text}<br>lat=%{lat}<br>lon=%{lon}<extra></extra>",
           "lat": [
            19.73855618
           ],
           "legendgroup": "fe16241b4f45168f",
           "lon": [
            39.23385194
           ],
           "marker": {
            "color": "#00cc96"
           },
           "mode": "markers+text",
           "name": "fe16241b4f45168f",
           "showlegend": true,
           "subplot": "mapbox",
           "text": [
            "EVEREST ENERGY"
           ],
           "type": "scattermapbox"
          },
          {
           "hovertemplate": "vessel_id=72674aadb46c5286<br>timestamp=2024-07-27T18:00:00.000Z<br>vessel_name=%{text}<br>lat=%{lat}<br>lon=%{lon}<extra></extra>",
           "lat": [
            74.08539895
           ],
           "legendgroup": "72674aadb46c5286",
           "lon": [
            35.47995463
           ],
           "marker": {
            "color": "#ab63fa"
           },
           "mode": "markers+text",
           "name": "72674aadb46c5286",
           "showlegend": true,
           "subplot": "mapbox",
           "text": [
            "PIONEER"
           ],
           "type": "scattermapbox"
          }
         ],
         "name": "2024-07-27T18:00:00.000Z"
        },
        {
         "data": [
          {
           "hovertemplate": "vessel_id=3bc8490a0c382976<br>timestamp=2024-07-28T00:00:00.000Z<br>vessel_name=%{text}<br>lat=%{lat}<br>lon=%{lon}<extra></extra>",
           "lat": [
            37.34123394
           ],
           "legendgroup": "3bc8490a0c382976",
           "lon": [
            2.51921167
           ],
           "marker": {
            "color": "#636efa"
           },
           "mode": "markers+text",
           "name": "3bc8490a0c382976",
           "showlegend": true,
           "subplot": "mapbox",
           "text": [
            "NEW ENERGY"
           ],
           "type": "scattermapbox"
          },
          {
           "hovertemplate": "vessel_id=79138d1707099e3e<br>timestamp=2024-07-28T00:00:00.000Z<br>vessel_name=%{text}<br>lat=%{lat}<br>lon=%{lon}<extra></extra>",
           "lat": [
            50.31119957
           ],
           "legendgroup": "79138d1707099e3e",
           "lon": [
            -11.1255048
           ],
           "marker": {
            "color": "#EF553B"
           },
           "mode": "markers+text",
           "name": "79138d1707099e3e",
           "showlegend": true,
           "subplot": "mapbox",
           "text": [
            "ASYA ENERGY"
           ],
           "type": "scattermapbox"
          },
          {
           "hovertemplate": "vessel_id=fe16241b4f45168f<br>timestamp=2024-07-28T00:00:00.000Z<br>vessel_name=%{text}<br>lat=%{lat}<br>lon=%{lon}<extra></extra>",
           "lat": [
            21.02768229
           ],
           "legendgroup": "fe16241b4f45168f",
           "lon": [
            38.50787332
           ],
           "marker": {
            "color": "#00cc96"
           },
           "mode": "markers+text",
           "name": "fe16241b4f45168f",
           "showlegend": true,
           "subplot": "mapbox",
           "text": [
            "EVEREST ENERGY"
           ],
           "type": "scattermapbox"
          },
          {
           "hovertemplate": "vessel_id=72674aadb46c5286<br>timestamp=2024-07-28T00:00:00.000Z<br>vessel_name=%{text}<br>lat=%{lat}<br>lon=%{lon}<extra></extra>",
           "lat": [
            74.15053374
           ],
           "legendgroup": "72674aadb46c5286",
           "lon": [
            36.11049761
           ],
           "marker": {
            "color": "#ab63fa"
           },
           "mode": "markers+text",
           "name": "72674aadb46c5286",
           "showlegend": true,
           "subplot": "mapbox",
           "text": [
            "PIONEER"
           ],
           "type": "scattermapbox"
          }
         ],
         "name": "2024-07-28T00:00:00.000Z"
        },
        {
         "data": [
          {
           "hovertemplate": "vessel_id=3bc8490a0c382976<br>timestamp=2024-07-28T06:00:00.000Z<br>vessel_name=%{text}<br>lat=%{lat}<br>lon=%{lon}<extra></extra>",
           "lat": [
            37.7049032
           ],
           "legendgroup": "3bc8490a0c382976",
           "lon": [
            4.05466151
           ],
           "marker": {
            "color": "#636efa"
           },
           "mode": "markers+text",
           "name": "3bc8490a0c382976",
           "showlegend": true,
           "subplot": "mapbox",
           "text": [
            "NEW ENERGY"
           ],
           "type": "scattermapbox"
          },
          {
           "hovertemplate": "vessel_id=79138d1707099e3e<br>timestamp=2024-07-28T06:00:00.000Z<br>vessel_name=%{text}<br>lat=%{lat}<br>lon=%{lon}<extra></extra>",
           "lat": [
            51.49719559
           ],
           "legendgroup": "79138d1707099e3e",
           "lon": [
            -11.21222639
           ],
           "marker": {
            "color": "#EF553B"
           },
           "mode": "markers+text",
           "name": "79138d1707099e3e",
           "showlegend": true,
           "subplot": "mapbox",
           "text": [
            "ASYA ENERGY"
           ],
           "type": "scattermapbox"
          },
          {
           "hovertemplate": "vessel_id=fe16241b4f45168f<br>timestamp=2024-07-28T06:00:00.000Z<br>vessel_name=%{text}<br>lat=%{lat}<br>lon=%{lon}<extra></extra>",
           "lat": [
            22.36837344
           ],
           "legendgroup": "fe16241b4f45168f",
           "lon": [
            37.74154077
           ],
           "marker": {
            "color": "#00cc96"
           },
           "mode": "markers+text",
           "name": "fe16241b4f45168f",
           "showlegend": true,
           "subplot": "mapbox",
           "text": [
            "EVEREST ENERGY"
           ],
           "type": "scattermapbox"
          },
          {
           "hovertemplate": "vessel_id=72674aadb46c5286<br>timestamp=2024-07-28T06:00:00.000Z<br>vessel_name=%{text}<br>lat=%{lat}<br>lon=%{lon}<extra></extra>",
           "lat": [
            73.99855256
           ],
           "legendgroup": "72674aadb46c5286",
           "lon": [
            35.27495538
           ],
           "marker": {
            "color": "#ab63fa"
           },
           "mode": "markers+text",
           "name": "72674aadb46c5286",
           "showlegend": true,
           "subplot": "mapbox",
           "text": [
            "PIONEER"
           ],
           "type": "scattermapbox"
          }
         ],
         "name": "2024-07-28T06:00:00.000Z"
        },
        {
         "data": [
          {
           "hovertemplate": "vessel_id=3bc8490a0c382976<br>timestamp=2024-07-28T12:00:00.000Z<br>vessel_name=%{text}<br>lat=%{lat}<br>lon=%{lon}<extra></extra>",
           "lat": [
            37.86502623
           ],
           "legendgroup": "3bc8490a0c382976",
           "lon": [
            5.65840768
           ],
           "marker": {
            "color": "#636efa"
           },
           "mode": "markers+text",
           "name": "3bc8490a0c382976",
           "showlegend": true,
           "subplot": "mapbox",
           "text": [
            "NEW ENERGY"
           ],
           "type": "scattermapbox"
          },
          {
           "hovertemplate": "vessel_id=79138d1707099e3e<br>timestamp=2024-07-28T12:00:00.000Z<br>vessel_name=%{text}<br>lat=%{lat}<br>lon=%{lon}<extra></extra>",
           "lat": [
            52.66419396
           ],
           "legendgroup": "79138d1707099e3e",
           "lon": [
            -11.16503282
           ],
           "marker": {
            "color": "#EF553B"
           },
           "mode": "markers+text",
           "name": "79138d1707099e3e",
           "showlegend": true,
           "subplot": "mapbox",
           "text": [
            "ASYA ENERGY"
           ],
           "type": "scattermapbox"
          },
          {
           "hovertemplate": "vessel_id=fe16241b4f45168f<br>timestamp=2024-07-28T12:00:00.000Z<br>vessel_name=%{text}<br>lat=%{lat}<br>lon=%{lon}<extra></extra>",
           "lat": [
            23.6276461
           ],
           "legendgroup": "fe16241b4f45168f",
           "lon": [
            37.0134527
           ],
           "marker": {
            "color": "#00cc96"
           },
           "mode": "markers+text",
           "name": "fe16241b4f45168f",
           "showlegend": true,
           "subplot": "mapbox",
           "text": [
            "EVEREST ENERGY"
           ],
           "type": "scattermapbox"
          },
          {
           "hovertemplate": "vessel_id=72674aadb46c5286<br>timestamp=2024-07-28T12:00:00.000Z<br>vessel_name=%{text}<br>lat=%{lat}<br>lon=%{lon}<extra></extra>",
           "lat": [
            74.1261082
           ],
           "legendgroup": "72674aadb46c5286",
           "lon": [
            35.73133203
           ],
           "marker": {
            "color": "#ab63fa"
           },
           "mode": "markers+text",
           "name": "72674aadb46c5286",
           "showlegend": true,
           "subplot": "mapbox",
           "text": [
            "PIONEER"
           ],
           "type": "scattermapbox"
          }
         ],
         "name": "2024-07-28T12:00:00.000Z"
        },
        {
         "data": [
          {
           "hovertemplate": "vessel_id=3bc8490a0c382976<br>timestamp=2024-07-28T18:00:00.000Z<br>vessel_name=%{text}<br>lat=%{lat}<br>lon=%{lon}<extra></extra>",
           "lat": [
            37.86231229
           ],
           "legendgroup": "3bc8490a0c382976",
           "lon": [
            7.25328806
           ],
           "marker": {
            "color": "#636efa"
           },
           "mode": "markers+text",
           "name": "3bc8490a0c382976",
           "showlegend": true,
           "subplot": "mapbox",
           "text": [
            "NEW ENERGY"
           ],
           "type": "scattermapbox"
          },
          {
           "hovertemplate": "vessel_id=79138d1707099e3e<br>timestamp=2024-07-28T18:00:00.000Z<br>vessel_name=%{text}<br>lat=%{lat}<br>lon=%{lon}<extra></extra>",
           "lat": [
            53.85018998
           ],
           "legendgroup": "79138d1707099e3e",
           "lon": [
            -10.78860604
           ],
           "marker": {
            "color": "#EF553B"
           },
           "mode": "markers+text",
           "name": "79138d1707099e3e",
           "showlegend": true,
           "subplot": "mapbox",
           "text": [
            "ASYA ENERGY"
           ],
           "type": "scattermapbox"
          },
          {
           "hovertemplate": "vessel_id=fe16241b4f45168f<br>timestamp=2024-07-28T18:00:00.000Z<br>vessel_name=%{text}<br>lat=%{lat}<br>lon=%{lon}<extra></extra>",
           "lat": [
            24.64537724
           ],
           "legendgroup": "fe16241b4f45168f",
           "lon": [
            36.42833521
           ],
           "marker": {
            "color": "#00cc96"
           },
           "mode": "markers+text",
           "name": "fe16241b4f45168f",
           "showlegend": true,
           "subplot": "mapbox",
           "text": [
            "EVEREST ENERGY"
           ],
           "type": "scattermapbox"
          },
          {
           "hovertemplate": "vessel_id=72674aadb46c5286<br>timestamp=2024-07-28T18:00:00.000Z<br>vessel_name=%{text}<br>lat=%{lat}<br>lon=%{lon}<extra></extra>",
           "lat": [
            74.15324769
           ],
           "legendgroup": "72674aadb46c5286",
           "lon": [
            36.2769208
           ],
           "marker": {
            "color": "#ab63fa"
           },
           "mode": "markers+text",
           "name": "72674aadb46c5286",
           "showlegend": true,
           "subplot": "mapbox",
           "text": [
            "PIONEER"
           ],
           "type": "scattermapbox"
          }
         ],
         "name": "2024-07-28T18:00:00.000Z"
        },
        {
         "data": [
          {
           "hovertemplate": "vessel_id=3bc8490a0c382976<br>timestamp=2024-07-29T00:00:00.000Z<br>vessel_name=%{text}<br>lat=%{lat}<br>lon=%{lon}<extra></extra>",
           "lat": [
            37.87588203
           ],
           "legendgroup": "3bc8490a0c382976",
           "lon": [
            8.8775969
           ],
           "marker": {
            "color": "#636efa"
           },
           "mode": "markers+text",
           "name": "3bc8490a0c382976",
           "showlegend": true,
           "subplot": "mapbox",
           "text": [
            "NEW ENERGY"
           ],
           "type": "scattermapbox"
          },
          {
           "hovertemplate": "vessel_id=79138d1707099e3e<br>timestamp=2024-07-29T00:00:00.000Z<br>vessel_name=%{text}<br>lat=%{lat}<br>lon=%{lon}<extra></extra>",
           "lat": [
            55.0144744
           ],
           "legendgroup": "79138d1707099e3e",
           "lon": [
            -10.33300529
           ],
           "marker": {
            "color": "#EF553B"
           },
           "mode": "markers+text",
           "name": "79138d1707099e3e",
           "showlegend": true,
           "subplot": "mapbox",
           "text": [
            "ASYA ENERGY"
           ],
           "type": "scattermapbox"
          },
          {
           "hovertemplate": "vessel_id=fe16241b4f45168f<br>timestamp=2024-07-29T00:00:00.000Z<br>vessel_name=%{text}<br>lat=%{lat}<br>lon=%{lon}<extra></extra>",
           "lat": [
            25.66039443
           ],
           "legendgroup": "fe16241b4f45168f",
           "lon": [
            35.73662831
           ],
           "marker": {
            "color": "#00cc96"
           },
           "mode": "markers+text",
           "name": "fe16241b4f45168f",
           "showlegend": true,
           "subplot": "mapbox",
           "text": [
            "EVEREST ENERGY"
           ],
           "type": "scattermapbox"
          },
          {
           "hovertemplate": "vessel_id=72674aadb46c5286<br>timestamp=2024-07-29T00:00:00.000Z<br>vessel_name=%{text}<br>lat=%{lat}<br>lon=%{lon}<extra></extra>",
           "lat": [
            74.07997105
           ],
           "legendgroup": "72674aadb46c5286",
           "lon": [
            36.72755422
           ],
           "marker": {
            "color": "#ab63fa"
           },
           "mode": "markers+text",
           "name": "72674aadb46c5286",
           "showlegend": true,
           "subplot": "mapbox",
           "text": [
            "PIONEER"
           ],
           "type": "scattermapbox"
          }
         ],
         "name": "2024-07-29T00:00:00.000Z"
        },
        {
         "data": [
          {
           "hovertemplate": "vessel_id=3bc8490a0c382976<br>timestamp=2024-07-29T06:00:00.000Z<br>vessel_name=%{text}<br>lat=%{lat}<br>lon=%{lon}<extra></extra>",
           "lat": [
            37.50949882
           ],
           "legendgroup": "3bc8490a0c382976",
           "lon": [
            10.48290282
           ],
           "marker": {
            "color": "#636efa"
           },
           "mode": "markers+text",
           "name": "3bc8490a0c382976",
           "showlegend": true,
           "subplot": "mapbox",
           "text": [
            "NEW ENERGY"
           ],
           "type": "scattermapbox"
          },
          {
           "hovertemplate": "vessel_id=79138d1707099e3e<br>timestamp=2024-07-29T06:00:00.000Z<br>vessel_name=%{text}<br>lat=%{lat}<br>lon=%{lon}<extra></extra>",
           "lat": [
            56.15704722
           ],
           "legendgroup": "79138d1707099e3e",
           "lon": [
            -9.80956353
           ],
           "marker": {
            "color": "#EF553B"
           },
           "mode": "markers+text",
           "name": "79138d1707099e3e",
           "showlegend": true,
           "subplot": "mapbox",
           "text": [
            "ASYA ENERGY"
           ],
           "type": "scattermapbox"
          },
          {
           "hovertemplate": "vessel_id=fe16241b4f45168f<br>timestamp=2024-07-29T06:00:00.000Z<br>vessel_name=%{text}<br>lat=%{lat}<br>lon=%{lon}<extra></extra>",
           "lat": [
            26.84096255
           ],
           "legendgroup": "fe16241b4f45168f",
           "lon": [
            34.78727144
           ],
           "marker": {
            "color": "#00cc96"
           },
           "mode": "markers+text",
           "name": "fe16241b4f45168f",
           "showlegend": true,
           "subplot": "mapbox",
           "text": [
            "EVEREST ENERGY"
           ],
           "type": "scattermapbox"
          },
          {
           "hovertemplate": "vessel_id=72674aadb46c5286<br>timestamp=2024-07-29T06:00:00.000Z<br>vessel_name=%{text}<br>lat=%{lat}<br>lon=%{lon}<extra></extra>",
           "lat": [
            73.89813642
           ],
           "legendgroup": "72674aadb46c5286",
           "lon": [
            36.15982746
           ],
           "marker": {
            "color": "#ab63fa"
           },
           "mode": "markers+text",
           "name": "72674aadb46c5286",
           "showlegend": true,
           "subplot": "mapbox",
           "text": [
            "PIONEER"
           ],
           "type": "scattermapbox"
          }
         ],
         "name": "2024-07-29T06:00:00.000Z"
        },
        {
         "data": [
          {
           "hovertemplate": "vessel_id=3bc8490a0c382976<br>timestamp=2024-07-29T12:00:00.000Z<br>vessel_name=%{text}<br>lat=%{lat}<br>lon=%{lon}<extra></extra>",
           "lat": [
            37.09697847
           ],
           "legendgroup": "3bc8490a0c382976",
           "lon": [
            12.0142986
           ],
           "marker": {
            "color": "#636efa"
           },
           "mode": "markers+text",
           "name": "3bc8490a0c382976",
           "showlegend": true,
           "subplot": "mapbox",
           "text": [
            "NEW ENERGY"
           ],
           "type": "scattermapbox"
          },
          {
           "hovertemplate": "vessel_id=79138d1707099e3e<br>timestamp=2024-07-29T12:00:00.000Z<br>vessel_name=%{text}<br>lat=%{lat}<br>lon=%{lon}<extra></extra>",
           "lat": [
            57.2806224
           ],
           "legendgroup": "79138d1707099e3e",
           "lon": [
            -9.30408858
           ],
           "marker": {
            "color": "#EF553B"
           },
           "mode": "markers+text",
           "name": "79138d1707099e3e",
           "showlegend": true,
           "subplot": "mapbox",
           "text": [
            "ASYA ENERGY"
           ],
           "type": "scattermapbox"
          },
          {
           "hovertemplate": "vessel_id=fe16241b4f45168f<br>timestamp=2024-07-29T12:00:00.000Z<br>vessel_name=%{text}<br>lat=%{lat}<br>lon=%{lon}<extra></extra>",
           "lat": [
            27.7284241
           ],
           "legendgroup": "fe16241b4f45168f",
           "lon": [
            33.87329006
           ],
           "marker": {
            "color": "#00cc96"
           },
           "mode": "markers+text",
           "name": "fe16241b4f45168f",
           "showlegend": true,
           "subplot": "mapbox",
           "text": [
            "EVEREST ENERGY"
           ],
           "type": "scattermapbox"
          },
          {
           "hovertemplate": "vessel_id=72674aadb46c5286<br>timestamp=2024-07-29T12:00:00.000Z<br>vessel_name=%{text}<br>lat=%{lat}<br>lon=%{lon}<extra></extra>",
           "lat": [
            73.86014113
           ],
           "legendgroup": "72674aadb46c5286",
           "lon": [
            35.57609496
           ],
           "marker": {
            "color": "#ab63fa"
           },
           "mode": "markers+text",
           "name": "72674aadb46c5286",
           "showlegend": true,
           "subplot": "mapbox",
           "text": [
            "PIONEER"
           ],
           "type": "scattermapbox"
          }
         ],
         "name": "2024-07-29T12:00:00.000Z"
        },
        {
         "data": [
          {
           "hovertemplate": "vessel_id=3bc8490a0c382976<br>timestamp=2024-07-29T18:00:00.000Z<br>vessel_name=%{text}<br>lat=%{lat}<br>lon=%{lon}<extra></extra>",
           "lat": [
            36.63560702
           ],
           "legendgroup": "3bc8490a0c382976",
           "lon": [
            13.49771018
           ],
           "marker": {
            "color": "#636efa"
           },
           "mode": "markers+text",
           "name": "3bc8490a0c382976",
           "showlegend": true,
           "subplot": "mapbox",
           "text": [
            "NEW ENERGY"
           ],
           "type": "scattermapbox"
          },
          {
           "hovertemplate": "vessel_id=79138d1707099e3e<br>timestamp=2024-07-29T18:00:00.000Z<br>vessel_name=%{text}<br>lat=%{lat}<br>lon=%{lon}<extra></extra>",
           "lat": [
            58.34449068
           ],
           "legendgroup": "79138d1707099e3e",
           "lon": [
            -8.52718005
           ],
           "marker": {
            "color": "#EF553B"
           },
           "mode": "markers+text",
           "name": "79138d1707099e3e",
           "showlegend": true,
           "subplot": "mapbox",
           "text": [
            "ASYA ENERGY"
           ],
           "type": "scattermapbox"
          },
          {
           "hovertemplate": "vessel_id=fe16241b4f45168f<br>timestamp=2024-07-29T18:00:00.000Z<br>vessel_name=%{text}<br>lat=%{lat}<br>lon=%{lon}<extra></extra>",
           "lat": [
            28.62674145
           ],
           "legendgroup": "fe16241b4f45168f",
           "lon": [
            33.03998796
           ],
           "marker": {
            "color": "#00cc96"
           },
           "mode": "markers+text",
           "name": "fe16241b4f45168f",
           "showlegend": true,
           "subplot": "mapbox",
           "text": [
            "EVEREST ENERGY"
           ],
           "type": "scattermapbox"
          },
          {
           "hovertemplate": "vessel_id=72674aadb46c5286<br>timestamp=2024-07-29T18:00:00.000Z<br>vessel_name=%{text}<br>lat=%{lat}<br>lon=%{lon}<extra></extra>",
           "lat": [
            73.96598516
           ],
           "legendgroup": "72674aadb46c5286",
           "lon": [
            35.14598121
           ],
           "marker": {
            "color": "#ab63fa"
           },
           "mode": "markers+text",
           "name": "72674aadb46c5286",
           "showlegend": true,
           "subplot": "mapbox",
           "text": [
            "PIONEER"
           ],
           "type": "scattermapbox"
          }
         ],
         "name": "2024-07-29T18:00:00.000Z"
        },
        {
         "data": [
          {
           "hovertemplate": "vessel_id=3bc8490a0c382976<br>timestamp=2024-07-30T00:00:00.000Z<br>vessel_name=%{text}<br>lat=%{lat}<br>lon=%{lon}<extra></extra>",
           "lat": [
            36.22308667
           ],
           "legendgroup": "3bc8490a0c382976",
           "lon": [
            15.00427974
           ],
           "marker": {
            "color": "#636efa"
           },
           "mode": "markers+text",
           "name": "3bc8490a0c382976",
           "showlegend": true,
           "subplot": "mapbox",
           "text": [
            "NEW ENERGY"
           ],
           "type": "scattermapbox"
          },
          {
           "hovertemplate": "vessel_id=79138d1707099e3e<br>timestamp=2024-07-30T00:00:00.000Z<br>vessel_name=%{text}<br>lat=%{lat}<br>lon=%{lon}<extra></extra>",
           "lat": [
            59.41921476
           ],
           "legendgroup": "79138d1707099e3e",
           "lon": [
            -7.51080337
           ],
           "marker": {
            "color": "#EF553B"
           },
           "mode": "markers+text",
           "name": "79138d1707099e3e",
           "showlegend": true,
           "subplot": "mapbox",
           "text": [
            "ASYA ENERGY"
           ],
           "type": "scattermapbox"
          },
          {
           "hovertemplate": "vessel_id=fe16241b4f45168f<br>timestamp=2024-07-30T00:00:00.000Z<br>vessel_name=%{text}<br>lat=%{lat}<br>lon=%{lon}<extra></extra>",
           "lat": [
            29.64718654
           ],
           "legendgroup": "fe16241b4f45168f",
           "lon": [
            32.56733097
           ],
           "marker": {
            "color": "#00cc96"
           },
           "mode": "markers+text",
           "name": "fe16241b4f45168f",
           "showlegend": true,
           "subplot": "mapbox",
           "text": [
            "EVEREST ENERGY"
           ],
           "type": "scattermapbox"
          },
          {
           "hovertemplate": "vessel_id=72674aadb46c5286<br>timestamp=2024-07-30T00:00:00.000Z<br>vessel_name=%{text}<br>lat=%{lat}<br>lon=%{lon}<extra></extra>",
           "lat": [
            74.03111996
           ],
           "legendgroup": "72674aadb46c5286",
           "lon": [
            35.60900792
           ],
           "marker": {
            "color": "#ab63fa"
           },
           "mode": "markers+text",
           "name": "72674aadb46c5286",
           "showlegend": true,
           "subplot": "mapbox",
           "text": [
            "PIONEER"
           ],
           "type": "scattermapbox"
          }
         ],
         "name": "2024-07-30T00:00:00.000Z"
        },
        {
         "data": [
          {
           "hovertemplate": "vessel_id=3bc8490a0c382976<br>timestamp=2024-07-30T06:00:00.000Z<br>vessel_name=%{text}<br>lat=%{lat}<br>lon=%{lon}<extra></extra>",
           "lat": [
            35.87298715
           ],
           "legendgroup": "3bc8490a0c382976",
           "lon": [
            16.52160587
           ],
           "marker": {
            "color": "#636efa"
           },
           "mode": "markers+text",
           "name": "3bc8490a0c382976",
           "showlegend": true,
           "subplot": "mapbox",
           "text": [
            "NEW ENERGY"
           ],
           "type": "scattermapbox"
          },
          {
           "hovertemplate": "vessel_id=79138d1707099e3e<br>timestamp=2024-07-30T06:00:00.000Z<br>vessel_name=%{text}<br>lat=%{lat}<br>lon=%{lon}<extra></extra>",
           "lat": [
            60.36638321
           ],
           "legendgroup": "79138d1707099e3e",
           "lon": [
            -6.279052
           ],
           "marker": {
            "color": "#EF553B"
           },
           "mode": "markers+text",
           "name": "79138d1707099e3e",
           "showlegend": true,
           "subplot": "mapbox",
           "text": [
            "ASYA ENERGY"
           ],
           "type": "scattermapbox"
          },
          {
           "hovertemplate": "vessel_id=fe16241b4f45168f<br>timestamp=2024-07-30T06:00:00.000Z<br>vessel_name=%{text}<br>lat=%{lat}<br>lon=%{lon}<extra></extra>",
           "lat": [
            29.78559797
           ],
           "legendgroup": "fe16241b4f45168f",
           "lon": [
            32.55939927
           ],
           "marker": {
            "color": "#00cc96"
           },
           "mode": "markers+text",
           "name": "fe16241b4f45168f",
           "showlegend": true,
           "subplot": "mapbox",
           "text": [
            "EVEREST ENERGY"
           ],
           "type": "scattermapbox"
          },
          {
           "hovertemplate": "vessel_id=72674aadb46c5286<br>timestamp=2024-07-30T06:00:00.000Z<br>vessel_name=%{text}<br>lat=%{lat}<br>lon=%{lon}<extra></extra>",
           "lat": [
            74.15596164
           ],
           "legendgroup": "72674aadb46c5286",
           "lon": [
            36.32970534
           ],
           "marker": {
            "color": "#ab63fa"
           },
           "mode": "markers+text",
           "name": "72674aadb46c5286",
           "showlegend": true,
           "subplot": "mapbox",
           "text": [
            "PIONEER"
           ],
           "type": "scattermapbox"
          }
         ],
         "name": "2024-07-30T06:00:00.000Z"
        },
        {
         "data": [
          {
           "hovertemplate": "vessel_id=3bc8490a0c382976<br>timestamp=2024-07-30T12:00:00.000Z<br>vessel_name=%{text}<br>lat=%{lat}<br>lon=%{lon}<extra></extra>",
           "lat": [
            35.53645739
           ],
           "legendgroup": "3bc8490a0c382976",
           "lon": [
            17.98288166
           ],
           "marker": {
            "color": "#636efa"
           },
           "mode": "markers+text",
           "name": "3bc8490a0c382976",
           "showlegend": true,
           "subplot": "mapbox",
           "text": [
            "NEW ENERGY"
           ],
           "type": "scattermapbox"
          },
          {
           "hovertemplate": "vessel_id=79138d1707099e3e<br>timestamp=2024-07-30T12:00:00.000Z<br>vessel_name=%{text}<br>lat=%{lat}<br>lon=%{lon}<extra></extra>",
           "lat": [
            61.28641216
           ],
           "legendgroup": "79138d1707099e3e",
           "lon": [
            -5.00501858
           ],
           "marker": {
            "color": "#EF553B"
           },
           "mode": "markers+text",
           "name": "79138d1707099e3e",
           "showlegend": true,
           "subplot": "mapbox",
           "text": [
            "ASYA ENERGY"
           ],
           "type": "scattermapbox"
          },
          {
           "hovertemplate": "vessel_id=fe16241b4f45168f<br>timestamp=2024-07-30T12:00:00.000Z<br>vessel_name=%{text}<br>lat=%{lat}<br>lon=%{lon}<extra></extra>",
           "lat": [
            29.78559797
           ],
           "legendgroup": "fe16241b4f45168f",
           "lon": [
            32.55938735
           ],
           "marker": {
            "color": "#00cc96"
           },
           "mode": "markers+text",
           "name": "fe16241b4f45168f",
           "showlegend": true,
           "subplot": "mapbox",
           "text": [
            "EVEREST ENERGY"
           ],
           "type": "scattermapbox"
          },
          {
           "hovertemplate": "vessel_id=72674aadb46c5286<br>timestamp=2024-07-30T12:00:00.000Z<br>vessel_name=%{text}<br>lat=%{lat}<br>lon=%{lon}<extra></extra>",
           "lat": [
            74.082685
           ],
           "legendgroup": "72674aadb46c5286",
           "lon": [
            36.73512185
           ],
           "marker": {
            "color": "#ab63fa"
           },
           "mode": "markers+text",
           "name": "72674aadb46c5286",
           "showlegend": true,
           "subplot": "mapbox",
           "text": [
            "PIONEER"
           ],
           "type": "scattermapbox"
          }
         ],
         "name": "2024-07-30T12:00:00.000Z"
        },
        {
         "data": [
          {
           "hovertemplate": "vessel_id=3bc8490a0c382976<br>timestamp=2024-07-30T18:00:00.000Z<br>vessel_name=%{text}<br>lat=%{lat}<br>lon=%{lon}<extra></extra>",
           "lat": [
            35.17550208
           ],
           "legendgroup": "3bc8490a0c382976",
           "lon": [
            19.50003196
           ],
           "marker": {
            "color": "#636efa"
           },
           "mode": "markers+text",
           "name": "3bc8490a0c382976",
           "showlegend": true,
           "subplot": "mapbox",
           "text": [
            "NEW ENERGY"
           ],
           "type": "scattermapbox"
          },
          {
           "hovertemplate": "vessel_id=79138d1707099e3e<br>timestamp=2024-07-30T18:00:00.000Z<br>vessel_name=%{text}<br>lat=%{lat}<br>lon=%{lon}<extra></extra>",
           "lat": [
            62.266148
           ],
           "legendgroup": "79138d1707099e3e",
           "lon": [
            -3.73835384
           ],
           "marker": {
            "color": "#EF553B"
           },
           "mode": "markers+text",
           "name": "79138d1707099e3e",
           "showlegend": true,
           "subplot": "mapbox",
           "text": [
            "ASYA ENERGY"
           ],
           "type": "scattermapbox"
          },
          {
           "hovertemplate": "vessel_id=fe16241b4f45168f<br>timestamp=2024-07-30T18:00:00.000Z<br>vessel_name=%{text}<br>lat=%{lat}<br>lon=%{lon}<extra></extra>",
           "lat": [
            29.78559797
           ],
           "legendgroup": "fe16241b4f45168f",
           "lon": [
            32.55933422
           ],
           "marker": {
            "color": "#00cc96"
           },
           "mode": "markers+text",
           "name": "fe16241b4f45168f",
           "showlegend": true,
           "subplot": "mapbox",
           "text": [
            "EVEREST ENERGY"
           ],
           "type": "scattermapbox"
          },
          {
           "hovertemplate": "vessel_id=72674aadb46c5286<br>timestamp=2024-07-30T18:00:00.000Z<br>vessel_name=%{text}<br>lat=%{lat}<br>lon=%{lon}<extra></extra>",
           "lat": [
            73.89270852
           ],
           "legendgroup": "72674aadb46c5286",
           "lon": [
            36.12532905
           ],
           "marker": {
            "color": "#ab63fa"
           },
           "mode": "markers+text",
           "name": "72674aadb46c5286",
           "showlegend": true,
           "subplot": "mapbox",
           "text": [
            "PIONEER"
           ],
           "type": "scattermapbox"
          }
         ],
         "name": "2024-07-30T18:00:00.000Z"
        },
        {
         "data": [
          {
           "hovertemplate": "vessel_id=3bc8490a0c382976<br>timestamp=2024-07-31T00:00:00.000Z<br>vessel_name=%{text}<br>lat=%{lat}<br>lon=%{lon}<extra></extra>",
           "lat": [
            34.82540257
           ],
           "legendgroup": "3bc8490a0c382976",
           "lon": [
            21.01656697
           ],
           "marker": {
            "color": "#636efa"
           },
           "mode": "markers+text",
           "name": "3bc8490a0c382976",
           "showlegend": true,
           "subplot": "mapbox",
           "text": [
            "NEW ENERGY"
           ],
           "type": "scattermapbox"
          },
          {
           "hovertemplate": "vessel_id=79138d1707099e3e<br>timestamp=2024-07-31T00:00:00.000Z<br>vessel_name=%{text}<br>lat=%{lat}<br>lon=%{lon}<extra></extra>",
           "lat": [
            63.27573729
           ],
           "legendgroup": "79138d1707099e3e",
           "lon": [
            -2.35374897
           ],
           "marker": {
            "color": "#EF553B"
           },
           "mode": "markers+text",
           "name": "79138d1707099e3e",
           "showlegend": true,
           "subplot": "mapbox",
           "text": [
            "ASYA ENERGY"
           ],
           "type": "scattermapbox"
          },
          {
           "hovertemplate": "vessel_id=fe16241b4f45168f<br>timestamp=2024-07-31T00:00:00.000Z<br>vessel_name=%{text}<br>lat=%{lat}<br>lon=%{lon}<extra></extra>",
           "lat": [
            30.13841143
           ],
           "legendgroup": "fe16241b4f45168f",
           "lon": [
            32.57097771
           ],
           "marker": {
            "color": "#00cc96"
           },
           "mode": "markers+text",
           "name": "fe16241b4f45168f",
           "showlegend": true,
           "subplot": "mapbox",
           "text": [
            "EVEREST ENERGY"
           ],
           "type": "scattermapbox"
          },
          {
           "hovertemplate": "vessel_id=72674aadb46c5286<br>timestamp=2024-07-31T00:00:00.000Z<br>vessel_name=%{text}<br>lat=%{lat}<br>lon=%{lon}<extra></extra>",
           "lat": [
            73.85742718
           ],
           "legendgroup": "72674aadb46c5286",
           "lon": [
            35.52370961
           ],
           "marker": {
            "color": "#ab63fa"
           },
           "mode": "markers+text",
           "name": "72674aadb46c5286",
           "showlegend": true,
           "subplot": "mapbox",
           "text": [
            "PIONEER"
           ],
           "type": "scattermapbox"
          }
         ],
         "name": "2024-07-31T00:00:00.000Z"
        },
        {
         "data": [
          {
           "hovertemplate": "vessel_id=3bc8490a0c382976<br>timestamp=2024-07-31T06:00:00.000Z<br>vessel_name=%{text}<br>lat=%{lat}<br>lon=%{lon}<extra></extra>",
           "lat": [
            34.46987516
           ],
           "legendgroup": "3bc8490a0c382976",
           "lon": [
            22.5004084
           ],
           "marker": {
            "color": "#636efa"
           },
           "mode": "markers+text",
           "name": "3bc8490a0c382976",
           "showlegend": true,
           "subplot": "mapbox",
           "text": [
            "NEW ENERGY"
           ],
           "type": "scattermapbox"
          },
          {
           "hovertemplate": "vessel_id=79138d1707099e3e<br>timestamp=2024-07-31T06:00:00.000Z<br>vessel_name=%{text}<br>lat=%{lat}<br>lon=%{lon}<extra></extra>",
           "lat": [
            64.21476389
           ],
           "legendgroup": "79138d1707099e3e",
           "lon": [
            -0.79859497
           ],
           "marker": {
            "color": "#EF553B"
           },
           "mode": "markers+text",
           "name": "79138d1707099e3e",
           "showlegend": true,
           "subplot": "mapbox",
           "text": [
            "ASYA ENERGY"
           ],
           "type": "scattermapbox"
          },
          {
           "hovertemplate": "vessel_id=fe16241b4f45168f<br>timestamp=2024-07-31T06:00:00.000Z<br>vessel_name=%{text}<br>lat=%{lat}<br>lon=%{lon}<extra></extra>",
           "lat": [
            30.9335987
           ],
           "legendgroup": "fe16241b4f45168f",
           "lon": [
            32.31354727
           ],
           "marker": {
            "color": "#00cc96"
           },
           "mode": "markers+text",
           "name": "fe16241b4f45168f",
           "showlegend": true,
           "subplot": "mapbox",
           "text": [
            "EVEREST ENERGY"
           ],
           "type": "scattermapbox"
          },
          {
           "hovertemplate": "vessel_id=72674aadb46c5286<br>timestamp=2024-07-31T06:00:00.000Z<br>vessel_name=%{text}<br>lat=%{lat}<br>lon=%{lon}<extra></extra>",
           "lat": [
            73.92798987
           ],
           "legendgroup": "72674aadb46c5286",
           "lon": [
            35.06719294
           ],
           "marker": {
            "color": "#ab63fa"
           },
           "mode": "markers+text",
           "name": "72674aadb46c5286",
           "showlegend": true,
           "subplot": "mapbox",
           "text": [
            "PIONEER"
           ],
           "type": "scattermapbox"
          }
         ],
         "name": "2024-07-31T06:00:00.000Z"
        },
        {
         "data": [
          {
           "hovertemplate": "vessel_id=3bc8490a0c382976<br>timestamp=2024-07-31T12:00:00.000Z<br>vessel_name=%{text}<br>lat=%{lat}<br>lon=%{lon}<extra></extra>",
           "lat": [
            34.10891985
           ],
           "legendgroup": "3bc8490a0c382976",
           "lon": [
            24.00679107
           ],
           "marker": {
            "color": "#636efa"
           },
           "mode": "markers+text",
           "name": "3bc8490a0c382976",
           "showlegend": true,
           "subplot": "mapbox",
           "text": [
            "NEW ENERGY"
           ],
           "type": "scattermapbox"
          },
          {
           "hovertemplate": "vessel_id=79138d1707099e3e<br>timestamp=2024-07-31T12:00:00.000Z<br>vessel_name=%{text}<br>lat=%{lat}<br>lon=%{lon}<extra></extra>",
           "lat": [
            65.05880224
           ],
           "legendgroup": "79138d1707099e3e",
           "lon": [
            0.83668123
           ],
           "marker": {
            "color": "#EF553B"
           },
           "mode": "markers+text",
           "name": "79138d1707099e3e",
           "showlegend": true,
           "subplot": "mapbox",
           "text": [
            "ASYA ENERGY"
           ],
           "type": "scattermapbox"
          },
          {
           "hovertemplate": "vessel_id=fe16241b4f45168f<br>timestamp=2024-07-31T12:00:00.000Z<br>vessel_name=%{text}<br>lat=%{lat}<br>lon=%{lon}<extra></extra>",
           "lat": [
            31.51166998
           ],
           "legendgroup": "fe16241b4f45168f",
           "lon": [
            32.35643238
           ],
           "marker": {
            "color": "#00cc96"
           },
           "mode": "markers+text",
           "name": "fe16241b4f45168f",
           "showlegend": true,
           "subplot": "mapbox",
           "text": [
            "EVEREST ENERGY"
           ],
           "type": "scattermapbox"
          },
          {
           "hovertemplate": "vessel_id=72674aadb46c5286<br>timestamp=2024-07-31T12:00:00.000Z<br>vessel_name=%{text}<br>lat=%{lat}<br>lon=%{lon}<extra></extra>",
           "lat": [
            73.98498281
           ],
           "legendgroup": "72674aadb46c5286",
           "lon": [
            35.18797426
           ],
           "marker": {
            "color": "#ab63fa"
           },
           "mode": "markers+text",
           "name": "72674aadb46c5286",
           "showlegend": true,
           "subplot": "mapbox",
           "text": [
            "PIONEER"
           ],
           "type": "scattermapbox"
          }
         ],
         "name": "2024-07-31T12:00:00.000Z"
        },
        {
         "data": [
          {
           "hovertemplate": "vessel_id=3bc8490a0c382976<br>timestamp=2024-07-31T18:00:00.000Z<br>vessel_name=%{text}<br>lat=%{lat}<br>lon=%{lon}<extra></extra>",
           "lat": [
            33.72896689
           ],
           "legendgroup": "3bc8490a0c382976",
           "lon": [
            25.52486971
           ],
           "marker": {
            "color": "#636efa"
           },
           "mode": "markers+text",
           "name": "3bc8490a0c382976",
           "showlegend": true,
           "subplot": "mapbox",
           "text": [
            "NEW ENERGY"
           ],
           "type": "scattermapbox"
          },
          {
           "hovertemplate": "vessel_id=79138d1707099e3e<br>timestamp=2024-07-31T18:00:00.000Z<br>vessel_name=%{text}<br>lat=%{lat}<br>lon=%{lon}<extra></extra>",
           "lat": [
            65.9462638
           ],
           "legendgroup": "79138d1707099e3e",
           "lon": [
            2.67673484
           ],
           "marker": {
            "color": "#EF553B"
           },
           "mode": "markers+text",
           "name": "79138d1707099e3e",
           "showlegend": true,
           "subplot": "mapbox",
           "text": [
            "ASYA ENERGY"
           ],
           "type": "scattermapbox"
          },
          {
           "hovertemplate": "vessel_id=fe16241b4f45168f<br>timestamp=2024-07-31T18:00:00.000Z<br>vessel_name=%{text}<br>lat=%{lat}<br>lon=%{lon}<extra></extra>",
           "lat": [
            31.51166998
           ],
           "legendgroup": "fe16241b4f45168f",
           "lon": [
            32.35919799
           ],
           "marker": {
            "color": "#00cc96"
           },
           "mode": "markers+text",
           "name": "fe16241b4f45168f",
           "showlegend": true,
           "subplot": "mapbox",
           "text": [
            "EVEREST ENERGY"
           ],
           "type": "scattermapbox"
          },
          {
           "hovertemplate": "vessel_id=72674aadb46c5286<br>timestamp=2024-07-31T18:00:00.000Z<br>vessel_name=%{text}<br>lat=%{lat}<br>lon=%{lon}<extra></extra>",
           "lat": [
            74.14239189
           ],
           "legendgroup": "72674aadb46c5286",
           "lon": [
            35.8860876
           ],
           "marker": {
            "color": "#ab63fa"
           },
           "mode": "markers+text",
           "name": "72674aadb46c5286",
           "showlegend": true,
           "subplot": "mapbox",
           "text": [
            "PIONEER"
           ],
           "type": "scattermapbox"
          }
         ],
         "name": "2024-07-31T18:00:00.000Z"
        },
        {
         "data": [
          {
           "hovertemplate": "vessel_id=3bc8490a0c382976<br>timestamp=2024-08-01T00:00:00.000Z<br>vessel_name=%{text}<br>lat=%{lat}<br>lon=%{lon}<extra></extra>",
           "lat": [
            33.36258368
           ],
           "legendgroup": "3bc8490a0c382976",
           "lon": [
            27.15564008
           ],
           "marker": {
            "color": "#636efa"
           },
           "mode": "markers+text",
           "name": "3bc8490a0c382976",
           "showlegend": true,
           "subplot": "mapbox",
           "text": [
            "NEW ENERGY"
           ],
           "type": "scattermapbox"
          },
          {
           "hovertemplate": "vessel_id=79138d1707099e3e<br>timestamp=2024-08-01T00:00:00.000Z<br>vessel_name=%{text}<br>lat=%{lat}<br>lon=%{lon}<extra></extra>",
           "lat": [
            65.96797539
           ],
           "legendgroup": "79138d1707099e3e",
           "lon": [
            2.71882724
           ],
           "marker": {
            "color": "#EF553B"
           },
           "mode": "markers+text",
           "name": "79138d1707099e3e",
           "showlegend": true,
           "subplot": "mapbox",
           "text": [
            "ASYA ENERGY"
           ],
           "type": "scattermapbox"
          },
          {
           "hovertemplate": "vessel_id=fe16241b4f45168f<br>timestamp=2024-08-01T00:00:00.000Z<br>vessel_name=%{text}<br>lat=%{lat}<br>lon=%{lon}<extra></extra>",
           "lat": [
            31.51166998
           ],
           "legendgroup": "fe16241b4f45168f",
           "lon": [
            32.36282695
           ],
           "marker": {
            "color": "#00cc96"
           },
           "mode": "markers+text",
           "name": "fe16241b4f45168f",
           "showlegend": true,
           "subplot": "mapbox",
           "text": [
            "EVEREST ENERGY"
           ],
           "type": "scattermapbox"
          },
          {
           "hovertemplate": "vessel_id=72674aadb46c5286<br>timestamp=2024-08-01T00:00:00.000Z<br>vessel_name=%{text}<br>lat=%{lat}<br>lon=%{lon}<extra></extra>",
           "lat": [
            74.15596164
           ],
           "legendgroup": "72674aadb46c5286",
           "lon": [
            36.54282155
           ],
           "marker": {
            "color": "#ab63fa"
           },
           "mode": "markers+text",
           "name": "72674aadb46c5286",
           "showlegend": true,
           "subplot": "mapbox",
           "text": [
            "PIONEER"
           ],
           "type": "scattermapbox"
          }
         ],
         "name": "2024-08-01T00:00:00.000Z"
        },
        {
         "data": [
          {
           "hovertemplate": "vessel_id=3bc8490a0c382976<br>timestamp=2024-08-01T06:00:00.000Z<br>vessel_name=%{text}<br>lat=%{lat}<br>lon=%{lon}<extra></extra>",
           "lat": [
            32.97448887
           ],
           "legendgroup": "3bc8490a0c382976",
           "lon": [
            28.75354766
           ],
           "marker": {
            "color": "#636efa"
           },
           "mode": "markers+text",
           "name": "3bc8490a0c382976",
           "showlegend": true,
           "subplot": "mapbox",
           "text": [
            "NEW ENERGY"
           ],
           "type": "scattermapbox"
          },
          {
           "hovertemplate": "vessel_id=79138d1707099e3e<br>timestamp=2024-08-01T06:00:00.000Z<br>vessel_name=%{text}<br>lat=%{lat}<br>lon=%{lon}<extra></extra>",
           "lat": [
            67.65876606
           ],
           "legendgroup": "79138d1707099e3e",
           "lon": [
            6.4970965
           ],
           "marker": {
            "color": "#EF553B"
           },
           "mode": "markers+text",
           "name": "79138d1707099e3e",
           "showlegend": true,
           "subplot": "mapbox",
           "text": [
            "ASYA ENERGY"
           ],
           "type": "scattermapbox"
          },
          {
           "hovertemplate": "vessel_id=fe16241b4f45168f<br>timestamp=2024-08-01T06:00:00.000Z<br>vessel_name=%{text}<br>lat=%{lat}<br>lon=%{lon}<extra></extra>",
           "lat": [
            31.51166998
           ],
           "legendgroup": "fe16241b4f45168f",
           "lon": [
            32.36272652
           ],
           "marker": {
            "color": "#00cc96"
           },
           "mode": "markers+text",
           "name": "fe16241b4f45168f",
           "showlegend": true,
           "subplot": "mapbox",
           "text": [
            "EVEREST ENERGY"
           ],
           "type": "scattermapbox"
          },
          {
           "hovertemplate": "vessel_id=72674aadb46c5286<br>timestamp=2024-08-01T06:00:00.000Z<br>vessel_name=%{text}<br>lat=%{lat}<br>lon=%{lon}<extra></extra>",
           "lat": [
            73.89270852
           ],
           "legendgroup": "72674aadb46c5286",
           "lon": [
            36.12711223
           ],
           "marker": {
            "color": "#ab63fa"
           },
           "mode": "markers+text",
           "name": "72674aadb46c5286",
           "showlegend": true,
           "subplot": "mapbox",
           "text": [
            "PIONEER"
           ],
           "type": "scattermapbox"
          }
         ],
         "name": "2024-08-01T06:00:00.000Z"
        },
        {
         "data": [
          {
           "hovertemplate": "vessel_id=3bc8490a0c382976<br>timestamp=2024-08-01T12:00:00.000Z<br>vessel_name=%{text}<br>lat=%{lat}<br>lon=%{lon}<extra></extra>",
           "lat": [
            32.61353356
           ],
           "legendgroup": "3bc8490a0c382976",
           "lon": [
            30.26111303
           ],
           "marker": {
            "color": "#636efa"
           },
           "mode": "markers+text",
           "name": "3bc8490a0c382976",
           "showlegend": true,
           "subplot": "mapbox",
           "text": [
            "NEW ENERGY"
           ],
           "type": "scattermapbox"
          },
          {
           "hovertemplate": "vessel_id=79138d1707099e3e<br>timestamp=2024-08-01T12:00:00.000Z<br>vessel_name=%{text}<br>lat=%{lat}<br>lon=%{lon}<extra></extra>",
           "lat": [
            68.50009046
           ],
           "legendgroup": "79138d1707099e3e",
           "lon": [
            8.64187974
           ],
           "marker": {
            "color": "#EF553B"
           },
           "mode": "markers+text",
           "name": "79138d1707099e3e",
           "showlegend": true,
           "subplot": "mapbox",
           "text": [
            "ASYA ENERGY"
           ],
           "type": "scattermapbox"
          },
          {
           "hovertemplate": "vessel_id=fe16241b4f45168f<br>timestamp=2024-08-01T12:00:00.000Z<br>vessel_name=%{text}<br>lat=%{lat}<br>lon=%{lon}<extra></extra>",
           "lat": [
            31.51166998
           ],
           "legendgroup": "fe16241b4f45168f",
           "lon": [
            32.35907334
           ],
           "marker": {
            "color": "#00cc96"
           },
           "mode": "markers+text",
           "name": "fe16241b4f45168f",
           "showlegend": true,
           "subplot": "mapbox",
           "text": [
            "EVEREST ENERGY"
           ],
           "type": "scattermapbox"
          },
          {
           "hovertemplate": "vessel_id=72674aadb46c5286<br>timestamp=2024-08-01T12:00:00.000Z<br>vessel_name=%{text}<br>lat=%{lat}<br>lon=%{lon}<extra></extra>",
           "lat": [
            73.86285508
           ],
           "legendgroup": "72674aadb46c5286",
           "lon": [
            35.75542164
           ],
           "marker": {
            "color": "#ab63fa"
           },
           "mode": "markers+text",
           "name": "72674aadb46c5286",
           "showlegend": true,
           "subplot": "mapbox",
           "text": [
            "PIONEER"
           ],
           "type": "scattermapbox"
          }
         ],
         "name": "2024-08-01T12:00:00.000Z"
        },
        {
         "data": [
          {
           "hovertemplate": "vessel_id=3bc8490a0c382976<br>timestamp=2024-08-01T18:00:00.000Z<br>vessel_name=%{text}<br>lat=%{lat}<br>lon=%{lon}<extra></extra>",
           "lat": [
            32.15487606
           ],
           "legendgroup": "3bc8490a0c382976",
           "lon": [
            31.46665361
           ],
           "marker": {
            "color": "#636efa"
           },
           "mode": "markers+text",
           "name": "3bc8490a0c382976",
           "showlegend": true,
           "subplot": "mapbox",
           "text": [
            "NEW ENERGY"
           ],
           "type": "scattermapbox"
          },
          {
           "hovertemplate": "vessel_id=79138d1707099e3e<br>timestamp=2024-08-01T18:00:00.000Z<br>vessel_name=%{text}<br>lat=%{lat}<br>lon=%{lon}<extra></extra>",
           "lat": [
            69.23828478
           ],
           "legendgroup": "79138d1707099e3e",
           "lon": [
            10.78784117
           ],
           "marker": {
            "color": "#EF553B"
           },
           "mode": "markers+text",
           "name": "79138d1707099e3e",
           "showlegend": true,
           "subplot": "mapbox",
           "text": [
            "ASYA ENERGY"
           ],
           "type": "scattermapbox"
          },
          {
           "hovertemplate": "vessel_id=fe16241b4f45168f<br>timestamp=2024-08-01T18:00:00.000Z<br>vessel_name=%{text}<br>lat=%{lat}<br>lon=%{lon}<extra></extra>",
           "lat": [
            31.51166998
           ],
           "legendgroup": "fe16241b4f45168f",
           "lon": [
            32.35924992
           ],
           "marker": {
            "color": "#00cc96"
           },
           "mode": "markers+text",
           "name": "fe16241b4f45168f",
           "showlegend": true,
           "subplot": "mapbox",
           "text": [
            "EVEREST ENERGY"
           ],
           "type": "scattermapbox"
          },
          {
           "hovertemplate": "vessel_id=72674aadb46c5286<br>timestamp=2024-08-01T18:00:00.000Z<br>vessel_name=%{text}<br>lat=%{lat}<br>lon=%{lon}<extra></extra>",
           "lat": [
            73.85471323
           ],
           "legendgroup": "72674aadb46c5286",
           "lon": [
            35.23353095
           ],
           "marker": {
            "color": "#ab63fa"
           },
           "mode": "markers+text",
           "name": "72674aadb46c5286",
           "showlegend": true,
           "subplot": "mapbox",
           "text": [
            "PIONEER"
           ],
           "type": "scattermapbox"
          }
         ],
         "name": "2024-08-01T18:00:00.000Z"
        },
        {
         "data": [
          {
           "hovertemplate": "vessel_id=3bc8490a0c382976<br>timestamp=2024-08-02T00:00:00.000Z<br>vessel_name=%{text}<br>lat=%{lat}<br>lon=%{lon}<extra></extra>",
           "lat": [
            31.55237923
           ],
           "legendgroup": "3bc8490a0c382976",
           "lon": [
            32.1852486
           ],
           "marker": {
            "color": "#636efa"
           },
           "mode": "markers+text",
           "name": "3bc8490a0c382976",
           "showlegend": true,
           "subplot": "mapbox",
           "text": [
            "NEW ENERGY"
           ],
           "type": "scattermapbox"
          },
          {
           "hovertemplate": "vessel_id=79138d1707099e3e<br>timestamp=2024-08-02T00:00:00.000Z<br>vessel_name=%{text}<br>lat=%{lat}<br>lon=%{lon}<extra></extra>",
           "lat": [
            69.91134431
           ],
           "legendgroup": "79138d1707099e3e",
           "lon": [
            12.95839268
           ],
           "marker": {
            "color": "#EF553B"
           },
           "mode": "markers+text",
           "name": "79138d1707099e3e",
           "showlegend": true,
           "subplot": "mapbox",
           "text": [
            "ASYA ENERGY"
           ],
           "type": "scattermapbox"
          },
          {
           "hovertemplate": "vessel_id=fe16241b4f45168f<br>timestamp=2024-08-02T00:00:00.000Z<br>vessel_name=%{text}<br>lat=%{lat}<br>lon=%{lon}<extra></extra>",
           "lat": [
            31.51166998
           ],
           "legendgroup": "fe16241b4f45168f",
           "lon": [
            32.36264341
           ],
           "marker": {
            "color": "#00cc96"
           },
           "mode": "markers+text",
           "name": "fe16241b4f45168f",
           "showlegend": true,
           "subplot": "mapbox",
           "text": [
            "EVEREST ENERGY"
           ],
           "type": "scattermapbox"
          },
          {
           "hovertemplate": "vessel_id=72674aadb46c5286<br>timestamp=2024-08-02T00:00:00.000Z<br>vessel_name=%{text}<br>lat=%{lat}<br>lon=%{lon}<extra></extra>",
           "lat": [
            74.03111996
           ],
           "legendgroup": "72674aadb46c5286",
           "lon": [
            35.65013076
           ],
           "marker": {
            "color": "#ab63fa"
           },
           "mode": "markers+text",
           "name": "72674aadb46c5286",
           "showlegend": true,
           "subplot": "mapbox",
           "text": [
            "PIONEER"
           ],
           "type": "scattermapbox"
          }
         ],
         "name": "2024-08-02T00:00:00.000Z"
        },
        {
         "data": [
          {
           "hovertemplate": "vessel_id=3bc8490a0c382976<br>timestamp=2024-08-02T06:00:00.000Z<br>vessel_name=%{text}<br>lat=%{lat}<br>lon=%{lon}<extra></extra>",
           "lat": [
            31.62022797
           ],
           "legendgroup": "3bc8490a0c382976",
           "lon": [
            32.32992408
           ],
           "marker": {
            "color": "#636efa"
           },
           "mode": "markers+text",
           "name": "3bc8490a0c382976",
           "showlegend": true,
           "subplot": "mapbox",
           "text": [
            "NEW ENERGY"
           ],
           "type": "scattermapbox"
          },
          {
           "hovertemplate": "vessel_id=79138d1707099e3e<br>timestamp=2024-08-02T06:00:00.000Z<br>vessel_name=%{text}<br>lat=%{lat}<br>lon=%{lon}<extra></extra>",
           "lat": [
            70.54640854
           ],
           "legendgroup": "79138d1707099e3e",
           "lon": [
            15.2066306
           ],
           "marker": {
            "color": "#EF553B"
           },
           "mode": "markers+text",
           "name": "79138d1707099e3e",
           "showlegend": true,
           "subplot": "mapbox",
           "text": [
            "ASYA ENERGY"
           ],
           "type": "scattermapbox"
          },
          {
           "hovertemplate": "vessel_id=fe16241b4f45168f<br>timestamp=2024-08-02T06:00:00.000Z<br>vessel_name=%{text}<br>lat=%{lat}<br>lon=%{lon}<extra></extra>",
           "lat": [
            31.51166998
           ],
           "legendgroup": "fe16241b4f45168f",
           "lon": [
            32.36262032
           ],
           "marker": {
            "color": "#00cc96"
           },
           "mode": "markers+text",
           "name": "fe16241b4f45168f",
           "showlegend": true,
           "subplot": "mapbox",
           "text": [
            "EVEREST ENERGY"
           ],
           "type": "scattermapbox"
          },
          {
           "hovertemplate": "vessel_id=72674aadb46c5286<br>timestamp=2024-08-02T06:00:00.000Z<br>vessel_name=%{text}<br>lat=%{lat}<br>lon=%{lon}<extra></extra>",
           "lat": [
            74.15053374
           ],
           "legendgroup": "72674aadb46c5286",
           "lon": [
            36.15394921
           ],
           "marker": {
            "color": "#ab63fa"
           },
           "mode": "markers+text",
           "name": "72674aadb46c5286",
           "showlegend": true,
           "subplot": "mapbox",
           "text": [
            "PIONEER"
           ],
           "type": "scattermapbox"
          }
         ],
         "name": "2024-08-02T06:00:00.000Z"
        },
        {
         "data": [
          {
           "hovertemplate": "vessel_id=3bc8490a0c382976<br>timestamp=2024-08-02T12:00:00.000Z<br>vessel_name=%{text}<br>lat=%{lat}<br>lon=%{lon}<extra></extra>",
           "lat": [
            31.62022797
           ],
           "legendgroup": "3bc8490a0c382976",
           "lon": [
            32.32954889
           ],
           "marker": {
            "color": "#636efa"
           },
           "mode": "markers+text",
           "name": "3bc8490a0c382976",
           "showlegend": true,
           "subplot": "mapbox",
           "text": [
            "NEW ENERGY"
           ],
           "type": "scattermapbox"
          },
          {
           "hovertemplate": "vessel_id=79138d1707099e3e<br>timestamp=2024-08-02T12:00:00.000Z<br>vessel_name=%{text}<br>lat=%{lat}<br>lon=%{lon}<extra></extra>",
           "lat": [
            71.22218202
           ],
           "legendgroup": "79138d1707099e3e",
           "lon": [
            17.90642095
           ],
           "marker": {
            "color": "#EF553B"
           },
           "mode": "markers+text",
           "name": "79138d1707099e3e",
           "showlegend": true,
           "subplot": "mapbox",
           "text": [
            "ASYA ENERGY"
           ],
           "type": "scattermapbox"
          },
          {
           "hovertemplate": "vessel_id=fe16241b4f45168f<br>timestamp=2024-08-02T12:00:00.000Z<br>vessel_name=%{text}<br>lat=%{lat}<br>lon=%{lon}<extra></extra>",
           "lat": [
            31.51166998
           ],
           "legendgroup": "fe16241b4f45168f",
           "lon": [
            32.36242755
           ],
           "marker": {
            "color": "#00cc96"
           },
           "mode": "markers+text",
           "name": "fe16241b4f45168f",
           "showlegend": true,
           "subplot": "mapbox",
           "text": [
            "EVEREST ENERGY"
           ],
           "type": "scattermapbox"
          },
          {
           "hovertemplate": "vessel_id=72674aadb46c5286<br>timestamp=2024-08-02T12:00:00.000Z<br>vessel_name=%{text}<br>lat=%{lat}<br>lon=%{lon}<extra></extra>",
           "lat": [
            74.10168265
           ],
           "legendgroup": "72674aadb46c5286",
           "lon": [
            36.7367215
           ],
           "marker": {
            "color": "#ab63fa"
           },
           "mode": "markers+text",
           "name": "72674aadb46c5286",
           "showlegend": true,
           "subplot": "mapbox",
           "text": [
            "PIONEER"
           ],
           "type": "scattermapbox"
          }
         ],
         "name": "2024-08-02T12:00:00.000Z"
        },
        {
         "data": [
          {
           "hovertemplate": "vessel_id=3bc8490a0c382976<br>timestamp=2024-08-02T18:00:00.000Z<br>vessel_name=%{text}<br>lat=%{lat}<br>lon=%{lon}<extra></extra>",
           "lat": [
            31.62022797
           ],
           "legendgroup": "3bc8490a0c382976",
           "lon": [
            32.3297359
           ],
           "marker": {
            "color": "#636efa"
           },
           "mode": "markers+text",
           "name": "3bc8490a0c382976",
           "showlegend": true,
           "subplot": "mapbox",
           "text": [
            "NEW ENERGY"
           ],
           "type": "scattermapbox"
          },
          {
           "hovertemplate": "vessel_id=79138d1707099e3e<br>timestamp=2024-08-02T18:00:00.000Z<br>vessel_name=%{text}<br>lat=%{lat}<br>lon=%{lon}<extra></extra>",
           "lat": [
            71.8545323
           ],
           "legendgroup": "79138d1707099e3e",
           "lon": [
            20.80162754
           ],
           "marker": {
            "color": "#EF553B"
           },
           "mode": "markers+text",
           "name": "79138d1707099e3e",
           "showlegend": true,
           "subplot": "mapbox",
           "text": [
            "ASYA ENERGY"
           ],
           "type": "scattermapbox"
          },
          {
           "hovertemplate": "vessel_id=fe16241b4f45168f<br>timestamp=2024-08-02T18:00:00.000Z<br>vessel_name=%{text}<br>lat=%{lat}<br>lon=%{lon}<extra></extra>",
           "lat": [
            31.51166998
           ],
           "legendgroup": "fe16241b4f45168f",
           "lon": [
            32.35918875
           ],
           "marker": {
            "color": "#00cc96"
           },
           "mode": "markers+text",
           "name": "fe16241b4f45168f",
           "showlegend": true,
           "subplot": "mapbox",
           "text": [
            "EVEREST ENERGY"
           ],
           "type": "scattermapbox"
          },
          {
           "hovertemplate": "vessel_id=72674aadb46c5286<br>timestamp=2024-08-02T18:00:00.000Z<br>vessel_name=%{text}<br>lat=%{lat}<br>lon=%{lon}<extra></extra>",
           "lat": [
            73.89542247
           ],
           "legendgroup": "72674aadb46c5286",
           "lon": [
            36.1429752
           ],
           "marker": {
            "color": "#ab63fa"
           },
           "mode": "markers+text",
           "name": "72674aadb46c5286",
           "showlegend": true,
           "subplot": "mapbox",
           "text": [
            "PIONEER"
           ],
           "type": "scattermapbox"
          }
         ],
         "name": "2024-08-02T18:00:00.000Z"
        },
        {
         "data": [
          {
           "hovertemplate": "vessel_id=3bc8490a0c382976<br>timestamp=2024-08-03T00:00:00.000Z<br>vessel_name=%{text}<br>lat=%{lat}<br>lon=%{lon}<extra></extra>",
           "lat": [
            31.61751402
           ],
           "legendgroup": "3bc8490a0c382976",
           "lon": [
            32.32929067
           ],
           "marker": {
            "color": "#636efa"
           },
           "mode": "markers+text",
           "name": "3bc8490a0c382976",
           "showlegend": true,
           "subplot": "mapbox",
           "text": [
            "NEW ENERGY"
           ],
           "type": "scattermapbox"
          },
          {
           "hovertemplate": "vessel_id=79138d1707099e3e<br>timestamp=2024-08-03T00:00:00.000Z<br>vessel_name=%{text}<br>lat=%{lat}<br>lon=%{lon}<extra></extra>",
           "lat": [
            72.44617333
           ],
           "legendgroup": "79138d1707099e3e",
           "lon": [
            23.89114348
           ],
           "marker": {
            "color": "#EF553B"
           },
           "mode": "markers+text",
           "name": "79138d1707099e3e",
           "showlegend": true,
           "subplot": "mapbox",
           "text": [
            "ASYA ENERGY"
           ],
           "type": "scattermapbox"
          },
          {
           "hovertemplate": "vessel_id=fe16241b4f45168f<br>timestamp=2024-08-03T00:00:00.000Z<br>vessel_name=%{text}<br>lat=%{lat}<br>lon=%{lon}<extra></extra>",
           "lat": [
            31.51166998
           ],
           "legendgroup": "fe16241b4f45168f",
           "lon": [
            32.36253721
           ],
           "marker": {
            "color": "#00cc96"
           },
           "mode": "markers+text",
           "name": "fe16241b4f45168f",
           "showlegend": true,
           "subplot": "mapbox",
           "text": [
            "EVEREST ENERGY"
           ],
           "type": "scattermapbox"
          },
          {
           "hovertemplate": "vessel_id=72674aadb46c5286<br>timestamp=2024-08-03T00:00:00.000Z<br>vessel_name=%{text}<br>lat=%{lat}<br>lon=%{lon}<extra></extra>",
           "lat": [
            73.85742718
           ],
           "legendgroup": "72674aadb46c5286",
           "lon": [
            35.52370961
           ],
           "marker": {
            "color": "#ab63fa"
           },
           "mode": "markers+text",
           "name": "72674aadb46c5286",
           "showlegend": true,
           "subplot": "mapbox",
           "text": [
            "PIONEER"
           ],
           "type": "scattermapbox"
          }
         ],
         "name": "2024-08-03T00:00:00.000Z"
        },
        {
         "data": [
          {
           "hovertemplate": "vessel_id=3bc8490a0c382976<br>timestamp=2024-08-03T06:00:00.000Z<br>vessel_name=%{text}<br>lat=%{lat}<br>lon=%{lon}<extra></extra>",
           "lat": [
            31.61751402
           ],
           "legendgroup": "3bc8490a0c382976",
           "lon": [
            32.32929067
           ],
           "marker": {
            "color": "#636efa"
           },
           "mode": "markers+text",
           "name": "3bc8490a0c382976",
           "showlegend": true,
           "subplot": "mapbox",
           "text": [
            "NEW ENERGY"
           ],
           "type": "scattermapbox"
          },
          {
           "hovertemplate": "vessel_id=79138d1707099e3e<br>timestamp=2024-08-03T06:00:00.000Z<br>vessel_name=%{text}<br>lat=%{lat}<br>lon=%{lon}<extra></extra>",
           "lat": [
            72.98353537
           ],
           "legendgroup": "79138d1707099e3e",
           "lon": [
            27.18046056
           ],
           "marker": {
            "color": "#EF553B"
           },
           "mode": "markers+text",
           "name": "79138d1707099e3e",
           "showlegend": true,
           "subplot": "mapbox",
           "text": [
            "ASYA ENERGY"
           ],
           "type": "scattermapbox"
          },
          {
           "hovertemplate": "vessel_id=fe16241b4f45168f<br>timestamp=2024-08-03T06:00:00.000Z<br>vessel_name=%{text}<br>lat=%{lat}<br>lon=%{lon}<extra></extra>",
           "lat": [
            31.51166998
           ],
           "legendgroup": "fe16241b4f45168f",
           "lon": [
            32.36250951
           ],
           "marker": {
            "color": "#00cc96"
           },
           "mode": "markers+text",
           "name": "fe16241b4f45168f",
           "showlegend": true,
           "subplot": "mapbox",
           "text": [
            "EVEREST ENERGY"
           ],
           "type": "scattermapbox"
          },
          {
           "hovertemplate": "vessel_id=72674aadb46c5286<br>timestamp=2024-08-03T06:00:00.000Z<br>vessel_name=%{text}<br>lat=%{lat}<br>lon=%{lon}<extra></extra>",
           "lat": [
            73.92798987
           ],
           "legendgroup": "72674aadb46c5286",
           "lon": [
            35.06297999
           ],
           "marker": {
            "color": "#ab63fa"
           },
           "mode": "markers+text",
           "name": "72674aadb46c5286",
           "showlegend": true,
           "subplot": "mapbox",
           "text": [
            "PIONEER"
           ],
           "type": "scattermapbox"
          }
         ],
         "name": "2024-08-03T06:00:00.000Z"
        },
        {
         "data": [
          {
           "hovertemplate": "vessel_id=3bc8490a0c382976<br>timestamp=2024-08-03T12:00:00.000Z<br>vessel_name=%{text}<br>lat=%{lat}<br>lon=%{lon}<extra></extra>",
           "lat": [
            31.62022797
           ],
           "legendgroup": "3bc8490a0c382976",
           "lon": [
            32.32966237
           ],
           "marker": {
            "color": "#636efa"
           },
           "mode": "markers+text",
           "name": "3bc8490a0c382976",
           "showlegend": true,
           "subplot": "mapbox",
           "text": [
            "NEW ENERGY"
           ],
           "type": "scattermapbox"
          },
          {
           "hovertemplate": "vessel_id=79138d1707099e3e<br>timestamp=2024-08-03T12:00:00.000Z<br>vessel_name=%{text}<br>lat=%{lat}<br>lon=%{lon}<extra></extra>",
           "lat": [
            73.42048127
           ],
           "legendgroup": "79138d1707099e3e",
           "lon": [
            30.31097413
           ],
           "marker": {
            "color": "#EF553B"
           },
           "mode": "markers+text",
           "name": "79138d1707099e3e",
           "showlegend": true,
           "subplot": "mapbox",
           "text": [
            "ASYA ENERGY"
           ],
           "type": "scattermapbox"
          },
          {
           "hovertemplate": "vessel_id=fe16241b4f45168f<br>timestamp=2024-08-03T12:00:00.000Z<br>vessel_name=%{text}<br>lat=%{lat}<br>lon=%{lon}<extra></extra>",
           "lat": [
            31.51166998
           ],
           "legendgroup": "fe16241b4f45168f",
           "lon": [
            32.36244717
           ],
           "marker": {
            "color": "#00cc96"
           },
           "mode": "markers+text",
           "name": "fe16241b4f45168f",
           "showlegend": true,
           "subplot": "mapbox",
           "text": [
            "EVEREST ENERGY"
           ],
           "type": "scattermapbox"
          },
          {
           "hovertemplate": "vessel_id=72674aadb46c5286<br>timestamp=2024-08-03T12:00:00.000Z<br>vessel_name=%{text}<br>lat=%{lat}<br>lon=%{lon}<extra></extra>",
           "lat": [
            74.1206803
           ],
           "legendgroup": "72674aadb46c5286",
           "lon": [
            35.69050162
           ],
           "marker": {
            "color": "#ab63fa"
           },
           "mode": "markers+text",
           "name": "72674aadb46c5286",
           "showlegend": true,
           "subplot": "mapbox",
           "text": [
            "PIONEER"
           ],
           "type": "scattermapbox"
          }
         ],
         "name": "2024-08-03T12:00:00.000Z"
        },
        {
         "data": [
          {
           "hovertemplate": "vessel_id=3bc8490a0c382976<br>timestamp=2024-08-03T18:00:00.000Z<br>vessel_name=%{text}<br>lat=%{lat}<br>lon=%{lon}<extra></extra>",
           "lat": [
            31.62022797
           ],
           "legendgroup": "3bc8490a0c382976",
           "lon": [
            32.33002773
           ],
           "marker": {
            "color": "#636efa"
           },
           "mode": "markers+text",
           "name": "3bc8490a0c382976",
           "showlegend": true,
           "subplot": "mapbox",
           "text": [
            "NEW ENERGY"
           ],
           "type": "scattermapbox"
          },
          {
           "hovertemplate": "vessel_id=79138d1707099e3e<br>timestamp=2024-08-03T18:00:00.000Z<br>vessel_name=%{text}<br>lat=%{lat}<br>lon=%{lon}<extra></extra>",
           "lat": [
            73.81943188
           ],
           "legendgroup": "79138d1707099e3e",
           "lon": [
            33.6877287
           ],
           "marker": {
            "color": "#EF553B"
           },
           "mode": "markers+text",
           "name": "79138d1707099e3e",
           "showlegend": true,
           "subplot": "mapbox",
           "text": [
            "ASYA ENERGY"
           ],
           "type": "scattermapbox"
          },
          {
           "hovertemplate": "vessel_id=fe16241b4f45168f<br>timestamp=2024-08-03T18:00:00.000Z<br>vessel_name=%{text}<br>lat=%{lat}<br>lon=%{lon}<extra></extra>",
           "lat": [
            31.51166998
           ],
           "legendgroup": "fe16241b4f45168f",
           "lon": [
            32.36265841
           ],
           "marker": {
            "color": "#00cc96"
           },
           "mode": "markers+text",
           "name": "fe16241b4f45168f",
           "showlegend": true,
           "subplot": "mapbox",
           "text": [
            "EVEREST ENERGY"
           ],
           "type": "scattermapbox"
          },
          {
           "hovertemplate": "vessel_id=72674aadb46c5286<br>timestamp=2024-08-03T18:00:00.000Z<br>vessel_name=%{text}<br>lat=%{lat}<br>lon=%{lon}<extra></extra>",
           "lat": [
            74.15324769
           ],
           "legendgroup": "72674aadb46c5286",
           "lon": [
            36.21673079
           ],
           "marker": {
            "color": "#ab63fa"
           },
           "mode": "markers+text",
           "name": "72674aadb46c5286",
           "showlegend": true,
           "subplot": "mapbox",
           "text": [
            "PIONEER"
           ],
           "type": "scattermapbox"
          }
         ],
         "name": "2024-08-03T18:00:00.000Z"
        },
        {
         "data": [
          {
           "hovertemplate": "vessel_id=3bc8490a0c382976<br>timestamp=2024-08-04T00:00:00.000Z<br>vessel_name=%{text}<br>lat=%{lat}<br>lon=%{lon}<extra></extra>",
           "lat": [
            31.62022797
           ],
           "legendgroup": "3bc8490a0c382976",
           "lon": [
            32.32986966
           ],
           "marker": {
            "color": "#636efa"
           },
           "mode": "markers+text",
           "name": "3bc8490a0c382976",
           "showlegend": true,
           "subplot": "mapbox",
           "text": [
            "NEW ENERGY"
           ],
           "type": "scattermapbox"
          },
          {
           "hovertemplate": "vessel_id=79138d1707099e3e<br>timestamp=2024-08-04T00:00:00.000Z<br>vessel_name=%{text}<br>lat=%{lat}<br>lon=%{lon}<extra></extra>",
           "lat": [
            74.09082685
           ],
           "legendgroup": "79138d1707099e3e",
           "lon": [
            36.05840568
           ],
           "marker": {
            "color": "#EF553B"
           },
           "mode": "markers+text",
           "name": "79138d1707099e3e",
           "showlegend": true,
           "subplot": "mapbox",
           "text": [
            "ASYA ENERGY"
           ],
           "type": "scattermapbox"
          },
          {
           "hovertemplate": "vessel_id=fe16241b4f45168f<br>timestamp=2024-08-04T00:00:00.000Z<br>vessel_name=%{text}<br>lat=%{lat}<br>lon=%{lon}<extra></extra>",
           "lat": [
            31.51438393
           ],
           "legendgroup": "fe16241b4f45168f",
           "lon": [
            32.36287774
           ],
           "marker": {
            "color": "#00cc96"
           },
           "mode": "markers+text",
           "name": "fe16241b4f45168f",
           "showlegend": true,
           "subplot": "mapbox",
           "text": [
            "EVEREST ENERGY"
           ],
           "type": "scattermapbox"
          },
          {
           "hovertemplate": "vessel_id=72674aadb46c5286<br>timestamp=2024-08-04T00:00:00.000Z<br>vessel_name=%{text}<br>lat=%{lat}<br>lon=%{lon}<extra></extra>",
           "lat": [
            74.10711055
           ],
           "legendgroup": "72674aadb46c5286",
           "lon": [
            36.6983909
           ],
           "marker": {
            "color": "#ab63fa"
           },
           "mode": "markers+text",
           "name": "72674aadb46c5286",
           "showlegend": true,
           "subplot": "mapbox",
           "text": [
            "PIONEER"
           ],
           "type": "scattermapbox"
          }
         ],
         "name": "2024-08-04T00:00:00.000Z"
        },
        {
         "data": [
          {
           "hovertemplate": "vessel_id=3bc8490a0c382976<br>timestamp=2024-08-04T06:00:00.000Z<br>vessel_name=%{text}<br>lat=%{lat}<br>lon=%{lon}<extra></extra>",
           "lat": [
            31.62022797
           ],
           "legendgroup": "3bc8490a0c382976",
           "lon": [
            32.32986966
           ],
           "marker": {
            "color": "#636efa"
           },
           "mode": "markers+text",
           "name": "3bc8490a0c382976",
           "showlegend": true,
           "subplot": "mapbox",
           "text": [
            "NEW ENERGY"
           ],
           "type": "scattermapbox"
          },
          {
           "hovertemplate": "vessel_id=79138d1707099e3e<br>timestamp=2024-08-04T06:00:00.000Z<br>vessel_name=%{text}<br>lat=%{lat}<br>lon=%{lon}<extra></extra>",
           "lat": [
            74.28351728
           ],
           "legendgroup": "79138d1707099e3e",
           "lon": [
            35.79885594
           ],
           "marker": {
            "color": "#EF553B"
           },
           "mode": "markers+text",
           "name": "79138d1707099e3e",
           "showlegend": true,
           "subplot": "mapbox",
           "text": [
            "ASYA ENERGY"
           ],
           "type": "scattermapbox"
          },
          {
           "hovertemplate": "vessel_id=fe16241b4f45168f<br>timestamp=2024-08-04T06:00:00.000Z<br>vessel_name=%{text}<br>lat=%{lat}<br>lon=%{lon}<extra></extra>",
           "lat": [
            31.51438393
           ],
           "legendgroup": "fe16241b4f45168f",
           "lon": [
            32.36292853
           ],
           "marker": {
            "color": "#00cc96"
           },
           "mode": "markers+text",
           "name": "fe16241b4f45168f",
           "showlegend": true,
           "subplot": "mapbox",
           "text": [
            "EVEREST ENERGY"
           ],
           "type": "scattermapbox"
          },
          {
           "hovertemplate": "vessel_id=72674aadb46c5286<br>timestamp=2024-08-04T06:00:00.000Z<br>vessel_name=%{text}<br>lat=%{lat}<br>lon=%{lon}<extra></extra>",
           "lat": [
            73.91442012
           ],
           "legendgroup": "72674aadb46c5286",
           "lon": [
            36.25281484
           ],
           "marker": {
            "color": "#ab63fa"
           },
           "mode": "markers+text",
           "name": "72674aadb46c5286",
           "showlegend": true,
           "subplot": "mapbox",
           "text": [
            "PIONEER"
           ],
           "type": "scattermapbox"
          }
         ],
         "name": "2024-08-04T06:00:00.000Z"
        },
        {
         "data": [
          {
           "hovertemplate": "vessel_id=3bc8490a0c382976<br>timestamp=2024-08-04T12:00:00.000Z<br>vessel_name=%{text}<br>lat=%{lat}<br>lon=%{lon}<extra></extra>",
           "lat": [
            31.62022797
           ],
           "legendgroup": "3bc8490a0c382976",
           "lon": [
            32.32974922
           ],
           "marker": {
            "color": "#636efa"
           },
           "mode": "markers+text",
           "name": "3bc8490a0c382976",
           "showlegend": true,
           "subplot": "mapbox",
           "text": [
            "NEW ENERGY"
           ],
           "type": "scattermapbox"
          },
          {
           "hovertemplate": "vessel_id=79138d1707099e3e<br>timestamp=2024-08-04T12:00:00.000Z<br>vessel_name=%{text}<br>lat=%{lat}<br>lon=%{lon}<extra></extra>",
           "lat": [
            74.06368735
           ],
           "legendgroup": "79138d1707099e3e",
           "lon": [
            36.09750585
           ],
           "marker": {
            "color": "#EF553B"
           },
           "mode": "markers+text",
           "name": "79138d1707099e3e",
           "showlegend": true,
           "subplot": "mapbox",
           "text": [
            "ASYA ENERGY"
           ],
           "type": "scattermapbox"
          },
          {
           "hovertemplate": "vessel_id=fe16241b4f45168f<br>timestamp=2024-08-04T12:00:00.000Z<br>vessel_name=%{text}<br>lat=%{lat}<br>lon=%{lon}<extra></extra>",
           "lat": [
            31.51166998
           ],
           "legendgroup": "fe16241b4f45168f",
           "lon": [
            32.36248065
           ],
           "marker": {
            "color": "#00cc96"
           },
           "mode": "markers+text",
           "name": "fe16241b4f45168f",
           "showlegend": true,
           "subplot": "mapbox",
           "text": [
            "EVEREST ENERGY"
           ],
           "type": "scattermapbox"
          },
          {
           "hovertemplate": "vessel_id=72674aadb46c5286<br>timestamp=2024-08-04T12:00:00.000Z<br>vessel_name=%{text}<br>lat=%{lat}<br>lon=%{lon}<extra></extra>",
           "lat": [
            73.85742718
           ],
           "legendgroup": "72674aadb46c5286",
           "lon": [
            35.5432335
           ],
           "marker": {
            "color": "#ab63fa"
           },
           "mode": "markers+text",
           "name": "72674aadb46c5286",
           "showlegend": true,
           "subplot": "mapbox",
           "text": [
            "PIONEER"
           ],
           "type": "scattermapbox"
          }
         ],
         "name": "2024-08-04T12:00:00.000Z"
        },
        {
         "data": [
          {
           "hovertemplate": "vessel_id=3bc8490a0c382976<br>timestamp=2024-08-04T18:00:00.000Z<br>vessel_name=%{text}<br>lat=%{lat}<br>lon=%{lon}<extra></extra>",
           "lat": [
            31.62022797
           ],
           "legendgroup": "3bc8490a0c382976",
           "lon": [
            32.32981697
           ],
           "marker": {
            "color": "#636efa"
           },
           "mode": "markers+text",
           "name": "3bc8490a0c382976",
           "showlegend": true,
           "subplot": "mapbox",
           "text": [
            "NEW ENERGY"
           ],
           "type": "scattermapbox"
          },
          {
           "hovertemplate": "vessel_id=79138d1707099e3e<br>timestamp=2024-08-04T18:00:00.000Z<br>vessel_name=%{text}<br>lat=%{lat}<br>lon=%{lon}<extra></extra>",
           "lat": [
            74.1043966
           ],
           "legendgroup": "79138d1707099e3e",
           "lon": [
            36.38562835
           ],
           "marker": {
            "color": "#EF553B"
           },
           "mode": "markers+text",
           "name": "79138d1707099e3e",
           "showlegend": true,
           "subplot": "mapbox",
           "text": [
            "ASYA ENERGY"
           ],
           "type": "scattermapbox"
          },
          {
           "hovertemplate": "vessel_id=fe16241b4f45168f<br>timestamp=2024-08-04T18:00:00.000Z<br>vessel_name=%{text}<br>lat=%{lat}<br>lon=%{lon}<extra></extra>",
           "lat": [
            31.51166998
           ],
           "legendgroup": "fe16241b4f45168f",
           "lon": [
            32.36256953
           ],
           "marker": {
            "color": "#00cc96"
           },
           "mode": "markers+text",
           "name": "fe16241b4f45168f",
           "showlegend": true,
           "subplot": "mapbox",
           "text": [
            "EVEREST ENERGY"
           ],
           "type": "scattermapbox"
          },
          {
           "hovertemplate": "vessel_id=72674aadb46c5286<br>timestamp=2024-08-04T18:00:00.000Z<br>vessel_name=%{text}<br>lat=%{lat}<br>lon=%{lon}<extra></extra>",
           "lat": [
            73.94698752
           ],
           "legendgroup": "72674aadb46c5286",
           "lon": [
            35.10792521
           ],
           "marker": {
            "color": "#ab63fa"
           },
           "mode": "markers+text",
           "name": "72674aadb46c5286",
           "showlegend": true,
           "subplot": "mapbox",
           "text": [
            "PIONEER"
           ],
           "type": "scattermapbox"
          }
         ],
         "name": "2024-08-04T18:00:00.000Z"
        },
        {
         "data": [
          {
           "hovertemplate": "vessel_id=3bc8490a0c382976<br>timestamp=2024-08-05T00:00:00.000Z<br>vessel_name=%{text}<br>lat=%{lat}<br>lon=%{lon}<extra></extra>",
           "lat": [
            31.62022797
           ],
           "legendgroup": "3bc8490a0c382976",
           "lon": [
            32.32986966
           ],
           "marker": {
            "color": "#636efa"
           },
           "mode": "markers+text",
           "name": "3bc8490a0c382976",
           "showlegend": true,
           "subplot": "mapbox",
           "text": [
            "NEW ENERGY"
           ],
           "type": "scattermapbox"
          },
          {
           "hovertemplate": "vessel_id=79138d1707099e3e<br>timestamp=2024-08-05T00:00:00.000Z<br>vessel_name=%{text}<br>lat=%{lat}<br>lon=%{lon}<extra></extra>",
           "lat": [
            74.00126651
           ],
           "legendgroup": "79138d1707099e3e",
           "lon": [
            36.41579898
           ],
           "marker": {
            "color": "#EF553B"
           },
           "mode": "markers+text",
           "name": "79138d1707099e3e",
           "showlegend": true,
           "subplot": "mapbox",
           "text": [
            "ASYA ENERGY"
           ],
           "type": "scattermapbox"
          },
          {
           "hovertemplate": "vessel_id=fe16241b4f45168f<br>timestamp=2024-08-05T00:00:00.000Z<br>vessel_name=%{text}<br>lat=%{lat}<br>lon=%{lon}<extra></extra>",
           "lat": [
            31.51166998
           ],
           "legendgroup": "fe16241b4f45168f",
           "lon": [
            32.36271036
           ],
           "marker": {
            "color": "#00cc96"
           },
           "mode": "markers+text",
           "name": "fe16241b4f45168f",
           "showlegend": true,
           "subplot": "mapbox",
           "text": [
            "EVEREST ENERGY"
           ],
           "type": "scattermapbox"
          },
          {
           "hovertemplate": "vessel_id=72674aadb46c5286<br>timestamp=2024-08-05T00:00:00.000Z<br>vessel_name=%{text}<br>lat=%{lat}<br>lon=%{lon}<extra></extra>",
           "lat": [
            74.03111996
           ],
           "legendgroup": "72674aadb46c5286",
           "lon": [
            35.74192636
           ],
           "marker": {
            "color": "#ab63fa"
           },
           "mode": "markers+text",
           "name": "72674aadb46c5286",
           "showlegend": true,
           "subplot": "mapbox",
           "text": [
            "PIONEER"
           ],
           "type": "scattermapbox"
          }
         ],
         "name": "2024-08-05T00:00:00.000Z"
        },
        {
         "data": [
          {
           "hovertemplate": "vessel_id=3bc8490a0c382976<br>timestamp=2024-08-05T06:00:00.000Z<br>vessel_name=%{text}<br>lat=%{lat}<br>lon=%{lon}<extra></extra>",
           "lat": [
            31.62022797
           ],
           "legendgroup": "3bc8490a0c382976",
           "lon": [
            32.32991482
           ],
           "marker": {
            "color": "#636efa"
           },
           "mode": "markers+text",
           "name": "3bc8490a0c382976",
           "showlegend": true,
           "subplot": "mapbox",
           "text": [
            "NEW ENERGY"
           ],
           "type": "scattermapbox"
          },
          {
           "hovertemplate": "vessel_id=79138d1707099e3e<br>timestamp=2024-08-05T06:00:00.000Z<br>vessel_name=%{text}<br>lat=%{lat}<br>lon=%{lon}<extra></extra>",
           "lat": [
            74.03383391
           ],
           "legendgroup": "79138d1707099e3e",
           "lon": [
            36.23821143
           ],
           "marker": {
            "color": "#EF553B"
           },
           "mode": "markers+text",
           "name": "79138d1707099e3e",
           "showlegend": true,
           "subplot": "mapbox",
           "text": [
            "ASYA ENERGY"
           ],
           "type": "scattermapbox"
          },
          {
           "hovertemplate": "vessel_id=fe16241b4f45168f<br>timestamp=2024-08-05T06:00:00.000Z<br>vessel_name=%{text}<br>lat=%{lat}<br>lon=%{lon}<extra></extra>",
           "lat": [
            31.51166998
           ],
           "legendgroup": "fe16241b4f45168f",
           "lon": [
            32.36269766
           ],
           "marker": {
            "color": "#00cc96"
           },
           "mode": "markers+text",
           "name": "fe16241b4f45168f",
           "showlegend": true,
           "subplot": "mapbox",
           "text": [
            "EVEREST ENERGY"
           ],
           "type": "scattermapbox"
          },
          {
           "hovertemplate": "vessel_id=72674aadb46c5286<br>timestamp=2024-08-05T06:00:00.000Z<br>vessel_name=%{text}<br>lat=%{lat}<br>lon=%{lon}<extra></extra>",
           "lat": [
            74.15053374
           ],
           "legendgroup": "72674aadb46c5286",
           "lon": [
            36.1837628
           ],
           "marker": {
            "color": "#ab63fa"
           },
           "mode": "markers+text",
           "name": "72674aadb46c5286",
           "showlegend": true,
           "subplot": "mapbox",
           "text": [
            "PIONEER"
           ],
           "type": "scattermapbox"
          }
         ],
         "name": "2024-08-05T06:00:00.000Z"
        },
        {
         "data": [
          {
           "hovertemplate": "vessel_id=3bc8490a0c382976<br>timestamp=2024-08-05T12:00:00.000Z<br>vessel_name=%{text}<br>lat=%{lat}<br>lon=%{lon}<extra></extra>",
           "lat": [
            31.62022797
           ],
           "legendgroup": "3bc8490a0c382976",
           "lon": [
            32.32958073
           ],
           "marker": {
            "color": "#636efa"
           },
           "mode": "markers+text",
           "name": "3bc8490a0c382976",
           "showlegend": true,
           "subplot": "mapbox",
           "text": [
            "NEW ENERGY"
           ],
           "type": "scattermapbox"
          },
          {
           "hovertemplate": "vessel_id=79138d1707099e3e<br>timestamp=2024-08-05T12:00:00.000Z<br>vessel_name=%{text}<br>lat=%{lat}<br>lon=%{lon}<extra></extra>",
           "lat": [
            74.02569206
           ],
           "legendgroup": "79138d1707099e3e",
           "lon": [
            36.15444593
           ],
           "marker": {
            "color": "#EF553B"
           },
           "mode": "markers+text",
           "name": "79138d1707099e3e",
           "showlegend": true,
           "subplot": "mapbox",
           "text": [
            "ASYA ENERGY"
           ],
           "type": "scattermapbox"
          },
          {
           "hovertemplate": "vessel_id=fe16241b4f45168f<br>timestamp=2024-08-05T12:00:00.000Z<br>vessel_name=%{text}<br>lat=%{lat}<br>lon=%{lon}<extra></extra>",
           "lat": [
            31.51166998
           ],
           "legendgroup": "fe16241b4f45168f",
           "lon": [
            32.35919568
           ],
           "marker": {
            "color": "#00cc96"
           },
           "mode": "markers+text",
           "name": "fe16241b4f45168f",
           "showlegend": true,
           "subplot": "mapbox",
           "text": [
            "EVEREST ENERGY"
           ],
           "type": "scattermapbox"
          },
          {
           "hovertemplate": "vessel_id=72674aadb46c5286<br>timestamp=2024-08-05T12:00:00.000Z<br>vessel_name=%{text}<br>lat=%{lat}<br>lon=%{lon}<extra></extra>",
           "lat": [
            74.10168265
           ],
           "legendgroup": "72674aadb46c5286",
           "lon": [
            36.73668398
           ],
           "marker": {
            "color": "#ab63fa"
           },
           "mode": "markers+text",
           "name": "72674aadb46c5286",
           "showlegend": true,
           "subplot": "mapbox",
           "text": [
            "PIONEER"
           ],
           "type": "scattermapbox"
          }
         ],
         "name": "2024-08-05T12:00:00.000Z"
        },
        {
         "data": [
          {
           "hovertemplate": "vessel_id=3bc8490a0c382976<br>timestamp=2024-08-05T18:00:00.000Z<br>vessel_name=%{text}<br>lat=%{lat}<br>lon=%{lon}<extra></extra>",
           "lat": [
            31.62022797
           ],
           "legendgroup": "3bc8490a0c382976",
           "lon": [
            32.32954773
           ],
           "marker": {
            "color": "#636efa"
           },
           "mode": "markers+text",
           "name": "3bc8490a0c382976",
           "showlegend": true,
           "subplot": "mapbox",
           "text": [
            "NEW ENERGY"
           ],
           "type": "scattermapbox"
          },
          {
           "hovertemplate": "vessel_id=79138d1707099e3e<br>timestamp=2024-08-05T18:00:00.000Z<br>vessel_name=%{text}<br>lat=%{lat}<br>lon=%{lon}<extra></extra>",
           "lat": [
            73.96327121
           ],
           "legendgroup": "79138d1707099e3e",
           "lon": [
            35.82756855
           ],
           "marker": {
            "color": "#EF553B"
           },
           "mode": "markers+text",
           "name": "79138d1707099e3e",
           "showlegend": true,
           "subplot": "mapbox",
           "text": [
            "ASYA ENERGY"
           ],
           "type": "scattermapbox"
          },
          {
           "hovertemplate": "vessel_id=fe16241b4f45168f<br>timestamp=2024-08-05T18:00:00.000Z<br>vessel_name=%{text}<br>lat=%{lat}<br>lon=%{lon}<extra></extra>",
           "lat": [
            31.51166998
           ],
           "legendgroup": "fe16241b4f45168f",
           "lon": [
            32.35920491
           ],
           "marker": {
            "color": "#00cc96"
           },
           "mode": "markers+text",
           "name": "fe16241b4f45168f",
           "showlegend": true,
           "subplot": "mapbox",
           "text": [
            "EVEREST ENERGY"
           ],
           "type": "scattermapbox"
          },
          {
           "hovertemplate": "vessel_id=72674aadb46c5286<br>timestamp=2024-08-05T18:00:00.000Z<br>vessel_name=%{text}<br>lat=%{lat}<br>lon=%{lon}<extra></extra>",
           "lat": [
            73.89542247
           ],
           "legendgroup": "72674aadb46c5286",
           "lon": [
            36.14217407
           ],
           "marker": {
            "color": "#ab63fa"
           },
           "mode": "markers+text",
           "name": "72674aadb46c5286",
           "showlegend": true,
           "subplot": "mapbox",
           "text": [
            "PIONEER"
           ],
           "type": "scattermapbox"
          }
         ],
         "name": "2024-08-05T18:00:00.000Z"
        },
        {
         "data": [
          {
           "hovertemplate": "vessel_id=3bc8490a0c382976<br>timestamp=2024-08-06T00:00:00.000Z<br>vessel_name=%{text}<br>lat=%{lat}<br>lon=%{lon}<extra></extra>",
           "lat": [
            31.62022797
           ],
           "legendgroup": "3bc8490a0c382976",
           "lon": [
            32.33026108
           ],
           "marker": {
            "color": "#636efa"
           },
           "mode": "markers+text",
           "name": "3bc8490a0c382976",
           "showlegend": true,
           "subplot": "mapbox",
           "text": [
            "NEW ENERGY"
           ],
           "type": "scattermapbox"
          },
          {
           "hovertemplate": "vessel_id=79138d1707099e3e<br>timestamp=2024-08-06T00:00:00.000Z<br>vessel_name=%{text}<br>lat=%{lat}<br>lon=%{lon}<extra></extra>",
           "lat": [
            73.97141306
           ],
           "legendgroup": "79138d1707099e3e",
           "lon": [
            35.8370386
           ],
           "marker": {
            "color": "#EF553B"
           },
           "mode": "markers+text",
           "name": "79138d1707099e3e",
           "showlegend": true,
           "subplot": "mapbox",
           "text": [
            "ASYA ENERGY"
           ],
           "type": "scattermapbox"
          },
          {
           "hovertemplate": "vessel_id=fe16241b4f45168f<br>timestamp=2024-08-06T00:00:00.000Z<br>vessel_name=%{text}<br>lat=%{lat}<br>lon=%{lon}<extra></extra>",
           "lat": [
            31.51438393
           ],
           "legendgroup": "fe16241b4f45168f",
           "lon": [
            32.36321598
           ],
           "marker": {
            "color": "#00cc96"
           },
           "mode": "markers+text",
           "name": "fe16241b4f45168f",
           "showlegend": true,
           "subplot": "mapbox",
           "text": [
            "EVEREST ENERGY"
           ],
           "type": "scattermapbox"
          },
          {
           "hovertemplate": "vessel_id=72674aadb46c5286<br>timestamp=2024-08-06T00:00:00.000Z<br>vessel_name=%{text}<br>lat=%{lat}<br>lon=%{lon}<extra></extra>",
           "lat": [
            73.86014113
           ],
           "legendgroup": "72674aadb46c5286",
           "lon": [
            35.48591014
           ],
           "marker": {
            "color": "#ab63fa"
           },
           "mode": "markers+text",
           "name": "72674aadb46c5286",
           "showlegend": true,
           "subplot": "mapbox",
           "text": [
            "PIONEER"
           ],
           "type": "scattermapbox"
          }
         ],
         "name": "2024-08-06T00:00:00.000Z"
        },
        {
         "data": [
          {
           "hovertemplate": "vessel_id=3bc8490a0c382976<br>timestamp=2024-08-06T06:00:00.000Z<br>vessel_name=%{text}<br>lat=%{lat}<br>lon=%{lon}<extra></extra>",
           "lat": [
            31.59851637
           ],
           "legendgroup": "3bc8490a0c382976",
           "lon": [
            32.30622459
           ],
           "marker": {
            "color": "#636efa"
           },
           "mode": "markers+text",
           "name": "3bc8490a0c382976",
           "showlegend": true,
           "subplot": "mapbox",
           "text": [
            "NEW ENERGY"
           ],
           "type": "scattermapbox"
          },
          {
           "hovertemplate": "vessel_id=79138d1707099e3e<br>timestamp=2024-08-06T06:00:00.000Z<br>vessel_name=%{text}<br>lat=%{lat}<br>lon=%{lon}<extra></extra>",
           "lat": [
            74.07997105
           ],
           "legendgroup": "79138d1707099e3e",
           "lon": [
            36.03495487
           ],
           "marker": {
            "color": "#EF553B"
           },
           "mode": "markers+text",
           "name": "79138d1707099e3e",
           "showlegend": true,
           "subplot": "mapbox",
           "text": [
            "ASYA ENERGY"
           ],
           "type": "scattermapbox"
          },
          {
           "hovertemplate": "vessel_id=fe16241b4f45168f<br>timestamp=2024-08-06T06:00:00.000Z<br>vessel_name=%{text}<br>lat=%{lat}<br>lon=%{lon}<extra></extra>",
           "lat": [
            31.59851637
           ],
           "legendgroup": "fe16241b4f45168f",
           "lon": [
            32.30005017
           ],
           "marker": {
            "color": "#00cc96"
           },
           "mode": "markers+text",
           "name": "fe16241b4f45168f",
           "showlegend": true,
           "subplot": "mapbox",
           "text": [
            "EVEREST ENERGY"
           ],
           "type": "scattermapbox"
          },
          {
           "hovertemplate": "vessel_id=72674aadb46c5286<br>timestamp=2024-08-06T06:00:00.000Z<br>vessel_name=%{text}<br>lat=%{lat}<br>lon=%{lon}<extra></extra>",
           "lat": [
            74.0555455
           ],
           "legendgroup": "72674aadb46c5286",
           "lon": [
            35.96016042
           ],
           "marker": {
            "color": "#ab63fa"
           },
           "mode": "markers+text",
           "name": "72674aadb46c5286",
           "showlegend": true,
           "subplot": "mapbox",
           "text": [
            "PIONEER"
           ],
           "type": "scattermapbox"
          }
         ],
         "name": "2024-08-06T06:00:00.000Z"
        },
        {
         "data": [
          {
           "hovertemplate": "vessel_id=3bc8490a0c382976<br>timestamp=2024-08-06T12:00:00.000Z<br>vessel_name=%{text}<br>lat=%{lat}<br>lon=%{lon}<extra></extra>",
           "lat": [
            31.63922562
           ],
           "legendgroup": "3bc8490a0c382976",
           "lon": [
            32.26658202
           ],
           "marker": {
            "color": "#636efa"
           },
           "mode": "markers+text",
           "name": "3bc8490a0c382976",
           "showlegend": true,
           "subplot": "mapbox",
           "text": [
            "NEW ENERGY"
           ],
           "type": "scattermapbox"
          },
          {
           "hovertemplate": "vessel_id=79138d1707099e3e<br>timestamp=2024-08-06T12:00:00.000Z<br>vessel_name=%{text}<br>lat=%{lat}<br>lon=%{lon}<extra></extra>",
           "lat": [
            74.0501176
           ],
           "legendgroup": "79138d1707099e3e",
           "lon": [
            35.95762906
           ],
           "marker": {
            "color": "#EF553B"
           },
           "mode": "markers+text",
           "name": "79138d1707099e3e",
           "showlegend": true,
           "subplot": "mapbox",
           "text": [
            "ASYA ENERGY"
           ],
           "type": "scattermapbox"
          },
          {
           "hovertemplate": "vessel_id=fe16241b4f45168f<br>timestamp=2024-08-06T12:00:00.000Z<br>vessel_name=%{text}<br>lat=%{lat}<br>lon=%{lon}<extra></extra>",
           "lat": [
            31.64193957
           ],
           "legendgroup": "fe16241b4f45168f",
           "lon": [
            32.26749063
           ],
           "marker": {
            "color": "#00cc96"
           },
           "mode": "markers+text",
           "name": "fe16241b4f45168f",
           "showlegend": true,
           "subplot": "mapbox",
           "text": [
            "EVEREST ENERGY"
           ],
           "type": "scattermapbox"
          },
          {
           "hovertemplate": "vessel_id=72674aadb46c5286<br>timestamp=2024-08-06T12:00:00.000Z<br>vessel_name=%{text}<br>lat=%{lat}<br>lon=%{lon}<extra></extra>",
           "lat": [
            73.83571558
           ],
           "legendgroup": "72674aadb46c5286",
           "lon": [
            35.0970123
           ],
           "marker": {
            "color": "#ab63fa"
           },
           "mode": "markers+text",
           "name": "72674aadb46c5286",
           "showlegend": true,
           "subplot": "mapbox",
           "text": [
            "PIONEER"
           ],
           "type": "scattermapbox"
          }
         ],
         "name": "2024-08-06T12:00:00.000Z"
        },
        {
         "data": [
          {
           "hovertemplate": "vessel_id=79138d1707099e3e<br>timestamp=2024-08-06T18:00:00.000Z<br>vessel_name=%{text}<br>lat=%{lat}<br>lon=%{lon}<extra></extra>",
           "lat": [
            74.15867559
           ],
           "legendgroup": "79138d1707099e3e",
           "lon": [
            36.12900622
           ],
           "marker": {
            "color": "#EF553B"
           },
           "mode": "markers+text",
           "name": "79138d1707099e3e",
           "showlegend": true,
           "subplot": "mapbox",
           "text": [
            "ASYA ENERGY"
           ],
           "type": "scattermapbox"
          },
          {
           "hovertemplate": "vessel_id=fe16241b4f45168f<br>timestamp=2024-08-06T18:00:00.000Z<br>vessel_name=%{text}<br>lat=%{lat}<br>lon=%{lon}<extra></extra>",
           "lat": [
            31.64193957
           ],
           "legendgroup": "fe16241b4f45168f",
           "lon": [
            32.2675797
           ],
           "marker": {
            "color": "#00cc96"
           },
           "mode": "markers+text",
           "name": "fe16241b4f45168f",
           "showlegend": true,
           "subplot": "mapbox",
           "text": [
            "EVEREST ENERGY"
           ],
           "type": "scattermapbox"
          },
          {
           "hovertemplate": "vessel_id=72674aadb46c5286<br>timestamp=2024-08-06T18:00:00.000Z<br>vessel_name=%{text}<br>lat=%{lat}<br>lon=%{lon}<extra></extra>",
           "lat": [
            73.56974851
           ],
           "legendgroup": "72674aadb46c5286",
           "lon": [
            32.78855391
           ],
           "marker": {
            "color": "#ab63fa"
           },
           "mode": "markers+text",
           "name": "72674aadb46c5286",
           "showlegend": true,
           "subplot": "mapbox",
           "text": [
            "PIONEER"
           ],
           "type": "scattermapbox"
          }
         ],
         "name": "2024-08-06T18:00:00.000Z"
        },
        {
         "data": [
          {
           "hovertemplate": "vessel_id=79138d1707099e3e<br>timestamp=2024-08-07T00:00:00.000Z<br>vessel_name=%{text}<br>lat=%{lat}<br>lon=%{lon}<extra></extra>",
           "lat": [
            74.14781979
           ],
           "legendgroup": "79138d1707099e3e",
           "lon": [
            36.1229693
           ],
           "marker": {
            "color": "#EF553B"
           },
           "mode": "markers+text",
           "name": "79138d1707099e3e",
           "showlegend": true,
           "subplot": "mapbox",
           "text": [
            "ASYA ENERGY"
           ],
           "type": "scattermapbox"
          },
          {
           "hovertemplate": "vessel_id=fe16241b4f45168f<br>timestamp=2024-08-07T00:00:00.000Z<br>vessel_name=%{text}<br>lat=%{lat}<br>lon=%{lon}<extra></extra>",
           "lat": [
            31.73692781
           ],
           "legendgroup": "fe16241b4f45168f",
           "lon": [
            32.00667683
           ],
           "marker": {
            "color": "#00cc96"
           },
           "mode": "markers+text",
           "name": "fe16241b4f45168f",
           "showlegend": true,
           "subplot": "mapbox",
           "text": [
            "EVEREST ENERGY"
           ],
           "type": "scattermapbox"
          },
          {
           "hovertemplate": "vessel_id=72674aadb46c5286<br>timestamp=2024-08-07T00:00:00.000Z<br>vessel_name=%{text}<br>lat=%{lat}<br>lon=%{lon}<extra></extra>",
           "lat": [
            72.87226343
           ],
           "legendgroup": "72674aadb46c5286",
           "lon": [
            28.07895482
           ],
           "marker": {
            "color": "#ab63fa"
           },
           "mode": "markers+text",
           "name": "72674aadb46c5286",
           "showlegend": true,
           "subplot": "mapbox",
           "text": [
            "PIONEER"
           ],
           "type": "scattermapbox"
          }
         ],
         "name": "2024-08-07T00:00:00.000Z"
        },
        {
         "data": [
          {
           "hovertemplate": "vessel_id=79138d1707099e3e<br>timestamp=2024-08-07T06:00:00.000Z<br>vessel_name=%{text}<br>lat=%{lat}<br>lon=%{lon}<extra></extra>",
           "lat": [
            74.26180568
           ],
           "legendgroup": "79138d1707099e3e",
           "lon": [
            36.32014142
           ],
           "marker": {
            "color": "#EF553B"
           },
           "mode": "markers+text",
           "name": "79138d1707099e3e",
           "showlegend": true,
           "subplot": "mapbox",
           "text": [
            "ASYA ENERGY"
           ],
           "type": "scattermapbox"
          },
          {
           "hovertemplate": "vessel_id=fe16241b4f45168f<br>timestamp=2024-08-07T06:00:00.000Z<br>vessel_name=%{text}<br>lat=%{lat}<br>lon=%{lon}<extra></extra>",
           "lat": [
            32.46426633
           ],
           "legendgroup": "fe16241b4f45168f",
           "lon": [
            30.37483219
           ],
           "marker": {
            "color": "#00cc96"
           },
           "mode": "markers+text",
           "name": "fe16241b4f45168f",
           "showlegend": true,
           "subplot": "mapbox",
           "text": [
            "EVEREST ENERGY"
           ],
           "type": "scattermapbox"
          },
          {
           "hovertemplate": "vessel_id=72674aadb46c5286<br>timestamp=2024-08-07T06:00:00.000Z<br>vessel_name=%{text}<br>lat=%{lat}<br>lon=%{lon}<extra></extra>",
           "lat": [
            72.18020626
           ],
           "legendgroup": "72674aadb46c5286",
           "lon": [
            23.34021322
           ],
           "marker": {
            "color": "#ab63fa"
           },
           "mode": "markers+text",
           "name": "72674aadb46c5286",
           "showlegend": true,
           "subplot": "mapbox",
           "text": [
            "PIONEER"
           ],
           "type": "scattermapbox"
          }
         ],
         "name": "2024-08-07T06:00:00.000Z"
        },
        {
         "data": [
          {
           "hovertemplate": "vessel_id=3bc8490a0c382976<br>timestamp=2024-08-07T12:00:00.000Z<br>vessel_name=%{text}<br>lat=%{lat}<br>lon=%{lon}<extra></extra>",
           "lat": [
            31.61751402
           ],
           "legendgroup": "3bc8490a0c382976",
           "lon": [
            32.3290035
           ],
           "marker": {
            "color": "#636efa"
           },
           "mode": "markers+text",
           "name": "3bc8490a0c382976",
           "showlegend": true,
           "subplot": "mapbox",
           "text": [
            "NEW ENERGY"
           ],
           "type": "scattermapbox"
          },
          {
           "hovertemplate": "vessel_id=79138d1707099e3e<br>timestamp=2024-08-07T12:00:00.000Z<br>vessel_name=%{text}<br>lat=%{lat}<br>lon=%{lon}<extra></extra>",
           "lat": [
            74.27537543
           ],
           "legendgroup": "79138d1707099e3e",
           "lon": [
            36.34264244
           ],
           "marker": {
            "color": "#EF553B"
           },
           "mode": "markers+text",
           "name": "79138d1707099e3e",
           "showlegend": true,
           "subplot": "mapbox",
           "text": [
            "ASYA ENERGY"
           ],
           "type": "scattermapbox"
          },
          {
           "hovertemplate": "vessel_id=fe16241b4f45168f<br>timestamp=2024-08-07T12:00:00.000Z<br>vessel_name=%{text}<br>lat=%{lat}<br>lon=%{lon}<extra></extra>",
           "lat": [
            32.88492853
           ],
           "legendgroup": "fe16241b4f45168f",
           "lon": [
            28.52087754
           ],
           "marker": {
            "color": "#00cc96"
           },
           "mode": "markers+text",
           "name": "fe16241b4f45168f",
           "showlegend": true,
           "subplot": "mapbox",
           "text": [
            "EVEREST ENERGY"
           ],
           "type": "scattermapbox"
          },
          {
           "hovertemplate": "vessel_id=72674aadb46c5286<br>timestamp=2024-08-07T12:00:00.000Z<br>vessel_name=%{text}<br>lat=%{lat}<br>lon=%{lon}<extra></extra>",
           "lat": [
            71.61299077
           ],
           "legendgroup": "72674aadb46c5286",
           "lon": [
            19.00648464
           ],
           "marker": {
            "color": "#ab63fa"
           },
           "mode": "markers+text",
           "name": "72674aadb46c5286",
           "showlegend": true,
           "subplot": "mapbox",
           "text": [
            "PIONEER"
           ],
           "type": "scattermapbox"
          }
         ],
         "name": "2024-08-07T12:00:00.000Z"
        },
        {
         "data": [
          {
           "hovertemplate": "vessel_id=3bc8490a0c382976<br>timestamp=2024-08-07T18:00:00.000Z<br>vessel_name=%{text}<br>lat=%{lat}<br>lon=%{lon}<extra></extra>",
           "lat": [
            31.61751402
           ],
           "legendgroup": "3bc8490a0c382976",
           "lon": [
            32.32922524
           ],
           "marker": {
            "color": "#636efa"
           },
           "mode": "markers+text",
           "name": "3bc8490a0c382976",
           "showlegend": true,
           "subplot": "mapbox",
           "text": [
            "NEW ENERGY"
           ],
           "type": "scattermapbox"
          },
          {
           "hovertemplate": "vessel_id=79138d1707099e3e<br>timestamp=2024-08-07T18:00:00.000Z<br>vessel_name=%{text}<br>lat=%{lat}<br>lon=%{lon}<extra></extra>",
           "lat": [
            74.37850552
           ],
           "legendgroup": "79138d1707099e3e",
           "lon": [
            36.3915896
           ],
           "marker": {
            "color": "#EF553B"
           },
           "mode": "markers+text",
           "name": "79138d1707099e3e",
           "showlegend": true,
           "subplot": "mapbox",
           "text": [
            "ASYA ENERGY"
           ],
           "type": "scattermapbox"
          },
          {
           "hovertemplate": "vessel_id=fe16241b4f45168f<br>timestamp=2024-08-07T18:00:00.000Z<br>vessel_name=%{text}<br>lat=%{lat}<br>lon=%{lon}<extra></extra>",
           "lat": [
            33.34358603
           ],
           "legendgroup": "fe16241b4f45168f",
           "lon": [
            26.70787874
           ],
           "marker": {
            "color": "#00cc96"
           },
           "mode": "markers+text",
           "name": "fe16241b4f45168f",
           "showlegend": true,
           "subplot": "mapbox",
           "text": [
            "EVEREST ENERGY"
           ],
           "type": "scattermapbox"
          },
          {
           "hovertemplate": "vessel_id=72674aadb46c5286<br>timestamp=2024-08-07T18:00:00.000Z<br>vessel_name=%{text}<br>lat=%{lat}<br>lon=%{lon}<extra></extra>",
           "lat": [
            70.74724082
           ],
           "legendgroup": "72674aadb46c5286",
           "lon": [
            15.5800811
           ],
           "marker": {
            "color": "#ab63fa"
           },
           "mode": "markers+text",
           "name": "72674aadb46c5286",
           "showlegend": true,
           "subplot": "mapbox",
           "text": [
            "PIONEER"
           ],
           "type": "scattermapbox"
          }
         ],
         "name": "2024-08-07T18:00:00.000Z"
        },
        {
         "data": [
          {
           "hovertemplate": "vessel_id=3bc8490a0c382976<br>timestamp=2024-08-08T00:00:00.000Z<br>vessel_name=%{text}<br>lat=%{lat}<br>lon=%{lon}<extra></extra>",
           "lat": [
            31.61751402
           ],
           "legendgroup": "3bc8490a0c382976",
           "lon": [
            32.32920556
           ],
           "marker": {
            "color": "#636efa"
           },
           "mode": "markers+text",
           "name": "3bc8490a0c382976",
           "showlegend": true,
           "subplot": "mapbox",
           "text": [
            "NEW ENERGY"
           ],
           "type": "scattermapbox"
          },
          {
           "hovertemplate": "vessel_id=79138d1707099e3e<br>timestamp=2024-08-08T00:00:00.000Z<br>vessel_name=%{text}<br>lat=%{lat}<br>lon=%{lon}<extra></extra>",
           "lat": [
            74.47892166
           ],
           "legendgroup": "79138d1707099e3e",
           "lon": [
            36.30098392
           ],
           "marker": {
            "color": "#EF553B"
           },
           "mode": "markers+text",
           "name": "79138d1707099e3e",
           "showlegend": true,
           "subplot": "mapbox",
           "text": [
            "ASYA ENERGY"
           ],
           "type": "scattermapbox"
          },
          {
           "hovertemplate": "vessel_id=fe16241b4f45168f<br>timestamp=2024-08-08T00:00:00.000Z<br>vessel_name=%{text}<br>lat=%{lat}<br>lon=%{lon}<extra></extra>",
           "lat": [
            33.78595983
           ],
           "legendgroup": "fe16241b4f45168f",
           "lon": [
            24.87292787
           ],
           "marker": {
            "color": "#00cc96"
           },
           "mode": "markers+text",
           "name": "fe16241b4f45168f",
           "showlegend": true,
           "subplot": "mapbox",
           "text": [
            "EVEREST ENERGY"
           ],
           "type": "scattermapbox"
          },
          {
           "hovertemplate": "vessel_id=72674aadb46c5286<br>timestamp=2024-08-08T00:00:00.000Z<br>vessel_name=%{text}<br>lat=%{lat}<br>lon=%{lon}<extra></extra>",
           "lat": [
            69.87606296
           ],
           "legendgroup": "72674aadb46c5286",
           "lon": [
            12.72301642
           ],
           "marker": {
            "color": "#ab63fa"
           },
           "mode": "markers+text",
           "name": "72674aadb46c5286",
           "showlegend": true,
           "subplot": "mapbox",
           "text": [
            "PIONEER"
           ],
           "type": "scattermapbox"
          }
         ],
         "name": "2024-08-08T00:00:00.000Z"
        },
        {
         "data": [
          {
           "hovertemplate": "vessel_id=3bc8490a0c382976<br>timestamp=2024-08-08T06:00:00.000Z<br>vessel_name=%{text}<br>lat=%{lat}<br>lon=%{lon}<extra></extra>",
           "lat": [
            31.61751402
           ],
           "legendgroup": "3bc8490a0c382976",
           "lon": [
            32.32915172
           ],
           "marker": {
            "color": "#636efa"
           },
           "mode": "markers+text",
           "name": "3bc8490a0c382976",
           "showlegend": true,
           "subplot": "mapbox",
           "text": [
            "NEW ENERGY"
           ],
           "type": "scattermapbox"
          },
          {
           "hovertemplate": "vessel_id=79138d1707099e3e<br>timestamp=2024-08-08T06:00:00.000Z<br>vessel_name=%{text}<br>lat=%{lat}<br>lon=%{lon}<extra></extra>",
           "lat": [
            74.48977746
           ],
           "legendgroup": "79138d1707099e3e",
           "lon": [
            36.11068157
           ],
           "marker": {
            "color": "#EF553B"
           },
           "mode": "markers+text",
           "name": "79138d1707099e3e",
           "showlegend": true,
           "subplot": "mapbox",
           "text": [
            "ASYA ENERGY"
           ],
           "type": "scattermapbox"
          },
          {
           "hovertemplate": "vessel_id=fe16241b4f45168f<br>timestamp=2024-08-08T06:00:00.000Z<br>vessel_name=%{text}<br>lat=%{lat}<br>lon=%{lon}<extra></extra>",
           "lat": [
            34.25547313
           ],
           "legendgroup": "fe16241b4f45168f",
           "lon": [
            22.9387272
           ],
           "marker": {
            "color": "#00cc96"
           },
           "mode": "markers+text",
           "name": "fe16241b4f45168f",
           "showlegend": true,
           "subplot": "mapbox",
           "text": [
            "EVEREST ENERGY"
           ],
           "type": "scattermapbox"
          },
          {
           "hovertemplate": "vessel_id=72674aadb46c5286<br>timestamp=2024-08-08T06:00:00.000Z<br>vessel_name=%{text}<br>lat=%{lat}<br>lon=%{lon}<extra></extra>",
           "lat": [
            68.98317351
           ],
           "legendgroup": "72674aadb46c5286",
           "lon": [
            9.90565774
           ],
           "marker": {
            "color": "#ab63fa"
           },
           "mode": "markers+text",
           "name": "72674aadb46c5286",
           "showlegend": true,
           "subplot": "mapbox",
           "text": [
            "PIONEER"
           ],
           "type": "scattermapbox"
          }
         ],
         "name": "2024-08-08T06:00:00.000Z"
        },
        {
         "data": [
          {
           "hovertemplate": "vessel_id=3bc8490a0c382976<br>timestamp=2024-08-08T12:00:00.000Z<br>vessel_name=%{text}<br>lat=%{lat}<br>lon=%{lon}<extra></extra>",
           "lat": [
            31.57409083
           ],
           "legendgroup": "3bc8490a0c382976",
           "lon": [
            32.36188031
           ],
           "marker": {
            "color": "#636efa"
           },
           "mode": "markers+text",
           "name": "3bc8490a0c382976",
           "showlegend": true,
           "subplot": "mapbox",
           "text": [
            "NEW ENERGY"
           ],
           "type": "scattermapbox"
          },
          {
           "hovertemplate": "vessel_id=79138d1707099e3e<br>timestamp=2024-08-08T12:00:00.000Z<br>vessel_name=%{text}<br>lat=%{lat}<br>lon=%{lon}<extra></extra>",
           "lat": [
            74.37579157
           ],
           "legendgroup": "79138d1707099e3e",
           "lon": [
            36.07688662
           ],
           "marker": {
            "color": "#EF553B"
           },
           "mode": "markers+text",
           "name": "79138d1707099e3e",
           "showlegend": true,
           "subplot": "mapbox",
           "text": [
            "ASYA ENERGY"
           ],
           "type": "scattermapbox"
          },
          {
           "hovertemplate": "vessel_id=fe16241b4f45168f<br>timestamp=2024-08-08T12:00:00.000Z<br>vessel_name=%{text}<br>lat=%{lat}<br>lon=%{lon}<extra></extra>",
           "lat": [
            34.71413063
           ],
           "legendgroup": "fe16241b4f45168f",
           "lon": [
            21.04813016
           ],
           "marker": {
            "color": "#00cc96"
           },
           "mode": "markers+text",
           "name": "fe16241b4f45168f",
           "showlegend": true,
           "subplot": "mapbox",
           "text": [
            "EVEREST ENERGY"
           ],
           "type": "scattermapbox"
          },
          {
           "hovertemplate": "vessel_id=72674aadb46c5286<br>timestamp=2024-08-08T12:00:00.000Z<br>vessel_name=%{text}<br>lat=%{lat}<br>lon=%{lon}<extra></extra>",
           "lat": [
            67.94101683
           ],
           "legendgroup": "72674aadb46c5286",
           "lon": [
            7.38557806
           ],
           "marker": {
            "color": "#ab63fa"
           },
           "mode": "markers+text",
           "name": "72674aadb46c5286",
           "showlegend": true,
           "subplot": "mapbox",
           "text": [
            "PIONEER"
           ],
           "type": "scattermapbox"
          }
         ],
         "name": "2024-08-08T12:00:00.000Z"
        },
        {
         "data": [
          {
           "hovertemplate": "vessel_id=3bc8490a0c382976<br>timestamp=2024-08-08T18:00:00.000Z<br>vessel_name=%{text}<br>lat=%{lat}<br>lon=%{lon}<extra></extra>",
           "lat": [
            31.4085399
           ],
           "legendgroup": "3bc8490a0c382976",
           "lon": [
            32.27890677
           ],
           "marker": {
            "color": "#636efa"
           },
           "mode": "markers+text",
           "name": "3bc8490a0c382976",
           "showlegend": true,
           "subplot": "mapbox",
           "text": [
            "NEW ENERGY"
           ],
           "type": "scattermapbox"
          },
          {
           "hovertemplate": "vessel_id=79138d1707099e3e<br>timestamp=2024-08-08T18:00:00.000Z<br>vessel_name=%{text}<br>lat=%{lat}<br>lon=%{lon}<extra></extra>",
           "lat": [
            74.29437308
           ],
           "legendgroup": "79138d1707099e3e",
           "lon": [
            36.10452197
           ],
           "marker": {
            "color": "#EF553B"
           },
           "mode": "markers+text",
           "name": "79138d1707099e3e",
           "showlegend": true,
           "subplot": "mapbox",
           "text": [
            "ASYA ENERGY"
           ],
           "type": "scattermapbox"
          },
          {
           "hovertemplate": "vessel_id=fe16241b4f45168f<br>timestamp=2024-08-08T18:00:00.000Z<br>vessel_name=%{text}<br>lat=%{lat}<br>lon=%{lon}<extra></extra>",
           "lat": [
            35.17007418
           ],
           "legendgroup": "fe16241b4f45168f",
           "lon": [
            19.13692122
           ],
           "marker": {
            "color": "#00cc96"
           },
           "mode": "markers+text",
           "name": "fe16241b4f45168f",
           "showlegend": true,
           "subplot": "mapbox",
           "text": [
            "EVEREST ENERGY"
           ],
           "type": "scattermapbox"
          },
          {
           "hovertemplate": "vessel_id=72674aadb46c5286<br>timestamp=2024-08-08T18:00:00.000Z<br>vessel_name=%{text}<br>lat=%{lat}<br>lon=%{lon}<extra></extra>",
           "lat": [
            66.97756468
           ],
           "legendgroup": "72674aadb46c5286",
           "lon": [
            5.34315877
           ],
           "marker": {
            "color": "#ab63fa"
           },
           "mode": "markers+text",
           "name": "72674aadb46c5286",
           "showlegend": true,
           "subplot": "mapbox",
           "text": [
            "PIONEER"
           ],
           "type": "scattermapbox"
          }
         ],
         "name": "2024-08-08T18:00:00.000Z"
        },
        {
         "data": [
          {
           "hovertemplate": "vessel_id=3bc8490a0c382976<br>timestamp=2024-08-09T00:00:00.000Z<br>vessel_name=%{text}<br>lat=%{lat}<br>lon=%{lon}<extra></extra>",
           "lat": [
            31.4085399
           ],
           "legendgroup": "3bc8490a0c382976",
           "lon": [
            32.27563002
           ],
           "marker": {
            "color": "#636efa"
           },
           "mode": "markers+text",
           "name": "3bc8490a0c382976",
           "showlegend": true,
           "subplot": "mapbox",
           "text": [
            "NEW ENERGY"
           ],
           "type": "scattermapbox"
          },
          {
           "hovertemplate": "vessel_id=79138d1707099e3e<br>timestamp=2024-08-09T00:00:00.000Z<br>vessel_name=%{text}<br>lat=%{lat}<br>lon=%{lon}<extra></extra>",
           "lat": [
            74.33236837
           ],
           "legendgroup": "79138d1707099e3e",
           "lon": [
            36.08009022
           ],
           "marker": {
            "color": "#EF553B"
           },
           "mode": "markers+text",
           "name": "79138d1707099e3e",
           "showlegend": true,
           "subplot": "mapbox",
           "text": [
            "ASYA ENERGY"
           ],
           "type": "scattermapbox"
          },
          {
           "hovertemplate": "vessel_id=fe16241b4f45168f<br>timestamp=2024-08-09T00:00:00.000Z<br>vessel_name=%{text}<br>lat=%{lat}<br>lon=%{lon}<extra></extra>",
           "lat": [
            35.64772933
           ],
           "legendgroup": "fe16241b4f45168f",
           "lon": [
            17.15291348
           ],
           "marker": {
            "color": "#00cc96"
           },
           "mode": "markers+text",
           "name": "fe16241b4f45168f",
           "showlegend": true,
           "subplot": "mapbox",
           "text": [
            "EVEREST ENERGY"
           ],
           "type": "scattermapbox"
          },
          {
           "hovertemplate": "vessel_id=72674aadb46c5286<br>timestamp=2024-08-09T00:00:00.000Z<br>vessel_name=%{text}<br>lat=%{lat}<br>lon=%{lon}<extra></extra>",
           "lat": [
            66.03582414
           ],
           "legendgroup": "72674aadb46c5286",
           "lon": [
            3.42769533
           ],
           "marker": {
            "color": "#ab63fa"
           },
           "mode": "markers+text",
           "name": "72674aadb46c5286",
           "showlegend": true,
           "subplot": "mapbox",
           "text": [
            "PIONEER"
           ],
           "type": "scattermapbox"
          }
         ],
         "name": "2024-08-09T00:00:00.000Z"
        },
        {
         "data": [
          {
           "hovertemplate": "vessel_id=3bc8490a0c382976<br>timestamp=2024-08-09T06:00:00.000Z<br>vessel_name=%{text}<br>lat=%{lat}<br>lon=%{lon}<extra></extra>",
           "lat": [
            31.4085399
           ],
           "legendgroup": "3bc8490a0c382976",
           "lon": [
            32.27562027
           ],
           "marker": {
            "color": "#636efa"
           },
           "mode": "markers+text",
           "name": "3bc8490a0c382976",
           "showlegend": true,
           "subplot": "mapbox",
           "text": [
            "NEW ENERGY"
           ],
           "type": "scattermapbox"
          },
          {
           "hovertemplate": "vessel_id=79138d1707099e3e<br>timestamp=2024-08-09T06:00:00.000Z<br>vessel_name=%{text}<br>lat=%{lat}<br>lon=%{lon}<extra></extra>",
           "lat": [
            74.22109644
           ],
           "legendgroup": "79138d1707099e3e",
           "lon": [
            36.13058775
           ],
           "marker": {
            "color": "#EF553B"
           },
           "mode": "markers+text",
           "name": "79138d1707099e3e",
           "showlegend": true,
           "subplot": "mapbox",
           "text": [
            "ASYA ENERGY"
           ],
           "type": "scattermapbox"
          },
          {
           "hovertemplate": "vessel_id=fe16241b4f45168f<br>timestamp=2024-08-09T06:00:00.000Z<br>vessel_name=%{text}<br>lat=%{lat}<br>lon=%{lon}<extra></extra>",
           "lat": [
            36.07653338
           ],
           "legendgroup": "fe16241b4f45168f",
           "lon": [
            15.25155617
           ],
           "marker": {
            "color": "#00cc96"
           },
           "mode": "markers+text",
           "name": "fe16241b4f45168f",
           "showlegend": true,
           "subplot": "mapbox",
           "text": [
            "EVEREST ENERGY"
           ],
           "type": "scattermapbox"
          },
          {
           "hovertemplate": "vessel_id=72674aadb46c5286<br>timestamp=2024-08-09T06:00:00.000Z<br>vessel_name=%{text}<br>lat=%{lat}<br>lon=%{lon}<extra></extra>",
           "lat": [
            65.0072372
           ],
           "legendgroup": "72674aadb46c5286",
           "lon": [
            1.1818973
           ],
           "marker": {
            "color": "#ab63fa"
           },
           "mode": "markers+text",
           "name": "72674aadb46c5286",
           "showlegend": true,
           "subplot": "mapbox",
           "text": [
            "PIONEER"
           ],
           "type": "scattermapbox"
          }
         ],
         "name": "2024-08-09T06:00:00.000Z"
        },
        {
         "data": [
          {
           "hovertemplate": "vessel_id=3bc8490a0c382976<br>timestamp=2024-08-09T12:00:00.000Z<br>vessel_name=%{text}<br>lat=%{lat}<br>lon=%{lon}<extra></extra>",
           "lat": [
            31.4085399
           ],
           "legendgroup": "3bc8490a0c382976",
           "lon": [
            32.2754397
           ],
           "marker": {
            "color": "#636efa"
           },
           "mode": "markers+text",
           "name": "3bc8490a0c382976",
           "showlegend": true,
           "subplot": "mapbox",
           "text": [
            "NEW ENERGY"
           ],
           "type": "scattermapbox"
          },
          {
           "hovertemplate": "vessel_id=79138d1707099e3e<br>timestamp=2024-08-09T12:00:00.000Z<br>vessel_name=%{text}<br>lat=%{lat}<br>lon=%{lon}<extra></extra>",
           "lat": [
            74.10711055
           ],
           "legendgroup": "79138d1707099e3e",
           "lon": [
            36.25612474
           ],
           "marker": {
            "color": "#EF553B"
           },
           "mode": "markers+text",
           "name": "79138d1707099e3e",
           "showlegend": true,
           "subplot": "mapbox",
           "text": [
            "ASYA ENERGY"
           ],
           "type": "scattermapbox"
          },
          {
           "hovertemplate": "vessel_id=fe16241b4f45168f<br>timestamp=2024-08-09T12:00:00.000Z<br>vessel_name=%{text}<br>lat=%{lat}<br>lon=%{lon}<extra></extra>",
           "lat": [
            36.61389542
           ],
           "legendgroup": "fe16241b4f45168f",
           "lon": [
            13.38243632
           ],
           "marker": {
            "color": "#00cc96"
           },
           "mode": "markers+text",
           "name": "fe16241b4f45168f",
           "showlegend": true,
           "subplot": "mapbox",
           "text": [
            "EVEREST ENERGY"
           ],
           "type": "scattermapbox"
          },
          {
           "hovertemplate": "vessel_id=72674aadb46c5286<br>timestamp=2024-08-09T12:00:00.000Z<br>vessel_name=%{text}<br>lat=%{lat}<br>lon=%{lon}<extra></extra>",
           "lat": [
            63.78053193
           ],
           "legendgroup": "72674aadb46c5286",
           "lon": [
            -0.92759837
           ],
           "marker": {
            "color": "#ab63fa"
           },
           "mode": "markers+text",
           "name": "72674aadb46c5286",
           "showlegend": true,
           "subplot": "mapbox",
           "text": [
            "PIONEER"
           ],
           "type": "scattermapbox"
          }
         ],
         "name": "2024-08-09T12:00:00.000Z"
        },
        {
         "data": [
          {
           "hovertemplate": "vessel_id=3bc8490a0c382976<br>timestamp=2024-08-09T18:00:00.000Z<br>vessel_name=%{text}<br>lat=%{lat}<br>lon=%{lon}<extra></extra>",
           "lat": [
            31.61751402
           ],
           "legendgroup": "3bc8490a0c382976",
           "lon": [
            32.3130106
           ],
           "marker": {
            "color": "#636efa"
           },
           "mode": "markers+text",
           "name": "3bc8490a0c382976",
           "showlegend": true,
           "subplot": "mapbox",
           "text": [
            "NEW ENERGY"
           ],
           "type": "scattermapbox"
          },
          {
           "hovertemplate": "vessel_id=79138d1707099e3e<br>timestamp=2024-08-09T18:00:00.000Z<br>vessel_name=%{text}<br>lat=%{lat}<br>lon=%{lon}<extra></extra>",
           "lat": [
            74.13967794
           ],
           "legendgroup": "79138d1707099e3e",
           "lon": [
            36.27328343
           ],
           "marker": {
            "color": "#EF553B"
           },
           "mode": "markers+text",
           "name": "79138d1707099e3e",
           "showlegend": true,
           "subplot": "mapbox",
           "text": [
            "ASYA ENERGY"
           ],
           "type": "scattermapbox"
          },
          {
           "hovertemplate": "vessel_id=fe16241b4f45168f<br>timestamp=2024-08-09T18:00:00.000Z<br>vessel_name=%{text}<br>lat=%{lat}<br>lon=%{lon}<extra></extra>",
           "lat": [
            37.29781075
           ],
           "legendgroup": "fe16241b4f45168f",
           "lon": [
            11.55182009
           ],
           "marker": {
            "color": "#00cc96"
           },
           "mode": "markers+text",
           "name": "fe16241b4f45168f",
           "showlegend": true,
           "subplot": "mapbox",
           "text": [
            "EVEREST ENERGY"
           ],
           "type": "scattermapbox"
          },
          {
           "hovertemplate": "vessel_id=72674aadb46c5286<br>timestamp=2024-08-09T18:00:00.000Z<br>vessel_name=%{text}<br>lat=%{lat}<br>lon=%{lon}<extra></extra>",
           "lat": [
            62.64338701
           ],
           "legendgroup": "72674aadb46c5286",
           "lon": [
            -2.98839771
           ],
           "marker": {
            "color": "#ab63fa"
           },
           "mode": "markers+text",
           "name": "72674aadb46c5286",
           "showlegend": true,
           "subplot": "mapbox",
           "text": [
            "PIONEER"
           ],
           "type": "scattermapbox"
          }
         ],
         "name": "2024-08-09T18:00:00.000Z"
        },
        {
         "data": [
          {
           "hovertemplate": "vessel_id=3bc8490a0c382976<br>timestamp=2024-08-10T00:00:00.000Z<br>vessel_name=%{text}<br>lat=%{lat}<br>lon=%{lon}<extra></extra>",
           "lat": [
            31.61751402
           ],
           "legendgroup": "3bc8490a0c382976",
           "lon": [
            32.31296952
           ],
           "marker": {
            "color": "#636efa"
           },
           "mode": "markers+text",
           "name": "3bc8490a0c382976",
           "showlegend": true,
           "subplot": "mapbox",
           "text": [
            "NEW ENERGY"
           ],
           "type": "scattermapbox"
          },
          {
           "hovertemplate": "vessel_id=79138d1707099e3e<br>timestamp=2024-08-10T00:00:00.000Z<br>vessel_name=%{text}<br>lat=%{lat}<br>lon=%{lon}<extra></extra>",
           "lat": [
            74.0664013
           ],
           "legendgroup": "79138d1707099e3e",
           "lon": [
            36.62738547
           ],
           "marker": {
            "color": "#EF553B"
           },
           "mode": "markers+text",
           "name": "79138d1707099e3e",
           "showlegend": true,
           "subplot": "mapbox",
           "text": [
            "ASYA ENERGY"
           ],
           "type": "scattermapbox"
          },
          {
           "hovertemplate": "vessel_id=fe16241b4f45168f<br>timestamp=2024-08-10T00:00:00.000Z<br>vessel_name=%{text}<br>lat=%{lat}<br>lon=%{lon}<extra></extra>",
           "lat": [
            37.85688439
           ],
           "legendgroup": "fe16241b4f45168f",
           "lon": [
            9.71051904
           ],
           "marker": {
            "color": "#00cc96"
           },
           "mode": "markers+text",
           "name": "fe16241b4f45168f",
           "showlegend": true,
           "subplot": "mapbox",
           "text": [
            "EVEREST ENERGY"
           ],
           "type": "scattermapbox"
          },
          {
           "hovertemplate": "vessel_id=72674aadb46c5286<br>timestamp=2024-08-10T00:00:00.000Z<br>vessel_name=%{text}<br>lat=%{lat}<br>lon=%{lon}<extra></extra>",
           "lat": [
            61.49267234
           ],
           "legendgroup": "72674aadb46c5286",
           "lon": [
            -4.95264284
           ],
           "marker": {
            "color": "#ab63fa"
           },
           "mode": "markers+text",
           "name": "72674aadb46c5286",
           "showlegend": true,
           "subplot": "mapbox",
           "text": [
            "PIONEER"
           ],
           "type": "scattermapbox"
          }
         ],
         "name": "2024-08-10T00:00:00.000Z"
        },
        {
         "data": [
          {
           "hovertemplate": "vessel_id=3bc8490a0c382976<br>timestamp=2024-08-10T06:00:00.000Z<br>vessel_name=%{text}<br>lat=%{lat}<br>lon=%{lon}<extra></extra>",
           "lat": [
            31.61751402
           ],
           "legendgroup": "3bc8490a0c382976",
           "lon": [
            32.31291513
           ],
           "marker": {
            "color": "#636efa"
           },
           "mode": "markers+text",
           "name": "3bc8490a0c382976",
           "showlegend": true,
           "subplot": "mapbox",
           "text": [
            "NEW ENERGY"
           ],
           "type": "scattermapbox"
          },
          {
           "hovertemplate": "vessel_id=79138d1707099e3e<br>timestamp=2024-08-10T06:00:00.000Z<br>vessel_name=%{text}<br>lat=%{lat}<br>lon=%{lon}<extra></extra>",
           "lat": [
            74.0989687
           ],
           "legendgroup": "79138d1707099e3e",
           "lon": [
            36.89143492
           ],
           "marker": {
            "color": "#EF553B"
           },
           "mode": "markers+text",
           "name": "79138d1707099e3e",
           "showlegend": true,
           "subplot": "mapbox",
           "text": [
            "ASYA ENERGY"
           ],
           "type": "scattermapbox"
          },
          {
           "hovertemplate": "vessel_id=fe16241b4f45168f<br>timestamp=2024-08-10T06:00:00.000Z<br>vessel_name=%{text}<br>lat=%{lat}<br>lon=%{lon}<extra></extra>",
           "lat": [
            37.88945178
           ],
           "legendgroup": "fe16241b4f45168f",
           "lon": [
            7.68583408
           ],
           "marker": {
            "color": "#00cc96"
           },
           "mode": "markers+text",
           "name": "fe16241b4f45168f",
           "showlegend": true,
           "subplot": "mapbox",
           "text": [
            "EVEREST ENERGY"
           ],
           "type": "scattermapbox"
          },
          {
           "hovertemplate": "vessel_id=72674aadb46c5286<br>timestamp=2024-08-10T06:00:00.000Z<br>vessel_name=%{text}<br>lat=%{lat}<br>lon=%{lon}<extra></extra>",
           "lat": [
            60.37452506
           ],
           "legendgroup": "72674aadb46c5286",
           "lon": [
            -6.75301419
           ],
           "marker": {
            "color": "#ab63fa"
           },
           "mode": "markers+text",
           "name": "72674aadb46c5286",
           "showlegend": true,
           "subplot": "mapbox",
           "text": [
            "PIONEER"
           ],
           "type": "scattermapbox"
          }
         ],
         "name": "2024-08-10T06:00:00.000Z"
        },
        {
         "data": [
          {
           "hovertemplate": "vessel_id=3bc8490a0c382976<br>timestamp=2024-08-10T12:00:00.000Z<br>vessel_name=%{text}<br>lat=%{lat}<br>lon=%{lon}<extra></extra>",
           "lat": [
            31.61751402
           ],
           "legendgroup": "3bc8490a0c382976",
           "lon": [
            32.31277683
           ],
           "marker": {
            "color": "#636efa"
           },
           "mode": "markers+text",
           "name": "3bc8490a0c382976",
           "showlegend": true,
           "subplot": "mapbox",
           "text": [
            "NEW ENERGY"
           ],
           "type": "scattermapbox"
          },
          {
           "hovertemplate": "vessel_id=79138d1707099e3e<br>timestamp=2024-08-10T12:00:00.000Z<br>vessel_name=%{text}<br>lat=%{lat}<br>lon=%{lon}<extra></extra>",
           "lat": [
            74.14781979
           ],
           "legendgroup": "79138d1707099e3e",
           "lon": [
            36.64951423
           ],
           "marker": {
            "color": "#EF553B"
           },
           "mode": "markers+text",
           "name": "79138d1707099e3e",
           "showlegend": true,
           "subplot": "mapbox",
           "text": [
            "ASYA ENERGY"
           ],
           "type": "scattermapbox"
          },
          {
           "hovertemplate": "vessel_id=fe16241b4f45168f<br>timestamp=2024-08-10T12:00:00.000Z<br>vessel_name=%{text}<br>lat=%{lat}<br>lon=%{lon}<extra></extra>",
           "lat": [
            37.7483264
           ],
           "legendgroup": "fe16241b4f45168f",
           "lon": [
            5.61872012
           ],
           "marker": {
            "color": "#00cc96"
           },
           "mode": "markers+text",
           "name": "fe16241b4f45168f",
           "showlegend": true,
           "subplot": "mapbox",
           "text": [
            "EVEREST ENERGY"
           ],
           "type": "scattermapbox"
          },
          {
           "hovertemplate": "vessel_id=72674aadb46c5286<br>timestamp=2024-08-10T12:00:00.000Z<br>vessel_name=%{text}<br>lat=%{lat}<br>lon=%{lon}<extra></extra>",
           "lat": [
            59.22923828
           ],
           "legendgroup": "72674aadb46c5286",
           "lon": [
            -8.25972857
           ],
           "marker": {
            "color": "#ab63fa"
           },
           "mode": "markers+text",
           "name": "72674aadb46c5286",
           "showlegend": true,
           "subplot": "mapbox",
           "text": [
            "PIONEER"
           ],
           "type": "scattermapbox"
          }
         ],
         "name": "2024-08-10T12:00:00.000Z"
        },
        {
         "data": [
          {
           "hovertemplate": "vessel_id=3bc8490a0c382976<br>timestamp=2024-08-10T18:00:00.000Z<br>vessel_name=%{text}<br>lat=%{lat}<br>lon=%{lon}<extra></extra>",
           "lat": [
            31.61751402
           ],
           "legendgroup": "3bc8490a0c382976",
           "lon": [
            32.31283412
           ],
           "marker": {
            "color": "#636efa"
           },
           "mode": "markers+text",
           "name": "3bc8490a0c382976",
           "showlegend": true,
           "subplot": "mapbox",
           "text": [
            "NEW ENERGY"
           ],
           "type": "scattermapbox"
          },
          {
           "hovertemplate": "vessel_id=79138d1707099e3e<br>timestamp=2024-08-10T18:00:00.000Z<br>vessel_name=%{text}<br>lat=%{lat}<br>lon=%{lon}<extra></extra>",
           "lat": [
            74.25909173
           ],
           "legendgroup": "79138d1707099e3e",
           "lon": [
            36.44645151
           ],
           "marker": {
            "color": "#EF553B"
           },
           "mode": "markers+text",
           "name": "79138d1707099e3e",
           "showlegend": true,
           "subplot": "mapbox",
           "text": [
            "ASYA ENERGY"
           ],
           "type": "scattermapbox"
          },
          {
           "hovertemplate": "vessel_id=fe16241b4f45168f<br>timestamp=2024-08-10T18:00:00.000Z<br>vessel_name=%{text}<br>lat=%{lat}<br>lon=%{lon}<extra></extra>",
           "lat": [
            37.61262891
           ],
           "legendgroup": "fe16241b4f45168f",
           "lon": [
            3.53223769
           ],
           "marker": {
            "color": "#00cc96"
           },
           "mode": "markers+text",
           "name": "fe16241b4f45168f",
           "showlegend": true,
           "subplot": "mapbox",
           "text": [
            "EVEREST ENERGY"
           ],
           "type": "scattermapbox"
          },
          {
           "hovertemplate": "vessel_id=72674aadb46c5286<br>timestamp=2024-08-10T18:00:00.000Z<br>vessel_name=%{text}<br>lat=%{lat}<br>lon=%{lon}<extra></extra>",
           "lat": [
            58.03238647
           ],
           "legendgroup": "72674aadb46c5286",
           "lon": [
            -9.42198047
           ],
           "marker": {
            "color": "#ab63fa"
           },
           "mode": "markers+text",
           "name": "72674aadb46c5286",
           "showlegend": true,
           "subplot": "mapbox",
           "text": [
            "PIONEER"
           ],
           "type": "scattermapbox"
          }
         ],
         "name": "2024-08-10T18:00:00.000Z"
        },
        {
         "data": [
          {
           "hovertemplate": "vessel_id=3bc8490a0c382976<br>timestamp=2024-08-11T00:00:00.000Z<br>vessel_name=%{text}<br>lat=%{lat}<br>lon=%{lon}<extra></extra>",
           "lat": [
            31.61751402
           ],
           "legendgroup": "3bc8490a0c382976",
           "lon": [
            32.31314022
           ],
           "marker": {
            "color": "#636efa"
           },
           "mode": "markers+text",
           "name": "3bc8490a0c382976",
           "showlegend": true,
           "subplot": "mapbox",
           "text": [
            "NEW ENERGY"
           ],
           "type": "scattermapbox"
          },
          {
           "hovertemplate": "vessel_id=79138d1707099e3e<br>timestamp=2024-08-11T00:00:00.000Z<br>vessel_name=%{text}<br>lat=%{lat}<br>lon=%{lon}<extra></extra>",
           "lat": [
            74.26180568
           ],
           "legendgroup": "79138d1707099e3e",
           "lon": [
            36.0900138
           ],
           "marker": {
            "color": "#EF553B"
           },
           "mode": "markers+text",
           "name": "79138d1707099e3e",
           "showlegend": true,
           "subplot": "mapbox",
           "text": [
            "ASYA ENERGY"
           ],
           "type": "scattermapbox"
          },
          {
           "hovertemplate": "vessel_id=fe16241b4f45168f<br>timestamp=2024-08-11T00:00:00.000Z<br>vessel_name=%{text}<br>lat=%{lat}<br>lon=%{lon}<extra></extra>",
           "lat": [
            37.46878958
           ],
           "legendgroup": "fe16241b4f45168f",
           "lon": [
            1.51823633
           ],
           "marker": {
            "color": "#00cc96"
           },
           "mode": "markers+text",
           "name": "fe16241b4f45168f",
           "showlegend": true,
           "subplot": "mapbox",
           "text": [
            "EVEREST ENERGY"
           ],
           "type": "scattermapbox"
          },
          {
           "hovertemplate": "vessel_id=72674aadb46c5286<br>timestamp=2024-08-11T00:00:00.000Z<br>vessel_name=%{text}<br>lat=%{lat}<br>lon=%{lon}<extra></extra>",
           "lat": [
            56.64284422
           ],
           "legendgroup": "72674aadb46c5286",
           "lon": [
            -10.16731417
           ],
           "marker": {
            "color": "#ab63fa"
           },
           "mode": "markers+text",
           "name": "72674aadb46c5286",
           "showlegend": true,
           "subplot": "mapbox",
           "text": [
            "PIONEER"
           ],
           "type": "scattermapbox"
          }
         ],
         "name": "2024-08-11T00:00:00.000Z"
        },
        {
         "data": [
          {
           "hovertemplate": "vessel_id=3bc8490a0c382976<br>timestamp=2024-08-11T06:00:00.000Z<br>vessel_name=%{text}<br>lat=%{lat}<br>lon=%{lon}<extra></extra>",
           "lat": [
            31.61751402
           ],
           "legendgroup": "3bc8490a0c382976",
           "lon": [
            32.3128318
           ],
           "marker": {
            "color": "#636efa"
           },
           "mode": "markers+text",
           "name": "3bc8490a0c382976",
           "showlegend": true,
           "subplot": "mapbox",
           "text": [
            "NEW ENERGY"
           ],
           "type": "scattermapbox"
          },
          {
           "hovertemplate": "vessel_id=79138d1707099e3e<br>timestamp=2024-08-11T06:00:00.000Z<br>vessel_name=%{text}<br>lat=%{lat}<br>lon=%{lon}<extra></extra>",
           "lat": [
            74.19938484
           ],
           "legendgroup": "79138d1707099e3e",
           "lon": [
            35.8032117
           ],
           "marker": {
            "color": "#EF553B"
           },
           "mode": "markers+text",
           "name": "79138d1707099e3e",
           "showlegend": true,
           "subplot": "mapbox",
           "text": [
            "ASYA ENERGY"
           ],
           "type": "scattermapbox"
          },
          {
           "hovertemplate": "vessel_id=fe16241b4f45168f<br>timestamp=2024-08-11T06:00:00.000Z<br>vessel_name=%{text}<br>lat=%{lat}<br>lon=%{lon}<extra></extra>",
           "lat": [
            36.87986249
           ],
           "legendgroup": "fe16241b4f45168f",
           "lon": [
            -0.45465395
           ],
           "marker": {
            "color": "#00cc96"
           },
           "mode": "markers+text",
           "name": "fe16241b4f45168f",
           "showlegend": true,
           "subplot": "mapbox",
           "text": [
            "EVEREST ENERGY"
           ],
           "type": "scattermapbox"
          },
          {
           "hovertemplate": "vessel_id=72674aadb46c5286<br>timestamp=2024-08-11T06:00:00.000Z<br>vessel_name=%{text}<br>lat=%{lat}<br>lon=%{lon}<extra></extra>",
           "lat": [
            55.15559978
           ],
           "legendgroup": "72674aadb46c5286",
           "lon": [
            -10.92544716
           ],
           "marker": {
            "color": "#ab63fa"
           },
           "mode": "markers+text",
           "name": "72674aadb46c5286",
           "showlegend": true,
           "subplot": "mapbox",
           "text": [
            "PIONEER"
           ],
           "type": "scattermapbox"
          }
         ],
         "name": "2024-08-11T06:00:00.000Z"
        },
        {
         "data": [
          {
           "hovertemplate": "vessel_id=3bc8490a0c382976<br>timestamp=2024-08-11T12:00:00.000Z<br>vessel_name=%{text}<br>lat=%{lat}<br>lon=%{lon}<extra></extra>",
           "lat": [
            31.61751402
           ],
           "legendgroup": "3bc8490a0c382976",
           "lon": [
            32.31298398
           ],
           "marker": {
            "color": "#636efa"
           },
           "mode": "markers+text",
           "name": "3bc8490a0c382976",
           "showlegend": true,
           "subplot": "mapbox",
           "text": [
            "NEW ENERGY"
           ],
           "type": "scattermapbox"
          },
          {
           "hovertemplate": "vessel_id=79138d1707099e3e<br>timestamp=2024-08-11T12:00:00.000Z<br>vessel_name=%{text}<br>lat=%{lat}<br>lon=%{lon}<extra></extra>",
           "lat": [
            74.09625475
           ],
           "legendgroup": "79138d1707099e3e",
           "lon": [
            35.70163618
           ],
           "marker": {
            "color": "#EF553B"
           },
           "mode": "markers+text",
           "name": "79138d1707099e3e",
           "showlegend": true,
           "subplot": "mapbox",
           "text": [
            "ASYA ENERGY"
           ],
           "type": "scattermapbox"
          },
          {
           "hovertemplate": "vessel_id=fe16241b4f45168f<br>timestamp=2024-08-11T12:00:00.000Z<br>vessel_name=%{text}<br>lat=%{lat}<br>lon=%{lon}<extra></extra>",
           "lat": [
            36.24208431
           ],
           "legendgroup": "fe16241b4f45168f",
           "lon": [
            -2.28815374
           ],
           "marker": {
            "color": "#00cc96"
           },
           "mode": "markers+text",
           "name": "fe16241b4f45168f",
           "showlegend": true,
           "subplot": "mapbox",
           "text": [
            "EVEREST ENERGY"
           ],
           "type": "scattermapbox"
          },
          {
           "hovertemplate": "vessel_id=72674aadb46c5286<br>timestamp=2024-08-11T12:00:00.000Z<br>vessel_name=%{text}<br>lat=%{lat}<br>lon=%{lon}<extra></extra>",
           "lat": [
            53.73891804
           ],
           "legendgroup": "72674aadb46c5286",
           "lon": [
            -11.35642017
           ],
           "marker": {
            "color": "#ab63fa"
           },
           "mode": "markers+text",
           "name": "72674aadb46c5286",
           "showlegend": true,
           "subplot": "mapbox",
           "text": [
            "PIONEER"
           ],
           "type": "scattermapbox"
          }
         ],
         "name": "2024-08-11T12:00:00.000Z"
        },
        {
         "data": [
          {
           "hovertemplate": "vessel_id=3bc8490a0c382976<br>timestamp=2024-08-11T18:00:00.000Z<br>vessel_name=%{text}<br>lat=%{lat}<br>lon=%{lon}<extra></extra>",
           "lat": [
            31.61751402
           ],
           "legendgroup": "3bc8490a0c382976",
           "lon": [
            32.31277683
           ],
           "marker": {
            "color": "#636efa"
           },
           "mode": "markers+text",
           "name": "3bc8490a0c382976",
           "showlegend": true,
           "subplot": "mapbox",
           "text": [
            "NEW ENERGY"
           ],
           "type": "scattermapbox"
          },
          {
           "hovertemplate": "vessel_id=79138d1707099e3e<br>timestamp=2024-08-11T18:00:00.000Z<br>vessel_name=%{text}<br>lat=%{lat}<br>lon=%{lon}<extra></extra>",
           "lat": [
            73.98498281
           ],
           "legendgroup": "79138d1707099e3e",
           "lon": [
            35.79974367
           ],
           "marker": {
            "color": "#EF553B"
           },
           "mode": "markers+text",
           "name": "79138d1707099e3e",
           "showlegend": true,
           "subplot": "mapbox",
           "text": [
            "ASYA ENERGY"
           ],
           "type": "scattermapbox"
          },
          {
           "hovertemplate": "vessel_id=fe16241b4f45168f<br>timestamp=2024-08-11T18:00:00.000Z<br>vessel_name=%{text}<br>lat=%{lat}<br>lon=%{lon}<extra></extra>",
           "lat": [
            36.09010313
           ],
           "legendgroup": "fe16241b4f45168f",
           "lon": [
            -4.13759346
           ],
           "marker": {
            "color": "#00cc96"
           },
           "mode": "markers+text",
           "name": "fe16241b4f45168f",
           "showlegend": true,
           "subplot": "mapbox",
           "text": [
            "EVEREST ENERGY"
           ],
           "type": "scattermapbox"
          },
          {
           "hovertemplate": "vessel_id=72674aadb46c5286<br>timestamp=2024-08-11T18:00:00.000Z<br>vessel_name=%{text}<br>lat=%{lat}<br>lon=%{lon}<extra></extra>",
           "lat": [
            52.3059526
           ],
           "legendgroup": "72674aadb46c5286",
           "lon": [
            -11.43354824
           ],
           "marker": {
            "color": "#ab63fa"
           },
           "mode": "markers+text",
           "name": "72674aadb46c5286",
           "showlegend": true,
           "subplot": "mapbox",
           "text": [
            "PIONEER"
           ],
           "type": "scattermapbox"
          }
         ],
         "name": "2024-08-11T18:00:00.000Z"
        },
        {
         "data": [
          {
           "hovertemplate": "vessel_id=3bc8490a0c382976<br>timestamp=2024-08-12T00:00:00.000Z<br>vessel_name=%{text}<br>lat=%{lat}<br>lon=%{lon}<extra></extra>",
           "lat": [
            31.61751402
           ],
           "legendgroup": "3bc8490a0c382976",
           "lon": [
            32.31299787
           ],
           "marker": {
            "color": "#636efa"
           },
           "mode": "markers+text",
           "name": "3bc8490a0c382976",
           "showlegend": true,
           "subplot": "mapbox",
           "text": [
            "NEW ENERGY"
           ],
           "type": "scattermapbox"
          },
          {
           "hovertemplate": "vessel_id=79138d1707099e3e<br>timestamp=2024-08-12T00:00:00.000Z<br>vessel_name=%{text}<br>lat=%{lat}<br>lon=%{lon}<extra></extra>",
           "lat": [
            73.98498281
           ],
           "legendgroup": "79138d1707099e3e",
           "lon": [
            35.81861334
           ],
           "marker": {
            "color": "#EF553B"
           },
           "mode": "markers+text",
           "name": "79138d1707099e3e",
           "showlegend": true,
           "subplot": "mapbox",
           "text": [
            "ASYA ENERGY"
           ],
           "type": "scattermapbox"
          },
          {
           "hovertemplate": "vessel_id=fe16241b4f45168f<br>timestamp=2024-08-12T00:00:00.000Z<br>vessel_name=%{text}<br>lat=%{lat}<br>lon=%{lon}<extra></extra>",
           "lat": [
            36.11995658
           ],
           "legendgroup": "fe16241b4f45168f",
           "lon": [
            -5.38561263
           ],
           "marker": {
            "color": "#00cc96"
           },
           "mode": "markers+text",
           "name": "fe16241b4f45168f",
           "showlegend": true,
           "subplot": "mapbox",
           "text": [
            "EVEREST ENERGY"
           ],
           "type": "scattermapbox"
          },
          {
           "hovertemplate": "vessel_id=72674aadb46c5286<br>timestamp=2024-08-12T00:00:00.000Z<br>vessel_name=%{text}<br>lat=%{lat}<br>lon=%{lon}<extra></extra>",
           "lat": [
            50.79428261
           ],
           "legendgroup": "72674aadb46c5286",
           "lon": [
            -11.31354569
           ],
           "marker": {
            "color": "#ab63fa"
           },
           "mode": "markers+text",
           "name": "72674aadb46c5286",
           "showlegend": true,
           "subplot": "mapbox",
           "text": [
            "PIONEER"
           ],
           "type": "scattermapbox"
          }
         ],
         "name": "2024-08-12T00:00:00.000Z"
        },
        {
         "data": [
          {
           "hovertemplate": "vessel_id=79138d1707099e3e<br>timestamp=2024-08-12T06:00:00.000Z<br>vessel_name=%{text}<br>lat=%{lat}<br>lon=%{lon}<extra></extra>",
           "lat": [
            73.97684096
           ],
           "legendgroup": "79138d1707099e3e",
           "lon": [
            36.15272404
           ],
           "marker": {
            "color": "#EF553B"
           },
           "mode": "markers+text",
           "name": "79138d1707099e3e",
           "showlegend": true,
           "subplot": "mapbox",
           "text": [
            "ASYA ENERGY"
           ],
           "type": "scattermapbox"
          },
          {
           "hovertemplate": "vessel_id=fe16241b4f45168f<br>timestamp=2024-08-12T06:00:00.000Z<br>vessel_name=%{text}<br>lat=%{lat}<br>lon=%{lon}<extra></extra>",
           "lat": [
            36.16880767
           ],
           "legendgroup": "fe16241b4f45168f",
           "lon": [
            -5.40255061
           ],
           "marker": {
            "color": "#00cc96"
           },
           "mode": "markers+text",
           "name": "fe16241b4f45168f",
           "showlegend": true,
           "subplot": "mapbox",
           "text": [
            "EVEREST ENERGY"
           ],
           "type": "scattermapbox"
          },
          {
           "hovertemplate": "vessel_id=72674aadb46c5286<br>timestamp=2024-08-12T06:00:00.000Z<br>vessel_name=%{text}<br>lat=%{lat}<br>lon=%{lon}<extra></extra>",
           "lat": [
            49.35317532
           ],
           "legendgroup": "72674aadb46c5286",
           "lon": [
            -11.14507208
           ],
           "marker": {
            "color": "#ab63fa"
           },
           "mode": "markers+text",
           "name": "72674aadb46c5286",
           "showlegend": true,
           "subplot": "mapbox",
           "text": [
            "PIONEER"
           ],
           "type": "scattermapbox"
          }
         ],
         "name": "2024-08-12T06:00:00.000Z"
        },
        {
         "data": [
          {
           "hovertemplate": "vessel_id=3bc8490a0c382976<br>timestamp=2024-08-12T12:00:00.000Z<br>vessel_name=%{text}<br>lat=%{lat}<br>lon=%{lon}<extra></extra>",
           "lat": [
            31.61751402
           ],
           "legendgroup": "3bc8490a0c382976",
           "lon": [
            32.3128509
           ],
           "marker": {
            "color": "#636efa"
           },
           "mode": "markers+text",
           "name": "3bc8490a0c382976",
           "showlegend": true,
           "subplot": "mapbox",
           "text": [
            "NEW ENERGY"
           ],
           "type": "scattermapbox"
          },
          {
           "hovertemplate": "vessel_id=79138d1707099e3e<br>timestamp=2024-08-12T12:00:00.000Z<br>vessel_name=%{text}<br>lat=%{lat}<br>lon=%{lon}<extra></extra>",
           "lat": [
            74.05825945
           ],
           "legendgroup": "79138d1707099e3e",
           "lon": [
            36.37261269
           ],
           "marker": {
            "color": "#EF553B"
           },
           "mode": "markers+text",
           "name": "79138d1707099e3e",
           "showlegend": true,
           "subplot": "mapbox",
           "text": [
            "ASYA ENERGY"
           ],
           "type": "scattermapbox"
          },
          {
           "hovertemplate": "vessel_id=fe16241b4f45168f<br>timestamp=2024-08-12T12:00:00.000Z<br>vessel_name=%{text}<br>lat=%{lat}<br>lon=%{lon}<extra></extra>",
           "lat": [
            36.16880767
           ],
           "legendgroup": "fe16241b4f45168f",
           "lon": [
            -5.40591112
           ],
           "marker": {
            "color": "#00cc96"
           },
           "mode": "markers+text",
           "name": "fe16241b4f45168f",
           "showlegend": true,
           "subplot": "mapbox",
           "text": [
            "EVEREST ENERGY"
           ],
           "type": "scattermapbox"
          },
          {
           "hovertemplate": "vessel_id=72674aadb46c5286<br>timestamp=2024-08-12T12:00:00.000Z<br>vessel_name=%{text}<br>lat=%{lat}<br>lon=%{lon}<extra></extra>",
           "lat": [
            47.95277728
           ],
           "legendgroup": "72674aadb46c5286",
           "lon": [
            -11.08665295
           ],
           "marker": {
            "color": "#ab63fa"
           },
           "mode": "markers+text",
           "name": "72674aadb46c5286",
           "showlegend": true,
           "subplot": "mapbox",
           "text": [
            "PIONEER"
           ],
           "type": "scattermapbox"
          }
         ],
         "name": "2024-08-12T12:00:00.000Z"
        },
        {
         "data": [
          {
           "hovertemplate": "vessel_id=3bc8490a0c382976<br>timestamp=2024-08-12T18:00:00.000Z<br>vessel_name=%{text}<br>lat=%{lat}<br>lon=%{lon}<extra></extra>",
           "lat": [
            31.61480007
           ],
           "legendgroup": "3bc8490a0c382976",
           "lon": [
            32.312572
           ],
           "marker": {
            "color": "#636efa"
           },
           "mode": "markers+text",
           "name": "3bc8490a0c382976",
           "showlegend": true,
           "subplot": "mapbox",
           "text": [
            "NEW ENERGY"
           ],
           "type": "scattermapbox"
          },
          {
           "hovertemplate": "vessel_id=79138d1707099e3e<br>timestamp=2024-08-12T18:00:00.000Z<br>vessel_name=%{text}<br>lat=%{lat}<br>lon=%{lon}<extra></extra>",
           "lat": [
            74.14781979
           ],
           "legendgroup": "79138d1707099e3e",
           "lon": [
            36.36583389
           ],
           "marker": {
            "color": "#EF553B"
           },
           "mode": "markers+text",
           "name": "79138d1707099e3e",
           "showlegend": true,
           "subplot": "mapbox",
           "text": [
            "ASYA ENERGY"
           ],
           "type": "scattermapbox"
          },
          {
           "hovertemplate": "vessel_id=fe16241b4f45168f<br>timestamp=2024-08-12T18:00:00.000Z<br>vessel_name=%{text}<br>lat=%{lat}<br>lon=%{lon}<extra></extra>",
           "lat": [
            36.12809843
           ],
           "legendgroup": "fe16241b4f45168f",
           "lon": [
            -5.37951448
           ],
           "marker": {
            "color": "#00cc96"
           },
           "mode": "markers+text",
           "name": "fe16241b4f45168f",
           "showlegend": true,
           "subplot": "mapbox",
           "text": [
            "EVEREST ENERGY"
           ],
           "type": "scattermapbox"
          },
          {
           "hovertemplate": "vessel_id=72674aadb46c5286<br>timestamp=2024-08-12T18:00:00.000Z<br>vessel_name=%{text}<br>lat=%{lat}<br>lon=%{lon}<extra></extra>",
           "lat": [
            46.45739099
           ],
           "legendgroup": "72674aadb46c5286",
           "lon": [
            -10.97551327
           ],
           "marker": {
            "color": "#ab63fa"
           },
           "mode": "markers+text",
           "name": "72674aadb46c5286",
           "showlegend": true,
           "subplot": "mapbox",
           "text": [
            "PIONEER"
           ],
           "type": "scattermapbox"
          }
         ],
         "name": "2024-08-12T18:00:00.000Z"
        },
        {
         "data": [
          {
           "hovertemplate": "vessel_id=3bc8490a0c382976<br>timestamp=2024-08-13T00:00:00.000Z<br>vessel_name=%{text}<br>lat=%{lat}<br>lon=%{lon}<extra></extra>",
           "lat": [
            31.61751402
           ],
           "legendgroup": "3bc8490a0c382976",
           "lon": [
            32.31322934
           ],
           "marker": {
            "color": "#636efa"
           },
           "mode": "markers+text",
           "name": "3bc8490a0c382976",
           "showlegend": true,
           "subplot": "mapbox",
           "text": [
            "NEW ENERGY"
           ],
           "type": "scattermapbox"
          },
          {
           "hovertemplate": "vessel_id=79138d1707099e3e<br>timestamp=2024-08-13T00:00:00.000Z<br>vessel_name=%{text}<br>lat=%{lat}<br>lon=%{lon}<extra></extra>",
           "lat": [
            74.23738013
           ],
           "legendgroup": "79138d1707099e3e",
           "lon": [
            36.12375188
           ],
           "marker": {
            "color": "#EF553B"
           },
           "mode": "markers+text",
           "name": "79138d1707099e3e",
           "showlegend": true,
           "subplot": "mapbox",
           "text": [
            "ASYA ENERGY"
           ],
           "type": "scattermapbox"
          },
          {
           "hovertemplate": "vessel_id=fe16241b4f45168f<br>timestamp=2024-08-13T00:00:00.000Z<br>vessel_name=%{text}<br>lat=%{lat}<br>lon=%{lon}<extra></extra>",
           "lat": [
            36.12809843
           ],
           "legendgroup": "fe16241b4f45168f",
           "lon": [
            -5.37948021
           ],
           "marker": {
            "color": "#00cc96"
           },
           "mode": "markers+text",
           "name": "fe16241b4f45168f",
           "showlegend": true,
           "subplot": "mapbox",
           "text": [
            "EVEREST ENERGY"
           ],
           "type": "scattermapbox"
          },
          {
           "hovertemplate": "vessel_id=72674aadb46c5286<br>timestamp=2024-08-13T00:00:00.000Z<br>vessel_name=%{text}<br>lat=%{lat}<br>lon=%{lon}<extra></extra>",
           "lat": [
            45.04613714
           ],
           "legendgroup": "72674aadb46c5286",
           "lon": [
            -10.86653547
           ],
           "marker": {
            "color": "#ab63fa"
           },
           "mode": "markers+text",
           "name": "72674aadb46c5286",
           "showlegend": true,
           "subplot": "mapbox",
           "text": [
            "PIONEER"
           ],
           "type": "scattermapbox"
          }
         ],
         "name": "2024-08-13T00:00:00.000Z"
        },
        {
         "data": [
          {
           "hovertemplate": "vessel_id=3bc8490a0c382976<br>timestamp=2024-08-13T06:00:00.000Z<br>vessel_name=%{text}<br>lat=%{lat}<br>lon=%{lon}<extra></extra>",
           "lat": [
            31.61751402
           ],
           "legendgroup": "3bc8490a0c382976",
           "lon": [
            32.31277683
           ],
           "marker": {
            "color": "#636efa"
           },
           "mode": "markers+text",
           "name": "3bc8490a0c382976",
           "showlegend": true,
           "subplot": "mapbox",
           "text": [
            "NEW ENERGY"
           ],
           "type": "scattermapbox"
          },
          {
           "hovertemplate": "vessel_id=79138d1707099e3e<br>timestamp=2024-08-13T06:00:00.000Z<br>vessel_name=%{text}<br>lat=%{lat}<br>lon=%{lon}<extra></extra>",
           "lat": [
            74.24009408
           ],
           "legendgroup": "79138d1707099e3e",
           "lon": [
            35.80184138
           ],
           "marker": {
            "color": "#EF553B"
           },
           "mode": "markers+text",
           "name": "79138d1707099e3e",
           "showlegend": true,
           "subplot": "mapbox",
           "text": [
            "ASYA ENERGY"
           ],
           "type": "scattermapbox"
          },
          {
           "hovertemplate": "vessel_id=fe16241b4f45168f<br>timestamp=2024-08-13T06:00:00.000Z<br>vessel_name=%{text}<br>lat=%{lat}<br>lon=%{lon}<extra></extra>",
           "lat": [
            36.13081238
           ],
           "legendgroup": "fe16241b4f45168f",
           "lon": [
            -5.37969109
           ],
           "marker": {
            "color": "#00cc96"
           },
           "mode": "markers+text",
           "name": "fe16241b4f45168f",
           "showlegend": true,
           "subplot": "mapbox",
           "text": [
            "EVEREST ENERGY"
           ],
           "type": "scattermapbox"
          },
          {
           "hovertemplate": "vessel_id=72674aadb46c5286<br>timestamp=2024-08-13T06:00:00.000Z<br>vessel_name=%{text}<br>lat=%{lat}<br>lon=%{lon}<extra></extra>",
           "lat": [
            43.58874616
           ],
           "legendgroup": "72674aadb46c5286",
           "lon": [
            -10.81769576
           ],
           "marker": {
            "color": "#ab63fa"
           },
           "mode": "markers+text",
           "name": "72674aadb46c5286",
           "showlegend": true,
           "subplot": "mapbox",
           "text": [
            "PIONEER"
           ],
           "type": "scattermapbox"
          }
         ],
         "name": "2024-08-13T06:00:00.000Z"
        },
        {
         "data": [
          {
           "hovertemplate": "vessel_id=79138d1707099e3e<br>timestamp=2024-08-13T12:00:00.000Z<br>vessel_name=%{text}<br>lat=%{lat}<br>lon=%{lon}<extra></extra>",
           "lat": [
            74.22109644
           ],
           "legendgroup": "79138d1707099e3e",
           "lon": [
            35.8174949
           ],
           "marker": {
            "color": "#EF553B"
           },
           "mode": "markers+text",
           "name": "79138d1707099e3e",
           "showlegend": true,
           "subplot": "mapbox",
           "text": [
            "ASYA ENERGY"
           ],
           "type": "scattermapbox"
          },
          {
           "hovertemplate": "vessel_id=fe16241b4f45168f<br>timestamp=2024-08-13T12:00:00.000Z<br>vessel_name=%{text}<br>lat=%{lat}<br>lon=%{lon}<extra></extra>",
           "lat": [
            36.01411254
           ],
           "legendgroup": "fe16241b4f45168f",
           "lon": [
            -5.41535956
           ],
           "marker": {
            "color": "#00cc96"
           },
           "mode": "markers+text",
           "name": "fe16241b4f45168f",
           "showlegend": true,
           "subplot": "mapbox",
           "text": [
            "EVEREST ENERGY"
           ],
           "type": "scattermapbox"
          },
          {
           "hovertemplate": "vessel_id=72674aadb46c5286<br>timestamp=2024-08-13T12:00:00.000Z<br>vessel_name=%{text}<br>lat=%{lat}<br>lon=%{lon}<extra></extra>",
           "lat": [
            41.96309028
           ],
           "legendgroup": "72674aadb46c5286",
           "lon": [
            -10.7598379
           ],
           "marker": {
            "color": "#ab63fa"
           },
           "mode": "markers+text",
           "name": "72674aadb46c5286",
           "showlegend": true,
           "subplot": "mapbox",
           "text": [
            "PIONEER"
           ],
           "type": "scattermapbox"
          }
         ],
         "name": "2024-08-13T12:00:00.000Z"
        },
        {
         "data": [
          {
           "hovertemplate": "vessel_id=79138d1707099e3e<br>timestamp=2024-08-13T18:00:00.000Z<br>vessel_name=%{text}<br>lat=%{lat}<br>lon=%{lon}<extra></extra>",
           "lat": [
            74.10168265
           ],
           "legendgroup": "79138d1707099e3e",
           "lon": [
            35.82520207
           ],
           "marker": {
            "color": "#EF553B"
           },
           "mode": "markers+text",
           "name": "79138d1707099e3e",
           "showlegend": true,
           "subplot": "mapbox",
           "text": [
            "ASYA ENERGY"
           ],
           "type": "scattermapbox"
          },
          {
           "hovertemplate": "vessel_id=fe16241b4f45168f<br>timestamp=2024-08-13T18:00:00.000Z<br>vessel_name=%{text}<br>lat=%{lat}<br>lon=%{lon}<extra></extra>",
           "lat": [
            36.08196128
           ],
           "legendgroup": "fe16241b4f45168f",
           "lon": [
            -7.27712375
           ],
           "marker": {
            "color": "#00cc96"
           },
           "mode": "markers+text",
           "name": "fe16241b4f45168f",
           "showlegend": true,
           "subplot": "mapbox",
           "text": [
            "EVEREST ENERGY"
           ],
           "type": "scattermapbox"
          },
          {
           "hovertemplate": "vessel_id=72674aadb46c5286<br>timestamp=2024-08-13T18:00:00.000Z<br>vessel_name=%{text}<br>lat=%{lat}<br>lon=%{lon}<extra></extra>",
           "lat": [
            40.34014836
           ],
           "legendgroup": "72674aadb46c5286",
           "lon": [
            -10.68892623
           ],
           "marker": {
            "color": "#ab63fa"
           },
           "mode": "markers+text",
           "name": "72674aadb46c5286",
           "showlegend": true,
           "subplot": "mapbox",
           "text": [
            "PIONEER"
           ],
           "type": "scattermapbox"
          }
         ],
         "name": "2024-08-13T18:00:00.000Z"
        },
        {
         "data": [
          {
           "hovertemplate": "vessel_id=79138d1707099e3e<br>timestamp=2024-08-14T00:00:00.000Z<br>vessel_name=%{text}<br>lat=%{lat}<br>lon=%{lon}<extra></extra>",
           "lat": [
            73.99855256
           ],
           "legendgroup": "79138d1707099e3e",
           "lon": [
            35.86392188
           ],
           "marker": {
            "color": "#EF553B"
           },
           "mode": "markers+text",
           "name": "79138d1707099e3e",
           "showlegend": true,
           "subplot": "mapbox",
           "text": [
            "ASYA ENERGY"
           ],
           "type": "scattermapbox"
          },
          {
           "hovertemplate": "vessel_id=fe16241b4f45168f<br>timestamp=2024-08-14T00:00:00.000Z<br>vessel_name=%{text}<br>lat=%{lat}<br>lon=%{lon}<extra></extra>",
           "lat": [
            36.39677945
           ],
           "legendgroup": "fe16241b4f45168f",
           "lon": [
            -9.27220644
           ],
           "marker": {
            "color": "#00cc96"
           },
           "mode": "markers+text",
           "name": "fe16241b4f45168f",
           "showlegend": true,
           "subplot": "mapbox",
           "text": [
            "EVEREST ENERGY"
           ],
           "type": "scattermapbox"
          },
          {
           "hovertemplate": "vessel_id=72674aadb46c5286<br>timestamp=2024-08-14T00:00:00.000Z<br>vessel_name=%{text}<br>lat=%{lat}<br>lon=%{lon}<extra></extra>",
           "lat": [
            38.76334359
           ],
           "legendgroup": "72674aadb46c5286",
           "lon": [
            -10.63303115
           ],
           "marker": {
            "color": "#ab63fa"
           },
           "mode": "markers+text",
           "name": "72674aadb46c5286",
           "showlegend": true,
           "subplot": "mapbox",
           "text": [
            "PIONEER"
           ],
           "type": "scattermapbox"
          }
         ],
         "name": "2024-08-14T00:00:00.000Z"
        },
        {
         "data": [
          {
           "hovertemplate": "vessel_id=79138d1707099e3e<br>timestamp=2024-08-14T06:00:00.000Z<br>vessel_name=%{text}<br>lat=%{lat}<br>lon=%{lon}<extra></extra>",
           "lat": [
            73.99312466
           ],
           "legendgroup": "79138d1707099e3e",
           "lon": [
            36.1106447
           ],
           "marker": {
            "color": "#EF553B"
           },
           "mode": "markers+text",
           "name": "79138d1707099e3e",
           "showlegend": true,
           "subplot": "mapbox",
           "text": [
            "ASYA ENERGY"
           ],
           "type": "scattermapbox"
          },
          {
           "hovertemplate": "vessel_id=fe16241b4f45168f<br>timestamp=2024-08-14T06:00:00.000Z<br>vessel_name=%{text}<br>lat=%{lat}<br>lon=%{lon}<extra></extra>",
           "lat": [
            37.66148001
           ],
           "legendgroup": "fe16241b4f45168f",
           "lon": [
            -10.14441321
           ],
           "marker": {
            "color": "#00cc96"
           },
           "mode": "markers+text",
           "name": "fe16241b4f45168f",
           "showlegend": true,
           "subplot": "mapbox",
           "text": [
            "EVEREST ENERGY"
           ],
           "type": "scattermapbox"
          },
          {
           "hovertemplate": "vessel_id=72674aadb46c5286<br>timestamp=2024-08-14T06:00:00.000Z<br>vessel_name=%{text}<br>lat=%{lat}<br>lon=%{lon}<extra></extra>",
           "lat": [
            37.35751764
           ],
           "legendgroup": "72674aadb46c5286",
           "lon": [
            -10.2327648
           ],
           "marker": {
            "color": "#ab63fa"
           },
           "mode": "markers+text",
           "name": "72674aadb46c5286",
           "showlegend": true,
           "subplot": "mapbox",
           "text": [
            "PIONEER"
           ],
           "type": "scattermapbox"
          }
         ],
         "name": "2024-08-14T06:00:00.000Z"
        },
        {
         "data": [
          {
           "hovertemplate": "vessel_id=79138d1707099e3e<br>timestamp=2024-08-14T12:00:00.000Z<br>vessel_name=%{text}<br>lat=%{lat}<br>lon=%{lon}<extra></extra>",
           "lat": [
            74.1043966
           ],
           "legendgroup": "79138d1707099e3e",
           "lon": [
            36.27497002
           ],
           "marker": {
            "color": "#EF553B"
           },
           "mode": "markers+text",
           "name": "79138d1707099e3e",
           "showlegend": true,
           "subplot": "mapbox",
           "text": [
            "ASYA ENERGY"
           ],
           "type": "scattermapbox"
          },
          {
           "hovertemplate": "vessel_id=fe16241b4f45168f<br>timestamp=2024-08-14T12:00:00.000Z<br>vessel_name=%{text}<br>lat=%{lat}<br>lon=%{lon}<extra></extra>",
           "lat": [
            39.05102225
           ],
           "legendgroup": "fe16241b4f45168f",
           "lon": [
            -10.71479577
           ],
           "marker": {
            "color": "#00cc96"
           },
           "mode": "markers+text",
           "name": "fe16241b4f45168f",
           "showlegend": true,
           "subplot": "mapbox",
           "text": [
            "EVEREST ENERGY"
           ],
           "type": "scattermapbox"
          },
          {
           "hovertemplate": "vessel_id=72674aadb46c5286<br>timestamp=2024-08-14T12:00:00.000Z<br>vessel_name=%{text}<br>lat=%{lat}<br>lon=%{lon}<extra></extra>",
           "lat": [
            36.06024968
           ],
           "legendgroup": "72674aadb46c5286",
           "lon": [
            -9.48391197
           ],
           "marker": {
            "color": "#ab63fa"
           },
           "mode": "markers+text",
           "name": "72674aadb46c5286",
           "showlegend": true,
           "subplot": "mapbox",
           "text": [
            "PIONEER"
           ],
           "type": "scattermapbox"
          }
         ],
         "name": "2024-08-14T12:00:00.000Z"
        },
        {
         "data": [
          {
           "hovertemplate": "vessel_id=79138d1707099e3e<br>timestamp=2024-08-14T18:00:00.000Z<br>vessel_name=%{text}<br>lat=%{lat}<br>lon=%{lon}<extra></extra>",
           "lat": [
            74.06368735
           ],
           "legendgroup": "79138d1707099e3e",
           "lon": [
            36.07031852
           ],
           "marker": {
            "color": "#EF553B"
           },
           "mode": "markers+text",
           "name": "79138d1707099e3e",
           "showlegend": true,
           "subplot": "mapbox",
           "text": [
            "ASYA ENERGY"
           ],
           "type": "scattermapbox"
          },
          {
           "hovertemplate": "vessel_id=fe16241b4f45168f<br>timestamp=2024-08-14T18:00:00.000Z<br>vessel_name=%{text}<br>lat=%{lat}<br>lon=%{lon}<extra></extra>",
           "lat": [
            40.50569929
           ],
           "legendgroup": "fe16241b4f45168f",
           "lon": [
            -11.12203355
           ],
           "marker": {
            "color": "#00cc96"
           },
           "mode": "markers+text",
           "name": "fe16241b4f45168f",
           "showlegend": true,
           "subplot": "mapbox",
           "text": [
            "EVEREST ENERGY"
           ],
           "type": "scattermapbox"
          },
          {
           "hovertemplate": "vessel_id=72674aadb46c5286<br>timestamp=2024-08-14T18:00:00.000Z<br>vessel_name=%{text}<br>lat=%{lat}<br>lon=%{lon}<extra></extra>",
           "lat": [
            35.89469875
           ],
           "legendgroup": "72674aadb46c5286",
           "lon": [
            -7.83940092
           ],
           "marker": {
            "color": "#ab63fa"
           },
           "mode": "markers+text",
           "name": "72674aadb46c5286",
           "showlegend": true,
           "subplot": "mapbox",
           "text": [
            "PIONEER"
           ],
           "type": "scattermapbox"
          }
         ],
         "name": "2024-08-14T18:00:00.000Z"
        },
        {
         "data": [
          {
           "hovertemplate": "vessel_id=79138d1707099e3e<br>timestamp=2024-08-15T00:00:00.000Z<br>vessel_name=%{text}<br>lat=%{lat}<br>lon=%{lon}<extra></extra>",
           "lat": [
            73.71630179
           ],
           "legendgroup": "79138d1707099e3e",
           "lon": [
            32.66432405
           ],
           "marker": {
            "color": "#EF553B"
           },
           "mode": "markers+text",
           "name": "79138d1707099e3e",
           "showlegend": true,
           "subplot": "mapbox",
           "text": [
            "ASYA ENERGY"
           ],
           "type": "scattermapbox"
          },
          {
           "hovertemplate": "vessel_id=fe16241b4f45168f<br>timestamp=2024-08-15T00:00:00.000Z<br>vessel_name=%{text}<br>lat=%{lat}<br>lon=%{lon}<extra></extra>",
           "lat": [
            42.03908088
           ],
           "legendgroup": "fe16241b4f45168f",
           "lon": [
            -11.16384065
           ],
           "marker": {
            "color": "#00cc96"
           },
           "mode": "markers+text",
           "name": "fe16241b4f45168f",
           "showlegend": true,
           "subplot": "mapbox",
           "text": [
            "EVEREST ENERGY"
           ],
           "type": "scattermapbox"
          },
          {
           "hovertemplate": "vessel_id=72674aadb46c5286<br>timestamp=2024-08-15T00:00:00.000Z<br>vessel_name=%{text}<br>lat=%{lat}<br>lon=%{lon}<extra></extra>",
           "lat": [
            35.8919848
           ],
           "legendgroup": "72674aadb46c5286",
           "lon": [
            -6.08025684
           ],
           "marker": {
            "color": "#ab63fa"
           },
           "mode": "markers+text",
           "name": "72674aadb46c5286",
           "showlegend": true,
           "subplot": "mapbox",
           "text": [
            "PIONEER"
           ],
           "type": "scattermapbox"
          }
         ],
         "name": "2024-08-15T00:00:00.000Z"
        },
        {
         "data": [
          {
           "hovertemplate": "vessel_id=3bc8490a0c382976<br>timestamp=2024-08-15T06:00:00.000Z<br>vessel_name=%{text}<br>lat=%{lat}<br>lon=%{lon}<extra></extra>",
           "lat": [
            31.61751402
           ],
           "legendgroup": "3bc8490a0c382976",
           "lon": [
            32.31292438
           ],
           "marker": {
            "color": "#636efa"
           },
           "mode": "markers+text",
           "name": "3bc8490a0c382976",
           "showlegend": true,
           "subplot": "mapbox",
           "text": [
            "NEW ENERGY"
           ],
           "type": "scattermapbox"
          },
          {
           "hovertemplate": "vessel_id=79138d1707099e3e<br>timestamp=2024-08-15T06:00:00.000Z<br>vessel_name=%{text}<br>lat=%{lat}<br>lon=%{lon}<extra></extra>",
           "lat": [
            73.2087932
           ],
           "legendgroup": "79138d1707099e3e",
           "lon": [
            28.75526838
           ],
           "marker": {
            "color": "#EF553B"
           },
           "mode": "markers+text",
           "name": "79138d1707099e3e",
           "showlegend": true,
           "subplot": "mapbox",
           "text": [
            "ASYA ENERGY"
           ],
           "type": "scattermapbox"
          },
          {
           "hovertemplate": "vessel_id=fe16241b4f45168f<br>timestamp=2024-08-15T06:00:00.000Z<br>vessel_name=%{text}<br>lat=%{lat}<br>lon=%{lon}<extra></extra>",
           "lat": [
            43.63216935
           ],
           "legendgroup": "fe16241b4f45168f",
           "lon": [
            -11.16626816
           ],
           "marker": {
            "color": "#00cc96"
           },
           "mode": "markers+text",
           "name": "fe16241b4f45168f",
           "showlegend": true,
           "subplot": "mapbox",
           "text": [
            "EVEREST ENERGY"
           ],
           "type": "scattermapbox"
          },
          {
           "hovertemplate": "vessel_id=72674aadb46c5286<br>timestamp=2024-08-15T06:00:00.000Z<br>vessel_name=%{text}<br>lat=%{lat}<br>lon=%{lon}<extra></extra>",
           "lat": [
            36.04939388
           ],
           "legendgroup": "72674aadb46c5286",
           "lon": [
            -4.53487118
           ],
           "marker": {
            "color": "#ab63fa"
           },
           "mode": "markers+text",
           "name": "72674aadb46c5286",
           "showlegend": true,
           "subplot": "mapbox",
           "text": [
            "PIONEER"
           ],
           "type": "scattermapbox"
          }
         ],
         "name": "2024-08-15T06:00:00.000Z"
        },
        {
         "data": [
          {
           "hovertemplate": "vessel_id=3bc8490a0c382976<br>timestamp=2024-08-15T12:00:00.000Z<br>vessel_name=%{text}<br>lat=%{lat}<br>lon=%{lon}<extra></extra>",
           "lat": [
            31.61751402
           ],
           "legendgroup": "3bc8490a0c382976",
           "lon": [
            32.31293364
           ],
           "marker": {
            "color": "#636efa"
           },
           "mode": "markers+text",
           "name": "3bc8490a0c382976",
           "showlegend": true,
           "subplot": "mapbox",
           "text": [
            "NEW ENERGY"
           ],
           "type": "scattermapbox"
          },
          {
           "hovertemplate": "vessel_id=79138d1707099e3e<br>timestamp=2024-08-15T12:00:00.000Z<br>vessel_name=%{text}<br>lat=%{lat}<br>lon=%{lon}<extra></extra>",
           "lat": [
            72.60086846
           ],
           "legendgroup": "79138d1707099e3e",
           "lon": [
            24.7943116
           ],
           "marker": {
            "color": "#EF553B"
           },
           "mode": "markers+text",
           "name": "79138d1707099e3e",
           "showlegend": true,
           "subplot": "mapbox",
           "text": [
            "ASYA ENERGY"
           ],
           "type": "scattermapbox"
          },
          {
           "hovertemplate": "vessel_id=fe16241b4f45168f<br>timestamp=2024-08-15T12:00:00.000Z<br>vessel_name=%{text}<br>lat=%{lat}<br>lon=%{lon}<extra></extra>",
           "lat": [
            45.28767867
           ],
           "legendgroup": "fe16241b4f45168f",
           "lon": [
            -11.16777148
           ],
           "marker": {
            "color": "#00cc96"
           },
           "mode": "markers+text",
           "name": "fe16241b4f45168f",
           "showlegend": true,
           "subplot": "mapbox",
           "text": [
            "EVEREST ENERGY"
           ],
           "type": "scattermapbox"
          },
          {
           "hovertemplate": "vessel_id=72674aadb46c5286<br>timestamp=2024-08-15T12:00:00.000Z<br>vessel_name=%{text}<br>lat=%{lat}<br>lon=%{lon}<extra></extra>",
           "lat": [
            36.14166817
           ],
           "legendgroup": "72674aadb46c5286",
           "lon": [
            -2.89687523
           ],
           "marker": {
            "color": "#ab63fa"
           },
           "mode": "markers+text",
           "name": "72674aadb46c5286",
           "showlegend": true,
           "subplot": "mapbox",
           "text": [
            "PIONEER"
           ],
           "type": "scattermapbox"
          }
         ],
         "name": "2024-08-15T12:00:00.000Z"
        },
        {
         "data": [
          {
           "hovertemplate": "vessel_id=3bc8490a0c382976<br>timestamp=2024-08-15T18:00:00.000Z<br>vessel_name=%{text}<br>lat=%{lat}<br>lon=%{lon}<extra></extra>",
           "lat": [
            31.61751402
           ],
           "legendgroup": "3bc8490a0c382976",
           "lon": [
            32.31304243
           ],
           "marker": {
            "color": "#636efa"
           },
           "mode": "markers+text",
           "name": "3bc8490a0c382976",
           "showlegend": true,
           "subplot": "mapbox",
           "text": [
            "NEW ENERGY"
           ],
           "type": "scattermapbox"
          },
          {
           "hovertemplate": "vessel_id=79138d1707099e3e<br>timestamp=2024-08-15T18:00:00.000Z<br>vessel_name=%{text}<br>lat=%{lat}<br>lon=%{lon}<extra></extra>",
           "lat": [
            71.96037633
           ],
           "legendgroup": "79138d1707099e3e",
           "lon": [
            21.32224845
           ],
           "marker": {
            "color": "#EF553B"
           },
           "mode": "markers+text",
           "name": "79138d1707099e3e",
           "showlegend": true,
           "subplot": "mapbox",
           "text": [
            "ASYA ENERGY"
           ],
           "type": "scattermapbox"
          },
          {
           "hovertemplate": "vessel_id=fe16241b4f45168f<br>timestamp=2024-08-15T18:00:00.000Z<br>vessel_name=%{text}<br>lat=%{lat}<br>lon=%{lon}<extra></extra>",
           "lat": [
            46.96218563
           ],
           "legendgroup": "fe16241b4f45168f",
           "lon": [
            -11.14255102
           ],
           "marker": {
            "color": "#00cc96"
           },
           "mode": "markers+text",
           "name": "fe16241b4f45168f",
           "showlegend": true,
           "subplot": "mapbox",
           "text": [
            "EVEREST ENERGY"
           ],
           "type": "scattermapbox"
          },
          {
           "hovertemplate": "vessel_id=72674aadb46c5286<br>timestamp=2024-08-15T18:00:00.000Z<br>vessel_name=%{text}<br>lat=%{lat}<br>lon=%{lon}<extra></extra>",
           "lat": [
            36.34250045
           ],
           "legendgroup": "72674aadb46c5286",
           "lon": [
            -1.49596194
           ],
           "marker": {
            "color": "#ab63fa"
           },
           "mode": "markers+text",
           "name": "72674aadb46c5286",
           "showlegend": true,
           "subplot": "mapbox",
           "text": [
            "PIONEER"
           ],
           "type": "scattermapbox"
          }
         ],
         "name": "2024-08-15T18:00:00.000Z"
        },
        {
         "data": [
          {
           "hovertemplate": "vessel_id=3bc8490a0c382976<br>timestamp=2024-08-16T00:00:00.000Z<br>vessel_name=%{text}<br>lat=%{lat}<br>lon=%{lon}<extra></extra>",
           "lat": [
            31.61751402
           ],
           "legendgroup": "3bc8490a0c382976",
           "lon": [
            32.31277683
           ],
           "marker": {
            "color": "#636efa"
           },
           "mode": "markers+text",
           "name": "3bc8490a0c382976",
           "showlegend": true,
           "subplot": "mapbox",
           "text": [
            "NEW ENERGY"
           ],
           "type": "scattermapbox"
          },
          {
           "hovertemplate": "vessel_id=79138d1707099e3e<br>timestamp=2024-08-16T00:00:00.000Z<br>vessel_name=%{text}<br>lat=%{lat}<br>lon=%{lon}<extra></extra>",
           "lat": [
            71.26560521
           ],
           "legendgroup": "79138d1707099e3e",
           "lon": [
            18.08152091
           ],
           "marker": {
            "color": "#EF553B"
           },
           "mode": "markers+text",
           "name": "79138d1707099e3e",
           "showlegend": true,
           "subplot": "mapbox",
           "text": [
            "ASYA ENERGY"
           ],
           "type": "scattermapbox"
          },
          {
           "hovertemplate": "vessel_id=fe16241b4f45168f<br>timestamp=2024-08-16T00:00:00.000Z<br>vessel_name=%{text}<br>lat=%{lat}<br>lon=%{lon}<extra></extra>",
           "lat": [
            48.57969966
           ],
           "legendgroup": "fe16241b4f45168f",
           "lon": [
            -11.16612943
           ],
           "marker": {
            "color": "#00cc96"
           },
           "mode": "markers+text",
           "name": "fe16241b4f45168f",
           "showlegend": true,
           "subplot": "mapbox",
           "text": [
            "EVEREST ENERGY"
           ],
           "type": "scattermapbox"
          },
          {
           "hovertemplate": "vessel_id=72674aadb46c5286<br>timestamp=2024-08-16T00:00:00.000Z<br>vessel_name=%{text}<br>lat=%{lat}<br>lon=%{lon}<extra></extra>",
           "lat": [
            36.68445811
           ],
           "legendgroup": "72674aadb46c5286",
           "lon": [
            -0.05076286
           ],
           "marker": {
            "color": "#ab63fa"
           },
           "mode": "markers+text",
           "name": "72674aadb46c5286",
           "showlegend": true,
           "subplot": "mapbox",
           "text": [
            "PIONEER"
           ],
           "type": "scattermapbox"
          }
         ],
         "name": "2024-08-16T00:00:00.000Z"
        },
        {
         "data": [
          {
           "hovertemplate": "vessel_id=3bc8490a0c382976<br>timestamp=2024-08-16T06:00:00.000Z<br>vessel_name=%{text}<br>lat=%{lat}<br>lon=%{lon}<extra></extra>",
           "lat": [
            31.61751402
           ],
           "legendgroup": "3bc8490a0c382976",
           "lon": [
            32.31277683
           ],
           "marker": {
            "color": "#636efa"
           },
           "mode": "markers+text",
           "name": "3bc8490a0c382976",
           "showlegend": true,
           "subplot": "mapbox",
           "text": [
            "NEW ENERGY"
           ],
           "type": "scattermapbox"
          },
          {
           "hovertemplate": "vessel_id=79138d1707099e3e<br>timestamp=2024-08-16T06:00:00.000Z<br>vessel_name=%{text}<br>lat=%{lat}<br>lon=%{lon}<extra></extra>",
           "lat": [
            70.54640854
           ],
           "legendgroup": "79138d1707099e3e",
           "lon": [
            15.22216573
           ],
           "marker": {
            "color": "#EF553B"
           },
           "mode": "markers+text",
           "name": "79138d1707099e3e",
           "showlegend": true,
           "subplot": "mapbox",
           "text": [
            "ASYA ENERGY"
           ],
           "type": "scattermapbox"
          },
          {
           "hovertemplate": "vessel_id=fe16241b4f45168f<br>timestamp=2024-08-16T06:00:00.000Z<br>vessel_name=%{text}<br>lat=%{lat}<br>lon=%{lon}<extra></extra>",
           "lat": [
            50.10765334
           ],
           "legendgroup": "fe16241b4f45168f",
           "lon": [
            -11.13778504
           ],
           "marker": {
            "color": "#00cc96"
           },
           "mode": "markers+text",
           "name": "fe16241b4f45168f",
           "showlegend": true,
           "subplot": "mapbox",
           "text": [
            "EVEREST ENERGY"
           ],
           "type": "scattermapbox"
          },
          {
           "hovertemplate": "vessel_id=72674aadb46c5286<br>timestamp=2024-08-16T06:00:00.000Z<br>vessel_name=%{text}<br>lat=%{lat}<br>lon=%{lon}<extra></extra>",
           "lat": [
            37.03455763
           ],
           "legendgroup": "72674aadb46c5286",
           "lon": [
            1.516277
           ],
           "marker": {
            "color": "#ab63fa"
           },
           "mode": "markers+text",
           "name": "72674aadb46c5286",
           "showlegend": true,
           "subplot": "mapbox",
           "text": [
            "PIONEER"
           ],
           "type": "scattermapbox"
          }
         ],
         "name": "2024-08-16T06:00:00.000Z"
        },
        {
         "data": [
          {
           "hovertemplate": "vessel_id=3bc8490a0c382976<br>timestamp=2024-08-16T12:00:00.000Z<br>vessel_name=%{text}<br>lat=%{lat}<br>lon=%{lon}<extra></extra>",
           "lat": [
            31.61751402
           ],
           "legendgroup": "3bc8490a0c382976",
           "lon": [
            32.31298746
           ],
           "marker": {
            "color": "#636efa"
           },
           "mode": "markers+text",
           "name": "3bc8490a0c382976",
           "showlegend": true,
           "subplot": "mapbox",
           "text": [
            "NEW ENERGY"
           ],
           "type": "scattermapbox"
          },
          {
           "hovertemplate": "vessel_id=79138d1707099e3e<br>timestamp=2024-08-16T12:00:00.000Z<br>vessel_name=%{text}<br>lat=%{lat}<br>lon=%{lon}<extra></extra>",
           "lat": [
            69.84078162
           ],
           "legendgroup": "79138d1707099e3e",
           "lon": [
            12.70285112
           ],
           "marker": {
            "color": "#EF553B"
           },
           "mode": "markers+text",
           "name": "79138d1707099e3e",
           "showlegend": true,
           "subplot": "mapbox",
           "text": [
            "ASYA ENERGY"
           ],
           "type": "scattermapbox"
          },
          {
           "hovertemplate": "vessel_id=fe16241b4f45168f<br>timestamp=2024-08-16T12:00:00.000Z<br>vessel_name=%{text}<br>lat=%{lat}<br>lon=%{lon}<extra></extra>",
           "lat": [
            51.77401845
           ],
           "legendgroup": "fe16241b4f45168f",
           "lon": [
            -11.1628835
           ],
           "marker": {
            "color": "#00cc96"
           },
           "mode": "markers+text",
           "name": "fe16241b4f45168f",
           "showlegend": true,
           "subplot": "mapbox",
           "text": [
            "EVEREST ENERGY"
           ],
           "type": "scattermapbox"
          },
          {
           "hovertemplate": "vessel_id=72674aadb46c5286<br>timestamp=2024-08-16T12:00:00.000Z<br>vessel_name=%{text}<br>lat=%{lat}<br>lon=%{lon}<extra></extra>",
           "lat": [
            37.39551294
           ],
           "legendgroup": "72674aadb46c5286",
           "lon": [
            3.0505423
           ],
           "marker": {
            "color": "#ab63fa"
           },
           "mode": "markers+text",
           "name": "72674aadb46c5286",
           "showlegend": true,
           "subplot": "mapbox",
           "text": [
            "PIONEER"
           ],
           "type": "scattermapbox"
          }
         ],
         "name": "2024-08-16T12:00:00.000Z"
        },
        {
         "data": [
          {
           "hovertemplate": "vessel_id=3bc8490a0c382976<br>timestamp=2024-08-16T18:00:00.000Z<br>vessel_name=%{text}<br>lat=%{lat}<br>lon=%{lon}<extra></extra>",
           "lat": [
            31.61751402
           ],
           "legendgroup": "3bc8490a0c382976",
           "lon": [
            32.31292612
           ],
           "marker": {
            "color": "#636efa"
           },
           "mode": "markers+text",
           "name": "3bc8490a0c382976",
           "showlegend": true,
           "subplot": "mapbox",
           "text": [
            "NEW ENERGY"
           ],
           "type": "scattermapbox"
          },
          {
           "hovertemplate": "vessel_id=79138d1707099e3e<br>timestamp=2024-08-16T18:00:00.000Z<br>vessel_name=%{text}<br>lat=%{lat}<br>lon=%{lon}<extra></extra>",
           "lat": [
            69.1134431
           ],
           "legendgroup": "79138d1707099e3e",
           "lon": [
            10.41391355
           ],
           "marker": {
            "color": "#EF553B"
           },
           "mode": "markers+text",
           "name": "79138d1707099e3e",
           "showlegend": true,
           "subplot": "mapbox",
           "text": [
            "ASYA ENERGY"
           ],
           "type": "scattermapbox"
          },
          {
           "hovertemplate": "vessel_id=fe16241b4f45168f<br>timestamp=2024-08-16T18:00:00.000Z<br>vessel_name=%{text}<br>lat=%{lat}<br>lon=%{lon}<extra></extra>",
           "lat": [
            53.1907002
           ],
           "legendgroup": "fe16241b4f45168f",
           "lon": [
            -11.01642181
           ],
           "marker": {
            "color": "#00cc96"
           },
           "mode": "markers+text",
           "name": "fe16241b4f45168f",
           "showlegend": true,
           "subplot": "mapbox",
           "text": [
            "EVEREST ENERGY"
           ],
           "type": "scattermapbox"
          },
          {
           "hovertemplate": "vessel_id=72674aadb46c5286<br>timestamp=2024-08-16T18:00:00.000Z<br>vessel_name=%{text}<br>lat=%{lat}<br>lon=%{lon}<extra></extra>",
           "lat": [
            37.48778723
           ],
           "legendgroup": "72674aadb46c5286",
           "lon": [
            4.67891285
           ],
           "marker": {
            "color": "#ab63fa"
           },
           "mode": "markers+text",
           "name": "72674aadb46c5286",
           "showlegend": true,
           "subplot": "mapbox",
           "text": [
            "PIONEER"
           ],
           "type": "scattermapbox"
          }
         ],
         "name": "2024-08-16T18:00:00.000Z"
        },
        {
         "data": [
          {
           "hovertemplate": "vessel_id=3bc8490a0c382976<br>timestamp=2024-08-17T00:00:00.000Z<br>vessel_name=%{text}<br>lat=%{lat}<br>lon=%{lon}<extra></extra>",
           "lat": [
            31.61751402
           ],
           "legendgroup": "3bc8490a0c382976",
           "lon": [
            32.31316047
           ],
           "marker": {
            "color": "#636efa"
           },
           "mode": "markers+text",
           "name": "3bc8490a0c382976",
           "showlegend": true,
           "subplot": "mapbox",
           "text": [
            "NEW ENERGY"
           ],
           "type": "scattermapbox"
          },
          {
           "hovertemplate": "vessel_id=79138d1707099e3e<br>timestamp=2024-08-17T00:00:00.000Z<br>vessel_name=%{text}<br>lat=%{lat}<br>lon=%{lon}<extra></extra>",
           "lat": [
            68.42952777
           ],
           "legendgroup": "79138d1707099e3e",
           "lon": [
            8.45992288
           ],
           "marker": {
            "color": "#EF553B"
           },
           "mode": "markers+text",
           "name": "79138d1707099e3e",
           "showlegend": true,
           "subplot": "mapbox",
           "text": [
            "ASYA ENERGY"
           ],
           "type": "scattermapbox"
          },
          {
           "hovertemplate": "vessel_id=fe16241b4f45168f<br>timestamp=2024-08-17T00:00:00.000Z<br>vessel_name=%{text}<br>lat=%{lat}<br>lon=%{lon}<extra></extra>",
           "lat": [
            54.65080514
           ],
           "legendgroup": "fe16241b4f45168f",
           "lon": [
            -10.6528313
           ],
           "marker": {
            "color": "#00cc96"
           },
           "mode": "markers+text",
           "name": "fe16241b4f45168f",
           "showlegend": true,
           "subplot": "mapbox",
           "text": [
            "EVEREST ENERGY"
           ],
           "type": "scattermapbox"
          },
          {
           "hovertemplate": "vessel_id=72674aadb46c5286<br>timestamp=2024-08-17T00:00:00.000Z<br>vessel_name=%{text}<br>lat=%{lat}<br>lon=%{lon}<extra></extra>",
           "lat": [
            37.57734757
           ],
           "legendgroup": "72674aadb46c5286",
           "lon": [
            6.30442059
           ],
           "marker": {
            "color": "#ab63fa"
           },
           "mode": "markers+text",
           "name": "72674aadb46c5286",
           "showlegend": true,
           "subplot": "mapbox",
           "text": [
            "PIONEER"
           ],
           "type": "scattermapbox"
          }
         ],
         "name": "2024-08-17T00:00:00.000Z"
        },
        {
         "data": [
          {
           "hovertemplate": "vessel_id=3bc8490a0c382976<br>timestamp=2024-08-17T06:00:00.000Z<br>vessel_name=%{text}<br>lat=%{lat}<br>lon=%{lon}<extra></extra>",
           "lat": [
            31.61751402
           ],
           "legendgroup": "3bc8490a0c382976",
           "lon": [
            32.31304937
           ],
           "marker": {
            "color": "#636efa"
           },
           "mode": "markers+text",
           "name": "3bc8490a0c382976",
           "showlegend": true,
           "subplot": "mapbox",
           "text": [
            "NEW ENERGY"
           ],
           "type": "scattermapbox"
          },
          {
           "hovertemplate": "vessel_id=79138d1707099e3e<br>timestamp=2024-08-17T06:00:00.000Z<br>vessel_name=%{text}<br>lat=%{lat}<br>lon=%{lon}<extra></extra>",
           "lat": [
            67.86502623
           ],
           "legendgroup": "79138d1707099e3e",
           "lon": [
            7.02971357
           ],
           "marker": {
            "color": "#EF553B"
           },
           "mode": "markers+text",
           "name": "79138d1707099e3e",
           "showlegend": true,
           "subplot": "mapbox",
           "text": [
            "ASYA ENERGY"
           ],
           "type": "scattermapbox"
          },
          {
           "hovertemplate": "vessel_id=fe16241b4f45168f<br>timestamp=2024-08-17T06:00:00.000Z<br>vessel_name=%{text}<br>lat=%{lat}<br>lon=%{lon}<extra></extra>",
           "lat": [
            56.18418672
           ],
           "legendgroup": "fe16241b4f45168f",
           "lon": [
            -10.16804546
           ],
           "marker": {
            "color": "#00cc96"
           },
           "mode": "markers+text",
           "name": "fe16241b4f45168f",
           "showlegend": true,
           "subplot": "mapbox",
           "text": [
            "EVEREST ENERGY"
           ],
           "type": "scattermapbox"
          },
          {
           "hovertemplate": "vessel_id=72674aadb46c5286<br>timestamp=2024-08-17T06:00:00.000Z<br>vessel_name=%{text}<br>lat=%{lat}<br>lon=%{lon}<extra></extra>",
           "lat": [
            37.64791026
           ],
           "legendgroup": "72674aadb46c5286",
           "lon": [
            7.95907162
           ],
           "marker": {
            "color": "#ab63fa"
           },
           "mode": "markers+text",
           "name": "72674aadb46c5286",
           "showlegend": true,
           "subplot": "mapbox",
           "text": [
            "PIONEER"
           ],
           "type": "scattermapbox"
          }
         ],
         "name": "2024-08-17T06:00:00.000Z"
        },
        {
         "data": [
          {
           "hovertemplate": "vessel_id=3bc8490a0c382976<br>timestamp=2024-08-17T12:00:00.000Z<br>vessel_name=%{text}<br>lat=%{lat}<br>lon=%{lon}<extra></extra>",
           "lat": [
            31.61751402
           ],
           "legendgroup": "3bc8490a0c382976",
           "lon": [
            32.31300076
           ],
           "marker": {
            "color": "#636efa"
           },
           "mode": "markers+text",
           "name": "3bc8490a0c382976",
           "showlegend": true,
           "subplot": "mapbox",
           "text": [
            "NEW ENERGY"
           ],
           "type": "scattermapbox"
          },
          {
           "hovertemplate": "vessel_id=79138d1707099e3e<br>timestamp=2024-08-17T12:00:00.000Z<br>vessel_name=%{text}<br>lat=%{lat}<br>lon=%{lon}<extra></extra>",
           "lat": [
            68.01429347
           ],
           "legendgroup": "79138d1707099e3e",
           "lon": [
            7.30721535
           ],
           "marker": {
            "color": "#EF553B"
           },
           "mode": "markers+text",
           "name": "79138d1707099e3e",
           "showlegend": true,
           "subplot": "mapbox",
           "text": [
            "ASYA ENERGY"
           ],
           "type": "scattermapbox"
          },
          {
           "hovertemplate": "vessel_id=fe16241b4f45168f<br>timestamp=2024-08-17T12:00:00.000Z<br>vessel_name=%{text}<br>lat=%{lat}<br>lon=%{lon}<extra></extra>",
           "lat": [
            57.79084494
           ],
           "legendgroup": "fe16241b4f45168f",
           "lon": [
            -9.36354894
           ],
           "marker": {
            "color": "#00cc96"
           },
           "mode": "markers+text",
           "name": "fe16241b4f45168f",
           "showlegend": true,
           "subplot": "mapbox",
           "text": [
            "EVEREST ENERGY"
           ],
           "type": "scattermapbox"
          },
          {
           "hovertemplate": "vessel_id=72674aadb46c5286<br>timestamp=2024-08-17T12:00:00.000Z<br>vessel_name=%{text}<br>lat=%{lat}<br>lon=%{lon}<extra></extra>",
           "lat": [
            37.62077076
           ],
           "legendgroup": "72674aadb46c5286",
           "lon": [
            9.59748621
           ],
           "marker": {
            "color": "#ab63fa"
           },
           "mode": "markers+text",
           "name": "72674aadb46c5286",
           "showlegend": true,
           "subplot": "mapbox",
           "text": [
            "PIONEER"
           ],
           "type": "scattermapbox"
          }
         ],
         "name": "2024-08-17T12:00:00.000Z"
        },
        {
         "data": [
          {
           "hovertemplate": "vessel_id=79138d1707099e3e<br>timestamp=2024-08-17T18:00:00.000Z<br>vessel_name=%{text}<br>lat=%{lat}<br>lon=%{lon}<extra></extra>",
           "lat": [
            68.24226524
           ],
           "legendgroup": "79138d1707099e3e",
           "lon": [
            7.54825621
           ],
           "marker": {
            "color": "#EF553B"
           },
           "mode": "markers+text",
           "name": "79138d1707099e3e",
           "showlegend": true,
           "subplot": "mapbox",
           "text": [
            "ASYA ENERGY"
           ],
           "type": "scattermapbox"
          },
          {
           "hovertemplate": "vessel_id=fe16241b4f45168f<br>timestamp=2024-08-17T18:00:00.000Z<br>vessel_name=%{text}<br>lat=%{lat}<br>lon=%{lon}<extra></extra>",
           "lat": [
            59.0989687
           ],
           "legendgroup": "fe16241b4f45168f",
           "lon": [
            -7.78395223
           ],
           "marker": {
            "color": "#00cc96"
           },
           "mode": "markers+text",
           "name": "fe16241b4f45168f",
           "showlegend": true,
           "subplot": "mapbox",
           "text": [
            "EVEREST ENERGY"
           ],
           "type": "scattermapbox"
          },
          {
           "hovertemplate": "vessel_id=72674aadb46c5286<br>timestamp=2024-08-17T18:00:00.000Z<br>vessel_name=%{text}<br>lat=%{lat}<br>lon=%{lon}<extra></extra>",
           "lat": [
            37.3168084
           ],
           "legendgroup": "72674aadb46c5286",
           "lon": [
            11.25441338
           ],
           "marker": {
            "color": "#ab63fa"
           },
           "mode": "markers+text",
           "name": "72674aadb46c5286",
           "showlegend": true,
           "subplot": "mapbox",
           "text": [
            "PIONEER"
           ],
           "type": "scattermapbox"
          }
         ],
         "name": "2024-08-17T18:00:00.000Z"
        },
        {
         "data": [
          {
           "hovertemplate": "vessel_id=79138d1707099e3e<br>timestamp=2024-08-18T00:00:00.000Z<br>vessel_name=%{text}<br>lat=%{lat}<br>lon=%{lon}<extra></extra>",
           "lat": [
            68.42952777
           ],
           "legendgroup": "79138d1707099e3e",
           "lon": [
            7.8102953
           ],
           "marker": {
            "color": "#EF553B"
           },
           "mode": "markers+text",
           "name": "79138d1707099e3e",
           "showlegend": true,
           "subplot": "mapbox",
           "text": [
            "ASYA ENERGY"
           ],
           "type": "scattermapbox"
          },
          {
           "hovertemplate": "vessel_id=fe16241b4f45168f<br>timestamp=2024-08-18T00:00:00.000Z<br>vessel_name=%{text}<br>lat=%{lat}<br>lon=%{lon}<extra></extra>",
           "lat": [
            60.45594355
           ],
           "legendgroup": "fe16241b4f45168f",
           "lon": [
            -6.05966083
           ],
           "marker": {
            "color": "#00cc96"
           },
           "mode": "markers+text",
           "name": "fe16241b4f45168f",
           "showlegend": true,
           "subplot": "mapbox",
           "text": [
            "EVEREST ENERGY"
           ],
           "type": "scattermapbox"
          },
          {
           "hovertemplate": "vessel_id=72674aadb46c5286<br>timestamp=2024-08-18T00:00:00.000Z<br>vessel_name=%{text}<br>lat=%{lat}<br>lon=%{lon}<extra></extra>",
           "lat": [
            36.8038719
           ],
           "legendgroup": "72674aadb46c5286",
           "lon": [
            12.7617217
           ],
           "marker": {
            "color": "#ab63fa"
           },
           "mode": "markers+text",
           "name": "72674aadb46c5286",
           "showlegend": true,
           "subplot": "mapbox",
           "text": [
            "PIONEER"
           ],
           "type": "scattermapbox"
          }
         ],
         "name": "2024-08-18T00:00:00.000Z"
        },
        {
         "data": [
          {
           "hovertemplate": "vessel_id=79138d1707099e3e<br>timestamp=2024-08-18T06:00:00.000Z<br>vessel_name=%{text}<br>lat=%{lat}<br>lon=%{lon}<extra></extra>",
           "lat": [
            68.65749955
           ],
           "legendgroup": "79138d1707099e3e",
           "lon": [
            8.01666946
           ],
           "marker": {
            "color": "#EF553B"
           },
           "mode": "markers+text",
           "name": "79138d1707099e3e",
           "showlegend": true,
           "subplot": "mapbox",
           "text": [
            "ASYA ENERGY"
           ],
           "type": "scattermapbox"
          },
          {
           "hovertemplate": "vessel_id=fe16241b4f45168f<br>timestamp=2024-08-18T06:00:00.000Z<br>vessel_name=%{text}<br>lat=%{lat}<br>lon=%{lon}<extra></extra>",
           "lat": [
            61.8400579
           ],
           "legendgroup": "fe16241b4f45168f",
           "lon": [
            -4.31303771
           ],
           "marker": {
            "color": "#00cc96"
           },
           "mode": "markers+text",
           "name": "fe16241b4f45168f",
           "showlegend": true,
           "subplot": "mapbox",
           "text": [
            "EVEREST ENERGY"
           ],
           "type": "scattermapbox"
          },
          {
           "hovertemplate": "vessel_id=72674aadb46c5286<br>timestamp=2024-08-18T06:00:00.000Z<br>vessel_name=%{text}<br>lat=%{lat}<br>lon=%{lon}<extra></extra>",
           "lat": [
            36.3940655
           ],
           "legendgroup": "72674aadb46c5286",
           "lon": [
            14.26492219
           ],
           "marker": {
            "color": "#ab63fa"
           },
           "mode": "markers+text",
           "name": "72674aadb46c5286",
           "showlegend": true,
           "subplot": "mapbox",
           "text": [
            "PIONEER"
           ],
           "type": "scattermapbox"
          }
         ],
         "name": "2024-08-18T06:00:00.000Z"
        },
        {
         "data": [
          {
           "hovertemplate": "vessel_id=79138d1707099e3e<br>timestamp=2024-08-18T12:00:00.000Z<br>vessel_name=%{text}<br>lat=%{lat}<br>lon=%{lon}<extra></extra>",
           "lat": [
            68.86918762
           ],
           "legendgroup": "79138d1707099e3e",
           "lon": [
            8.26626226
           ],
           "marker": {
            "color": "#EF553B"
           },
           "mode": "markers+text",
           "name": "79138d1707099e3e",
           "showlegend": true,
           "subplot": "mapbox",
           "text": [
            "ASYA ENERGY"
           ],
           "type": "scattermapbox"
          },
          {
           "hovertemplate": "vessel_id=fe16241b4f45168f<br>timestamp=2024-08-18T12:00:00.000Z<br>vessel_name=%{text}<br>lat=%{lat}<br>lon=%{lon}<extra></extra>",
           "lat": [
            63.08033291
           ],
           "legendgroup": "fe16241b4f45168f",
           "lon": [
            -1.99007778
           ],
           "marker": {
            "color": "#00cc96"
           },
           "mode": "markers+text",
           "name": "fe16241b4f45168f",
           "showlegend": true,
           "subplot": "mapbox",
           "text": [
            "EVEREST ENERGY"
           ],
           "type": "scattermapbox"
          },
          {
           "hovertemplate": "vessel_id=72674aadb46c5286<br>timestamp=2024-08-18T12:00:00.000Z<br>vessel_name=%{text}<br>lat=%{lat}<br>lon=%{lon}<extra></extra>",
           "lat": [
            36.04939388
           ],
           "legendgroup": "72674aadb46c5286",
           "lon": [
            15.82676617
           ],
           "marker": {
            "color": "#ab63fa"
           },
           "mode": "markers+text",
           "name": "72674aadb46c5286",
           "showlegend": true,
           "subplot": "mapbox",
           "text": [
            "PIONEER"
           ],
           "type": "scattermapbox"
          }
         ],
         "name": "2024-08-18T12:00:00.000Z"
        },
        {
         "data": [
          {
           "hovertemplate": "vessel_id=3bc8490a0c382976<br>timestamp=2024-08-18T18:00:00.000Z<br>vessel_name=%{text}<br>lat=%{lat}<br>lon=%{lon}<extra></extra>",
           "lat": [
            31.61751402
           ],
           "legendgroup": "3bc8490a0c382976",
           "lon": [
            32.31325075
           ],
           "marker": {
            "color": "#636efa"
           },
           "mode": "markers+text",
           "name": "3bc8490a0c382976",
           "showlegend": true,
           "subplot": "mapbox",
           "text": [
            "NEW ENERGY"
           ],
           "type": "scattermapbox"
          },
          {
           "hovertemplate": "vessel_id=79138d1707099e3e<br>timestamp=2024-08-18T18:00:00.000Z<br>vessel_name=%{text}<br>lat=%{lat}<br>lon=%{lon}<extra></extra>",
           "lat": [
            69.05102225
           ],
           "legendgroup": "79138d1707099e3e",
           "lon": [
            8.3493709
           ],
           "marker": {
            "color": "#EF553B"
           },
           "mode": "markers+text",
           "name": "79138d1707099e3e",
           "showlegend": true,
           "subplot": "mapbox",
           "text": [
            "ASYA ENERGY"
           ],
           "type": "scattermapbox"
          },
          {
           "hovertemplate": "vessel_id=fe16241b4f45168f<br>timestamp=2024-08-18T18:00:00.000Z<br>vessel_name=%{text}<br>lat=%{lat}<br>lon=%{lon}<extra></extra>",
           "lat": [
            64.13063145
           ],
           "legendgroup": "fe16241b4f45168f",
           "lon": [
            0.08086142
           ],
           "marker": {
            "color": "#00cc96"
           },
           "mode": "markers+text",
           "name": "fe16241b4f45168f",
           "showlegend": true,
           "subplot": "mapbox",
           "text": [
            "EVEREST ENERGY"
           ],
           "type": "scattermapbox"
          },
          {
           "hovertemplate": "vessel_id=72674aadb46c5286<br>timestamp=2024-08-18T18:00:00.000Z<br>vessel_name=%{text}<br>lat=%{lat}<br>lon=%{lon}<extra></extra>",
           "lat": [
            35.66129908
           ],
           "legendgroup": "72674aadb46c5286",
           "lon": [
            17.42005382
           ],
           "marker": {
            "color": "#ab63fa"
           },
           "mode": "markers+text",
           "name": "72674aadb46c5286",
           "showlegend": true,
           "subplot": "mapbox",
           "text": [
            "PIONEER"
           ],
           "type": "scattermapbox"
          }
         ],
         "name": "2024-08-18T18:00:00.000Z"
        },
        {
         "data": [
          {
           "hovertemplate": "vessel_id=3bc8490a0c382976<br>timestamp=2024-08-19T00:00:00.000Z<br>vessel_name=%{text}<br>lat=%{lat}<br>lon=%{lon}<extra></extra>",
           "lat": [
            31.61751402
           ],
           "legendgroup": "3bc8490a0c382976",
           "lon": [
            32.31322818
           ],
           "marker": {
            "color": "#636efa"
           },
           "mode": "markers+text",
           "name": "3bc8490a0c382976",
           "showlegend": true,
           "subplot": "mapbox",
           "text": [
            "NEW ENERGY"
           ],
           "type": "scattermapbox"
          },
          {
           "hovertemplate": "vessel_id=79138d1707099e3e<br>timestamp=2024-08-19T00:00:00.000Z<br>vessel_name=%{text}<br>lat=%{lat}<br>lon=%{lon}<extra></extra>",
           "lat": [
            69.20300344
           ],
           "legendgroup": "79138d1707099e3e",
           "lon": [
            8.56869608
           ],
           "marker": {
            "color": "#EF553B"
           },
           "mode": "markers+text",
           "name": "79138d1707099e3e",
           "showlegend": true,
           "subplot": "mapbox",
           "text": [
            "ASYA ENERGY"
           ],
           "type": "scattermapbox"
          },
          {
           "hovertemplate": "vessel_id=fe16241b4f45168f<br>timestamp=2024-08-19T00:00:00.000Z<br>vessel_name=%{text}<br>lat=%{lat}<br>lon=%{lon}<extra></extra>",
           "lat": [
            65.32748326
           ],
           "legendgroup": "fe16241b4f45168f",
           "lon": [
            2.52268381
           ],
           "marker": {
            "color": "#00cc96"
           },
           "mode": "markers+text",
           "name": "fe16241b4f45168f",
           "showlegend": true,
           "subplot": "mapbox",
           "text": [
            "EVEREST ENERGY"
           ],
           "type": "scattermapbox"
          },
          {
           "hovertemplate": "vessel_id=72674aadb46c5286<br>timestamp=2024-08-19T00:00:00.000Z<br>vessel_name=%{text}<br>lat=%{lat}<br>lon=%{lon}<extra></extra>",
           "lat": [
            35.28948797
           ],
           "legendgroup": "72674aadb46c5286",
           "lon": [
            18.9189582
           ],
           "marker": {
            "color": "#ab63fa"
           },
           "mode": "markers+text",
           "name": "72674aadb46c5286",
           "showlegend": true,
           "subplot": "mapbox",
           "text": [
            "PIONEER"
           ],
           "type": "scattermapbox"
          }
         ],
         "name": "2024-08-19T00:00:00.000Z"
        },
        {
         "data": [
          {
           "hovertemplate": "vessel_id=3bc8490a0c382976<br>timestamp=2024-08-19T06:00:00.000Z<br>vessel_name=%{text}<br>lat=%{lat}<br>lon=%{lon}<extra></extra>",
           "lat": [
            31.61751402
           ],
           "legendgroup": "3bc8490a0c382976",
           "lon": [
            32.31303143
           ],
           "marker": {
            "color": "#636efa"
           },
           "mode": "markers+text",
           "name": "3bc8490a0c382976",
           "showlegend": true,
           "subplot": "mapbox",
           "text": [
            "NEW ENERGY"
           ],
           "type": "scattermapbox"
          },
          {
           "hovertemplate": "vessel_id=79138d1707099e3e<br>timestamp=2024-08-19T06:00:00.000Z<br>vessel_name=%{text}<br>lat=%{lat}<br>lon=%{lon}<extra></extra>",
           "lat": [
            68.87461552
           ],
           "legendgroup": "79138d1707099e3e",
           "lon": [
            7.67279967
           ],
           "marker": {
            "color": "#EF553B"
           },
           "mode": "markers+text",
           "name": "79138d1707099e3e",
           "showlegend": true,
           "subplot": "mapbox",
           "text": [
            "ASYA ENERGY"
           ],
           "type": "scattermapbox"
          },
          {
           "hovertemplate": "vessel_id=fe16241b4f45168f<br>timestamp=2024-08-19T06:00:00.000Z<br>vessel_name=%{text}<br>lat=%{lat}<br>lon=%{lon}<extra></extra>",
           "lat": [
            66.72788131
           ],
           "legendgroup": "fe16241b4f45168f",
           "lon": [
            5.62564597
           ],
           "marker": {
            "color": "#00cc96"
           },
           "mode": "markers+text",
           "name": "fe16241b4f45168f",
           "showlegend": true,
           "subplot": "mapbox",
           "text": [
            "EVEREST ENERGY"
           ],
           "type": "scattermapbox"
          },
          {
           "hovertemplate": "vessel_id=72674aadb46c5286<br>timestamp=2024-08-19T06:00:00.000Z<br>vessel_name=%{text}<br>lat=%{lat}<br>lon=%{lon}<extra></extra>",
           "lat": [
            34.93124661
           ],
           "legendgroup": "72674aadb46c5286",
           "lon": [
            20.40150866
           ],
           "marker": {
            "color": "#ab63fa"
           },
           "mode": "markers+text",
           "name": "72674aadb46c5286",
           "showlegend": true,
           "subplot": "mapbox",
           "text": [
            "PIONEER"
           ],
           "type": "scattermapbox"
          }
         ],
         "name": "2024-08-19T06:00:00.000Z"
        },
        {
         "data": [
          {
           "hovertemplate": "vessel_id=3bc8490a0c382976<br>timestamp=2024-08-19T12:00:00.000Z<br>vessel_name=%{text}<br>lat=%{lat}<br>lon=%{lon}<extra></extra>",
           "lat": [
            31.61751402
           ],
           "legendgroup": "3bc8490a0c382976",
           "lon": [
            32.31278377
           ],
           "marker": {
            "color": "#636efa"
           },
           "mode": "markers+text",
           "name": "3bc8490a0c382976",
           "showlegend": true,
           "subplot": "mapbox",
           "text": [
            "NEW ENERGY"
           ],
           "type": "scattermapbox"
          },
          {
           "hovertemplate": "vessel_id=79138d1707099e3e<br>timestamp=2024-08-19T12:00:00.000Z<br>vessel_name=%{text}<br>lat=%{lat}<br>lon=%{lon}<extra></extra>",
           "lat": [
            68.18798625
           ],
           "legendgroup": "79138d1707099e3e",
           "lon": [
            6.04793082
           ],
           "marker": {
            "color": "#EF553B"
           },
           "mode": "markers+text",
           "name": "79138d1707099e3e",
           "showlegend": true,
           "subplot": "mapbox",
           "text": [
            "ASYA ENERGY"
           ],
           "type": "scattermapbox"
          },
          {
           "hovertemplate": "vessel_id=fe16241b4f45168f<br>timestamp=2024-08-19T12:00:00.000Z<br>vessel_name=%{text}<br>lat=%{lat}<br>lon=%{lon}<extra></extra>",
           "lat": [
            68.00343767
           ],
           "legendgroup": "fe16241b4f45168f",
           "lon": [
            8.54294977
           ],
           "marker": {
            "color": "#00cc96"
           },
           "mode": "markers+text",
           "name": "fe16241b4f45168f",
           "showlegend": true,
           "subplot": "mapbox",
           "text": [
            "EVEREST ENERGY"
           ],
           "type": "scattermapbox"
          },
          {
           "hovertemplate": "vessel_id=72674aadb46c5286<br>timestamp=2024-08-19T12:00:00.000Z<br>vessel_name=%{text}<br>lat=%{lat}<br>lon=%{lon}<extra></extra>",
           "lat": [
            34.5431518
           ],
           "legendgroup": "72674aadb46c5286",
           "lon": [
            21.95700279
           ],
           "marker": {
            "color": "#ab63fa"
           },
           "mode": "markers+text",
           "name": "72674aadb46c5286",
           "showlegend": true,
           "subplot": "mapbox",
           "text": [
            "PIONEER"
           ],
           "type": "scattermapbox"
          }
         ],
         "name": "2024-08-19T12:00:00.000Z"
        },
        {
         "data": [
          {
           "hovertemplate": "vessel_id=3bc8490a0c382976<br>timestamp=2024-08-19T18:00:00.000Z<br>vessel_name=%{text}<br>lat=%{lat}<br>lon=%{lon}<extra></extra>",
           "lat": [
            31.61751402
           ],
           "legendgroup": "3bc8490a0c382976",
           "lon": [
            32.31318131
           ],
           "marker": {
            "color": "#636efa"
           },
           "mode": "markers+text",
           "name": "3bc8490a0c382976",
           "showlegend": true,
           "subplot": "mapbox",
           "text": [
            "NEW ENERGY"
           ],
           "type": "scattermapbox"
          },
          {
           "hovertemplate": "vessel_id=79138d1707099e3e<br>timestamp=2024-08-19T18:00:00.000Z<br>vessel_name=%{text}<br>lat=%{lat}<br>lon=%{lon}<extra></extra>",
           "lat": [
            67.41722453
           ],
           "legendgroup": "79138d1707099e3e",
           "lon": [
            4.33949366
           ],
           "marker": {
            "color": "#EF553B"
           },
           "mode": "markers+text",
           "name": "79138d1707099e3e",
           "showlegend": true,
           "subplot": "mapbox",
           "text": [
            "ASYA ENERGY"
           ],
           "type": "scattermapbox"
          },
          {
           "hovertemplate": "vessel_id=fe16241b4f45168f<br>timestamp=2024-08-19T18:00:00.000Z<br>vessel_name=%{text}<br>lat=%{lat}<br>lon=%{lon}<extra></extra>",
           "lat": [
            69.12701285
           ],
           "legendgroup": "fe16241b4f45168f",
           "lon": [
            11.79814668
           ],
           "marker": {
            "color": "#00cc96"
           },
           "mode": "markers+text",
           "name": "fe16241b4f45168f",
           "showlegend": true,
           "subplot": "mapbox",
           "text": [
            "EVEREST ENERGY"
           ],
           "type": "scattermapbox"
          },
          {
           "hovertemplate": "vessel_id=72674aadb46c5286<br>timestamp=2024-08-19T18:00:00.000Z<br>vessel_name=%{text}<br>lat=%{lat}<br>lon=%{lon}<extra></extra>",
           "lat": [
            34.17676859
           ],
           "legendgroup": "72674aadb46c5286",
           "lon": [
            23.44551067
           ],
           "marker": {
            "color": "#ab63fa"
           },
           "mode": "markers+text",
           "name": "72674aadb46c5286",
           "showlegend": true,
           "subplot": "mapbox",
           "text": [
            "PIONEER"
           ],
           "type": "scattermapbox"
          }
         ],
         "name": "2024-08-19T18:00:00.000Z"
        },
        {
         "data": [
          {
           "hovertemplate": "vessel_id=3bc8490a0c382976<br>timestamp=2024-08-20T00:00:00.000Z<br>vessel_name=%{text}<br>lat=%{lat}<br>lon=%{lon}<extra></extra>",
           "lat": [
            31.61751402
           ],
           "legendgroup": "3bc8490a0c382976",
           "lon": [
            32.31293133
           ],
           "marker": {
            "color": "#636efa"
           },
           "mode": "markers+text",
           "name": "3bc8490a0c382976",
           "showlegend": true,
           "subplot": "mapbox",
           "text": [
            "NEW ENERGY"
           ],
           "type": "scattermapbox"
          },
          {
           "hovertemplate": "vessel_id=79138d1707099e3e<br>timestamp=2024-08-20T00:00:00.000Z<br>vessel_name=%{text}<br>lat=%{lat}<br>lon=%{lon}<extra></extra>",
           "lat": [
            66.69802786
           ],
           "legendgroup": "79138d1707099e3e",
           "lon": [
            2.89526594
           ],
           "marker": {
            "color": "#EF553B"
           },
           "mode": "markers+text",
           "name": "79138d1707099e3e",
           "showlegend": true,
           "subplot": "mapbox",
           "text": [
            "ASYA ENERGY"
           ],
           "type": "scattermapbox"
          },
          {
           "hovertemplate": "vessel_id=fe16241b4f45168f<br>timestamp=2024-08-20T00:00:00.000Z<br>vessel_name=%{text}<br>lat=%{lat}<br>lon=%{lon}<extra></extra>",
           "lat": [
            70.22344853
           ],
           "legendgroup": "fe16241b4f45168f",
           "lon": [
            15.17626412
           ],
           "marker": {
            "color": "#00cc96"
           },
           "mode": "markers+text",
           "name": "fe16241b4f45168f",
           "showlegend": true,
           "subplot": "mapbox",
           "text": [
            "EVEREST ENERGY"
           ],
           "type": "scattermapbox"
          },
          {
           "hovertemplate": "vessel_id=72674aadb46c5286<br>timestamp=2024-08-20T00:00:00.000Z<br>vessel_name=%{text}<br>lat=%{lat}<br>lon=%{lon}<extra></extra>",
           "lat": [
            33.82124118
           ],
           "legendgroup": "72674aadb46c5286",
           "lon": [
            24.89241307
           ],
           "marker": {
            "color": "#ab63fa"
           },
           "mode": "markers+text",
           "name": "72674aadb46c5286",
           "showlegend": true,
           "subplot": "mapbox",
           "text": [
            "PIONEER"
           ],
           "type": "scattermapbox"
          }
         ],
         "name": "2024-08-20T00:00:00.000Z"
        },
        {
         "data": [
          {
           "hovertemplate": "vessel_id=3bc8490a0c382976<br>timestamp=2024-08-20T06:00:00.000Z<br>vessel_name=%{text}<br>lat=%{lat}<br>lon=%{lon}<extra></extra>",
           "lat": [
            31.61751402
           ],
           "legendgroup": "3bc8490a0c382976",
           "lon": [
            32.31277683
           ],
           "marker": {
            "color": "#636efa"
           },
           "mode": "markers+text",
           "name": "3bc8490a0c382976",
           "showlegend": true,
           "subplot": "mapbox",
           "text": [
            "NEW ENERGY"
           ],
           "type": "scattermapbox"
          },
          {
           "hovertemplate": "vessel_id=79138d1707099e3e<br>timestamp=2024-08-20T06:00:00.000Z<br>vessel_name=%{text}<br>lat=%{lat}<br>lon=%{lon}<extra></extra>",
           "lat": [
            66.14438212
           ],
           "legendgroup": "79138d1707099e3e",
           "lon": [
            1.70450871
           ],
           "marker": {
            "color": "#EF553B"
           },
           "mode": "markers+text",
           "name": "79138d1707099e3e",
           "showlegend": true,
           "subplot": "mapbox",
           "text": [
            "ASYA ENERGY"
           ],
           "type": "scattermapbox"
          },
          {
           "hovertemplate": "vessel_id=fe16241b4f45168f<br>timestamp=2024-08-20T06:00:00.000Z<br>vessel_name=%{text}<br>lat=%{lat}<br>lon=%{lon}<extra></extra>",
           "lat": [
            71.34973765
           ],
           "legendgroup": "fe16241b4f45168f",
           "lon": [
            19.02710199
           ],
           "marker": {
            "color": "#00cc96"
           },
           "mode": "markers+text",
           "name": "fe16241b4f45168f",
           "showlegend": true,
           "subplot": "mapbox",
           "text": [
            "EVEREST ENERGY"
           ],
           "type": "scattermapbox"
          },
          {
           "hovertemplate": "vessel_id=72674aadb46c5286<br>timestamp=2024-08-20T06:00:00.000Z<br>vessel_name=%{text}<br>lat=%{lat}<br>lon=%{lon}<extra></extra>",
           "lat": [
            33.43857427
           ],
           "legendgroup": "72674aadb46c5286",
           "lon": [
            26.3921462
           ],
           "marker": {
            "color": "#ab63fa"
           },
           "mode": "markers+text",
           "name": "72674aadb46c5286",
           "showlegend": true,
           "subplot": "mapbox",
           "text": [
            "PIONEER"
           ],
           "type": "scattermapbox"
          }
         ],
         "name": "2024-08-20T06:00:00.000Z"
        },
        {
         "data": [
          {
           "hovertemplate": "vessel_id=3bc8490a0c382976<br>timestamp=2024-08-20T12:00:00.000Z<br>vessel_name=%{text}<br>lat=%{lat}<br>lon=%{lon}<extra></extra>",
           "lat": [
            31.61751402
           ],
           "legendgroup": "3bc8490a0c382976",
           "lon": [
            32.31280403
           ],
           "marker": {
            "color": "#636efa"
           },
           "mode": "markers+text",
           "name": "3bc8490a0c382976",
           "showlegend": true,
           "subplot": "mapbox",
           "text": [
            "NEW ENERGY"
           ],
           "type": "scattermapbox"
          },
          {
           "hovertemplate": "vessel_id=79138d1707099e3e<br>timestamp=2024-08-20T12:00:00.000Z<br>vessel_name=%{text}<br>lat=%{lat}<br>lon=%{lon}<extra></extra>",
           "lat": [
            65.75628732
           ],
           "legendgroup": "79138d1707099e3e",
           "lon": [
            1.22268062
           ],
           "marker": {
            "color": "#EF553B"
           },
           "mode": "markers+text",
           "name": "79138d1707099e3e",
           "showlegend": true,
           "subplot": "mapbox",
           "text": [
            "ASYA ENERGY"
           ],
           "type": "scattermapbox"
          },
          {
           "hovertemplate": "vessel_id=fe16241b4f45168f<br>timestamp=2024-08-20T12:00:00.000Z<br>vessel_name=%{text}<br>lat=%{lat}<br>lon=%{lon}<extra></extra>",
           "lat": [
            72.29419215
           ],
           "legendgroup": "fe16241b4f45168f",
           "lon": [
            23.34376278
           ],
           "marker": {
            "color": "#00cc96"
           },
           "mode": "markers+text",
           "name": "fe16241b4f45168f",
           "showlegend": true,
           "subplot": "mapbox",
           "text": [
            "EVEREST ENERGY"
           ],
           "type": "scattermapbox"
          },
          {
           "hovertemplate": "vessel_id=72674aadb46c5286<br>timestamp=2024-08-20T12:00:00.000Z<br>vessel_name=%{text}<br>lat=%{lat}<br>lon=%{lon}<extra></extra>",
           "lat": [
            33.05047946
           ],
           "legendgroup": "72674aadb46c5286",
           "lon": [
            27.93609305
           ],
           "marker": {
            "color": "#ab63fa"
           },
           "mode": "markers+text",
           "name": "72674aadb46c5286",
           "showlegend": true,
           "subplot": "mapbox",
           "text": [
            "PIONEER"
           ],
           "type": "scattermapbox"
          }
         ],
         "name": "2024-08-20T12:00:00.000Z"
        },
        {
         "data": [
          {
           "hovertemplate": "vessel_id=3bc8490a0c382976<br>timestamp=2024-08-20T18:00:00.000Z<br>vessel_name=%{text}<br>lat=%{lat}<br>lon=%{lon}<extra></extra>",
           "lat": [
            31.61751402
           ],
           "legendgroup": "3bc8490a0c382976",
           "lon": [
            32.31287925
           ],
           "marker": {
            "color": "#636efa"
           },
           "mode": "markers+text",
           "name": "3bc8490a0c382976",
           "showlegend": true,
           "subplot": "mapbox",
           "text": [
            "NEW ENERGY"
           ],
           "type": "scattermapbox"
          },
          {
           "hovertemplate": "vessel_id=79138d1707099e3e<br>timestamp=2024-08-20T18:00:00.000Z<br>vessel_name=%{text}<br>lat=%{lat}<br>lon=%{lon}<extra></extra>",
           "lat": [
            65.35462276
           ],
           "legendgroup": "79138d1707099e3e",
           "lon": [
            0.80703592
           ],
           "marker": {
            "color": "#EF553B"
           },
           "mode": "markers+text",
           "name": "79138d1707099e3e",
           "showlegend": true,
           "subplot": "mapbox",
           "text": [
            "ASYA ENERGY"
           ],
           "type": "scattermapbox"
          },
          {
           "hovertemplate": "vessel_id=fe16241b4f45168f<br>timestamp=2024-08-20T18:00:00.000Z<br>vessel_name=%{text}<br>lat=%{lat}<br>lon=%{lon}<extra></extra>",
           "lat": [
            73.00524697
           ],
           "legendgroup": "fe16241b4f45168f",
           "lon": [
            28.28107197
           ],
           "marker": {
            "color": "#00cc96"
           },
           "mode": "markers+text",
           "name": "fe16241b4f45168f",
           "showlegend": true,
           "subplot": "mapbox",
           "text": [
            "EVEREST ENERGY"
           ],
           "type": "scattermapbox"
          },
          {
           "hovertemplate": "vessel_id=72674aadb46c5286<br>timestamp=2024-08-20T18:00:00.000Z<br>vessel_name=%{text}<br>lat=%{lat}<br>lon=%{lon}<extra></extra>",
           "lat": [
            33.02876787
           ],
           "legendgroup": "72674aadb46c5286",
           "lon": [
            34.23838169
           ],
           "marker": {
            "color": "#ab63fa"
           },
           "mode": "markers+text",
           "name": "72674aadb46c5286",
           "showlegend": true,
           "subplot": "mapbox",
           "text": [
            "PIONEER"
           ],
           "type": "scattermapbox"
          }
         ],
         "name": "2024-08-20T18:00:00.000Z"
        },
        {
         "data": [
          {
           "hovertemplate": "vessel_id=79138d1707099e3e<br>timestamp=2024-08-21T00:00:00.000Z<br>vessel_name=%{text}<br>lat=%{lat}<br>lon=%{lon}<extra></extra>",
           "lat": [
            65.00995115
           ],
           "legendgroup": "79138d1707099e3e",
           "lon": [
            0.55890163
           ],
           "marker": {
            "color": "#EF553B"
           },
           "mode": "markers+text",
           "name": "79138d1707099e3e",
           "showlegend": true,
           "subplot": "mapbox",
           "text": [
            "ASYA ENERGY"
           ],
           "type": "scattermapbox"
          },
          {
           "hovertemplate": "vessel_id=fe16241b4f45168f<br>timestamp=2024-08-21T00:00:00.000Z<br>vessel_name=%{text}<br>lat=%{lat}<br>lon=%{lon}<extra></extra>",
           "lat": [
            73.71087389
           ],
           "legendgroup": "fe16241b4f45168f",
           "lon": [
            33.55609465
           ],
           "marker": {
            "color": "#00cc96"
           },
           "mode": "markers+text",
           "name": "fe16241b4f45168f",
           "showlegend": true,
           "subplot": "mapbox",
           "text": [
            "EVEREST ENERGY"
           ],
           "type": "scattermapbox"
          },
          {
           "hovertemplate": "vessel_id=72674aadb46c5286<br>timestamp=2024-08-21T00:00:00.000Z<br>vessel_name=%{text}<br>lat=%{lat}<br>lon=%{lon}<extra></extra>",
           "lat": [
            33.77510403
           ],
           "legendgroup": "72674aadb46c5286",
           "lon": [
            35.47419281
           ],
           "marker": {
            "color": "#ab63fa"
           },
           "mode": "markers+text",
           "name": "72674aadb46c5286",
           "showlegend": true,
           "subplot": "mapbox",
           "text": [
            "PIONEER"
           ],
           "type": "scattermapbox"
          }
         ],
         "name": "2024-08-21T00:00:00.000Z"
        },
        {
         "data": [
          {
           "hovertemplate": "vessel_id=3bc8490a0c382976<br>timestamp=2024-08-21T06:00:00.000Z<br>vessel_name=%{text}<br>lat=%{lat}<br>lon=%{lon}<extra></extra>",
           "lat": [
            31.61751402
           ],
           "legendgroup": "3bc8490a0c382976",
           "lon": [
            32.31288619
           ],
           "marker": {
            "color": "#636efa"
           },
           "mode": "markers+text",
           "name": "3bc8490a0c382976",
           "showlegend": true,
           "subplot": "mapbox",
           "text": [
            "NEW ENERGY"
           ],
           "type": "scattermapbox"
          },
          {
           "hovertemplate": "vessel_id=79138d1707099e3e<br>timestamp=2024-08-21T06:00:00.000Z<br>vessel_name=%{text}<br>lat=%{lat}<br>lon=%{lon}<extra></extra>",
           "lat": [
            64.963814
           ],
           "legendgroup": "79138d1707099e3e",
           "lon": [
            0.89781333
           ],
           "marker": {
            "color": "#EF553B"
           },
           "mode": "markers+text",
           "name": "79138d1707099e3e",
           "showlegend": true,
           "subplot": "mapbox",
           "text": [
            "ASYA ENERGY"
           ],
           "type": "scattermapbox"
          },
          {
           "hovertemplate": "vessel_id=fe16241b4f45168f<br>timestamp=2024-08-21T06:00:00.000Z<br>vessel_name=%{text}<br>lat=%{lat}<br>lon=%{lon}<extra></extra>",
           "lat": [
            74.05825945
           ],
           "legendgroup": "fe16241b4f45168f",
           "lon": [
            35.94772208
           ],
           "marker": {
            "color": "#00cc96"
           },
           "mode": "markers+text",
           "name": "fe16241b4f45168f",
           "showlegend": true,
           "subplot": "mapbox",
           "text": [
            "EVEREST ENERGY"
           ],
           "type": "scattermapbox"
          },
          {
           "hovertemplate": "vessel_id=72674aadb46c5286<br>timestamp=2024-08-21T06:00:00.000Z<br>vessel_name=%{text}<br>lat=%{lat}<br>lon=%{lon}<extra></extra>",
           "lat": [
            32.04360413
           ],
           "legendgroup": "72674aadb46c5286",
           "lon": [
            31.79022948
           ],
           "marker": {
            "color": "#ab63fa"
           },
           "mode": "markers+text",
           "name": "72674aadb46c5286",
           "showlegend": true,
           "subplot": "mapbox",
           "text": [
            "PIONEER"
           ],
           "type": "scattermapbox"
          }
         ],
         "name": "2024-08-21T06:00:00.000Z"
        },
        {
         "data": [
          {
           "hovertemplate": "vessel_id=3bc8490a0c382976<br>timestamp=2024-08-21T12:00:00.000Z<br>vessel_name=%{text}<br>lat=%{lat}<br>lon=%{lon}<extra></extra>",
           "lat": [
            33.12104216
           ],
           "legendgroup": "3bc8490a0c382976",
           "lon": [
            34.09343495
           ],
           "marker": {
            "color": "#636efa"
           },
           "mode": "markers+text",
           "name": "3bc8490a0c382976",
           "showlegend": true,
           "subplot": "mapbox",
           "text": [
            "NEW ENERGY"
           ],
           "type": "scattermapbox"
          },
          {
           "hovertemplate": "vessel_id=79138d1707099e3e<br>timestamp=2024-08-21T12:00:00.000Z<br>vessel_name=%{text}<br>lat=%{lat}<br>lon=%{lon}<extra></extra>",
           "lat": [
            65.60702008
           ],
           "legendgroup": "79138d1707099e3e",
           "lon": [
            2.14225398
           ],
           "marker": {
            "color": "#EF553B"
           },
           "mode": "markers+text",
           "name": "79138d1707099e3e",
           "showlegend": true,
           "subplot": "mapbox",
           "text": [
            "ASYA ENERGY"
           ],
           "type": "scattermapbox"
          },
          {
           "hovertemplate": "vessel_id=fe16241b4f45168f<br>timestamp=2024-08-21T12:00:00.000Z<br>vessel_name=%{text}<br>lat=%{lat}<br>lon=%{lon}<extra></extra>",
           "lat": [
            74.06368735
           ],
           "legendgroup": "fe16241b4f45168f",
           "lon": [
            35.98214178
           ],
           "marker": {
            "color": "#00cc96"
           },
           "mode": "markers+text",
           "name": "fe16241b4f45168f",
           "showlegend": true,
           "subplot": "mapbox",
           "text": [
            "EVEREST ENERGY"
           ],
           "type": "scattermapbox"
          },
          {
           "hovertemplate": "vessel_id=72674aadb46c5286<br>timestamp=2024-08-21T12:00:00.000Z<br>vessel_name=%{text}<br>lat=%{lat}<br>lon=%{lon}<extra></extra>",
           "lat": [
            33.27030939
           ],
           "legendgroup": "72674aadb46c5286",
           "lon": [
            34.08270904
           ],
           "marker": {
            "color": "#ab63fa"
           },
           "mode": "markers+text",
           "name": "72674aadb46c5286",
           "showlegend": true,
           "subplot": "mapbox",
           "text": [
            "PIONEER"
           ],
           "type": "scattermapbox"
          }
         ],
         "name": "2024-08-21T12:00:00.000Z"
        },
        {
         "data": [
          {
           "hovertemplate": "vessel_id=3bc8490a0c382976<br>timestamp=2024-08-21T18:00:00.000Z<br>vessel_name=%{text}<br>lat=%{lat}<br>lon=%{lon}<extra></extra>",
           "lat": [
            31.61751402
           ],
           "legendgroup": "3bc8490a0c382976",
           "lon": [
            32.31270797
           ],
           "marker": {
            "color": "#636efa"
           },
           "mode": "markers+text",
           "name": "3bc8490a0c382976",
           "showlegend": true,
           "subplot": "mapbox",
           "text": [
            "NEW ENERGY"
           ],
           "type": "scattermapbox"
          },
          {
           "hovertemplate": "vessel_id=79138d1707099e3e<br>timestamp=2024-08-21T18:00:00.000Z<br>vessel_name=%{text}<br>lat=%{lat}<br>lon=%{lon}<extra></extra>",
           "lat": [
            66.29093541
           ],
           "legendgroup": "79138d1707099e3e",
           "lon": [
            3.52997245
           ],
           "marker": {
            "color": "#EF553B"
           },
           "mode": "markers+text",
           "name": "79138d1707099e3e",
           "showlegend": true,
           "subplot": "mapbox",
           "text": [
            "ASYA ENERGY"
           ],
           "type": "scattermapbox"
          },
          {
           "hovertemplate": "vessel_id=fe16241b4f45168f<br>timestamp=2024-08-21T18:00:00.000Z<br>vessel_name=%{text}<br>lat=%{lat}<br>lon=%{lon}<extra></extra>",
           "lat": [
            74.0718292
           ],
           "legendgroup": "fe16241b4f45168f",
           "lon": [
            36.00702744
           ],
           "marker": {
            "color": "#00cc96"
           },
           "mode": "markers+text",
           "name": "fe16241b4f45168f",
           "showlegend": true,
           "subplot": "mapbox",
           "text": [
            "EVEREST ENERGY"
           ],
           "type": "scattermapbox"
          },
          {
           "hovertemplate": "vessel_id=72674aadb46c5286<br>timestamp=2024-08-21T18:00:00.000Z<br>vessel_name=%{text}<br>lat=%{lat}<br>lon=%{lon}<extra></extra>",
           "lat": [
            32.02460648
           ],
           "legendgroup": "72674aadb46c5286",
           "lon": [
            31.89561709
           ],
           "marker": {
            "color": "#ab63fa"
           },
           "mode": "markers+text",
           "name": "72674aadb46c5286",
           "showlegend": true,
           "subplot": "mapbox",
           "text": [
            "PIONEER"
           ],
           "type": "scattermapbox"
          }
         ],
         "name": "2024-08-21T18:00:00.000Z"
        },
        {
         "data": [
          {
           "hovertemplate": "vessel_id=79138d1707099e3e<br>timestamp=2024-08-22T00:00:00.000Z<br>vessel_name=%{text}<br>lat=%{lat}<br>lon=%{lon}<extra></extra>",
           "lat": [
            66.93685544
           ],
           "legendgroup": "79138d1707099e3e",
           "lon": [
            4.92565706
           ],
           "marker": {
            "color": "#EF553B"
           },
           "mode": "markers+text",
           "name": "79138d1707099e3e",
           "showlegend": true,
           "subplot": "mapbox",
           "text": [
            "ASYA ENERGY"
           ],
           "type": "scattermapbox"
          },
          {
           "hovertemplate": "vessel_id=fe16241b4f45168f<br>timestamp=2024-08-22T00:00:00.000Z<br>vessel_name=%{text}<br>lat=%{lat}<br>lon=%{lon}<extra></extra>",
           "lat": [
            74.07997105
           ],
           "legendgroup": "fe16241b4f45168f",
           "lon": [
            36.03385243
           ],
           "marker": {
            "color": "#00cc96"
           },
           "mode": "markers+text",
           "name": "fe16241b4f45168f",
           "showlegend": true,
           "subplot": "mapbox",
           "text": [
            "EVEREST ENERGY"
           ],
           "type": "scattermapbox"
          },
          {
           "hovertemplate": "vessel_id=72674aadb46c5286<br>timestamp=2024-08-22T00:00:00.000Z<br>vessel_name=%{text}<br>lat=%{lat}<br>lon=%{lon}<extra></extra>",
           "lat": [
            32.05174597
           ],
           "legendgroup": "72674aadb46c5286",
           "lon": [
            31.882526
           ],
           "marker": {
            "color": "#ab63fa"
           },
           "mode": "markers+text",
           "name": "72674aadb46c5286",
           "showlegend": true,
           "subplot": "mapbox",
           "text": [
            "PIONEER"
           ],
           "type": "scattermapbox"
          }
         ],
         "name": "2024-08-22T00:00:00.000Z"
        },
        {
         "data": [
          {
           "hovertemplate": "vessel_id=79138d1707099e3e<br>timestamp=2024-08-22T06:00:00.000Z<br>vessel_name=%{text}<br>lat=%{lat}<br>lon=%{lon}<extra></extra>",
           "lat": [
            67.55292202
           ],
           "legendgroup": "79138d1707099e3e",
           "lon": [
            6.34732665
           ],
           "marker": {
            "color": "#EF553B"
           },
           "mode": "markers+text",
           "name": "79138d1707099e3e",
           "showlegend": true,
           "subplot": "mapbox",
           "text": [
            "ASYA ENERGY"
           ],
           "type": "scattermapbox"
          },
          {
           "hovertemplate": "vessel_id=fe16241b4f45168f<br>timestamp=2024-08-22T06:00:00.000Z<br>vessel_name=%{text}<br>lat=%{lat}<br>lon=%{lon}<extra></extra>",
           "lat": [
            74.08539895
           ],
           "legendgroup": "fe16241b4f45168f",
           "lon": [
            36.06712441
           ],
           "marker": {
            "color": "#00cc96"
           },
           "mode": "markers+text",
           "name": "fe16241b4f45168f",
           "showlegend": true,
           "subplot": "mapbox",
           "text": [
            "EVEREST ENERGY"
           ],
           "type": "scattermapbox"
          },
          {
           "hovertemplate": "vessel_id=72674aadb46c5286<br>timestamp=2024-08-22T06:00:00.000Z<br>vessel_name=%{text}<br>lat=%{lat}<br>lon=%{lon}<extra></extra>",
           "lat": [
            32.01375068
           ],
           "legendgroup": "72674aadb46c5286",
           "lon": [
            31.95313315
           ],
           "marker": {
            "color": "#ab63fa"
           },
           "mode": "markers+text",
           "name": "72674aadb46c5286",
           "showlegend": true,
           "subplot": "mapbox",
           "text": [
            "PIONEER"
           ],
           "type": "scattermapbox"
          }
         ],
         "name": "2024-08-22T06:00:00.000Z"
        },
        {
         "data": [
          {
           "hovertemplate": "vessel_id=3bc8490a0c382976<br>timestamp=2024-08-22T12:00:00.000Z<br>vessel_name=%{text}<br>lat=%{lat}<br>lon=%{lon}<extra></extra>",
           "lat": [
            31.61751402
           ],
           "legendgroup": "3bc8490a0c382976",
           "lon": [
            32.3126883
           ],
           "marker": {
            "color": "#636efa"
           },
           "mode": "markers+text",
           "name": "3bc8490a0c382976",
           "showlegend": true,
           "subplot": "mapbox",
           "text": [
            "NEW ENERGY"
           ],
           "type": "scattermapbox"
          },
          {
           "hovertemplate": "vessel_id=79138d1707099e3e<br>timestamp=2024-08-22T12:00:00.000Z<br>vessel_name=%{text}<br>lat=%{lat}<br>lon=%{lon}<extra></extra>",
           "lat": [
            68.2232676
           ],
           "legendgroup": "79138d1707099e3e",
           "lon": [
            7.99599275
           ],
           "marker": {
            "color": "#EF553B"
           },
           "mode": "markers+text",
           "name": "79138d1707099e3e",
           "showlegend": true,
           "subplot": "mapbox",
           "text": [
            "ASYA ENERGY"
           ],
           "type": "scattermapbox"
          },
          {
           "hovertemplate": "vessel_id=fe16241b4f45168f<br>timestamp=2024-08-22T12:00:00.000Z<br>vessel_name=%{text}<br>lat=%{lat}<br>lon=%{lon}<extra></extra>",
           "lat": [
            74.09082685
           ],
           "legendgroup": "fe16241b4f45168f",
           "lon": [
            36.09040244
           ],
           "marker": {
            "color": "#00cc96"
           },
           "mode": "markers+text",
           "name": "fe16241b4f45168f",
           "showlegend": true,
           "subplot": "mapbox",
           "text": [
            "EVEREST ENERGY"
           ],
           "type": "scattermapbox"
          },
          {
           "hovertemplate": "vessel_id=72674aadb46c5286<br>timestamp=2024-08-22T12:00:00.000Z<br>vessel_name=%{text}<br>lat=%{lat}<br>lon=%{lon}<extra></extra>",
           "lat": [
            32.01103673
           ],
           "legendgroup": "72674aadb46c5286",
           "lon": [
            32.13714981
           ],
           "marker": {
            "color": "#ab63fa"
           },
           "mode": "markers+text",
           "name": "72674aadb46c5286",
           "showlegend": true,
           "subplot": "mapbox",
           "text": [
            "PIONEER"
           ],
           "type": "scattermapbox"
          }
         ],
         "name": "2024-08-22T12:00:00.000Z"
        },
        {
         "data": [
          {
           "hovertemplate": "vessel_id=3bc8490a0c382976<br>timestamp=2024-08-22T18:00:00.000Z<br>vessel_name=%{text}<br>lat=%{lat}<br>lon=%{lon}<extra></extra>",
           "lat": [
            31.61751402
           ],
           "legendgroup": "3bc8490a0c382976",
           "lon": [
            32.31273691
           ],
           "marker": {
            "color": "#636efa"
           },
           "mode": "markers+text",
           "name": "3bc8490a0c382976",
           "showlegend": true,
           "subplot": "mapbox",
           "text": [
            "NEW ENERGY"
           ],
           "type": "scattermapbox"
          },
          {
           "hovertemplate": "vessel_id=79138d1707099e3e<br>timestamp=2024-08-22T18:00:00.000Z<br>vessel_name=%{text}<br>lat=%{lat}<br>lon=%{lon}<extra></extra>",
           "lat": [
            68.80948073
           ],
           "legendgroup": "79138d1707099e3e",
           "lon": [
            9.60291106
           ],
           "marker": {
            "color": "#EF553B"
           },
           "mode": "markers+text",
           "name": "79138d1707099e3e",
           "showlegend": true,
           "subplot": "mapbox",
           "text": [
            "ASYA ENERGY"
           ],
           "type": "scattermapbox"
          },
          {
           "hovertemplate": "vessel_id=fe16241b4f45168f<br>timestamp=2024-08-22T18:00:00.000Z<br>vessel_name=%{text}<br>lat=%{lat}<br>lon=%{lon}<extra></extra>",
           "lat": [
            74.0989687
           ],
           "legendgroup": "fe16241b4f45168f",
           "lon": [
            36.11504775
           ],
           "marker": {
            "color": "#00cc96"
           },
           "mode": "markers+text",
           "name": "fe16241b4f45168f",
           "showlegend": true,
           "subplot": "mapbox",
           "text": [
            "EVEREST ENERGY"
           ],
           "type": "scattermapbox"
          },
          {
           "hovertemplate": "vessel_id=72674aadb46c5286<br>timestamp=2024-08-22T18:00:00.000Z<br>vessel_name=%{text}<br>lat=%{lat}<br>lon=%{lon}<extra></extra>",
           "lat": [
            32.01103673
           ],
           "legendgroup": "72674aadb46c5286",
           "lon": [
            32.17895588
           ],
           "marker": {
            "color": "#ab63fa"
           },
           "mode": "markers+text",
           "name": "72674aadb46c5286",
           "showlegend": true,
           "subplot": "mapbox",
           "text": [
            "PIONEER"
           ],
           "type": "scattermapbox"
          }
         ],
         "name": "2024-08-22T18:00:00.000Z"
        },
        {
         "data": [
          {
           "hovertemplate": "vessel_id=3bc8490a0c382976<br>timestamp=2024-08-23T00:00:00.000Z<br>vessel_name=%{text}<br>lat=%{lat}<br>lon=%{lon}<extra></extra>",
           "lat": [
            31.61751402
           ],
           "legendgroup": "3bc8490a0c382976",
           "lon": [
            32.31275774
           ],
           "marker": {
            "color": "#636efa"
           },
           "mode": "markers+text",
           "name": "3bc8490a0c382976",
           "showlegend": true,
           "subplot": "mapbox",
           "text": [
            "NEW ENERGY"
           ],
           "type": "scattermapbox"
          },
          {
           "hovertemplate": "vessel_id=79138d1707099e3e<br>timestamp=2024-08-23T00:00:00.000Z<br>vessel_name=%{text}<br>lat=%{lat}<br>lon=%{lon}<extra></extra>",
           "lat": [
            69.44725891
           ],
           "legendgroup": "79138d1707099e3e",
           "lon": [
            11.52588899
           ],
           "marker": {
            "color": "#EF553B"
           },
           "mode": "markers+text",
           "name": "79138d1707099e3e",
           "showlegend": true,
           "subplot": "mapbox",
           "text": [
            "ASYA ENERGY"
           ],
           "type": "scattermapbox"
          },
          {
           "hovertemplate": "vessel_id=fe16241b4f45168f<br>timestamp=2024-08-23T00:00:00.000Z<br>vessel_name=%{text}<br>lat=%{lat}<br>lon=%{lon}<extra></extra>",
           "lat": [
            74.1043966
           ],
           "legendgroup": "fe16241b4f45168f",
           "lon": [
            36.14715287
           ],
           "marker": {
            "color": "#00cc96"
           },
           "mode": "markers+text",
           "name": "fe16241b4f45168f",
           "showlegend": true,
           "subplot": "mapbox",
           "text": [
            "EVEREST ENERGY"
           ],
           "type": "scattermapbox"
          },
          {
           "hovertemplate": "vessel_id=72674aadb46c5286<br>timestamp=2024-08-23T00:00:00.000Z<br>vessel_name=%{text}<br>lat=%{lat}<br>lon=%{lon}<extra></extra>",
           "lat": [
            32.00560883
           ],
           "legendgroup": "72674aadb46c5286",
           "lon": [
            32.27955595
           ],
           "marker": {
            "color": "#ab63fa"
           },
           "mode": "markers+text",
           "name": "72674aadb46c5286",
           "showlegend": true,
           "subplot": "mapbox",
           "text": [
            "PIONEER"
           ],
           "type": "scattermapbox"
          }
         ],
         "name": "2024-08-23T00:00:00.000Z"
        },
        {
         "data": [
          {
           "hovertemplate": "vessel_id=3bc8490a0c382976<br>timestamp=2024-08-23T06:00:00.000Z<br>vessel_name=%{text}<br>lat=%{lat}<br>lon=%{lon}<extra></extra>",
           "lat": [
            31.44110729
           ],
           "legendgroup": "3bc8490a0c382976",
           "lon": [
            32.52845429
           ],
           "marker": {
            "color": "#636efa"
           },
           "mode": "markers+text",
           "name": "3bc8490a0c382976",
           "showlegend": true,
           "subplot": "mapbox",
           "text": [
            "NEW ENERGY"
           ],
           "type": "scattermapbox"
          },
          {
           "hovertemplate": "vessel_id=79138d1707099e3e<br>timestamp=2024-08-23T06:00:00.000Z<br>vessel_name=%{text}<br>lat=%{lat}<br>lon=%{lon}<extra></extra>",
           "lat": [
            70.07418129
           ],
           "legendgroup": "79138d1707099e3e",
           "lon": [
            13.70560601
           ],
           "marker": {
            "color": "#EF553B"
           },
           "mode": "markers+text",
           "name": "79138d1707099e3e",
           "showlegend": true,
           "subplot": "mapbox",
           "text": [
            "ASYA ENERGY"
           ],
           "type": "scattermapbox"
          },
          {
           "hovertemplate": "vessel_id=fe16241b4f45168f<br>timestamp=2024-08-23T06:00:00.000Z<br>vessel_name=%{text}<br>lat=%{lat}<br>lon=%{lon}<extra></extra>",
           "lat": [
            74.1098245
           ],
           "legendgroup": "fe16241b4f45168f",
           "lon": [
            36.18052975
           ],
           "marker": {
            "color": "#00cc96"
           },
           "mode": "markers+text",
           "name": "fe16241b4f45168f",
           "showlegend": true,
           "subplot": "mapbox",
           "text": [
            "EVEREST ENERGY"
           ],
           "type": "scattermapbox"
          },
          {
           "hovertemplate": "vessel_id=72674aadb46c5286<br>timestamp=2024-08-23T06:00:00.000Z<br>vessel_name=%{text}<br>lat=%{lat}<br>lon=%{lon}<extra></extra>",
           "lat": [
            32.03274833
           ],
           "legendgroup": "72674aadb46c5286",
           "lon": [
            32.25085559
           ],
           "marker": {
            "color": "#ab63fa"
           },
           "mode": "markers+text",
           "name": "72674aadb46c5286",
           "showlegend": true,
           "subplot": "mapbox",
           "text": [
            "PIONEER"
           ],
           "type": "scattermapbox"
          }
         ],
         "name": "2024-08-23T06:00:00.000Z"
        },
        {
         "data": [
          {
           "hovertemplate": "vessel_id=3bc8490a0c382976<br>timestamp=2024-08-23T12:00:00.000Z<br>vessel_name=%{text}<br>lat=%{lat}<br>lon=%{lon}<extra></extra>",
           "lat": [
            31.44110729
           ],
           "legendgroup": "3bc8490a0c382976",
           "lon": [
            32.52845429
           ],
           "marker": {
            "color": "#636efa"
           },
           "mode": "markers+text",
           "name": "3bc8490a0c382976",
           "showlegend": true,
           "subplot": "mapbox",
           "text": [
            "NEW ENERGY"
           ],
           "type": "scattermapbox"
          },
          {
           "hovertemplate": "vessel_id=79138d1707099e3e<br>timestamp=2024-08-23T12:00:00.000Z<br>vessel_name=%{text}<br>lat=%{lat}<br>lon=%{lon}<extra></extra>",
           "lat": [
            70.65496653
           ],
           "legendgroup": "79138d1707099e3e",
           "lon": [
            15.66486003
           ],
           "marker": {
            "color": "#EF553B"
           },
           "mode": "markers+text",
           "name": "79138d1707099e3e",
           "showlegend": true,
           "subplot": "mapbox",
           "text": [
            "ASYA ENERGY"
           ],
           "type": "scattermapbox"
          },
          {
           "hovertemplate": "vessel_id=fe16241b4f45168f<br>timestamp=2024-08-23T12:00:00.000Z<br>vessel_name=%{text}<br>lat=%{lat}<br>lon=%{lon}<extra></extra>",
           "lat": [
            74.11796635
           ],
           "legendgroup": "fe16241b4f45168f",
           "lon": [
            36.20524097
           ],
           "marker": {
            "color": "#00cc96"
           },
           "mode": "markers+text",
           "name": "fe16241b4f45168f",
           "showlegend": true,
           "subplot": "mapbox",
           "text": [
            "EVEREST ENERGY"
           ],
           "type": "scattermapbox"
          },
          {
           "hovertemplate": "vessel_id=72674aadb46c5286<br>timestamp=2024-08-23T12:00:00.000Z<br>vessel_name=%{text}<br>lat=%{lat}<br>lon=%{lon}<extra></extra>",
           "lat": [
            32.03274833
           ],
           "legendgroup": "72674aadb46c5286",
           "lon": [
            32.25085559
           ],
           "marker": {
            "color": "#ab63fa"
           },
           "mode": "markers+text",
           "name": "72674aadb46c5286",
           "showlegend": true,
           "subplot": "mapbox",
           "text": [
            "PIONEER"
           ],
           "type": "scattermapbox"
          }
         ],
         "name": "2024-08-23T12:00:00.000Z"
        },
        {
         "data": [
          {
           "hovertemplate": "vessel_id=79138d1707099e3e<br>timestamp=2024-08-23T18:00:00.000Z<br>vessel_name=%{text}<br>lat=%{lat}<br>lon=%{lon}<extra></extra>",
           "lat": [
            71.18147277
           ],
           "legendgroup": "79138d1707099e3e",
           "lon": [
            17.85376801
           ],
           "marker": {
            "color": "#EF553B"
           },
           "mode": "markers+text",
           "name": "79138d1707099e3e",
           "showlegend": true,
           "subplot": "mapbox",
           "text": [
            "ASYA ENERGY"
           ],
           "type": "scattermapbox"
          },
          {
           "hovertemplate": "vessel_id=fe16241b4f45168f<br>timestamp=2024-08-23T18:00:00.000Z<br>vessel_name=%{text}<br>lat=%{lat}<br>lon=%{lon}<extra></extra>",
           "lat": [
            74.12339425
           ],
           "legendgroup": "fe16241b4f45168f",
           "lon": [
            36.23187759
           ],
           "marker": {
            "color": "#00cc96"
           },
           "mode": "markers+text",
           "name": "fe16241b4f45168f",
           "showlegend": true,
           "subplot": "mapbox",
           "text": [
            "EVEREST ENERGY"
           ],
           "type": "scattermapbox"
          },
          {
           "hovertemplate": "vessel_id=72674aadb46c5286<br>timestamp=2024-08-23T18:00:00.000Z<br>vessel_name=%{text}<br>lat=%{lat}<br>lon=%{lon}<extra></extra>",
           "lat": [
            32.03274833
           ],
           "legendgroup": "72674aadb46c5286",
           "lon": [
            32.25085559
           ],
           "marker": {
            "color": "#ab63fa"
           },
           "mode": "markers+text",
           "name": "72674aadb46c5286",
           "showlegend": true,
           "subplot": "mapbox",
           "text": [
            "PIONEER"
           ],
           "type": "scattermapbox"
          }
         ],
         "name": "2024-08-23T18:00:00.000Z"
        },
        {
         "data": [
          {
           "hovertemplate": "vessel_id=79138d1707099e3e<br>timestamp=2024-08-24T00:00:00.000Z<br>vessel_name=%{text}<br>lat=%{lat}<br>lon=%{lon}<extra></extra>",
           "lat": [
            71.61299077
           ],
           "legendgroup": "79138d1707099e3e",
           "lon": [
            20.32368399
           ],
           "marker": {
            "color": "#EF553B"
           },
           "mode": "markers+text",
           "name": "79138d1707099e3e",
           "showlegend": true,
           "subplot": "mapbox",
           "text": [
            "ASYA ENERGY"
           ],
           "type": "scattermapbox"
          },
          {
           "hovertemplate": "vessel_id=fe16241b4f45168f<br>timestamp=2024-08-24T00:00:00.000Z<br>vessel_name=%{text}<br>lat=%{lat}<br>lon=%{lon}<extra></extra>",
           "lat": [
            74.1315361
           ],
           "legendgroup": "fe16241b4f45168f",
           "lon": [
            36.25614268
           ],
           "marker": {
            "color": "#00cc96"
           },
           "mode": "markers+text",
           "name": "fe16241b4f45168f",
           "showlegend": true,
           "subplot": "mapbox",
           "text": [
            "EVEREST ENERGY"
           ],
           "type": "scattermapbox"
          },
          {
           "hovertemplate": "vessel_id=72674aadb46c5286<br>timestamp=2024-08-24T00:00:00.000Z<br>vessel_name=%{text}<br>lat=%{lat}<br>lon=%{lon}<extra></extra>",
           "lat": [
            32.03274833
           ],
           "legendgroup": "72674aadb46c5286",
           "lon": [
            32.25085559
           ],
           "marker": {
            "color": "#ab63fa"
           },
           "mode": "markers+text",
           "name": "72674aadb46c5286",
           "showlegend": true,
           "subplot": "mapbox",
           "text": [
            "PIONEER"
           ],
           "type": "scattermapbox"
          }
         ],
         "name": "2024-08-24T00:00:00.000Z"
        },
        {
         "data": [
          {
           "hovertemplate": "vessel_id=79138d1707099e3e<br>timestamp=2024-08-24T06:00:00.000Z<br>vessel_name=%{text}<br>lat=%{lat}<br>lon=%{lon}<extra></extra>",
           "lat": [
            71.81925095
           ],
           "legendgroup": "79138d1707099e3e",
           "lon": [
            22.94644858
           ],
           "marker": {
            "color": "#EF553B"
           },
           "mode": "markers+text",
           "name": "79138d1707099e3e",
           "showlegend": true,
           "subplot": "mapbox",
           "text": [
            "ASYA ENERGY"
           ],
           "type": "scattermapbox"
          },
          {
           "hovertemplate": "vessel_id=fe16241b4f45168f<br>timestamp=2024-08-24T06:00:00.000Z<br>vessel_name=%{text}<br>lat=%{lat}<br>lon=%{lon}<extra></extra>",
           "lat": [
            74.13696399
           ],
           "legendgroup": "fe16241b4f45168f",
           "lon": [
            36.29053845
           ],
           "marker": {
            "color": "#00cc96"
           },
           "mode": "markers+text",
           "name": "fe16241b4f45168f",
           "showlegend": true,
           "subplot": "mapbox",
           "text": [
            "EVEREST ENERGY"
           ],
           "type": "scattermapbox"
          },
          {
           "hovertemplate": "vessel_id=72674aadb46c5286<br>timestamp=2024-08-24T06:00:00.000Z<br>vessel_name=%{text}<br>lat=%{lat}<br>lon=%{lon}<extra></extra>",
           "lat": [
            32.03274833
           ],
           "legendgroup": "72674aadb46c5286",
           "lon": [
            32.25085559
           ],
           "marker": {
            "color": "#ab63fa"
           },
           "mode": "markers+text",
           "name": "72674aadb46c5286",
           "showlegend": true,
           "subplot": "mapbox",
           "text": [
            "PIONEER"
           ],
           "type": "scattermapbox"
          }
         ],
         "name": "2024-08-24T06:00:00.000Z"
        },
        {
         "data": [
          {
           "hovertemplate": "vessel_id=79138d1707099e3e<br>timestamp=2024-08-24T12:00:00.000Z<br>vessel_name=%{text}<br>lat=%{lat}<br>lon=%{lon}<extra></extra>",
           "lat": [
            71.87352994
           ],
           "legendgroup": "79138d1707099e3e",
           "lon": [
            25.75257284
           ],
           "marker": {
            "color": "#EF553B"
           },
           "mode": "markers+text",
           "name": "79138d1707099e3e",
           "showlegend": true,
           "subplot": "mapbox",
           "text": [
            "ASYA ENERGY"
           ],
           "type": "scattermapbox"
          },
          {
           "hovertemplate": "vessel_id=fe16241b4f45168f<br>timestamp=2024-08-24T12:00:00.000Z<br>vessel_name=%{text}<br>lat=%{lat}<br>lon=%{lon}<extra></extra>",
           "lat": [
            74.14239189
           ],
           "legendgroup": "fe16241b4f45168f",
           "lon": [
            36.31422597
           ],
           "marker": {
            "color": "#00cc96"
           },
           "mode": "markers+text",
           "name": "fe16241b4f45168f",
           "showlegend": true,
           "subplot": "mapbox",
           "text": [
            "EVEREST ENERGY"
           ],
           "type": "scattermapbox"
          },
          {
           "hovertemplate": "vessel_id=72674aadb46c5286<br>timestamp=2024-08-24T12:00:00.000Z<br>vessel_name=%{text}<br>lat=%{lat}<br>lon=%{lon}<extra></extra>",
           "lat": [
            32.03274833
           ],
           "legendgroup": "72674aadb46c5286",
           "lon": [
            32.25085559
           ],
           "marker": {
            "color": "#ab63fa"
           },
           "mode": "markers+text",
           "name": "72674aadb46c5286",
           "showlegend": true,
           "subplot": "mapbox",
           "text": [
            "PIONEER"
           ],
           "type": "scattermapbox"
          }
         ],
         "name": "2024-08-24T12:00:00.000Z"
        },
        {
         "data": [
          {
           "hovertemplate": "vessel_id=79138d1707099e3e<br>timestamp=2024-08-24T18:00:00.000Z<br>vessel_name=%{text}<br>lat=%{lat}<br>lon=%{lon}<extra></extra>",
           "lat": [
            71.7785417
           ],
           "legendgroup": "79138d1707099e3e",
           "lon": [
            28.72084997
           ],
           "marker": {
            "color": "#EF553B"
           },
           "mode": "markers+text",
           "name": "79138d1707099e3e",
           "showlegend": true,
           "subplot": "mapbox",
           "text": [
            "ASYA ENERGY"
           ],
           "type": "scattermapbox"
          },
          {
           "hovertemplate": "vessel_id=fe16241b4f45168f<br>timestamp=2024-08-24T18:00:00.000Z<br>vessel_name=%{text}<br>lat=%{lat}<br>lon=%{lon}<extra></extra>",
           "lat": [
            74.14781979
           ],
           "legendgroup": "fe16241b4f45168f",
           "lon": [
            36.33532229
           ],
           "marker": {
            "color": "#00cc96"
           },
           "mode": "markers+text",
           "name": "fe16241b4f45168f",
           "showlegend": true,
           "subplot": "mapbox",
           "text": [
            "EVEREST ENERGY"
           ],
           "type": "scattermapbox"
          },
          {
           "hovertemplate": "vessel_id=72674aadb46c5286<br>timestamp=2024-08-24T18:00:00.000Z<br>vessel_name=%{text}<br>lat=%{lat}<br>lon=%{lon}<extra></extra>",
           "lat": [
            32.03274833
           ],
           "legendgroup": "72674aadb46c5286",
           "lon": [
            32.25085559
           ],
           "marker": {
            "color": "#ab63fa"
           },
           "mode": "markers+text",
           "name": "72674aadb46c5286",
           "showlegend": true,
           "subplot": "mapbox",
           "text": [
            "PIONEER"
           ],
           "type": "scattermapbox"
          }
         ],
         "name": "2024-08-24T18:00:00.000Z"
        },
        {
         "data": [
          {
           "hovertemplate": "vessel_id=79138d1707099e3e<br>timestamp=2024-08-25T00:00:00.000Z<br>vessel_name=%{text}<br>lat=%{lat}<br>lon=%{lon}<extra></extra>",
           "lat": [
            71.3633074
           ],
           "legendgroup": "79138d1707099e3e",
           "lon": [
            31.44912363
           ],
           "marker": {
            "color": "#EF553B"
           },
           "mode": "markers+text",
           "name": "79138d1707099e3e",
           "showlegend": true,
           "subplot": "mapbox",
           "text": [
            "ASYA ENERGY"
           ],
           "type": "scattermapbox"
          },
          {
           "hovertemplate": "vessel_id=fe16241b4f45168f<br>timestamp=2024-08-25T00:00:00.000Z<br>vessel_name=%{text}<br>lat=%{lat}<br>lon=%{lon}<extra></extra>",
           "lat": [
            74.15596164
           ],
           "legendgroup": "fe16241b4f45168f",
           "lon": [
            36.37343817
           ],
           "marker": {
            "color": "#00cc96"
           },
           "mode": "markers+text",
           "name": "fe16241b4f45168f",
           "showlegend": true,
           "subplot": "mapbox",
           "text": [
            "EVEREST ENERGY"
           ],
           "type": "scattermapbox"
          },
          {
           "hovertemplate": "vessel_id=72674aadb46c5286<br>timestamp=2024-08-25T00:00:00.000Z<br>vessel_name=%{text}<br>lat=%{lat}<br>lon=%{lon}<extra></extra>",
           "lat": [
            32.03274833
           ],
           "legendgroup": "72674aadb46c5286",
           "lon": [
            32.25085559
           ],
           "marker": {
            "color": "#ab63fa"
           },
           "mode": "markers+text",
           "name": "72674aadb46c5286",
           "showlegend": true,
           "subplot": "mapbox",
           "text": [
            "PIONEER"
           ],
           "type": "scattermapbox"
          }
         ],
         "name": "2024-08-25T00:00:00.000Z"
        },
        {
         "data": [
          {
           "hovertemplate": "vessel_id=79138d1707099e3e<br>timestamp=2024-08-25T06:00:00.000Z<br>vessel_name=%{text}<br>lat=%{lat}<br>lon=%{lon}<extra></extra>",
           "lat": [
            70.90736385
           ],
           "legendgroup": "79138d1707099e3e",
           "lon": [
            33.57957115
           ],
           "marker": {
            "color": "#EF553B"
           },
           "mode": "markers+text",
           "name": "79138d1707099e3e",
           "showlegend": true,
           "subplot": "mapbox",
           "text": [
            "ASYA ENERGY"
           ],
           "type": "scattermapbox"
          },
          {
           "hovertemplate": "vessel_id=fe16241b4f45168f<br>timestamp=2024-08-25T06:00:00.000Z<br>vessel_name=%{text}<br>lat=%{lat}<br>lon=%{lon}<extra></extra>",
           "lat": [
            74.16410349
           ],
           "legendgroup": "fe16241b4f45168f",
           "lon": [
            36.39876545
           ],
           "marker": {
            "color": "#00cc96"
           },
           "mode": "markers+text",
           "name": "fe16241b4f45168f",
           "showlegend": true,
           "subplot": "mapbox",
           "text": [
            "EVEREST ENERGY"
           ],
           "type": "scattermapbox"
          },
          {
           "hovertemplate": "vessel_id=72674aadb46c5286<br>timestamp=2024-08-25T06:00:00.000Z<br>vessel_name=%{text}<br>lat=%{lat}<br>lon=%{lon}<extra></extra>",
           "lat": [
            32.03274833
           ],
           "legendgroup": "72674aadb46c5286",
           "lon": [
            32.25085559
           ],
           "marker": {
            "color": "#ab63fa"
           },
           "mode": "markers+text",
           "name": "72674aadb46c5286",
           "showlegend": true,
           "subplot": "mapbox",
           "text": [
            "PIONEER"
           ],
           "type": "scattermapbox"
          }
         ],
         "name": "2024-08-25T06:00:00.000Z"
        },
        {
         "data": [
          {
           "hovertemplate": "vessel_id=79138d1707099e3e<br>timestamp=2024-08-25T12:00:00.000Z<br>vessel_name=%{text}<br>lat=%{lat}<br>lon=%{lon}<extra></extra>",
           "lat": [
            70.467704
           ],
           "legendgroup": "79138d1707099e3e",
           "lon": [
            34.25640323
           ],
           "marker": {
            "color": "#EF553B"
           },
           "mode": "markers+text",
           "name": "79138d1707099e3e",
           "showlegend": true,
           "subplot": "mapbox",
           "text": [
            "ASYA ENERGY"
           ],
           "type": "scattermapbox"
          },
          {
           "hovertemplate": "vessel_id=fe16241b4f45168f<br>timestamp=2024-08-25T12:00:00.000Z<br>vessel_name=%{text}<br>lat=%{lat}<br>lon=%{lon}<extra></extra>",
           "lat": [
            74.16953139
           ],
           "legendgroup": "fe16241b4f45168f",
           "lon": [
            36.42978825
           ],
           "marker": {
            "color": "#00cc96"
           },
           "mode": "markers+text",
           "name": "fe16241b4f45168f",
           "showlegend": true,
           "subplot": "mapbox",
           "text": [
            "EVEREST ENERGY"
           ],
           "type": "scattermapbox"
          },
          {
           "hovertemplate": "vessel_id=72674aadb46c5286<br>timestamp=2024-08-25T12:00:00.000Z<br>vessel_name=%{text}<br>lat=%{lat}<br>lon=%{lon}<extra></extra>",
           "lat": [
            32.03274833
           ],
           "legendgroup": "72674aadb46c5286",
           "lon": [
            32.25085559
           ],
           "marker": {
            "color": "#ab63fa"
           },
           "mode": "markers+text",
           "name": "72674aadb46c5286",
           "showlegend": true,
           "subplot": "mapbox",
           "text": [
            "PIONEER"
           ],
           "type": "scattermapbox"
          }
         ],
         "name": "2024-08-25T12:00:00.000Z"
        },
        {
         "data": [
          {
           "hovertemplate": "vessel_id=79138d1707099e3e<br>timestamp=2024-08-25T18:00:00.000Z<br>vessel_name=%{text}<br>lat=%{lat}<br>lon=%{lon}<extra></extra>",
           "lat": [
            70.06061154
           ],
           "legendgroup": "79138d1707099e3e",
           "lon": [
            34.32542814
           ],
           "marker": {
            "color": "#EF553B"
           },
           "mode": "markers+text",
           "name": "79138d1707099e3e",
           "showlegend": true,
           "subplot": "mapbox",
           "text": [
            "ASYA ENERGY"
           ],
           "type": "scattermapbox"
          },
          {
           "hovertemplate": "vessel_id=fe16241b4f45168f<br>timestamp=2024-08-25T18:00:00.000Z<br>vessel_name=%{text}<br>lat=%{lat}<br>lon=%{lon}<extra></extra>",
           "lat": [
            71.08377058
           ],
           "legendgroup": "fe16241b4f45168f",
           "lon": [
            73.31500375
           ],
           "marker": {
            "color": "#00cc96"
           },
           "mode": "markers+text",
           "name": "fe16241b4f45168f",
           "showlegend": true,
           "subplot": "mapbox",
           "text": [
            "EVEREST ENERGY"
           ],
           "type": "scattermapbox"
          },
          {
           "hovertemplate": "vessel_id=72674aadb46c5286<br>timestamp=2024-08-25T18:00:00.000Z<br>vessel_name=%{text}<br>lat=%{lat}<br>lon=%{lon}<extra></extra>",
           "lat": [
            32.03274833
           ],
           "legendgroup": "72674aadb46c5286",
           "lon": [
            32.25085559
           ],
           "marker": {
            "color": "#ab63fa"
           },
           "mode": "markers+text",
           "name": "72674aadb46c5286",
           "showlegend": true,
           "subplot": "mapbox",
           "text": [
            "PIONEER"
           ],
           "type": "scattermapbox"
          }
         ],
         "name": "2024-08-25T18:00:00.000Z"
        },
        {
         "data": [
          {
           "hovertemplate": "vessel_id=79138d1707099e3e<br>timestamp=2024-08-26T00:00:00.000Z<br>vessel_name=%{text}<br>lat=%{lat}<br>lon=%{lon}<extra></extra>",
           "lat": [
            70.22616248
           ],
           "legendgroup": "79138d1707099e3e",
           "lon": [
            34.00660225
           ],
           "marker": {
            "color": "#EF553B"
           },
           "mode": "markers+text",
           "name": "79138d1707099e3e",
           "showlegend": true,
           "subplot": "mapbox",
           "text": [
            "ASYA ENERGY"
           ],
           "type": "scattermapbox"
          },
          {
           "hovertemplate": "vessel_id=fe16241b4f45168f<br>timestamp=2024-08-26T00:00:00.000Z<br>vessel_name=%{text}<br>lat=%{lat}<br>lon=%{lon}<extra></extra>",
           "lat": [
            71.94952054
           ],
           "legendgroup": "fe16241b4f45168f",
           "lon": [
            72.94994366
           ],
           "marker": {
            "color": "#00cc96"
           },
           "mode": "markers+text",
           "name": "fe16241b4f45168f",
           "showlegend": true,
           "subplot": "mapbox",
           "text": [
            "EVEREST ENERGY"
           ],
           "type": "scattermapbox"
          },
          {
           "hovertemplate": "vessel_id=72674aadb46c5286<br>timestamp=2024-08-26T00:00:00.000Z<br>vessel_name=%{text}<br>lat=%{lat}<br>lon=%{lon}<extra></extra>",
           "lat": [
            32.03274833
           ],
           "legendgroup": "72674aadb46c5286",
           "lon": [
            32.25085559
           ],
           "marker": {
            "color": "#ab63fa"
           },
           "mode": "markers+text",
           "name": "72674aadb46c5286",
           "showlegend": true,
           "subplot": "mapbox",
           "text": [
            "PIONEER"
           ],
           "type": "scattermapbox"
          }
         ],
         "name": "2024-08-26T00:00:00.000Z"
        },
        {
         "data": [
          {
           "hovertemplate": "vessel_id=79138d1707099e3e<br>timestamp=2024-08-26T06:00:00.000Z<br>vessel_name=%{text}<br>lat=%{lat}<br>lon=%{lon}<extra></extra>",
           "lat": [
            70.60882938
           ],
           "legendgroup": "79138d1707099e3e",
           "lon": [
            33.1394954
           ],
           "marker": {
            "color": "#EF553B"
           },
           "mode": "markers+text",
           "name": "79138d1707099e3e",
           "showlegend": true,
           "subplot": "mapbox",
           "text": [
            "ASYA ENERGY"
           ],
           "type": "scattermapbox"
          },
          {
           "hovertemplate": "vessel_id=fe16241b4f45168f<br>timestamp=2024-08-26T06:00:00.000Z<br>vessel_name=%{text}<br>lat=%{lat}<br>lon=%{lon}<extra></extra>",
           "lat": [
            72.88311923
           ],
           "legendgroup": "fe16241b4f45168f",
           "lon": [
            73.04128719
           ],
           "marker": {
            "color": "#00cc96"
           },
           "mode": "markers+text",
           "name": "fe16241b4f45168f",
           "showlegend": true,
           "subplot": "mapbox",
           "text": [
            "EVEREST ENERGY"
           ],
           "type": "scattermapbox"
          },
          {
           "hovertemplate": "vessel_id=72674aadb46c5286<br>timestamp=2024-08-26T06:00:00.000Z<br>vessel_name=%{text}<br>lat=%{lat}<br>lon=%{lon}<extra></extra>",
           "lat": [
            32.03274833
           ],
           "legendgroup": "72674aadb46c5286",
           "lon": [
            32.25085559
           ],
           "marker": {
            "color": "#ab63fa"
           },
           "mode": "markers+text",
           "name": "72674aadb46c5286",
           "showlegend": true,
           "subplot": "mapbox",
           "text": [
            "PIONEER"
           ],
           "type": "scattermapbox"
          }
         ],
         "name": "2024-08-26T06:00:00.000Z"
        },
        {
         "data": [
          {
           "hovertemplate": "vessel_id=79138d1707099e3e<br>timestamp=2024-08-26T12:00:00.000Z<br>vessel_name=%{text}<br>lat=%{lat}<br>lon=%{lon}<extra></extra>",
           "lat": [
            70.22073458
           ],
           "legendgroup": "79138d1707099e3e",
           "lon": [
            33.52353131
           ],
           "marker": {
            "color": "#EF553B"
           },
           "mode": "markers+text",
           "name": "79138d1707099e3e",
           "showlegend": true,
           "subplot": "mapbox",
           "text": [
            "ASYA ENERGY"
           ],
           "type": "scattermapbox"
          },
          {
           "hovertemplate": "vessel_id=fe16241b4f45168f<br>timestamp=2024-08-26T12:00:00.000Z<br>vessel_name=%{text}<br>lat=%{lat}<br>lon=%{lon}<extra></extra>",
           "lat": [
            73.81129003
           ],
           "legendgroup": "fe16241b4f45168f",
           "lon": [
            70.12526194
           ],
           "marker": {
            "color": "#00cc96"
           },
           "mode": "markers+text",
           "name": "fe16241b4f45168f",
           "showlegend": true,
           "subplot": "mapbox",
           "text": [
            "EVEREST ENERGY"
           ],
           "type": "scattermapbox"
          },
          {
           "hovertemplate": "vessel_id=72674aadb46c5286<br>timestamp=2024-08-26T12:00:00.000Z<br>vessel_name=%{text}<br>lat=%{lat}<br>lon=%{lon}<extra></extra>",
           "lat": [
            32.03274833
           ],
           "legendgroup": "72674aadb46c5286",
           "lon": [
            32.25085559
           ],
           "marker": {
            "color": "#ab63fa"
           },
           "mode": "markers+text",
           "name": "72674aadb46c5286",
           "showlegend": true,
           "subplot": "mapbox",
           "text": [
            "PIONEER"
           ],
           "type": "scattermapbox"
          }
         ],
         "name": "2024-08-26T12:00:00.000Z"
        },
        {
         "data": [
          {
           "hovertemplate": "vessel_id=79138d1707099e3e<br>timestamp=2024-08-26T18:00:00.000Z<br>vessel_name=%{text}<br>lat=%{lat}<br>lon=%{lon}<extra></extra>",
           "lat": [
            70.06061154
           ],
           "legendgroup": "79138d1707099e3e",
           "lon": [
            33.76518285
           ],
           "marker": {
            "color": "#EF553B"
           },
           "mode": "markers+text",
           "name": "79138d1707099e3e",
           "showlegend": true,
           "subplot": "mapbox",
           "text": [
            "ASYA ENERGY"
           ],
           "type": "scattermapbox"
          },
          {
           "hovertemplate": "vessel_id=fe16241b4f45168f<br>timestamp=2024-08-26T18:00:00.000Z<br>vessel_name=%{text}<br>lat=%{lat}<br>lon=%{lon}<extra></extra>",
           "lat": [
            73.04595621
           ],
           "legendgroup": "fe16241b4f45168f",
           "lon": [
            65.79331786
           ],
           "marker": {
            "color": "#00cc96"
           },
           "mode": "markers+text",
           "name": "fe16241b4f45168f",
           "showlegend": true,
           "subplot": "mapbox",
           "text": [
            "EVEREST ENERGY"
           ],
           "type": "scattermapbox"
          },
          {
           "hovertemplate": "vessel_id=72674aadb46c5286<br>timestamp=2024-08-26T18:00:00.000Z<br>vessel_name=%{text}<br>lat=%{lat}<br>lon=%{lon}<extra></extra>",
           "lat": [
            32.03274833
           ],
           "legendgroup": "72674aadb46c5286",
           "lon": [
            32.25085559
           ],
           "marker": {
            "color": "#ab63fa"
           },
           "mode": "markers+text",
           "name": "72674aadb46c5286",
           "showlegend": true,
           "subplot": "mapbox",
           "text": [
            "PIONEER"
           ],
           "type": "scattermapbox"
          }
         ],
         "name": "2024-08-26T18:00:00.000Z"
        },
        {
         "data": [
          {
           "hovertemplate": "vessel_id=79138d1707099e3e<br>timestamp=2024-08-27T00:00:00.000Z<br>vessel_name=%{text}<br>lat=%{lat}<br>lon=%{lon}<extra></extra>",
           "lat": [
            70.70924552
           ],
           "legendgroup": "79138d1707099e3e",
           "lon": [
            33.59813269
           ],
           "marker": {
            "color": "#EF553B"
           },
           "mode": "markers+text",
           "name": "79138d1707099e3e",
           "showlegend": true,
           "subplot": "mapbox",
           "text": [
            "ASYA ENERGY"
           ],
           "type": "scattermapbox"
          },
          {
           "hovertemplate": "vessel_id=fe16241b4f45168f<br>timestamp=2024-08-27T00:00:00.000Z<br>vessel_name=%{text}<br>lat=%{lat}<br>lon=%{lon}<extra></extra>",
           "lat": [
            71.96580423
           ],
           "legendgroup": "fe16241b4f45168f",
           "lon": [
            62.30485869
           ],
           "marker": {
            "color": "#00cc96"
           },
           "mode": "markers+text",
           "name": "fe16241b4f45168f",
           "showlegend": true,
           "subplot": "mapbox",
           "text": [
            "EVEREST ENERGY"
           ],
           "type": "scattermapbox"
          },
          {
           "hovertemplate": "vessel_id=72674aadb46c5286<br>timestamp=2024-08-27T00:00:00.000Z<br>vessel_name=%{text}<br>lat=%{lat}<br>lon=%{lon}<extra></extra>",
           "lat": [
            32.03274833
           ],
           "legendgroup": "72674aadb46c5286",
           "lon": [
            32.25085559
           ],
           "marker": {
            "color": "#ab63fa"
           },
           "mode": "markers+text",
           "name": "72674aadb46c5286",
           "showlegend": true,
           "subplot": "mapbox",
           "text": [
            "PIONEER"
           ],
           "type": "scattermapbox"
          }
         ],
         "name": "2024-08-27T00:00:00.000Z"
        },
        {
         "data": [
          {
           "hovertemplate": "vessel_id=79138d1707099e3e<br>timestamp=2024-08-27T06:00:00.000Z<br>vessel_name=%{text}<br>lat=%{lat}<br>lon=%{lon}<extra></extra>",
           "lat": [
            70.23973222
           ],
           "legendgroup": "79138d1707099e3e",
           "lon": [
            33.53806432
           ],
           "marker": {
            "color": "#EF553B"
           },
           "mode": "markers+text",
           "name": "79138d1707099e3e",
           "showlegend": true,
           "subplot": "mapbox",
           "text": [
            "ASYA ENERGY"
           ],
           "type": "scattermapbox"
          },
          {
           "hovertemplate": "vessel_id=fe16241b4f45168f<br>timestamp=2024-08-27T06:00:00.000Z<br>vessel_name=%{text}<br>lat=%{lat}<br>lon=%{lon}<extra></extra>",
           "lat": [
            70.70924552
           ],
           "legendgroup": "fe16241b4f45168f",
           "lon": [
            58.51336387
           ],
           "marker": {
            "color": "#00cc96"
           },
           "mode": "markers+text",
           "name": "fe16241b4f45168f",
           "showlegend": true,
           "subplot": "mapbox",
           "text": [
            "EVEREST ENERGY"
           ],
           "type": "scattermapbox"
          },
          {
           "hovertemplate": "vessel_id=72674aadb46c5286<br>timestamp=2024-08-27T06:00:00.000Z<br>vessel_name=%{text}<br>lat=%{lat}<br>lon=%{lon}<extra></extra>",
           "lat": [
            32.03274833
           ],
           "legendgroup": "72674aadb46c5286",
           "lon": [
            32.25085559
           ],
           "marker": {
            "color": "#ab63fa"
           },
           "mode": "markers+text",
           "name": "72674aadb46c5286",
           "showlegend": true,
           "subplot": "mapbox",
           "text": [
            "PIONEER"
           ],
           "type": "scattermapbox"
          }
         ],
         "name": "2024-08-27T06:00:00.000Z"
        },
        {
         "data": [
          {
           "hovertemplate": "vessel_id=79138d1707099e3e<br>timestamp=2024-08-27T12:00:00.000Z<br>vessel_name=%{text}<br>lat=%{lat}<br>lon=%{lon}<extra></extra>",
           "lat": [
            69.91948616
           ],
           "legendgroup": "79138d1707099e3e",
           "lon": [
            34.13115331
           ],
           "marker": {
            "color": "#EF553B"
           },
           "mode": "markers+text",
           "name": "79138d1707099e3e",
           "showlegend": true,
           "subplot": "mapbox",
           "text": [
            "ASYA ENERGY"
           ],
           "type": "scattermapbox"
          },
          {
           "hovertemplate": "vessel_id=fe16241b4f45168f<br>timestamp=2024-08-27T12:00:00.000Z<br>vessel_name=%{text}<br>lat=%{lat}<br>lon=%{lon}<extra></extra>",
           "lat": [
            70.16916953
           ],
           "legendgroup": "fe16241b4f45168f",
           "lon": [
            54.86625794
           ],
           "marker": {
            "color": "#00cc96"
           },
           "mode": "markers+text",
           "name": "fe16241b4f45168f",
           "showlegend": true,
           "subplot": "mapbox",
           "text": [
            "EVEREST ENERGY"
           ],
           "type": "scattermapbox"
          },
          {
           "hovertemplate": "vessel_id=72674aadb46c5286<br>timestamp=2024-08-27T12:00:00.000Z<br>vessel_name=%{text}<br>lat=%{lat}<br>lon=%{lon}<extra></extra>",
           "lat": [
            32.03274833
           ],
           "legendgroup": "72674aadb46c5286",
           "lon": [
            32.25085559
           ],
           "marker": {
            "color": "#ab63fa"
           },
           "mode": "markers+text",
           "name": "72674aadb46c5286",
           "showlegend": true,
           "subplot": "mapbox",
           "text": [
            "PIONEER"
           ],
           "type": "scattermapbox"
          }
         ],
         "name": "2024-08-27T12:00:00.000Z"
        },
        {
         "data": [
          {
           "hovertemplate": "vessel_id=79138d1707099e3e<br>timestamp=2024-08-27T18:00:00.000Z<br>vessel_name=%{text}<br>lat=%{lat}<br>lon=%{lon}<extra></extra>",
           "lat": [
            69.64266329
           ],
           "legendgroup": "79138d1707099e3e",
           "lon": [
            33.53860099
           ],
           "marker": {
            "color": "#EF553B"
           },
           "mode": "markers+text",
           "name": "79138d1707099e3e",
           "showlegend": true,
           "subplot": "mapbox",
           "text": [
            "ASYA ENERGY"
           ],
           "type": "scattermapbox"
          },
          {
           "hovertemplate": "vessel_id=fe16241b4f45168f<br>timestamp=2024-08-27T18:00:00.000Z<br>vessel_name=%{text}<br>lat=%{lat}<br>lon=%{lon}<extra></extra>",
           "lat": [
            70.07418129
           ],
           "legendgroup": "fe16241b4f45168f",
           "lon": [
            50.36131207
           ],
           "marker": {
            "color": "#00cc96"
           },
           "mode": "markers+text",
           "name": "fe16241b4f45168f",
           "showlegend": true,
           "subplot": "mapbox",
           "text": [
            "EVEREST ENERGY"
           ],
           "type": "scattermapbox"
          },
          {
           "hovertemplate": "vessel_id=72674aadb46c5286<br>timestamp=2024-08-27T18:00:00.000Z<br>vessel_name=%{text}<br>lat=%{lat}<br>lon=%{lon}<extra></extra>",
           "lat": [
            32.03274833
           ],
           "legendgroup": "72674aadb46c5286",
           "lon": [
            32.25085559
           ],
           "marker": {
            "color": "#ab63fa"
           },
           "mode": "markers+text",
           "name": "72674aadb46c5286",
           "showlegend": true,
           "subplot": "mapbox",
           "text": [
            "PIONEER"
           ],
           "type": "scattermapbox"
          }
         ],
         "name": "2024-08-27T18:00:00.000Z"
        },
        {
         "data": [
          {
           "hovertemplate": "vessel_id=79138d1707099e3e<br>timestamp=2024-08-28T00:00:00.000Z<br>vessel_name=%{text}<br>lat=%{lat}<br>lon=%{lon}<extra></extra>",
           "lat": [
            69.13244075
           ],
           "legendgroup": "79138d1707099e3e",
           "lon": [
            33.44869494
           ],
           "marker": {
            "color": "#EF553B"
           },
           "mode": "markers+text",
           "name": "79138d1707099e3e",
           "showlegend": true,
           "subplot": "mapbox",
           "text": [
            "ASYA ENERGY"
           ],
           "type": "scattermapbox"
          },
          {
           "hovertemplate": "vessel_id=fe16241b4f45168f<br>timestamp=2024-08-28T00:00:00.000Z<br>vessel_name=%{text}<br>lat=%{lat}<br>lon=%{lon}<extra></extra>",
           "lat": [
            69.94662566
           ],
           "legendgroup": "fe16241b4f45168f",
           "lon": [
            45.72652197
           ],
           "marker": {
            "color": "#00cc96"
           },
           "mode": "markers+text",
           "name": "fe16241b4f45168f",
           "showlegend": true,
           "subplot": "mapbox",
           "text": [
            "EVEREST ENERGY"
           ],
           "type": "scattermapbox"
          },
          {
           "hovertemplate": "vessel_id=72674aadb46c5286<br>timestamp=2024-08-28T00:00:00.000Z<br>vessel_name=%{text}<br>lat=%{lat}<br>lon=%{lon}<extra></extra>",
           "lat": [
            32.03274833
           ],
           "legendgroup": "72674aadb46c5286",
           "lon": [
            32.25085559
           ],
           "marker": {
            "color": "#ab63fa"
           },
           "mode": "markers+text",
           "name": "72674aadb46c5286",
           "showlegend": true,
           "subplot": "mapbox",
           "text": [
            "PIONEER"
           ],
           "type": "scattermapbox"
          }
         ],
         "name": "2024-08-28T00:00:00.000Z"
        },
        {
         "data": [
          {
           "hovertemplate": "vessel_id=79138d1707099e3e<br>timestamp=2024-08-28T06:00:00.000Z<br>vessel_name=%{text}<br>lat=%{lat}<br>lon=%{lon}<extra></extra>",
           "lat": [
            69.06730595
           ],
           "legendgroup": "79138d1707099e3e",
           "lon": [
            33.11811769
           ],
           "marker": {
            "color": "#EF553B"
           },
           "mode": "markers+text",
           "name": "79138d1707099e3e",
           "showlegend": true,
           "subplot": "mapbox",
           "text": [
            "ASYA ENERGY"
           ],
           "type": "scattermapbox"
          },
          {
           "hovertemplate": "vessel_id=fe16241b4f45168f<br>timestamp=2024-08-28T06:00:00.000Z<br>vessel_name=%{text}<br>lat=%{lat}<br>lon=%{lon}<extra></extra>",
           "lat": [
            69.83535372
           ],
           "legendgroup": "fe16241b4f45168f",
           "lon": [
            41.71112472
           ],
           "marker": {
            "color": "#00cc96"
           },
           "mode": "markers+text",
           "name": "fe16241b4f45168f",
           "showlegend": true,
           "subplot": "mapbox",
           "text": [
            "EVEREST ENERGY"
           ],
           "type": "scattermapbox"
          },
          {
           "hovertemplate": "vessel_id=72674aadb46c5286<br>timestamp=2024-08-28T06:00:00.000Z<br>vessel_name=%{text}<br>lat=%{lat}<br>lon=%{lon}<extra></extra>",
           "lat": [
            32.03274833
           ],
           "legendgroup": "72674aadb46c5286",
           "lon": [
            32.25085559
           ],
           "marker": {
            "color": "#ab63fa"
           },
           "mode": "markers+text",
           "name": "72674aadb46c5286",
           "showlegend": true,
           "subplot": "mapbox",
           "text": [
            "PIONEER"
           ],
           "type": "scattermapbox"
          }
         ],
         "name": "2024-08-28T06:00:00.000Z"
        },
        {
         "data": [
          {
           "hovertemplate": "vessel_id=79138d1707099e3e<br>timestamp=2024-08-28T12:00:00.000Z<br>vessel_name=%{text}<br>lat=%{lat}<br>lon=%{lon}<extra></extra>",
           "lat": [
            69.06730595
           ],
           "legendgroup": "79138d1707099e3e",
           "lon": [
            33.11860877
           ],
           "marker": {
            "color": "#EF553B"
           },
           "mode": "markers+text",
           "name": "79138d1707099e3e",
           "showlegend": true,
           "subplot": "mapbox",
           "text": [
            "ASYA ENERGY"
           ],
           "type": "scattermapbox"
          },
          {
           "hovertemplate": "vessel_id=fe16241b4f45168f<br>timestamp=2024-08-28T12:00:00.000Z<br>vessel_name=%{text}<br>lat=%{lat}<br>lon=%{lon}<extra></extra>",
           "lat": [
            69.75393523
           ],
           "legendgroup": "fe16241b4f45168f",
           "lon": [
            38.57142435
           ],
           "marker": {
            "color": "#00cc96"
           },
           "mode": "markers+text",
           "name": "fe16241b4f45168f",
           "showlegend": true,
           "subplot": "mapbox",
           "text": [
            "EVEREST ENERGY"
           ],
           "type": "scattermapbox"
          },
          {
           "hovertemplate": "vessel_id=72674aadb46c5286<br>timestamp=2024-08-28T12:00:00.000Z<br>vessel_name=%{text}<br>lat=%{lat}<br>lon=%{lon}<extra></extra>",
           "lat": [
            32.03274833
           ],
           "legendgroup": "72674aadb46c5286",
           "lon": [
            32.25085559
           ],
           "marker": {
            "color": "#ab63fa"
           },
           "mode": "markers+text",
           "name": "72674aadb46c5286",
           "showlegend": true,
           "subplot": "mapbox",
           "text": [
            "PIONEER"
           ],
           "type": "scattermapbox"
          }
         ],
         "name": "2024-08-28T12:00:00.000Z"
        },
        {
         "data": [
          {
           "hovertemplate": "vessel_id=79138d1707099e3e<br>timestamp=2024-08-28T18:00:00.000Z<br>vessel_name=%{text}<br>lat=%{lat}<br>lon=%{lon}<extra></extra>",
           "lat": [
            69.06730595
           ],
           "legendgroup": "79138d1707099e3e",
           "lon": [
            33.12025338
           ],
           "marker": {
            "color": "#EF553B"
           },
           "mode": "markers+text",
           "name": "79138d1707099e3e",
           "showlegend": true,
           "subplot": "mapbox",
           "text": [
            "ASYA ENERGY"
           ],
           "type": "scattermapbox"
          },
          {
           "hovertemplate": "vessel_id=fe16241b4f45168f<br>timestamp=2024-08-28T18:00:00.000Z<br>vessel_name=%{text}<br>lat=%{lat}<br>lon=%{lon}<extra></extra>",
           "lat": [
            69.63994934
           ],
           "legendgroup": "fe16241b4f45168f",
           "lon": [
            36.09256891
           ],
           "marker": {
            "color": "#00cc96"
           },
           "mode": "markers+text",
           "name": "fe16241b4f45168f",
           "showlegend": true,
           "subplot": "mapbox",
           "text": [
            "EVEREST ENERGY"
           ],
           "type": "scattermapbox"
          },
          {
           "hovertemplate": "vessel_id=72674aadb46c5286<br>timestamp=2024-08-28T18:00:00.000Z<br>vessel_name=%{text}<br>lat=%{lat}<br>lon=%{lon}<extra></extra>",
           "lat": [
            32.03274833
           ],
           "legendgroup": "72674aadb46c5286",
           "lon": [
            32.25085559
           ],
           "marker": {
            "color": "#ab63fa"
           },
           "mode": "markers+text",
           "name": "72674aadb46c5286",
           "showlegend": true,
           "subplot": "mapbox",
           "text": [
            "PIONEER"
           ],
           "type": "scattermapbox"
          }
         ],
         "name": "2024-08-28T18:00:00.000Z"
        },
        {
         "data": [
          {
           "hovertemplate": "vessel_id=79138d1707099e3e<br>timestamp=2024-08-29T00:00:00.000Z<br>vessel_name=%{text}<br>lat=%{lat}<br>lon=%{lon}<extra></extra>",
           "lat": [
            69.06730595
           ],
           "legendgroup": "79138d1707099e3e",
           "lon": [
            33.11830656
           ],
           "marker": {
            "color": "#EF553B"
           },
           "mode": "markers+text",
           "name": "79138d1707099e3e",
           "showlegend": true,
           "subplot": "mapbox",
           "text": [
            "ASYA ENERGY"
           ],
           "type": "scattermapbox"
          },
          {
           "hovertemplate": "vessel_id=fe16241b4f45168f<br>timestamp=2024-08-29T00:00:00.000Z<br>vessel_name=%{text}<br>lat=%{lat}<br>lon=%{lon}<extra></extra>",
           "lat": [
            69.52596345
           ],
           "legendgroup": "fe16241b4f45168f",
           "lon": [
            34.13734282
           ],
           "marker": {
            "color": "#00cc96"
           },
           "mode": "markers+text",
           "name": "fe16241b4f45168f",
           "showlegend": true,
           "subplot": "mapbox",
           "text": [
            "EVEREST ENERGY"
           ],
           "type": "scattermapbox"
          },
          {
           "hovertemplate": "vessel_id=72674aadb46c5286<br>timestamp=2024-08-29T00:00:00.000Z<br>vessel_name=%{text}<br>lat=%{lat}<br>lon=%{lon}<extra></extra>",
           "lat": [
            32.03274833
           ],
           "legendgroup": "72674aadb46c5286",
           "lon": [
            32.25085559
           ],
           "marker": {
            "color": "#ab63fa"
           },
           "mode": "markers+text",
           "name": "72674aadb46c5286",
           "showlegend": true,
           "subplot": "mapbox",
           "text": [
            "PIONEER"
           ],
           "type": "scattermapbox"
          }
         ],
         "name": "2024-08-29T00:00:00.000Z"
        },
        {
         "data": [
          {
           "hovertemplate": "vessel_id=79138d1707099e3e<br>timestamp=2024-08-29T06:00:00.000Z<br>vessel_name=%{text}<br>lat=%{lat}<br>lon=%{lon}<extra></extra>",
           "lat": [
            69.064592
           ],
           "legendgroup": "79138d1707099e3e",
           "lon": [
            33.10941402
           ],
           "marker": {
            "color": "#EF553B"
           },
           "mode": "markers+text",
           "name": "79138d1707099e3e",
           "showlegend": true,
           "subplot": "mapbox",
           "text": [
            "ASYA ENERGY"
           ],
           "type": "scattermapbox"
          },
          {
           "hovertemplate": "vessel_id=fe16241b4f45168f<br>timestamp=2024-08-29T06:00:00.000Z<br>vessel_name=%{text}<br>lat=%{lat}<br>lon=%{lon}<extra></extra>",
           "lat": [
            69.33870092
           ],
           "legendgroup": "fe16241b4f45168f",
           "lon": [
            32.92812102
           ],
           "marker": {
            "color": "#00cc96"
           },
           "mode": "markers+text",
           "name": "fe16241b4f45168f",
           "showlegend": true,
           "subplot": "mapbox",
           "text": [
            "EVEREST ENERGY"
           ],
           "type": "scattermapbox"
          },
          {
           "hovertemplate": "vessel_id=72674aadb46c5286<br>timestamp=2024-08-29T06:00:00.000Z<br>vessel_name=%{text}<br>lat=%{lat}<br>lon=%{lon}<extra></extra>",
           "lat": [
            32.03274833
           ],
           "legendgroup": "72674aadb46c5286",
           "lon": [
            32.25085559
           ],
           "marker": {
            "color": "#ab63fa"
           },
           "mode": "markers+text",
           "name": "72674aadb46c5286",
           "showlegend": true,
           "subplot": "mapbox",
           "text": [
            "PIONEER"
           ],
           "type": "scattermapbox"
          }
         ],
         "name": "2024-08-29T06:00:00.000Z"
        },
        {
         "data": [
          {
           "hovertemplate": "vessel_id=79138d1707099e3e<br>timestamp=2024-08-29T12:00:00.000Z<br>vessel_name=%{text}<br>lat=%{lat}<br>lon=%{lon}<extra></extra>",
           "lat": [
            69.064592
           ],
           "legendgroup": "79138d1707099e3e",
           "lon": [
            33.10805711
           ],
           "marker": {
            "color": "#EF553B"
           },
           "mode": "markers+text",
           "name": "79138d1707099e3e",
           "showlegend": true,
           "subplot": "mapbox",
           "text": [
            "ASYA ENERGY"
           ],
           "type": "scattermapbox"
          },
          {
           "hovertemplate": "vessel_id=fe16241b4f45168f<br>timestamp=2024-08-29T12:00:00.000Z<br>vessel_name=%{text}<br>lat=%{lat}<br>lon=%{lon}<extra></extra>",
           "lat": [
            69.33870092
           ],
           "legendgroup": "fe16241b4f45168f",
           "lon": [
            32.92752158
           ],
           "marker": {
            "color": "#00cc96"
           },
           "mode": "markers+text",
           "name": "fe16241b4f45168f",
           "showlegend": true,
           "subplot": "mapbox",
           "text": [
            "EVEREST ENERGY"
           ],
           "type": "scattermapbox"
          },
          {
           "hovertemplate": "vessel_id=72674aadb46c5286<br>timestamp=2024-08-29T12:00:00.000Z<br>vessel_name=%{text}<br>lat=%{lat}<br>lon=%{lon}<extra></extra>",
           "lat": [
            32.03274833
           ],
           "legendgroup": "72674aadb46c5286",
           "lon": [
            32.25085559
           ],
           "marker": {
            "color": "#ab63fa"
           },
           "mode": "markers+text",
           "name": "72674aadb46c5286",
           "showlegend": true,
           "subplot": "mapbox",
           "text": [
            "PIONEER"
           ],
           "type": "scattermapbox"
          }
         ],
         "name": "2024-08-29T12:00:00.000Z"
        },
        {
         "data": [
          {
           "hovertemplate": "vessel_id=79138d1707099e3e<br>timestamp=2024-08-29T18:00:00.000Z<br>vessel_name=%{text}<br>lat=%{lat}<br>lon=%{lon}<extra></extra>",
           "lat": [
            69.064592
           ],
           "legendgroup": "79138d1707099e3e",
           "lon": [
            33.10836674
           ],
           "marker": {
            "color": "#EF553B"
           },
           "mode": "markers+text",
           "name": "79138d1707099e3e",
           "showlegend": true,
           "subplot": "mapbox",
           "text": [
            "ASYA ENERGY"
           ],
           "type": "scattermapbox"
          },
          {
           "hovertemplate": "vessel_id=72674aadb46c5286<br>timestamp=2024-08-29T18:00:00.000Z<br>vessel_name=%{text}<br>lat=%{lat}<br>lon=%{lon}<extra></extra>",
           "lat": [
            32.03274833
           ],
           "legendgroup": "72674aadb46c5286",
           "lon": [
            32.25085559
           ],
           "marker": {
            "color": "#ab63fa"
           },
           "mode": "markers+text",
           "name": "72674aadb46c5286",
           "showlegend": true,
           "subplot": "mapbox",
           "text": [
            "PIONEER"
           ],
           "type": "scattermapbox"
          }
         ],
         "name": "2024-08-29T18:00:00.000Z"
        },
        {
         "data": [
          {
           "hovertemplate": "vessel_id=79138d1707099e3e<br>timestamp=2024-08-30T00:00:00.000Z<br>vessel_name=%{text}<br>lat=%{lat}<br>lon=%{lon}<extra></extra>",
           "lat": [
            69.06730595
           ],
           "legendgroup": "79138d1707099e3e",
           "lon": [
            33.11886817
           ],
           "marker": {
            "color": "#EF553B"
           },
           "mode": "markers+text",
           "name": "79138d1707099e3e",
           "showlegend": true,
           "subplot": "mapbox",
           "text": [
            "ASYA ENERGY"
           ],
           "type": "scattermapbox"
          },
          {
           "hovertemplate": "vessel_id=fe16241b4f45168f<br>timestamp=2024-08-30T00:00:00.000Z<br>vessel_name=%{text}<br>lat=%{lat}<br>lon=%{lon}<extra></extra>",
           "lat": [
            69.33870092
           ],
           "legendgroup": "fe16241b4f45168f",
           "lon": [
            32.92753174
           ],
           "marker": {
            "color": "#00cc96"
           },
           "mode": "markers+text",
           "name": "fe16241b4f45168f",
           "showlegend": true,
           "subplot": "mapbox",
           "text": [
            "EVEREST ENERGY"
           ],
           "type": "scattermapbox"
          },
          {
           "hovertemplate": "vessel_id=72674aadb46c5286<br>timestamp=2024-08-30T00:00:00.000Z<br>vessel_name=%{text}<br>lat=%{lat}<br>lon=%{lon}<extra></extra>",
           "lat": [
            32.03274833
           ],
           "legendgroup": "72674aadb46c5286",
           "lon": [
            32.25085559
           ],
           "marker": {
            "color": "#ab63fa"
           },
           "mode": "markers+text",
           "name": "72674aadb46c5286",
           "showlegend": true,
           "subplot": "mapbox",
           "text": [
            "PIONEER"
           ],
           "type": "scattermapbox"
          }
         ],
         "name": "2024-08-30T00:00:00.000Z"
        },
        {
         "data": [
          {
           "hovertemplate": "vessel_id=79138d1707099e3e<br>timestamp=2024-08-30T06:00:00.000Z<br>vessel_name=%{text}<br>lat=%{lat}<br>lon=%{lon}<extra></extra>",
           "lat": [
            69.06730595
           ],
           "legendgroup": "79138d1707099e3e",
           "lon": [
            33.11321854
           ],
           "marker": {
            "color": "#EF553B"
           },
           "mode": "markers+text",
           "name": "79138d1707099e3e",
           "showlegend": true,
           "subplot": "mapbox",
           "text": [
            "ASYA ENERGY"
           ],
           "type": "scattermapbox"
          },
          {
           "hovertemplate": "vessel_id=fe16241b4f45168f<br>timestamp=2024-08-30T06:00:00.000Z<br>vessel_name=%{text}<br>lat=%{lat}<br>lon=%{lon}<extra></extra>",
           "lat": [
            69.33870092
           ],
           "legendgroup": "fe16241b4f45168f",
           "lon": [
            32.92756222
           ],
           "marker": {
            "color": "#00cc96"
           },
           "mode": "markers+text",
           "name": "fe16241b4f45168f",
           "showlegend": true,
           "subplot": "mapbox",
           "text": [
            "EVEREST ENERGY"
           ],
           "type": "scattermapbox"
          },
          {
           "hovertemplate": "vessel_id=72674aadb46c5286<br>timestamp=2024-08-30T06:00:00.000Z<br>vessel_name=%{text}<br>lat=%{lat}<br>lon=%{lon}<extra></extra>",
           "lat": [
            32.03274833
           ],
           "legendgroup": "72674aadb46c5286",
           "lon": [
            32.25085559
           ],
           "marker": {
            "color": "#ab63fa"
           },
           "mode": "markers+text",
           "name": "72674aadb46c5286",
           "showlegend": true,
           "subplot": "mapbox",
           "text": [
            "PIONEER"
           ],
           "type": "scattermapbox"
          }
         ],
         "name": "2024-08-30T06:00:00.000Z"
        },
        {
         "data": [
          {
           "hovertemplate": "vessel_id=79138d1707099e3e<br>timestamp=2024-08-30T12:00:00.000Z<br>vessel_name=%{text}<br>lat=%{lat}<br>lon=%{lon}<extra></extra>",
           "lat": [
            69.06730595
           ],
           "legendgroup": "79138d1707099e3e",
           "lon": [
            33.11289873
           ],
           "marker": {
            "color": "#EF553B"
           },
           "mode": "markers+text",
           "name": "79138d1707099e3e",
           "showlegend": true,
           "subplot": "mapbox",
           "text": [
            "ASYA ENERGY"
           ],
           "type": "scattermapbox"
          },
          {
           "hovertemplate": "vessel_id=72674aadb46c5286<br>timestamp=2024-08-30T12:00:00.000Z<br>vessel_name=%{text}<br>lat=%{lat}<br>lon=%{lon}<extra></extra>",
           "lat": [
            32.03546228
           ],
           "legendgroup": "72674aadb46c5286",
           "lon": [
            32.25114908
           ],
           "marker": {
            "color": "#ab63fa"
           },
           "mode": "markers+text",
           "name": "72674aadb46c5286",
           "showlegend": true,
           "subplot": "mapbox",
           "text": [
            "PIONEER"
           ],
           "type": "scattermapbox"
          }
         ],
         "name": "2024-08-30T12:00:00.000Z"
        },
        {
         "data": [
          {
           "hovertemplate": "vessel_id=79138d1707099e3e<br>timestamp=2024-08-30T18:00:00.000Z<br>vessel_name=%{text}<br>lat=%{lat}<br>lon=%{lon}<extra></extra>",
           "lat": [
            69.06730595
           ],
           "legendgroup": "79138d1707099e3e",
           "lon": [
            33.11327646
           ],
           "marker": {
            "color": "#EF553B"
           },
           "mode": "markers+text",
           "name": "79138d1707099e3e",
           "showlegend": true,
           "subplot": "mapbox",
           "text": [
            "ASYA ENERGY"
           ],
           "type": "scattermapbox"
          },
          {
           "hovertemplate": "vessel_id=fe16241b4f45168f<br>timestamp=2024-08-30T18:00:00.000Z<br>vessel_name=%{text}<br>lat=%{lat}<br>lon=%{lon}<extra></extra>",
           "lat": [
            69.33870092
           ],
           "legendgroup": "fe16241b4f45168f",
           "lon": [
            32.9275419
           ],
           "marker": {
            "color": "#00cc96"
           },
           "mode": "markers+text",
           "name": "fe16241b4f45168f",
           "showlegend": true,
           "subplot": "mapbox",
           "text": [
            "EVEREST ENERGY"
           ],
           "type": "scattermapbox"
          },
          {
           "hovertemplate": "vessel_id=72674aadb46c5286<br>timestamp=2024-08-30T18:00:00.000Z<br>vessel_name=%{text}<br>lat=%{lat}<br>lon=%{lon}<extra></extra>",
           "lat": [
            32.03274833
           ],
           "legendgroup": "72674aadb46c5286",
           "lon": [
            32.25085559
           ],
           "marker": {
            "color": "#ab63fa"
           },
           "mode": "markers+text",
           "name": "72674aadb46c5286",
           "showlegend": true,
           "subplot": "mapbox",
           "text": [
            "PIONEER"
           ],
           "type": "scattermapbox"
          }
         ],
         "name": "2024-08-30T18:00:00.000Z"
        },
        {
         "data": [
          {
           "hovertemplate": "vessel_id=79138d1707099e3e<br>timestamp=2024-08-31T00:00:00.000Z<br>vessel_name=%{text}<br>lat=%{lat}<br>lon=%{lon}<extra></extra>",
           "lat": [
            69.06730595
           ],
           "legendgroup": "79138d1707099e3e",
           "lon": [
            33.11863395
           ],
           "marker": {
            "color": "#EF553B"
           },
           "mode": "markers+text",
           "name": "79138d1707099e3e",
           "showlegend": true,
           "subplot": "mapbox",
           "text": [
            "ASYA ENERGY"
           ],
           "type": "scattermapbox"
          },
          {
           "hovertemplate": "vessel_id=72674aadb46c5286<br>timestamp=2024-08-31T00:00:00.000Z<br>vessel_name=%{text}<br>lat=%{lat}<br>lon=%{lon}<extra></extra>",
           "lat": [
            32.03274833
           ],
           "legendgroup": "72674aadb46c5286",
           "lon": [
            32.25085559
           ],
           "marker": {
            "color": "#ab63fa"
           },
           "mode": "markers+text",
           "name": "72674aadb46c5286",
           "showlegend": true,
           "subplot": "mapbox",
           "text": [
            "PIONEER"
           ],
           "type": "scattermapbox"
          }
         ],
         "name": "2024-08-31T00:00:00.000Z"
        },
        {
         "data": [
          {
           "hovertemplate": "vessel_id=79138d1707099e3e<br>timestamp=2024-08-31T06:00:00.000Z<br>vessel_name=%{text}<br>lat=%{lat}<br>lon=%{lon}<extra></extra>",
           "lat": [
            69.06187805
           ],
           "legendgroup": "79138d1707099e3e",
           "lon": [
            33.11380439
           ],
           "marker": {
            "color": "#EF553B"
           },
           "mode": "markers+text",
           "name": "79138d1707099e3e",
           "showlegend": true,
           "subplot": "mapbox",
           "text": [
            "ASYA ENERGY"
           ],
           "type": "scattermapbox"
          },
          {
           "hovertemplate": "vessel_id=fe16241b4f45168f<br>timestamp=2024-08-31T06:00:00.000Z<br>vessel_name=%{text}<br>lat=%{lat}<br>lon=%{lon}<extra></extra>",
           "lat": [
            69.33870092
           ],
           "legendgroup": "fe16241b4f45168f",
           "lon": [
            32.9274911
           ],
           "marker": {
            "color": "#00cc96"
           },
           "mode": "markers+text",
           "name": "fe16241b4f45168f",
           "showlegend": true,
           "subplot": "mapbox",
           "text": [
            "EVEREST ENERGY"
           ],
           "type": "scattermapbox"
          },
          {
           "hovertemplate": "vessel_id=72674aadb46c5286<br>timestamp=2024-08-31T06:00:00.000Z<br>vessel_name=%{text}<br>lat=%{lat}<br>lon=%{lon}<extra></extra>",
           "lat": [
            32.03546228
           ],
           "legendgroup": "72674aadb46c5286",
           "lon": [
            32.25114908
           ],
           "marker": {
            "color": "#ab63fa"
           },
           "mode": "markers+text",
           "name": "72674aadb46c5286",
           "showlegend": true,
           "subplot": "mapbox",
           "text": [
            "PIONEER"
           ],
           "type": "scattermapbox"
          }
         ],
         "name": "2024-08-31T06:00:00.000Z"
        },
        {
         "data": [
          {
           "hovertemplate": "vessel_id=79138d1707099e3e<br>timestamp=2024-08-31T12:00:00.000Z<br>vessel_name=%{text}<br>lat=%{lat}<br>lon=%{lon}<extra></extra>",
           "lat": [
            69.06187805
           ],
           "legendgroup": "79138d1707099e3e",
           "lon": [
            33.11275206
           ],
           "marker": {
            "color": "#EF553B"
           },
           "mode": "markers+text",
           "name": "79138d1707099e3e",
           "showlegend": true,
           "subplot": "mapbox",
           "text": [
            "ASYA ENERGY"
           ],
           "type": "scattermapbox"
          },
          {
           "hovertemplate": "vessel_id=fe16241b4f45168f<br>timestamp=2024-08-31T12:00:00.000Z<br>vessel_name=%{text}<br>lat=%{lat}<br>lon=%{lon}<extra></extra>",
           "lat": [
            69.33870092
           ],
           "legendgroup": "fe16241b4f45168f",
           "lon": [
            32.92752158
           ],
           "marker": {
            "color": "#00cc96"
           },
           "mode": "markers+text",
           "name": "fe16241b4f45168f",
           "showlegend": true,
           "subplot": "mapbox",
           "text": [
            "EVEREST ENERGY"
           ],
           "type": "scattermapbox"
          },
          {
           "hovertemplate": "vessel_id=72674aadb46c5286<br>timestamp=2024-08-31T12:00:00.000Z<br>vessel_name=%{text}<br>lat=%{lat}<br>lon=%{lon}<extra></extra>",
           "lat": [
            32.03274833
           ],
           "legendgroup": "72674aadb46c5286",
           "lon": [
            32.25085559
           ],
           "marker": {
            "color": "#ab63fa"
           },
           "mode": "markers+text",
           "name": "72674aadb46c5286",
           "showlegend": true,
           "subplot": "mapbox",
           "text": [
            "PIONEER"
           ],
           "type": "scattermapbox"
          }
         ],
         "name": "2024-08-31T12:00:00.000Z"
        },
        {
         "data": [
          {
           "hovertemplate": "vessel_id=79138d1707099e3e<br>timestamp=2024-08-31T18:00:00.000Z<br>vessel_name=%{text}<br>lat=%{lat}<br>lon=%{lon}<extra></extra>",
           "lat": [
            69.064592
           ],
           "legendgroup": "79138d1707099e3e",
           "lon": [
            33.11796155
           ],
           "marker": {
            "color": "#EF553B"
           },
           "mode": "markers+text",
           "name": "79138d1707099e3e",
           "showlegend": true,
           "subplot": "mapbox",
           "text": [
            "ASYA ENERGY"
           ],
           "type": "scattermapbox"
          },
          {
           "hovertemplate": "vessel_id=72674aadb46c5286<br>timestamp=2024-08-31T18:00:00.000Z<br>vessel_name=%{text}<br>lat=%{lat}<br>lon=%{lon}<extra></extra>",
           "lat": [
            32.03274833
           ],
           "legendgroup": "72674aadb46c5286",
           "lon": [
            32.25085559
           ],
           "marker": {
            "color": "#ab63fa"
           },
           "mode": "markers+text",
           "name": "72674aadb46c5286",
           "showlegend": true,
           "subplot": "mapbox",
           "text": [
            "PIONEER"
           ],
           "type": "scattermapbox"
          }
         ],
         "name": "2024-08-31T18:00:00.000Z"
        },
        {
         "data": [
          {
           "hovertemplate": "vessel_id=79138d1707099e3e<br>timestamp=2024-09-01T00:00:00.000Z<br>vessel_name=%{text}<br>lat=%{lat}<br>lon=%{lon}<extra></extra>",
           "lat": [
            69.064592
           ],
           "legendgroup": "79138d1707099e3e",
           "lon": [
            33.11715068
           ],
           "marker": {
            "color": "#EF553B"
           },
           "mode": "markers+text",
           "name": "79138d1707099e3e",
           "showlegend": true,
           "subplot": "mapbox",
           "text": [
            "ASYA ENERGY"
           ],
           "type": "scattermapbox"
          },
          {
           "hovertemplate": "vessel_id=72674aadb46c5286<br>timestamp=2024-09-01T00:00:00.000Z<br>vessel_name=%{text}<br>lat=%{lat}<br>lon=%{lon}<extra></extra>",
           "lat": [
            32.03546228
           ],
           "legendgroup": "72674aadb46c5286",
           "lon": [
            32.25114908
           ],
           "marker": {
            "color": "#ab63fa"
           },
           "mode": "markers+text",
           "name": "72674aadb46c5286",
           "showlegend": true,
           "subplot": "mapbox",
           "text": [
            "PIONEER"
           ],
           "type": "scattermapbox"
          }
         ],
         "name": "2024-09-01T00:00:00.000Z"
        },
        {
         "data": [
          {
           "hovertemplate": "vessel_id=79138d1707099e3e<br>timestamp=2024-09-01T06:00:00.000Z<br>vessel_name=%{text}<br>lat=%{lat}<br>lon=%{lon}<extra></extra>",
           "lat": [
            69.064592
           ],
           "legendgroup": "79138d1707099e3e",
           "lon": [
            33.11778779
           ],
           "marker": {
            "color": "#EF553B"
           },
           "mode": "markers+text",
           "name": "79138d1707099e3e",
           "showlegend": true,
           "subplot": "mapbox",
           "text": [
            "ASYA ENERGY"
           ],
           "type": "scattermapbox"
          },
          {
           "hovertemplate": "vessel_id=72674aadb46c5286<br>timestamp=2024-09-01T06:00:00.000Z<br>vessel_name=%{text}<br>lat=%{lat}<br>lon=%{lon}<extra></extra>",
           "lat": [
            32.03546228
           ],
           "legendgroup": "72674aadb46c5286",
           "lon": [
            32.25114908
           ],
           "marker": {
            "color": "#ab63fa"
           },
           "mode": "markers+text",
           "name": "72674aadb46c5286",
           "showlegend": true,
           "subplot": "mapbox",
           "text": [
            "PIONEER"
           ],
           "type": "scattermapbox"
          }
         ],
         "name": "2024-09-01T06:00:00.000Z"
        },
        {
         "data": [
          {
           "hovertemplate": "vessel_id=79138d1707099e3e<br>timestamp=2024-09-01T12:00:00.000Z<br>vessel_name=%{text}<br>lat=%{lat}<br>lon=%{lon}<extra></extra>",
           "lat": [
            69.064592
           ],
           "legendgroup": "79138d1707099e3e",
           "lon": [
            33.11526972
           ],
           "marker": {
            "color": "#EF553B"
           },
           "mode": "markers+text",
           "name": "79138d1707099e3e",
           "showlegend": true,
           "subplot": "mapbox",
           "text": [
            "ASYA ENERGY"
           ],
           "type": "scattermapbox"
          },
          {
           "hovertemplate": "vessel_id=72674aadb46c5286<br>timestamp=2024-09-01T12:00:00.000Z<br>vessel_name=%{text}<br>lat=%{lat}<br>lon=%{lon}<extra></extra>",
           "lat": [
            32.03274833
           ],
           "legendgroup": "72674aadb46c5286",
           "lon": [
            32.25085559
           ],
           "marker": {
            "color": "#ab63fa"
           },
           "mode": "markers+text",
           "name": "72674aadb46c5286",
           "showlegend": true,
           "subplot": "mapbox",
           "text": [
            "PIONEER"
           ],
           "type": "scattermapbox"
          }
         ],
         "name": "2024-09-01T12:00:00.000Z"
        },
        {
         "data": [
          {
           "hovertemplate": "vessel_id=79138d1707099e3e<br>timestamp=2024-09-01T18:00:00.000Z<br>vessel_name=%{text}<br>lat=%{lat}<br>lon=%{lon}<extra></extra>",
           "lat": [
            69.06730595
           ],
           "legendgroup": "79138d1707099e3e",
           "lon": [
            33.11847529
           ],
           "marker": {
            "color": "#EF553B"
           },
           "mode": "markers+text",
           "name": "79138d1707099e3e",
           "showlegend": true,
           "subplot": "mapbox",
           "text": [
            "ASYA ENERGY"
           ],
           "type": "scattermapbox"
          },
          {
           "hovertemplate": "vessel_id=72674aadb46c5286<br>timestamp=2024-09-01T18:00:00.000Z<br>vessel_name=%{text}<br>lat=%{lat}<br>lon=%{lon}<extra></extra>",
           "lat": [
            32.03274833
           ],
           "legendgroup": "72674aadb46c5286",
           "lon": [
            32.25085559
           ],
           "marker": {
            "color": "#ab63fa"
           },
           "mode": "markers+text",
           "name": "72674aadb46c5286",
           "showlegend": true,
           "subplot": "mapbox",
           "text": [
            "PIONEER"
           ],
           "type": "scattermapbox"
          }
         ],
         "name": "2024-09-01T18:00:00.000Z"
        },
        {
         "data": [
          {
           "hovertemplate": "vessel_id=79138d1707099e3e<br>timestamp=2024-09-02T00:00:00.000Z<br>vessel_name=%{text}<br>lat=%{lat}<br>lon=%{lon}<extra></extra>",
           "lat": [
            69.06730595
           ],
           "legendgroup": "79138d1707099e3e",
           "lon": [
            33.1191452
           ],
           "marker": {
            "color": "#EF553B"
           },
           "mode": "markers+text",
           "name": "79138d1707099e3e",
           "showlegend": true,
           "subplot": "mapbox",
           "text": [
            "ASYA ENERGY"
           ],
           "type": "scattermapbox"
          },
          {
           "hovertemplate": "vessel_id=72674aadb46c5286<br>timestamp=2024-09-02T00:00:00.000Z<br>vessel_name=%{text}<br>lat=%{lat}<br>lon=%{lon}<extra></extra>",
           "lat": [
            32.03274833
           ],
           "legendgroup": "72674aadb46c5286",
           "lon": [
            32.25085559
           ],
           "marker": {
            "color": "#ab63fa"
           },
           "mode": "markers+text",
           "name": "72674aadb46c5286",
           "showlegend": true,
           "subplot": "mapbox",
           "text": [
            "PIONEER"
           ],
           "type": "scattermapbox"
          }
         ],
         "name": "2024-09-02T00:00:00.000Z"
        },
        {
         "data": [
          {
           "hovertemplate": "vessel_id=79138d1707099e3e<br>timestamp=2024-09-02T06:00:00.000Z<br>vessel_name=%{text}<br>lat=%{lat}<br>lon=%{lon}<extra></extra>",
           "lat": [
            69.064592
           ],
           "legendgroup": "79138d1707099e3e",
           "lon": [
            33.11775757
           ],
           "marker": {
            "color": "#EF553B"
           },
           "mode": "markers+text",
           "name": "79138d1707099e3e",
           "showlegend": true,
           "subplot": "mapbox",
           "text": [
            "ASYA ENERGY"
           ],
           "type": "scattermapbox"
          },
          {
           "hovertemplate": "vessel_id=72674aadb46c5286<br>timestamp=2024-09-02T06:00:00.000Z<br>vessel_name=%{text}<br>lat=%{lat}<br>lon=%{lon}<extra></extra>",
           "lat": [
            32.03274833
           ],
           "legendgroup": "72674aadb46c5286",
           "lon": [
            32.25085559
           ],
           "marker": {
            "color": "#ab63fa"
           },
           "mode": "markers+text",
           "name": "72674aadb46c5286",
           "showlegend": true,
           "subplot": "mapbox",
           "text": [
            "PIONEER"
           ],
           "type": "scattermapbox"
          }
         ],
         "name": "2024-09-02T06:00:00.000Z"
        },
        {
         "data": [
          {
           "hovertemplate": "vessel_id=79138d1707099e3e<br>timestamp=2024-09-02T12:00:00.000Z<br>vessel_name=%{text}<br>lat=%{lat}<br>lon=%{lon}<extra></extra>",
           "lat": [
            69.064592
           ],
           "legendgroup": "79138d1707099e3e",
           "lon": [
            33.10767447
           ],
           "marker": {
            "color": "#EF553B"
           },
           "mode": "markers+text",
           "name": "79138d1707099e3e",
           "showlegend": true,
           "subplot": "mapbox",
           "text": [
            "ASYA ENERGY"
           ],
           "type": "scattermapbox"
          },
          {
           "hovertemplate": "vessel_id=72674aadb46c5286<br>timestamp=2024-09-02T12:00:00.000Z<br>vessel_name=%{text}<br>lat=%{lat}<br>lon=%{lon}<extra></extra>",
           "lat": [
            32.03274833
           ],
           "legendgroup": "72674aadb46c5286",
           "lon": [
            32.25085559
           ],
           "marker": {
            "color": "#ab63fa"
           },
           "mode": "markers+text",
           "name": "72674aadb46c5286",
           "showlegend": true,
           "subplot": "mapbox",
           "text": [
            "PIONEER"
           ],
           "type": "scattermapbox"
          }
         ],
         "name": "2024-09-02T12:00:00.000Z"
        },
        {
         "data": [
          {
           "hovertemplate": "vessel_id=79138d1707099e3e<br>timestamp=2024-09-02T18:00:00.000Z<br>vessel_name=%{text}<br>lat=%{lat}<br>lon=%{lon}<extra></extra>",
           "lat": [
            69.064592
           ],
           "legendgroup": "79138d1707099e3e",
           "lon": [
            33.11758633
           ],
           "marker": {
            "color": "#EF553B"
           },
           "mode": "markers+text",
           "name": "79138d1707099e3e",
           "showlegend": true,
           "subplot": "mapbox",
           "text": [
            "ASYA ENERGY"
           ],
           "type": "scattermapbox"
          },
          {
           "hovertemplate": "vessel_id=fe16241b4f45168f<br>timestamp=2024-09-02T18:00:00.000Z<br>vessel_name=%{text}<br>lat=%{lat}<br>lon=%{lon}<extra></extra>",
           "lat": [
            69.60738194
           ],
           "legendgroup": "fe16241b4f45168f",
           "lon": [
            35.93700627
           ],
           "marker": {
            "color": "#00cc96"
           },
           "mode": "markers+text",
           "name": "fe16241b4f45168f",
           "showlegend": true,
           "subplot": "mapbox",
           "text": [
            "EVEREST ENERGY"
           ],
           "type": "scattermapbox"
          },
          {
           "hovertemplate": "vessel_id=72674aadb46c5286<br>timestamp=2024-09-02T18:00:00.000Z<br>vessel_name=%{text}<br>lat=%{lat}<br>lon=%{lon}<extra></extra>",
           "lat": [
            32.03274833
           ],
           "legendgroup": "72674aadb46c5286",
           "lon": [
            32.25085559
           ],
           "marker": {
            "color": "#ab63fa"
           },
           "mode": "markers+text",
           "name": "72674aadb46c5286",
           "showlegend": true,
           "subplot": "mapbox",
           "text": [
            "PIONEER"
           ],
           "type": "scattermapbox"
          }
         ],
         "name": "2024-09-02T18:00:00.000Z"
        },
        {
         "data": [
          {
           "hovertemplate": "vessel_id=79138d1707099e3e<br>timestamp=2024-09-03T00:00:00.000Z<br>vessel_name=%{text}<br>lat=%{lat}<br>lon=%{lon}<extra></extra>",
           "lat": [
            69.31427538
           ],
           "legendgroup": "79138d1707099e3e",
           "lon": [
            33.55140862
           ],
           "marker": {
            "color": "#EF553B"
           },
           "mode": "markers+text",
           "name": "79138d1707099e3e",
           "showlegend": true,
           "subplot": "mapbox",
           "text": [
            "ASYA ENERGY"
           ],
           "type": "scattermapbox"
          },
          {
           "hovertemplate": "vessel_id=fe16241b4f45168f<br>timestamp=2024-09-03T00:00:00.000Z<br>vessel_name=%{text}<br>lat=%{lat}<br>lon=%{lon}<extra></extra>",
           "lat": [
            69.82178397
           ],
           "legendgroup": "fe16241b4f45168f",
           "lon": [
            41.02830097
           ],
           "marker": {
            "color": "#00cc96"
           },
           "mode": "markers+text",
           "name": "fe16241b4f45168f",
           "showlegend": true,
           "subplot": "mapbox",
           "text": [
            "EVEREST ENERGY"
           ],
           "type": "scattermapbox"
          },
          {
           "hovertemplate": "vessel_id=72674aadb46c5286<br>timestamp=2024-09-03T00:00:00.000Z<br>vessel_name=%{text}<br>lat=%{lat}<br>lon=%{lon}<extra></extra>",
           "lat": [
            32.03274833
           ],
           "legendgroup": "72674aadb46c5286",
           "lon": [
            32.25085559
           ],
           "marker": {
            "color": "#ab63fa"
           },
           "mode": "markers+text",
           "name": "72674aadb46c5286",
           "showlegend": true,
           "subplot": "mapbox",
           "text": [
            "PIONEER"
           ],
           "type": "scattermapbox"
          }
         ],
         "name": "2024-09-03T00:00:00.000Z"
        },
        {
         "data": [
          {
           "hovertemplate": "vessel_id=3bc8490a0c382976<br>timestamp=2024-09-03T06:00:00.000Z<br>vessel_name=%{text}<br>lat=%{lat}<br>lon=%{lon}<extra></extra>",
           "lat": [
            31.45196309
           ],
           "legendgroup": "3bc8490a0c382976",
           "lon": [
            32.56105878
           ],
           "marker": {
            "color": "#636efa"
           },
           "mode": "markers+text",
           "name": "3bc8490a0c382976",
           "showlegend": true,
           "subplot": "mapbox",
           "text": [
            "NEW ENERGY"
           ],
           "type": "scattermapbox"
          },
          {
           "hovertemplate": "vessel_id=79138d1707099e3e<br>timestamp=2024-09-03T06:00:00.000Z<br>vessel_name=%{text}<br>lat=%{lat}<br>lon=%{lon}<extra></extra>",
           "lat": [
            69.40654967
           ],
           "legendgroup": "79138d1707099e3e",
           "lon": [
            33.0023657
           ],
           "marker": {
            "color": "#EF553B"
           },
           "mode": "markers+text",
           "name": "79138d1707099e3e",
           "showlegend": true,
           "subplot": "mapbox",
           "text": [
            "ASYA ENERGY"
           ],
           "type": "scattermapbox"
          },
          {
           "hovertemplate": "vessel_id=fe16241b4f45168f<br>timestamp=2024-09-03T06:00:00.000Z<br>vessel_name=%{text}<br>lat=%{lat}<br>lon=%{lon}<extra></extra>",
           "lat": [
            69.92762801
           ],
           "legendgroup": "fe16241b4f45168f",
           "lon": [
            46.0075652
           ],
           "marker": {
            "color": "#00cc96"
           },
           "mode": "markers+text",
           "name": "fe16241b4f45168f",
           "showlegend": true,
           "subplot": "mapbox",
           "text": [
            "EVEREST ENERGY"
           ],
           "type": "scattermapbox"
          },
          {
           "hovertemplate": "vessel_id=72674aadb46c5286<br>timestamp=2024-09-03T06:00:00.000Z<br>vessel_name=%{text}<br>lat=%{lat}<br>lon=%{lon}<extra></extra>",
           "lat": [
            31.45196309
           ],
           "legendgroup": "72674aadb46c5286",
           "lon": [
            32.56108775
           ],
           "marker": {
            "color": "#ab63fa"
           },
           "mode": "markers+text",
           "name": "72674aadb46c5286",
           "showlegend": true,
           "subplot": "mapbox",
           "text": [
            "PIONEER"
           ],
           "type": "scattermapbox"
          }
         ],
         "name": "2024-09-03T06:00:00.000Z"
        },
        {
         "data": [
          {
           "hovertemplate": "vessel_id=3bc8490a0c382976<br>timestamp=2024-09-03T12:00:00.000Z<br>vessel_name=%{text}<br>lat=%{lat}<br>lon=%{lon}<extra></extra>",
           "lat": [
            31.45196309
           ],
           "legendgroup": "3bc8490a0c382976",
           "lon": [
            32.56402866
           ],
           "marker": {
            "color": "#636efa"
           },
           "mode": "markers+text",
           "name": "3bc8490a0c382976",
           "showlegend": true,
           "subplot": "mapbox",
           "text": [
            "NEW ENERGY"
           ],
           "type": "scattermapbox"
          },
          {
           "hovertemplate": "vessel_id=79138d1707099e3e<br>timestamp=2024-09-03T12:00:00.000Z<br>vessel_name=%{text}<br>lat=%{lat}<br>lon=%{lon}<extra></extra>",
           "lat": [
            69.33870092
           ],
           "legendgroup": "79138d1707099e3e",
           "lon": [
            32.9261907
           ],
           "marker": {
            "color": "#EF553B"
           },
           "mode": "markers+text",
           "name": "79138d1707099e3e",
           "showlegend": true,
           "subplot": "mapbox",
           "text": [
            "ASYA ENERGY"
           ],
           "type": "scattermapbox"
          },
          {
           "hovertemplate": "vessel_id=fe16241b4f45168f<br>timestamp=2024-09-03T12:00:00.000Z<br>vessel_name=%{text}<br>lat=%{lat}<br>lon=%{lon}<extra></extra>",
           "lat": [
            70.0090465
           ],
           "legendgroup": "fe16241b4f45168f",
           "lon": [
            49.62278233
           ],
           "marker": {
            "color": "#00cc96"
           },
           "mode": "markers+text",
           "name": "fe16241b4f45168f",
           "showlegend": true,
           "subplot": "mapbox",
           "text": [
            "EVEREST ENERGY"
           ],
           "type": "scattermapbox"
          },
          {
           "hovertemplate": "vessel_id=72674aadb46c5286<br>timestamp=2024-09-03T12:00:00.000Z<br>vessel_name=%{text}<br>lat=%{lat}<br>lon=%{lon}<extra></extra>",
           "lat": [
            31.45196309
           ],
           "legendgroup": "72674aadb46c5286",
           "lon": [
            32.56142666
           ],
           "marker": {
            "color": "#ab63fa"
           },
           "mode": "markers+text",
           "name": "72674aadb46c5286",
           "showlegend": true,
           "subplot": "mapbox",
           "text": [
            "PIONEER"
           ],
           "type": "scattermapbox"
          }
         ],
         "name": "2024-09-03T12:00:00.000Z"
        },
        {
         "data": [
          {
           "hovertemplate": "vessel_id=3bc8490a0c382976<br>timestamp=2024-09-03T18:00:00.000Z<br>vessel_name=%{text}<br>lat=%{lat}<br>lon=%{lon}<extra></extra>",
           "lat": [
            31.45196309
           ],
           "legendgroup": "3bc8490a0c382976",
           "lon": [
            32.5643925
           ],
           "marker": {
            "color": "#636efa"
           },
           "mode": "markers+text",
           "name": "3bc8490a0c382976",
           "showlegend": true,
           "subplot": "mapbox",
           "text": [
            "NEW ENERGY"
           ],
           "type": "scattermapbox"
          },
          {
           "hovertemplate": "vessel_id=79138d1707099e3e<br>timestamp=2024-09-03T18:00:00.000Z<br>vessel_name=%{text}<br>lat=%{lat}<br>lon=%{lon}<extra></extra>",
           "lat": [
            69.33870092
           ],
           "legendgroup": "79138d1707099e3e",
           "lon": [
            32.9261907
           ],
           "marker": {
            "color": "#EF553B"
           },
           "mode": "markers+text",
           "name": "79138d1707099e3e",
           "showlegend": true,
           "subplot": "mapbox",
           "text": [
            "ASYA ENERGY"
           ],
           "type": "scattermapbox"
          },
          {
           "hovertemplate": "vessel_id=fe16241b4f45168f<br>timestamp=2024-09-03T18:00:00.000Z<br>vessel_name=%{text}<br>lat=%{lat}<br>lon=%{lon}<extra></extra>",
           "lat": [
            70.14203003
           ],
           "legendgroup": "fe16241b4f45168f",
           "lon": [
            55.63760867
           ],
           "marker": {
            "color": "#00cc96"
           },
           "mode": "markers+text",
           "name": "fe16241b4f45168f",
           "showlegend": true,
           "subplot": "mapbox",
           "text": [
            "EVEREST ENERGY"
           ],
           "type": "scattermapbox"
          },
          {
           "hovertemplate": "vessel_id=72674aadb46c5286<br>timestamp=2024-09-03T18:00:00.000Z<br>vessel_name=%{text}<br>lat=%{lat}<br>lon=%{lon}<extra></extra>",
           "lat": [
            31.45196309
           ],
           "legendgroup": "72674aadb46c5286",
           "lon": [
            32.56121694
           ],
           "marker": {
            "color": "#ab63fa"
           },
           "mode": "markers+text",
           "name": "72674aadb46c5286",
           "showlegend": true,
           "subplot": "mapbox",
           "text": [
            "PIONEER"
           ],
           "type": "scattermapbox"
          }
         ],
         "name": "2024-09-03T18:00:00.000Z"
        },
        {
         "data": [
          {
           "hovertemplate": "vessel_id=3bc8490a0c382976<br>timestamp=2024-09-04T00:00:00.000Z<br>vessel_name=%{text}<br>lat=%{lat}<br>lon=%{lon}<extra></extra>",
           "lat": [
            31.45196309
           ],
           "legendgroup": "3bc8490a0c382976",
           "lon": [
            32.56142666
           ],
           "marker": {
            "color": "#636efa"
           },
           "mode": "markers+text",
           "name": "3bc8490a0c382976",
           "showlegend": true,
           "subplot": "mapbox",
           "text": [
            "NEW ENERGY"
           ],
           "type": "scattermapbox"
          },
          {
           "hovertemplate": "vessel_id=79138d1707099e3e<br>timestamp=2024-09-04T00:00:00.000Z<br>vessel_name=%{text}<br>lat=%{lat}<br>lon=%{lon}<extra></extra>",
           "lat": [
            69.33870092
           ],
           "legendgroup": "79138d1707099e3e",
           "lon": [
            32.9261907
           ],
           "marker": {
            "color": "#EF553B"
           },
           "mode": "markers+text",
           "name": "79138d1707099e3e",
           "showlegend": true,
           "subplot": "mapbox",
           "text": [
            "ASYA ENERGY"
           ],
           "type": "scattermapbox"
          },
          {
           "hovertemplate": "vessel_id=fe16241b4f45168f<br>timestamp=2024-09-04T00:00:00.000Z<br>vessel_name=%{text}<br>lat=%{lat}<br>lon=%{lon}<extra></extra>",
           "lat": [
            70.9317894
           ],
           "legendgroup": "fe16241b4f45168f",
           "lon": [
            59.31808832
           ],
           "marker": {
            "color": "#00cc96"
           },
           "mode": "markers+text",
           "name": "fe16241b4f45168f",
           "showlegend": true,
           "subplot": "mapbox",
           "text": [
            "EVEREST ENERGY"
           ],
           "type": "scattermapbox"
          },
          {
           "hovertemplate": "vessel_id=72674aadb46c5286<br>timestamp=2024-09-04T00:00:00.000Z<br>vessel_name=%{text}<br>lat=%{lat}<br>lon=%{lon}<extra></extra>",
           "lat": [
            31.45196309
           ],
           "legendgroup": "72674aadb46c5286",
           "lon": [
            32.56126734
           ],
           "marker": {
            "color": "#ab63fa"
           },
           "mode": "markers+text",
           "name": "72674aadb46c5286",
           "showlegend": true,
           "subplot": "mapbox",
           "text": [
            "PIONEER"
           ],
           "type": "scattermapbox"
          }
         ],
         "name": "2024-09-04T00:00:00.000Z"
        },
        {
         "data": [
          {
           "hovertemplate": "vessel_id=3bc8490a0c382976<br>timestamp=2024-09-04T06:00:00.000Z<br>vessel_name=%{text}<br>lat=%{lat}<br>lon=%{lon}<extra></extra>",
           "lat": [
            31.45196309
           ],
           "legendgroup": "3bc8490a0c382976",
           "lon": [
            32.56460688
           ],
           "marker": {
            "color": "#636efa"
           },
           "mode": "markers+text",
           "name": "3bc8490a0c382976",
           "showlegend": true,
           "subplot": "mapbox",
           "text": [
            "NEW ENERGY"
           ],
           "type": "scattermapbox"
          },
          {
           "hovertemplate": "vessel_id=79138d1707099e3e<br>timestamp=2024-09-04T06:00:00.000Z<br>vessel_name=%{text}<br>lat=%{lat}<br>lon=%{lon}<extra></extra>",
           "lat": [
            69.33870092
           ],
           "legendgroup": "79138d1707099e3e",
           "lon": [
            32.9261907
           ],
           "marker": {
            "color": "#EF553B"
           },
           "mode": "markers+text",
           "name": "79138d1707099e3e",
           "showlegend": true,
           "subplot": "mapbox",
           "text": [
            "ASYA ENERGY"
           ],
           "type": "scattermapbox"
          },
          {
           "hovertemplate": "vessel_id=fe16241b4f45168f<br>timestamp=2024-09-04T06:00:00.000Z<br>vessel_name=%{text}<br>lat=%{lat}<br>lon=%{lon}<extra></extra>",
           "lat": [
            72.14492491
           ],
           "legendgroup": "fe16241b4f45168f",
           "lon": [
            62.93132022
           ],
           "marker": {
            "color": "#00cc96"
           },
           "mode": "markers+text",
           "name": "fe16241b4f45168f",
           "showlegend": true,
           "subplot": "mapbox",
           "text": [
            "EVEREST ENERGY"
           ],
           "type": "scattermapbox"
          },
          {
           "hovertemplate": "vessel_id=72674aadb46c5286<br>timestamp=2024-09-04T06:00:00.000Z<br>vessel_name=%{text}<br>lat=%{lat}<br>lon=%{lon}<extra></extra>",
           "lat": [
            31.45196309
           ],
           "legendgroup": "72674aadb46c5286",
           "lon": [
            32.56451591
           ],
           "marker": {
            "color": "#ab63fa"
           },
           "mode": "markers+text",
           "name": "72674aadb46c5286",
           "showlegend": true,
           "subplot": "mapbox",
           "text": [
            "PIONEER"
           ],
           "type": "scattermapbox"
          }
         ],
         "name": "2024-09-04T06:00:00.000Z"
        },
        {
         "data": [
          {
           "hovertemplate": "vessel_id=3bc8490a0c382976<br>timestamp=2024-09-04T12:00:00.000Z<br>vessel_name=%{text}<br>lat=%{lat}<br>lon=%{lon}<extra></extra>",
           "lat": [
            31.45196309
           ],
           "legendgroup": "3bc8490a0c382976",
           "lon": [
            32.56441916
           ],
           "marker": {
            "color": "#636efa"
           },
           "mode": "markers+text",
           "name": "3bc8490a0c382976",
           "showlegend": true,
           "subplot": "mapbox",
           "text": [
            "NEW ENERGY"
           ],
           "type": "scattermapbox"
          },
          {
           "hovertemplate": "vessel_id=79138d1707099e3e<br>timestamp=2024-09-04T12:00:00.000Z<br>vessel_name=%{text}<br>lat=%{lat}<br>lon=%{lon}<extra></extra>",
           "lat": [
            69.33870092
           ],
           "legendgroup": "79138d1707099e3e",
           "lon": [
            32.9261907
           ],
           "marker": {
            "color": "#EF553B"
           },
           "mode": "markers+text",
           "name": "79138d1707099e3e",
           "showlegend": true,
           "subplot": "mapbox",
           "text": [
            "ASYA ENERGY"
           ],
           "type": "scattermapbox"
          },
          {
           "hovertemplate": "vessel_id=fe16241b4f45168f<br>timestamp=2024-09-04T12:00:00.000Z<br>vessel_name=%{text}<br>lat=%{lat}<br>lon=%{lon}<extra></extra>",
           "lat": [
            73.27935589
           ],
           "legendgroup": "fe16241b4f45168f",
           "lon": [
            66.56966534
           ],
           "marker": {
            "color": "#00cc96"
           },
           "mode": "markers+text",
           "name": "fe16241b4f45168f",
           "showlegend": true,
           "subplot": "mapbox",
           "text": [
            "EVEREST ENERGY"
           ],
           "type": "scattermapbox"
          },
          {
           "hovertemplate": "vessel_id=72674aadb46c5286<br>timestamp=2024-09-04T12:00:00.000Z<br>vessel_name=%{text}<br>lat=%{lat}<br>lon=%{lon}<extra></extra>",
           "lat": [
            31.45196309
           ],
           "legendgroup": "72674aadb46c5286",
           "lon": [
            32.56142666
           ],
           "marker": {
            "color": "#ab63fa"
           },
           "mode": "markers+text",
           "name": "72674aadb46c5286",
           "showlegend": true,
           "subplot": "mapbox",
           "text": [
            "PIONEER"
           ],
           "type": "scattermapbox"
          }
         ],
         "name": "2024-09-04T12:00:00.000Z"
        },
        {
         "data": [
          {
           "hovertemplate": "vessel_id=3bc8490a0c382976<br>timestamp=2024-09-04T18:00:00.000Z<br>vessel_name=%{text}<br>lat=%{lat}<br>lon=%{lon}<extra></extra>",
           "lat": [
            31.45196309
           ],
           "legendgroup": "3bc8490a0c382976",
           "lon": [
            32.56455763
           ],
           "marker": {
            "color": "#636efa"
           },
           "mode": "markers+text",
           "name": "3bc8490a0c382976",
           "showlegend": true,
           "subplot": "mapbox",
           "text": [
            "NEW ENERGY"
           ],
           "type": "scattermapbox"
          },
          {
           "hovertemplate": "vessel_id=79138d1707099e3e<br>timestamp=2024-09-04T18:00:00.000Z<br>vessel_name=%{text}<br>lat=%{lat}<br>lon=%{lon}<extra></extra>",
           "lat": [
            69.33870092
           ],
           "legendgroup": "79138d1707099e3e",
           "lon": [
            32.9261907
           ],
           "marker": {
            "color": "#EF553B"
           },
           "mode": "markers+text",
           "name": "79138d1707099e3e",
           "showlegend": true,
           "subplot": "mapbox",
           "text": [
            "ASYA ENERGY"
           ],
           "type": "scattermapbox"
          },
          {
           "hovertemplate": "vessel_id=fe16241b4f45168f<br>timestamp=2024-09-04T18:00:00.000Z<br>vessel_name=%{text}<br>lat=%{lat}<br>lon=%{lon}<extra></extra>",
           "lat": [
            73.73529944
           ],
           "legendgroup": "fe16241b4f45168f",
           "lon": [
            71.83455851
           ],
           "marker": {
            "color": "#00cc96"
           },
           "mode": "markers+text",
           "name": "fe16241b4f45168f",
           "showlegend": true,
           "subplot": "mapbox",
           "text": [
            "EVEREST ENERGY"
           ],
           "type": "scattermapbox"
          },
          {
           "hovertemplate": "vessel_id=72674aadb46c5286<br>timestamp=2024-09-04T18:00:00.000Z<br>vessel_name=%{text}<br>lat=%{lat}<br>lon=%{lon}<extra></extra>",
           "lat": [
            31.45196309
           ],
           "legendgroup": "72674aadb46c5286",
           "lon": [
            32.56142666
           ],
           "marker": {
            "color": "#ab63fa"
           },
           "mode": "markers+text",
           "name": "72674aadb46c5286",
           "showlegend": true,
           "subplot": "mapbox",
           "text": [
            "PIONEER"
           ],
           "type": "scattermapbox"
          }
         ],
         "name": "2024-09-04T18:00:00.000Z"
        },
        {
         "data": [
          {
           "hovertemplate": "vessel_id=3bc8490a0c382976<br>timestamp=2024-09-05T00:00:00.000Z<br>vessel_name=%{text}<br>lat=%{lat}<br>lon=%{lon}<extra></extra>",
           "lat": [
            31.45196309
           ],
           "legendgroup": "3bc8490a0c382976",
           "lon": [
            32.56448173
           ],
           "marker": {
            "color": "#636efa"
           },
           "mode": "markers+text",
           "name": "3bc8490a0c382976",
           "showlegend": true,
           "subplot": "mapbox",
           "text": [
            "NEW ENERGY"
           ],
           "type": "scattermapbox"
          },
          {
           "hovertemplate": "vessel_id=79138d1707099e3e<br>timestamp=2024-09-05T00:00:00.000Z<br>vessel_name=%{text}<br>lat=%{lat}<br>lon=%{lon}<extra></extra>",
           "lat": [
            69.33870092
           ],
           "legendgroup": "79138d1707099e3e",
           "lon": [
            32.9261907
           ],
           "marker": {
            "color": "#EF553B"
           },
           "mode": "markers+text",
           "name": "79138d1707099e3e",
           "showlegend": true,
           "subplot": "mapbox",
           "text": [
            "ASYA ENERGY"
           ],
           "type": "scattermapbox"
          },
          {
           "hovertemplate": "vessel_id=fe16241b4f45168f<br>timestamp=2024-09-05T00:00:00.000Z<br>vessel_name=%{text}<br>lat=%{lat}<br>lon=%{lon}<extra></extra>",
           "lat": [
            72.7012846
           ],
           "legendgroup": "fe16241b4f45168f",
           "lon": [
            73.48541097
           ],
           "marker": {
            "color": "#00cc96"
           },
           "mode": "markers+text",
           "name": "fe16241b4f45168f",
           "showlegend": true,
           "subplot": "mapbox",
           "text": [
            "EVEREST ENERGY"
           ],
           "type": "scattermapbox"
          },
          {
           "hovertemplate": "vessel_id=72674aadb46c5286<br>timestamp=2024-09-05T00:00:00.000Z<br>vessel_name=%{text}<br>lat=%{lat}<br>lon=%{lon}<extra></extra>",
           "lat": [
            31.45196309
           ],
           "legendgroup": "72674aadb46c5286",
           "lon": [
            32.56123895
           ],
           "marker": {
            "color": "#ab63fa"
           },
           "mode": "markers+text",
           "name": "72674aadb46c5286",
           "showlegend": true,
           "subplot": "mapbox",
           "text": [
            "PIONEER"
           ],
           "type": "scattermapbox"
          }
         ],
         "name": "2024-09-05T00:00:00.000Z"
        },
        {
         "data": [
          {
           "hovertemplate": "vessel_id=3bc8490a0c382976<br>timestamp=2024-09-05T06:00:00.000Z<br>vessel_name=%{text}<br>lat=%{lat}<br>lon=%{lon}<extra></extra>",
           "lat": [
            31.45196309
           ],
           "legendgroup": "3bc8490a0c382976",
           "lon": [
            32.56454778
           ],
           "marker": {
            "color": "#636efa"
           },
           "mode": "markers+text",
           "name": "3bc8490a0c382976",
           "showlegend": true,
           "subplot": "mapbox",
           "text": [
            "NEW ENERGY"
           ],
           "type": "scattermapbox"
          },
          {
           "hovertemplate": "vessel_id=fe16241b4f45168f<br>timestamp=2024-09-05T06:00:00.000Z<br>vessel_name=%{text}<br>lat=%{lat}<br>lon=%{lon}<extra></extra>",
           "lat": [
            71.97666003
           ],
           "legendgroup": "fe16241b4f45168f",
           "lon": [
            72.95779818
           ],
           "marker": {
            "color": "#00cc96"
           },
           "mode": "markers+text",
           "name": "fe16241b4f45168f",
           "showlegend": true,
           "subplot": "mapbox",
           "text": [
            "EVEREST ENERGY"
           ],
           "type": "scattermapbox"
          },
          {
           "hovertemplate": "vessel_id=72674aadb46c5286<br>timestamp=2024-09-05T06:00:00.000Z<br>vessel_name=%{text}<br>lat=%{lat}<br>lon=%{lon}<extra></extra>",
           "lat": [
            31.45196309
           ],
           "legendgroup": "72674aadb46c5286",
           "lon": [
            32.56451939
           ],
           "marker": {
            "color": "#ab63fa"
           },
           "mode": "markers+text",
           "name": "72674aadb46c5286",
           "showlegend": true,
           "subplot": "mapbox",
           "text": [
            "PIONEER"
           ],
           "type": "scattermapbox"
          }
         ],
         "name": "2024-09-05T06:00:00.000Z"
        },
        {
         "data": [
          {
           "hovertemplate": "vessel_id=3bc8490a0c382976<br>timestamp=2024-09-05T12:00:00.000Z<br>vessel_name=%{text}<br>lat=%{lat}<br>lon=%{lon}<extra></extra>",
           "lat": [
            31.45196309
           ],
           "legendgroup": "3bc8490a0c382976",
           "lon": [
            32.56456748
           ],
           "marker": {
            "color": "#636efa"
           },
           "mode": "markers+text",
           "name": "3bc8490a0c382976",
           "showlegend": true,
           "subplot": "mapbox",
           "text": [
            "NEW ENERGY"
           ],
           "type": "scattermapbox"
          },
          {
           "hovertemplate": "vessel_id=79138d1707099e3e<br>timestamp=2024-09-05T12:00:00.000Z<br>vessel_name=%{text}<br>lat=%{lat}<br>lon=%{lon}<extra></extra>",
           "lat": [
            69.33870092
           ],
           "legendgroup": "79138d1707099e3e",
           "lon": [
            32.9261907
           ],
           "marker": {
            "color": "#EF553B"
           },
           "mode": "markers+text",
           "name": "79138d1707099e3e",
           "showlegend": true,
           "subplot": "mapbox",
           "text": [
            "ASYA ENERGY"
           ],
           "type": "scattermapbox"
          },
          {
           "hovertemplate": "vessel_id=fe16241b4f45168f<br>timestamp=2024-09-05T12:00:00.000Z<br>vessel_name=%{text}<br>lat=%{lat}<br>lon=%{lon}<extra></extra>",
           "lat": [
            71.01320789
           ],
           "legendgroup": "fe16241b4f45168f",
           "lon": [
            73.49307066
           ],
           "marker": {
            "color": "#00cc96"
           },
           "mode": "markers+text",
           "name": "fe16241b4f45168f",
           "showlegend": true,
           "subplot": "mapbox",
           "text": [
            "EVEREST ENERGY"
           ],
           "type": "scattermapbox"
          },
          {
           "hovertemplate": "vessel_id=72674aadb46c5286<br>timestamp=2024-09-05T12:00:00.000Z<br>vessel_name=%{text}<br>lat=%{lat}<br>lon=%{lon}<extra></extra>",
           "lat": [
            31.45196309
           ],
           "legendgroup": "72674aadb46c5286",
           "lon": [
            32.5644713
           ],
           "marker": {
            "color": "#ab63fa"
           },
           "mode": "markers+text",
           "name": "72674aadb46c5286",
           "showlegend": true,
           "subplot": "mapbox",
           "text": [
            "PIONEER"
           ],
           "type": "scattermapbox"
          }
         ],
         "name": "2024-09-05T12:00:00.000Z"
        },
        {
         "data": [
          {
           "hovertemplate": "vessel_id=3bc8490a0c382976<br>timestamp=2024-09-05T18:00:00.000Z<br>vessel_name=%{text}<br>lat=%{lat}<br>lon=%{lon}<extra></extra>",
           "lat": [
            31.45196309
           ],
           "legendgroup": "3bc8490a0c382976",
           "lon": [
            32.5646457
           ],
           "marker": {
            "color": "#636efa"
           },
           "mode": "markers+text",
           "name": "3bc8490a0c382976",
           "showlegend": true,
           "subplot": "mapbox",
           "text": [
            "NEW ENERGY"
           ],
           "type": "scattermapbox"
          },
          {
           "hovertemplate": "vessel_id=79138d1707099e3e<br>timestamp=2024-09-05T18:00:00.000Z<br>vessel_name=%{text}<br>lat=%{lat}<br>lon=%{lon}<extra></extra>",
           "lat": [
            69.33870092
           ],
           "legendgroup": "79138d1707099e3e",
           "lon": [
            32.92648023
           ],
           "marker": {
            "color": "#EF553B"
           },
           "mode": "markers+text",
           "name": "79138d1707099e3e",
           "showlegend": true,
           "subplot": "mapbox",
           "text": [
            "ASYA ENERGY"
           ],
           "type": "scattermapbox"
          },
          {
           "hovertemplate": "vessel_id=fe16241b4f45168f<br>timestamp=2024-09-05T18:00:00.000Z<br>vessel_name=%{text}<br>lat=%{lat}<br>lon=%{lon}<extra></extra>",
           "lat": [
            70.97249864
           ],
           "legendgroup": "fe16241b4f45168f",
           "lon": [
            73.59457756
           ],
           "marker": {
            "color": "#00cc96"
           },
           "mode": "markers+text",
           "name": "fe16241b4f45168f",
           "showlegend": true,
           "subplot": "mapbox",
           "text": [
            "EVEREST ENERGY"
           ],
           "type": "scattermapbox"
          },
          {
           "hovertemplate": "vessel_id=72674aadb46c5286<br>timestamp=2024-09-05T18:00:00.000Z<br>vessel_name=%{text}<br>lat=%{lat}<br>lon=%{lon}<extra></extra>",
           "lat": [
            31.45196309
           ],
           "legendgroup": "72674aadb46c5286",
           "lon": [
            32.56458428
           ],
           "marker": {
            "color": "#ab63fa"
           },
           "mode": "markers+text",
           "name": "72674aadb46c5286",
           "showlegend": true,
           "subplot": "mapbox",
           "text": [
            "PIONEER"
           ],
           "type": "scattermapbox"
          }
         ],
         "name": "2024-09-05T18:00:00.000Z"
        },
        {
         "data": [
          {
           "hovertemplate": "vessel_id=3bc8490a0c382976<br>timestamp=2024-09-06T00:00:00.000Z<br>vessel_name=%{text}<br>lat=%{lat}<br>lon=%{lon}<extra></extra>",
           "lat": [
            31.45196309
           ],
           "legendgroup": "3bc8490a0c382976",
           "lon": [
            32.53559934
           ],
           "marker": {
            "color": "#636efa"
           },
           "mode": "markers+text",
           "name": "3bc8490a0c382976",
           "showlegend": true,
           "subplot": "mapbox",
           "text": [
            "NEW ENERGY"
           ],
           "type": "scattermapbox"
          },
          {
           "hovertemplate": "vessel_id=79138d1707099e3e<br>timestamp=2024-09-06T00:00:00.000Z<br>vessel_name=%{text}<br>lat=%{lat}<br>lon=%{lon}<extra></extra>",
           "lat": [
            69.33870092
           ],
           "legendgroup": "79138d1707099e3e",
           "lon": [
            32.9261907
           ],
           "marker": {
            "color": "#EF553B"
           },
           "mode": "markers+text",
           "name": "79138d1707099e3e",
           "showlegend": true,
           "subplot": "mapbox",
           "text": [
            "ASYA ENERGY"
           ],
           "type": "scattermapbox"
          },
          {
           "hovertemplate": "vessel_id=fe16241b4f45168f<br>timestamp=2024-09-06T00:00:00.000Z<br>vessel_name=%{text}<br>lat=%{lat}<br>lon=%{lon}<extra></extra>",
           "lat": [
            70.99421024
           ],
           "legendgroup": "fe16241b4f45168f",
           "lon": [
            73.81648675
           ],
           "marker": {
            "color": "#00cc96"
           },
           "mode": "markers+text",
           "name": "fe16241b4f45168f",
           "showlegend": true,
           "subplot": "mapbox",
           "text": [
            "EVEREST ENERGY"
           ],
           "type": "scattermapbox"
          },
          {
           "hovertemplate": "vessel_id=72674aadb46c5286<br>timestamp=2024-09-06T00:00:00.000Z<br>vessel_name=%{text}<br>lat=%{lat}<br>lon=%{lon}<extra></extra>",
           "lat": [
            31.47096074
           ],
           "legendgroup": "72674aadb46c5286",
           "lon": [
            32.54835631
           ],
           "marker": {
            "color": "#ab63fa"
           },
           "mode": "markers+text",
           "name": "72674aadb46c5286",
           "showlegend": true,
           "subplot": "mapbox",
           "text": [
            "PIONEER"
           ],
           "type": "scattermapbox"
          }
         ],
         "name": "2024-09-06T00:00:00.000Z"
        },
        {
         "data": [
          {
           "hovertemplate": "vessel_id=3bc8490a0c382976<br>timestamp=2024-09-06T06:00:00.000Z<br>vessel_name=%{text}<br>lat=%{lat}<br>lon=%{lon}<extra></extra>",
           "lat": [
            31.53880948
           ],
           "legendgroup": "3bc8490a0c382976",
           "lon": [
            32.40953261
           ],
           "marker": {
            "color": "#636efa"
           },
           "mode": "markers+text",
           "name": "3bc8490a0c382976",
           "showlegend": true,
           "subplot": "mapbox",
           "text": [
            "NEW ENERGY"
           ],
           "type": "scattermapbox"
          },
          {
           "hovertemplate": "vessel_id=79138d1707099e3e<br>timestamp=2024-09-06T06:00:00.000Z<br>vessel_name=%{text}<br>lat=%{lat}<br>lon=%{lon}<extra></extra>",
           "lat": [
            69.33870092
           ],
           "legendgroup": "79138d1707099e3e",
           "lon": [
            32.9265996
           ],
           "marker": {
            "color": "#EF553B"
           },
           "mode": "markers+text",
           "name": "79138d1707099e3e",
           "showlegend": true,
           "subplot": "mapbox",
           "text": [
            "ASYA ENERGY"
           ],
           "type": "scattermapbox"
          },
          {
           "hovertemplate": "vessel_id=72674aadb46c5286<br>timestamp=2024-09-06T06:00:00.000Z<br>vessel_name=%{text}<br>lat=%{lat}<br>lon=%{lon}<extra></extra>",
           "lat": [
            31.46824679
           ],
           "legendgroup": "72674aadb46c5286",
           "lon": [
            32.54827228
           ],
           "marker": {
            "color": "#ab63fa"
           },
           "mode": "markers+text",
           "name": "72674aadb46c5286",
           "showlegend": true,
           "subplot": "mapbox",
           "text": [
            "PIONEER"
           ],
           "type": "scattermapbox"
          }
         ],
         "name": "2024-09-06T06:00:00.000Z"
        },
        {
         "data": [
          {
           "hovertemplate": "vessel_id=3bc8490a0c382976<br>timestamp=2024-09-06T12:00:00.000Z<br>vessel_name=%{text}<br>lat=%{lat}<br>lon=%{lon}<extra></extra>",
           "lat": [
            31.60394427
           ],
           "legendgroup": "3bc8490a0c382976",
           "lon": [
            32.32755774
           ],
           "marker": {
            "color": "#636efa"
           },
           "mode": "markers+text",
           "name": "3bc8490a0c382976",
           "showlegend": true,
           "subplot": "mapbox",
           "text": [
            "NEW ENERGY"
           ],
           "type": "scattermapbox"
          },
          {
           "hovertemplate": "vessel_id=79138d1707099e3e<br>timestamp=2024-09-06T12:00:00.000Z<br>vessel_name=%{text}<br>lat=%{lat}<br>lon=%{lon}<extra></extra>",
           "lat": [
            69.33870092
           ],
           "legendgroup": "79138d1707099e3e",
           "lon": [
            32.9261907
           ],
           "marker": {
            "color": "#EF553B"
           },
           "mode": "markers+text",
           "name": "79138d1707099e3e",
           "showlegend": true,
           "subplot": "mapbox",
           "text": [
            "ASYA ENERGY"
           ],
           "type": "scattermapbox"
          },
          {
           "hovertemplate": "vessel_id=72674aadb46c5286<br>timestamp=2024-09-06T12:00:00.000Z<br>vessel_name=%{text}<br>lat=%{lat}<br>lon=%{lon}<extra></extra>",
           "lat": [
            31.48724444
           ],
           "legendgroup": "72674aadb46c5286",
           "lon": [
            32.54773075
           ],
           "marker": {
            "color": "#ab63fa"
           },
           "mode": "markers+text",
           "name": "72674aadb46c5286",
           "showlegend": true,
           "subplot": "mapbox",
           "text": [
            "PIONEER"
           ],
           "type": "scattermapbox"
          }
         ],
         "name": "2024-09-06T12:00:00.000Z"
        },
        {
         "data": [
          {
           "hovertemplate": "vessel_id=3bc8490a0c382976<br>timestamp=2024-09-06T18:00:00.000Z<br>vessel_name=%{text}<br>lat=%{lat}<br>lon=%{lon}<extra></extra>",
           "lat": [
            31.60665822
           ],
           "legendgroup": "3bc8490a0c382976",
           "lon": [
            32.32813638
           ],
           "marker": {
            "color": "#636efa"
           },
           "mode": "markers+text",
           "name": "3bc8490a0c382976",
           "showlegend": true,
           "subplot": "mapbox",
           "text": [
            "NEW ENERGY"
           ],
           "type": "scattermapbox"
          },
          {
           "hovertemplate": "vessel_id=72674aadb46c5286<br>timestamp=2024-09-06T18:00:00.000Z<br>vessel_name=%{text}<br>lat=%{lat}<br>lon=%{lon}<extra></extra>",
           "lat": [
            31.48995839
           ],
           "legendgroup": "72674aadb46c5286",
           "lon": [
            32.54852871
           ],
           "marker": {
            "color": "#ab63fa"
           },
           "mode": "markers+text",
           "name": "72674aadb46c5286",
           "showlegend": true,
           "subplot": "mapbox",
           "text": [
            "PIONEER"
           ],
           "type": "scattermapbox"
          }
         ],
         "name": "2024-09-06T18:00:00.000Z"
        },
        {
         "data": [
          {
           "hovertemplate": "vessel_id=3bc8490a0c382976<br>timestamp=2024-09-07T00:00:00.000Z<br>vessel_name=%{text}<br>lat=%{lat}<br>lon=%{lon}<extra></extra>",
           "lat": [
            31.60394427
           ],
           "legendgroup": "3bc8490a0c382976",
           "lon": [
            32.32788236
           ],
           "marker": {
            "color": "#636efa"
           },
           "mode": "markers+text",
           "name": "3bc8490a0c382976",
           "showlegend": true,
           "subplot": "mapbox",
           "text": [
            "NEW ENERGY"
           ],
           "type": "scattermapbox"
          },
          {
           "hovertemplate": "vessel_id=79138d1707099e3e<br>timestamp=2024-09-07T00:00:00.000Z<br>vessel_name=%{text}<br>lat=%{lat}<br>lon=%{lon}<extra></extra>",
           "lat": [
            69.33870092
           ],
           "legendgroup": "79138d1707099e3e",
           "lon": [
            32.9261907
           ],
           "marker": {
            "color": "#EF553B"
           },
           "mode": "markers+text",
           "name": "79138d1707099e3e",
           "showlegend": true,
           "subplot": "mapbox",
           "text": [
            "ASYA ENERGY"
           ],
           "type": "scattermapbox"
          },
          {
           "hovertemplate": "vessel_id=fe16241b4f45168f<br>timestamp=2024-09-07T00:00:00.000Z<br>vessel_name=%{text}<br>lat=%{lat}<br>lon=%{lon}<extra></extra>",
           "lat": [
            70.99421024
           ],
           "legendgroup": "fe16241b4f45168f",
           "lon": [
            73.82262561
           ],
           "marker": {
            "color": "#00cc96"
           },
           "mode": "markers+text",
           "name": "fe16241b4f45168f",
           "showlegend": true,
           "subplot": "mapbox",
           "text": [
            "EVEREST ENERGY"
           ],
           "type": "scattermapbox"
          },
          {
           "hovertemplate": "vessel_id=72674aadb46c5286<br>timestamp=2024-09-07T00:00:00.000Z<br>vessel_name=%{text}<br>lat=%{lat}<br>lon=%{lon}<extra></extra>",
           "lat": [
            31.48995839
           ],
           "legendgroup": "72674aadb46c5286",
           "lon": [
            32.5485722
           ],
           "marker": {
            "color": "#ab63fa"
           },
           "mode": "markers+text",
           "name": "72674aadb46c5286",
           "showlegend": true,
           "subplot": "mapbox",
           "text": [
            "PIONEER"
           ],
           "type": "scattermapbox"
          }
         ],
         "name": "2024-09-07T00:00:00.000Z"
        },
        {
         "data": [
          {
           "hovertemplate": "vessel_id=3bc8490a0c382976<br>timestamp=2024-09-07T06:00:00.000Z<br>vessel_name=%{text}<br>lat=%{lat}<br>lon=%{lon}<extra></extra>",
           "lat": [
            31.60665822
           ],
           "legendgroup": "3bc8490a0c382976",
           "lon": [
            32.32813638
           ],
           "marker": {
            "color": "#636efa"
           },
           "mode": "markers+text",
           "name": "3bc8490a0c382976",
           "showlegend": true,
           "subplot": "mapbox",
           "text": [
            "NEW ENERGY"
           ],
           "type": "scattermapbox"
          },
          {
           "hovertemplate": "vessel_id=79138d1707099e3e<br>timestamp=2024-09-07T06:00:00.000Z<br>vessel_name=%{text}<br>lat=%{lat}<br>lon=%{lon}<extra></extra>",
           "lat": [
            69.33870092
           ],
           "legendgroup": "79138d1707099e3e",
           "lon": [
            32.9261907
           ],
           "marker": {
            "color": "#EF553B"
           },
           "mode": "markers+text",
           "name": "79138d1707099e3e",
           "showlegend": true,
           "subplot": "mapbox",
           "text": [
            "ASYA ENERGY"
           ],
           "type": "scattermapbox"
          },
          {
           "hovertemplate": "vessel_id=fe16241b4f45168f<br>timestamp=2024-09-07T06:00:00.000Z<br>vessel_name=%{text}<br>lat=%{lat}<br>lon=%{lon}<extra></extra>",
           "lat": [
            71.75411616
           ],
           "legendgroup": "fe16241b4f45168f",
           "lon": [
            72.85653124
           ],
           "marker": {
            "color": "#00cc96"
           },
           "mode": "markers+text",
           "name": "fe16241b4f45168f",
           "showlegend": true,
           "subplot": "mapbox",
           "text": [
            "EVEREST ENERGY"
           ],
           "type": "scattermapbox"
          },
          {
           "hovertemplate": "vessel_id=72674aadb46c5286<br>timestamp=2024-09-07T06:00:00.000Z<br>vessel_name=%{text}<br>lat=%{lat}<br>lon=%{lon}<extra></extra>",
           "lat": [
            31.60665822
           ],
           "legendgroup": "72674aadb46c5286",
           "lon": [
            32.30282277
           ],
           "marker": {
            "color": "#ab63fa"
           },
           "mode": "markers+text",
           "name": "72674aadb46c5286",
           "showlegend": true,
           "subplot": "mapbox",
           "text": [
            "PIONEER"
           ],
           "type": "scattermapbox"
          }
         ],
         "name": "2024-09-07T06:00:00.000Z"
        },
        {
         "data": [
          {
           "hovertemplate": "vessel_id=3bc8490a0c382976<br>timestamp=2024-09-07T12:00:00.000Z<br>vessel_name=%{text}<br>lat=%{lat}<br>lon=%{lon}<extra></extra>",
           "lat": [
            31.60394427
           ],
           "legendgroup": "3bc8490a0c382976",
           "lon": [
            32.32770645
           ],
           "marker": {
            "color": "#636efa"
           },
           "mode": "markers+text",
           "name": "3bc8490a0c382976",
           "showlegend": true,
           "subplot": "mapbox",
           "text": [
            "NEW ENERGY"
           ],
           "type": "scattermapbox"
          },
          {
           "hovertemplate": "vessel_id=79138d1707099e3e<br>timestamp=2024-09-07T12:00:00.000Z<br>vessel_name=%{text}<br>lat=%{lat}<br>lon=%{lon}<extra></extra>",
           "lat": [
            69.33870092
           ],
           "legendgroup": "79138d1707099e3e",
           "lon": [
            32.9261907
           ],
           "marker": {
            "color": "#EF553B"
           },
           "mode": "markers+text",
           "name": "79138d1707099e3e",
           "showlegend": true,
           "subplot": "mapbox",
           "text": [
            "ASYA ENERGY"
           ],
           "type": "scattermapbox"
          },
          {
           "hovertemplate": "vessel_id=fe16241b4f45168f<br>timestamp=2024-09-07T12:00:00.000Z<br>vessel_name=%{text}<br>lat=%{lat}<br>lon=%{lon}<extra></extra>",
           "lat": [
            72.61172426
           ],
           "legendgroup": "fe16241b4f45168f",
           "lon": [
            73.77405671
           ],
           "marker": {
            "color": "#00cc96"
           },
           "mode": "markers+text",
           "name": "fe16241b4f45168f",
           "showlegend": true,
           "subplot": "mapbox",
           "text": [
            "EVEREST ENERGY"
           ],
           "type": "scattermapbox"
          },
          {
           "hovertemplate": "vessel_id=72674aadb46c5286<br>timestamp=2024-09-07T12:00:00.000Z<br>vessel_name=%{text}<br>lat=%{lat}<br>lon=%{lon}<extra></extra>",
           "lat": [
            31.60665822
           ],
           "legendgroup": "72674aadb46c5286",
           "lon": [
            32.30252904
           ],
           "marker": {
            "color": "#ab63fa"
           },
           "mode": "markers+text",
           "name": "72674aadb46c5286",
           "showlegend": true,
           "subplot": "mapbox",
           "text": [
            "PIONEER"
           ],
           "type": "scattermapbox"
          }
         ],
         "name": "2024-09-07T12:00:00.000Z"
        },
        {
         "data": [
          {
           "hovertemplate": "vessel_id=3bc8490a0c382976<br>timestamp=2024-09-07T18:00:00.000Z<br>vessel_name=%{text}<br>lat=%{lat}<br>lon=%{lon}<extra></extra>",
           "lat": [
            31.74235571
           ],
           "legendgroup": "3bc8490a0c382976",
           "lon": [
            32.0278046
           ],
           "marker": {
            "color": "#636efa"
           },
           "mode": "markers+text",
           "name": "3bc8490a0c382976",
           "showlegend": true,
           "subplot": "mapbox",
           "text": [
            "NEW ENERGY"
           ],
           "type": "scattermapbox"
          },
          {
           "hovertemplate": "vessel_id=fe16241b4f45168f<br>timestamp=2024-09-07T18:00:00.000Z<br>vessel_name=%{text}<br>lat=%{lat}<br>lon=%{lon}<extra></extra>",
           "lat": [
            73.90899222
           ],
           "legendgroup": "fe16241b4f45168f",
           "lon": [
            73.71819031
           ],
           "marker": {
            "color": "#00cc96"
           },
           "mode": "markers+text",
           "name": "fe16241b4f45168f",
           "showlegend": true,
           "subplot": "mapbox",
           "text": [
            "EVEREST ENERGY"
           ],
           "type": "scattermapbox"
          },
          {
           "hovertemplate": "vessel_id=72674aadb46c5286<br>timestamp=2024-09-07T18:00:00.000Z<br>vessel_name=%{text}<br>lat=%{lat}<br>lon=%{lon}<extra></extra>",
           "lat": [
            31.60665822
           ],
           "legendgroup": "72674aadb46c5286",
           "lon": [
            32.30266491
           ],
           "marker": {
            "color": "#ab63fa"
           },
           "mode": "markers+text",
           "name": "72674aadb46c5286",
           "showlegend": true,
           "subplot": "mapbox",
           "text": [
            "PIONEER"
           ],
           "type": "scattermapbox"
          }
         ],
         "name": "2024-09-07T18:00:00.000Z"
        },
        {
         "data": [
          {
           "hovertemplate": "vessel_id=3bc8490a0c382976<br>timestamp=2024-09-08T00:00:00.000Z<br>vessel_name=%{text}<br>lat=%{lat}<br>lon=%{lon}<extra></extra>",
           "lat": [
            32.27428985
           ],
           "legendgroup": "3bc8490a0c382976",
           "lon": [
            31.28330533
           ],
           "marker": {
            "color": "#636efa"
           },
           "mode": "markers+text",
           "name": "3bc8490a0c382976",
           "showlegend": true,
           "subplot": "mapbox",
           "text": [
            "NEW ENERGY"
           ],
           "type": "scattermapbox"
          },
          {
           "hovertemplate": "vessel_id=79138d1707099e3e<br>timestamp=2024-09-08T00:00:00.000Z<br>vessel_name=%{text}<br>lat=%{lat}<br>lon=%{lon}<extra></extra>",
           "lat": [
            69.33870092
           ],
           "legendgroup": "79138d1707099e3e",
           "lon": [
            32.92654119
           ],
           "marker": {
            "color": "#EF553B"
           },
           "mode": "markers+text",
           "name": "79138d1707099e3e",
           "showlegend": true,
           "subplot": "mapbox",
           "text": [
            "ASYA ENERGY"
           ],
           "type": "scattermapbox"
          },
          {
           "hovertemplate": "vessel_id=fe16241b4f45168f<br>timestamp=2024-09-08T00:00:00.000Z<br>vessel_name=%{text}<br>lat=%{lat}<br>lon=%{lon}<extra></extra>",
           "lat": [
            73.80857608
           ],
           "legendgroup": "fe16241b4f45168f",
           "lon": [
            78.99352359
           ],
           "marker": {
            "color": "#00cc96"
           },
           "mode": "markers+text",
           "name": "fe16241b4f45168f",
           "showlegend": true,
           "subplot": "mapbox",
           "text": [
            "EVEREST ENERGY"
           ],
           "type": "scattermapbox"
          },
          {
           "hovertemplate": "vessel_id=72674aadb46c5286<br>timestamp=2024-09-08T00:00:00.000Z<br>vessel_name=%{text}<br>lat=%{lat}<br>lon=%{lon}<extra></extra>",
           "lat": [
            31.60665822
           ],
           "legendgroup": "72674aadb46c5286",
           "lon": [
            32.30296964
           ],
           "marker": {
            "color": "#ab63fa"
           },
           "mode": "markers+text",
           "name": "72674aadb46c5286",
           "showlegend": true,
           "subplot": "mapbox",
           "text": [
            "PIONEER"
           ],
           "type": "scattermapbox"
          }
         ],
         "name": "2024-09-08T00:00:00.000Z"
        },
        {
         "data": [
          {
           "hovertemplate": "vessel_id=3bc8490a0c382976<br>timestamp=2024-09-08T06:00:00.000Z<br>vessel_name=%{text}<br>lat=%{lat}<br>lon=%{lon}<extra></extra>",
           "lat": [
            32.75465895
           ],
           "legendgroup": "3bc8490a0c382976",
           "lon": [
            29.63462782
           ],
           "marker": {
            "color": "#636efa"
           },
           "mode": "markers+text",
           "name": "3bc8490a0c382976",
           "showlegend": true,
           "subplot": "mapbox",
           "text": [
            "NEW ENERGY"
           ],
           "type": "scattermapbox"
          },
          {
           "hovertemplate": "vessel_id=fe16241b4f45168f<br>timestamp=2024-09-08T06:00:00.000Z<br>vessel_name=%{text}<br>lat=%{lat}<br>lon=%{lon}<extra></extra>",
           "lat": [
            74.69060973
           ],
           "legendgroup": "fe16241b4f45168f",
           "lon": [
            84.0065451
           ],
           "marker": {
            "color": "#00cc96"
           },
           "mode": "markers+text",
           "name": "fe16241b4f45168f",
           "showlegend": true,
           "subplot": "mapbox",
           "text": [
            "EVEREST ENERGY"
           ],
           "type": "scattermapbox"
          },
          {
           "hovertemplate": "vessel_id=72674aadb46c5286<br>timestamp=2024-09-08T06:00:00.000Z<br>vessel_name=%{text}<br>lat=%{lat}<br>lon=%{lon}<extra></extra>",
           "lat": [
            31.60665822
           ],
           "legendgroup": "72674aadb46c5286",
           "lon": [
            32.30278634
           ],
           "marker": {
            "color": "#ab63fa"
           },
           "mode": "markers+text",
           "name": "72674aadb46c5286",
           "showlegend": true,
           "subplot": "mapbox",
           "text": [
            "PIONEER"
           ],
           "type": "scattermapbox"
          }
         ],
         "name": "2024-09-08T06:00:00.000Z"
        },
        {
         "data": [
          {
           "hovertemplate": "vessel_id=3bc8490a0c382976<br>timestamp=2024-09-08T12:00:00.000Z<br>vessel_name=%{text}<br>lat=%{lat}<br>lon=%{lon}<extra></extra>",
           "lat": [
            33.09118871
           ],
           "legendgroup": "3bc8490a0c382976",
           "lon": [
            28.2185397
           ],
           "marker": {
            "color": "#636efa"
           },
           "mode": "markers+text",
           "name": "3bc8490a0c382976",
           "showlegend": true,
           "subplot": "mapbox",
           "text": [
            "NEW ENERGY"
           ],
           "type": "scattermapbox"
          },
          {
           "hovertemplate": "vessel_id=79138d1707099e3e<br>timestamp=2024-09-08T12:00:00.000Z<br>vessel_name=%{text}<br>lat=%{lat}<br>lon=%{lon}<extra></extra>",
           "lat": [
            69.33870092
           ],
           "legendgroup": "79138d1707099e3e",
           "lon": [
            32.9261907
           ],
           "marker": {
            "color": "#EF553B"
           },
           "mode": "markers+text",
           "name": "79138d1707099e3e",
           "showlegend": true,
           "subplot": "mapbox",
           "text": [
            "ASYA ENERGY"
           ],
           "type": "scattermapbox"
          },
          {
           "hovertemplate": "vessel_id=fe16241b4f45168f<br>timestamp=2024-09-08T12:00:00.000Z<br>vessel_name=%{text}<br>lat=%{lat}<br>lon=%{lon}<extra></extra>",
           "lat": [
            76.06929618
           ],
           "legendgroup": "fe16241b4f45168f",
           "lon": [
            87.77493943
           ],
           "marker": {
            "color": "#00cc96"
           },
           "mode": "markers+text",
           "name": "fe16241b4f45168f",
           "showlegend": true,
           "subplot": "mapbox",
           "text": [
            "EVEREST ENERGY"
           ],
           "type": "scattermapbox"
          },
          {
           "hovertemplate": "vessel_id=72674aadb46c5286<br>timestamp=2024-09-08T12:00:00.000Z<br>vessel_name=%{text}<br>lat=%{lat}<br>lon=%{lon}<extra></extra>",
           "lat": [
            31.60665822
           ],
           "legendgroup": "72674aadb46c5286",
           "lon": [
            32.302514
           ],
           "marker": {
            "color": "#ab63fa"
           },
           "mode": "markers+text",
           "name": "72674aadb46c5286",
           "showlegend": true,
           "subplot": "mapbox",
           "text": [
            "PIONEER"
           ],
           "type": "scattermapbox"
          }
         ],
         "name": "2024-09-08T12:00:00.000Z"
        },
        {
         "data": [
          {
           "hovertemplate": "vessel_id=3bc8490a0c382976<br>timestamp=2024-09-08T18:00:00.000Z<br>vessel_name=%{text}<br>lat=%{lat}<br>lon=%{lon}<extra></extra>",
           "lat": [
            33.41686267
           ],
           "legendgroup": "3bc8490a0c382976",
           "lon": [
            26.84102065
           ],
           "marker": {
            "color": "#636efa"
           },
           "mode": "markers+text",
           "name": "3bc8490a0c382976",
           "showlegend": true,
           "subplot": "mapbox",
           "text": [
            "NEW ENERGY"
           ],
           "type": "scattermapbox"
          },
          {
           "hovertemplate": "vessel_id=79138d1707099e3e<br>timestamp=2024-09-08T18:00:00.000Z<br>vessel_name=%{text}<br>lat=%{lat}<br>lon=%{lon}<extra></extra>",
           "lat": [
            69.33870092
           ],
           "legendgroup": "79138d1707099e3e",
           "lon": [
            32.9261907
           ],
           "marker": {
            "color": "#EF553B"
           },
           "mode": "markers+text",
           "name": "79138d1707099e3e",
           "showlegend": true,
           "subplot": "mapbox",
           "text": [
            "ASYA ENERGY"
           ],
           "type": "scattermapbox"
          },
          {
           "hovertemplate": "vessel_id=fe16241b4f45168f<br>timestamp=2024-09-08T18:00:00.000Z<br>vessel_name=%{text}<br>lat=%{lat}<br>lon=%{lon}<extra></extra>",
           "lat": [
            76.8509137
           ],
           "legendgroup": "fe16241b4f45168f",
           "lon": [
            93.91796374
           ],
           "marker": {
            "color": "#00cc96"
           },
           "mode": "markers+text",
           "name": "fe16241b4f45168f",
           "showlegend": true,
           "subplot": "mapbox",
           "text": [
            "EVEREST ENERGY"
           ],
           "type": "scattermapbox"
          },
          {
           "hovertemplate": "vessel_id=72674aadb46c5286<br>timestamp=2024-09-08T18:00:00.000Z<br>vessel_name=%{text}<br>lat=%{lat}<br>lon=%{lon}<extra></extra>",
           "lat": [
            31.60665822
           ],
           "legendgroup": "72674aadb46c5286",
           "lon": [
            32.30253713
           ],
           "marker": {
            "color": "#ab63fa"
           },
           "mode": "markers+text",
           "name": "72674aadb46c5286",
           "showlegend": true,
           "subplot": "mapbox",
           "text": [
            "PIONEER"
           ],
           "type": "scattermapbox"
          }
         ],
         "name": "2024-09-08T18:00:00.000Z"
        },
        {
         "data": [
          {
           "hovertemplate": "vessel_id=3bc8490a0c382976<br>timestamp=2024-09-09T00:00:00.000Z<br>vessel_name=%{text}<br>lat=%{lat}<br>lon=%{lon}<extra></extra>",
           "lat": [
            33.75882034
           ],
           "legendgroup": "3bc8490a0c382976",
           "lon": [
            25.45216147
           ],
           "marker": {
            "color": "#636efa"
           },
           "mode": "markers+text",
           "name": "3bc8490a0c382976",
           "showlegend": true,
           "subplot": "mapbox",
           "text": [
            "NEW ENERGY"
           ],
           "type": "scattermapbox"
          },
          {
           "hovertemplate": "vessel_id=79138d1707099e3e<br>timestamp=2024-09-09T00:00:00.000Z<br>vessel_name=%{text}<br>lat=%{lat}<br>lon=%{lon}<extra></extra>",
           "lat": [
            69.33870092
           ],
           "legendgroup": "79138d1707099e3e",
           "lon": [
            32.9261907
           ],
           "marker": {
            "color": "#EF553B"
           },
           "mode": "markers+text",
           "name": "79138d1707099e3e",
           "showlegend": true,
           "subplot": "mapbox",
           "text": [
            "ASYA ENERGY"
           ],
           "type": "scattermapbox"
          },
          {
           "hovertemplate": "vessel_id=fe16241b4f45168f<br>timestamp=2024-09-09T00:00:00.000Z<br>vessel_name=%{text}<br>lat=%{lat}<br>lon=%{lon}<extra></extra>",
           "lat": [
            77.6922381
           ],
           "legendgroup": "fe16241b4f45168f",
           "lon": [
            100.52582934
           ],
           "marker": {
            "color": "#00cc96"
           },
           "mode": "markers+text",
           "name": "fe16241b4f45168f",
           "showlegend": true,
           "subplot": "mapbox",
           "text": [
            "EVEREST ENERGY"
           ],
           "type": "scattermapbox"
          },
          {
           "hovertemplate": "vessel_id=72674aadb46c5286<br>timestamp=2024-09-09T00:00:00.000Z<br>vessel_name=%{text}<br>lat=%{lat}<br>lon=%{lon}<extra></extra>",
           "lat": [
            31.60665822
           ],
           "legendgroup": "72674aadb46c5286",
           "lon": [
            32.3025273
           ],
           "marker": {
            "color": "#ab63fa"
           },
           "mode": "markers+text",
           "name": "72674aadb46c5286",
           "showlegend": true,
           "subplot": "mapbox",
           "text": [
            "PIONEER"
           ],
           "type": "scattermapbox"
          }
         ],
         "name": "2024-09-09T00:00:00.000Z"
        },
        {
         "data": [
          {
           "hovertemplate": "vessel_id=3bc8490a0c382976<br>timestamp=2024-09-09T06:00:00.000Z<br>vessel_name=%{text}<br>lat=%{lat}<br>lon=%{lon}<extra></extra>",
           "lat": [
            34.1333454
           ],
           "legendgroup": "3bc8490a0c382976",
           "lon": [
            23.89899873
           ],
           "marker": {
            "color": "#636efa"
           },
           "mode": "markers+text",
           "name": "3bc8490a0c382976",
           "showlegend": true,
           "subplot": "mapbox",
           "text": [
            "NEW ENERGY"
           ],
           "type": "scattermapbox"
          },
          {
           "hovertemplate": "vessel_id=79138d1707099e3e<br>timestamp=2024-09-09T06:00:00.000Z<br>vessel_name=%{text}<br>lat=%{lat}<br>lon=%{lon}<extra></extra>",
           "lat": [
            69.33870092
           ],
           "legendgroup": "79138d1707099e3e",
           "lon": [
            32.9261907
           ],
           "marker": {
            "color": "#EF553B"
           },
           "mode": "markers+text",
           "name": "79138d1707099e3e",
           "showlegend": true,
           "subplot": "mapbox",
           "text": [
            "ASYA ENERGY"
           ],
           "type": "scattermapbox"
          },
          {
           "hovertemplate": "vessel_id=fe16241b4f45168f<br>timestamp=2024-09-09T06:00:00.000Z<br>vessel_name=%{text}<br>lat=%{lat}<br>lon=%{lon}<extra></extra>",
           "lat": [
            77.51854532
           ],
           "legendgroup": "fe16241b4f45168f",
           "lon": [
            107.63782679
           ],
           "marker": {
            "color": "#00cc96"
           },
           "mode": "markers+text",
           "name": "fe16241b4f45168f",
           "showlegend": true,
           "subplot": "mapbox",
           "text": [
            "EVEREST ENERGY"
           ],
           "type": "scattermapbox"
          },
          {
           "hovertemplate": "vessel_id=72674aadb46c5286<br>timestamp=2024-09-09T06:00:00.000Z<br>vessel_name=%{text}<br>lat=%{lat}<br>lon=%{lon}<extra></extra>",
           "lat": [
            31.60665822
           ],
           "legendgroup": "72674aadb46c5286",
           "lon": [
            32.30264988
           ],
           "marker": {
            "color": "#ab63fa"
           },
           "mode": "markers+text",
           "name": "72674aadb46c5286",
           "showlegend": true,
           "subplot": "mapbox",
           "text": [
            "PIONEER"
           ],
           "type": "scattermapbox"
          }
         ],
         "name": "2024-09-09T06:00:00.000Z"
        },
        {
         "data": [
          {
           "hovertemplate": "vessel_id=3bc8490a0c382976<br>timestamp=2024-09-09T12:00:00.000Z<br>vessel_name=%{text}<br>lat=%{lat}<br>lon=%{lon}<extra></extra>",
           "lat": [
            34.50787045
           ],
           "legendgroup": "3bc8490a0c382976",
           "lon": [
            22.33283792
           ],
           "marker": {
            "color": "#636efa"
           },
           "mode": "markers+text",
           "name": "3bc8490a0c382976",
           "showlegend": true,
           "subplot": "mapbox",
           "text": [
            "NEW ENERGY"
           ],
           "type": "scattermapbox"
          },
          {
           "hovertemplate": "vessel_id=79138d1707099e3e<br>timestamp=2024-09-09T12:00:00.000Z<br>vessel_name=%{text}<br>lat=%{lat}<br>lon=%{lon}<extra></extra>",
           "lat": [
            69.33870092
           ],
           "legendgroup": "79138d1707099e3e",
           "lon": [
            32.9261907
           ],
           "marker": {
            "color": "#EF553B"
           },
           "mode": "markers+text",
           "name": "79138d1707099e3e",
           "showlegend": true,
           "subplot": "mapbox",
           "text": [
            "ASYA ENERGY"
           ],
           "type": "scattermapbox"
          },
          {
           "hovertemplate": "vessel_id=fe16241b4f45168f<br>timestamp=2024-09-09T12:00:00.000Z<br>vessel_name=%{text}<br>lat=%{lat}<br>lon=%{lon}<extra></extra>",
           "lat": [
            76.8509137
           ],
           "legendgroup": "fe16241b4f45168f",
           "lon": [
            114.84498287
           ],
           "marker": {
            "color": "#00cc96"
           },
           "mode": "markers+text",
           "name": "fe16241b4f45168f",
           "showlegend": true,
           "subplot": "mapbox",
           "text": [
            "EVEREST ENERGY"
           ],
           "type": "scattermapbox"
          },
          {
           "hovertemplate": "vessel_id=72674aadb46c5286<br>timestamp=2024-09-09T12:00:00.000Z<br>vessel_name=%{text}<br>lat=%{lat}<br>lon=%{lon}<extra></extra>",
           "lat": [
            31.60665822
           ],
           "legendgroup": "72674aadb46c5286",
           "lon": [
            32.3024822
           ],
           "marker": {
            "color": "#ab63fa"
           },
           "mode": "markers+text",
           "name": "72674aadb46c5286",
           "showlegend": true,
           "subplot": "mapbox",
           "text": [
            "PIONEER"
           ],
           "type": "scattermapbox"
          }
         ],
         "name": "2024-09-09T12:00:00.000Z"
        },
        {
         "data": [
          {
           "hovertemplate": "vessel_id=3bc8490a0c382976<br>timestamp=2024-09-09T18:00:00.000Z<br>vessel_name=%{text}<br>lat=%{lat}<br>lon=%{lon}<extra></extra>",
           "lat": [
            34.86882576
           ],
           "legendgroup": "3bc8490a0c382976",
           "lon": [
            20.83608755
           ],
           "marker": {
            "color": "#636efa"
           },
           "mode": "markers+text",
           "name": "3bc8490a0c382976",
           "showlegend": true,
           "subplot": "mapbox",
           "text": [
            "NEW ENERGY"
           ],
           "type": "scattermapbox"
          },
          {
           "hovertemplate": "vessel_id=79138d1707099e3e<br>timestamp=2024-09-09T18:00:00.000Z<br>vessel_name=%{text}<br>lat=%{lat}<br>lon=%{lon}<extra></extra>",
           "lat": [
            69.33870092
           ],
           "legendgroup": "79138d1707099e3e",
           "lon": [
            32.9261907
           ],
           "marker": {
            "color": "#EF553B"
           },
           "mode": "markers+text",
           "name": "79138d1707099e3e",
           "showlegend": true,
           "subplot": "mapbox",
           "text": [
            "ASYA ENERGY"
           ],
           "type": "scattermapbox"
          },
          {
           "hovertemplate": "vessel_id=fe16241b4f45168f<br>timestamp=2024-09-09T18:00:00.000Z<br>vessel_name=%{text}<br>lat=%{lat}<br>lon=%{lon}<extra></extra>",
           "lat": [
            76.24027501
           ],
           "legendgroup": "fe16241b4f45168f",
           "lon": [
            121.22087182
           ],
           "marker": {
            "color": "#00cc96"
           },
           "mode": "markers+text",
           "name": "fe16241b4f45168f",
           "showlegend": true,
           "subplot": "mapbox",
           "text": [
            "EVEREST ENERGY"
           ],
           "type": "scattermapbox"
          },
          {
           "hovertemplate": "vessel_id=72674aadb46c5286<br>timestamp=2024-09-09T18:00:00.000Z<br>vessel_name=%{text}<br>lat=%{lat}<br>lon=%{lon}<extra></extra>",
           "lat": [
            31.60665822
           ],
           "legendgroup": "72674aadb46c5286",
           "lon": [
            32.30246833
           ],
           "marker": {
            "color": "#ab63fa"
           },
           "mode": "markers+text",
           "name": "72674aadb46c5286",
           "showlegend": true,
           "subplot": "mapbox",
           "text": [
            "PIONEER"
           ],
           "type": "scattermapbox"
          }
         ],
         "name": "2024-09-09T18:00:00.000Z"
        },
        {
         "data": [
          {
           "hovertemplate": "vessel_id=3bc8490a0c382976<br>timestamp=2024-09-10T00:00:00.000Z<br>vessel_name=%{text}<br>lat=%{lat}<br>lon=%{lon}<extra></extra>",
           "lat": [
            35.20535553
           ],
           "legendgroup": "3bc8490a0c382976",
           "lon": [
            19.38758025
           ],
           "marker": {
            "color": "#636efa"
           },
           "mode": "markers+text",
           "name": "3bc8490a0c382976",
           "showlegend": true,
           "subplot": "mapbox",
           "text": [
            "NEW ENERGY"
           ],
           "type": "scattermapbox"
          },
          {
           "hovertemplate": "vessel_id=fe16241b4f45168f<br>timestamp=2024-09-10T00:00:00.000Z<br>vessel_name=%{text}<br>lat=%{lat}<br>lon=%{lon}<extra></extra>",
           "lat": [
            75.59435498
           ],
           "legendgroup": "fe16241b4f45168f",
           "lon": [
            127.62656796
           ],
           "marker": {
            "color": "#00cc96"
           },
           "mode": "markers+text",
           "name": "fe16241b4f45168f",
           "showlegend": true,
           "subplot": "mapbox",
           "text": [
            "EVEREST ENERGY"
           ],
           "type": "scattermapbox"
          },
          {
           "hovertemplate": "vessel_id=72674aadb46c5286<br>timestamp=2024-09-10T00:00:00.000Z<br>vessel_name=%{text}<br>lat=%{lat}<br>lon=%{lon}<extra></extra>",
           "lat": [
            31.60665822
           ],
           "legendgroup": "72674aadb46c5286",
           "lon": [
            32.30262502
           ],
           "marker": {
            "color": "#ab63fa"
           },
           "mode": "markers+text",
           "name": "72674aadb46c5286",
           "showlegend": true,
           "subplot": "mapbox",
           "text": [
            "PIONEER"
           ],
           "type": "scattermapbox"
          }
         ],
         "name": "2024-09-10T00:00:00.000Z"
        },
        {
         "data": [
          {
           "hovertemplate": "vessel_id=3bc8490a0c382976<br>timestamp=2024-09-10T06:00:00.000Z<br>vessel_name=%{text}<br>lat=%{lat}<br>lon=%{lon}<extra></extra>",
           "lat": [
            35.51474579
           ],
           "legendgroup": "3bc8490a0c382976",
           "lon": [
            18.07843804
           ],
           "marker": {
            "color": "#636efa"
           },
           "mode": "markers+text",
           "name": "3bc8490a0c382976",
           "showlegend": true,
           "subplot": "mapbox",
           "text": [
            "NEW ENERGY"
           ],
           "type": "scattermapbox"
          },
          {
           "hovertemplate": "vessel_id=79138d1707099e3e<br>timestamp=2024-09-10T06:00:00.000Z<br>vessel_name=%{text}<br>lat=%{lat}<br>lon=%{lon}<extra></extra>",
           "lat": [
            69.88691876
           ],
           "legendgroup": "79138d1707099e3e",
           "lon": [
            33.95871276
           ],
           "marker": {
            "color": "#EF553B"
           },
           "mode": "markers+text",
           "name": "79138d1707099e3e",
           "showlegend": true,
           "subplot": "mapbox",
           "text": [
            "ASYA ENERGY"
           ],
           "type": "scattermapbox"
          },
          {
           "hovertemplate": "vessel_id=fe16241b4f45168f<br>timestamp=2024-09-10T06:00:00.000Z<br>vessel_name=%{text}<br>lat=%{lat}<br>lon=%{lon}<extra></extra>",
           "lat": [
            76.3542609
           ],
           "legendgroup": "fe16241b4f45168f",
           "lon": [
            133.24835608
           ],
           "marker": {
            "color": "#00cc96"
           },
           "mode": "markers+text",
           "name": "fe16241b4f45168f",
           "showlegend": true,
           "subplot": "mapbox",
           "text": [
            "EVEREST ENERGY"
           ],
           "type": "scattermapbox"
          },
          {
           "hovertemplate": "vessel_id=72674aadb46c5286<br>timestamp=2024-09-10T06:00:00.000Z<br>vessel_name=%{text}<br>lat=%{lat}<br>lon=%{lon}<extra></extra>",
           "lat": [
            31.60665822
           ],
           "legendgroup": "72674aadb46c5286",
           "lon": [
            32.30264699
           ],
           "marker": {
            "color": "#ab63fa"
           },
           "mode": "markers+text",
           "name": "72674aadb46c5286",
           "showlegend": true,
           "subplot": "mapbox",
           "text": [
            "PIONEER"
           ],
           "type": "scattermapbox"
          }
         ],
         "name": "2024-09-10T06:00:00.000Z"
        },
        {
         "data": [
          {
           "hovertemplate": "vessel_id=3bc8490a0c382976<br>timestamp=2024-09-10T12:00:00.000Z<br>vessel_name=%{text}<br>lat=%{lat}<br>lon=%{lon}<extra></extra>",
           "lat": [
            35.87841505
           ],
           "legendgroup": "3bc8490a0c382976",
           "lon": [
            16.53313965
           ],
           "marker": {
            "color": "#636efa"
           },
           "mode": "markers+text",
           "name": "3bc8490a0c382976",
           "showlegend": true,
           "subplot": "mapbox",
           "text": [
            "NEW ENERGY"
           ],
           "type": "scattermapbox"
          },
          {
           "hovertemplate": "vessel_id=79138d1707099e3e<br>timestamp=2024-09-10T12:00:00.000Z<br>vessel_name=%{text}<br>lat=%{lat}<br>lon=%{lon}<extra></extra>",
           "lat": [
            70.12031844
           ],
           "legendgroup": "79138d1707099e3e",
           "lon": [
            37.37691129
           ],
           "marker": {
            "color": "#EF553B"
           },
           "mode": "markers+text",
           "name": "79138d1707099e3e",
           "showlegend": true,
           "subplot": "mapbox",
           "text": [
            "ASYA ENERGY"
           ],
           "type": "scattermapbox"
          },
          {
           "hovertemplate": "vessel_id=fe16241b4f45168f<br>timestamp=2024-09-10T12:00:00.000Z<br>vessel_name=%{text}<br>lat=%{lat}<br>lon=%{lon}<extra></extra>",
           "lat": [
            76.60123032
           ],
           "legendgroup": "fe16241b4f45168f",
           "lon": [
            139.7253934
           ],
           "marker": {
            "color": "#00cc96"
           },
           "mode": "markers+text",
           "name": "fe16241b4f45168f",
           "showlegend": true,
           "subplot": "mapbox",
           "text": [
            "EVEREST ENERGY"
           ],
           "type": "scattermapbox"
          },
          {
           "hovertemplate": "vessel_id=72674aadb46c5286<br>timestamp=2024-09-10T12:00:00.000Z<br>vessel_name=%{text}<br>lat=%{lat}<br>lon=%{lon}<extra></extra>",
           "lat": [
            31.60665822
           ],
           "legendgroup": "72674aadb46c5286",
           "lon": [
            32.30246659
           ],
           "marker": {
            "color": "#ab63fa"
           },
           "mode": "markers+text",
           "name": "72674aadb46c5286",
           "showlegend": true,
           "subplot": "mapbox",
           "text": [
            "PIONEER"
           ],
           "type": "scattermapbox"
          }
         ],
         "name": "2024-09-10T12:00:00.000Z"
        },
        {
         "data": [
          {
           "hovertemplate": "vessel_id=3bc8490a0c382976<br>timestamp=2024-09-10T18:00:00.000Z<br>vessel_name=%{text}<br>lat=%{lat}<br>lon=%{lon}<extra></extra>",
           "lat": [
            36.22308667
           ],
           "legendgroup": "3bc8490a0c382976",
           "lon": [
            15.02102931
           ],
           "marker": {
            "color": "#636efa"
           },
           "mode": "markers+text",
           "name": "3bc8490a0c382976",
           "showlegend": true,
           "subplot": "mapbox",
           "text": [
            "NEW ENERGY"
           ],
           "type": "scattermapbox"
          },
          {
           "hovertemplate": "vessel_id=79138d1707099e3e<br>timestamp=2024-09-10T18:00:00.000Z<br>vessel_name=%{text}<br>lat=%{lat}<br>lon=%{lon}<extra></extra>",
           "lat": [
            70.28586937
           ],
           "legendgroup": "79138d1707099e3e",
           "lon": [
            41.05047612
           ],
           "marker": {
            "color": "#EF553B"
           },
           "mode": "markers+text",
           "name": "79138d1707099e3e",
           "showlegend": true,
           "subplot": "mapbox",
           "text": [
            "ASYA ENERGY"
           ],
           "type": "scattermapbox"
          },
          {
           "hovertemplate": "vessel_id=fe16241b4f45168f<br>timestamp=2024-09-10T18:00:00.000Z<br>vessel_name=%{text}<br>lat=%{lat}<br>lon=%{lon}<extra></extra>",
           "lat": [
            76.31897955
           ],
           "legendgroup": "fe16241b4f45168f",
           "lon": [
            146.54390099
           ],
           "marker": {
            "color": "#00cc96"
           },
           "mode": "markers+text",
           "name": "fe16241b4f45168f",
           "showlegend": true,
           "subplot": "mapbox",
           "text": [
            "EVEREST ENERGY"
           ],
           "type": "scattermapbox"
          },
          {
           "hovertemplate": "vessel_id=72674aadb46c5286<br>timestamp=2024-09-10T18:00:00.000Z<br>vessel_name=%{text}<br>lat=%{lat}<br>lon=%{lon}<extra></extra>",
           "lat": [
            31.60665822
           ],
           "legendgroup": "72674aadb46c5286",
           "lon": [
            32.29993101
           ],
           "marker": {
            "color": "#ab63fa"
           },
           "mode": "markers+text",
           "name": "72674aadb46c5286",
           "showlegend": true,
           "subplot": "mapbox",
           "text": [
            "PIONEER"
           ],
           "type": "scattermapbox"
          }
         ],
         "name": "2024-09-10T18:00:00.000Z"
        },
        {
         "data": [
          {
           "hovertemplate": "vessel_id=3bc8490a0c382976<br>timestamp=2024-09-11T00:00:00.000Z<br>vessel_name=%{text}<br>lat=%{lat}<br>lon=%{lon}<extra></extra>",
           "lat": [
            36.64646282
           ],
           "legendgroup": "3bc8490a0c382976",
           "lon": [
            13.56762861
           ],
           "marker": {
            "color": "#636efa"
           },
           "mode": "markers+text",
           "name": "3bc8490a0c382976",
           "showlegend": true,
           "subplot": "mapbox",
           "text": [
            "NEW ENERGY"
           ],
           "type": "scattermapbox"
          },
          {
           "hovertemplate": "vessel_id=79138d1707099e3e<br>timestamp=2024-09-11T00:00:00.000Z<br>vessel_name=%{text}<br>lat=%{lat}<br>lon=%{lon}<extra></extra>",
           "lat": [
            70.38628551
           ],
           "legendgroup": "79138d1707099e3e",
           "lon": [
            44.61421341
           ],
           "marker": {
            "color": "#EF553B"
           },
           "mode": "markers+text",
           "name": "79138d1707099e3e",
           "showlegend": true,
           "subplot": "mapbox",
           "text": [
            "ASYA ENERGY"
           ],
           "type": "scattermapbox"
          },
          {
           "hovertemplate": "vessel_id=fe16241b4f45168f<br>timestamp=2024-09-11T00:00:00.000Z<br>vessel_name=%{text}<br>lat=%{lat}<br>lon=%{lon}<extra></extra>",
           "lat": [
            75.80875701
           ],
           "legendgroup": "fe16241b4f45168f",
           "lon": [
            153.00999591
           ],
           "marker": {
            "color": "#00cc96"
           },
           "mode": "markers+text",
           "name": "fe16241b4f45168f",
           "showlegend": true,
           "subplot": "mapbox",
           "text": [
            "EVEREST ENERGY"
           ],
           "type": "scattermapbox"
          },
          {
           "hovertemplate": "vessel_id=72674aadb46c5286<br>timestamp=2024-09-11T00:00:00.000Z<br>vessel_name=%{text}<br>lat=%{lat}<br>lon=%{lon}<extra></extra>",
           "lat": [
            31.60937217
           ],
           "legendgroup": "72674aadb46c5286",
           "lon": [
            32.30053929
           ],
           "marker": {
            "color": "#ab63fa"
           },
           "mode": "markers+text",
           "name": "72674aadb46c5286",
           "showlegend": true,
           "subplot": "mapbox",
           "text": [
            "PIONEER"
           ],
           "type": "scattermapbox"
          }
         ],
         "name": "2024-09-11T00:00:00.000Z"
        },
        {
         "data": [
          {
           "hovertemplate": "vessel_id=3bc8490a0c382976<br>timestamp=2024-09-11T06:00:00.000Z<br>vessel_name=%{text}<br>lat=%{lat}<br>lon=%{lon}<extra></extra>",
           "lat": [
            37.03998553
           ],
           "legendgroup": "3bc8490a0c382976",
           "lon": [
            12.12089284
           ],
           "marker": {
            "color": "#636efa"
           },
           "mode": "markers+text",
           "name": "3bc8490a0c382976",
           "showlegend": true,
           "subplot": "mapbox",
           "text": [
            "NEW ENERGY"
           ],
           "type": "scattermapbox"
          },
          {
           "hovertemplate": "vessel_id=79138d1707099e3e<br>timestamp=2024-09-11T06:00:00.000Z<br>vessel_name=%{text}<br>lat=%{lat}<br>lon=%{lon}<extra></extra>",
           "lat": [
            70.40799711
           ],
           "legendgroup": "79138d1707099e3e",
           "lon": [
            48.58062916
           ],
           "marker": {
            "color": "#EF553B"
           },
           "mode": "markers+text",
           "name": "79138d1707099e3e",
           "showlegend": true,
           "subplot": "mapbox",
           "text": [
            "ASYA ENERGY"
           ],
           "type": "scattermapbox"
          },
          {
           "hovertemplate": "vessel_id=fe16241b4f45168f<br>timestamp=2024-09-11T06:00:00.000Z<br>vessel_name=%{text}<br>lat=%{lat}<br>lon=%{lon}<extra></extra>",
           "lat": [
            74.80188167
           ],
           "legendgroup": "fe16241b4f45168f",
           "lon": [
            157.69104025
           ],
           "marker": {
            "color": "#00cc96"
           },
           "mode": "markers+text",
           "name": "fe16241b4f45168f",
           "showlegend": true,
           "subplot": "mapbox",
           "text": [
            "EVEREST ENERGY"
           ],
           "type": "scattermapbox"
          },
          {
           "hovertemplate": "vessel_id=72674aadb46c5286<br>timestamp=2024-09-11T06:00:00.000Z<br>vessel_name=%{text}<br>lat=%{lat}<br>lon=%{lon}<extra></extra>",
           "lat": [
            31.60665822
           ],
           "legendgroup": "72674aadb46c5286",
           "lon": [
            32.296775
           ],
           "marker": {
            "color": "#ab63fa"
           },
           "mode": "markers+text",
           "name": "72674aadb46c5286",
           "showlegend": true,
           "subplot": "mapbox",
           "text": [
            "PIONEER"
           ],
           "type": "scattermapbox"
          }
         ],
         "name": "2024-09-11T06:00:00.000Z"
        },
        {
         "data": [
          {
           "hovertemplate": "vessel_id=3bc8490a0c382976<br>timestamp=2024-09-11T12:00:00.000Z<br>vessel_name=%{text}<br>lat=%{lat}<br>lon=%{lon}<extra></extra>",
           "lat": [
            37.59363126
           ],
           "legendgroup": "3bc8490a0c382976",
           "lon": [
            10.81659075
           ],
           "marker": {
            "color": "#636efa"
           },
           "mode": "markers+text",
           "name": "3bc8490a0c382976",
           "showlegend": true,
           "subplot": "mapbox",
           "text": [
            "NEW ENERGY"
           ],
           "type": "scattermapbox"
          },
          {
           "hovertemplate": "vessel_id=79138d1707099e3e<br>timestamp=2024-09-11T12:00:00.000Z<br>vessel_name=%{text}<br>lat=%{lat}<br>lon=%{lon}<extra></extra>",
           "lat": [
            70.35100416
           ],
           "legendgroup": "79138d1707099e3e",
           "lon": [
            52.39613012
           ],
           "marker": {
            "color": "#EF553B"
           },
           "mode": "markers+text",
           "name": "79138d1707099e3e",
           "showlegend": true,
           "subplot": "mapbox",
           "text": [
            "ASYA ENERGY"
           ],
           "type": "scattermapbox"
          },
          {
           "hovertemplate": "vessel_id=fe16241b4f45168f<br>timestamp=2024-09-11T12:00:00.000Z<br>vessel_name=%{text}<br>lat=%{lat}<br>lon=%{lon}<extra></extra>",
           "lat": [
            73.94155962
           ],
           "legendgroup": "fe16241b4f45168f",
           "lon": [
            161.46843697
           ],
           "marker": {
            "color": "#00cc96"
           },
           "mode": "markers+text",
           "name": "fe16241b4f45168f",
           "showlegend": true,
           "subplot": "mapbox",
           "text": [
            "EVEREST ENERGY"
           ],
           "type": "scattermapbox"
          },
          {
           "hovertemplate": "vessel_id=72674aadb46c5286<br>timestamp=2024-09-11T12:00:00.000Z<br>vessel_name=%{text}<br>lat=%{lat}<br>lon=%{lon}<extra></extra>",
           "lat": [
            31.60665822
           ],
           "legendgroup": "72674aadb46c5286",
           "lon": [
            32.30009927
           ],
           "marker": {
            "color": "#ab63fa"
           },
           "mode": "markers+text",
           "name": "72674aadb46c5286",
           "showlegend": true,
           "subplot": "mapbox",
           "text": [
            "PIONEER"
           ],
           "type": "scattermapbox"
          }
         ],
         "name": "2024-09-11T12:00:00.000Z"
        },
        {
         "data": [
          {
           "hovertemplate": "vessel_id=3bc8490a0c382976<br>timestamp=2024-09-11T18:00:00.000Z<br>vessel_name=%{text}<br>lat=%{lat}<br>lon=%{lon}<extra></extra>",
           "lat": [
            37.87316808
           ],
           "legendgroup": "3bc8490a0c382976",
           "lon": [
            9.37908962
           ],
           "marker": {
            "color": "#636efa"
           },
           "mode": "markers+text",
           "name": "3bc8490a0c382976",
           "showlegend": true,
           "subplot": "mapbox",
           "text": [
            "NEW ENERGY"
           ],
           "type": "scattermapbox"
          },
          {
           "hovertemplate": "vessel_id=79138d1707099e3e<br>timestamp=2024-09-11T18:00:00.000Z<br>vessel_name=%{text}<br>lat=%{lat}<br>lon=%{lon}<extra></extra>",
           "lat": [
            70.22073458
           ],
           "legendgroup": "79138d1707099e3e",
           "lon": [
            55.86826753
           ],
           "marker": {
            "color": "#EF553B"
           },
           "mode": "markers+text",
           "name": "79138d1707099e3e",
           "showlegend": true,
           "subplot": "mapbox",
           "text": [
            "ASYA ENERGY"
           ],
           "type": "scattermapbox"
          },
          {
           "hovertemplate": "vessel_id=fe16241b4f45168f<br>timestamp=2024-09-11T18:00:00.000Z<br>vessel_name=%{text}<br>lat=%{lat}<br>lon=%{lon}<extra></extra>",
           "lat": [
            73.06766781
           ],
           "legendgroup": "fe16241b4f45168f",
           "lon": [
            165.13470578
           ],
           "marker": {
            "color": "#00cc96"
           },
           "mode": "markers+text",
           "name": "fe16241b4f45168f",
           "showlegend": true,
           "subplot": "mapbox",
           "text": [
            "EVEREST ENERGY"
           ],
           "type": "scattermapbox"
          },
          {
           "hovertemplate": "vessel_id=72674aadb46c5286<br>timestamp=2024-09-11T18:00:00.000Z<br>vessel_name=%{text}<br>lat=%{lat}<br>lon=%{lon}<extra></extra>",
           "lat": [
            31.60937217
           ],
           "legendgroup": "72674aadb46c5286",
           "lon": [
            32.29707679
           ],
           "marker": {
            "color": "#ab63fa"
           },
           "mode": "markers+text",
           "name": "72674aadb46c5286",
           "showlegend": true,
           "subplot": "mapbox",
           "text": [
            "PIONEER"
           ],
           "type": "scattermapbox"
          }
         ],
         "name": "2024-09-11T18:00:00.000Z"
        },
        {
         "data": [
          {
           "hovertemplate": "vessel_id=3bc8490a0c382976<br>timestamp=2024-09-12T00:00:00.000Z<br>vessel_name=%{text}<br>lat=%{lat}<br>lon=%{lon}<extra></extra>",
           "lat": [
            37.84874254
           ],
           "legendgroup": "3bc8490a0c382976",
           "lon": [
            7.87415425
           ],
           "marker": {
            "color": "#636efa"
           },
           "mode": "markers+text",
           "name": "3bc8490a0c382976",
           "showlegend": true,
           "subplot": "mapbox",
           "text": [
            "NEW ENERGY"
           ],
           "type": "scattermapbox"
          },
          {
           "hovertemplate": "vessel_id=79138d1707099e3e<br>timestamp=2024-09-12T00:00:00.000Z<br>vessel_name=%{text}<br>lat=%{lat}<br>lon=%{lon}<extra></extra>",
           "lat": [
            70.72010132
           ],
           "legendgroup": "79138d1707099e3e",
           "lon": [
            58.96412661
           ],
           "marker": {
            "color": "#EF553B"
           },
           "mode": "markers+text",
           "name": "79138d1707099e3e",
           "showlegend": true,
           "subplot": "mapbox",
           "text": [
            "ASYA ENERGY"
           ],
           "type": "scattermapbox"
          },
          {
           "hovertemplate": "vessel_id=fe16241b4f45168f<br>timestamp=2024-09-12T00:00:00.000Z<br>vessel_name=%{text}<br>lat=%{lat}<br>lon=%{lon}<extra></extra>",
           "lat": [
            72.17206441
           ],
           "legendgroup": "fe16241b4f45168f",
           "lon": [
            168.70380268
           ],
           "marker": {
            "color": "#00cc96"
           },
           "mode": "markers+text",
           "name": "fe16241b4f45168f",
           "showlegend": true,
           "subplot": "mapbox",
           "text": [
            "EVEREST ENERGY"
           ],
           "type": "scattermapbox"
          },
          {
           "hovertemplate": "vessel_id=72674aadb46c5286<br>timestamp=2024-09-12T00:00:00.000Z<br>vessel_name=%{text}<br>lat=%{lat}<br>lon=%{lon}<extra></extra>",
           "lat": [
            31.60937217
           ],
           "legendgroup": "72674aadb46c5286",
           "lon": [
            32.2972699
           ],
           "marker": {
            "color": "#ab63fa"
           },
           "mode": "markers+text",
           "name": "72674aadb46c5286",
           "showlegend": true,
           "subplot": "mapbox",
           "text": [
            "PIONEER"
           ],
           "type": "scattermapbox"
          }
         ],
         "name": "2024-09-12T00:00:00.000Z"
        },
        {
         "data": [
          {
           "hovertemplate": "vessel_id=3bc8490a0c382976<br>timestamp=2024-09-12T06:00:00.000Z<br>vessel_name=%{text}<br>lat=%{lat}<br>lon=%{lon}<extra></extra>",
           "lat": [
            37.81074724
           ],
           "legendgroup": "3bc8490a0c382976",
           "lon": [
            6.33796116
           ],
           "marker": {
            "color": "#636efa"
           },
           "mode": "markers+text",
           "name": "3bc8490a0c382976",
           "showlegend": true,
           "subplot": "mapbox",
           "text": [
            "NEW ENERGY"
           ],
           "type": "scattermapbox"
          },
          {
           "hovertemplate": "vessel_id=79138d1707099e3e<br>timestamp=2024-09-12T06:00:00.000Z<br>vessel_name=%{text}<br>lat=%{lat}<br>lon=%{lon}<extra></extra>",
           "lat": [
            71.62656052
           ],
           "legendgroup": "79138d1707099e3e",
           "lon": [
            61.68827135
           ],
           "marker": {
            "color": "#EF553B"
           },
           "mode": "markers+text",
           "name": "79138d1707099e3e",
           "showlegend": true,
           "subplot": "mapbox",
           "text": [
            "ASYA ENERGY"
           ],
           "type": "scattermapbox"
          },
          {
           "hovertemplate": "vessel_id=fe16241b4f45168f<br>timestamp=2024-09-12T06:00:00.000Z<br>vessel_name=%{text}<br>lat=%{lat}<br>lon=%{lon}<extra></extra>",
           "lat": [
            71.85181835
           ],
           "legendgroup": "fe16241b4f45168f",
           "lon": [
            172.49798538
           ],
           "marker": {
            "color": "#00cc96"
           },
           "mode": "markers+text",
           "name": "fe16241b4f45168f",
           "showlegend": true,
           "subplot": "mapbox",
           "text": [
            "EVEREST ENERGY"
           ],
           "type": "scattermapbox"
          },
          {
           "hovertemplate": "vessel_id=72674aadb46c5286<br>timestamp=2024-09-12T06:00:00.000Z<br>vessel_name=%{text}<br>lat=%{lat}<br>lon=%{lon}<extra></extra>",
           "lat": [
            31.60665822
           ],
           "legendgroup": "72674aadb46c5286",
           "lon": [
            32.29946327
           ],
           "marker": {
            "color": "#ab63fa"
           },
           "mode": "markers+text",
           "name": "72674aadb46c5286",
           "showlegend": true,
           "subplot": "mapbox",
           "text": [
            "PIONEER"
           ],
           "type": "scattermapbox"
          }
         ],
         "name": "2024-09-12T06:00:00.000Z"
        },
        {
         "data": [
          {
           "hovertemplate": "vessel_id=3bc8490a0c382976<br>timestamp=2024-09-12T12:00:00.000Z<br>vessel_name=%{text}<br>lat=%{lat}<br>lon=%{lon}<extra></extra>",
           "lat": [
            37.7374706
           ],
           "legendgroup": "3bc8490a0c382976",
           "lon": [
            4.76677533
           ],
           "marker": {
            "color": "#636efa"
           },
           "mode": "markers+text",
           "name": "3bc8490a0c382976",
           "showlegend": true,
           "subplot": "mapbox",
           "text": [
            "NEW ENERGY"
           ],
           "type": "scattermapbox"
          },
          {
           "hovertemplate": "vessel_id=79138d1707099e3e<br>timestamp=2024-09-12T12:00:00.000Z<br>vessel_name=%{text}<br>lat=%{lat}<br>lon=%{lon}<extra></extra>",
           "lat": [
            72.52487787
           ],
           "legendgroup": "79138d1707099e3e",
           "lon": [
            64.58723583
           ],
           "marker": {
            "color": "#EF553B"
           },
           "mode": "markers+text",
           "name": "79138d1707099e3e",
           "showlegend": true,
           "subplot": "mapbox",
           "text": [
            "ASYA ENERGY"
           ],
           "type": "scattermapbox"
          },
          {
           "hovertemplate": "vessel_id=fe16241b4f45168f<br>timestamp=2024-09-12T12:00:00.000Z<br>vessel_name=%{text}<br>lat=%{lat}<br>lon=%{lon}<extra></extra>",
           "lat": [
            71.84096255
           ],
           "legendgroup": "fe16241b4f45168f",
           "lon": [
            176.11907176
           ],
           "marker": {
            "color": "#00cc96"
           },
           "mode": "markers+text",
           "name": "fe16241b4f45168f",
           "showlegend": true,
           "subplot": "mapbox",
           "text": [
            "EVEREST ENERGY"
           ],
           "type": "scattermapbox"
          },
          {
           "hovertemplate": "vessel_id=72674aadb46c5286<br>timestamp=2024-09-12T12:00:00.000Z<br>vessel_name=%{text}<br>lat=%{lat}<br>lon=%{lon}<extra></extra>",
           "lat": [
            31.60665822
           ],
           "legendgroup": "72674aadb46c5286",
           "lon": [
            32.29945691
           ],
           "marker": {
            "color": "#ab63fa"
           },
           "mode": "markers+text",
           "name": "72674aadb46c5286",
           "showlegend": true,
           "subplot": "mapbox",
           "text": [
            "PIONEER"
           ],
           "type": "scattermapbox"
          }
         ],
         "name": "2024-09-12T12:00:00.000Z"
        },
        {
         "data": [
          {
           "hovertemplate": "vessel_id=3bc8490a0c382976<br>timestamp=2024-09-12T18:00:00.000Z<br>vessel_name=%{text}<br>lat=%{lat}<br>lon=%{lon}<extra></extra>",
           "lat": [
            37.58277547
           ],
           "legendgroup": "3bc8490a0c382976",
           "lon": [
            3.15752368
           ],
           "marker": {
            "color": "#636efa"
           },
           "mode": "markers+text",
           "name": "3bc8490a0c382976",
           "showlegend": true,
           "subplot": "mapbox",
           "text": [
            "NEW ENERGY"
           ],
           "type": "scattermapbox"
          },
          {
           "hovertemplate": "vessel_id=79138d1707099e3e<br>timestamp=2024-09-12T18:00:00.000Z<br>vessel_name=%{text}<br>lat=%{lat}<br>lon=%{lon}<extra></extra>",
           "lat": [
            73.33906278
           ],
           "legendgroup": "79138d1707099e3e",
           "lon": [
            67.19406107
           ],
           "marker": {
            "color": "#EF553B"
           },
           "mode": "markers+text",
           "name": "79138d1707099e3e",
           "showlegend": true,
           "subplot": "mapbox",
           "text": [
            "ASYA ENERGY"
           ],
           "type": "scattermapbox"
          },
          {
           "hovertemplate": "vessel_id=fe16241b4f45168f<br>timestamp=2024-09-12T18:00:00.000Z<br>vessel_name=%{text}<br>lat=%{lat}<br>lon=%{lon}<extra></extra>",
           "lat": [
            71.84639045
           ],
           "legendgroup": "fe16241b4f45168f",
           "lon": [
            179.75783082
           ],
           "marker": {
            "color": "#00cc96"
           },
           "mode": "markers+text",
           "name": "fe16241b4f45168f",
           "showlegend": true,
           "subplot": "mapbox",
           "text": [
            "EVEREST ENERGY"
           ],
           "type": "scattermapbox"
          },
          {
           "hovertemplate": "vessel_id=72674aadb46c5286<br>timestamp=2024-09-12T18:00:00.000Z<br>vessel_name=%{text}<br>lat=%{lat}<br>lon=%{lon}<extra></extra>",
           "lat": [
            31.60665822
           ],
           "legendgroup": "72674aadb46c5286",
           "lon": [
            32.29945691
           ],
           "marker": {
            "color": "#ab63fa"
           },
           "mode": "markers+text",
           "name": "72674aadb46c5286",
           "showlegend": true,
           "subplot": "mapbox",
           "text": [
            "PIONEER"
           ],
           "type": "scattermapbox"
          }
         ],
         "name": "2024-09-12T18:00:00.000Z"
        },
        {
         "data": [
          {
           "hovertemplate": "vessel_id=3bc8490a0c382976<br>timestamp=2024-09-13T00:00:00.000Z<br>vessel_name=%{text}<br>lat=%{lat}<br>lon=%{lon}<extra></extra>",
           "lat": [
            37.3005247
           ],
           "legendgroup": "3bc8490a0c382976",
           "lon": [
            1.55235211
           ],
           "marker": {
            "color": "#636efa"
           },
           "mode": "markers+text",
           "name": "3bc8490a0c382976",
           "showlegend": true,
           "subplot": "mapbox",
           "text": [
            "NEW ENERGY"
           ],
           "type": "scattermapbox"
          },
          {
           "hovertemplate": "vessel_id=79138d1707099e3e<br>timestamp=2024-09-13T00:00:00.000Z<br>vessel_name=%{text}<br>lat=%{lat}<br>lon=%{lon}<extra></extra>",
           "lat": [
            73.84385743
           ],
           "legendgroup": "79138d1707099e3e",
           "lon": [
            70.38099327
           ],
           "marker": {
            "color": "#EF553B"
           },
           "mode": "markers+text",
           "name": "79138d1707099e3e",
           "showlegend": true,
           "subplot": "mapbox",
           "text": [
            "ASYA ENERGY"
           ],
           "type": "scattermapbox"
          },
          {
           "hovertemplate": "vessel_id=fe16241b4f45168f<br>timestamp=2024-09-13T00:00:00.000Z<br>vessel_name=%{text}<br>lat=%{lat}<br>lon=%{lon}<extra></extra>",
           "lat": [
            71.80296725
           ],
           "legendgroup": "fe16241b4f45168f",
           "lon": [
            -176.51611377
           ],
           "marker": {
            "color": "#00cc96"
           },
           "mode": "markers+text",
           "name": "fe16241b4f45168f",
           "showlegend": true,
           "subplot": "mapbox",
           "text": [
            "EVEREST ENERGY"
           ],
           "type": "scattermapbox"
          },
          {
           "hovertemplate": "vessel_id=72674aadb46c5286<br>timestamp=2024-09-13T00:00:00.000Z<br>vessel_name=%{text}<br>lat=%{lat}<br>lon=%{lon}<extra></extra>",
           "lat": [
            31.60665822
           ],
           "legendgroup": "72674aadb46c5286",
           "lon": [
            32.30249434
           ],
           "marker": {
            "color": "#ab63fa"
           },
           "mode": "markers+text",
           "name": "72674aadb46c5286",
           "showlegend": true,
           "subplot": "mapbox",
           "text": [
            "PIONEER"
           ],
           "type": "scattermapbox"
          }
         ],
         "name": "2024-09-13T00:00:00.000Z"
        },
        {
         "data": [
          {
           "hovertemplate": "vessel_id=3bc8490a0c382976<br>timestamp=2024-09-13T06:00:00.000Z<br>vessel_name=%{text}<br>lat=%{lat}<br>lon=%{lon}<extra></extra>",
           "lat": [
            36.86629274
           ],
           "legendgroup": "3bc8490a0c382976",
           "lon": [
            -0.05088385
           ],
           "marker": {
            "color": "#636efa"
           },
           "mode": "markers+text",
           "name": "3bc8490a0c382976",
           "showlegend": true,
           "subplot": "mapbox",
           "text": [
            "NEW ENERGY"
           ],
           "type": "scattermapbox"
          },
          {
           "hovertemplate": "vessel_id=79138d1707099e3e<br>timestamp=2024-09-13T06:00:00.000Z<br>vessel_name=%{text}<br>lat=%{lat}<br>lon=%{lon}<extra></extra>",
           "lat": [
            73.37705808
           ],
           "legendgroup": "79138d1707099e3e",
           "lon": [
            72.53381819
           ],
           "marker": {
            "color": "#EF553B"
           },
           "mode": "markers+text",
           "name": "79138d1707099e3e",
           "showlegend": true,
           "subplot": "mapbox",
           "text": [
            "ASYA ENERGY"
           ],
           "type": "scattermapbox"
          },
          {
           "hovertemplate": "vessel_id=fe16241b4f45168f<br>timestamp=2024-09-13T06:00:00.000Z<br>vessel_name=%{text}<br>lat=%{lat}<br>lon=%{lon}<extra></extra>",
           "lat": [
            71.64284422
           ],
           "legendgroup": "fe16241b4f45168f",
           "lon": [
            -172.57355159
           ],
           "marker": {
            "color": "#00cc96"
           },
           "mode": "markers+text",
           "name": "fe16241b4f45168f",
           "showlegend": true,
           "subplot": "mapbox",
           "text": [
            "EVEREST ENERGY"
           ],
           "type": "scattermapbox"
          },
          {
           "hovertemplate": "vessel_id=72674aadb46c5286<br>timestamp=2024-09-13T06:00:00.000Z<br>vessel_name=%{text}<br>lat=%{lat}<br>lon=%{lon}<extra></extra>",
           "lat": [
            31.60665822
           ],
           "legendgroup": "72674aadb46c5286",
           "lon": [
            32.30253713
           ],
           "marker": {
            "color": "#ab63fa"
           },
           "mode": "markers+text",
           "name": "72674aadb46c5286",
           "showlegend": true,
           "subplot": "mapbox",
           "text": [
            "PIONEER"
           ],
           "type": "scattermapbox"
          }
         ],
         "name": "2024-09-13T06:00:00.000Z"
        },
        {
         "data": [
          {
           "hovertemplate": "vessel_id=3bc8490a0c382976<br>timestamp=2024-09-13T12:00:00.000Z<br>vessel_name=%{text}<br>lat=%{lat}<br>lon=%{lon}<extra></extra>",
           "lat": [
            36.41849104
           ],
           "legendgroup": "3bc8490a0c382976",
           "lon": [
            -1.55816103
           ],
           "marker": {
            "color": "#636efa"
           },
           "mode": "markers+text",
           "name": "3bc8490a0c382976",
           "showlegend": true,
           "subplot": "mapbox",
           "text": [
            "NEW ENERGY"
           ],
           "type": "scattermapbox"
          },
          {
           "hovertemplate": "vessel_id=79138d1707099e3e<br>timestamp=2024-09-13T12:00:00.000Z<br>vessel_name=%{text}<br>lat=%{lat}<br>lon=%{lon}<extra></extra>",
           "lat": [
            72.20191786
           ],
           "legendgroup": "79138d1707099e3e",
           "lon": [
            73.27341985
           ],
           "marker": {
            "color": "#EF553B"
           },
           "mode": "markers+text",
           "name": "79138d1707099e3e",
           "showlegend": true,
           "subplot": "mapbox",
           "text": [
            "ASYA ENERGY"
           ],
           "type": "scattermapbox"
          },
          {
           "hovertemplate": "vessel_id=fe16241b4f45168f<br>timestamp=2024-09-13T12:00:00.000Z<br>vessel_name=%{text}<br>lat=%{lat}<br>lon=%{lon}<extra></extra>",
           "lat": [
            70.45956215
           ],
           "legendgroup": "fe16241b4f45168f",
           "lon": [
            -170.57436995
           ],
           "marker": {
            "color": "#00cc96"
           },
           "mode": "markers+text",
           "name": "fe16241b4f45168f",
           "showlegend": true,
           "subplot": "mapbox",
           "text": [
            "EVEREST ENERGY"
           ],
           "type": "scattermapbox"
          },
          {
           "hovertemplate": "vessel_id=72674aadb46c5286<br>timestamp=2024-09-13T12:00:00.000Z<br>vessel_name=%{text}<br>lat=%{lat}<br>lon=%{lon}<extra></extra>",
           "lat": [
            31.60665822
           ],
           "legendgroup": "72674aadb46c5286",
           "lon": [
            32.30261866
           ],
           "marker": {
            "color": "#ab63fa"
           },
           "mode": "markers+text",
           "name": "72674aadb46c5286",
           "showlegend": true,
           "subplot": "mapbox",
           "text": [
            "PIONEER"
           ],
           "type": "scattermapbox"
          }
         ],
         "name": "2024-09-13T12:00:00.000Z"
        },
        {
         "data": [
          {
           "hovertemplate": "vessel_id=3bc8490a0c382976<br>timestamp=2024-09-13T18:00:00.000Z<br>vessel_name=%{text}<br>lat=%{lat}<br>lon=%{lon}<extra></extra>",
           "lat": [
            36.22308667
           ],
           "legendgroup": "3bc8490a0c382976",
           "lon": [
            -3.14882823
           ],
           "marker": {
            "color": "#636efa"
           },
           "mode": "markers+text",
           "name": "3bc8490a0c382976",
           "showlegend": true,
           "subplot": "mapbox",
           "text": [
            "NEW ENERGY"
           ],
           "type": "scattermapbox"
          },
          {
           "hovertemplate": "vessel_id=79138d1707099e3e<br>timestamp=2024-09-13T18:00:00.000Z<br>vessel_name=%{text}<br>lat=%{lat}<br>lon=%{lon}<extra></extra>",
           "lat": [
            71.22489597
           ],
           "legendgroup": "79138d1707099e3e",
           "lon": [
            72.95516244
           ],
           "marker": {
            "color": "#EF553B"
           },
           "mode": "markers+text",
           "name": "79138d1707099e3e",
           "showlegend": true,
           "subplot": "mapbox",
           "text": [
            "ASYA ENERGY"
           ],
           "type": "scattermapbox"
          },
          {
           "hovertemplate": "vessel_id=fe16241b4f45168f<br>timestamp=2024-09-13T18:00:00.000Z<br>vessel_name=%{text}<br>lat=%{lat}<br>lon=%{lon}<extra></extra>",
           "lat": [
            69.21385924
           ],
           "legendgroup": "fe16241b4f45168f",
           "lon": [
            -169.22327816
           ],
           "marker": {
            "color": "#00cc96"
           },
           "mode": "markers+text",
           "name": "fe16241b4f45168f",
           "showlegend": true,
           "subplot": "mapbox",
           "text": [
            "EVEREST ENERGY"
           ],
           "type": "scattermapbox"
          },
          {
           "hovertemplate": "vessel_id=72674aadb46c5286<br>timestamp=2024-09-13T18:00:00.000Z<br>vessel_name=%{text}<br>lat=%{lat}<br>lon=%{lon}<extra></extra>",
           "lat": [
            31.60665822
           ],
           "legendgroup": "72674aadb46c5286",
           "lon": [
            32.30260073
           ],
           "marker": {
            "color": "#ab63fa"
           },
           "mode": "markers+text",
           "name": "72674aadb46c5286",
           "showlegend": true,
           "subplot": "mapbox",
           "text": [
            "PIONEER"
           ],
           "type": "scattermapbox"
          }
         ],
         "name": "2024-09-13T18:00:00.000Z"
        },
        {
         "data": [
          {
           "hovertemplate": "vessel_id=3bc8490a0c382976<br>timestamp=2024-09-14T00:00:00.000Z<br>vessel_name=%{text}<br>lat=%{lat}<br>lon=%{lon}<extra></extra>",
           "lat": [
            36.09281708
           ],
           "legendgroup": "3bc8490a0c382976",
           "lon": [
            -4.64158074
           ],
           "marker": {
            "color": "#636efa"
           },
           "mode": "markers+text",
           "name": "3bc8490a0c382976",
           "showlegend": true,
           "subplot": "mapbox",
           "text": [
            "NEW ENERGY"
           ],
           "type": "scattermapbox"
          },
          {
           "hovertemplate": "vessel_id=79138d1707099e3e<br>timestamp=2024-09-14T00:00:00.000Z<br>vessel_name=%{text}<br>lat=%{lat}<br>lon=%{lon}<extra></extra>",
           "lat": [
            70.99692419
           ],
           "legendgroup": "79138d1707099e3e",
           "lon": [
            73.73696935
           ],
           "marker": {
            "color": "#EF553B"
           },
           "mode": "markers+text",
           "name": "79138d1707099e3e",
           "showlegend": true,
           "subplot": "mapbox",
           "text": [
            "ASYA ENERGY"
           ],
           "type": "scattermapbox"
          },
          {
           "hovertemplate": "vessel_id=fe16241b4f45168f<br>timestamp=2024-09-14T00:00:00.000Z<br>vessel_name=%{text}<br>lat=%{lat}<br>lon=%{lon}<extra></extra>",
           "lat": [
            67.95730052
           ],
           "legendgroup": "fe16241b4f45168f",
           "lon": [
            -168.00186126
           ],
           "marker": {
            "color": "#00cc96"
           },
           "mode": "markers+text",
           "name": "fe16241b4f45168f",
           "showlegend": true,
           "subplot": "mapbox",
           "text": [
            "EVEREST ENERGY"
           ],
           "type": "scattermapbox"
          },
          {
           "hovertemplate": "vessel_id=72674aadb46c5286<br>timestamp=2024-09-14T00:00:00.000Z<br>vessel_name=%{text}<br>lat=%{lat}<br>lon=%{lon}<extra></extra>",
           "lat": [
            31.60665822
           ],
           "legendgroup": "72674aadb46c5286",
           "lon": [
            32.30249724
           ],
           "marker": {
            "color": "#ab63fa"
           },
           "mode": "markers+text",
           "name": "72674aadb46c5286",
           "showlegend": true,
           "subplot": "mapbox",
           "text": [
            "PIONEER"
           ],
           "type": "scattermapbox"
          }
         ],
         "name": "2024-09-14T00:00:00.000Z"
        },
        {
         "data": [
          {
           "hovertemplate": "vessel_id=3bc8490a0c382976<br>timestamp=2024-09-14T06:00:00.000Z<br>vessel_name=%{text}<br>lat=%{lat}<br>lon=%{lon}<extra></extra>",
           "lat": [
            35.96254749
           ],
           "legendgroup": "3bc8490a0c382976",
           "lon": [
            -6.08579912
           ],
           "marker": {
            "color": "#636efa"
           },
           "mode": "markers+text",
           "name": "3bc8490a0c382976",
           "showlegend": true,
           "subplot": "mapbox",
           "text": [
            "NEW ENERGY"
           ],
           "type": "scattermapbox"
          },
          {
           "hovertemplate": "vessel_id=79138d1707099e3e<br>timestamp=2024-09-14T06:00:00.000Z<br>vessel_name=%{text}<br>lat=%{lat}<br>lon=%{lon}<extra></extra>",
           "lat": [
            70.99149629
           ],
           "legendgroup": "79138d1707099e3e",
           "lon": [
            73.82926286
           ],
           "marker": {
            "color": "#EF553B"
           },
           "mode": "markers+text",
           "name": "79138d1707099e3e",
           "showlegend": true,
           "subplot": "mapbox",
           "text": [
            "ASYA ENERGY"
           ],
           "type": "scattermapbox"
          },
          {
           "hovertemplate": "vessel_id=fe16241b4f45168f<br>timestamp=2024-09-14T06:00:00.000Z<br>vessel_name=%{text}<br>lat=%{lat}<br>lon=%{lon}<extra></extra>",
           "lat": [
            66.80658585
           ],
           "legendgroup": "fe16241b4f45168f",
           "lon": [
            -167.97997724
           ],
           "marker": {
            "color": "#00cc96"
           },
           "mode": "markers+text",
           "name": "fe16241b4f45168f",
           "showlegend": true,
           "subplot": "mapbox",
           "text": [
            "EVEREST ENERGY"
           ],
           "type": "scattermapbox"
          },
          {
           "hovertemplate": "vessel_id=72674aadb46c5286<br>timestamp=2024-09-14T06:00:00.000Z<br>vessel_name=%{text}<br>lat=%{lat}<br>lon=%{lon}<extra></extra>",
           "lat": [
            31.60665822
           ],
           "legendgroup": "72674aadb46c5286",
           "lon": [
            32.30270597
           ],
           "marker": {
            "color": "#ab63fa"
           },
           "mode": "markers+text",
           "name": "72674aadb46c5286",
           "showlegend": true,
           "subplot": "mapbox",
           "text": [
            "PIONEER"
           ],
           "type": "scattermapbox"
          }
         ],
         "name": "2024-09-14T06:00:00.000Z"
        },
        {
         "data": [
          {
           "hovertemplate": "vessel_id=3bc8490a0c382976<br>timestamp=2024-09-14T12:00:00.000Z<br>vessel_name=%{text}<br>lat=%{lat}<br>lon=%{lon}<extra></extra>",
           "lat": [
            36.03582414
           ],
           "legendgroup": "3bc8490a0c382976",
           "lon": [
            -7.68902877
           ],
           "marker": {
            "color": "#636efa"
           },
           "mode": "markers+text",
           "name": "3bc8490a0c382976",
           "showlegend": true,
           "subplot": "mapbox",
           "text": [
            "NEW ENERGY"
           ],
           "type": "scattermapbox"
          },
          {
           "hovertemplate": "vessel_id=79138d1707099e3e<br>timestamp=2024-09-14T12:00:00.000Z<br>vessel_name=%{text}<br>lat=%{lat}<br>lon=%{lon}<extra></extra>",
           "lat": [
            70.99149629
           ],
           "legendgroup": "79138d1707099e3e",
           "lon": [
            73.82926286
           ],
           "marker": {
            "color": "#EF553B"
           },
           "mode": "markers+text",
           "name": "79138d1707099e3e",
           "showlegend": true,
           "subplot": "mapbox",
           "text": [
            "ASYA ENERGY"
           ],
           "type": "scattermapbox"
          },
          {
           "hovertemplate": "vessel_id=fe16241b4f45168f<br>timestamp=2024-09-14T12:00:00.000Z<br>vessel_name=%{text}<br>lat=%{lat}<br>lon=%{lon}<extra></extra>",
           "lat": [
            65.8648453
           ],
           "legendgroup": "fe16241b4f45168f",
           "lon": [
            -169.39977184
           ],
           "marker": {
            "color": "#00cc96"
           },
           "mode": "markers+text",
           "name": "fe16241b4f45168f",
           "showlegend": true,
           "subplot": "mapbox",
           "text": [
            "EVEREST ENERGY"
           ],
           "type": "scattermapbox"
          },
          {
           "hovertemplate": "vessel_id=72674aadb46c5286<br>timestamp=2024-09-14T12:00:00.000Z<br>vessel_name=%{text}<br>lat=%{lat}<br>lon=%{lon}<extra></extra>",
           "lat": [
            31.60394427
           ],
           "legendgroup": "72674aadb46c5286",
           "lon": [
            32.30234344
           ],
           "marker": {
            "color": "#ab63fa"
           },
           "mode": "markers+text",
           "name": "72674aadb46c5286",
           "showlegend": true,
           "subplot": "mapbox",
           "text": [
            "PIONEER"
           ],
           "type": "scattermapbox"
          }
         ],
         "name": "2024-09-14T12:00:00.000Z"
        },
        {
         "data": [
          {
           "hovertemplate": "vessel_id=3bc8490a0c382976<br>timestamp=2024-09-14T18:00:00.000Z<br>vessel_name=%{text}<br>lat=%{lat}<br>lon=%{lon}<extra></extra>",
           "lat": [
            36.11724263
           ],
           "legendgroup": "3bc8490a0c382976",
           "lon": [
            -9.2994811
           ],
           "marker": {
            "color": "#636efa"
           },
           "mode": "markers+text",
           "name": "3bc8490a0c382976",
           "showlegend": true,
           "subplot": "mapbox",
           "text": [
            "NEW ENERGY"
           ],
           "type": "scattermapbox"
          },
          {
           "hovertemplate": "vessel_id=79138d1707099e3e<br>timestamp=2024-09-14T18:00:00.000Z<br>vessel_name=%{text}<br>lat=%{lat}<br>lon=%{lon}<extra></extra>",
           "lat": [
            70.99149629
           ],
           "legendgroup": "79138d1707099e3e",
           "lon": [
            73.82926286
           ],
           "marker": {
            "color": "#EF553B"
           },
           "mode": "markers+text",
           "name": "79138d1707099e3e",
           "showlegend": true,
           "subplot": "mapbox",
           "text": [
            "ASYA ENERGY"
           ],
           "type": "scattermapbox"
          },
          {
           "hovertemplate": "vessel_id=fe16241b4f45168f<br>timestamp=2024-09-14T18:00:00.000Z<br>vessel_name=%{text}<br>lat=%{lat}<br>lon=%{lon}<extra></extra>",
           "lat": [
            64.73041433
           ],
           "legendgroup": "fe16241b4f45168f",
           "lon": [
            -171.1600936
           ],
           "marker": {
            "color": "#00cc96"
           },
           "mode": "markers+text",
           "name": "fe16241b4f45168f",
           "showlegend": true,
           "subplot": "mapbox",
           "text": [
            "EVEREST ENERGY"
           ],
           "type": "scattermapbox"
          },
          {
           "hovertemplate": "vessel_id=72674aadb46c5286<br>timestamp=2024-09-14T18:00:00.000Z<br>vessel_name=%{text}<br>lat=%{lat}<br>lon=%{lon}<extra></extra>",
           "lat": [
            31.60394427
           ],
           "legendgroup": "72674aadb46c5286",
           "lon": [
            32.30234113
           ],
           "marker": {
            "color": "#ab63fa"
           },
           "mode": "markers+text",
           "name": "72674aadb46c5286",
           "showlegend": true,
           "subplot": "mapbox",
           "text": [
            "PIONEER"
           ],
           "type": "scattermapbox"
          }
         ],
         "name": "2024-09-14T18:00:00.000Z"
        },
        {
         "data": [
          {
           "hovertemplate": "vessel_id=3bc8490a0c382976<br>timestamp=2024-09-15T00:00:00.000Z<br>vessel_name=%{text}<br>lat=%{lat}<br>lon=%{lon}<extra></extra>",
           "lat": [
            37.02641578
           ],
           "legendgroup": "3bc8490a0c382976",
           "lon": [
            -10.25276543
           ],
           "marker": {
            "color": "#636efa"
           },
           "mode": "markers+text",
           "name": "3bc8490a0c382976",
           "showlegend": true,
           "subplot": "mapbox",
           "text": [
            "NEW ENERGY"
           ],
           "type": "scattermapbox"
          },
          {
           "hovertemplate": "vessel_id=79138d1707099e3e<br>timestamp=2024-09-15T00:00:00.000Z<br>vessel_name=%{text}<br>lat=%{lat}<br>lon=%{lon}<extra></extra>",
           "lat": [
            70.99149629
           ],
           "legendgroup": "79138d1707099e3e",
           "lon": [
            73.82926286
           ],
           "marker": {
            "color": "#EF553B"
           },
           "mode": "markers+text",
           "name": "79138d1707099e3e",
           "showlegend": true,
           "subplot": "mapbox",
           "text": [
            "ASYA ENERGY"
           ],
           "type": "scattermapbox"
          },
          {
           "hovertemplate": "vessel_id=fe16241b4f45168f<br>timestamp=2024-09-15T00:00:00.000Z<br>vessel_name=%{text}<br>lat=%{lat}<br>lon=%{lon}<extra></extra>",
           "lat": [
            63.93251312
           ],
           "legendgroup": "fe16241b4f45168f",
           "lon": [
            -173.58367593
           ],
           "marker": {
            "color": "#00cc96"
           },
           "mode": "markers+text",
           "name": "fe16241b4f45168f",
           "showlegend": true,
           "subplot": "mapbox",
           "text": [
            "EVEREST ENERGY"
           ],
           "type": "scattermapbox"
          },
          {
           "hovertemplate": "vessel_id=72674aadb46c5286<br>timestamp=2024-09-15T00:00:00.000Z<br>vessel_name=%{text}<br>lat=%{lat}<br>lon=%{lon}<extra></extra>",
           "lat": [
            31.60394427
           ],
           "legendgroup": "72674aadb46c5286",
           "lon": [
            32.30238449
           ],
           "marker": {
            "color": "#ab63fa"
           },
           "mode": "markers+text",
           "name": "72674aadb46c5286",
           "showlegend": true,
           "subplot": "mapbox",
           "text": [
            "PIONEER"
           ],
           "type": "scattermapbox"
          }
         ],
         "name": "2024-09-15T00:00:00.000Z"
        },
        {
         "data": [
          {
           "hovertemplate": "vessel_id=3bc8490a0c382976<br>timestamp=2024-09-15T06:00:00.000Z<br>vessel_name=%{text}<br>lat=%{lat}<br>lon=%{lon}<extra></extra>",
           "lat": [
            38.23140944
           ],
           "legendgroup": "3bc8490a0c382976",
           "lon": [
            -10.63443161
           ],
           "marker": {
            "color": "#636efa"
           },
           "mode": "markers+text",
           "name": "3bc8490a0c382976",
           "showlegend": true,
           "subplot": "mapbox",
           "text": [
            "NEW ENERGY"
           ],
           "type": "scattermapbox"
          },
          {
           "hovertemplate": "vessel_id=79138d1707099e3e<br>timestamp=2024-09-15T06:00:00.000Z<br>vessel_name=%{text}<br>lat=%{lat}<br>lon=%{lon}<extra></extra>",
           "lat": [
            70.99149629
           ],
           "legendgroup": "79138d1707099e3e",
           "lon": [
            73.82976785
           ],
           "marker": {
            "color": "#EF553B"
           },
           "mode": "markers+text",
           "name": "79138d1707099e3e",
           "showlegend": true,
           "subplot": "mapbox",
           "text": [
            "ASYA ENERGY"
           ],
           "type": "scattermapbox"
          },
          {
           "hovertemplate": "vessel_id=fe16241b4f45168f<br>timestamp=2024-09-15T06:00:00.000Z<br>vessel_name=%{text}<br>lat=%{lat}<br>lon=%{lon}<extra></extra>",
           "lat": [
            63.34901393
           ],
           "legendgroup": "fe16241b4f45168f",
           "lon": [
            -176.61782877
           ],
           "marker": {
            "color": "#00cc96"
           },
           "mode": "markers+text",
           "name": "fe16241b4f45168f",
           "showlegend": true,
           "subplot": "mapbox",
           "text": [
            "EVEREST ENERGY"
           ],
           "type": "scattermapbox"
          },
          {
           "hovertemplate": "vessel_id=72674aadb46c5286<br>timestamp=2024-09-15T06:00:00.000Z<br>vessel_name=%{text}<br>lat=%{lat}<br>lon=%{lon}<extra></extra>",
           "lat": [
            31.60665822
           ],
           "legendgroup": "72674aadb46c5286",
           "lon": [
            32.30248798
           ],
           "marker": {
            "color": "#ab63fa"
           },
           "mode": "markers+text",
           "name": "72674aadb46c5286",
           "showlegend": true,
           "subplot": "mapbox",
           "text": [
            "PIONEER"
           ],
           "type": "scattermapbox"
          }
         ],
         "name": "2024-09-15T06:00:00.000Z"
        },
        {
         "data": [
          {
           "hovertemplate": "vessel_id=3bc8490a0c382976<br>timestamp=2024-09-15T12:00:00.000Z<br>vessel_name=%{text}<br>lat=%{lat}<br>lon=%{lon}<extra></extra>",
           "lat": [
            39.46354261
           ],
           "legendgroup": "3bc8490a0c382976",
           "lon": [
            -10.71119114
           ],
           "marker": {
            "color": "#636efa"
           },
           "mode": "markers+text",
           "name": "3bc8490a0c382976",
           "showlegend": true,
           "subplot": "mapbox",
           "text": [
            "NEW ENERGY"
           ],
           "type": "scattermapbox"
          },
          {
           "hovertemplate": "vessel_id=79138d1707099e3e<br>timestamp=2024-09-15T12:00:00.000Z<br>vessel_name=%{text}<br>lat=%{lat}<br>lon=%{lon}<extra></extra>",
           "lat": [
            71.70526506
           ],
           "legendgroup": "79138d1707099e3e",
           "lon": [
            72.81679121
           ],
           "marker": {
            "color": "#EF553B"
           },
           "mode": "markers+text",
           "name": "79138d1707099e3e",
           "showlegend": true,
           "subplot": "mapbox",
           "text": [
            "ASYA ENERGY"
           ],
           "type": "scattermapbox"
          },
          {
           "hovertemplate": "vessel_id=fe16241b4f45168f<br>timestamp=2024-09-15T12:00:00.000Z<br>vessel_name=%{text}<br>lat=%{lat}<br>lon=%{lon}<extra></extra>",
           "lat": [
            62.50226162
           ],
           "legendgroup": "fe16241b4f45168f",
           "lon": [
            -179.38982617
           ],
           "marker": {
            "color": "#00cc96"
           },
           "mode": "markers+text",
           "name": "fe16241b4f45168f",
           "showlegend": true,
           "subplot": "mapbox",
           "text": [
            "EVEREST ENERGY"
           ],
           "type": "scattermapbox"
          },
          {
           "hovertemplate": "vessel_id=72674aadb46c5286<br>timestamp=2024-09-15T12:00:00.000Z<br>vessel_name=%{text}<br>lat=%{lat}<br>lon=%{lon}<extra></extra>",
           "lat": [
            31.60665822
           ],
           "legendgroup": "72674aadb46c5286",
           "lon": [
            32.30264352
           ],
           "marker": {
            "color": "#ab63fa"
           },
           "mode": "markers+text",
           "name": "72674aadb46c5286",
           "showlegend": true,
           "subplot": "mapbox",
           "text": [
            "PIONEER"
           ],
           "type": "scattermapbox"
          }
         ],
         "name": "2024-09-15T12:00:00.000Z"
        },
        {
         "data": [
          {
           "hovertemplate": "vessel_id=3bc8490a0c382976<br>timestamp=2024-09-15T18:00:00.000Z<br>vessel_name=%{text}<br>lat=%{lat}<br>lon=%{lon}<extra></extra>",
           "lat": [
            40.73638502
           ],
           "legendgroup": "3bc8490a0c382976",
           "lon": [
            -10.76319419
           ],
           "marker": {
            "color": "#636efa"
           },
           "mode": "markers+text",
           "name": "3bc8490a0c382976",
           "showlegend": true,
           "subplot": "mapbox",
           "text": [
            "NEW ENERGY"
           ],
           "type": "scattermapbox"
          },
          {
           "hovertemplate": "vessel_id=79138d1707099e3e<br>timestamp=2024-09-15T18:00:00.000Z<br>vessel_name=%{text}<br>lat=%{lat}<br>lon=%{lon}<extra></extra>",
           "lat": [
            72.67143116
           ],
           "legendgroup": "79138d1707099e3e",
           "lon": [
            73.67006489
           ],
           "marker": {
            "color": "#EF553B"
           },
           "mode": "markers+text",
           "name": "79138d1707099e3e",
           "showlegend": true,
           "subplot": "mapbox",
           "text": [
            "ASYA ENERGY"
           ],
           "type": "scattermapbox"
          },
          {
           "hovertemplate": "vessel_id=fe16241b4f45168f<br>timestamp=2024-09-15T18:00:00.000Z<br>vessel_name=%{text}<br>lat=%{lat}<br>lon=%{lon}<extra></extra>",
           "lat": [
            61.65550932
           ],
           "legendgroup": "fe16241b4f45168f",
           "lon": [
            177.88653296
           ],
           "marker": {
            "color": "#00cc96"
           },
           "mode": "markers+text",
           "name": "fe16241b4f45168f",
           "showlegend": true,
           "subplot": "mapbox",
           "text": [
            "EVEREST ENERGY"
           ],
           "type": "scattermapbox"
          },
          {
           "hovertemplate": "vessel_id=72674aadb46c5286<br>timestamp=2024-09-15T18:00:00.000Z<br>vessel_name=%{text}<br>lat=%{lat}<br>lon=%{lon}<extra></extra>",
           "lat": [
            31.60665822
           ],
           "legendgroup": "72674aadb46c5286",
           "lon": [
            32.30264352
           ],
           "marker": {
            "color": "#ab63fa"
           },
           "mode": "markers+text",
           "name": "72674aadb46c5286",
           "showlegend": true,
           "subplot": "mapbox",
           "text": [
            "PIONEER"
           ],
           "type": "scattermapbox"
          }
         ],
         "name": "2024-09-15T18:00:00.000Z"
        },
        {
         "data": [
          {
           "hovertemplate": "vessel_id=3bc8490a0c382976<br>timestamp=2024-09-16T00:00:00.000Z<br>vessel_name=%{text}<br>lat=%{lat}<br>lon=%{lon}<extra></extra>",
           "lat": [
            41.98208793
           ],
           "legendgroup": "3bc8490a0c382976",
           "lon": [
            -10.82160145
           ],
           "marker": {
            "color": "#636efa"
           },
           "mode": "markers+text",
           "name": "3bc8490a0c382976",
           "showlegend": true,
           "subplot": "mapbox",
           "text": [
            "NEW ENERGY"
           ],
           "type": "scattermapbox"
          },
          {
           "hovertemplate": "vessel_id=79138d1707099e3e<br>timestamp=2024-09-16T00:00:00.000Z<br>vessel_name=%{text}<br>lat=%{lat}<br>lon=%{lon}<extra></extra>",
           "lat": [
            73.73529944
           ],
           "legendgroup": "79138d1707099e3e",
           "lon": [
            72.57091651
           ],
           "marker": {
            "color": "#EF553B"
           },
           "mode": "markers+text",
           "name": "79138d1707099e3e",
           "showlegend": true,
           "subplot": "mapbox",
           "text": [
            "ASYA ENERGY"
           ],
           "type": "scattermapbox"
          },
          {
           "hovertemplate": "vessel_id=fe16241b4f45168f<br>timestamp=2024-09-16T00:00:00.000Z<br>vessel_name=%{text}<br>lat=%{lat}<br>lon=%{lon}<extra></extra>",
           "lat": [
            60.65948978
           ],
           "legendgroup": "fe16241b4f45168f",
           "lon": [
            175.40611087
           ],
           "marker": {
            "color": "#00cc96"
           },
           "mode": "markers+text",
           "name": "fe16241b4f45168f",
           "showlegend": true,
           "subplot": "mapbox",
           "text": [
            "EVEREST ENERGY"
           ],
           "type": "scattermapbox"
          },
          {
           "hovertemplate": "vessel_id=72674aadb46c5286<br>timestamp=2024-09-16T00:00:00.000Z<br>vessel_name=%{text}<br>lat=%{lat}<br>lon=%{lon}<extra></extra>",
           "lat": [
            31.60394427
           ],
           "legendgroup": "72674aadb46c5286",
           "lon": [
            32.30237755
           ],
           "marker": {
            "color": "#ab63fa"
           },
           "mode": "markers+text",
           "name": "72674aadb46c5286",
           "showlegend": true,
           "subplot": "mapbox",
           "text": [
            "PIONEER"
           ],
           "type": "scattermapbox"
          }
         ],
         "name": "2024-09-16T00:00:00.000Z"
        },
        {
         "data": [
          {
           "hovertemplate": "vessel_id=3bc8490a0c382976<br>timestamp=2024-09-16T06:00:00.000Z<br>vessel_name=%{text}<br>lat=%{lat}<br>lon=%{lon}<extra></extra>",
           "lat": [
            43.16265605
           ],
           "legendgroup": "3bc8490a0c382976",
           "lon": [
            -10.87926777
           ],
           "marker": {
            "color": "#636efa"
           },
           "mode": "markers+text",
           "name": "3bc8490a0c382976",
           "showlegend": true,
           "subplot": "mapbox",
           "text": [
            "NEW ENERGY"
           ],
           "type": "scattermapbox"
          },
          {
           "hovertemplate": "vessel_id=79138d1707099e3e<br>timestamp=2024-09-16T06:00:00.000Z<br>vessel_name=%{text}<br>lat=%{lat}<br>lon=%{lon}<extra></extra>",
           "lat": [
            74.68518183
           ],
           "legendgroup": "79138d1707099e3e",
           "lon": [
            75.20038141
           ],
           "marker": {
            "color": "#EF553B"
           },
           "mode": "markers+text",
           "name": "79138d1707099e3e",
           "showlegend": true,
           "subplot": "mapbox",
           "text": [
            "ASYA ENERGY"
           ],
           "type": "scattermapbox"
          },
          {
           "hovertemplate": "vessel_id=fe16241b4f45168f<br>timestamp=2024-09-16T06:00:00.000Z<br>vessel_name=%{text}<br>lat=%{lat}<br>lon=%{lon}<extra></extra>",
           "lat": [
            59.70960738
           ],
           "legendgroup": "fe16241b4f45168f",
           "lon": [
            173.07715813
           ],
           "marker": {
            "color": "#00cc96"
           },
           "mode": "markers+text",
           "name": "fe16241b4f45168f",
           "showlegend": true,
           "subplot": "mapbox",
           "text": [
            "EVEREST ENERGY"
           ],
           "type": "scattermapbox"
          },
          {
           "hovertemplate": "vessel_id=72674aadb46c5286<br>timestamp=2024-09-16T06:00:00.000Z<br>vessel_name=%{text}<br>lat=%{lat}<br>lon=%{lon}<extra></extra>",
           "lat": [
            31.60665822
           ],
           "legendgroup": "72674aadb46c5286",
           "lon": [
            32.30264352
           ],
           "marker": {
            "color": "#ab63fa"
           },
           "mode": "markers+text",
           "name": "72674aadb46c5286",
           "showlegend": true,
           "subplot": "mapbox",
           "text": [
            "PIONEER"
           ],
           "type": "scattermapbox"
          }
         ],
         "name": "2024-09-16T06:00:00.000Z"
        },
        {
         "data": [
          {
           "hovertemplate": "vessel_id=3bc8490a0c382976<br>timestamp=2024-09-16T12:00:00.000Z<br>vessel_name=%{text}<br>lat=%{lat}<br>lon=%{lon}<extra></extra>",
           "lat": [
            44.34593812
           ],
           "legendgroup": "3bc8490a0c382976",
           "lon": [
            -10.92604445
           ],
           "marker": {
            "color": "#636efa"
           },
           "mode": "markers+text",
           "name": "3bc8490a0c382976",
           "showlegend": true,
           "subplot": "mapbox",
           "text": [
            "NEW ENERGY"
           ],
           "type": "scattermapbox"
          },
          {
           "hovertemplate": "vessel_id=79138d1707099e3e<br>timestamp=2024-09-16T12:00:00.000Z<br>vessel_name=%{text}<br>lat=%{lat}<br>lon=%{lon}<extra></extra>",
           "lat": [
            75.50208069
           ],
           "legendgroup": "79138d1707099e3e",
           "lon": [
            77.91486827
           ],
           "marker": {
            "color": "#EF553B"
           },
           "mode": "markers+text",
           "name": "79138d1707099e3e",
           "showlegend": true,
           "subplot": "mapbox",
           "text": [
            "ASYA ENERGY"
           ],
           "type": "scattermapbox"
          },
          {
           "hovertemplate": "vessel_id=fe16241b4f45168f<br>timestamp=2024-09-16T12:00:00.000Z<br>vessel_name=%{text}<br>lat=%{lat}<br>lon=%{lon}<extra></extra>",
           "lat": [
            58.76515289
           ],
           "legendgroup": "fe16241b4f45168f",
           "lon": [
            170.64713304
           ],
           "marker": {
            "color": "#00cc96"
           },
           "mode": "markers+text",
           "name": "fe16241b4f45168f",
           "showlegend": true,
           "subplot": "mapbox",
           "text": [
            "EVEREST ENERGY"
           ],
           "type": "scattermapbox"
          },
          {
           "hovertemplate": "vessel_id=72674aadb46c5286<br>timestamp=2024-09-16T12:00:00.000Z<br>vessel_name=%{text}<br>lat=%{lat}<br>lon=%{lon}<extra></extra>",
           "lat": [
            31.60394427
           ],
           "legendgroup": "72674aadb46c5286",
           "lon": [
            32.30227117
           ],
           "marker": {
            "color": "#ab63fa"
           },
           "mode": "markers+text",
           "name": "72674aadb46c5286",
           "showlegend": true,
           "subplot": "mapbox",
           "text": [
            "PIONEER"
           ],
           "type": "scattermapbox"
          }
         ],
         "name": "2024-09-16T12:00:00.000Z"
        },
        {
         "data": [
          {
           "hovertemplate": "vessel_id=3bc8490a0c382976<br>timestamp=2024-09-16T18:00:00.000Z<br>vessel_name=%{text}<br>lat=%{lat}<br>lon=%{lon}<extra></extra>",
           "lat": [
            45.57807129
           ],
           "legendgroup": "3bc8490a0c382976",
           "lon": [
            -10.97719418
           ],
           "marker": {
            "color": "#636efa"
           },
           "mode": "markers+text",
           "name": "3bc8490a0c382976",
           "showlegend": true,
           "subplot": "mapbox",
           "text": [
            "NEW ENERGY"
           ],
           "type": "scattermapbox"
          },
          {
           "hovertemplate": "vessel_id=79138d1707099e3e<br>timestamp=2024-09-16T18:00:00.000Z<br>vessel_name=%{text}<br>lat=%{lat}<br>lon=%{lon}<extra></extra>",
           "lat": [
            75.74905012
           ],
           "legendgroup": "79138d1707099e3e",
           "lon": [
            82.68610546
           ],
           "marker": {
            "color": "#EF553B"
           },
           "mode": "markers+text",
           "name": "79138d1707099e3e",
           "showlegend": true,
           "subplot": "mapbox",
           "text": [
            "ASYA ENERGY"
           ],
           "type": "scattermapbox"
          },
          {
           "hovertemplate": "vessel_id=fe16241b4f45168f<br>timestamp=2024-09-16T18:00:00.000Z<br>vessel_name=%{text}<br>lat=%{lat}<br>lon=%{lon}<extra></extra>",
           "lat": [
            57.82884024
           ],
           "legendgroup": "fe16241b4f45168f",
           "lon": [
            168.30322555
           ],
           "marker": {
            "color": "#00cc96"
           },
           "mode": "markers+text",
           "name": "fe16241b4f45168f",
           "showlegend": true,
           "subplot": "mapbox",
           "text": [
            "EVEREST ENERGY"
           ],
           "type": "scattermapbox"
          },
          {
           "hovertemplate": "vessel_id=72674aadb46c5286<br>timestamp=2024-09-16T18:00:00.000Z<br>vessel_name=%{text}<br>lat=%{lat}<br>lon=%{lon}<extra></extra>",
           "lat": [
            31.60665822
           ],
           "legendgroup": "72674aadb46c5286",
           "lon": [
            32.30264352
           ],
           "marker": {
            "color": "#ab63fa"
           },
           "mode": "markers+text",
           "name": "72674aadb46c5286",
           "showlegend": true,
           "subplot": "mapbox",
           "text": [
            "PIONEER"
           ],
           "type": "scattermapbox"
          }
         ],
         "name": "2024-09-16T18:00:00.000Z"
        },
        {
         "data": [
          {
           "hovertemplate": "vessel_id=3bc8490a0c382976<br>timestamp=2024-09-17T00:00:00.000Z<br>vessel_name=%{text}<br>lat=%{lat}<br>lon=%{lon}<extra></extra>",
           "lat": [
            46.8563416
           ],
           "legendgroup": "3bc8490a0c382976",
           "lon": [
            -11.0452679
           ],
           "marker": {
            "color": "#636efa"
           },
           "mode": "markers+text",
           "name": "3bc8490a0c382976",
           "showlegend": true,
           "subplot": "mapbox",
           "text": [
            "NEW ENERGY"
           ],
           "type": "scattermapbox"
          },
          {
           "hovertemplate": "vessel_id=79138d1707099e3e<br>timestamp=2024-09-17T00:00:00.000Z<br>vessel_name=%{text}<br>lat=%{lat}<br>lon=%{lon}<extra></extra>",
           "lat": [
            76.19142392
           ],
           "legendgroup": "79138d1707099e3e",
           "lon": [
            86.75113752
           ],
           "marker": {
            "color": "#EF553B"
           },
           "mode": "markers+text",
           "name": "79138d1707099e3e",
           "showlegend": true,
           "subplot": "mapbox",
           "text": [
            "ASYA ENERGY"
           ],
           "type": "scattermapbox"
          },
          {
           "hovertemplate": "vessel_id=fe16241b4f45168f<br>timestamp=2024-09-17T00:00:00.000Z<br>vessel_name=%{text}<br>lat=%{lat}<br>lon=%{lon}<extra></extra>",
           "lat": [
            57.05265062
           ],
           "legendgroup": "fe16241b4f45168f",
           "lon": [
            166.39720887
           ],
           "marker": {
            "color": "#00cc96"
           },
           "mode": "markers+text",
           "name": "fe16241b4f45168f",
           "showlegend": true,
           "subplot": "mapbox",
           "text": [
            "EVEREST ENERGY"
           ],
           "type": "scattermapbox"
          },
          {
           "hovertemplate": "vessel_id=72674aadb46c5286<br>timestamp=2024-09-17T00:00:00.000Z<br>vessel_name=%{text}<br>lat=%{lat}<br>lon=%{lon}<extra></extra>",
           "lat": [
            31.60394427
           ],
           "legendgroup": "72674aadb46c5286",
           "lon": [
            32.30206534
           ],
           "marker": {
            "color": "#ab63fa"
           },
           "mode": "markers+text",
           "name": "72674aadb46c5286",
           "showlegend": true,
           "subplot": "mapbox",
           "text": [
            "PIONEER"
           ],
           "type": "scattermapbox"
          }
         ],
         "name": "2024-09-17T00:00:00.000Z"
        },
        {
         "data": [
          {
           "hovertemplate": "vessel_id=3bc8490a0c382976<br>timestamp=2024-09-17T06:00:00.000Z<br>vessel_name=%{text}<br>lat=%{lat}<br>lon=%{lon}<extra></extra>",
           "lat": [
            47.11145287
           ],
           "legendgroup": "3bc8490a0c382976",
           "lon": [
            -11.04988195
           ],
           "marker": {
            "color": "#636efa"
           },
           "mode": "markers+text",
           "name": "3bc8490a0c382976",
           "showlegend": true,
           "subplot": "mapbox",
           "text": [
            "NEW ENERGY"
           ],
           "type": "scattermapbox"
          },
          {
           "hovertemplate": "vessel_id=79138d1707099e3e<br>timestamp=2024-09-17T06:00:00.000Z<br>vessel_name=%{text}<br>lat=%{lat}<br>lon=%{lon}<extra></extra>",
           "lat": [
            76.30812376
           ],
           "legendgroup": "79138d1707099e3e",
           "lon": [
            87.46734666
           ],
           "marker": {
            "color": "#EF553B"
           },
           "mode": "markers+text",
           "name": "79138d1707099e3e",
           "showlegend": true,
           "subplot": "mapbox",
           "text": [
            "ASYA ENERGY"
           ],
           "type": "scattermapbox"
          },
          {
           "hovertemplate": "vessel_id=fe16241b4f45168f<br>timestamp=2024-09-17T06:00:00.000Z<br>vessel_name=%{text}<br>lat=%{lat}<br>lon=%{lon}<extra></extra>",
           "lat": [
            56.91152524
           ],
           "legendgroup": "fe16241b4f45168f",
           "lon": [
            166.06428004
           ],
           "marker": {
            "color": "#00cc96"
           },
           "mode": "markers+text",
           "name": "fe16241b4f45168f",
           "showlegend": true,
           "subplot": "mapbox",
           "text": [
            "EVEREST ENERGY"
           ],
           "type": "scattermapbox"
          },
          {
           "hovertemplate": "vessel_id=72674aadb46c5286<br>timestamp=2024-09-17T06:00:00.000Z<br>vessel_name=%{text}<br>lat=%{lat}<br>lon=%{lon}<extra></extra>",
           "lat": [
            31.60394427
           ],
           "legendgroup": "72674aadb46c5286",
           "lon": [
            32.30206534
           ],
           "marker": {
            "color": "#ab63fa"
           },
           "mode": "markers+text",
           "name": "72674aadb46c5286",
           "showlegend": true,
           "subplot": "mapbox",
           "text": [
            "PIONEER"
           ],
           "type": "scattermapbox"
          }
         ],
         "name": "2024-09-17T06:00:00.000Z"
        },
        {
         "data": [
          {
           "hovertemplate": "vessel_id=72674aadb46c5286<br>timestamp=2024-09-17T07:07:59.000Z<br>vessel_name=%{text}<br>lat=%{lat}<br>lon=%{lon}<extra></extra>",
           "lat": [
            31.60394427
           ],
           "legendgroup": "72674aadb46c5286",
           "lon": [
            32.30228851
           ],
           "marker": {
            "color": "#ab63fa"
           },
           "mode": "markers+text",
           "name": "72674aadb46c5286",
           "showlegend": true,
           "subplot": "mapbox",
           "text": [
            "PIONEER"
           ],
           "type": "scattermapbox"
          }
         ],
         "name": "2024-09-17T07:07:59.000Z"
        },
        {
         "data": [
          {
           "hovertemplate": "vessel_id=3bc8490a0c382976<br>timestamp=2024-09-17T07:10:04.000Z<br>vessel_name=%{text}<br>lat=%{lat}<br>lon=%{lon}<extra></extra>",
           "lat": [
            47.11145287
           ],
           "legendgroup": "3bc8490a0c382976",
           "lon": [
            -11.04988195
           ],
           "marker": {
            "color": "#636efa"
           },
           "mode": "markers+text",
           "name": "3bc8490a0c382976",
           "showlegend": true,
           "subplot": "mapbox",
           "text": [
            "NEW ENERGY"
           ],
           "type": "scattermapbox"
          }
         ],
         "name": "2024-09-17T07:10:04.000Z"
        },
        {
         "data": [
          {
           "hovertemplate": "vessel_id=fe16241b4f45168f<br>timestamp=2024-09-17T07:12:01.000Z<br>vessel_name=%{text}<br>lat=%{lat}<br>lon=%{lon}<extra></extra>",
           "lat": [
            56.91152524
           ],
           "legendgroup": "fe16241b4f45168f",
           "lon": [
            166.06428004
           ],
           "marker": {
            "color": "#00cc96"
           },
           "mode": "markers+text",
           "name": "fe16241b4f45168f",
           "showlegend": true,
           "subplot": "mapbox",
           "text": [
            "EVEREST ENERGY"
           ],
           "type": "scattermapbox"
          }
         ],
         "name": "2024-09-17T07:12:01.000Z"
        },
        {
         "data": [
          {
           "hovertemplate": "vessel_id=79138d1707099e3e<br>timestamp=2024-09-17T07:12:26.000Z<br>vessel_name=%{text}<br>lat=%{lat}<br>lon=%{lon}<extra></extra>",
           "lat": [
            76.30812376
           ],
           "legendgroup": "79138d1707099e3e",
           "lon": [
            87.46734666
           ],
           "marker": {
            "color": "#EF553B"
           },
           "mode": "markers+text",
           "name": "79138d1707099e3e",
           "showlegend": true,
           "subplot": "mapbox",
           "text": [
            "ASYA ENERGY"
           ],
           "type": "scattermapbox"
          }
         ],
         "name": "2024-09-17T07:12:26.000Z"
        }
       ],
       "layout": {
        "legend": {
         "title": {
          "text": "vessel_id"
         },
         "tracegroupgap": 0
        },
        "mapbox": {
         "center": {
          "lat": 50.763099490568045,
          "lon": 27.154084700047335
         },
         "domain": {
          "x": [
           0,
           1
          ],
          "y": [
           0,
           1
          ]
         },
         "style": "open-street-map",
         "zoom": 10
        },
        "margin": {
         "b": 0,
         "l": 0,
         "r": 0,
         "t": 0
        },
        "sliders": [
         {
          "active": 0,
          "currentvalue": {
           "prefix": "timestamp="
          },
          "len": 0.9,
          "pad": {
           "b": 10,
           "t": 60
          },
          "steps": [
           {
            "args": [
             [
              "2024-07-22T00:00:00.000Z"
             ],
             {
              "frame": {
               "duration": 0,
               "redraw": true
              },
              "fromcurrent": true,
              "mode": "immediate",
              "transition": {
               "duration": 0,
               "easing": "linear"
              }
             }
            ],
            "label": "2024-07-22T00:00:00.000Z",
            "method": "animate"
           },
           {
            "args": [
             [
              "2024-07-22T06:00:00.000Z"
             ],
             {
              "frame": {
               "duration": 0,
               "redraw": true
              },
              "fromcurrent": true,
              "mode": "immediate",
              "transition": {
               "duration": 0,
               "easing": "linear"
              }
             }
            ],
            "label": "2024-07-22T06:00:00.000Z",
            "method": "animate"
           },
           {
            "args": [
             [
              "2024-07-22T12:00:00.000Z"
             ],
             {
              "frame": {
               "duration": 0,
               "redraw": true
              },
              "fromcurrent": true,
              "mode": "immediate",
              "transition": {
               "duration": 0,
               "easing": "linear"
              }
             }
            ],
            "label": "2024-07-22T12:00:00.000Z",
            "method": "animate"
           },
           {
            "args": [
             [
              "2024-07-22T18:00:00.000Z"
             ],
             {
              "frame": {
               "duration": 0,
               "redraw": true
              },
              "fromcurrent": true,
              "mode": "immediate",
              "transition": {
               "duration": 0,
               "easing": "linear"
              }
             }
            ],
            "label": "2024-07-22T18:00:00.000Z",
            "method": "animate"
           },
           {
            "args": [
             [
              "2024-07-23T00:00:00.000Z"
             ],
             {
              "frame": {
               "duration": 0,
               "redraw": true
              },
              "fromcurrent": true,
              "mode": "immediate",
              "transition": {
               "duration": 0,
               "easing": "linear"
              }
             }
            ],
            "label": "2024-07-23T00:00:00.000Z",
            "method": "animate"
           },
           {
            "args": [
             [
              "2024-07-23T06:00:00.000Z"
             ],
             {
              "frame": {
               "duration": 0,
               "redraw": true
              },
              "fromcurrent": true,
              "mode": "immediate",
              "transition": {
               "duration": 0,
               "easing": "linear"
              }
             }
            ],
            "label": "2024-07-23T06:00:00.000Z",
            "method": "animate"
           },
           {
            "args": [
             [
              "2024-07-23T12:00:00.000Z"
             ],
             {
              "frame": {
               "duration": 0,
               "redraw": true
              },
              "fromcurrent": true,
              "mode": "immediate",
              "transition": {
               "duration": 0,
               "easing": "linear"
              }
             }
            ],
            "label": "2024-07-23T12:00:00.000Z",
            "method": "animate"
           },
           {
            "args": [
             [
              "2024-07-23T18:00:00.000Z"
             ],
             {
              "frame": {
               "duration": 0,
               "redraw": true
              },
              "fromcurrent": true,
              "mode": "immediate",
              "transition": {
               "duration": 0,
               "easing": "linear"
              }
             }
            ],
            "label": "2024-07-23T18:00:00.000Z",
            "method": "animate"
           },
           {
            "args": [
             [
              "2024-07-24T00:00:00.000Z"
             ],
             {
              "frame": {
               "duration": 0,
               "redraw": true
              },
              "fromcurrent": true,
              "mode": "immediate",
              "transition": {
               "duration": 0,
               "easing": "linear"
              }
             }
            ],
            "label": "2024-07-24T00:00:00.000Z",
            "method": "animate"
           },
           {
            "args": [
             [
              "2024-07-24T06:00:00.000Z"
             ],
             {
              "frame": {
               "duration": 0,
               "redraw": true
              },
              "fromcurrent": true,
              "mode": "immediate",
              "transition": {
               "duration": 0,
               "easing": "linear"
              }
             }
            ],
            "label": "2024-07-24T06:00:00.000Z",
            "method": "animate"
           },
           {
            "args": [
             [
              "2024-07-24T12:00:00.000Z"
             ],
             {
              "frame": {
               "duration": 0,
               "redraw": true
              },
              "fromcurrent": true,
              "mode": "immediate",
              "transition": {
               "duration": 0,
               "easing": "linear"
              }
             }
            ],
            "label": "2024-07-24T12:00:00.000Z",
            "method": "animate"
           },
           {
            "args": [
             [
              "2024-07-24T18:00:00.000Z"
             ],
             {
              "frame": {
               "duration": 0,
               "redraw": true
              },
              "fromcurrent": true,
              "mode": "immediate",
              "transition": {
               "duration": 0,
               "easing": "linear"
              }
             }
            ],
            "label": "2024-07-24T18:00:00.000Z",
            "method": "animate"
           },
           {
            "args": [
             [
              "2024-07-25T00:00:00.000Z"
             ],
             {
              "frame": {
               "duration": 0,
               "redraw": true
              },
              "fromcurrent": true,
              "mode": "immediate",
              "transition": {
               "duration": 0,
               "easing": "linear"
              }
             }
            ],
            "label": "2024-07-25T00:00:00.000Z",
            "method": "animate"
           },
           {
            "args": [
             [
              "2024-07-25T06:00:00.000Z"
             ],
             {
              "frame": {
               "duration": 0,
               "redraw": true
              },
              "fromcurrent": true,
              "mode": "immediate",
              "transition": {
               "duration": 0,
               "easing": "linear"
              }
             }
            ],
            "label": "2024-07-25T06:00:00.000Z",
            "method": "animate"
           },
           {
            "args": [
             [
              "2024-07-25T12:00:00.000Z"
             ],
             {
              "frame": {
               "duration": 0,
               "redraw": true
              },
              "fromcurrent": true,
              "mode": "immediate",
              "transition": {
               "duration": 0,
               "easing": "linear"
              }
             }
            ],
            "label": "2024-07-25T12:00:00.000Z",
            "method": "animate"
           },
           {
            "args": [
             [
              "2024-07-25T18:00:00.000Z"
             ],
             {
              "frame": {
               "duration": 0,
               "redraw": true
              },
              "fromcurrent": true,
              "mode": "immediate",
              "transition": {
               "duration": 0,
               "easing": "linear"
              }
             }
            ],
            "label": "2024-07-25T18:00:00.000Z",
            "method": "animate"
           },
           {
            "args": [
             [
              "2024-07-26T00:00:00.000Z"
             ],
             {
              "frame": {
               "duration": 0,
               "redraw": true
              },
              "fromcurrent": true,
              "mode": "immediate",
              "transition": {
               "duration": 0,
               "easing": "linear"
              }
             }
            ],
            "label": "2024-07-26T00:00:00.000Z",
            "method": "animate"
           },
           {
            "args": [
             [
              "2024-07-26T06:00:00.000Z"
             ],
             {
              "frame": {
               "duration": 0,
               "redraw": true
              },
              "fromcurrent": true,
              "mode": "immediate",
              "transition": {
               "duration": 0,
               "easing": "linear"
              }
             }
            ],
            "label": "2024-07-26T06:00:00.000Z",
            "method": "animate"
           },
           {
            "args": [
             [
              "2024-07-26T12:00:00.000Z"
             ],
             {
              "frame": {
               "duration": 0,
               "redraw": true
              },
              "fromcurrent": true,
              "mode": "immediate",
              "transition": {
               "duration": 0,
               "easing": "linear"
              }
             }
            ],
            "label": "2024-07-26T12:00:00.000Z",
            "method": "animate"
           },
           {
            "args": [
             [
              "2024-07-26T18:00:00.000Z"
             ],
             {
              "frame": {
               "duration": 0,
               "redraw": true
              },
              "fromcurrent": true,
              "mode": "immediate",
              "transition": {
               "duration": 0,
               "easing": "linear"
              }
             }
            ],
            "label": "2024-07-26T18:00:00.000Z",
            "method": "animate"
           },
           {
            "args": [
             [
              "2024-07-27T00:00:00.000Z"
             ],
             {
              "frame": {
               "duration": 0,
               "redraw": true
              },
              "fromcurrent": true,
              "mode": "immediate",
              "transition": {
               "duration": 0,
               "easing": "linear"
              }
             }
            ],
            "label": "2024-07-27T00:00:00.000Z",
            "method": "animate"
           },
           {
            "args": [
             [
              "2024-07-27T06:00:00.000Z"
             ],
             {
              "frame": {
               "duration": 0,
               "redraw": true
              },
              "fromcurrent": true,
              "mode": "immediate",
              "transition": {
               "duration": 0,
               "easing": "linear"
              }
             }
            ],
            "label": "2024-07-27T06:00:00.000Z",
            "method": "animate"
           },
           {
            "args": [
             [
              "2024-07-27T12:00:00.000Z"
             ],
             {
              "frame": {
               "duration": 0,
               "redraw": true
              },
              "fromcurrent": true,
              "mode": "immediate",
              "transition": {
               "duration": 0,
               "easing": "linear"
              }
             }
            ],
            "label": "2024-07-27T12:00:00.000Z",
            "method": "animate"
           },
           {
            "args": [
             [
              "2024-07-27T18:00:00.000Z"
             ],
             {
              "frame": {
               "duration": 0,
               "redraw": true
              },
              "fromcurrent": true,
              "mode": "immediate",
              "transition": {
               "duration": 0,
               "easing": "linear"
              }
             }
            ],
            "label": "2024-07-27T18:00:00.000Z",
            "method": "animate"
           },
           {
            "args": [
             [
              "2024-07-28T00:00:00.000Z"
             ],
             {
              "frame": {
               "duration": 0,
               "redraw": true
              },
              "fromcurrent": true,
              "mode": "immediate",
              "transition": {
               "duration": 0,
               "easing": "linear"
              }
             }
            ],
            "label": "2024-07-28T00:00:00.000Z",
            "method": "animate"
           },
           {
            "args": [
             [
              "2024-07-28T06:00:00.000Z"
             ],
             {
              "frame": {
               "duration": 0,
               "redraw": true
              },
              "fromcurrent": true,
              "mode": "immediate",
              "transition": {
               "duration": 0,
               "easing": "linear"
              }
             }
            ],
            "label": "2024-07-28T06:00:00.000Z",
            "method": "animate"
           },
           {
            "args": [
             [
              "2024-07-28T12:00:00.000Z"
             ],
             {
              "frame": {
               "duration": 0,
               "redraw": true
              },
              "fromcurrent": true,
              "mode": "immediate",
              "transition": {
               "duration": 0,
               "easing": "linear"
              }
             }
            ],
            "label": "2024-07-28T12:00:00.000Z",
            "method": "animate"
           },
           {
            "args": [
             [
              "2024-07-28T18:00:00.000Z"
             ],
             {
              "frame": {
               "duration": 0,
               "redraw": true
              },
              "fromcurrent": true,
              "mode": "immediate",
              "transition": {
               "duration": 0,
               "easing": "linear"
              }
             }
            ],
            "label": "2024-07-28T18:00:00.000Z",
            "method": "animate"
           },
           {
            "args": [
             [
              "2024-07-29T00:00:00.000Z"
             ],
             {
              "frame": {
               "duration": 0,
               "redraw": true
              },
              "fromcurrent": true,
              "mode": "immediate",
              "transition": {
               "duration": 0,
               "easing": "linear"
              }
             }
            ],
            "label": "2024-07-29T00:00:00.000Z",
            "method": "animate"
           },
           {
            "args": [
             [
              "2024-07-29T06:00:00.000Z"
             ],
             {
              "frame": {
               "duration": 0,
               "redraw": true
              },
              "fromcurrent": true,
              "mode": "immediate",
              "transition": {
               "duration": 0,
               "easing": "linear"
              }
             }
            ],
            "label": "2024-07-29T06:00:00.000Z",
            "method": "animate"
           },
           {
            "args": [
             [
              "2024-07-29T12:00:00.000Z"
             ],
             {
              "frame": {
               "duration": 0,
               "redraw": true
              },
              "fromcurrent": true,
              "mode": "immediate",
              "transition": {
               "duration": 0,
               "easing": "linear"
              }
             }
            ],
            "label": "2024-07-29T12:00:00.000Z",
            "method": "animate"
           },
           {
            "args": [
             [
              "2024-07-29T18:00:00.000Z"
             ],
             {
              "frame": {
               "duration": 0,
               "redraw": true
              },
              "fromcurrent": true,
              "mode": "immediate",
              "transition": {
               "duration": 0,
               "easing": "linear"
              }
             }
            ],
            "label": "2024-07-29T18:00:00.000Z",
            "method": "animate"
           },
           {
            "args": [
             [
              "2024-07-30T00:00:00.000Z"
             ],
             {
              "frame": {
               "duration": 0,
               "redraw": true
              },
              "fromcurrent": true,
              "mode": "immediate",
              "transition": {
               "duration": 0,
               "easing": "linear"
              }
             }
            ],
            "label": "2024-07-30T00:00:00.000Z",
            "method": "animate"
           },
           {
            "args": [
             [
              "2024-07-30T06:00:00.000Z"
             ],
             {
              "frame": {
               "duration": 0,
               "redraw": true
              },
              "fromcurrent": true,
              "mode": "immediate",
              "transition": {
               "duration": 0,
               "easing": "linear"
              }
             }
            ],
            "label": "2024-07-30T06:00:00.000Z",
            "method": "animate"
           },
           {
            "args": [
             [
              "2024-07-30T12:00:00.000Z"
             ],
             {
              "frame": {
               "duration": 0,
               "redraw": true
              },
              "fromcurrent": true,
              "mode": "immediate",
              "transition": {
               "duration": 0,
               "easing": "linear"
              }
             }
            ],
            "label": "2024-07-30T12:00:00.000Z",
            "method": "animate"
           },
           {
            "args": [
             [
              "2024-07-30T18:00:00.000Z"
             ],
             {
              "frame": {
               "duration": 0,
               "redraw": true
              },
              "fromcurrent": true,
              "mode": "immediate",
              "transition": {
               "duration": 0,
               "easing": "linear"
              }
             }
            ],
            "label": "2024-07-30T18:00:00.000Z",
            "method": "animate"
           },
           {
            "args": [
             [
              "2024-07-31T00:00:00.000Z"
             ],
             {
              "frame": {
               "duration": 0,
               "redraw": true
              },
              "fromcurrent": true,
              "mode": "immediate",
              "transition": {
               "duration": 0,
               "easing": "linear"
              }
             }
            ],
            "label": "2024-07-31T00:00:00.000Z",
            "method": "animate"
           },
           {
            "args": [
             [
              "2024-07-31T06:00:00.000Z"
             ],
             {
              "frame": {
               "duration": 0,
               "redraw": true
              },
              "fromcurrent": true,
              "mode": "immediate",
              "transition": {
               "duration": 0,
               "easing": "linear"
              }
             }
            ],
            "label": "2024-07-31T06:00:00.000Z",
            "method": "animate"
           },
           {
            "args": [
             [
              "2024-07-31T12:00:00.000Z"
             ],
             {
              "frame": {
               "duration": 0,
               "redraw": true
              },
              "fromcurrent": true,
              "mode": "immediate",
              "transition": {
               "duration": 0,
               "easing": "linear"
              }
             }
            ],
            "label": "2024-07-31T12:00:00.000Z",
            "method": "animate"
           },
           {
            "args": [
             [
              "2024-07-31T18:00:00.000Z"
             ],
             {
              "frame": {
               "duration": 0,
               "redraw": true
              },
              "fromcurrent": true,
              "mode": "immediate",
              "transition": {
               "duration": 0,
               "easing": "linear"
              }
             }
            ],
            "label": "2024-07-31T18:00:00.000Z",
            "method": "animate"
           },
           {
            "args": [
             [
              "2024-08-01T00:00:00.000Z"
             ],
             {
              "frame": {
               "duration": 0,
               "redraw": true
              },
              "fromcurrent": true,
              "mode": "immediate",
              "transition": {
               "duration": 0,
               "easing": "linear"
              }
             }
            ],
            "label": "2024-08-01T00:00:00.000Z",
            "method": "animate"
           },
           {
            "args": [
             [
              "2024-08-01T06:00:00.000Z"
             ],
             {
              "frame": {
               "duration": 0,
               "redraw": true
              },
              "fromcurrent": true,
              "mode": "immediate",
              "transition": {
               "duration": 0,
               "easing": "linear"
              }
             }
            ],
            "label": "2024-08-01T06:00:00.000Z",
            "method": "animate"
           },
           {
            "args": [
             [
              "2024-08-01T12:00:00.000Z"
             ],
             {
              "frame": {
               "duration": 0,
               "redraw": true
              },
              "fromcurrent": true,
              "mode": "immediate",
              "transition": {
               "duration": 0,
               "easing": "linear"
              }
             }
            ],
            "label": "2024-08-01T12:00:00.000Z",
            "method": "animate"
           },
           {
            "args": [
             [
              "2024-08-01T18:00:00.000Z"
             ],
             {
              "frame": {
               "duration": 0,
               "redraw": true
              },
              "fromcurrent": true,
              "mode": "immediate",
              "transition": {
               "duration": 0,
               "easing": "linear"
              }
             }
            ],
            "label": "2024-08-01T18:00:00.000Z",
            "method": "animate"
           },
           {
            "args": [
             [
              "2024-08-02T00:00:00.000Z"
             ],
             {
              "frame": {
               "duration": 0,
               "redraw": true
              },
              "fromcurrent": true,
              "mode": "immediate",
              "transition": {
               "duration": 0,
               "easing": "linear"
              }
             }
            ],
            "label": "2024-08-02T00:00:00.000Z",
            "method": "animate"
           },
           {
            "args": [
             [
              "2024-08-02T06:00:00.000Z"
             ],
             {
              "frame": {
               "duration": 0,
               "redraw": true
              },
              "fromcurrent": true,
              "mode": "immediate",
              "transition": {
               "duration": 0,
               "easing": "linear"
              }
             }
            ],
            "label": "2024-08-02T06:00:00.000Z",
            "method": "animate"
           },
           {
            "args": [
             [
              "2024-08-02T12:00:00.000Z"
             ],
             {
              "frame": {
               "duration": 0,
               "redraw": true
              },
              "fromcurrent": true,
              "mode": "immediate",
              "transition": {
               "duration": 0,
               "easing": "linear"
              }
             }
            ],
            "label": "2024-08-02T12:00:00.000Z",
            "method": "animate"
           },
           {
            "args": [
             [
              "2024-08-02T18:00:00.000Z"
             ],
             {
              "frame": {
               "duration": 0,
               "redraw": true
              },
              "fromcurrent": true,
              "mode": "immediate",
              "transition": {
               "duration": 0,
               "easing": "linear"
              }
             }
            ],
            "label": "2024-08-02T18:00:00.000Z",
            "method": "animate"
           },
           {
            "args": [
             [
              "2024-08-03T00:00:00.000Z"
             ],
             {
              "frame": {
               "duration": 0,
               "redraw": true
              },
              "fromcurrent": true,
              "mode": "immediate",
              "transition": {
               "duration": 0,
               "easing": "linear"
              }
             }
            ],
            "label": "2024-08-03T00:00:00.000Z",
            "method": "animate"
           },
           {
            "args": [
             [
              "2024-08-03T06:00:00.000Z"
             ],
             {
              "frame": {
               "duration": 0,
               "redraw": true
              },
              "fromcurrent": true,
              "mode": "immediate",
              "transition": {
               "duration": 0,
               "easing": "linear"
              }
             }
            ],
            "label": "2024-08-03T06:00:00.000Z",
            "method": "animate"
           },
           {
            "args": [
             [
              "2024-08-03T12:00:00.000Z"
             ],
             {
              "frame": {
               "duration": 0,
               "redraw": true
              },
              "fromcurrent": true,
              "mode": "immediate",
              "transition": {
               "duration": 0,
               "easing": "linear"
              }
             }
            ],
            "label": "2024-08-03T12:00:00.000Z",
            "method": "animate"
           },
           {
            "args": [
             [
              "2024-08-03T18:00:00.000Z"
             ],
             {
              "frame": {
               "duration": 0,
               "redraw": true
              },
              "fromcurrent": true,
              "mode": "immediate",
              "transition": {
               "duration": 0,
               "easing": "linear"
              }
             }
            ],
            "label": "2024-08-03T18:00:00.000Z",
            "method": "animate"
           },
           {
            "args": [
             [
              "2024-08-04T00:00:00.000Z"
             ],
             {
              "frame": {
               "duration": 0,
               "redraw": true
              },
              "fromcurrent": true,
              "mode": "immediate",
              "transition": {
               "duration": 0,
               "easing": "linear"
              }
             }
            ],
            "label": "2024-08-04T00:00:00.000Z",
            "method": "animate"
           },
           {
            "args": [
             [
              "2024-08-04T06:00:00.000Z"
             ],
             {
              "frame": {
               "duration": 0,
               "redraw": true
              },
              "fromcurrent": true,
              "mode": "immediate",
              "transition": {
               "duration": 0,
               "easing": "linear"
              }
             }
            ],
            "label": "2024-08-04T06:00:00.000Z",
            "method": "animate"
           },
           {
            "args": [
             [
              "2024-08-04T12:00:00.000Z"
             ],
             {
              "frame": {
               "duration": 0,
               "redraw": true
              },
              "fromcurrent": true,
              "mode": "immediate",
              "transition": {
               "duration": 0,
               "easing": "linear"
              }
             }
            ],
            "label": "2024-08-04T12:00:00.000Z",
            "method": "animate"
           },
           {
            "args": [
             [
              "2024-08-04T18:00:00.000Z"
             ],
             {
              "frame": {
               "duration": 0,
               "redraw": true
              },
              "fromcurrent": true,
              "mode": "immediate",
              "transition": {
               "duration": 0,
               "easing": "linear"
              }
             }
            ],
            "label": "2024-08-04T18:00:00.000Z",
            "method": "animate"
           },
           {
            "args": [
             [
              "2024-08-05T00:00:00.000Z"
             ],
             {
              "frame": {
               "duration": 0,
               "redraw": true
              },
              "fromcurrent": true,
              "mode": "immediate",
              "transition": {
               "duration": 0,
               "easing": "linear"
              }
             }
            ],
            "label": "2024-08-05T00:00:00.000Z",
            "method": "animate"
           },
           {
            "args": [
             [
              "2024-08-05T06:00:00.000Z"
             ],
             {
              "frame": {
               "duration": 0,
               "redraw": true
              },
              "fromcurrent": true,
              "mode": "immediate",
              "transition": {
               "duration": 0,
               "easing": "linear"
              }
             }
            ],
            "label": "2024-08-05T06:00:00.000Z",
            "method": "animate"
           },
           {
            "args": [
             [
              "2024-08-05T12:00:00.000Z"
             ],
             {
              "frame": {
               "duration": 0,
               "redraw": true
              },
              "fromcurrent": true,
              "mode": "immediate",
              "transition": {
               "duration": 0,
               "easing": "linear"
              }
             }
            ],
            "label": "2024-08-05T12:00:00.000Z",
            "method": "animate"
           },
           {
            "args": [
             [
              "2024-08-05T18:00:00.000Z"
             ],
             {
              "frame": {
               "duration": 0,
               "redraw": true
              },
              "fromcurrent": true,
              "mode": "immediate",
              "transition": {
               "duration": 0,
               "easing": "linear"
              }
             }
            ],
            "label": "2024-08-05T18:00:00.000Z",
            "method": "animate"
           },
           {
            "args": [
             [
              "2024-08-06T00:00:00.000Z"
             ],
             {
              "frame": {
               "duration": 0,
               "redraw": true
              },
              "fromcurrent": true,
              "mode": "immediate",
              "transition": {
               "duration": 0,
               "easing": "linear"
              }
             }
            ],
            "label": "2024-08-06T00:00:00.000Z",
            "method": "animate"
           },
           {
            "args": [
             [
              "2024-08-06T06:00:00.000Z"
             ],
             {
              "frame": {
               "duration": 0,
               "redraw": true
              },
              "fromcurrent": true,
              "mode": "immediate",
              "transition": {
               "duration": 0,
               "easing": "linear"
              }
             }
            ],
            "label": "2024-08-06T06:00:00.000Z",
            "method": "animate"
           },
           {
            "args": [
             [
              "2024-08-06T12:00:00.000Z"
             ],
             {
              "frame": {
               "duration": 0,
               "redraw": true
              },
              "fromcurrent": true,
              "mode": "immediate",
              "transition": {
               "duration": 0,
               "easing": "linear"
              }
             }
            ],
            "label": "2024-08-06T12:00:00.000Z",
            "method": "animate"
           },
           {
            "args": [
             [
              "2024-08-06T18:00:00.000Z"
             ],
             {
              "frame": {
               "duration": 0,
               "redraw": true
              },
              "fromcurrent": true,
              "mode": "immediate",
              "transition": {
               "duration": 0,
               "easing": "linear"
              }
             }
            ],
            "label": "2024-08-06T18:00:00.000Z",
            "method": "animate"
           },
           {
            "args": [
             [
              "2024-08-07T00:00:00.000Z"
             ],
             {
              "frame": {
               "duration": 0,
               "redraw": true
              },
              "fromcurrent": true,
              "mode": "immediate",
              "transition": {
               "duration": 0,
               "easing": "linear"
              }
             }
            ],
            "label": "2024-08-07T00:00:00.000Z",
            "method": "animate"
           },
           {
            "args": [
             [
              "2024-08-07T06:00:00.000Z"
             ],
             {
              "frame": {
               "duration": 0,
               "redraw": true
              },
              "fromcurrent": true,
              "mode": "immediate",
              "transition": {
               "duration": 0,
               "easing": "linear"
              }
             }
            ],
            "label": "2024-08-07T06:00:00.000Z",
            "method": "animate"
           },
           {
            "args": [
             [
              "2024-08-07T12:00:00.000Z"
             ],
             {
              "frame": {
               "duration": 0,
               "redraw": true
              },
              "fromcurrent": true,
              "mode": "immediate",
              "transition": {
               "duration": 0,
               "easing": "linear"
              }
             }
            ],
            "label": "2024-08-07T12:00:00.000Z",
            "method": "animate"
           },
           {
            "args": [
             [
              "2024-08-07T18:00:00.000Z"
             ],
             {
              "frame": {
               "duration": 0,
               "redraw": true
              },
              "fromcurrent": true,
              "mode": "immediate",
              "transition": {
               "duration": 0,
               "easing": "linear"
              }
             }
            ],
            "label": "2024-08-07T18:00:00.000Z",
            "method": "animate"
           },
           {
            "args": [
             [
              "2024-08-08T00:00:00.000Z"
             ],
             {
              "frame": {
               "duration": 0,
               "redraw": true
              },
              "fromcurrent": true,
              "mode": "immediate",
              "transition": {
               "duration": 0,
               "easing": "linear"
              }
             }
            ],
            "label": "2024-08-08T00:00:00.000Z",
            "method": "animate"
           },
           {
            "args": [
             [
              "2024-08-08T06:00:00.000Z"
             ],
             {
              "frame": {
               "duration": 0,
               "redraw": true
              },
              "fromcurrent": true,
              "mode": "immediate",
              "transition": {
               "duration": 0,
               "easing": "linear"
              }
             }
            ],
            "label": "2024-08-08T06:00:00.000Z",
            "method": "animate"
           },
           {
            "args": [
             [
              "2024-08-08T12:00:00.000Z"
             ],
             {
              "frame": {
               "duration": 0,
               "redraw": true
              },
              "fromcurrent": true,
              "mode": "immediate",
              "transition": {
               "duration": 0,
               "easing": "linear"
              }
             }
            ],
            "label": "2024-08-08T12:00:00.000Z",
            "method": "animate"
           },
           {
            "args": [
             [
              "2024-08-08T18:00:00.000Z"
             ],
             {
              "frame": {
               "duration": 0,
               "redraw": true
              },
              "fromcurrent": true,
              "mode": "immediate",
              "transition": {
               "duration": 0,
               "easing": "linear"
              }
             }
            ],
            "label": "2024-08-08T18:00:00.000Z",
            "method": "animate"
           },
           {
            "args": [
             [
              "2024-08-09T00:00:00.000Z"
             ],
             {
              "frame": {
               "duration": 0,
               "redraw": true
              },
              "fromcurrent": true,
              "mode": "immediate",
              "transition": {
               "duration": 0,
               "easing": "linear"
              }
             }
            ],
            "label": "2024-08-09T00:00:00.000Z",
            "method": "animate"
           },
           {
            "args": [
             [
              "2024-08-09T06:00:00.000Z"
             ],
             {
              "frame": {
               "duration": 0,
               "redraw": true
              },
              "fromcurrent": true,
              "mode": "immediate",
              "transition": {
               "duration": 0,
               "easing": "linear"
              }
             }
            ],
            "label": "2024-08-09T06:00:00.000Z",
            "method": "animate"
           },
           {
            "args": [
             [
              "2024-08-09T12:00:00.000Z"
             ],
             {
              "frame": {
               "duration": 0,
               "redraw": true
              },
              "fromcurrent": true,
              "mode": "immediate",
              "transition": {
               "duration": 0,
               "easing": "linear"
              }
             }
            ],
            "label": "2024-08-09T12:00:00.000Z",
            "method": "animate"
           },
           {
            "args": [
             [
              "2024-08-09T18:00:00.000Z"
             ],
             {
              "frame": {
               "duration": 0,
               "redraw": true
              },
              "fromcurrent": true,
              "mode": "immediate",
              "transition": {
               "duration": 0,
               "easing": "linear"
              }
             }
            ],
            "label": "2024-08-09T18:00:00.000Z",
            "method": "animate"
           },
           {
            "args": [
             [
              "2024-08-10T00:00:00.000Z"
             ],
             {
              "frame": {
               "duration": 0,
               "redraw": true
              },
              "fromcurrent": true,
              "mode": "immediate",
              "transition": {
               "duration": 0,
               "easing": "linear"
              }
             }
            ],
            "label": "2024-08-10T00:00:00.000Z",
            "method": "animate"
           },
           {
            "args": [
             [
              "2024-08-10T06:00:00.000Z"
             ],
             {
              "frame": {
               "duration": 0,
               "redraw": true
              },
              "fromcurrent": true,
              "mode": "immediate",
              "transition": {
               "duration": 0,
               "easing": "linear"
              }
             }
            ],
            "label": "2024-08-10T06:00:00.000Z",
            "method": "animate"
           },
           {
            "args": [
             [
              "2024-08-10T12:00:00.000Z"
             ],
             {
              "frame": {
               "duration": 0,
               "redraw": true
              },
              "fromcurrent": true,
              "mode": "immediate",
              "transition": {
               "duration": 0,
               "easing": "linear"
              }
             }
            ],
            "label": "2024-08-10T12:00:00.000Z",
            "method": "animate"
           },
           {
            "args": [
             [
              "2024-08-10T18:00:00.000Z"
             ],
             {
              "frame": {
               "duration": 0,
               "redraw": true
              },
              "fromcurrent": true,
              "mode": "immediate",
              "transition": {
               "duration": 0,
               "easing": "linear"
              }
             }
            ],
            "label": "2024-08-10T18:00:00.000Z",
            "method": "animate"
           },
           {
            "args": [
             [
              "2024-08-11T00:00:00.000Z"
             ],
             {
              "frame": {
               "duration": 0,
               "redraw": true
              },
              "fromcurrent": true,
              "mode": "immediate",
              "transition": {
               "duration": 0,
               "easing": "linear"
              }
             }
            ],
            "label": "2024-08-11T00:00:00.000Z",
            "method": "animate"
           },
           {
            "args": [
             [
              "2024-08-11T06:00:00.000Z"
             ],
             {
              "frame": {
               "duration": 0,
               "redraw": true
              },
              "fromcurrent": true,
              "mode": "immediate",
              "transition": {
               "duration": 0,
               "easing": "linear"
              }
             }
            ],
            "label": "2024-08-11T06:00:00.000Z",
            "method": "animate"
           },
           {
            "args": [
             [
              "2024-08-11T12:00:00.000Z"
             ],
             {
              "frame": {
               "duration": 0,
               "redraw": true
              },
              "fromcurrent": true,
              "mode": "immediate",
              "transition": {
               "duration": 0,
               "easing": "linear"
              }
             }
            ],
            "label": "2024-08-11T12:00:00.000Z",
            "method": "animate"
           },
           {
            "args": [
             [
              "2024-08-11T18:00:00.000Z"
             ],
             {
              "frame": {
               "duration": 0,
               "redraw": true
              },
              "fromcurrent": true,
              "mode": "immediate",
              "transition": {
               "duration": 0,
               "easing": "linear"
              }
             }
            ],
            "label": "2024-08-11T18:00:00.000Z",
            "method": "animate"
           },
           {
            "args": [
             [
              "2024-08-12T00:00:00.000Z"
             ],
             {
              "frame": {
               "duration": 0,
               "redraw": true
              },
              "fromcurrent": true,
              "mode": "immediate",
              "transition": {
               "duration": 0,
               "easing": "linear"
              }
             }
            ],
            "label": "2024-08-12T00:00:00.000Z",
            "method": "animate"
           },
           {
            "args": [
             [
              "2024-08-12T06:00:00.000Z"
             ],
             {
              "frame": {
               "duration": 0,
               "redraw": true
              },
              "fromcurrent": true,
              "mode": "immediate",
              "transition": {
               "duration": 0,
               "easing": "linear"
              }
             }
            ],
            "label": "2024-08-12T06:00:00.000Z",
            "method": "animate"
           },
           {
            "args": [
             [
              "2024-08-12T12:00:00.000Z"
             ],
             {
              "frame": {
               "duration": 0,
               "redraw": true
              },
              "fromcurrent": true,
              "mode": "immediate",
              "transition": {
               "duration": 0,
               "easing": "linear"
              }
             }
            ],
            "label": "2024-08-12T12:00:00.000Z",
            "method": "animate"
           },
           {
            "args": [
             [
              "2024-08-12T18:00:00.000Z"
             ],
             {
              "frame": {
               "duration": 0,
               "redraw": true
              },
              "fromcurrent": true,
              "mode": "immediate",
              "transition": {
               "duration": 0,
               "easing": "linear"
              }
             }
            ],
            "label": "2024-08-12T18:00:00.000Z",
            "method": "animate"
           },
           {
            "args": [
             [
              "2024-08-13T00:00:00.000Z"
             ],
             {
              "frame": {
               "duration": 0,
               "redraw": true
              },
              "fromcurrent": true,
              "mode": "immediate",
              "transition": {
               "duration": 0,
               "easing": "linear"
              }
             }
            ],
            "label": "2024-08-13T00:00:00.000Z",
            "method": "animate"
           },
           {
            "args": [
             [
              "2024-08-13T06:00:00.000Z"
             ],
             {
              "frame": {
               "duration": 0,
               "redraw": true
              },
              "fromcurrent": true,
              "mode": "immediate",
              "transition": {
               "duration": 0,
               "easing": "linear"
              }
             }
            ],
            "label": "2024-08-13T06:00:00.000Z",
            "method": "animate"
           },
           {
            "args": [
             [
              "2024-08-13T12:00:00.000Z"
             ],
             {
              "frame": {
               "duration": 0,
               "redraw": true
              },
              "fromcurrent": true,
              "mode": "immediate",
              "transition": {
               "duration": 0,
               "easing": "linear"
              }
             }
            ],
            "label": "2024-08-13T12:00:00.000Z",
            "method": "animate"
           },
           {
            "args": [
             [
              "2024-08-13T18:00:00.000Z"
             ],
             {
              "frame": {
               "duration": 0,
               "redraw": true
              },
              "fromcurrent": true,
              "mode": "immediate",
              "transition": {
               "duration": 0,
               "easing": "linear"
              }
             }
            ],
            "label": "2024-08-13T18:00:00.000Z",
            "method": "animate"
           },
           {
            "args": [
             [
              "2024-08-14T00:00:00.000Z"
             ],
             {
              "frame": {
               "duration": 0,
               "redraw": true
              },
              "fromcurrent": true,
              "mode": "immediate",
              "transition": {
               "duration": 0,
               "easing": "linear"
              }
             }
            ],
            "label": "2024-08-14T00:00:00.000Z",
            "method": "animate"
           },
           {
            "args": [
             [
              "2024-08-14T06:00:00.000Z"
             ],
             {
              "frame": {
               "duration": 0,
               "redraw": true
              },
              "fromcurrent": true,
              "mode": "immediate",
              "transition": {
               "duration": 0,
               "easing": "linear"
              }
             }
            ],
            "label": "2024-08-14T06:00:00.000Z",
            "method": "animate"
           },
           {
            "args": [
             [
              "2024-08-14T12:00:00.000Z"
             ],
             {
              "frame": {
               "duration": 0,
               "redraw": true
              },
              "fromcurrent": true,
              "mode": "immediate",
              "transition": {
               "duration": 0,
               "easing": "linear"
              }
             }
            ],
            "label": "2024-08-14T12:00:00.000Z",
            "method": "animate"
           },
           {
            "args": [
             [
              "2024-08-14T18:00:00.000Z"
             ],
             {
              "frame": {
               "duration": 0,
               "redraw": true
              },
              "fromcurrent": true,
              "mode": "immediate",
              "transition": {
               "duration": 0,
               "easing": "linear"
              }
             }
            ],
            "label": "2024-08-14T18:00:00.000Z",
            "method": "animate"
           },
           {
            "args": [
             [
              "2024-08-15T00:00:00.000Z"
             ],
             {
              "frame": {
               "duration": 0,
               "redraw": true
              },
              "fromcurrent": true,
              "mode": "immediate",
              "transition": {
               "duration": 0,
               "easing": "linear"
              }
             }
            ],
            "label": "2024-08-15T00:00:00.000Z",
            "method": "animate"
           },
           {
            "args": [
             [
              "2024-08-15T06:00:00.000Z"
             ],
             {
              "frame": {
               "duration": 0,
               "redraw": true
              },
              "fromcurrent": true,
              "mode": "immediate",
              "transition": {
               "duration": 0,
               "easing": "linear"
              }
             }
            ],
            "label": "2024-08-15T06:00:00.000Z",
            "method": "animate"
           },
           {
            "args": [
             [
              "2024-08-15T12:00:00.000Z"
             ],
             {
              "frame": {
               "duration": 0,
               "redraw": true
              },
              "fromcurrent": true,
              "mode": "immediate",
              "transition": {
               "duration": 0,
               "easing": "linear"
              }
             }
            ],
            "label": "2024-08-15T12:00:00.000Z",
            "method": "animate"
           },
           {
            "args": [
             [
              "2024-08-15T18:00:00.000Z"
             ],
             {
              "frame": {
               "duration": 0,
               "redraw": true
              },
              "fromcurrent": true,
              "mode": "immediate",
              "transition": {
               "duration": 0,
               "easing": "linear"
              }
             }
            ],
            "label": "2024-08-15T18:00:00.000Z",
            "method": "animate"
           },
           {
            "args": [
             [
              "2024-08-16T00:00:00.000Z"
             ],
             {
              "frame": {
               "duration": 0,
               "redraw": true
              },
              "fromcurrent": true,
              "mode": "immediate",
              "transition": {
               "duration": 0,
               "easing": "linear"
              }
             }
            ],
            "label": "2024-08-16T00:00:00.000Z",
            "method": "animate"
           },
           {
            "args": [
             [
              "2024-08-16T06:00:00.000Z"
             ],
             {
              "frame": {
               "duration": 0,
               "redraw": true
              },
              "fromcurrent": true,
              "mode": "immediate",
              "transition": {
               "duration": 0,
               "easing": "linear"
              }
             }
            ],
            "label": "2024-08-16T06:00:00.000Z",
            "method": "animate"
           },
           {
            "args": [
             [
              "2024-08-16T12:00:00.000Z"
             ],
             {
              "frame": {
               "duration": 0,
               "redraw": true
              },
              "fromcurrent": true,
              "mode": "immediate",
              "transition": {
               "duration": 0,
               "easing": "linear"
              }
             }
            ],
            "label": "2024-08-16T12:00:00.000Z",
            "method": "animate"
           },
           {
            "args": [
             [
              "2024-08-16T18:00:00.000Z"
             ],
             {
              "frame": {
               "duration": 0,
               "redraw": true
              },
              "fromcurrent": true,
              "mode": "immediate",
              "transition": {
               "duration": 0,
               "easing": "linear"
              }
             }
            ],
            "label": "2024-08-16T18:00:00.000Z",
            "method": "animate"
           },
           {
            "args": [
             [
              "2024-08-17T00:00:00.000Z"
             ],
             {
              "frame": {
               "duration": 0,
               "redraw": true
              },
              "fromcurrent": true,
              "mode": "immediate",
              "transition": {
               "duration": 0,
               "easing": "linear"
              }
             }
            ],
            "label": "2024-08-17T00:00:00.000Z",
            "method": "animate"
           },
           {
            "args": [
             [
              "2024-08-17T06:00:00.000Z"
             ],
             {
              "frame": {
               "duration": 0,
               "redraw": true
              },
              "fromcurrent": true,
              "mode": "immediate",
              "transition": {
               "duration": 0,
               "easing": "linear"
              }
             }
            ],
            "label": "2024-08-17T06:00:00.000Z",
            "method": "animate"
           },
           {
            "args": [
             [
              "2024-08-17T12:00:00.000Z"
             ],
             {
              "frame": {
               "duration": 0,
               "redraw": true
              },
              "fromcurrent": true,
              "mode": "immediate",
              "transition": {
               "duration": 0,
               "easing": "linear"
              }
             }
            ],
            "label": "2024-08-17T12:00:00.000Z",
            "method": "animate"
           },
           {
            "args": [
             [
              "2024-08-17T18:00:00.000Z"
             ],
             {
              "frame": {
               "duration": 0,
               "redraw": true
              },
              "fromcurrent": true,
              "mode": "immediate",
              "transition": {
               "duration": 0,
               "easing": "linear"
              }
             }
            ],
            "label": "2024-08-17T18:00:00.000Z",
            "method": "animate"
           },
           {
            "args": [
             [
              "2024-08-18T00:00:00.000Z"
             ],
             {
              "frame": {
               "duration": 0,
               "redraw": true
              },
              "fromcurrent": true,
              "mode": "immediate",
              "transition": {
               "duration": 0,
               "easing": "linear"
              }
             }
            ],
            "label": "2024-08-18T00:00:00.000Z",
            "method": "animate"
           },
           {
            "args": [
             [
              "2024-08-18T06:00:00.000Z"
             ],
             {
              "frame": {
               "duration": 0,
               "redraw": true
              },
              "fromcurrent": true,
              "mode": "immediate",
              "transition": {
               "duration": 0,
               "easing": "linear"
              }
             }
            ],
            "label": "2024-08-18T06:00:00.000Z",
            "method": "animate"
           },
           {
            "args": [
             [
              "2024-08-18T12:00:00.000Z"
             ],
             {
              "frame": {
               "duration": 0,
               "redraw": true
              },
              "fromcurrent": true,
              "mode": "immediate",
              "transition": {
               "duration": 0,
               "easing": "linear"
              }
             }
            ],
            "label": "2024-08-18T12:00:00.000Z",
            "method": "animate"
           },
           {
            "args": [
             [
              "2024-08-18T18:00:00.000Z"
             ],
             {
              "frame": {
               "duration": 0,
               "redraw": true
              },
              "fromcurrent": true,
              "mode": "immediate",
              "transition": {
               "duration": 0,
               "easing": "linear"
              }
             }
            ],
            "label": "2024-08-18T18:00:00.000Z",
            "method": "animate"
           },
           {
            "args": [
             [
              "2024-08-19T00:00:00.000Z"
             ],
             {
              "frame": {
               "duration": 0,
               "redraw": true
              },
              "fromcurrent": true,
              "mode": "immediate",
              "transition": {
               "duration": 0,
               "easing": "linear"
              }
             }
            ],
            "label": "2024-08-19T00:00:00.000Z",
            "method": "animate"
           },
           {
            "args": [
             [
              "2024-08-19T06:00:00.000Z"
             ],
             {
              "frame": {
               "duration": 0,
               "redraw": true
              },
              "fromcurrent": true,
              "mode": "immediate",
              "transition": {
               "duration": 0,
               "easing": "linear"
              }
             }
            ],
            "label": "2024-08-19T06:00:00.000Z",
            "method": "animate"
           },
           {
            "args": [
             [
              "2024-08-19T12:00:00.000Z"
             ],
             {
              "frame": {
               "duration": 0,
               "redraw": true
              },
              "fromcurrent": true,
              "mode": "immediate",
              "transition": {
               "duration": 0,
               "easing": "linear"
              }
             }
            ],
            "label": "2024-08-19T12:00:00.000Z",
            "method": "animate"
           },
           {
            "args": [
             [
              "2024-08-19T18:00:00.000Z"
             ],
             {
              "frame": {
               "duration": 0,
               "redraw": true
              },
              "fromcurrent": true,
              "mode": "immediate",
              "transition": {
               "duration": 0,
               "easing": "linear"
              }
             }
            ],
            "label": "2024-08-19T18:00:00.000Z",
            "method": "animate"
           },
           {
            "args": [
             [
              "2024-08-20T00:00:00.000Z"
             ],
             {
              "frame": {
               "duration": 0,
               "redraw": true
              },
              "fromcurrent": true,
              "mode": "immediate",
              "transition": {
               "duration": 0,
               "easing": "linear"
              }
             }
            ],
            "label": "2024-08-20T00:00:00.000Z",
            "method": "animate"
           },
           {
            "args": [
             [
              "2024-08-20T06:00:00.000Z"
             ],
             {
              "frame": {
               "duration": 0,
               "redraw": true
              },
              "fromcurrent": true,
              "mode": "immediate",
              "transition": {
               "duration": 0,
               "easing": "linear"
              }
             }
            ],
            "label": "2024-08-20T06:00:00.000Z",
            "method": "animate"
           },
           {
            "args": [
             [
              "2024-08-20T12:00:00.000Z"
             ],
             {
              "frame": {
               "duration": 0,
               "redraw": true
              },
              "fromcurrent": true,
              "mode": "immediate",
              "transition": {
               "duration": 0,
               "easing": "linear"
              }
             }
            ],
            "label": "2024-08-20T12:00:00.000Z",
            "method": "animate"
           },
           {
            "args": [
             [
              "2024-08-20T18:00:00.000Z"
             ],
             {
              "frame": {
               "duration": 0,
               "redraw": true
              },
              "fromcurrent": true,
              "mode": "immediate",
              "transition": {
               "duration": 0,
               "easing": "linear"
              }
             }
            ],
            "label": "2024-08-20T18:00:00.000Z",
            "method": "animate"
           },
           {
            "args": [
             [
              "2024-08-21T00:00:00.000Z"
             ],
             {
              "frame": {
               "duration": 0,
               "redraw": true
              },
              "fromcurrent": true,
              "mode": "immediate",
              "transition": {
               "duration": 0,
               "easing": "linear"
              }
             }
            ],
            "label": "2024-08-21T00:00:00.000Z",
            "method": "animate"
           },
           {
            "args": [
             [
              "2024-08-21T06:00:00.000Z"
             ],
             {
              "frame": {
               "duration": 0,
               "redraw": true
              },
              "fromcurrent": true,
              "mode": "immediate",
              "transition": {
               "duration": 0,
               "easing": "linear"
              }
             }
            ],
            "label": "2024-08-21T06:00:00.000Z",
            "method": "animate"
           },
           {
            "args": [
             [
              "2024-08-21T12:00:00.000Z"
             ],
             {
              "frame": {
               "duration": 0,
               "redraw": true
              },
              "fromcurrent": true,
              "mode": "immediate",
              "transition": {
               "duration": 0,
               "easing": "linear"
              }
             }
            ],
            "label": "2024-08-21T12:00:00.000Z",
            "method": "animate"
           },
           {
            "args": [
             [
              "2024-08-21T18:00:00.000Z"
             ],
             {
              "frame": {
               "duration": 0,
               "redraw": true
              },
              "fromcurrent": true,
              "mode": "immediate",
              "transition": {
               "duration": 0,
               "easing": "linear"
              }
             }
            ],
            "label": "2024-08-21T18:00:00.000Z",
            "method": "animate"
           },
           {
            "args": [
             [
              "2024-08-22T00:00:00.000Z"
             ],
             {
              "frame": {
               "duration": 0,
               "redraw": true
              },
              "fromcurrent": true,
              "mode": "immediate",
              "transition": {
               "duration": 0,
               "easing": "linear"
              }
             }
            ],
            "label": "2024-08-22T00:00:00.000Z",
            "method": "animate"
           },
           {
            "args": [
             [
              "2024-08-22T06:00:00.000Z"
             ],
             {
              "frame": {
               "duration": 0,
               "redraw": true
              },
              "fromcurrent": true,
              "mode": "immediate",
              "transition": {
               "duration": 0,
               "easing": "linear"
              }
             }
            ],
            "label": "2024-08-22T06:00:00.000Z",
            "method": "animate"
           },
           {
            "args": [
             [
              "2024-08-22T12:00:00.000Z"
             ],
             {
              "frame": {
               "duration": 0,
               "redraw": true
              },
              "fromcurrent": true,
              "mode": "immediate",
              "transition": {
               "duration": 0,
               "easing": "linear"
              }
             }
            ],
            "label": "2024-08-22T12:00:00.000Z",
            "method": "animate"
           },
           {
            "args": [
             [
              "2024-08-22T18:00:00.000Z"
             ],
             {
              "frame": {
               "duration": 0,
               "redraw": true
              },
              "fromcurrent": true,
              "mode": "immediate",
              "transition": {
               "duration": 0,
               "easing": "linear"
              }
             }
            ],
            "label": "2024-08-22T18:00:00.000Z",
            "method": "animate"
           },
           {
            "args": [
             [
              "2024-08-23T00:00:00.000Z"
             ],
             {
              "frame": {
               "duration": 0,
               "redraw": true
              },
              "fromcurrent": true,
              "mode": "immediate",
              "transition": {
               "duration": 0,
               "easing": "linear"
              }
             }
            ],
            "label": "2024-08-23T00:00:00.000Z",
            "method": "animate"
           },
           {
            "args": [
             [
              "2024-08-23T06:00:00.000Z"
             ],
             {
              "frame": {
               "duration": 0,
               "redraw": true
              },
              "fromcurrent": true,
              "mode": "immediate",
              "transition": {
               "duration": 0,
               "easing": "linear"
              }
             }
            ],
            "label": "2024-08-23T06:00:00.000Z",
            "method": "animate"
           },
           {
            "args": [
             [
              "2024-08-23T12:00:00.000Z"
             ],
             {
              "frame": {
               "duration": 0,
               "redraw": true
              },
              "fromcurrent": true,
              "mode": "immediate",
              "transition": {
               "duration": 0,
               "easing": "linear"
              }
             }
            ],
            "label": "2024-08-23T12:00:00.000Z",
            "method": "animate"
           },
           {
            "args": [
             [
              "2024-08-23T18:00:00.000Z"
             ],
             {
              "frame": {
               "duration": 0,
               "redraw": true
              },
              "fromcurrent": true,
              "mode": "immediate",
              "transition": {
               "duration": 0,
               "easing": "linear"
              }
             }
            ],
            "label": "2024-08-23T18:00:00.000Z",
            "method": "animate"
           },
           {
            "args": [
             [
              "2024-08-24T00:00:00.000Z"
             ],
             {
              "frame": {
               "duration": 0,
               "redraw": true
              },
              "fromcurrent": true,
              "mode": "immediate",
              "transition": {
               "duration": 0,
               "easing": "linear"
              }
             }
            ],
            "label": "2024-08-24T00:00:00.000Z",
            "method": "animate"
           },
           {
            "args": [
             [
              "2024-08-24T06:00:00.000Z"
             ],
             {
              "frame": {
               "duration": 0,
               "redraw": true
              },
              "fromcurrent": true,
              "mode": "immediate",
              "transition": {
               "duration": 0,
               "easing": "linear"
              }
             }
            ],
            "label": "2024-08-24T06:00:00.000Z",
            "method": "animate"
           },
           {
            "args": [
             [
              "2024-08-24T12:00:00.000Z"
             ],
             {
              "frame": {
               "duration": 0,
               "redraw": true
              },
              "fromcurrent": true,
              "mode": "immediate",
              "transition": {
               "duration": 0,
               "easing": "linear"
              }
             }
            ],
            "label": "2024-08-24T12:00:00.000Z",
            "method": "animate"
           },
           {
            "args": [
             [
              "2024-08-24T18:00:00.000Z"
             ],
             {
              "frame": {
               "duration": 0,
               "redraw": true
              },
              "fromcurrent": true,
              "mode": "immediate",
              "transition": {
               "duration": 0,
               "easing": "linear"
              }
             }
            ],
            "label": "2024-08-24T18:00:00.000Z",
            "method": "animate"
           },
           {
            "args": [
             [
              "2024-08-25T00:00:00.000Z"
             ],
             {
              "frame": {
               "duration": 0,
               "redraw": true
              },
              "fromcurrent": true,
              "mode": "immediate",
              "transition": {
               "duration": 0,
               "easing": "linear"
              }
             }
            ],
            "label": "2024-08-25T00:00:00.000Z",
            "method": "animate"
           },
           {
            "args": [
             [
              "2024-08-25T06:00:00.000Z"
             ],
             {
              "frame": {
               "duration": 0,
               "redraw": true
              },
              "fromcurrent": true,
              "mode": "immediate",
              "transition": {
               "duration": 0,
               "easing": "linear"
              }
             }
            ],
            "label": "2024-08-25T06:00:00.000Z",
            "method": "animate"
           },
           {
            "args": [
             [
              "2024-08-25T12:00:00.000Z"
             ],
             {
              "frame": {
               "duration": 0,
               "redraw": true
              },
              "fromcurrent": true,
              "mode": "immediate",
              "transition": {
               "duration": 0,
               "easing": "linear"
              }
             }
            ],
            "label": "2024-08-25T12:00:00.000Z",
            "method": "animate"
           },
           {
            "args": [
             [
              "2024-08-25T18:00:00.000Z"
             ],
             {
              "frame": {
               "duration": 0,
               "redraw": true
              },
              "fromcurrent": true,
              "mode": "immediate",
              "transition": {
               "duration": 0,
               "easing": "linear"
              }
             }
            ],
            "label": "2024-08-25T18:00:00.000Z",
            "method": "animate"
           },
           {
            "args": [
             [
              "2024-08-26T00:00:00.000Z"
             ],
             {
              "frame": {
               "duration": 0,
               "redraw": true
              },
              "fromcurrent": true,
              "mode": "immediate",
              "transition": {
               "duration": 0,
               "easing": "linear"
              }
             }
            ],
            "label": "2024-08-26T00:00:00.000Z",
            "method": "animate"
           },
           {
            "args": [
             [
              "2024-08-26T06:00:00.000Z"
             ],
             {
              "frame": {
               "duration": 0,
               "redraw": true
              },
              "fromcurrent": true,
              "mode": "immediate",
              "transition": {
               "duration": 0,
               "easing": "linear"
              }
             }
            ],
            "label": "2024-08-26T06:00:00.000Z",
            "method": "animate"
           },
           {
            "args": [
             [
              "2024-08-26T12:00:00.000Z"
             ],
             {
              "frame": {
               "duration": 0,
               "redraw": true
              },
              "fromcurrent": true,
              "mode": "immediate",
              "transition": {
               "duration": 0,
               "easing": "linear"
              }
             }
            ],
            "label": "2024-08-26T12:00:00.000Z",
            "method": "animate"
           },
           {
            "args": [
             [
              "2024-08-26T18:00:00.000Z"
             ],
             {
              "frame": {
               "duration": 0,
               "redraw": true
              },
              "fromcurrent": true,
              "mode": "immediate",
              "transition": {
               "duration": 0,
               "easing": "linear"
              }
             }
            ],
            "label": "2024-08-26T18:00:00.000Z",
            "method": "animate"
           },
           {
            "args": [
             [
              "2024-08-27T00:00:00.000Z"
             ],
             {
              "frame": {
               "duration": 0,
               "redraw": true
              },
              "fromcurrent": true,
              "mode": "immediate",
              "transition": {
               "duration": 0,
               "easing": "linear"
              }
             }
            ],
            "label": "2024-08-27T00:00:00.000Z",
            "method": "animate"
           },
           {
            "args": [
             [
              "2024-08-27T06:00:00.000Z"
             ],
             {
              "frame": {
               "duration": 0,
               "redraw": true
              },
              "fromcurrent": true,
              "mode": "immediate",
              "transition": {
               "duration": 0,
               "easing": "linear"
              }
             }
            ],
            "label": "2024-08-27T06:00:00.000Z",
            "method": "animate"
           },
           {
            "args": [
             [
              "2024-08-27T12:00:00.000Z"
             ],
             {
              "frame": {
               "duration": 0,
               "redraw": true
              },
              "fromcurrent": true,
              "mode": "immediate",
              "transition": {
               "duration": 0,
               "easing": "linear"
              }
             }
            ],
            "label": "2024-08-27T12:00:00.000Z",
            "method": "animate"
           },
           {
            "args": [
             [
              "2024-08-27T18:00:00.000Z"
             ],
             {
              "frame": {
               "duration": 0,
               "redraw": true
              },
              "fromcurrent": true,
              "mode": "immediate",
              "transition": {
               "duration": 0,
               "easing": "linear"
              }
             }
            ],
            "label": "2024-08-27T18:00:00.000Z",
            "method": "animate"
           },
           {
            "args": [
             [
              "2024-08-28T00:00:00.000Z"
             ],
             {
              "frame": {
               "duration": 0,
               "redraw": true
              },
              "fromcurrent": true,
              "mode": "immediate",
              "transition": {
               "duration": 0,
               "easing": "linear"
              }
             }
            ],
            "label": "2024-08-28T00:00:00.000Z",
            "method": "animate"
           },
           {
            "args": [
             [
              "2024-08-28T06:00:00.000Z"
             ],
             {
              "frame": {
               "duration": 0,
               "redraw": true
              },
              "fromcurrent": true,
              "mode": "immediate",
              "transition": {
               "duration": 0,
               "easing": "linear"
              }
             }
            ],
            "label": "2024-08-28T06:00:00.000Z",
            "method": "animate"
           },
           {
            "args": [
             [
              "2024-08-28T12:00:00.000Z"
             ],
             {
              "frame": {
               "duration": 0,
               "redraw": true
              },
              "fromcurrent": true,
              "mode": "immediate",
              "transition": {
               "duration": 0,
               "easing": "linear"
              }
             }
            ],
            "label": "2024-08-28T12:00:00.000Z",
            "method": "animate"
           },
           {
            "args": [
             [
              "2024-08-28T18:00:00.000Z"
             ],
             {
              "frame": {
               "duration": 0,
               "redraw": true
              },
              "fromcurrent": true,
              "mode": "immediate",
              "transition": {
               "duration": 0,
               "easing": "linear"
              }
             }
            ],
            "label": "2024-08-28T18:00:00.000Z",
            "method": "animate"
           },
           {
            "args": [
             [
              "2024-08-29T00:00:00.000Z"
             ],
             {
              "frame": {
               "duration": 0,
               "redraw": true
              },
              "fromcurrent": true,
              "mode": "immediate",
              "transition": {
               "duration": 0,
               "easing": "linear"
              }
             }
            ],
            "label": "2024-08-29T00:00:00.000Z",
            "method": "animate"
           },
           {
            "args": [
             [
              "2024-08-29T06:00:00.000Z"
             ],
             {
              "frame": {
               "duration": 0,
               "redraw": true
              },
              "fromcurrent": true,
              "mode": "immediate",
              "transition": {
               "duration": 0,
               "easing": "linear"
              }
             }
            ],
            "label": "2024-08-29T06:00:00.000Z",
            "method": "animate"
           },
           {
            "args": [
             [
              "2024-08-29T12:00:00.000Z"
             ],
             {
              "frame": {
               "duration": 0,
               "redraw": true
              },
              "fromcurrent": true,
              "mode": "immediate",
              "transition": {
               "duration": 0,
               "easing": "linear"
              }
             }
            ],
            "label": "2024-08-29T12:00:00.000Z",
            "method": "animate"
           },
           {
            "args": [
             [
              "2024-08-29T18:00:00.000Z"
             ],
             {
              "frame": {
               "duration": 0,
               "redraw": true
              },
              "fromcurrent": true,
              "mode": "immediate",
              "transition": {
               "duration": 0,
               "easing": "linear"
              }
             }
            ],
            "label": "2024-08-29T18:00:00.000Z",
            "method": "animate"
           },
           {
            "args": [
             [
              "2024-08-30T00:00:00.000Z"
             ],
             {
              "frame": {
               "duration": 0,
               "redraw": true
              },
              "fromcurrent": true,
              "mode": "immediate",
              "transition": {
               "duration": 0,
               "easing": "linear"
              }
             }
            ],
            "label": "2024-08-30T00:00:00.000Z",
            "method": "animate"
           },
           {
            "args": [
             [
              "2024-08-30T06:00:00.000Z"
             ],
             {
              "frame": {
               "duration": 0,
               "redraw": true
              },
              "fromcurrent": true,
              "mode": "immediate",
              "transition": {
               "duration": 0,
               "easing": "linear"
              }
             }
            ],
            "label": "2024-08-30T06:00:00.000Z",
            "method": "animate"
           },
           {
            "args": [
             [
              "2024-08-30T12:00:00.000Z"
             ],
             {
              "frame": {
               "duration": 0,
               "redraw": true
              },
              "fromcurrent": true,
              "mode": "immediate",
              "transition": {
               "duration": 0,
               "easing": "linear"
              }
             }
            ],
            "label": "2024-08-30T12:00:00.000Z",
            "method": "animate"
           },
           {
            "args": [
             [
              "2024-08-30T18:00:00.000Z"
             ],
             {
              "frame": {
               "duration": 0,
               "redraw": true
              },
              "fromcurrent": true,
              "mode": "immediate",
              "transition": {
               "duration": 0,
               "easing": "linear"
              }
             }
            ],
            "label": "2024-08-30T18:00:00.000Z",
            "method": "animate"
           },
           {
            "args": [
             [
              "2024-08-31T00:00:00.000Z"
             ],
             {
              "frame": {
               "duration": 0,
               "redraw": true
              },
              "fromcurrent": true,
              "mode": "immediate",
              "transition": {
               "duration": 0,
               "easing": "linear"
              }
             }
            ],
            "label": "2024-08-31T00:00:00.000Z",
            "method": "animate"
           },
           {
            "args": [
             [
              "2024-08-31T06:00:00.000Z"
             ],
             {
              "frame": {
               "duration": 0,
               "redraw": true
              },
              "fromcurrent": true,
              "mode": "immediate",
              "transition": {
               "duration": 0,
               "easing": "linear"
              }
             }
            ],
            "label": "2024-08-31T06:00:00.000Z",
            "method": "animate"
           },
           {
            "args": [
             [
              "2024-08-31T12:00:00.000Z"
             ],
             {
              "frame": {
               "duration": 0,
               "redraw": true
              },
              "fromcurrent": true,
              "mode": "immediate",
              "transition": {
               "duration": 0,
               "easing": "linear"
              }
             }
            ],
            "label": "2024-08-31T12:00:00.000Z",
            "method": "animate"
           },
           {
            "args": [
             [
              "2024-08-31T18:00:00.000Z"
             ],
             {
              "frame": {
               "duration": 0,
               "redraw": true
              },
              "fromcurrent": true,
              "mode": "immediate",
              "transition": {
               "duration": 0,
               "easing": "linear"
              }
             }
            ],
            "label": "2024-08-31T18:00:00.000Z",
            "method": "animate"
           },
           {
            "args": [
             [
              "2024-09-01T00:00:00.000Z"
             ],
             {
              "frame": {
               "duration": 0,
               "redraw": true
              },
              "fromcurrent": true,
              "mode": "immediate",
              "transition": {
               "duration": 0,
               "easing": "linear"
              }
             }
            ],
            "label": "2024-09-01T00:00:00.000Z",
            "method": "animate"
           },
           {
            "args": [
             [
              "2024-09-01T06:00:00.000Z"
             ],
             {
              "frame": {
               "duration": 0,
               "redraw": true
              },
              "fromcurrent": true,
              "mode": "immediate",
              "transition": {
               "duration": 0,
               "easing": "linear"
              }
             }
            ],
            "label": "2024-09-01T06:00:00.000Z",
            "method": "animate"
           },
           {
            "args": [
             [
              "2024-09-01T12:00:00.000Z"
             ],
             {
              "frame": {
               "duration": 0,
               "redraw": true
              },
              "fromcurrent": true,
              "mode": "immediate",
              "transition": {
               "duration": 0,
               "easing": "linear"
              }
             }
            ],
            "label": "2024-09-01T12:00:00.000Z",
            "method": "animate"
           },
           {
            "args": [
             [
              "2024-09-01T18:00:00.000Z"
             ],
             {
              "frame": {
               "duration": 0,
               "redraw": true
              },
              "fromcurrent": true,
              "mode": "immediate",
              "transition": {
               "duration": 0,
               "easing": "linear"
              }
             }
            ],
            "label": "2024-09-01T18:00:00.000Z",
            "method": "animate"
           },
           {
            "args": [
             [
              "2024-09-02T00:00:00.000Z"
             ],
             {
              "frame": {
               "duration": 0,
               "redraw": true
              },
              "fromcurrent": true,
              "mode": "immediate",
              "transition": {
               "duration": 0,
               "easing": "linear"
              }
             }
            ],
            "label": "2024-09-02T00:00:00.000Z",
            "method": "animate"
           },
           {
            "args": [
             [
              "2024-09-02T06:00:00.000Z"
             ],
             {
              "frame": {
               "duration": 0,
               "redraw": true
              },
              "fromcurrent": true,
              "mode": "immediate",
              "transition": {
               "duration": 0,
               "easing": "linear"
              }
             }
            ],
            "label": "2024-09-02T06:00:00.000Z",
            "method": "animate"
           },
           {
            "args": [
             [
              "2024-09-02T12:00:00.000Z"
             ],
             {
              "frame": {
               "duration": 0,
               "redraw": true
              },
              "fromcurrent": true,
              "mode": "immediate",
              "transition": {
               "duration": 0,
               "easing": "linear"
              }
             }
            ],
            "label": "2024-09-02T12:00:00.000Z",
            "method": "animate"
           },
           {
            "args": [
             [
              "2024-09-02T18:00:00.000Z"
             ],
             {
              "frame": {
               "duration": 0,
               "redraw": true
              },
              "fromcurrent": true,
              "mode": "immediate",
              "transition": {
               "duration": 0,
               "easing": "linear"
              }
             }
            ],
            "label": "2024-09-02T18:00:00.000Z",
            "method": "animate"
           },
           {
            "args": [
             [
              "2024-09-03T00:00:00.000Z"
             ],
             {
              "frame": {
               "duration": 0,
               "redraw": true
              },
              "fromcurrent": true,
              "mode": "immediate",
              "transition": {
               "duration": 0,
               "easing": "linear"
              }
             }
            ],
            "label": "2024-09-03T00:00:00.000Z",
            "method": "animate"
           },
           {
            "args": [
             [
              "2024-09-03T06:00:00.000Z"
             ],
             {
              "frame": {
               "duration": 0,
               "redraw": true
              },
              "fromcurrent": true,
              "mode": "immediate",
              "transition": {
               "duration": 0,
               "easing": "linear"
              }
             }
            ],
            "label": "2024-09-03T06:00:00.000Z",
            "method": "animate"
           },
           {
            "args": [
             [
              "2024-09-03T12:00:00.000Z"
             ],
             {
              "frame": {
               "duration": 0,
               "redraw": true
              },
              "fromcurrent": true,
              "mode": "immediate",
              "transition": {
               "duration": 0,
               "easing": "linear"
              }
             }
            ],
            "label": "2024-09-03T12:00:00.000Z",
            "method": "animate"
           },
           {
            "args": [
             [
              "2024-09-03T18:00:00.000Z"
             ],
             {
              "frame": {
               "duration": 0,
               "redraw": true
              },
              "fromcurrent": true,
              "mode": "immediate",
              "transition": {
               "duration": 0,
               "easing": "linear"
              }
             }
            ],
            "label": "2024-09-03T18:00:00.000Z",
            "method": "animate"
           },
           {
            "args": [
             [
              "2024-09-04T00:00:00.000Z"
             ],
             {
              "frame": {
               "duration": 0,
               "redraw": true
              },
              "fromcurrent": true,
              "mode": "immediate",
              "transition": {
               "duration": 0,
               "easing": "linear"
              }
             }
            ],
            "label": "2024-09-04T00:00:00.000Z",
            "method": "animate"
           },
           {
            "args": [
             [
              "2024-09-04T06:00:00.000Z"
             ],
             {
              "frame": {
               "duration": 0,
               "redraw": true
              },
              "fromcurrent": true,
              "mode": "immediate",
              "transition": {
               "duration": 0,
               "easing": "linear"
              }
             }
            ],
            "label": "2024-09-04T06:00:00.000Z",
            "method": "animate"
           },
           {
            "args": [
             [
              "2024-09-04T12:00:00.000Z"
             ],
             {
              "frame": {
               "duration": 0,
               "redraw": true
              },
              "fromcurrent": true,
              "mode": "immediate",
              "transition": {
               "duration": 0,
               "easing": "linear"
              }
             }
            ],
            "label": "2024-09-04T12:00:00.000Z",
            "method": "animate"
           },
           {
            "args": [
             [
              "2024-09-04T18:00:00.000Z"
             ],
             {
              "frame": {
               "duration": 0,
               "redraw": true
              },
              "fromcurrent": true,
              "mode": "immediate",
              "transition": {
               "duration": 0,
               "easing": "linear"
              }
             }
            ],
            "label": "2024-09-04T18:00:00.000Z",
            "method": "animate"
           },
           {
            "args": [
             [
              "2024-09-05T00:00:00.000Z"
             ],
             {
              "frame": {
               "duration": 0,
               "redraw": true
              },
              "fromcurrent": true,
              "mode": "immediate",
              "transition": {
               "duration": 0,
               "easing": "linear"
              }
             }
            ],
            "label": "2024-09-05T00:00:00.000Z",
            "method": "animate"
           },
           {
            "args": [
             [
              "2024-09-05T06:00:00.000Z"
             ],
             {
              "frame": {
               "duration": 0,
               "redraw": true
              },
              "fromcurrent": true,
              "mode": "immediate",
              "transition": {
               "duration": 0,
               "easing": "linear"
              }
             }
            ],
            "label": "2024-09-05T06:00:00.000Z",
            "method": "animate"
           },
           {
            "args": [
             [
              "2024-09-05T12:00:00.000Z"
             ],
             {
              "frame": {
               "duration": 0,
               "redraw": true
              },
              "fromcurrent": true,
              "mode": "immediate",
              "transition": {
               "duration": 0,
               "easing": "linear"
              }
             }
            ],
            "label": "2024-09-05T12:00:00.000Z",
            "method": "animate"
           },
           {
            "args": [
             [
              "2024-09-05T18:00:00.000Z"
             ],
             {
              "frame": {
               "duration": 0,
               "redraw": true
              },
              "fromcurrent": true,
              "mode": "immediate",
              "transition": {
               "duration": 0,
               "easing": "linear"
              }
             }
            ],
            "label": "2024-09-05T18:00:00.000Z",
            "method": "animate"
           },
           {
            "args": [
             [
              "2024-09-06T00:00:00.000Z"
             ],
             {
              "frame": {
               "duration": 0,
               "redraw": true
              },
              "fromcurrent": true,
              "mode": "immediate",
              "transition": {
               "duration": 0,
               "easing": "linear"
              }
             }
            ],
            "label": "2024-09-06T00:00:00.000Z",
            "method": "animate"
           },
           {
            "args": [
             [
              "2024-09-06T06:00:00.000Z"
             ],
             {
              "frame": {
               "duration": 0,
               "redraw": true
              },
              "fromcurrent": true,
              "mode": "immediate",
              "transition": {
               "duration": 0,
               "easing": "linear"
              }
             }
            ],
            "label": "2024-09-06T06:00:00.000Z",
            "method": "animate"
           },
           {
            "args": [
             [
              "2024-09-06T12:00:00.000Z"
             ],
             {
              "frame": {
               "duration": 0,
               "redraw": true
              },
              "fromcurrent": true,
              "mode": "immediate",
              "transition": {
               "duration": 0,
               "easing": "linear"
              }
             }
            ],
            "label": "2024-09-06T12:00:00.000Z",
            "method": "animate"
           },
           {
            "args": [
             [
              "2024-09-06T18:00:00.000Z"
             ],
             {
              "frame": {
               "duration": 0,
               "redraw": true
              },
              "fromcurrent": true,
              "mode": "immediate",
              "transition": {
               "duration": 0,
               "easing": "linear"
              }
             }
            ],
            "label": "2024-09-06T18:00:00.000Z",
            "method": "animate"
           },
           {
            "args": [
             [
              "2024-09-07T00:00:00.000Z"
             ],
             {
              "frame": {
               "duration": 0,
               "redraw": true
              },
              "fromcurrent": true,
              "mode": "immediate",
              "transition": {
               "duration": 0,
               "easing": "linear"
              }
             }
            ],
            "label": "2024-09-07T00:00:00.000Z",
            "method": "animate"
           },
           {
            "args": [
             [
              "2024-09-07T06:00:00.000Z"
             ],
             {
              "frame": {
               "duration": 0,
               "redraw": true
              },
              "fromcurrent": true,
              "mode": "immediate",
              "transition": {
               "duration": 0,
               "easing": "linear"
              }
             }
            ],
            "label": "2024-09-07T06:00:00.000Z",
            "method": "animate"
           },
           {
            "args": [
             [
              "2024-09-07T12:00:00.000Z"
             ],
             {
              "frame": {
               "duration": 0,
               "redraw": true
              },
              "fromcurrent": true,
              "mode": "immediate",
              "transition": {
               "duration": 0,
               "easing": "linear"
              }
             }
            ],
            "label": "2024-09-07T12:00:00.000Z",
            "method": "animate"
           },
           {
            "args": [
             [
              "2024-09-07T18:00:00.000Z"
             ],
             {
              "frame": {
               "duration": 0,
               "redraw": true
              },
              "fromcurrent": true,
              "mode": "immediate",
              "transition": {
               "duration": 0,
               "easing": "linear"
              }
             }
            ],
            "label": "2024-09-07T18:00:00.000Z",
            "method": "animate"
           },
           {
            "args": [
             [
              "2024-09-08T00:00:00.000Z"
             ],
             {
              "frame": {
               "duration": 0,
               "redraw": true
              },
              "fromcurrent": true,
              "mode": "immediate",
              "transition": {
               "duration": 0,
               "easing": "linear"
              }
             }
            ],
            "label": "2024-09-08T00:00:00.000Z",
            "method": "animate"
           },
           {
            "args": [
             [
              "2024-09-08T06:00:00.000Z"
             ],
             {
              "frame": {
               "duration": 0,
               "redraw": true
              },
              "fromcurrent": true,
              "mode": "immediate",
              "transition": {
               "duration": 0,
               "easing": "linear"
              }
             }
            ],
            "label": "2024-09-08T06:00:00.000Z",
            "method": "animate"
           },
           {
            "args": [
             [
              "2024-09-08T12:00:00.000Z"
             ],
             {
              "frame": {
               "duration": 0,
               "redraw": true
              },
              "fromcurrent": true,
              "mode": "immediate",
              "transition": {
               "duration": 0,
               "easing": "linear"
              }
             }
            ],
            "label": "2024-09-08T12:00:00.000Z",
            "method": "animate"
           },
           {
            "args": [
             [
              "2024-09-08T18:00:00.000Z"
             ],
             {
              "frame": {
               "duration": 0,
               "redraw": true
              },
              "fromcurrent": true,
              "mode": "immediate",
              "transition": {
               "duration": 0,
               "easing": "linear"
              }
             }
            ],
            "label": "2024-09-08T18:00:00.000Z",
            "method": "animate"
           },
           {
            "args": [
             [
              "2024-09-09T00:00:00.000Z"
             ],
             {
              "frame": {
               "duration": 0,
               "redraw": true
              },
              "fromcurrent": true,
              "mode": "immediate",
              "transition": {
               "duration": 0,
               "easing": "linear"
              }
             }
            ],
            "label": "2024-09-09T00:00:00.000Z",
            "method": "animate"
           },
           {
            "args": [
             [
              "2024-09-09T06:00:00.000Z"
             ],
             {
              "frame": {
               "duration": 0,
               "redraw": true
              },
              "fromcurrent": true,
              "mode": "immediate",
              "transition": {
               "duration": 0,
               "easing": "linear"
              }
             }
            ],
            "label": "2024-09-09T06:00:00.000Z",
            "method": "animate"
           },
           {
            "args": [
             [
              "2024-09-09T12:00:00.000Z"
             ],
             {
              "frame": {
               "duration": 0,
               "redraw": true
              },
              "fromcurrent": true,
              "mode": "immediate",
              "transition": {
               "duration": 0,
               "easing": "linear"
              }
             }
            ],
            "label": "2024-09-09T12:00:00.000Z",
            "method": "animate"
           },
           {
            "args": [
             [
              "2024-09-09T18:00:00.000Z"
             ],
             {
              "frame": {
               "duration": 0,
               "redraw": true
              },
              "fromcurrent": true,
              "mode": "immediate",
              "transition": {
               "duration": 0,
               "easing": "linear"
              }
             }
            ],
            "label": "2024-09-09T18:00:00.000Z",
            "method": "animate"
           },
           {
            "args": [
             [
              "2024-09-10T00:00:00.000Z"
             ],
             {
              "frame": {
               "duration": 0,
               "redraw": true
              },
              "fromcurrent": true,
              "mode": "immediate",
              "transition": {
               "duration": 0,
               "easing": "linear"
              }
             }
            ],
            "label": "2024-09-10T00:00:00.000Z",
            "method": "animate"
           },
           {
            "args": [
             [
              "2024-09-10T06:00:00.000Z"
             ],
             {
              "frame": {
               "duration": 0,
               "redraw": true
              },
              "fromcurrent": true,
              "mode": "immediate",
              "transition": {
               "duration": 0,
               "easing": "linear"
              }
             }
            ],
            "label": "2024-09-10T06:00:00.000Z",
            "method": "animate"
           },
           {
            "args": [
             [
              "2024-09-10T12:00:00.000Z"
             ],
             {
              "frame": {
               "duration": 0,
               "redraw": true
              },
              "fromcurrent": true,
              "mode": "immediate",
              "transition": {
               "duration": 0,
               "easing": "linear"
              }
             }
            ],
            "label": "2024-09-10T12:00:00.000Z",
            "method": "animate"
           },
           {
            "args": [
             [
              "2024-09-10T18:00:00.000Z"
             ],
             {
              "frame": {
               "duration": 0,
               "redraw": true
              },
              "fromcurrent": true,
              "mode": "immediate",
              "transition": {
               "duration": 0,
               "easing": "linear"
              }
             }
            ],
            "label": "2024-09-10T18:00:00.000Z",
            "method": "animate"
           },
           {
            "args": [
             [
              "2024-09-11T00:00:00.000Z"
             ],
             {
              "frame": {
               "duration": 0,
               "redraw": true
              },
              "fromcurrent": true,
              "mode": "immediate",
              "transition": {
               "duration": 0,
               "easing": "linear"
              }
             }
            ],
            "label": "2024-09-11T00:00:00.000Z",
            "method": "animate"
           },
           {
            "args": [
             [
              "2024-09-11T06:00:00.000Z"
             ],
             {
              "frame": {
               "duration": 0,
               "redraw": true
              },
              "fromcurrent": true,
              "mode": "immediate",
              "transition": {
               "duration": 0,
               "easing": "linear"
              }
             }
            ],
            "label": "2024-09-11T06:00:00.000Z",
            "method": "animate"
           },
           {
            "args": [
             [
              "2024-09-11T12:00:00.000Z"
             ],
             {
              "frame": {
               "duration": 0,
               "redraw": true
              },
              "fromcurrent": true,
              "mode": "immediate",
              "transition": {
               "duration": 0,
               "easing": "linear"
              }
             }
            ],
            "label": "2024-09-11T12:00:00.000Z",
            "method": "animate"
           },
           {
            "args": [
             [
              "2024-09-11T18:00:00.000Z"
             ],
             {
              "frame": {
               "duration": 0,
               "redraw": true
              },
              "fromcurrent": true,
              "mode": "immediate",
              "transition": {
               "duration": 0,
               "easing": "linear"
              }
             }
            ],
            "label": "2024-09-11T18:00:00.000Z",
            "method": "animate"
           },
           {
            "args": [
             [
              "2024-09-12T00:00:00.000Z"
             ],
             {
              "frame": {
               "duration": 0,
               "redraw": true
              },
              "fromcurrent": true,
              "mode": "immediate",
              "transition": {
               "duration": 0,
               "easing": "linear"
              }
             }
            ],
            "label": "2024-09-12T00:00:00.000Z",
            "method": "animate"
           },
           {
            "args": [
             [
              "2024-09-12T06:00:00.000Z"
             ],
             {
              "frame": {
               "duration": 0,
               "redraw": true
              },
              "fromcurrent": true,
              "mode": "immediate",
              "transition": {
               "duration": 0,
               "easing": "linear"
              }
             }
            ],
            "label": "2024-09-12T06:00:00.000Z",
            "method": "animate"
           },
           {
            "args": [
             [
              "2024-09-12T12:00:00.000Z"
             ],
             {
              "frame": {
               "duration": 0,
               "redraw": true
              },
              "fromcurrent": true,
              "mode": "immediate",
              "transition": {
               "duration": 0,
               "easing": "linear"
              }
             }
            ],
            "label": "2024-09-12T12:00:00.000Z",
            "method": "animate"
           },
           {
            "args": [
             [
              "2024-09-12T18:00:00.000Z"
             ],
             {
              "frame": {
               "duration": 0,
               "redraw": true
              },
              "fromcurrent": true,
              "mode": "immediate",
              "transition": {
               "duration": 0,
               "easing": "linear"
              }
             }
            ],
            "label": "2024-09-12T18:00:00.000Z",
            "method": "animate"
           },
           {
            "args": [
             [
              "2024-09-13T00:00:00.000Z"
             ],
             {
              "frame": {
               "duration": 0,
               "redraw": true
              },
              "fromcurrent": true,
              "mode": "immediate",
              "transition": {
               "duration": 0,
               "easing": "linear"
              }
             }
            ],
            "label": "2024-09-13T00:00:00.000Z",
            "method": "animate"
           },
           {
            "args": [
             [
              "2024-09-13T06:00:00.000Z"
             ],
             {
              "frame": {
               "duration": 0,
               "redraw": true
              },
              "fromcurrent": true,
              "mode": "immediate",
              "transition": {
               "duration": 0,
               "easing": "linear"
              }
             }
            ],
            "label": "2024-09-13T06:00:00.000Z",
            "method": "animate"
           },
           {
            "args": [
             [
              "2024-09-13T12:00:00.000Z"
             ],
             {
              "frame": {
               "duration": 0,
               "redraw": true
              },
              "fromcurrent": true,
              "mode": "immediate",
              "transition": {
               "duration": 0,
               "easing": "linear"
              }
             }
            ],
            "label": "2024-09-13T12:00:00.000Z",
            "method": "animate"
           },
           {
            "args": [
             [
              "2024-09-13T18:00:00.000Z"
             ],
             {
              "frame": {
               "duration": 0,
               "redraw": true
              },
              "fromcurrent": true,
              "mode": "immediate",
              "transition": {
               "duration": 0,
               "easing": "linear"
              }
             }
            ],
            "label": "2024-09-13T18:00:00.000Z",
            "method": "animate"
           },
           {
            "args": [
             [
              "2024-09-14T00:00:00.000Z"
             ],
             {
              "frame": {
               "duration": 0,
               "redraw": true
              },
              "fromcurrent": true,
              "mode": "immediate",
              "transition": {
               "duration": 0,
               "easing": "linear"
              }
             }
            ],
            "label": "2024-09-14T00:00:00.000Z",
            "method": "animate"
           },
           {
            "args": [
             [
              "2024-09-14T06:00:00.000Z"
             ],
             {
              "frame": {
               "duration": 0,
               "redraw": true
              },
              "fromcurrent": true,
              "mode": "immediate",
              "transition": {
               "duration": 0,
               "easing": "linear"
              }
             }
            ],
            "label": "2024-09-14T06:00:00.000Z",
            "method": "animate"
           },
           {
            "args": [
             [
              "2024-09-14T12:00:00.000Z"
             ],
             {
              "frame": {
               "duration": 0,
               "redraw": true
              },
              "fromcurrent": true,
              "mode": "immediate",
              "transition": {
               "duration": 0,
               "easing": "linear"
              }
             }
            ],
            "label": "2024-09-14T12:00:00.000Z",
            "method": "animate"
           },
           {
            "args": [
             [
              "2024-09-14T18:00:00.000Z"
             ],
             {
              "frame": {
               "duration": 0,
               "redraw": true
              },
              "fromcurrent": true,
              "mode": "immediate",
              "transition": {
               "duration": 0,
               "easing": "linear"
              }
             }
            ],
            "label": "2024-09-14T18:00:00.000Z",
            "method": "animate"
           },
           {
            "args": [
             [
              "2024-09-15T00:00:00.000Z"
             ],
             {
              "frame": {
               "duration": 0,
               "redraw": true
              },
              "fromcurrent": true,
              "mode": "immediate",
              "transition": {
               "duration": 0,
               "easing": "linear"
              }
             }
            ],
            "label": "2024-09-15T00:00:00.000Z",
            "method": "animate"
           },
           {
            "args": [
             [
              "2024-09-15T06:00:00.000Z"
             ],
             {
              "frame": {
               "duration": 0,
               "redraw": true
              },
              "fromcurrent": true,
              "mode": "immediate",
              "transition": {
               "duration": 0,
               "easing": "linear"
              }
             }
            ],
            "label": "2024-09-15T06:00:00.000Z",
            "method": "animate"
           },
           {
            "args": [
             [
              "2024-09-15T12:00:00.000Z"
             ],
             {
              "frame": {
               "duration": 0,
               "redraw": true
              },
              "fromcurrent": true,
              "mode": "immediate",
              "transition": {
               "duration": 0,
               "easing": "linear"
              }
             }
            ],
            "label": "2024-09-15T12:00:00.000Z",
            "method": "animate"
           },
           {
            "args": [
             [
              "2024-09-15T18:00:00.000Z"
             ],
             {
              "frame": {
               "duration": 0,
               "redraw": true
              },
              "fromcurrent": true,
              "mode": "immediate",
              "transition": {
               "duration": 0,
               "easing": "linear"
              }
             }
            ],
            "label": "2024-09-15T18:00:00.000Z",
            "method": "animate"
           },
           {
            "args": [
             [
              "2024-09-16T00:00:00.000Z"
             ],
             {
              "frame": {
               "duration": 0,
               "redraw": true
              },
              "fromcurrent": true,
              "mode": "immediate",
              "transition": {
               "duration": 0,
               "easing": "linear"
              }
             }
            ],
            "label": "2024-09-16T00:00:00.000Z",
            "method": "animate"
           },
           {
            "args": [
             [
              "2024-09-16T06:00:00.000Z"
             ],
             {
              "frame": {
               "duration": 0,
               "redraw": true
              },
              "fromcurrent": true,
              "mode": "immediate",
              "transition": {
               "duration": 0,
               "easing": "linear"
              }
             }
            ],
            "label": "2024-09-16T06:00:00.000Z",
            "method": "animate"
           },
           {
            "args": [
             [
              "2024-09-16T12:00:00.000Z"
             ],
             {
              "frame": {
               "duration": 0,
               "redraw": true
              },
              "fromcurrent": true,
              "mode": "immediate",
              "transition": {
               "duration": 0,
               "easing": "linear"
              }
             }
            ],
            "label": "2024-09-16T12:00:00.000Z",
            "method": "animate"
           },
           {
            "args": [
             [
              "2024-09-16T18:00:00.000Z"
             ],
             {
              "frame": {
               "duration": 0,
               "redraw": true
              },
              "fromcurrent": true,
              "mode": "immediate",
              "transition": {
               "duration": 0,
               "easing": "linear"
              }
             }
            ],
            "label": "2024-09-16T18:00:00.000Z",
            "method": "animate"
           },
           {
            "args": [
             [
              "2024-09-17T00:00:00.000Z"
             ],
             {
              "frame": {
               "duration": 0,
               "redraw": true
              },
              "fromcurrent": true,
              "mode": "immediate",
              "transition": {
               "duration": 0,
               "easing": "linear"
              }
             }
            ],
            "label": "2024-09-17T00:00:00.000Z",
            "method": "animate"
           },
           {
            "args": [
             [
              "2024-09-17T06:00:00.000Z"
             ],
             {
              "frame": {
               "duration": 0,
               "redraw": true
              },
              "fromcurrent": true,
              "mode": "immediate",
              "transition": {
               "duration": 0,
               "easing": "linear"
              }
             }
            ],
            "label": "2024-09-17T06:00:00.000Z",
            "method": "animate"
           },
           {
            "args": [
             [
              "2024-09-17T07:07:59.000Z"
             ],
             {
              "frame": {
               "duration": 0,
               "redraw": true
              },
              "fromcurrent": true,
              "mode": "immediate",
              "transition": {
               "duration": 0,
               "easing": "linear"
              }
             }
            ],
            "label": "2024-09-17T07:07:59.000Z",
            "method": "animate"
           },
           {
            "args": [
             [
              "2024-09-17T07:10:04.000Z"
             ],
             {
              "frame": {
               "duration": 0,
               "redraw": true
              },
              "fromcurrent": true,
              "mode": "immediate",
              "transition": {
               "duration": 0,
               "easing": "linear"
              }
             }
            ],
            "label": "2024-09-17T07:10:04.000Z",
            "method": "animate"
           },
           {
            "args": [
             [
              "2024-09-17T07:12:01.000Z"
             ],
             {
              "frame": {
               "duration": 0,
               "redraw": true
              },
              "fromcurrent": true,
              "mode": "immediate",
              "transition": {
               "duration": 0,
               "easing": "linear"
              }
             }
            ],
            "label": "2024-09-17T07:12:01.000Z",
            "method": "animate"
           },
           {
            "args": [
             [
              "2024-09-17T07:12:26.000Z"
             ],
             {
              "frame": {
               "duration": 0,
               "redraw": true
              },
              "fromcurrent": true,
              "mode": "immediate",
              "transition": {
               "duration": 0,
               "easing": "linear"
              }
             }
            ],
            "label": "2024-09-17T07:12:26.000Z",
            "method": "animate"
           }
          ],
          "x": 0.1,
          "xanchor": "left",
          "y": 0,
          "yanchor": "top"
         }
        ],
        "template": {
         "data": {
          "bar": [
           {
            "error_x": {
             "color": "#2a3f5f"
            },
            "error_y": {
             "color": "#2a3f5f"
            },
            "marker": {
             "line": {
              "color": "#E5ECF6",
              "width": 0.5
             },
             "pattern": {
              "fillmode": "overlay",
              "size": 10,
              "solidity": 0.2
             }
            },
            "type": "bar"
           }
          ],
          "barpolar": [
           {
            "marker": {
             "line": {
              "color": "#E5ECF6",
              "width": 0.5
             },
             "pattern": {
              "fillmode": "overlay",
              "size": 10,
              "solidity": 0.2
             }
            },
            "type": "barpolar"
           }
          ],
          "carpet": [
           {
            "aaxis": {
             "endlinecolor": "#2a3f5f",
             "gridcolor": "white",
             "linecolor": "white",
             "minorgridcolor": "white",
             "startlinecolor": "#2a3f5f"
            },
            "baxis": {
             "endlinecolor": "#2a3f5f",
             "gridcolor": "white",
             "linecolor": "white",
             "minorgridcolor": "white",
             "startlinecolor": "#2a3f5f"
            },
            "type": "carpet"
           }
          ],
          "choropleth": [
           {
            "colorbar": {
             "outlinewidth": 0,
             "ticks": ""
            },
            "type": "choropleth"
           }
          ],
          "contour": [
           {
            "colorbar": {
             "outlinewidth": 0,
             "ticks": ""
            },
            "colorscale": [
             [
              0,
              "#0d0887"
             ],
             [
              0.1111111111111111,
              "#46039f"
             ],
             [
              0.2222222222222222,
              "#7201a8"
             ],
             [
              0.3333333333333333,
              "#9c179e"
             ],
             [
              0.4444444444444444,
              "#bd3786"
             ],
             [
              0.5555555555555556,
              "#d8576b"
             ],
             [
              0.6666666666666666,
              "#ed7953"
             ],
             [
              0.7777777777777778,
              "#fb9f3a"
             ],
             [
              0.8888888888888888,
              "#fdca26"
             ],
             [
              1,
              "#f0f921"
             ]
            ],
            "type": "contour"
           }
          ],
          "contourcarpet": [
           {
            "colorbar": {
             "outlinewidth": 0,
             "ticks": ""
            },
            "type": "contourcarpet"
           }
          ],
          "heatmap": [
           {
            "colorbar": {
             "outlinewidth": 0,
             "ticks": ""
            },
            "colorscale": [
             [
              0,
              "#0d0887"
             ],
             [
              0.1111111111111111,
              "#46039f"
             ],
             [
              0.2222222222222222,
              "#7201a8"
             ],
             [
              0.3333333333333333,
              "#9c179e"
             ],
             [
              0.4444444444444444,
              "#bd3786"
             ],
             [
              0.5555555555555556,
              "#d8576b"
             ],
             [
              0.6666666666666666,
              "#ed7953"
             ],
             [
              0.7777777777777778,
              "#fb9f3a"
             ],
             [
              0.8888888888888888,
              "#fdca26"
             ],
             [
              1,
              "#f0f921"
             ]
            ],
            "type": "heatmap"
           }
          ],
          "heatmapgl": [
           {
            "colorbar": {
             "outlinewidth": 0,
             "ticks": ""
            },
            "colorscale": [
             [
              0,
              "#0d0887"
             ],
             [
              0.1111111111111111,
              "#46039f"
             ],
             [
              0.2222222222222222,
              "#7201a8"
             ],
             [
              0.3333333333333333,
              "#9c179e"
             ],
             [
              0.4444444444444444,
              "#bd3786"
             ],
             [
              0.5555555555555556,
              "#d8576b"
             ],
             [
              0.6666666666666666,
              "#ed7953"
             ],
             [
              0.7777777777777778,
              "#fb9f3a"
             ],
             [
              0.8888888888888888,
              "#fdca26"
             ],
             [
              1,
              "#f0f921"
             ]
            ],
            "type": "heatmapgl"
           }
          ],
          "histogram": [
           {
            "marker": {
             "pattern": {
              "fillmode": "overlay",
              "size": 10,
              "solidity": 0.2
             }
            },
            "type": "histogram"
           }
          ],
          "histogram2d": [
           {
            "colorbar": {
             "outlinewidth": 0,
             "ticks": ""
            },
            "colorscale": [
             [
              0,
              "#0d0887"
             ],
             [
              0.1111111111111111,
              "#46039f"
             ],
             [
              0.2222222222222222,
              "#7201a8"
             ],
             [
              0.3333333333333333,
              "#9c179e"
             ],
             [
              0.4444444444444444,
              "#bd3786"
             ],
             [
              0.5555555555555556,
              "#d8576b"
             ],
             [
              0.6666666666666666,
              "#ed7953"
             ],
             [
              0.7777777777777778,
              "#fb9f3a"
             ],
             [
              0.8888888888888888,
              "#fdca26"
             ],
             [
              1,
              "#f0f921"
             ]
            ],
            "type": "histogram2d"
           }
          ],
          "histogram2dcontour": [
           {
            "colorbar": {
             "outlinewidth": 0,
             "ticks": ""
            },
            "colorscale": [
             [
              0,
              "#0d0887"
             ],
             [
              0.1111111111111111,
              "#46039f"
             ],
             [
              0.2222222222222222,
              "#7201a8"
             ],
             [
              0.3333333333333333,
              "#9c179e"
             ],
             [
              0.4444444444444444,
              "#bd3786"
             ],
             [
              0.5555555555555556,
              "#d8576b"
             ],
             [
              0.6666666666666666,
              "#ed7953"
             ],
             [
              0.7777777777777778,
              "#fb9f3a"
             ],
             [
              0.8888888888888888,
              "#fdca26"
             ],
             [
              1,
              "#f0f921"
             ]
            ],
            "type": "histogram2dcontour"
           }
          ],
          "mesh3d": [
           {
            "colorbar": {
             "outlinewidth": 0,
             "ticks": ""
            },
            "type": "mesh3d"
           }
          ],
          "parcoords": [
           {
            "line": {
             "colorbar": {
              "outlinewidth": 0,
              "ticks": ""
             }
            },
            "type": "parcoords"
           }
          ],
          "pie": [
           {
            "automargin": true,
            "type": "pie"
           }
          ],
          "scatter": [
           {
            "fillpattern": {
             "fillmode": "overlay",
             "size": 10,
             "solidity": 0.2
            },
            "type": "scatter"
           }
          ],
          "scatter3d": [
           {
            "line": {
             "colorbar": {
              "outlinewidth": 0,
              "ticks": ""
             }
            },
            "marker": {
             "colorbar": {
              "outlinewidth": 0,
              "ticks": ""
             }
            },
            "type": "scatter3d"
           }
          ],
          "scattercarpet": [
           {
            "marker": {
             "colorbar": {
              "outlinewidth": 0,
              "ticks": ""
             }
            },
            "type": "scattercarpet"
           }
          ],
          "scattergeo": [
           {
            "marker": {
             "colorbar": {
              "outlinewidth": 0,
              "ticks": ""
             }
            },
            "type": "scattergeo"
           }
          ],
          "scattergl": [
           {
            "marker": {
             "colorbar": {
              "outlinewidth": 0,
              "ticks": ""
             }
            },
            "type": "scattergl"
           }
          ],
          "scattermapbox": [
           {
            "marker": {
             "colorbar": {
              "outlinewidth": 0,
              "ticks": ""
             }
            },
            "type": "scattermapbox"
           }
          ],
          "scatterpolar": [
           {
            "marker": {
             "colorbar": {
              "outlinewidth": 0,
              "ticks": ""
             }
            },
            "type": "scatterpolar"
           }
          ],
          "scatterpolargl": [
           {
            "marker": {
             "colorbar": {
              "outlinewidth": 0,
              "ticks": ""
             }
            },
            "type": "scatterpolargl"
           }
          ],
          "scatterternary": [
           {
            "marker": {
             "colorbar": {
              "outlinewidth": 0,
              "ticks": ""
             }
            },
            "type": "scatterternary"
           }
          ],
          "surface": [
           {
            "colorbar": {
             "outlinewidth": 0,
             "ticks": ""
            },
            "colorscale": [
             [
              0,
              "#0d0887"
             ],
             [
              0.1111111111111111,
              "#46039f"
             ],
             [
              0.2222222222222222,
              "#7201a8"
             ],
             [
              0.3333333333333333,
              "#9c179e"
             ],
             [
              0.4444444444444444,
              "#bd3786"
             ],
             [
              0.5555555555555556,
              "#d8576b"
             ],
             [
              0.6666666666666666,
              "#ed7953"
             ],
             [
              0.7777777777777778,
              "#fb9f3a"
             ],
             [
              0.8888888888888888,
              "#fdca26"
             ],
             [
              1,
              "#f0f921"
             ]
            ],
            "type": "surface"
           }
          ],
          "table": [
           {
            "cells": {
             "fill": {
              "color": "#EBF0F8"
             },
             "line": {
              "color": "white"
             }
            },
            "header": {
             "fill": {
              "color": "#C8D4E3"
             },
             "line": {
              "color": "white"
             }
            },
            "type": "table"
           }
          ]
         },
         "layout": {
          "annotationdefaults": {
           "arrowcolor": "#2a3f5f",
           "arrowhead": 0,
           "arrowwidth": 1
          },
          "autotypenumbers": "strict",
          "coloraxis": {
           "colorbar": {
            "outlinewidth": 0,
            "ticks": ""
           }
          },
          "colorscale": {
           "diverging": [
            [
             0,
             "#8e0152"
            ],
            [
             0.1,
             "#c51b7d"
            ],
            [
             0.2,
             "#de77ae"
            ],
            [
             0.3,
             "#f1b6da"
            ],
            [
             0.4,
             "#fde0ef"
            ],
            [
             0.5,
             "#f7f7f7"
            ],
            [
             0.6,
             "#e6f5d0"
            ],
            [
             0.7,
             "#b8e186"
            ],
            [
             0.8,
             "#7fbc41"
            ],
            [
             0.9,
             "#4d9221"
            ],
            [
             1,
             "#276419"
            ]
           ],
           "sequential": [
            [
             0,
             "#0d0887"
            ],
            [
             0.1111111111111111,
             "#46039f"
            ],
            [
             0.2222222222222222,
             "#7201a8"
            ],
            [
             0.3333333333333333,
             "#9c179e"
            ],
            [
             0.4444444444444444,
             "#bd3786"
            ],
            [
             0.5555555555555556,
             "#d8576b"
            ],
            [
             0.6666666666666666,
             "#ed7953"
            ],
            [
             0.7777777777777778,
             "#fb9f3a"
            ],
            [
             0.8888888888888888,
             "#fdca26"
            ],
            [
             1,
             "#f0f921"
            ]
           ],
           "sequentialminus": [
            [
             0,
             "#0d0887"
            ],
            [
             0.1111111111111111,
             "#46039f"
            ],
            [
             0.2222222222222222,
             "#7201a8"
            ],
            [
             0.3333333333333333,
             "#9c179e"
            ],
            [
             0.4444444444444444,
             "#bd3786"
            ],
            [
             0.5555555555555556,
             "#d8576b"
            ],
            [
             0.6666666666666666,
             "#ed7953"
            ],
            [
             0.7777777777777778,
             "#fb9f3a"
            ],
            [
             0.8888888888888888,
             "#fdca26"
            ],
            [
             1,
             "#f0f921"
            ]
           ]
          },
          "colorway": [
           "#636efa",
           "#EF553B",
           "#00cc96",
           "#ab63fa",
           "#FFA15A",
           "#19d3f3",
           "#FF6692",
           "#B6E880",
           "#FF97FF",
           "#FECB52"
          ],
          "font": {
           "color": "#2a3f5f"
          },
          "geo": {
           "bgcolor": "white",
           "lakecolor": "white",
           "landcolor": "#E5ECF6",
           "showlakes": true,
           "showland": true,
           "subunitcolor": "white"
          },
          "hoverlabel": {
           "align": "left"
          },
          "hovermode": "closest",
          "mapbox": {
           "style": "light"
          },
          "paper_bgcolor": "white",
          "plot_bgcolor": "#E5ECF6",
          "polar": {
           "angularaxis": {
            "gridcolor": "white",
            "linecolor": "white",
            "ticks": ""
           },
           "bgcolor": "#E5ECF6",
           "radialaxis": {
            "gridcolor": "white",
            "linecolor": "white",
            "ticks": ""
           }
          },
          "scene": {
           "xaxis": {
            "backgroundcolor": "#E5ECF6",
            "gridcolor": "white",
            "gridwidth": 2,
            "linecolor": "white",
            "showbackground": true,
            "ticks": "",
            "zerolinecolor": "white"
           },
           "yaxis": {
            "backgroundcolor": "#E5ECF6",
            "gridcolor": "white",
            "gridwidth": 2,
            "linecolor": "white",
            "showbackground": true,
            "ticks": "",
            "zerolinecolor": "white"
           },
           "zaxis": {
            "backgroundcolor": "#E5ECF6",
            "gridcolor": "white",
            "gridwidth": 2,
            "linecolor": "white",
            "showbackground": true,
            "ticks": "",
            "zerolinecolor": "white"
           }
          },
          "shapedefaults": {
           "line": {
            "color": "#2a3f5f"
           }
          },
          "ternary": {
           "aaxis": {
            "gridcolor": "white",
            "linecolor": "white",
            "ticks": ""
           },
           "baxis": {
            "gridcolor": "white",
            "linecolor": "white",
            "ticks": ""
           },
           "bgcolor": "#E5ECF6",
           "caxis": {
            "gridcolor": "white",
            "linecolor": "white",
            "ticks": ""
           }
          },
          "title": {
           "x": 0.05
          },
          "xaxis": {
           "automargin": true,
           "gridcolor": "white",
           "linecolor": "white",
           "ticks": "",
           "title": {
            "standoff": 15
           },
           "zerolinecolor": "white",
           "zerolinewidth": 2
          },
          "yaxis": {
           "automargin": true,
           "gridcolor": "white",
           "linecolor": "white",
           "ticks": "",
           "title": {
            "standoff": 15
           },
           "zerolinecolor": "white",
           "zerolinewidth": 2
          }
         }
        },
        "updatemenus": [
         {
          "buttons": [
           {
            "args": [
             null,
             {
              "frame": {
               "duration": 500,
               "redraw": true
              },
              "fromcurrent": true,
              "mode": "immediate",
              "transition": {
               "duration": 500,
               "easing": "linear"
              }
             }
            ],
            "label": "&#9654;",
            "method": "animate"
           },
           {
            "args": [
             [
              null
             ],
             {
              "frame": {
               "duration": 0,
               "redraw": true
              },
              "fromcurrent": true,
              "mode": "immediate",
              "transition": {
               "duration": 0,
               "easing": "linear"
              }
             }
            ],
            "label": "&#9724;",
            "method": "animate"
           }
          ],
          "direction": "left",
          "pad": {
           "r": 10,
           "t": 70
          },
          "showactive": false,
          "type": "buttons",
          "x": 0.1,
          "xanchor": "right",
          "y": 0,
          "yanchor": "top"
         }
        ]
       }
      }
     },
     "metadata": {},
     "output_type": "display_data"
    }
   ],
   "source": [
    "## Plot vessel movements\n",
    "plot_trail(data,'lng_plot.html')"
   ]
  },
  {
   "cell_type": "code",
   "execution_count": null,
   "metadata": {},
   "outputs": [],
   "source": []
  }
 ],
 "metadata": {
  "kernelspec": {
   "display_name": "base",
   "language": "python",
   "name": "python3"
  },
  "language_info": {
   "codemirror_mode": {
    "name": "ipython",
    "version": 3
   },
   "file_extension": ".py",
   "mimetype": "text/x-python",
   "name": "python",
   "nbconvert_exporter": "python",
   "pygments_lexer": "ipython3",
   "version": "3.10.9"
  }
 },
 "nbformat": 4,
 "nbformat_minor": 2
}

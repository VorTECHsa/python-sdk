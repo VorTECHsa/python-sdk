{
 "cells": [
  {
   "cell_type": "markdown",
   "metadata": {},
   "source": [
    "### Try out the VortexaSDK"
   ]
  },
  {
   "cell_type": "markdown",
   "metadata": {},
   "source": [
    "First let's import our requirements"
   ]
  },
  {
   "cell_type": "code",
   "execution_count": null,
   "metadata": {
    "execution": {
     "iopub.execute_input": "2024-04-05T11:17:08.064860Z",
     "iopub.status.busy": "2024-04-05T11:17:08.064468Z",
     "iopub.status.idle": "2024-04-05T11:17:08.633182Z",
     "shell.execute_reply": "2024-04-05T11:17:08.632818Z"
    }
   },
   "outputs": [],
   "source": [
    "from datetime import datetime, timedelta\n",
    "import vortexasdk as v"
   ]
  },
  {
   "cell_type": "markdown",
   "metadata": {},
   "source": [
    "Now let's load a dataframe of canal transit records that were recently updated"
   ]
  },
  {
   "cell_type": "markdown",
   "metadata": {},
   "source": [
    "You'll need to enter your Vortexa API key when prompted."
   ]
  },
  {
   "cell_type": "code",
   "execution_count": null,
   "metadata": {
    "execution": {
     "iopub.execute_input": "2024-04-05T11:17:08.636034Z",
     "iopub.status.busy": "2024-04-05T11:17:08.635821Z",
     "iopub.status.idle": "2024-04-05T11:17:10.460545Z",
     "shell.execute_reply": "2024-04-05T11:17:10.459797Z"
    }
   },
   "outputs": [],
   "source": [
    "df = v.CanalTransit()\\\n",
    "    .search(updated_since=datetime.now() - timedelta(days=2))\\\n",
    "    .to_df()"
   ]
  },
  {
   "cell_type": "code",
   "execution_count": null,
   "metadata": {
    "execution": {
     "iopub.execute_input": "2024-04-05T11:17:10.464207Z",
     "iopub.status.busy": "2024-04-05T11:17:10.464039Z",
     "iopub.status.idle": "2024-04-05T11:17:10.479277Z",
     "shell.execute_reply": "2024-04-05T11:17:10.478911Z"
    }
   },
   "outputs": [],
   "source": [
    "df.head()"
   ]
  },
  {
   "cell_type": "markdown",
   "metadata": {},
   "source": [
    "That's it! You've successfully loaded data using the Vortexa SDK. Check out https://vortechsa.github.io/python-sdk/ for more examples"
   ]
  }
 ],
 "metadata": {
  "kernelspec": {
   "display_name": "Python 3",
   "language": "python",
   "name": "python3"
  },
  "language_info": {
   "codemirror_mode": {
    "name": "ipython",
    "version": 3
   },
   "file_extension": ".py",
   "mimetype": "text/x-python",
   "name": "python",
   "nbconvert_exporter": "python",
   "pygments_lexer": "ipython3",
   "version": "3.9.13"
  }
 },
 "nbformat": 4,
 "nbformat_minor": 4
}

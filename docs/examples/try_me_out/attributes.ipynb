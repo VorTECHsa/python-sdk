{
 "cells": [
  {
   "cell_type": "markdown",
   "metadata": {},
   "source": [
    "### Try out the VortexaSDK"
   ]
  },
  {
   "cell_type": "markdown",
   "metadata": {},
   "source": [
    "First let's import our requirements"
   ]
  },
  {
   "cell_type": "code",
   "execution_count": null,
   "metadata": {
    "execution": {
     "iopub.execute_input": "2020-12-29T16:41:43.437180Z",
     "iopub.status.busy": "2020-12-29T16:41:43.436440Z",
     "iopub.status.idle": "2020-12-29T16:41:43.839743Z",
     "shell.execute_reply": "2020-12-29T16:41:43.840139Z"
    }
   },
   "outputs": [],
   "source": [
    "from datetime import datetime\n",
    "import vortexasdk as v"
   ]
  },
  {
   "cell_type": "markdown",
   "metadata": {},
   "source": [
    "You'll need to enter your Vortexa API key when prompted."
   ]
  },
  {
   "cell_type": "code",
   "execution_count": null,
   "metadata": {
    "execution": {
     "iopub.execute_input": "2020-12-29T16:41:43.844530Z",
     "iopub.status.busy": "2020-12-29T16:41:43.843830Z",
     "iopub.status.idle": "2020-12-29T16:41:44.783293Z",
     "shell.execute_reply": "2020-12-29T16:41:44.783867Z"
    }
   },
   "outputs": [],
   "source": [
    "df = v.Attributes().load_all().to_df()"
   ]
  },
  {
   "cell_type": "code",
   "execution_count": null,
   "metadata": {
    "execution": {
     "iopub.execute_input": "2020-12-29T16:41:44.796774Z",
     "iopub.status.busy": "2020-12-29T16:41:44.793160Z",
     "iopub.status.idle": "2020-12-29T16:41:44.803610Z",
     "shell.execute_reply": "2020-12-29T16:41:44.804216Z"
    }
   },
   "outputs": [],
   "source": [
    "df.head()"
   ]
  },
  {
   "cell_type": "code",
   "execution_count": null,
   "metadata": {
    "execution": {
     "iopub.execute_input": "2020-12-29T16:41:44.810077Z",
     "iopub.status.busy": "2020-12-29T16:41:44.809306Z",
     "iopub.status.idle": "2020-12-29T16:41:44.812135Z",
     "shell.execute_reply": "2020-12-29T16:41:44.812674Z"
    }
   },
   "outputs": [],
   "source": [
    "df['type'].value_counts()"
   ]
  },
  {
   "cell_type": "markdown",
   "metadata": {},
   "source": [
    "That's it! You've successfully loaded data using the Vortexa SDK. Check out https://vortechsa.github.io/python-sdk/ for more examples"
   ]
  }
 ],
 "metadata": {
  "kernelspec": {
   "display_name": "Python 3",
   "language": "python",
   "name": "python3"
  },
  "language_info": {
   "codemirror_mode": {
    "name": "ipython",
    "version": 3
   },
   "file_extension": ".py",
   "mimetype": "text/x-python",
   "name": "python",
   "nbconvert_exporter": "python",
   "pygments_lexer": "ipython3",
   "version": "3.7.9"
  }
 },
 "nbformat": 4,
 "nbformat_minor": 4
}

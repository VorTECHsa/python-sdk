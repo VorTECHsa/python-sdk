{
 "cells": [
  {
   "cell_type": "markdown",
   "metadata": {},
   "source": [
    "### Try out the VortexaSDK"
   ]
  },
  {
   "cell_type": "markdown",
   "metadata": {},
   "source": [
    "First let's import our requirements"
   ]
  },
  {
   "cell_type": "code",
   "execution_count": null,
   "metadata": {
    "execution": {
     "iopub.execute_input": "2020-12-29T16:41:57.890316Z",
     "iopub.status.busy": "2020-12-29T16:41:57.889626Z",
     "iopub.status.idle": "2020-12-29T16:41:58.447041Z",
     "shell.execute_reply": "2020-12-29T16:41:58.447583Z"
    }
   },
   "outputs": [],
   "source": [
    "from datetime import datetime\n",
    "import vortexasdk as v"
   ]
  },
  {
   "cell_type": "markdown",
   "metadata": {},
   "source": [
    "You'll need to enter your Vortexa API key when prompted."
   ]
  },
  {
   "cell_type": "code",
   "execution_count": null,
   "metadata": {
    "execution": {
     "iopub.execute_input": "2020-12-29T16:41:58.452171Z",
     "iopub.status.busy": "2020-12-29T16:41:58.451445Z",
     "iopub.status.idle": "2020-12-29T16:41:59.410253Z",
     "shell.execute_reply": "2020-12-29T16:41:59.410784Z"
    }
   },
   "outputs": [],
   "source": [
    "eia = v.EIAForecasts().search(\n",
    "    preset=\"padd5-gasoline-imports\",\n",
    "    filter_time_min=datetime(2020, 1, 1),\n",
    "    filter_time_max=datetime(2020, 1, 31)\n",
    ").to_df()"
   ]
  },
  {
   "cell_type": "code",
   "execution_count": null,
   "metadata": {
    "execution": {
     "iopub.execute_input": "2020-12-29T16:41:59.421216Z",
     "iopub.status.busy": "2020-12-29T16:41:59.420432Z",
     "iopub.status.idle": "2020-12-29T16:41:59.434024Z",
     "shell.execute_reply": "2020-12-29T16:41:59.434521Z"
    }
   },
   "outputs": [],
   "source": [
    "eia.head()"
   ]
  },
  {
   "cell_type": "markdown",
   "metadata": {},
   "source": [
    "That's it! You've successfully loaded data using the Vortexa SDK. Check out https://vortechsa.github.io/python-sdk/ for more examples"
   ]
  }
 ],
 "metadata": {
  "kernelspec": {
   "display_name": "Python 3",
   "language": "python",
   "name": "python3"
  },
  "language_info": {
   "codemirror_mode": {
    "name": "ipython",
    "version": 3
   },
   "file_extension": ".py",
   "mimetype": "text/x-python",
   "name": "python",
   "nbconvert_exporter": "python",
   "pygments_lexer": "ipython3",
   "version": "3.7.9"
  }
 },
 "nbformat": 4,
 "nbformat_minor": 4
}

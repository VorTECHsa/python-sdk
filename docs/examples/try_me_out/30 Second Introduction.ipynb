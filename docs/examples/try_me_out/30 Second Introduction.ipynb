{
 "cells": [
  {
   "cell_type": "markdown",
   "metadata": {},
   "source": [
    "### This notebook gives a 30 second introduction to the Vortexa SDK"
   ]
  },
  {
   "cell_type": "markdown",
   "metadata": {},
   "source": [
    "First let's import our requirements"
   ]
  },
  {
   "cell_type": "code",
   "execution_count": null,
   "metadata": {
    "execution": {
     "iopub.execute_input": "2020-12-29T16:41:38.663713Z",
     "iopub.status.busy": "2020-12-29T16:41:38.662912Z",
     "iopub.status.idle": "2020-12-29T16:41:39.060959Z",
     "shell.execute_reply": "2020-12-29T16:41:39.061428Z"
    }
   },
   "outputs": [],
   "source": [
    "from datetime import datetime\n",
    "import vortexasdk as v"
   ]
  },
  {
   "cell_type": "markdown",
   "metadata": {},
   "source": [
    "Now let's load a dataframe of cargo movements that loaded at the start of August, 2017."
   ]
  },
  {
   "cell_type": "markdown",
   "metadata": {},
   "source": [
    "You'll need to enter your Vortexa API key when prompted."
   ]
  },
  {
   "cell_type": "code",
   "execution_count": null,
   "metadata": {
    "execution": {
     "iopub.execute_input": "2020-12-29T16:41:39.065725Z",
     "iopub.status.busy": "2020-12-29T16:41:39.065057Z",
     "iopub.status.idle": "2020-12-29T16:41:42.331097Z",
     "shell.execute_reply": "2020-12-29T16:41:42.331826Z"
    }
   },
   "outputs": [],
   "source": [
    "df = v.CargoMovements()\\\n",
    "    .search(filter_activity='loading_state',\n",
    "        filter_time_min=datetime(2017, 8, 1),\n",
    "        filter_time_max=datetime(2017, 8, 2))\\\n",
    "    .to_df()"
   ]
  },
  {
   "cell_type": "code",
   "execution_count": null,
   "metadata": {
    "execution": {
     "iopub.execute_input": "2020-12-29T16:41:42.343332Z",
     "iopub.status.busy": "2020-12-29T16:41:42.342267Z",
     "iopub.status.idle": "2020-12-29T16:41:42.357298Z",
     "shell.execute_reply": "2020-12-29T16:41:42.357736Z"
    }
   },
   "outputs": [],
   "source": [
    "df.head()"
   ]
  },
  {
   "cell_type": "markdown",
   "metadata": {},
   "source": [
    "That's it! You've successfully loaded data using the Vortexa SDK. Check out https://vortechsa.github.io/python-sdk/ for more examples"
   ]
  }
 ],
 "metadata": {
  "kernelspec": {
   "display_name": "Python 3",
   "language": "python",
   "name": "python3"
  },
  "language_info": {
   "codemirror_mode": {
    "name": "ipython",
    "version": 3
   },
   "file_extension": ".py",
   "mimetype": "text/x-python",
   "name": "python",
   "nbconvert_exporter": "python",
   "pygments_lexer": "ipython3",
   "version": "3.7.9"
  }
 },
 "nbformat": 4,
 "nbformat_minor": 4
}

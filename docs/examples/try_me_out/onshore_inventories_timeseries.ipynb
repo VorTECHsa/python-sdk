{
 "cells": [
  {
   "cell_type": "markdown",
   "metadata": {},
   "source": [
    "### Try out the Vortexa SDK"
   ]
  },
  {
   "cell_type": "markdown",
   "metadata": {},
   "source": [
    "First, let's import our requirements"
   ]
  },
  {
   "cell_type": "code",
   "execution_count": null,
   "metadata": {
    "execution": {
     "iopub.execute_input": "2021-09-10T10:44:11.185897Z",
     "iopub.status.busy": "2021-09-10T10:44:11.185062Z",
     "iopub.status.idle": "2021-09-10T10:44:11.665857Z",
     "shell.execute_reply": "2021-09-10T10:44:11.666370Z"
    }
   },
   "outputs": [],
   "source": [
    "from datetime import datetime\n",
    "\n",
    "from vortexasdk import OnshoreInventoriesTimeseries"
   ]
  },
  {
   "cell_type": "code",
   "execution_count": null,
   "metadata": {
    "execution": {
     "iopub.execute_input": "2021-09-10T10:44:11.671208Z",
     "iopub.status.busy": "2021-09-10T10:44:11.670529Z",
     "iopub.status.idle": "2021-09-10T10:44:13.675353Z",
     "shell.execute_reply": "2021-09-10T10:44:13.675781Z"
    }
   },
   "outputs": [],
   "source": [
    "df = (\n",
    "    OnshoreInventoriesTimeseries()\n",
    "    .search(time_min=datetime(2020, 1, 1), time_max=datetime(2021, 1, 1))\n",
    "    .to_df()\n",
    ")\n",
    "df.head()"
   ]
  },
  {
   "cell_type": "markdown",
   "metadata": {},
   "source": [
    "That's it! You've successfully loaded data using the Vortexa SDK and should see a list of results. Check out https://vortechsa.github.io/python-sdk/ for more examples"
   ]
  }
 ],
 "metadata": {
  "language_info": {
   "codemirror_mode": {
    "name": "ipython",
    "version": 3
   },
   "file_extension": ".py",
   "mimetype": "text/x-python",
   "name": "python",
   "nbconvert_exporter": "python",
   "pygments_lexer": "ipython3",
   "version": "3.8.11"
  }
 },
 "nbformat": 4,
 "nbformat_minor": 2
}

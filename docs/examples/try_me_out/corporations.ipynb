{
 "cells": [
  {
   "cell_type": "markdown",
   "metadata": {},
   "source": [
    "### Try out the VortexaSDK"
   ]
  },
  {
   "cell_type": "markdown",
   "metadata": {},
   "source": [
    "First let's import our requirements"
   ]
  },
  {
   "cell_type": "code",
   "execution_count": null,
   "metadata": {
    "execution": {
     "iopub.execute_input": "2020-12-29T16:42:03.154583Z",
     "iopub.status.busy": "2020-12-29T16:42:03.153868Z",
     "iopub.status.idle": "2020-12-29T16:42:03.581739Z",
     "shell.execute_reply": "2020-12-29T16:42:03.582138Z"
    }
   },
   "outputs": [],
   "source": [
    "import vortexasdk as v"
   ]
  },
  {
   "cell_type": "markdown",
   "metadata": {},
   "source": [
    "You'll need to enter your Vortexa API key when prompted."
   ]
  },
  {
   "cell_type": "code",
   "execution_count": null,
   "metadata": {
    "execution": {
     "iopub.execute_input": "2020-12-29T16:42:03.585849Z",
     "iopub.status.busy": "2020-12-29T16:42:03.585281Z",
     "iopub.status.idle": "2020-12-29T16:42:04.617155Z",
     "shell.execute_reply": "2020-12-29T16:42:04.617759Z"
    }
   },
   "outputs": [],
   "source": [
    "# Let's load some sample corporations with 'cos' in the name\n",
    "corporations = v.Corporations().search(\"COS\").to_df()"
   ]
  },
  {
   "cell_type": "code",
   "execution_count": null,
   "metadata": {
    "execution": {
     "iopub.execute_input": "2020-12-29T16:42:04.627430Z",
     "iopub.status.busy": "2020-12-29T16:42:04.626738Z",
     "iopub.status.idle": "2020-12-29T16:42:04.637125Z",
     "shell.execute_reply": "2020-12-29T16:42:04.637597Z"
    }
   },
   "outputs": [],
   "source": [
    "corporations.head()"
   ]
  },
  {
   "cell_type": "markdown",
   "metadata": {},
   "source": [
    "That's it! You've successfully loaded data using the Vortexa SDK. Check out https://vortechsa.github.io/python-sdk/ for more examples"
   ]
  }
 ],
 "metadata": {
  "kernelspec": {
   "display_name": "Python 3",
   "language": "python",
   "name": "python3"
  },
  "language_info": {
   "codemirror_mode": {
    "name": "ipython",
    "version": 3
   },
   "file_extension": ".py",
   "mimetype": "text/x-python",
   "name": "python",
   "nbconvert_exporter": "python",
   "pygments_lexer": "ipython3",
   "version": "3.7.9"
  }
 },
 "nbformat": 4,
 "nbformat_minor": 4
}

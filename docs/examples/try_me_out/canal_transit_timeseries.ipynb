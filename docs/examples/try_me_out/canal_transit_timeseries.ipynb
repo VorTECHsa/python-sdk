{
 "cells": [
  {
   "cell_type": "markdown",
   "metadata": {},
   "source": [
    "### Try out the VortexaSDK"
   ]
  },
  {
   "cell_type": "markdown",
   "metadata": {},
   "source": [
    "First let's import our requirements"
   ]
  },
  {
   "cell_type": "code",
   "execution_count": null,
   "metadata": {
    "execution": {
     "iopub.execute_input": "2020-12-29T16:41:51.624559Z",
     "iopub.status.busy": "2020-12-29T16:41:51.623834Z",
     "iopub.status.idle": "2020-12-29T16:41:52.022363Z",
     "shell.execute_reply": "2020-12-29T16:41:52.022763Z"
    }
   },
   "outputs": [],
   "source": [
    "from datetime import datetime, timedelta, time\n",
    "import vortexasdk as v"
   ]
  },
  {
   "cell_type": "markdown",
   "metadata": {},
   "source": [
    "Lets use the CanalTransitTimeseries endpoint to answer the following question:"
   ]
  },
  {
   "cell_type": "markdown",
   "metadata": {},
   "source": [
    "-  _What was the number of vessels waiting to enter Panama Canal yesterday_?"
   ]
  },
  {
   "cell_type": "code",
   "execution_count": null,
   "metadata": {
    "execution": {
     "iopub.execute_input": "2020-12-29T16:41:53.761683Z",
     "iopub.status.busy": "2020-12-29T16:41:53.760793Z",
     "iopub.status.idle": "2020-12-29T16:41:54.623159Z",
     "shell.execute_reply": "2020-12-29T16:41:54.624361Z"
    }
   },
   "outputs": [],
   "source": [
    "search_result = v.CanalTransitTimeseries().search(\n",
    "        metric=\"count_of_vessels\",\n",
    "        timeseries_frequency=\"day\",\n",
    "        time_max=datetime.combine(datetime.now(), time.max),\n",
    "        time_min=datetime.combine(datetime.now() - timedelta(days=1), time.min),\n",
    "        timeseries_activity=\"started_waiting\"\n",
    "    )"
   ]
  },
  {
   "cell_type": "code",
   "execution_count": null,
   "metadata": {
    "execution": {
     "iopub.execute_input": "2020-12-29T16:41:54.632062Z",
     "iopub.status.busy": "2020-12-29T16:41:54.631218Z",
     "iopub.status.idle": "2020-12-29T16:41:54.633557Z",
     "shell.execute_reply": "2020-12-29T16:41:54.634132Z"
    }
   },
   "outputs": [],
   "source": [
    "df = search_result.to_df()"
   ]
  },
  {
   "cell_type": "code",
   "execution_count": null,
   "metadata": {
    "execution": {
     "iopub.execute_input": "2020-12-29T16:41:54.644182Z",
     "iopub.status.busy": "2020-12-29T16:41:54.643393Z",
     "iopub.status.idle": "2020-12-29T16:41:54.653619Z",
     "shell.execute_reply": "2020-12-29T16:41:54.654072Z"
    }
   },
   "outputs": [],
   "source": [
    "df.head()"
   ]
  },
  {
   "cell_type": "markdown",
   "metadata": {},
   "source": [
    "That's it! You've successfully loaded data using the Vortexa SDK. Check out https://vortechsa.github.io/python-sdk/ for more examples"
   ]
  }
 ],
 "metadata": {
  "kernelspec": {
   "display_name": "Python 3",
   "language": "python",
   "name": "python3"
  },
  "language_info": {
   "codemirror_mode": {
    "name": "ipython",
    "version": 3
   },
   "file_extension": ".py",
   "mimetype": "text/x-python",
   "name": "python",
   "nbconvert_exporter": "python",
   "pygments_lexer": "ipython3",
   "version": "3.9.13"
  }
 },
 "nbformat": 4,
 "nbformat_minor": 4
}

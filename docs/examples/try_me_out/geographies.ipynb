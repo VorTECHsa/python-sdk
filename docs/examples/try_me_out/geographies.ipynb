{
 "cells": [
  {
   "cell_type": "markdown",
   "metadata": {},
   "source": [
    "### Try out the VortexaSDK"
   ]
  },
  {
   "cell_type": "markdown",
   "metadata": {},
   "source": [
    "First let's import our requirements"
   ]
  },
  {
   "cell_type": "code",
   "execution_count": null,
   "metadata": {
    "execution": {
     "iopub.execute_input": "2020-12-29T16:42:00.460293Z",
     "iopub.status.busy": "2020-12-29T16:42:00.459565Z",
     "iopub.status.idle": "2020-12-29T16:42:00.860770Z",
     "shell.execute_reply": "2020-12-29T16:42:00.861165Z"
    }
   },
   "outputs": [],
   "source": [
    "import vortexasdk as v"
   ]
  },
  {
   "cell_type": "markdown",
   "metadata": {},
   "source": [
    "You'll need to enter your Vortexa API key when prompted."
   ]
  },
  {
   "cell_type": "code",
   "execution_count": null,
   "metadata": {
    "execution": {
     "iopub.execute_input": "2020-12-29T16:42:00.865228Z",
     "iopub.status.busy": "2020-12-29T16:42:00.864461Z",
     "iopub.status.idle": "2020-12-29T16:42:02.018911Z",
     "shell.execute_reply": "2020-12-29T16:42:02.019551Z"
    }
   },
   "outputs": [],
   "source": [
    "# Let's load some sample geographies with 'Portsmouth' in the name.\n",
    "geographies = v.Geographies().search(\"Portsmouth\").to_df()"
   ]
  },
  {
   "cell_type": "code",
   "execution_count": null,
   "metadata": {
    "execution": {
     "iopub.execute_input": "2020-12-29T16:42:02.030060Z",
     "iopub.status.busy": "2020-12-29T16:42:02.029075Z",
     "iopub.status.idle": "2020-12-29T16:42:02.040041Z",
     "shell.execute_reply": "2020-12-29T16:42:02.040649Z"
    }
   },
   "outputs": [],
   "source": [
    "geographies.head()"
   ]
  },
  {
   "cell_type": "markdown",
   "metadata": {},
   "source": [
    "That's it! You've successfully loaded data using the Vortexa SDK. Check out https://vortechsa.github.io/python-sdk/ for more examples"
   ]
  }
 ],
 "metadata": {
  "kernelspec": {
   "display_name": "Python 3",
   "language": "python",
   "name": "python3"
  },
  "language_info": {
   "codemirror_mode": {
    "name": "ipython",
    "version": 3
   },
   "file_extension": ".py",
   "mimetype": "text/x-python",
   "name": "python",
   "nbconvert_exporter": "python",
   "pygments_lexer": "ipython3",
   "version": "3.7.9"
  }
 },
 "nbformat": 4,
 "nbformat_minor": 4
}

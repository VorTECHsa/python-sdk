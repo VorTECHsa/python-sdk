{
 "cells": [
  {
   "cell_type": "markdown",
   "metadata": {},
   "source": [
    "### Try out the VortexaSDK"
   ]
  },
  {
   "cell_type": "markdown",
   "metadata": {},
   "source": [
    "First let's import our requirements"
   ]
  },
  {
   "cell_type": "code",
   "execution_count": null,
   "metadata": {
    "execution": {
     "iopub.execute_input": "2021-07-12T13:21:55.498403Z",
     "iopub.status.busy": "2021-07-12T13:21:55.497566Z",
     "iopub.status.idle": "2021-07-12T13:21:55.953393Z",
     "shell.execute_reply": "2021-07-12T13:21:55.953872Z"
    },
    "tags": []
   },
   "outputs": [],
   "source": [
    "import vortexasdk as v"
   ]
  },
  {
   "cell_type": "markdown",
   "metadata": {},
   "source": [
    "Breakdown of number and DWT of all vessels arriving at Singapore in the next 5 days."
   ]
  },
  {
   "cell_type": "markdown",
   "metadata": {},
   "source": [
    "You'll need to enter your Vortexa API key when prompted."
   ]
  },
  {
   "cell_type": "code",
   "execution_count": null,
   "metadata": {
    "execution": {
     "iopub.execute_input": "2021-07-12T13:21:55.958286Z",
     "iopub.status.busy": "2021-07-12T13:21:55.957630Z",
     "iopub.status.idle": "2021-07-12T13:21:56.786480Z",
     "shell.execute_reply": "2021-07-12T13:21:56.787143Z"
    },
    "tags": []
   },
   "outputs": [],
   "source": [
    "df = (\n",
    "    v.VesselAvailabilityBreakdown()\n",
    "    .search(\n",
    "        filter_port=\"1b79e18416d358d7e07b978abcab3f17e2ca75085a6d70ce1811cf4eaeaea886\",\n",
    "        filter_days_to_arrival={\"min\": 0, \"max\": 5},\n",
    "    )\n",
    "    .to_df()\n",
    ")"
   ]
  },
  {
   "cell_type": "code",
   "execution_count": null,
   "metadata": {
    "execution": {
     "iopub.execute_input": "2021-07-12T13:21:56.795847Z",
     "iopub.status.busy": "2021-07-12T13:21:56.795241Z",
     "iopub.status.idle": "2021-07-12T13:21:56.802829Z",
     "shell.execute_reply": "2021-07-12T13:21:56.803253Z"
    },
    "tags": []
   },
   "outputs": [],
   "source": [
    "df.head()"
   ]
  },
  {
   "cell_type": "markdown",
   "metadata": {},
   "source": [
    "That's it! You've successfully loaded data using the Vortexa SDK. Check out https://vortechsa.github.io/python-sdk/ for more examples"
   ]
  }
 ],
 "metadata": {
  "interpreter": {
   "hash": "d0a480ee27f8d5367d468be4cf8e618aff62fff37975ed624adc4f23b43958cc"
  },
  "kernelspec": {
   "display_name": "Python 3.7.6 64-bit ('base': conda)",
   "name": "python3"
  },
  "language_info": {
   "codemirror_mode": {
    "name": "ipython",
    "version": 3
   },
   "file_extension": ".py",
   "mimetype": "text/x-python",
   "name": "python",
   "nbconvert_exporter": "python",
   "pygments_lexer": "ipython3",
   "version": "3.7.6"
  }
 },
 "nbformat": 4,
 "nbformat_minor": 4
}

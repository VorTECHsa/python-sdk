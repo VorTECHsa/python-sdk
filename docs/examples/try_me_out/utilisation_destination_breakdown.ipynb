{
 "cells": [
  {
   "cell_type": "markdown",
   "metadata": {},
   "source": [
    "### Try out the VortexaSDK"
   ]
  },
  {
   "cell_type": "markdown",
   "metadata": {},
   "source": [
    "First let's import our requirements"
   ]
  },
  {
   "cell_type": "code",
   "execution_count": null,
   "metadata": {
    "execution": {
     "iopub.execute_input": "2021-07-12T13:35:38.190786Z",
     "iopub.status.busy": "2021-07-12T13:35:38.189979Z",
     "iopub.status.idle": "2021-07-12T13:35:38.629297Z",
     "shell.execute_reply": "2021-07-12T13:35:38.629717Z"
    },
    "tags": []
   },
   "outputs": [],
   "source": [
    "from datetime import datetime\n",
    "import vortexasdk as v"
   ]
  },
  {
   "cell_type": "markdown",
   "metadata": {},
   "source": [
    "Top 5 countries by number of unique vessels by destination region breakdown, in the last quarter."
   ]
  },
  {
   "cell_type": "markdown",
   "metadata": {},
   "source": [
    "You'll need to enter your Vortexa API key when prompted."
   ]
  },
  {
   "cell_type": "code",
   "execution_count": null,
   "metadata": {
    "execution": {
     "iopub.execute_input": "2021-07-12T13:35:38.634306Z",
     "iopub.status.busy": "2021-07-12T13:35:38.633685Z",
     "iopub.status.idle": "2021-07-12T13:35:52.414629Z",
     "shell.execute_reply": "2021-07-12T13:35:52.415196Z"
    },
    "tags": []
   },
   "outputs": [],
   "source": [
    "df = v.FleetUtilisationDestinationBreakdown().search(\n",
    "    breakdown_size=5,\n",
    "    breakdown_geography=\"region\",\n",
    "    filter_time_min=datetime(2020,10,18),\n",
    "    filter_time_max=datetime(2021,1,18,23,59)\n",
    ").to_df()"
   ]
  },
  {
   "cell_type": "code",
   "execution_count": null,
   "metadata": {
    "execution": {
     "iopub.execute_input": "2021-07-12T13:35:52.423804Z",
     "iopub.status.busy": "2021-07-12T13:35:52.423227Z",
     "iopub.status.idle": "2021-07-12T13:35:52.430441Z",
     "shell.execute_reply": "2021-07-12T13:35:52.430845Z"
    },
    "tags": []
   },
   "outputs": [],
   "source": [
    "df.head()"
   ]
  },
  {
   "cell_type": "markdown",
   "metadata": {},
   "source": [
    "That's it! You've successfully loaded data using the Vortexa SDK. Check out https://vortechsa.github.io/python-sdk/ for more examples"
   ]
  }
 ],
 "metadata": {
  "interpreter": {
   "hash": "d0a480ee27f8d5367d468be4cf8e618aff62fff37975ed624adc4f23b43958cc"
  },
  "kernelspec": {
   "display_name": "Python 3.7.6 64-bit ('base': conda)",
   "name": "python3"
  },
  "language_info": {
   "codemirror_mode": {
    "name": "ipython",
    "version": 3
   },
   "file_extension": ".py",
   "mimetype": "text/x-python",
   "name": "python",
   "nbconvert_exporter": "python",
   "pygments_lexer": "ipython3",
   "version": "3.7.6"
  }
 },
 "nbformat": 4,
 "nbformat_minor": 4
}

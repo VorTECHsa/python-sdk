{
 "cells": [
  {
   "cell_type": "markdown",
   "metadata": {},
   "source": [
    "### Try out the VortexaSDK"
   ]
  },
  {
   "cell_type": "markdown",
   "metadata": {},
   "source": [
    "First let's import our requirements"
   ]
  },
  {
   "cell_type": "code",
   "execution_count": null,
   "metadata": {
    "execution": {
     "iopub.execute_input": "2020-12-29T16:42:11.927414Z",
     "iopub.status.busy": "2020-12-29T16:42:11.926692Z",
     "iopub.status.idle": "2020-12-29T16:42:12.355913Z",
     "shell.execute_reply": "2020-12-29T16:42:12.356392Z"
    }
   },
   "outputs": [],
   "source": [
    "import vortexasdk as v"
   ]
  },
  {
   "cell_type": "markdown",
   "metadata": {},
   "source": [
    "You'll need to enter your Vortexa API key when prompted."
   ]
  },
  {
   "cell_type": "code",
   "execution_count": null,
   "metadata": {
    "execution": {
     "iopub.execute_input": "2020-12-29T16:42:12.360255Z",
     "iopub.status.busy": "2020-12-29T16:42:12.359593Z",
     "iopub.status.idle": "2020-12-29T16:42:13.517351Z",
     "shell.execute_reply": "2020-12-29T16:42:13.518050Z"
    }
   },
   "outputs": [],
   "source": [
    "# Let's load some sample geographies with 'Ocean' in the name.\n",
    "vessels = v.Vessels().search(\"Ocean\").to_df()"
   ]
  },
  {
   "cell_type": "code",
   "execution_count": null,
   "metadata": {
    "execution": {
     "iopub.execute_input": "2020-12-29T16:42:13.527868Z",
     "iopub.status.busy": "2020-12-29T16:42:13.527239Z",
     "iopub.status.idle": "2020-12-29T16:42:13.537019Z",
     "shell.execute_reply": "2020-12-29T16:42:13.537470Z"
    }
   },
   "outputs": [],
   "source": [
    "vessels.head()"
   ]
  },
  {
   "cell_type": "markdown",
   "metadata": {},
   "source": [
    "That's it! You've successfully loaded data using the Vortexa SDK. Check out https://vortechsa.github.io/python-sdk/ for more examples"
   ]
  }
 ],
 "metadata": {
  "kernelspec": {
   "display_name": "Python 3",
   "language": "python",
   "name": "python3"
  },
  "language_info": {
   "codemirror_mode": {
    "name": "ipython",
    "version": 3
   },
   "file_extension": ".py",
   "mimetype": "text/x-python",
   "name": "python",
   "nbconvert_exporter": "python",
   "pygments_lexer": "ipython3",
   "version": "3.7.9"
  }
 },
 "nbformat": 4,
 "nbformat_minor": 4
}

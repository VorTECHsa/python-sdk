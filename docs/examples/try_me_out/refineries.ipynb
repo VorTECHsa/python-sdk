{
 "cells": [
  {
   "cell_type": "markdown",
   "metadata": {},
   "source": [
    "### Try out the VortexaSDK"
   ]
  },
  {
   "cell_type": "markdown",
   "metadata": {},
   "source": [
    "First let's import our requirements"
   ]
  },
  {
   "cell_type": "code",
   "execution_count": null,
   "metadata": {
    "execution": {
     "iopub.execute_input": "2025-04-15T16:44:22.290733Z",
     "iopub.status.busy": "2025-04-15T16:44:22.290652Z",
     "iopub.status.idle": "2025-04-15T16:44:22.499767Z",
     "shell.execute_reply": "2025-04-15T16:44:22.499473Z"
    }
   },
   "outputs": [],
   "source": [
    "from vortexasdk import Refineries"
   ]
  },
  {
   "cell_type": "markdown",
   "metadata": {},
   "source": [
    "You'll need to enter your Vortexa API key when prompted."
   ]
  },
  {
   "cell_type": "code",
   "execution_count": null,
   "metadata": {
    "execution": {
     "iopub.execute_input": "2025-04-15T16:44:22.501167Z",
     "iopub.status.busy": "2025-04-15T16:44:22.501075Z",
     "iopub.status.idle": "2025-04-15T16:44:22.806537Z",
     "shell.execute_reply": "2025-04-15T16:44:22.805804Z"
    }
   },
   "outputs": [],
   "source": [
    "refineries = Refineries().search(\"San\").to_df()"
   ]
  },
  {
   "cell_type": "code",
   "execution_count": null,
   "metadata": {
    "execution": {
     "iopub.execute_input": "2025-04-15T16:44:22.810596Z",
     "iopub.status.busy": "2025-04-15T16:44:22.810152Z",
     "iopub.status.idle": "2025-04-15T16:44:22.819940Z",
     "shell.execute_reply": "2025-04-15T16:44:22.819526Z"
    }
   },
   "outputs": [],
   "source": [
    "refineries.head()"
   ]
  },
  {
   "cell_type": "markdown",
   "metadata": {},
   "source": [
    "That's it! You've successfully loaded data using the Vortexa SDK. Check out https://vortechsa.github.io/python-sdk/ for more examples"
   ]
  }
 ],
 "metadata": {
  "kernelspec": {
   "display_name": "venv",
   "language": "python",
   "name": "python3"
  },
  "language_info": {
   "codemirror_mode": {
    "name": "ipython",
    "version": 3
   },
   "file_extension": ".py",
   "mimetype": "text/x-python",
   "name": "python",
   "nbconvert_exporter": "python",
   "pygments_lexer": "ipython3",
   "version": "3.11.11"
  }
 },
 "nbformat": 4,
 "nbformat_minor": 4
}

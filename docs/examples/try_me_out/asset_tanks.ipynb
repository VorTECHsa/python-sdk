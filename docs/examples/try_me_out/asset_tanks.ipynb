{
 "cells": [
  {
   "cell_type": "markdown",
   "metadata": {},
   "source": [
    "### Try out the Vortexa SDK"
   ]
  },
  {
   "cell_type": "markdown",
   "metadata": {},
   "source": [
    "First, let's import our requirements"
   ]
  },
  {
   "cell_type": "code",
   "execution_count": null,
   "metadata": {
    "execution": {
     "iopub.execute_input": "2021-09-10T10:42:31.332155Z",
     "iopub.status.busy": "2021-09-10T10:42:31.331162Z",
     "iopub.status.idle": "2021-09-10T10:42:31.872970Z",
     "shell.execute_reply": "2021-09-10T10:42:31.873372Z"
    }
   },
   "outputs": [],
   "source": [
    "from datetime import datetime\n",
    "from vortexasdk import AssetTanks"
   ]
  },
  {
   "cell_type": "markdown",
   "metadata": {},
   "source": [
    "You'll need to enter your Vortexa API key when prompted"
   ]
  },
  {
   "cell_type": "code",
   "execution_count": null,
   "metadata": {
    "execution": {
     "iopub.execute_input": "2021-09-10T10:42:31.878151Z",
     "iopub.status.busy": "2021-09-10T10:42:31.877257Z",
     "iopub.status.idle": "2021-09-10T10:42:35.529621Z",
     "shell.execute_reply": "2021-09-10T10:42:35.530132Z"
    }
   },
   "outputs": [],
   "source": [
    "df = AssetTanks().load_all().to_df()\n",
    "df.head()"
   ]
  },
  {
   "cell_type": "markdown",
   "metadata": {},
   "source": [
    "That's it! You've successfully loaded data using the Vortexa SDK and should see a list of results. Check out https://vortechsa.github.io/python-sdk/ for more examples"
   ]
  }
 ],
 "metadata": {
  "language_info": {
   "codemirror_mode": {
    "name": "ipython",
    "version": 3
   },
   "file_extension": ".py",
   "mimetype": "text/x-python",
   "name": "python",
   "nbconvert_exporter": "python",
   "pygments_lexer": "ipython3",
   "version": "3.8.11"
  }
 },
 "nbformat": 4,
 "nbformat_minor": 2
}

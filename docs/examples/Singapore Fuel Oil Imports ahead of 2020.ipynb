{
 "cells": [
  {
   "cell_type": "code",
   "execution_count": 144,
   "metadata": {},
   "outputs": [],
   "source": [
    "from datetime import datetime\n",
    "\n",
    "import pandas as pd\n",
    "\n",
    "from vortexasdk import CargoMovements, Geographies, Products"
   ]
  },
  {
   "cell_type": "code",
   "execution_count": 145,
   "metadata": {},
   "outputs": [
    {
     "name": "stdout",
     "output_type": "stream",
     "text": [
      "2020-01-21 08:37:23,295 vortexasdk.operations — INFO — Searching Geographies with params: {'term': ['singapore']}\n",
      "2020-01-21 08:37:23,414 vortexasdk.client — INFO — 24 Results to retreive. Sending 1 post requests in parallel using 6 threads.\n"
     ]
    }
   ],
   "source": [
    "singapore = [\n",
    "    g.id\n",
    "    for g in Geographies().search(term=\"singapore\").to_list()\n",
    "    if \"port\" in g.layer\n",
    "]"
   ]
  },
  {
   "cell_type": "code",
   "execution_count": 146,
   "metadata": {},
   "outputs": [
    {
     "name": "stdout",
     "output_type": "stream",
     "text": [
      "2020-01-21 08:37:24,251 vortexasdk.operations — INFO — Searching Products with params: {'term': ['fuel oil'], 'ids': [], 'product_parent': [], 'allowTopLevelProducts': True}\n",
      "2020-01-21 08:37:24,364 vortexasdk.client — INFO — 1 Results to retreive. Sending 1 post requests in parallel using 6 threads.\n"
     ]
    }
   ],
   "source": [
    "fuel_oil = [p.id for p in Products().search(term=\"fuel oil\").to_list()]"
   ]
  },
  {
   "cell_type": "code",
   "execution_count": 147,
   "metadata": {},
   "outputs": [
    {
     "name": "stdout",
     "output_type": "stream",
     "text": [
      "2020-01-21 08:37:24,697 vortexasdk.operations — INFO — Searching CargoMovements with params: {'filter_activity': 'unloading_state', 'filter_time_min': '2019-01-01T00:00:00.000Z', 'filter_time_max': '2019-12-31T00:00:00.000Z', 'cm_unit': 'b', 'size': 500, 'filter_charterers': [], 'filter_owners': [], 'filter_products': ['1c107b4317bc2c85fb6c13cd7b28e8e0a02ec7fecc68afc2b68ca0545c835e1c'], 'filter_vessels': [], 'filter_destinations': ['1b79e18416d358d7e07b978abcab3f17e2ca75085a6d70ce1811cf4eaeaea886'], 'filter_origins': [], 'filter_storage_locations': [], 'filter_ship_to_ship_locations': [], 'filter_waypoints': [], 'disable_geographic_exclusion_rules': None}\n"
     ]
    },
    {
     "name": "stderr",
     "output_type": "stream",
     "text": [
      "\r\n",
      "Loading from API:   0%|          | 0/1574 [00:00<?, ?it/s]"
     ]
    },
    {
     "name": "stdout",
     "output_type": "stream",
     "text": [
      "2020-01-21 08:37:26,202 vortexasdk.client — INFO — 1574 Results to retreive. Sending 4 post requests in parallel using 6 threads.\n"
     ]
    },
    {
     "name": "stderr",
     "output_type": "stream",
     "text": [
      "Loading from API: 2000it [00:02, 878.83it/s]              \n"
     ]
    }
   ],
   "source": [
    "df = (\n",
    "    CargoMovements()\n",
    "    .search(\n",
    "        filter_activity=\"unloading_state\",\n",
    "        filter_destinations=singapore,\n",
    "        filter_products=fuel_oil,\n",
    "        filter_time_min=datetime(2019, 1, 1),\n",
    "        filter_time_max=datetime(2019, 12, 31),\n",
    "    )\n",
    "    .to_df()\n",
    ")"
   ]
  },
  {
   "cell_type": "code",
   "execution_count": 148,
   "metadata": {},
   "outputs": [],
   "source": [
    "timestamp_col = \"events.cargo_port_unload_event.0.start_timestamp\"\n",
    "df[\"month\"] = pd.to_datetime(df[timestamp_col]).dt.month"
   ]
  },
  {
   "cell_type": "code",
   "execution_count": 149,
   "metadata": {},
   "outputs": [
    {
     "data": {
      "text/plain": [
       "<matplotlib.axes._subplots.AxesSubplot at 0x11d6bf650>"
      ]
     },
     "execution_count": 149,
     "metadata": {},
     "output_type": "execute_result"
    },
    {
     "data": {
      "image/png": "[encoded data removed]",
      "text/plain": [
       "<Figure size 1080x360 with 1 Axes>"
      ]
     },
     "metadata": {
      "needs_background": "light"
     },
     "output_type": "display_data"
    }
   ],
   "source": [
    "monthly_aggregate = df.groupby(by=\"month\")[\"quantity\"].sum()\n",
    "\n",
    "monthly_aggregate.plot(\n",
    "    title=\"Singapore Fuel Oil Imports ahead of IMO 2020\",\n",
    "    ylim=(0, 3.5e7),\n",
    "    figsize=(15, 5),\n",
    ")"
   ]
  }
 ],
 "metadata": {
  "kernelspec": {
   "display_name": "python-sdk",
   "language": "python",
   "name": "python-sdk"
  },
  "language_info": {
   "codemirror_mode": {
    "name": "ipython",
    "version": 3
   },
   "file_extension": ".py",
   "mimetype": "text/x-python",
   "name": "python",
   "nbconvert_exporter": "python",
   "pygments_lexer": "ipython3",
   "version": "3.7.5"
  }
 },
 "nbformat": 4,
 "nbformat_minor": 4
}
